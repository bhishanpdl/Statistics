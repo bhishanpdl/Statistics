{
 "cells": [
  {
   "cell_type": "markdown",
   "metadata": {
    "toc": true
   },
   "source": [
    "<h1>Table of Contents<span class=\"tocSkip\"></span></h1>\n",
    "<div class=\"toc\"><ul class=\"toc-item\"><li><span><a href=\"#Probability-Distribution-Questions\" data-toc-modified-id=\"Probability-Distribution-Questions-1\"><span class=\"toc-item-num\">1&nbsp;&nbsp;</span>Probability Distribution Questions</a></span></li><li><span><a href=\"#Normal-Distribution\" data-toc-modified-id=\"Normal-Distribution-2\"><span class=\"toc-item-num\">2&nbsp;&nbsp;</span>Normal Distribution</a></span><ul class=\"toc-item\"><li><span><a href=\"#Qn1\" data-toc-modified-id=\"Qn1-2.1\"><span class=\"toc-item-num\">2.1&nbsp;&nbsp;</span>Qn1</a></span></li><li><span><a href=\"#Qn2\" data-toc-modified-id=\"Qn2-2.2\"><span class=\"toc-item-num\">2.2&nbsp;&nbsp;</span>Qn2</a></span></li></ul></li><li><span><a href=\"#Student's-T-distribution\" data-toc-modified-id=\"Student's-T-distribution-3\"><span class=\"toc-item-num\">3&nbsp;&nbsp;</span>Student's T-distribution</a></span><ul class=\"toc-item\"><li><span><a href=\"#Qn-1\" data-toc-modified-id=\"Qn-1-3.1\"><span class=\"toc-item-num\">3.1&nbsp;&nbsp;</span>Qn 1</a></span></li><li><span><a href=\"#Qn-2\" data-toc-modified-id=\"Qn-2-3.2\"><span class=\"toc-item-num\">3.2&nbsp;&nbsp;</span>Qn 2</a></span></li></ul></li><li><span><a href=\"#Binomial-Distribution\" data-toc-modified-id=\"Binomial-Distribution-4\"><span class=\"toc-item-num\">4&nbsp;&nbsp;</span>Binomial Distribution</a></span><ul class=\"toc-item\"><li><span><a href=\"#Qn1\" data-toc-modified-id=\"Qn1-4.1\"><span class=\"toc-item-num\">4.1&nbsp;&nbsp;</span>Qn1</a></span></li><li><span><a href=\"#Qn2\" data-toc-modified-id=\"Qn2-4.2\"><span class=\"toc-item-num\">4.2&nbsp;&nbsp;</span>Qn2</a></span></li></ul></li><li><span><a href=\"#Poisson-Distribution\" data-toc-modified-id=\"Poisson-Distribution-5\"><span class=\"toc-item-num\">5&nbsp;&nbsp;</span>Poisson Distribution</a></span><ul class=\"toc-item\"><li><span><a href=\"#Qn1\" data-toc-modified-id=\"Qn1-5.1\"><span class=\"toc-item-num\">5.1&nbsp;&nbsp;</span>Qn1</a></span></li><li><span><a href=\"#Qn2\" data-toc-modified-id=\"Qn2-5.2\"><span class=\"toc-item-num\">5.2&nbsp;&nbsp;</span>Qn2</a></span></li><li><span><a href=\"#Poisson-confidence-interval-Qn3\" data-toc-modified-id=\"Poisson-confidence-interval-Qn3-5.3\"><span class=\"toc-item-num\">5.3&nbsp;&nbsp;</span>Poisson confidence interval Qn3</a></span></li></ul></li><li><span><a href=\"#Chi-square-Distribution\" data-toc-modified-id=\"Chi-square-Distribution-6\"><span class=\"toc-item-num\">6&nbsp;&nbsp;</span>Chi-square Distribution</a></span></li></ul></div>"
   ]
  },
  {
   "cell_type": "markdown",
   "metadata": {},
   "source": [
    "# Probability Distribution Questions\n",
    "\n",
    "- https://towardsdatascience.com/40-statistics-interview-problems-and-answers-for-data-scientists-6971a02b7eee\n",
    "\n",
    "\n"
   ]
  },
  {
   "cell_type": "code",
   "execution_count": 1,
   "metadata": {
    "ExecuteTime": {
     "end_time": "2021-03-09T22:04:50.259032Z",
     "start_time": "2021-03-09T22:04:49.372130Z"
    }
   },
   "outputs": [
    {
     "name": "stderr",
     "output_type": "stream",
     "text": [
      "/Users/poudel/opt/miniconda3/envs/dataSc/lib/python3.7/importlib/_bootstrap.py:219: RuntimeWarning: numpy.ufunc size changed, may indicate binary incompatibility. Expected 192 from C header, got 216 from PyObject\n",
      "  return f(*args, **kwds)\n",
      "/Users/poudel/opt/miniconda3/envs/dataSc/lib/python3.7/importlib/_bootstrap.py:219: RuntimeWarning: numpy.ufunc size changed, may indicate binary incompatibility. Expected 192 from C header, got 216 from PyObject\n",
      "  return f(*args, **kwds)\n",
      "/Users/poudel/opt/miniconda3/envs/dataSc/lib/python3.7/importlib/_bootstrap.py:219: RuntimeWarning: numpy.ufunc size changed, may indicate binary incompatibility. Expected 192 from C header, got 216 from PyObject\n",
      "  return f(*args, **kwds)\n"
     ]
    }
   ],
   "source": [
    "import numpy as np\n",
    "import pandas as pd\n",
    "from scipy import stats\n",
    "\n",
    "import scipy.special as ssp"
   ]
  },
  {
   "cell_type": "markdown",
   "metadata": {},
   "source": [
    "# Normal Distribution\n",
    "\n",
    "- https://docs.scipy.org/doc/scipy/reference/generated/scipy.stats.norm.html\n",
    "\n",
    "\n",
    "![](images/norm.png)\n",
    "![](images/gaussian.png)"
   ]
  },
  {
   "cell_type": "markdown",
   "metadata": {},
   "source": [
    "## Qn1\n",
    "\n",
    "A random variable X is normal with mean 1020 and a standard deviation 50. Calculate `P(X>1200)`.\n",
    "\n",
    "\n",
    "```\n",
    "Using Excel…\n",
    "p =1-norm.dist(1200, 1020, 50, true)\n",
    "p= 0.000159\n",
    "\n",
    "```"
   ]
  },
  {
   "cell_type": "code",
   "execution_count": 11,
   "metadata": {
    "ExecuteTime": {
     "end_time": "2021-03-09T22:25:40.287664Z",
     "start_time": "2021-03-09T22:25:40.281792Z"
    }
   },
   "outputs": [
    {
     "name": "stdout",
     "output_type": "stream",
     "text": [
      "pval = 0.000159\n"
     ]
    }
   ],
   "source": [
    "x = 1200\n",
    "mean = 1020\n",
    "std = 50\n",
    "\n",
    "pval = 1 - stats.norm.cdf(x=x,loc=mean,scale=std)\n",
    "\n",
    "print(f'pval = {pval:.6f}')"
   ]
  },
  {
   "cell_type": "markdown",
   "metadata": {},
   "source": [
    "## Qn2\n",
    "\n",
    "Suppose that diastolic blood pressures (DBPs) for men aged 35–44 are normally distributed with a mean of 80 (mm Hg) and a standard deviation of 10. About what is the probability that a random 35–44 year old has a DBP less than 70?\n",
    "\n",
    "\n",
    "![](images/gaussian_sigmas.png)\n",
    "![](images/68_95_997.png)"
   ]
  },
  {
   "cell_type": "markdown",
   "metadata": {},
   "source": [
    "Answer:\n",
    "\n",
    "Since 70 is one standard deviation below the mean, take the area of the Gaussian distribution to the left of one standard deviation\n",
    "= 50 - 34.1 = 15.9%\n",
    "\n",
    "\n",
    "Aliter:\n",
    "From 68-95-99.7 rule,\n",
    " area between 0 and 1 sigma = 68/2 = 34\n",
    " for one half, the remaining area = 50 - 34 = 16%.\n",
    " \n",
    " \n",
    "therefore, P(DBP < 70) = 16%\n",
    "\n",
    "\n",
    "** 68-95-99.7 rule in Statistics**"
   ]
  },
  {
   "cell_type": "code",
   "execution_count": 28,
   "metadata": {
    "ExecuteTime": {
     "end_time": "2021-03-10T02:08:12.253523Z",
     "start_time": "2021-03-10T02:08:12.246874Z"
    }
   },
   "outputs": [
    {
     "name": "stdout",
     "output_type": "stream",
     "text": [
      "Fraction of values within 1 sigma = 68.27%\n",
      "Fraction of values within 2 sigma = 95.45%\n",
      "Fraction of values within 3 sigma = 99.73%\n"
     ]
    }
   ],
   "source": [
    "from scipy.stats import norm\n",
    "\n",
    "mean = 0\n",
    "sigma = 1\n",
    "\n",
    "# cdf differences\n",
    "sig1 = norm.cdf(sigma, mean, sigma) - norm.cdf(-sigma, mean, sigma)\n",
    "sig2 = norm.cdf(2 * sigma, mean, sigma) - norm.cdf(-2 * sigma, mean, sigma)\n",
    "sig3 = norm.cdf(3 * sigma, mean, sigma) - norm.cdf(-3 * sigma, mean, sigma)\n",
    "\n",
    "print(f\"Fraction of values within 1 sigma = {sig1*100:.2f}%\") # 68.27%\n",
    "print(f\"Fraction of values within 2 sigma = {sig2*100:.2f}%\") # 95.45%\n",
    "print(f\"Fraction of values within 3 sigma = {sig3*100:.2f}%\") # 99.73%"
   ]
  },
  {
   "cell_type": "code",
   "execution_count": 34,
   "metadata": {
    "ExecuteTime": {
     "end_time": "2021-03-10T02:10:51.463765Z",
     "start_time": "2021-03-10T02:10:51.459527Z"
    }
   },
   "outputs": [
    {
     "name": "stdout",
     "output_type": "stream",
     "text": [
      "area1 = 34.1%\n"
     ]
    }
   ],
   "source": [
    "area1 = sig1/2\n",
    "print(f'area1 = {area1*100:.1f}%')"
   ]
  },
  {
   "cell_type": "code",
   "execution_count": 35,
   "metadata": {
    "ExecuteTime": {
     "end_time": "2021-03-10T02:11:06.459421Z",
     "start_time": "2021-03-10T02:11:06.455488Z"
    }
   },
   "outputs": [
    {
     "name": "stdout",
     "output_type": "stream",
     "text": [
      "area2 = 13.6%\n"
     ]
    }
   ],
   "source": [
    "area2 = (sig2-sig1)/2\n",
    "print(f'area2 = {area2*100:.1f}%')"
   ]
  },
  {
   "cell_type": "markdown",
   "metadata": {},
   "source": [
    "# Student's T-distribution\n",
    "\n",
    "![](images/t.png)"
   ]
  },
  {
   "cell_type": "code",
   "execution_count": null,
   "metadata": {},
   "outputs": [],
   "source": []
  },
  {
   "cell_type": "code",
   "execution_count": null,
   "metadata": {},
   "outputs": [],
   "source": []
  },
  {
   "cell_type": "markdown",
   "metadata": {},
   "source": [
    "## Qn 1 \n",
    "\n",
    "- https://www.statology.org/how-to-find-the-t-critical-value-in-python/\n",
    "- https://docs.scipy.org/doc/scipy/reference/generated/scipy.stats.t.html\n",
    "\n",
    "In a population of interest, a sample of 9 men yielded a sample average brain volume of 1,100cc and a standard deviation of 30cc. What is a 95% Student’s T confidence interval for the mean brain volume in this new population?\n",
    "\n",
    "![](images/ci_for_t.png)\n",
    "\n",
    "Given a confidence level of 95% and degrees of freedom equal to 8, the t-score = 2.306\n",
    "\n",
    "```\n",
    "Confidence interval = 1100 +/- 2.306*(30/3)\n",
    "Confidence interval = [1076.94, 1123.06]\n",
    "```"
   ]
  },
  {
   "cell_type": "code",
   "execution_count": 42,
   "metadata": {
    "ExecuteTime": {
     "end_time": "2021-03-10T03:17:23.117872Z",
     "start_time": "2021-03-10T03:17:23.106831Z"
    }
   },
   "outputs": [
    {
     "data": {
      "text/plain": [
       "-1.8595480375228428"
      ]
     },
     "execution_count": 42,
     "metadata": {},
     "output_type": "execute_result"
    }
   ],
   "source": [
    "n = 9\n",
    "stats.t.ppf(q=.05,df=n-1) # one tailed"
   ]
  },
  {
   "cell_type": "code",
   "execution_count": 50,
   "metadata": {
    "ExecuteTime": {
     "end_time": "2021-03-10T03:26:18.111460Z",
     "start_time": "2021-03-10T03:26:18.104772Z"
    }
   },
   "outputs": [
    {
     "data": {
      "text/plain": [
       "[1076.94, 1123.06]"
      ]
     },
     "execution_count": 50,
     "metadata": {},
     "output_type": "execute_result"
    }
   ],
   "source": [
    "n = 9\n",
    "sm = 1100 # sample mean\n",
    "s = 30   # sample standard deviation (s^2 is sample variance)\n",
    "alpha = 0.05\n",
    "\n",
    "t_star = stats.t.ppf(q=1-alpha/2,df=n-1) # two tailed\n",
    "\n",
    "moe = t_star * sv / np.sqrt(n) # margin of error\n",
    "\n",
    "ci = [ round(sm - moe,2), round(sm+moe,2)]\n",
    "ci"
   ]
  },
  {
   "cell_type": "markdown",
   "metadata": {},
   "source": [
    "## Qn 2\n",
    "\n",
    "A diet pill is given to 9 subjects over six weeks. The average difference in weight (follow up — baseline) is -2 pounds. What would the standard deviation of the difference in weight have to be for the upper endpoint of the 95% T confidence interval to touch 0?\n",
    "\n",
    "\n",
    "Answer:\n",
    "\n",
    "```\n",
    "# s^2 = sample variance\n",
    "# n = sample size\n",
    "ci_upper = sample mean + margin of error\n",
    "ci_upper = mean + t_star * s/sqrt(n)  \n",
    "\n",
    "0 = m + t_star * s / sqrt(n)\n",
    "-m = t_star * s / sqrt(n)\n",
    "s = -m * sqrt(n) / t_star\n",
    "\n",
    "0 = -2 + 2.306*(s/3)\n",
    "2 = 2.306 * s / 3\n",
    "s = 2.601903\n",
    "Therefore the standard deviation would have to be at least approximately 2.60 for the upper bound of the 95% T confidence interval to touch 0.\n",
    "```"
   ]
  },
  {
   "cell_type": "code",
   "execution_count": 53,
   "metadata": {
    "ExecuteTime": {
     "end_time": "2021-03-10T03:39:26.601336Z",
     "start_time": "2021-03-10T03:39:26.594686Z"
    }
   },
   "outputs": [
    {
     "data": {
      "text/plain": [
       "2.6019034002786703"
      ]
     },
     "execution_count": 53,
     "metadata": {},
     "output_type": "execute_result"
    }
   ],
   "source": [
    "m = -2\n",
    "n = 9\n",
    "t_star = stats.t.ppf(q=1-0.05/2,df=n-1) # two tailed\n",
    "\n",
    "s = -m * np.sqrt(n) / t_star\n",
    "s"
   ]
  },
  {
   "cell_type": "code",
   "execution_count": null,
   "metadata": {},
   "outputs": [],
   "source": []
  },
  {
   "cell_type": "markdown",
   "metadata": {},
   "source": [
    "# Binomial Distribution\n",
    "\n",
    "![](images/binom.png)"
   ]
  },
  {
   "cell_type": "markdown",
   "metadata": {},
   "source": [
    "## Qn1\n",
    "\n",
    "You roll a biased coin (p(head)=0.8) five times. What’s the probability of getting three or more heads?\n",
    "\n",
    "```\n",
    "P(3 or more heads) = P(3 heads) + P(4 heads) + P(5 heads) = 0.94 or 94%\n",
    "```"
   ]
  },
  {
   "cell_type": "code",
   "execution_count": 3,
   "metadata": {
    "ExecuteTime": {
     "end_time": "2021-03-09T22:07:03.041755Z",
     "start_time": "2021-03-09T22:07:03.038668Z"
    }
   },
   "outputs": [],
   "source": [
    "p = 0.8\n",
    "n = 5\n",
    "k = 3 # 4,5"
   ]
  },
  {
   "cell_type": "code",
   "execution_count": 6,
   "metadata": {
    "ExecuteTime": {
     "end_time": "2021-03-09T22:10:43.656678Z",
     "start_time": "2021-03-09T22:10:43.649975Z"
    }
   },
   "outputs": [
    {
     "name": "stdout",
     "output_type": "stream",
     "text": [
      "0.9420799999999999\n"
     ]
    }
   ],
   "source": [
    "p3 = stats.binom.pmf(k=3,n=5,p=0.8)\n",
    "p4 = stats.binom.pmf(k=4,n=5,p=0.8)\n",
    "p5 = stats.binom.pmf(k=5,n=5,p=0.8)\n",
    "\n",
    "p = p3 + p4 + p5\n",
    "print(p)"
   ]
  },
  {
   "cell_type": "markdown",
   "metadata": {},
   "source": [
    "## Qn2\n",
    "\n",
    "- https://docs.scipy.org/doc/scipy/reference/generated/scipy.stats.binom_test.html\n",
    "    \n",
    "A car manufacturer claims that no more than 10% of their cars are unsafe. 15 cars are inspected for safety, 3 were found to be unsafe. Test the manufacturer’s claim:  "
   ]
  },
  {
   "cell_type": "code",
   "execution_count": 13,
   "metadata": {
    "ExecuteTime": {
     "end_time": "2021-03-09T23:36:33.903913Z",
     "start_time": "2021-03-09T23:36:33.891555Z"
    }
   },
   "outputs": [
    {
     "data": {
      "text/plain": [
       "0.18406106910639114"
      ]
     },
     "execution_count": 13,
     "metadata": {},
     "output_type": "execute_result"
    }
   ],
   "source": [
    "pval = stats.binom_test(3, n=15, p=0.1, alternative='greater')\n",
    "pval"
   ]
  },
  {
   "cell_type": "code",
   "execution_count": 14,
   "metadata": {
    "ExecuteTime": {
     "end_time": "2021-03-09T23:37:08.993578Z",
     "start_time": "2021-03-09T23:37:08.989508Z"
    }
   },
   "outputs": [],
   "source": [
    "\"\"\"\n",
    "The null hypothesis cannot be rejected at the 5%\n",
    "level of significance because the returned p-value\n",
    "is greater than the critical value of 5%.\n",
    "\n",
    "\"\"\";"
   ]
  },
  {
   "cell_type": "markdown",
   "metadata": {},
   "source": [
    "# Poisson Distribution\n",
    "\n",
    "- https://stats.stackexchange.com/questions/401754/determining-confidence-interval-with-one-observation-for-poisson-distribution\n",
    "\n",
    "![](images/poisson.png)\n",
    "\n",
    "![](images/poisson_ci.png)"
   ]
  },
  {
   "cell_type": "markdown",
   "metadata": {},
   "source": [
    "## Qn1\n",
    "\n",
    "Infection rates at a hospital above a 1 infection per 100 person-days at risk are considered high. A hospital had 10 infections over the last 1787 person-days at risk. Give the p-value of the correct one-sided test of whether the hospital is below the standard.\n",
    "\n",
    "```\n",
    "Null (H0): 1 infection per person-days\n",
    "Alternative (H1): >1 infection per person-days\n",
    "```"
   ]
  },
  {
   "cell_type": "code",
   "execution_count": 2,
   "metadata": {
    "ExecuteTime": {
     "end_time": "2021-03-09T22:05:41.813731Z",
     "start_time": "2021-03-09T22:05:41.803651Z"
    }
   },
   "outputs": [
    {
     "name": "stdout",
     "output_type": "stream",
     "text": [
      "0.032371526287371055\n"
     ]
    }
   ],
   "source": [
    "k = 10\n",
    "mu = 1/100 * 1787\n",
    "\n",
    "p = stats.poisson.cdf(k=k,mu=mu)\n",
    "print(p)"
   ]
  },
  {
   "cell_type": "markdown",
   "metadata": {},
   "source": [
    "## Qn2\n",
    "\n",
    "Consider the number of people that show up at a bus station is Poisson with mean 2.5/h. What is the probability that at most three people show up in a four hour period?\n",
    "\n",
    "```\n",
    "excel\n",
    "p = poisson.dist(3,10,true)\n",
    "p = 0.010336\n",
    "```"
   ]
  },
  {
   "cell_type": "code",
   "execution_count": 12,
   "metadata": {
    "ExecuteTime": {
     "end_time": "2021-03-09T22:28:07.650605Z",
     "start_time": "2021-03-09T22:28:07.642455Z"
    }
   },
   "outputs": [
    {
     "data": {
      "text/plain": [
       "0.010336050675925726"
      ]
     },
     "execution_count": 12,
     "metadata": {},
     "output_type": "execute_result"
    }
   ],
   "source": [
    "k = 3\n",
    "mu = 2.5 * 4 # mu\n",
    "\n",
    "p = stats.poisson.cdf(k=k,mu=mu)\n",
    "p"
   ]
  },
  {
   "cell_type": "markdown",
   "metadata": {},
   "source": [
    "## Poisson confidence interval Qn3\n",
    "\n",
    "The homicide rate in Scotland fell last year to 99 from 115 the year before. Is this reported change really noteworthy?\n",
    "\n",
    "\n",
    "- Since this is a Poisson distribution question, mean = lambda = variance, which also means that standard deviation = square root of the mean\n",
    "- a 95% confidence interval implies a z score of 1.96\n",
    "- one standard deviation = sqrt(115) = 10.724\n",
    "\n",
    "\n",
    "Therefore the confidence interval = 115+/- 21.45 = [93.55, 136.45]. Since 99 is within this confidence interval, we can assume that this change is not very noteworthy."
   ]
  },
  {
   "cell_type": "code",
   "execution_count": 17,
   "metadata": {
    "ExecuteTime": {
     "end_time": "2021-03-10T01:19:53.299495Z",
     "start_time": "2021-03-10T01:19:53.292679Z"
    }
   },
   "outputs": [
    {
     "data": {
      "text/plain": [
       "[93.98134162226333, 136.01865837773667]"
      ]
     },
     "execution_count": 17,
     "metadata": {},
     "output_type": "execute_result"
    }
   ],
   "source": [
    "# look at last years data\n",
    "lam = 115\n",
    "z_star = 1.96 # for 95% confidence level.\n",
    "\n",
    "ci_lo = lam - z_star * np.sqrt(lam)\n",
    "ci_hi = lam + z_star * np.sqrt(lam)\n",
    "\n",
    "ci = [ci_lo, ci_hi]\n",
    "ci"
   ]
  },
  {
   "cell_type": "code",
   "execution_count": null,
   "metadata": {},
   "outputs": [],
   "source": []
  },
  {
   "cell_type": "code",
   "execution_count": null,
   "metadata": {},
   "outputs": [],
   "source": []
  },
  {
   "cell_type": "markdown",
   "metadata": {},
   "source": [
    "# Chi-square Distribution\n",
    "\n",
    "![](images/chi.png)\n",
    "![](images/chisq.png)\n",
    "![](images/chisquare.png)"
   ]
  },
  {
   "cell_type": "code",
   "execution_count": null,
   "metadata": {},
   "outputs": [],
   "source": []
  },
  {
   "cell_type": "code",
   "execution_count": null,
   "metadata": {},
   "outputs": [],
   "source": []
  }
 ],
 "metadata": {
  "kernelspec": {
   "display_name": "Python (dataSc)",
   "language": "python",
   "name": "datasc"
  },
  "language_info": {
   "codemirror_mode": {
    "name": "ipython",
    "version": 3
   },
   "file_extension": ".py",
   "mimetype": "text/x-python",
   "name": "python",
   "nbconvert_exporter": "python",
   "pygments_lexer": "ipython3",
   "version": "3.7.7"
  },
  "toc": {
   "base_numbering": 1,
   "nav_menu": {},
   "number_sections": true,
   "sideBar": true,
   "skip_h1_title": false,
   "title_cell": "Table of Contents",
   "title_sidebar": "Contents",
   "toc_cell": true,
   "toc_position": {},
   "toc_section_display": true,
   "toc_window_display": false
  }
 },
 "nbformat": 4,
 "nbformat_minor": 4
}
