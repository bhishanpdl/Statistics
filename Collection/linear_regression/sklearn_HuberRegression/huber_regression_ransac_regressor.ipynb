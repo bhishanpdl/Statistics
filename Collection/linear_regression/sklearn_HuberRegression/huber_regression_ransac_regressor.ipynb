{
 "cells": [
  {
   "cell_type": "markdown",
   "metadata": {
    "toc": true
   },
   "source": [
    "<h1>Table of Contents<span class=\"tocSkip\"></span></h1>\n",
    "<div class=\"toc\"><ul class=\"toc-item\"><li><span><a href=\"#Huber-Regressor\" data-toc-modified-id=\"Huber-Regressor-1\"><span class=\"toc-item-num\">1&nbsp;&nbsp;</span>Huber Regressor</a></span></li><li><span><a href=\"#RANSAC-Regressor-(best)\" data-toc-modified-id=\"RANSAC-Regressor-(best)-2\"><span class=\"toc-item-num\">2&nbsp;&nbsp;</span>RANSAC Regressor (best)</a></span></li></ul></div>"
   ]
  },
  {
   "cell_type": "markdown",
   "metadata": {},
   "source": [
    "# Huber Regressor\n",
    "Linear regression model that is robust to outliers.\n",
    "\n",
    "The Huber Regressor optimizes the squared loss for the samples where |(y - X'w) / sigma| < epsilon and the absolute loss for the samples where |(y - X'w) / sigma| > epsilon, where w and sigma are parameters to be optimized. The parameter sigma makes sure that if y is scaled up or down by a certain factor, one does not need to rescale epsilon to achieve the same robustness. Note that this does not take into account the fact that the different features of X may be of different scales.\n",
    "\n",
    "This makes sure that the loss function is not heavily influenced by the outliers while not completely ignoring their effect.\n",
    "\n"
   ]
  },
  {
   "cell_type": "code",
   "execution_count": 1,
   "metadata": {
    "ExecuteTime": {
     "end_time": "2019-06-22T22:16:09.265378Z",
     "start_time": "2019-06-22T22:16:08.070275Z"
    }
   },
   "outputs": [],
   "source": [
    "import numpy as np\n",
    "from sklearn.linear_model import HuberRegressor, LinearRegression, RANSACRegressor\n",
    "from sklearn.datasets import make_regression\n",
    "\n",
    "import matplotlib.pyplot as plt\n",
    "plt.rcParams[\"figure.figsize\"] = [10, 8]\n",
    "plt.style.use('fivethirtyeight')\n",
    "%matplotlib inline"
   ]
  },
  {
   "cell_type": "code",
   "execution_count": 2,
   "metadata": {
    "ExecuteTime": {
     "end_time": "2019-06-22T22:16:09.287849Z",
     "start_time": "2019-06-22T22:16:09.267168Z"
    }
   },
   "outputs": [
    {
     "data": {
      "text/plain": [
       "array([[15.48813504, 17.15189366],\n",
       "       [16.02763376, 15.44883183],\n",
       "       [14.23654799, 16.45894113],\n",
       "       [14.37587211, 18.91773001]])"
      ]
     },
     "execution_count": 2,
     "metadata": {},
     "output_type": "execute_result"
    }
   ],
   "source": [
    "rng = np.random.RandomState(0)\n",
    "\n",
    "X, y, coef = make_regression(\n",
    "    n_samples=200, n_features=2, noise=4.0, coef=True, random_state=0)\n",
    "\n",
    "X[:4] = rng.uniform(10, 20, (4, 2))\n",
    "y[:4] = rng.uniform(10, 20, 4)\n",
    "X[:4]"
   ]
  },
  {
   "cell_type": "code",
   "execution_count": 3,
   "metadata": {
    "ExecuteTime": {
     "end_time": "2019-06-22T22:16:09.321510Z",
     "start_time": "2019-06-22T22:16:09.294377Z"
    }
   },
   "outputs": [
    {
     "data": {
      "text/plain": [
       "array([19.63662761, 13.83441519, 17.91725038, 15.2889492 ])"
      ]
     },
     "execution_count": 3,
     "metadata": {},
     "output_type": "execute_result"
    }
   ],
   "source": [
    "y[:4]"
   ]
  },
  {
   "cell_type": "code",
   "execution_count": 4,
   "metadata": {
    "ExecuteTime": {
     "end_time": "2019-06-22T22:16:09.386080Z",
     "start_time": "2019-06-22T22:16:09.334405Z"
    }
   },
   "outputs": [
    {
     "data": {
      "text/plain": [
       "-7.284608623514573"
      ]
     },
     "execution_count": 4,
     "metadata": {},
     "output_type": "execute_result"
    }
   ],
   "source": [
    "huber = HuberRegressor().fit(X, y)\n",
    "huber.score(X, y) "
   ]
  },
  {
   "cell_type": "code",
   "execution_count": 5,
   "metadata": {
    "ExecuteTime": {
     "end_time": "2019-06-22T22:16:09.396246Z",
     "start_time": "2019-06-22T22:16:09.389045Z"
    }
   },
   "outputs": [
    {
     "data": {
      "text/plain": [
       "array([806.72000092])"
      ]
     },
     "execution_count": 5,
     "metadata": {},
     "output_type": "execute_result"
    }
   ],
   "source": [
    "huber.predict(X[:1,])"
   ]
  },
  {
   "cell_type": "code",
   "execution_count": 7,
   "metadata": {
    "ExecuteTime": {
     "end_time": "2019-06-22T22:16:34.378906Z",
     "start_time": "2019-06-22T22:16:34.360151Z"
    }
   },
   "outputs": [
    {
     "data": {
      "text/plain": [
       "-9.314258529562249"
      ]
     },
     "execution_count": 7,
     "metadata": {},
     "output_type": "execute_result"
    }
   ],
   "source": [
    "ransac = RANSACRegressor().fit(X,y)\n",
    "ransac.score(X,y)"
   ]
  },
  {
   "cell_type": "code",
   "execution_count": 9,
   "metadata": {
    "ExecuteTime": {
     "end_time": "2019-06-22T22:16:46.207869Z",
     "start_time": "2019-06-22T22:16:46.199209Z"
    }
   },
   "outputs": [
    {
     "name": "stdout",
     "output_type": "stream",
     "text": [
      "True coefficients: [20.4923687  34.16981149]\n",
      "Linear Regression coefficients: [-1.92210833  7.02266092]\n",
      "Huber coefficients: [17.79064252 31.01066091]\n",
      "RANSAC coefficients: [20.64730585 33.80386683]\n"
     ]
    }
   ],
   "source": [
    "linear = LinearRegression().fit(X, y)\n",
    "\n",
    "print(\"True coefficients:\", coef)\n",
    "print(\"Linear Regression coefficients:\", linear.coef_)\n",
    "print(\"Huber coefficients:\", huber.coef_)\n",
    "print(\"RANSAC coefficients:\", ransac.estimator_.coef_)\n"
   ]
  },
  {
   "cell_type": "markdown",
   "metadata": {},
   "source": [
    "# RANSAC Regressor (best)"
   ]
  },
  {
   "cell_type": "code",
   "execution_count": null,
   "metadata": {
    "ExecuteTime": {
     "end_time": "2019-06-22T22:16:09.577274Z",
     "start_time": "2019-06-22T22:16:07.884Z"
    }
   },
   "outputs": [],
   "source": [
    "import numpy as np\n",
    "from matplotlib import pyplot as plt\n",
    "\n",
    "from sklearn import linear_model, datasets\n",
    "\n",
    "\n",
    "n_samples = 1000\n",
    "n_outliers = 50\n",
    "\n",
    "\n",
    "X, y, coef = datasets.make_regression(n_samples=n_samples, n_features=1,\n",
    "                                      n_informative=1, noise=10,\n",
    "                                      coef=True, random_state=0)\n",
    "\n",
    "# Add outlier data\n",
    "np.random.seed(0)\n",
    "X[:n_outliers] = 3 + 0.5 * np.random.normal(size=(n_outliers, 1))\n",
    "y[:n_outliers] = -3 + 10 * np.random.normal(size=n_outliers)\n",
    "\n",
    "# Fit line using all data\n",
    "lr = linear_model.LinearRegression()\n",
    "lr.fit(X, y)\n",
    "\n",
    "# Robustly fit linear model with RANSAC algorithm\n",
    "ransac = linear_model.RANSACRegressor()\n",
    "ransac.fit(X, y)\n",
    "inlier_mask = ransac.inlier_mask_\n",
    "outlier_mask = np.logical_not(inlier_mask)\n",
    "\n",
    "# Predict data of estimated models\n",
    "line_X = np.arange(X.min(), X.max())[:, np.newaxis]\n",
    "line_y = lr.predict(line_X)\n",
    "line_y_ransac = ransac.predict(line_X)\n",
    "\n",
    "# Compare estimated coefficients\n",
    "print(\"Estimated coefficients (true, linear regression, RANSAC):\")\n",
    "print(coef, lr.coef_, ransac.estimator_.coef_)\n",
    "\n",
    "lw = 2\n",
    "plt.scatter(X[inlier_mask], y[inlier_mask], color='yellowgreen', marker='.',\n",
    "            label='Inliers')\n",
    "plt.scatter(X[outlier_mask], y[outlier_mask], color='gold', marker='.',\n",
    "            label='Outliers')\n",
    "plt.plot(line_X, line_y, color='navy', linewidth=lw, label='Linear regressor')\n",
    "plt.plot(line_X, line_y_ransac, color='cornflowerblue', linewidth=lw,\n",
    "         label='RANSAC regressor')\n",
    "plt.legend(loc='lower right')\n",
    "plt.xlabel(\"Input\")\n",
    "plt.ylabel(\"Response\")\n",
    "plt.show()\n"
   ]
  },
  {
   "cell_type": "code",
   "execution_count": null,
   "metadata": {},
   "outputs": [],
   "source": []
  }
 ],
 "metadata": {
  "kernelspec": {
   "display_name": "Python (dataSc)",
   "language": "python",
   "name": "datasc"
  },
  "language_info": {
   "codemirror_mode": {
    "name": "ipython",
    "version": 3
   },
   "file_extension": ".py",
   "mimetype": "text/x-python",
   "name": "python",
   "nbconvert_exporter": "python",
   "pygments_lexer": "ipython3",
   "version": "3.7.0"
  },
  "toc": {
   "base_numbering": 1,
   "nav_menu": {},
   "number_sections": true,
   "sideBar": true,
   "skip_h1_title": false,
   "title_cell": "Table of Contents",
   "title_sidebar": "Contents",
   "toc_cell": true,
   "toc_position": {},
   "toc_section_display": true,
   "toc_window_display": true
  }
 },
 "nbformat": 4,
 "nbformat_minor": 2
}
