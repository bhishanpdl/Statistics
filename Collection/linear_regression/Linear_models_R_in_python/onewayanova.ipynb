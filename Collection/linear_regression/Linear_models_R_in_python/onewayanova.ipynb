{
 "cells": [
  {
   "cell_type": "markdown",
   "metadata": {},
   "source": [
    "# Chapter 15: One Factor Models\n",
    "\n",
    "Load the packages"
   ]
  },
  {
   "cell_type": "code",
   "execution_count": 1,
   "metadata": {},
   "outputs": [],
   "source": [
    "import pandas as pd\n",
    "import numpy as np\n",
    "import matplotlib.pyplot as plt\n",
    "import statsmodels.api as sm\n",
    "import statsmodels.formula.api as smf\n",
    "import seaborn as sns\n",
    "from scipy import stats"
   ]
  },
  {
   "cell_type": "markdown",
   "metadata": {},
   "source": [
    "# Coagulation example"
   ]
  },
  {
   "cell_type": "code",
   "execution_count": 2,
   "metadata": {},
   "outputs": [
    {
     "data": {
      "text/html": [
       "<div>\n",
       "<style scoped>\n",
       "    .dataframe tbody tr th:only-of-type {\n",
       "        vertical-align: middle;\n",
       "    }\n",
       "\n",
       "    .dataframe tbody tr th {\n",
       "        vertical-align: top;\n",
       "    }\n",
       "\n",
       "    .dataframe thead th {\n",
       "        text-align: right;\n",
       "    }\n",
       "</style>\n",
       "<table border=\"1\" class=\"dataframe\">\n",
       "  <thead>\n",
       "    <tr style=\"text-align: right;\">\n",
       "      <th></th>\n",
       "      <th>coag</th>\n",
       "      <th>diet</th>\n",
       "    </tr>\n",
       "  </thead>\n",
       "  <tbody>\n",
       "    <tr>\n",
       "      <th>1</th>\n",
       "      <td>62</td>\n",
       "      <td>A</td>\n",
       "    </tr>\n",
       "    <tr>\n",
       "      <th>2</th>\n",
       "      <td>60</td>\n",
       "      <td>A</td>\n",
       "    </tr>\n",
       "    <tr>\n",
       "      <th>3</th>\n",
       "      <td>63</td>\n",
       "      <td>A</td>\n",
       "    </tr>\n",
       "    <tr>\n",
       "      <th>4</th>\n",
       "      <td>59</td>\n",
       "      <td>A</td>\n",
       "    </tr>\n",
       "    <tr>\n",
       "      <th>5</th>\n",
       "      <td>63</td>\n",
       "      <td>B</td>\n",
       "    </tr>\n",
       "  </tbody>\n",
       "</table>\n",
       "</div>"
      ],
      "text/plain": [
       "   coag diet\n",
       "1    62    A\n",
       "2    60    A\n",
       "3    63    A\n",
       "4    59    A\n",
       "5    63    B"
      ]
     },
     "execution_count": 2,
     "metadata": {},
     "output_type": "execute_result"
    }
   ],
   "source": [
    "coagulation = pd.read_csv(\"data/coagulation.csv\", index_col=0)\n",
    "coagulation.head()"
   ]
  },
  {
   "cell_type": "markdown",
   "metadata": {},
   "source": [
    "`pandas` version of boxplot"
   ]
  },
  {
   "cell_type": "code",
   "execution_count": 3,
   "metadata": {},
   "outputs": [
    {
     "data": {
      "image/png": "[encoded data removed]",
      "text/plain": [
       "<Figure size 432x288 with 1 Axes>"
      ]
     },
     "metadata": {
      "needs_background": "light"
     },
     "output_type": "display_data"
    }
   ],
   "source": [
    "coagulation.boxplot('coag',by='diet')\n",
    "plt.suptitle(\"\")\n",
    "plt.show()"
   ]
  },
  {
   "cell_type": "markdown",
   "metadata": {},
   "source": [
    "`seaborn` version of boxplot"
   ]
  },
  {
   "cell_type": "code",
   "execution_count": 4,
   "metadata": {},
   "outputs": [
    {
     "data": {
      "image/png": "[encoded data removed]",
      "text/plain": [
       "<Figure size 432x288 with 1 Axes>"
      ]
     },
     "metadata": {
      "needs_background": "light"
     },
     "output_type": "display_data"
    }
   ],
   "source": [
    "sns.boxplot(x=\"diet\", y=\"coag\", data=coagulation)\n",
    "plt.show()"
   ]
  },
  {
   "cell_type": "markdown",
   "metadata": {},
   "source": [
    "Maybe seaborn plot is preferable (although without the colors). Pandas version is annoying over the title and failure to label the y-axis.\n",
    "\n",
    "`swarmplot` is good when there are replicated points:"
   ]
  },
  {
   "cell_type": "code",
   "execution_count": 5,
   "metadata": {},
   "outputs": [
    {
     "data": {
      "image/png": "[encoded data removed]",
      "text/plain": [
       "<Figure size 432x288 with 1 Axes>"
      ]
     },
     "metadata": {
      "needs_background": "light"
     },
     "output_type": "display_data"
    }
   ],
   "source": [
    "sns.swarmplot(x=\"diet\", y=\"coag\", data=coagulation)\n",
    "plt.show()"
   ]
  },
  {
   "cell_type": "markdown",
   "metadata": {},
   "source": [
    "Fit the model:"
   ]
  },
  {
   "cell_type": "code",
   "execution_count": 6,
   "metadata": {},
   "outputs": [
    {
     "data": {
      "text/html": [
       "<table class=\"simpletable\">\n",
       "<caption>OLS Regression Results</caption>\n",
       "<tr>\n",
       "  <th>Dep. Variable:</th>          <td>coag</td>       <th>  R-squared:         </th> <td>   0.671</td>\n",
       "</tr>\n",
       "<tr>\n",
       "  <th>Model:</th>                   <td>OLS</td>       <th>  Adj. R-squared:    </th> <td>   0.621</td>\n",
       "</tr>\n",
       "<tr>\n",
       "  <th>Method:</th>             <td>Least Squares</td>  <th>  F-statistic:       </th> <td>   13.57</td>\n",
       "</tr>\n",
       "<tr>\n",
       "  <th>Date:</th>             <td>Wed, 26 Sep 2018</td> <th>  Prob (F-statistic):</th> <td>4.66e-05</td>\n",
       "</tr>\n",
       "<tr>\n",
       "  <th>Time:</th>                 <td>10:18:05</td>     <th>  Log-Likelihood:    </th> <td> -52.540</td>\n",
       "</tr>\n",
       "<tr>\n",
       "  <th>No. Observations:</th>      <td>    24</td>      <th>  AIC:               </th> <td>   113.1</td>\n",
       "</tr>\n",
       "<tr>\n",
       "  <th>Df Residuals:</th>          <td>    20</td>      <th>  BIC:               </th> <td>   117.8</td>\n",
       "</tr>\n",
       "<tr>\n",
       "  <th>Df Model:</th>              <td>     3</td>      <th>                     </th>     <td> </td>   \n",
       "</tr>\n",
       "<tr>\n",
       "  <th>Covariance Type:</th>      <td>nonrobust</td>    <th>                     </th>     <td> </td>   \n",
       "</tr>\n",
       "</table>\n",
       "<table class=\"simpletable\">\n",
       "<tr>\n",
       "      <td></td>         <th>coef</th>     <th>std err</th>      <th>t</th>      <th>P>|t|</th>  <th>[0.025</th>    <th>0.975]</th>  \n",
       "</tr>\n",
       "<tr>\n",
       "  <th>Intercept</th> <td>   61.0000</td> <td>    1.183</td> <td>   51.554</td> <td> 0.000</td> <td>   58.532</td> <td>   63.468</td>\n",
       "</tr>\n",
       "<tr>\n",
       "  <th>diet[T.B]</th> <td>    5.0000</td> <td>    1.528</td> <td>    3.273</td> <td> 0.004</td> <td>    1.814</td> <td>    8.186</td>\n",
       "</tr>\n",
       "<tr>\n",
       "  <th>diet[T.C]</th> <td>    7.0000</td> <td>    1.528</td> <td>    4.583</td> <td> 0.000</td> <td>    3.814</td> <td>   10.186</td>\n",
       "</tr>\n",
       "<tr>\n",
       "  <th>diet[T.D]</th> <td>-1.776e-14</td> <td>    1.449</td> <td>-1.23e-14</td> <td> 1.000</td> <td>   -3.023</td> <td>    3.023</td>\n",
       "</tr>\n",
       "</table>\n",
       "<table class=\"simpletable\">\n",
       "<tr>\n",
       "  <th>Omnibus:</th>       <td> 0.476</td> <th>  Durbin-Watson:     </th> <td>   2.205</td>\n",
       "</tr>\n",
       "<tr>\n",
       "  <th>Prob(Omnibus):</th> <td> 0.788</td> <th>  Jarque-Bera (JB):  </th> <td>   0.029</td>\n",
       "</tr>\n",
       "<tr>\n",
       "  <th>Skew:</th>          <td> 0.074</td> <th>  Prob(JB):          </th> <td>   0.985</td>\n",
       "</tr>\n",
       "<tr>\n",
       "  <th>Kurtosis:</th>      <td> 3.084</td> <th>  Cond. No.          </th> <td>    5.79</td>\n",
       "</tr>\n",
       "</table><br/><br/>Warnings:<br/>[1] Standard Errors assume that the covariance matrix of the errors is correctly specified."
      ],
      "text/plain": [
       "<class 'statsmodels.iolib.summary.Summary'>\n",
       "\"\"\"\n",
       "                            OLS Regression Results                            \n",
       "==============================================================================\n",
       "Dep. Variable:                   coag   R-squared:                       0.671\n",
       "Model:                            OLS   Adj. R-squared:                  0.621\n",
       "Method:                 Least Squares   F-statistic:                     13.57\n",
       "Date:                Wed, 26 Sep 2018   Prob (F-statistic):           4.66e-05\n",
       "Time:                        10:18:05   Log-Likelihood:                -52.540\n",
       "No. Observations:                  24   AIC:                             113.1\n",
       "Df Residuals:                      20   BIC:                             117.8\n",
       "Df Model:                           3                                         \n",
       "Covariance Type:            nonrobust                                         \n",
       "==============================================================================\n",
       "                 coef    std err          t      P>|t|      [0.025      0.975]\n",
       "------------------------------------------------------------------------------\n",
       "Intercept     61.0000      1.183     51.554      0.000      58.532      63.468\n",
       "diet[T.B]      5.0000      1.528      3.273      0.004       1.814       8.186\n",
       "diet[T.C]      7.0000      1.528      4.583      0.000       3.814      10.186\n",
       "diet[T.D]  -1.776e-14      1.449  -1.23e-14      1.000      -3.023       3.023\n",
       "==============================================================================\n",
       "Omnibus:                        0.476   Durbin-Watson:                   2.205\n",
       "Prob(Omnibus):                  0.788   Jarque-Bera (JB):                0.029\n",
       "Skew:                           0.074   Prob(JB):                        0.985\n",
       "Kurtosis:                       3.084   Cond. No.                         5.79\n",
       "==============================================================================\n",
       "\n",
       "Warnings:\n",
       "[1] Standard Errors assume that the covariance matrix of the errors is correctly specified.\n",
       "\"\"\""
      ]
     },
     "execution_count": 6,
     "metadata": {},
     "output_type": "execute_result"
    }
   ],
   "source": [
    "lmod = smf.ols(\"coag ~ diet\", coagulation).fit()\n",
    "lmod.summary()"
   ]
  },
  {
   "cell_type": "markdown",
   "metadata": {},
   "source": [
    "Examine the coefficients:"
   ]
  },
  {
   "cell_type": "code",
   "execution_count": 7,
   "metadata": {},
   "outputs": [
    {
     "data": {
      "text/plain": [
       "Intercept    61.0\n",
       "diet[T.B]     5.0\n",
       "diet[T.C]     7.0\n",
       "diet[T.D]    -0.0\n",
       "dtype: float64"
      ]
     },
     "execution_count": 7,
     "metadata": {},
     "output_type": "execute_result"
    }
   ],
   "source": [
    "lmod.params.round(1)"
   ]
  },
  {
   "cell_type": "markdown",
   "metadata": {},
   "source": [
    "Look at the design matrix:"
   ]
  },
  {
   "cell_type": "code",
   "execution_count": 8,
   "metadata": {},
   "outputs": [
    {
     "data": {
      "text/plain": [
       "DesignMatrix with shape (24, 4)\n",
       "  Intercept  diet[T.B]  diet[T.C]  diet[T.D]\n",
       "          1          0          0          0\n",
       "          1          0          0          0\n",
       "          1          0          0          0\n",
       "          1          0          0          0\n",
       "          1          1          0          0\n",
       "          1          1          0          0\n",
       "          1          1          0          0\n",
       "          1          1          0          0\n",
       "          1          1          0          0\n",
       "          1          1          0          0\n",
       "          1          0          1          0\n",
       "          1          0          1          0\n",
       "          1          0          1          0\n",
       "          1          0          1          0\n",
       "          1          0          1          0\n",
       "          1          0          1          0\n",
       "          1          0          0          1\n",
       "          1          0          0          1\n",
       "          1          0          0          1\n",
       "          1          0          0          1\n",
       "          1          0          0          1\n",
       "          1          0          0          1\n",
       "          1          0          0          1\n",
       "          1          0          0          1\n",
       "  Terms:\n",
       "    'Intercept' (column 0)\n",
       "    'diet' (columns 1:4)"
      ]
     },
     "execution_count": 8,
     "metadata": {},
     "output_type": "execute_result"
    }
   ],
   "source": [
    "import patsy\n",
    "patsy.dmatrix('~ diet', coagulation)"
   ]
  },
  {
   "cell_type": "markdown",
   "metadata": {},
   "source": [
    "Test the significance of diet."
   ]
  },
  {
   "cell_type": "code",
   "execution_count": 9,
   "metadata": {},
   "outputs": [
    {
     "data": {
      "text/html": [
       "<div>\n",
       "<style scoped>\n",
       "    .dataframe tbody tr th:only-of-type {\n",
       "        vertical-align: middle;\n",
       "    }\n",
       "\n",
       "    .dataframe tbody tr th {\n",
       "        vertical-align: top;\n",
       "    }\n",
       "\n",
       "    .dataframe thead th {\n",
       "        text-align: right;\n",
       "    }\n",
       "</style>\n",
       "<table border=\"1\" class=\"dataframe\">\n",
       "  <thead>\n",
       "    <tr style=\"text-align: right;\">\n",
       "      <th></th>\n",
       "      <th>df</th>\n",
       "      <th>sum_sq</th>\n",
       "      <th>mean_sq</th>\n",
       "      <th>F</th>\n",
       "      <th>PR(&gt;F)</th>\n",
       "    </tr>\n",
       "  </thead>\n",
       "  <tbody>\n",
       "    <tr>\n",
       "      <th>diet</th>\n",
       "      <td>3.0</td>\n",
       "      <td>228.0</td>\n",
       "      <td>76.0</td>\n",
       "      <td>13.571429</td>\n",
       "      <td>0.000047</td>\n",
       "    </tr>\n",
       "    <tr>\n",
       "      <th>Residual</th>\n",
       "      <td>20.0</td>\n",
       "      <td>112.0</td>\n",
       "      <td>5.6</td>\n",
       "      <td>NaN</td>\n",
       "      <td>NaN</td>\n",
       "    </tr>\n",
       "  </tbody>\n",
       "</table>\n",
       "</div>"
      ],
      "text/plain": [
       "            df  sum_sq  mean_sq          F    PR(>F)\n",
       "diet       3.0   228.0     76.0  13.571429  0.000047\n",
       "Residual  20.0   112.0      5.6        NaN       NaN"
      ]
     },
     "execution_count": 9,
     "metadata": {},
     "output_type": "execute_result"
    }
   ],
   "source": [
    "sm.stats.anova_lm(lmod)"
   ]
  },
  {
   "cell_type": "markdown",
   "metadata": {},
   "source": [
    "Fit without an intercept term:"
   ]
  },
  {
   "cell_type": "code",
   "execution_count": 10,
   "metadata": {},
   "outputs": [
    {
     "data": {
      "text/html": [
       "<table class=\"simpletable\">\n",
       "<caption>OLS Regression Results</caption>\n",
       "<tr>\n",
       "  <th>Dep. Variable:</th>          <td>coag</td>       <th>  R-squared:         </th> <td>   0.671</td>\n",
       "</tr>\n",
       "<tr>\n",
       "  <th>Model:</th>                   <td>OLS</td>       <th>  Adj. R-squared:    </th> <td>   0.621</td>\n",
       "</tr>\n",
       "<tr>\n",
       "  <th>Method:</th>             <td>Least Squares</td>  <th>  F-statistic:       </th> <td>   13.57</td>\n",
       "</tr>\n",
       "<tr>\n",
       "  <th>Date:</th>             <td>Wed, 26 Sep 2018</td> <th>  Prob (F-statistic):</th> <td>4.66e-05</td>\n",
       "</tr>\n",
       "<tr>\n",
       "  <th>Time:</th>                 <td>10:18:05</td>     <th>  Log-Likelihood:    </th> <td> -52.540</td>\n",
       "</tr>\n",
       "<tr>\n",
       "  <th>No. Observations:</th>      <td>    24</td>      <th>  AIC:               </th> <td>   113.1</td>\n",
       "</tr>\n",
       "<tr>\n",
       "  <th>Df Residuals:</th>          <td>    20</td>      <th>  BIC:               </th> <td>   117.8</td>\n",
       "</tr>\n",
       "<tr>\n",
       "  <th>Df Model:</th>              <td>     3</td>      <th>                     </th>     <td> </td>   \n",
       "</tr>\n",
       "<tr>\n",
       "  <th>Covariance Type:</th>      <td>nonrobust</td>    <th>                     </th>     <td> </td>   \n",
       "</tr>\n",
       "</table>\n",
       "<table class=\"simpletable\">\n",
       "<tr>\n",
       "     <td></td>        <th>coef</th>     <th>std err</th>      <th>t</th>      <th>P>|t|</th>  <th>[0.025</th>    <th>0.975]</th>  \n",
       "</tr>\n",
       "<tr>\n",
       "  <th>diet[A]</th> <td>   61.0000</td> <td>    1.183</td> <td>   51.554</td> <td> 0.000</td> <td>   58.532</td> <td>   63.468</td>\n",
       "</tr>\n",
       "<tr>\n",
       "  <th>diet[B]</th> <td>   66.0000</td> <td>    0.966</td> <td>   68.316</td> <td> 0.000</td> <td>   63.985</td> <td>   68.015</td>\n",
       "</tr>\n",
       "<tr>\n",
       "  <th>diet[C]</th> <td>   68.0000</td> <td>    0.966</td> <td>   70.387</td> <td> 0.000</td> <td>   65.985</td> <td>   70.015</td>\n",
       "</tr>\n",
       "<tr>\n",
       "  <th>diet[D]</th> <td>   61.0000</td> <td>    0.837</td> <td>   72.909</td> <td> 0.000</td> <td>   59.255</td> <td>   62.745</td>\n",
       "</tr>\n",
       "</table>\n",
       "<table class=\"simpletable\">\n",
       "<tr>\n",
       "  <th>Omnibus:</th>       <td> 0.476</td> <th>  Durbin-Watson:     </th> <td>   2.205</td>\n",
       "</tr>\n",
       "<tr>\n",
       "  <th>Prob(Omnibus):</th> <td> 0.788</td> <th>  Jarque-Bera (JB):  </th> <td>   0.029</td>\n",
       "</tr>\n",
       "<tr>\n",
       "  <th>Skew:</th>          <td> 0.074</td> <th>  Prob(JB):          </th> <td>   0.985</td>\n",
       "</tr>\n",
       "<tr>\n",
       "  <th>Kurtosis:</th>      <td> 3.084</td> <th>  Cond. No.          </th> <td>    1.41</td>\n",
       "</tr>\n",
       "</table><br/><br/>Warnings:<br/>[1] Standard Errors assume that the covariance matrix of the errors is correctly specified."
      ],
      "text/plain": [
       "<class 'statsmodels.iolib.summary.Summary'>\n",
       "\"\"\"\n",
       "                            OLS Regression Results                            \n",
       "==============================================================================\n",
       "Dep. Variable:                   coag   R-squared:                       0.671\n",
       "Model:                            OLS   Adj. R-squared:                  0.621\n",
       "Method:                 Least Squares   F-statistic:                     13.57\n",
       "Date:                Wed, 26 Sep 2018   Prob (F-statistic):           4.66e-05\n",
       "Time:                        10:18:05   Log-Likelihood:                -52.540\n",
       "No. Observations:                  24   AIC:                             113.1\n",
       "Df Residuals:                      20   BIC:                             117.8\n",
       "Df Model:                           3                                         \n",
       "Covariance Type:            nonrobust                                         \n",
       "==============================================================================\n",
       "                 coef    std err          t      P>|t|      [0.025      0.975]\n",
       "------------------------------------------------------------------------------\n",
       "diet[A]       61.0000      1.183     51.554      0.000      58.532      63.468\n",
       "diet[B]       66.0000      0.966     68.316      0.000      63.985      68.015\n",
       "diet[C]       68.0000      0.966     70.387      0.000      65.985      70.015\n",
       "diet[D]       61.0000      0.837     72.909      0.000      59.255      62.745\n",
       "==============================================================================\n",
       "Omnibus:                        0.476   Durbin-Watson:                   2.205\n",
       "Prob(Omnibus):                  0.788   Jarque-Bera (JB):                0.029\n",
       "Skew:                           0.074   Prob(JB):                        0.985\n",
       "Kurtosis:                       3.084   Cond. No.                         1.41\n",
       "==============================================================================\n",
       "\n",
       "Warnings:\n",
       "[1] Standard Errors assume that the covariance matrix of the errors is correctly specified.\n",
       "\"\"\""
      ]
     },
     "execution_count": 10,
     "metadata": {},
     "output_type": "execute_result"
    }
   ],
   "source": [
    "lmodi = smf.ols(\"coag ~ diet-1\", coagulation).fit()\n",
    "lmodi.summary()"
   ]
  },
  {
   "cell_type": "markdown",
   "metadata": {},
   "source": [
    "Do the ANOVA explicitly:"
   ]
  },
  {
   "cell_type": "code",
   "execution_count": 11,
   "metadata": {},
   "outputs": [
    {
     "data": {
      "text/html": [
       "<div>\n",
       "<style scoped>\n",
       "    .dataframe tbody tr th:only-of-type {\n",
       "        vertical-align: middle;\n",
       "    }\n",
       "\n",
       "    .dataframe tbody tr th {\n",
       "        vertical-align: top;\n",
       "    }\n",
       "\n",
       "    .dataframe thead th {\n",
       "        text-align: right;\n",
       "    }\n",
       "</style>\n",
       "<table border=\"1\" class=\"dataframe\">\n",
       "  <thead>\n",
       "    <tr style=\"text-align: right;\">\n",
       "      <th></th>\n",
       "      <th>df_resid</th>\n",
       "      <th>ssr</th>\n",
       "      <th>df_diff</th>\n",
       "      <th>ss_diff</th>\n",
       "      <th>F</th>\n",
       "      <th>Pr(&gt;F)</th>\n",
       "    </tr>\n",
       "  </thead>\n",
       "  <tbody>\n",
       "    <tr>\n",
       "      <th>0</th>\n",
       "      <td>23.0</td>\n",
       "      <td>340.0</td>\n",
       "      <td>0.0</td>\n",
       "      <td>NaN</td>\n",
       "      <td>NaN</td>\n",
       "      <td>NaN</td>\n",
       "    </tr>\n",
       "    <tr>\n",
       "      <th>1</th>\n",
       "      <td>20.0</td>\n",
       "      <td>112.0</td>\n",
       "      <td>3.0</td>\n",
       "      <td>228.0</td>\n",
       "      <td>13.571429</td>\n",
       "      <td>0.000047</td>\n",
       "    </tr>\n",
       "  </tbody>\n",
       "</table>\n",
       "</div>"
      ],
      "text/plain": [
       "   df_resid    ssr  df_diff  ss_diff          F    Pr(>F)\n",
       "0      23.0  340.0      0.0      NaN        NaN       NaN\n",
       "1      20.0  112.0      3.0    228.0  13.571429  0.000047"
      ]
     },
     "execution_count": 11,
     "metadata": {},
     "output_type": "execute_result"
    }
   ],
   "source": [
    "%%capture --no-display\n",
    "lmodnull = smf.ols(\"coag ~ 1\", coagulation).fit()\n",
    "sm.stats.anova_lm(lmodnull, lmod)"
   ]
  },
  {
   "cell_type": "markdown",
   "metadata": {},
   "source": [
    "Do it with sum contrasts:"
   ]
  },
  {
   "cell_type": "code",
   "execution_count": 12,
   "metadata": {},
   "outputs": [
    {
     "data": {
      "text/html": [
       "<table class=\"simpletable\">\n",
       "<caption>OLS Regression Results</caption>\n",
       "<tr>\n",
       "  <th>Dep. Variable:</th>          <td>coag</td>       <th>  R-squared:         </th> <td>   0.671</td>\n",
       "</tr>\n",
       "<tr>\n",
       "  <th>Model:</th>                   <td>OLS</td>       <th>  Adj. R-squared:    </th> <td>   0.621</td>\n",
       "</tr>\n",
       "<tr>\n",
       "  <th>Method:</th>             <td>Least Squares</td>  <th>  F-statistic:       </th> <td>   13.57</td>\n",
       "</tr>\n",
       "<tr>\n",
       "  <th>Date:</th>             <td>Wed, 26 Sep 2018</td> <th>  Prob (F-statistic):</th> <td>4.66e-05</td>\n",
       "</tr>\n",
       "<tr>\n",
       "  <th>Time:</th>                 <td>10:18:05</td>     <th>  Log-Likelihood:    </th> <td> -52.540</td>\n",
       "</tr>\n",
       "<tr>\n",
       "  <th>No. Observations:</th>      <td>    24</td>      <th>  AIC:               </th> <td>   113.1</td>\n",
       "</tr>\n",
       "<tr>\n",
       "  <th>Df Residuals:</th>          <td>    20</td>      <th>  BIC:               </th> <td>   117.8</td>\n",
       "</tr>\n",
       "<tr>\n",
       "  <th>Df Model:</th>              <td>     3</td>      <th>                     </th>     <td> </td>   \n",
       "</tr>\n",
       "<tr>\n",
       "  <th>Covariance Type:</th>      <td>nonrobust</td>    <th>                     </th>     <td> </td>   \n",
       "</tr>\n",
       "</table>\n",
       "<table class=\"simpletable\">\n",
       "<tr>\n",
       "          <td></td>             <th>coef</th>     <th>std err</th>      <th>t</th>      <th>P>|t|</th>  <th>[0.025</th>    <th>0.975]</th>  \n",
       "</tr>\n",
       "<tr>\n",
       "  <th>Intercept</th>         <td>   64.0000</td> <td>    0.498</td> <td>  128.537</td> <td> 0.000</td> <td>   62.961</td> <td>   65.039</td>\n",
       "</tr>\n",
       "<tr>\n",
       "  <th>C(diet, Sum)[S.A]</th> <td>   -3.0000</td> <td>    0.974</td> <td>   -3.081</td> <td> 0.006</td> <td>   -5.031</td> <td>   -0.969</td>\n",
       "</tr>\n",
       "<tr>\n",
       "  <th>C(diet, Sum)[S.B]</th> <td>    2.0000</td> <td>    0.845</td> <td>    2.366</td> <td> 0.028</td> <td>    0.237</td> <td>    3.763</td>\n",
       "</tr>\n",
       "<tr>\n",
       "  <th>C(diet, Sum)[S.C]</th> <td>    4.0000</td> <td>    0.845</td> <td>    4.732</td> <td> 0.000</td> <td>    2.237</td> <td>    5.763</td>\n",
       "</tr>\n",
       "</table>\n",
       "<table class=\"simpletable\">\n",
       "<tr>\n",
       "  <th>Omnibus:</th>       <td> 0.476</td> <th>  Durbin-Watson:     </th> <td>   2.205</td>\n",
       "</tr>\n",
       "<tr>\n",
       "  <th>Prob(Omnibus):</th> <td> 0.788</td> <th>  Jarque-Bera (JB):  </th> <td>   0.029</td>\n",
       "</tr>\n",
       "<tr>\n",
       "  <th>Skew:</th>          <td> 0.074</td> <th>  Prob(JB):          </th> <td>   0.985</td>\n",
       "</tr>\n",
       "<tr>\n",
       "  <th>Kurtosis:</th>      <td> 3.084</td> <th>  Cond. No.          </th> <td>    2.68</td>\n",
       "</tr>\n",
       "</table><br/><br/>Warnings:<br/>[1] Standard Errors assume that the covariance matrix of the errors is correctly specified."
      ],
      "text/plain": [
       "<class 'statsmodels.iolib.summary.Summary'>\n",
       "\"\"\"\n",
       "                            OLS Regression Results                            \n",
       "==============================================================================\n",
       "Dep. Variable:                   coag   R-squared:                       0.671\n",
       "Model:                            OLS   Adj. R-squared:                  0.621\n",
       "Method:                 Least Squares   F-statistic:                     13.57\n",
       "Date:                Wed, 26 Sep 2018   Prob (F-statistic):           4.66e-05\n",
       "Time:                        10:18:05   Log-Likelihood:                -52.540\n",
       "No. Observations:                  24   AIC:                             113.1\n",
       "Df Residuals:                      20   BIC:                             117.8\n",
       "Df Model:                           3                                         \n",
       "Covariance Type:            nonrobust                                         \n",
       "=====================================================================================\n",
       "                        coef    std err          t      P>|t|      [0.025      0.975]\n",
       "-------------------------------------------------------------------------------------\n",
       "Intercept            64.0000      0.498    128.537      0.000      62.961      65.039\n",
       "C(diet, Sum)[S.A]    -3.0000      0.974     -3.081      0.006      -5.031      -0.969\n",
       "C(diet, Sum)[S.B]     2.0000      0.845      2.366      0.028       0.237       3.763\n",
       "C(diet, Sum)[S.C]     4.0000      0.845      4.732      0.000       2.237       5.763\n",
       "==============================================================================\n",
       "Omnibus:                        0.476   Durbin-Watson:                   2.205\n",
       "Prob(Omnibus):                  0.788   Jarque-Bera (JB):                0.029\n",
       "Skew:                           0.074   Prob(JB):                        0.985\n",
       "Kurtosis:                       3.084   Cond. No.                         2.68\n",
       "==============================================================================\n",
       "\n",
       "Warnings:\n",
       "[1] Standard Errors assume that the covariance matrix of the errors is correctly specified.\n",
       "\"\"\""
      ]
     },
     "execution_count": 12,
     "metadata": {},
     "output_type": "execute_result"
    }
   ],
   "source": [
    "from patsy.contrasts import Sum\n",
    "lmods = smf.ols(\"coag ~ C(diet,Sum)\", coagulation).fit()\n",
    "lmods.summary()"
   ]
  },
  {
   "cell_type": "markdown",
   "metadata": {},
   "source": [
    "# Diagnostics"
   ]
  },
  {
   "cell_type": "code",
   "execution_count": 13,
   "metadata": {},
   "outputs": [
    {
     "data": {
      "image/png": "[encoded data removed]",
      "text/plain": [
       "<Figure size 432x288 with 1 Axes>"
      ]
     },
     "metadata": {
      "needs_background": "light"
     },
     "output_type": "display_data"
    }
   ],
   "source": [
    "sns.residplot(lmod.fittedvalues, lmod.resid)\n",
    "plt.xlabel(\"Fitted values\")\n",
    "plt.ylabel(\"Residuals\")\n",
    "plt.show()"
   ]
  },
  {
   "cell_type": "code",
   "execution_count": 14,
   "metadata": {},
   "outputs": [
    {
     "name": "stderr",
     "output_type": "stream",
     "text": [
      "/anaconda/lib/python3.7/site-packages/scipy/stats/stats.py:1713: FutureWarning: Using a non-tuple sequence for multidimensional indexing is deprecated; use `arr[tuple(seq)]` instead of `arr[seq]`. In the future this will be interpreted as an array index, `arr[np.array(seq)]`, which will result either in an error or a different result.\n",
      "  return np.add.reduce(sorted[indexer] * weights, axis=axis) / sumval\n"
     ]
    },
    {
     "data": {
      "image/png": "[encoded data removed]",
      "text/plain": [
       "<Figure size 432x288 with 1 Axes>"
      ]
     },
     "metadata": {
      "needs_background": "light"
     },
     "output_type": "display_data"
    }
   ],
   "source": [
    "fig = sm.qqplot(lmod.resid, line=\"q\")\n",
    "plt.show()"
   ]
  },
  {
   "cell_type": "markdown",
   "metadata": {},
   "source": [
    "Do the Levene test:"
   ]
  },
  {
   "cell_type": "code",
   "execution_count": 15,
   "metadata": {},
   "outputs": [
    {
     "data": {
      "text/html": [
       "<div>\n",
       "<style scoped>\n",
       "    .dataframe tbody tr th:only-of-type {\n",
       "        vertical-align: middle;\n",
       "    }\n",
       "\n",
       "    .dataframe tbody tr th {\n",
       "        vertical-align: top;\n",
       "    }\n",
       "\n",
       "    .dataframe thead th {\n",
       "        text-align: right;\n",
       "    }\n",
       "</style>\n",
       "<table border=\"1\" class=\"dataframe\">\n",
       "  <thead>\n",
       "    <tr style=\"text-align: right;\">\n",
       "      <th></th>\n",
       "      <th>coag</th>\n",
       "      <th>diet</th>\n",
       "      <th>meds</th>\n",
       "      <th>mads</th>\n",
       "    </tr>\n",
       "  </thead>\n",
       "  <tbody>\n",
       "    <tr>\n",
       "      <th>1</th>\n",
       "      <td>62</td>\n",
       "      <td>A</td>\n",
       "      <td>61.0</td>\n",
       "      <td>1.0</td>\n",
       "    </tr>\n",
       "    <tr>\n",
       "      <th>2</th>\n",
       "      <td>60</td>\n",
       "      <td>A</td>\n",
       "      <td>61.0</td>\n",
       "      <td>1.0</td>\n",
       "    </tr>\n",
       "    <tr>\n",
       "      <th>3</th>\n",
       "      <td>63</td>\n",
       "      <td>A</td>\n",
       "      <td>61.0</td>\n",
       "      <td>2.0</td>\n",
       "    </tr>\n",
       "    <tr>\n",
       "      <th>4</th>\n",
       "      <td>59</td>\n",
       "      <td>A</td>\n",
       "      <td>61.0</td>\n",
       "      <td>2.0</td>\n",
       "    </tr>\n",
       "    <tr>\n",
       "      <th>5</th>\n",
       "      <td>63</td>\n",
       "      <td>B</td>\n",
       "      <td>65.5</td>\n",
       "      <td>2.5</td>\n",
       "    </tr>\n",
       "  </tbody>\n",
       "</table>\n",
       "</div>"
      ],
      "text/plain": [
       "   coag diet  meds  mads\n",
       "1    62    A  61.0   1.0\n",
       "2    60    A  61.0   1.0\n",
       "3    63    A  61.0   2.0\n",
       "4    59    A  61.0   2.0\n",
       "5    63    B  65.5   2.5"
      ]
     },
     "execution_count": 15,
     "metadata": {},
     "output_type": "execute_result"
    }
   ],
   "source": [
    "coagulation['meds'] = coagulation.groupby('diet').transform(np.median)\n",
    "coagulation['mads'] = abs(coagulation.coag - coagulation.meds)\n",
    "coagulation.head()"
   ]
  },
  {
   "cell_type": "code",
   "execution_count": 16,
   "metadata": {},
   "outputs": [
    {
     "data": {
      "text/html": [
       "<div>\n",
       "<style scoped>\n",
       "    .dataframe tbody tr th:only-of-type {\n",
       "        vertical-align: middle;\n",
       "    }\n",
       "\n",
       "    .dataframe tbody tr th {\n",
       "        vertical-align: top;\n",
       "    }\n",
       "\n",
       "    .dataframe thead th {\n",
       "        text-align: right;\n",
       "    }\n",
       "</style>\n",
       "<table border=\"1\" class=\"dataframe\">\n",
       "  <thead>\n",
       "    <tr style=\"text-align: right;\">\n",
       "      <th></th>\n",
       "      <th>df</th>\n",
       "      <th>sum_sq</th>\n",
       "      <th>mean_sq</th>\n",
       "      <th>F</th>\n",
       "      <th>PR(&gt;F)</th>\n",
       "    </tr>\n",
       "  </thead>\n",
       "  <tbody>\n",
       "    <tr>\n",
       "      <th>diet</th>\n",
       "      <td>3.0</td>\n",
       "      <td>4.333333</td>\n",
       "      <td>1.444444</td>\n",
       "      <td>0.649189</td>\n",
       "      <td>0.592646</td>\n",
       "    </tr>\n",
       "    <tr>\n",
       "      <th>Residual</th>\n",
       "      <td>20.0</td>\n",
       "      <td>44.500000</td>\n",
       "      <td>2.225000</td>\n",
       "      <td>NaN</td>\n",
       "      <td>NaN</td>\n",
       "    </tr>\n",
       "  </tbody>\n",
       "</table>\n",
       "</div>"
      ],
      "text/plain": [
       "            df     sum_sq   mean_sq         F    PR(>F)\n",
       "diet       3.0   4.333333  1.444444  0.649189  0.592646\n",
       "Residual  20.0  44.500000  2.225000       NaN       NaN"
      ]
     },
     "execution_count": 16,
     "metadata": {},
     "output_type": "execute_result"
    }
   ],
   "source": [
    "lmodb = smf.ols('mads ~ diet', coagulation).fit()\n",
    "sm.stats.anova_lm(lmodb)"
   ]
  },
  {
   "cell_type": "code",
   "execution_count": 17,
   "metadata": {},
   "outputs": [
    {
     "data": {
      "text/plain": [
       "1    62\n",
       "2    60\n",
       "3    63\n",
       "4    59\n",
       "Name: coag, dtype: int64"
      ]
     },
     "execution_count": 17,
     "metadata": {},
     "output_type": "execute_result"
    }
   ],
   "source": [
    "coagulation.coag[coagulation.diet == \"A\"]"
   ]
  },
  {
   "cell_type": "markdown",
   "metadata": {},
   "source": [
    "Do the Bartlett test:"
   ]
  },
  {
   "cell_type": "code",
   "execution_count": 18,
   "metadata": {},
   "outputs": [
    {
     "data": {
      "text/plain": [
       "BartlettResult(statistic=1.6679561088149575, pvalue=0.6440812243179765)"
      ]
     },
     "execution_count": 18,
     "metadata": {},
     "output_type": "execute_result"
    }
   ],
   "source": [
    "stats.bartlett(coagulation.coag[coagulation.diet == \"A\"],\n",
    "               coagulation.coag[coagulation.diet == \"B\"],\n",
    "               coagulation.coag[coagulation.diet == \"C\"],\n",
    "               coagulation.coag[coagulation.diet == \"D\"])"
   ]
  },
  {
   "cell_type": "markdown",
   "metadata": {},
   "source": [
    "# Pairwise comparisons"
   ]
  },
  {
   "cell_type": "markdown",
   "metadata": {},
   "source": [
    "Assemble the pieces necessary for pairwise comparisons:"
   ]
  },
  {
   "cell_type": "code",
   "execution_count": 19,
   "metadata": {},
   "outputs": [
    {
     "data": {
      "text/plain": [
       "Intercept    1.183216\n",
       "diet[T.B]    1.527525\n",
       "diet[T.C]    1.527525\n",
       "diet[T.D]    1.449138\n",
       "dtype: float64"
      ]
     },
     "execution_count": 19,
     "metadata": {},
     "output_type": "execute_result"
    }
   ],
   "source": [
    "lmod.bse"
   ]
  },
  {
   "cell_type": "code",
   "execution_count": 20,
   "metadata": {},
   "outputs": [
    {
     "data": {
      "text/plain": [
       "Intercept    6.100000e+01\n",
       "diet[T.B]    5.000000e+00\n",
       "diet[T.C]    7.000000e+00\n",
       "diet[T.D]   -1.776357e-14\n",
       "dtype: float64"
      ]
     },
     "execution_count": 20,
     "metadata": {},
     "output_type": "execute_result"
    }
   ],
   "source": [
    "lmod.params"
   ]
  },
  {
   "cell_type": "code",
   "execution_count": 21,
   "metadata": {},
   "outputs": [
    {
     "data": {
      "text/plain": [
       "2.0859634472658364"
      ]
     },
     "execution_count": 21,
     "metadata": {},
     "output_type": "execute_result"
    }
   ],
   "source": [
    "stats.t.ppf(0.975,20)"
   ]
  },
  {
   "cell_type": "code",
   "execution_count": 22,
   "metadata": {},
   "outputs": [
    {
     "data": {
      "text/plain": [
       "array([1.8136382, 8.1863618])"
      ]
     },
     "execution_count": 22,
     "metadata": {},
     "output_type": "execute_result"
    }
   ],
   "source": [
    "lmod.params[1] + np.array([-1, 1]) * stats.t.ppf(0.975,20) * lmod.bse[1]"
   ]
  },
  {
   "cell_type": "markdown",
   "metadata": {},
   "source": [
    "Can do the Tukey pairwise:"
   ]
  },
  {
   "cell_type": "code",
   "execution_count": 23,
   "metadata": {},
   "outputs": [
    {
     "data": {
      "text/html": [
       "<table class=\"simpletable\">\n",
       "<caption>Multiple Comparison of Means - Tukey HSD,FWER=0.05</caption>\n",
       "<tr>\n",
       "  <th>group1</th> <th>group2</th> <th>meandiff</th>   <th>lower</th>   <th>upper</th>  <th>reject</th>\n",
       "</tr>\n",
       "<tr>\n",
       "     <td>A</td>      <td>B</td>      <td>5.0</td>    <td>0.7244</td>  <td>9.2756</td>   <td>True</td> \n",
       "</tr>\n",
       "<tr>\n",
       "     <td>A</td>      <td>C</td>      <td>7.0</td>    <td>2.7244</td>  <td>11.2756</td>  <td>True</td> \n",
       "</tr>\n",
       "<tr>\n",
       "     <td>A</td>      <td>D</td>      <td>0.0</td>    <td>-4.0562</td> <td>4.0562</td>   <td>False</td>\n",
       "</tr>\n",
       "<tr>\n",
       "     <td>B</td>      <td>C</td>      <td>2.0</td>    <td>-1.8242</td> <td>5.8242</td>   <td>False</td>\n",
       "</tr>\n",
       "<tr>\n",
       "     <td>B</td>      <td>D</td>     <td>-5.0</td>    <td>-8.5773</td> <td>-1.4227</td>  <td>True</td> \n",
       "</tr>\n",
       "<tr>\n",
       "     <td>C</td>      <td>D</td>     <td>-7.0</td>   <td>-10.5773</td> <td>-3.4227</td>  <td>True</td> \n",
       "</tr>\n",
       "</table>"
      ],
      "text/plain": [
       "<class 'statsmodels.iolib.table.SimpleTable'>"
      ]
     },
     "execution_count": 23,
     "metadata": {},
     "output_type": "execute_result"
    }
   ],
   "source": [
    "thsd = sm.stats.multicomp.pairwise_tukeyhsd(coagulation.coag, coagulation.diet)\n",
    "thsd.summary()"
   ]
  },
  {
   "cell_type": "code",
   "execution_count": 24,
   "metadata": {},
   "outputs": [
    {
     "data": {
      "image/png": "[encoded data removed]",
      "text/plain": [
       "<Figure size 720x432 with 1 Axes>"
      ]
     },
     "metadata": {
      "needs_background": "light"
     },
     "output_type": "display_data"
    }
   ],
   "source": [
    "fig = thsd.plot_simultaneous()\n",
    "plt.show()"
   ]
  },
  {
   "cell_type": "markdown",
   "metadata": {},
   "source": [
    "## False discovery rate\n",
    "\n",
    "Read in the data:"
   ]
  },
  {
   "cell_type": "code",
   "execution_count": 25,
   "metadata": {},
   "outputs": [
    {
     "data": {
      "text/html": [
       "<div>\n",
       "<style scoped>\n",
       "    .dataframe tbody tr th:only-of-type {\n",
       "        vertical-align: middle;\n",
       "    }\n",
       "\n",
       "    .dataframe tbody tr th {\n",
       "        vertical-align: top;\n",
       "    }\n",
       "\n",
       "    .dataframe thead th {\n",
       "        text-align: right;\n",
       "    }\n",
       "</style>\n",
       "<table border=\"1\" class=\"dataframe\">\n",
       "  <thead>\n",
       "    <tr style=\"text-align: right;\">\n",
       "      <th></th>\n",
       "      <th>school</th>\n",
       "      <th>class</th>\n",
       "      <th>gender</th>\n",
       "      <th>social</th>\n",
       "      <th>raven</th>\n",
       "      <th>id</th>\n",
       "      <th>english</th>\n",
       "      <th>math</th>\n",
       "      <th>year</th>\n",
       "    </tr>\n",
       "  </thead>\n",
       "  <tbody>\n",
       "    <tr>\n",
       "      <th>1</th>\n",
       "      <td>1</td>\n",
       "      <td>1</td>\n",
       "      <td>girl</td>\n",
       "      <td>9</td>\n",
       "      <td>23</td>\n",
       "      <td>1</td>\n",
       "      <td>72</td>\n",
       "      <td>23</td>\n",
       "      <td>0</td>\n",
       "    </tr>\n",
       "    <tr>\n",
       "      <th>2</th>\n",
       "      <td>1</td>\n",
       "      <td>1</td>\n",
       "      <td>girl</td>\n",
       "      <td>9</td>\n",
       "      <td>23</td>\n",
       "      <td>1</td>\n",
       "      <td>80</td>\n",
       "      <td>24</td>\n",
       "      <td>1</td>\n",
       "    </tr>\n",
       "    <tr>\n",
       "      <th>3</th>\n",
       "      <td>1</td>\n",
       "      <td>1</td>\n",
       "      <td>girl</td>\n",
       "      <td>9</td>\n",
       "      <td>23</td>\n",
       "      <td>1</td>\n",
       "      <td>39</td>\n",
       "      <td>23</td>\n",
       "      <td>2</td>\n",
       "    </tr>\n",
       "    <tr>\n",
       "      <th>4</th>\n",
       "      <td>1</td>\n",
       "      <td>1</td>\n",
       "      <td>boy</td>\n",
       "      <td>2</td>\n",
       "      <td>15</td>\n",
       "      <td>2</td>\n",
       "      <td>7</td>\n",
       "      <td>14</td>\n",
       "      <td>0</td>\n",
       "    </tr>\n",
       "    <tr>\n",
       "      <th>5</th>\n",
       "      <td>1</td>\n",
       "      <td>1</td>\n",
       "      <td>boy</td>\n",
       "      <td>2</td>\n",
       "      <td>15</td>\n",
       "      <td>2</td>\n",
       "      <td>17</td>\n",
       "      <td>11</td>\n",
       "      <td>1</td>\n",
       "    </tr>\n",
       "  </tbody>\n",
       "</table>\n",
       "</div>"
      ],
      "text/plain": [
       "   school  class gender  social  raven  id  english  math  year\n",
       "1       1      1   girl       9     23   1       72    23     0\n",
       "2       1      1   girl       9     23   1       80    24     1\n",
       "3       1      1   girl       9     23   1       39    23     2\n",
       "4       1      1    boy       2     15   2        7    14     0\n",
       "5       1      1    boy       2     15   2       17    11     1"
      ]
     },
     "execution_count": 25,
     "metadata": {},
     "output_type": "execute_result"
    }
   ],
   "source": [
    "jsp = pd.read_csv(\"data/jsp.csv\", index_col=0)\n",
    "jsp.head()"
   ]
  },
  {
   "cell_type": "code",
   "execution_count": 26,
   "metadata": {},
   "outputs": [],
   "source": [
    "jsp['mathcent'] = jsp.math - np.mean(jsp.math)"
   ]
  },
  {
   "cell_type": "markdown",
   "metadata": {},
   "source": [
    "Try two different plotting methods"
   ]
  },
  {
   "cell_type": "code",
   "execution_count": 27,
   "metadata": {},
   "outputs": [
    {
     "data": {
      "image/png": "[encoded data removed]",
      "text/plain": [
       "<Figure size 432x288 with 1 Axes>"
      ]
     },
     "metadata": {
      "needs_background": "light"
     },
     "output_type": "display_data"
    }
   ],
   "source": [
    "jsp.boxplot('mathcent',by='school')\n",
    "plt.suptitle(\"\")\n",
    "plt.xticks(fontsize=8, rotation=90)\n",
    "plt.show()"
   ]
  },
  {
   "cell_type": "code",
   "execution_count": 28,
   "metadata": {},
   "outputs": [
    {
     "data": {
      "image/png": "[encoded data removed]",
      "text/plain": [
       "<Figure size 432x288 with 1 Axes>"
      ]
     },
     "metadata": {
      "needs_background": "light"
     },
     "output_type": "display_data"
    }
   ],
   "source": [
    "sns.boxplot(x=\"school\", y=\"mathcent\", data=jsp)\n",
    "plt.xticks(fontsize=8, rotation=90)\n",
    "plt.show()"
   ]
  },
  {
   "cell_type": "code",
   "execution_count": 29,
   "metadata": {},
   "outputs": [
    {
     "data": {
      "text/html": [
       "<table class=\"simpletable\">\n",
       "<caption>OLS Regression Results</caption>\n",
       "<tr>\n",
       "  <th>Dep. Variable:</th>        <td>mathcent</td>     <th>  R-squared:         </th> <td>   0.082</td> \n",
       "</tr>\n",
       "<tr>\n",
       "  <th>Model:</th>                   <td>OLS</td>       <th>  Adj. R-squared:    </th> <td>   0.068</td> \n",
       "</tr>\n",
       "<tr>\n",
       "  <th>Method:</th>             <td>Least Squares</td>  <th>  F-statistic:       </th> <td>   5.935</td> \n",
       "</tr>\n",
       "<tr>\n",
       "  <th>Date:</th>             <td>Wed, 26 Sep 2018</td> <th>  Prob (F-statistic):</th> <td>1.46e-33</td> \n",
       "</tr>\n",
       "<tr>\n",
       "  <th>Time:</th>                 <td>10:18:07</td>     <th>  Log-Likelihood:    </th> <td> -11032.</td> \n",
       "</tr>\n",
       "<tr>\n",
       "  <th>No. Observations:</th>      <td>  3236</td>      <th>  AIC:               </th> <td>2.216e+04</td>\n",
       "</tr>\n",
       "<tr>\n",
       "  <th>Df Residuals:</th>          <td>  3187</td>      <th>  BIC:               </th> <td>2.246e+04</td>\n",
       "</tr>\n",
       "<tr>\n",
       "  <th>Df Model:</th>              <td>    48</td>      <th>                     </th>     <td> </td>    \n",
       "</tr>\n",
       "<tr>\n",
       "  <th>Covariance Type:</th>      <td>nonrobust</td>    <th>                     </th>     <td> </td>    \n",
       "</tr>\n",
       "</table>\n",
       "<table class=\"simpletable\">\n",
       "<tr>\n",
       "        <td></td>           <th>coef</th>     <th>std err</th>      <th>t</th>      <th>P>|t|</th>  <th>[0.025</th>    <th>0.975]</th>  \n",
       "</tr>\n",
       "<tr>\n",
       "  <th>C(school)[1]</th>  <td>   -3.3685</td> <td>    0.769</td> <td>   -4.383</td> <td> 0.000</td> <td>   -4.875</td> <td>   -1.861</td>\n",
       "</tr>\n",
       "<tr>\n",
       "  <th>C(school)[2]</th>  <td>    0.6714</td> <td>    1.229</td> <td>    0.546</td> <td> 0.585</td> <td>   -1.738</td> <td>    3.081</td>\n",
       "</tr>\n",
       "<tr>\n",
       "  <th>C(school)[3]</th>  <td>    2.2964</td> <td>    1.064</td> <td>    2.158</td> <td> 0.031</td> <td>    0.210</td> <td>    4.383</td>\n",
       "</tr>\n",
       "<tr>\n",
       "  <th>C(school)[4]</th>  <td>   -2.6619</td> <td>    0.869</td> <td>   -3.064</td> <td> 0.002</td> <td>   -4.365</td> <td>   -0.958</td>\n",
       "</tr>\n",
       "<tr>\n",
       "  <th>C(school)[5]</th>  <td>    1.8320</td> <td>    0.809</td> <td>    2.264</td> <td> 0.024</td> <td>    0.245</td> <td>    3.419</td>\n",
       "</tr>\n",
       "<tr>\n",
       "  <th>C(school)[6]</th>  <td>    0.2381</td> <td>    0.952</td> <td>    0.250</td> <td> 0.802</td> <td>   -1.628</td> <td>    2.104</td>\n",
       "</tr>\n",
       "<tr>\n",
       "  <th>C(school)[7]</th>  <td>    1.7227</td> <td>    1.181</td> <td>    1.459</td> <td> 0.145</td> <td>   -0.592</td> <td>    4.037</td>\n",
       "</tr>\n",
       "<tr>\n",
       "  <th>C(school)[8]</th>  <td>    0.5909</td> <td>    0.790</td> <td>    0.748</td> <td> 0.455</td> <td>   -0.959</td> <td>    2.141</td>\n",
       "</tr>\n",
       "<tr>\n",
       "  <th>C(school)[9]</th>  <td>    2.2458</td> <td>    0.914</td> <td>    2.456</td> <td> 0.014</td> <td>    0.453</td> <td>    4.039</td>\n",
       "</tr>\n",
       "<tr>\n",
       "  <th>C(school)[10]</th> <td>   -1.2453</td> <td>    1.505</td> <td>   -0.827</td> <td> 0.408</td> <td>   -4.196</td> <td>    1.705</td>\n",
       "</tr>\n",
       "<tr>\n",
       "  <th>C(school)[11]</th> <td>   -0.4619</td> <td>    1.246</td> <td>   -0.371</td> <td> 0.711</td> <td>   -2.905</td> <td>    1.981</td>\n",
       "</tr>\n",
       "<tr>\n",
       "  <th>C(school)[12]</th> <td>    0.2082</td> <td>    0.840</td> <td>    0.248</td> <td> 0.804</td> <td>   -1.439</td> <td>    1.855</td>\n",
       "</tr>\n",
       "<tr>\n",
       "  <th>C(school)[13]</th> <td>   -1.6474</td> <td>    0.888</td> <td>   -1.856</td> <td> 0.064</td> <td>   -3.388</td> <td>    0.093</td>\n",
       "</tr>\n",
       "<tr>\n",
       "  <th>C(school)[14]</th> <td>   -3.2898</td> <td>    1.124</td> <td>   -2.926</td> <td> 0.003</td> <td>   -5.494</td> <td>   -1.086</td>\n",
       "</tr>\n",
       "<tr>\n",
       "  <th>C(school)[15]</th> <td>   -0.4921</td> <td>    1.013</td> <td>   -0.486</td> <td> 0.627</td> <td>   -2.478</td> <td>    1.493</td>\n",
       "</tr>\n",
       "<tr>\n",
       "  <th>C(school)[16]</th> <td>   -3.7374</td> <td>    1.013</td> <td>   -3.691</td> <td> 0.000</td> <td>   -5.723</td> <td>   -1.752</td>\n",
       "</tr>\n",
       "<tr>\n",
       "  <th>C(school)[17]</th> <td>    1.0881</td> <td>    1.648</td> <td>    0.660</td> <td> 0.509</td> <td>   -2.144</td> <td>    4.320</td>\n",
       "</tr>\n",
       "<tr>\n",
       "  <th>C(school)[18]</th> <td>   -0.8619</td> <td>    0.994</td> <td>   -0.867</td> <td> 0.386</td> <td>   -2.811</td> <td>    1.087</td>\n",
       "</tr>\n",
       "<tr>\n",
       "  <th>C(school)[19]</th> <td>    1.6108</td> <td>    1.111</td> <td>    1.449</td> <td> 0.147</td> <td>   -0.568</td> <td>    3.790</td>\n",
       "</tr>\n",
       "<tr>\n",
       "  <th>C(school)[20]</th> <td>   -0.2095</td> <td>    1.138</td> <td>   -0.184</td> <td> 0.854</td> <td>   -2.440</td> <td>    2.021</td>\n",
       "</tr>\n",
       "<tr>\n",
       "  <th>C(school)[21]</th> <td>   -3.6185</td> <td>    0.769</td> <td>   -4.708</td> <td> 0.000</td> <td>   -5.125</td> <td>   -2.111</td>\n",
       "</tr>\n",
       "<tr>\n",
       "  <th>C(school)[22]</th> <td>   -1.7271</td> <td>    1.087</td> <td>   -1.589</td> <td> 0.112</td> <td>   -3.858</td> <td>    0.404</td>\n",
       "</tr>\n",
       "<tr>\n",
       "  <th>C(school)[23]</th> <td>   -0.8171</td> <td>    0.968</td> <td>   -0.844</td> <td> 0.399</td> <td>   -2.715</td> <td>    1.081</td>\n",
       "</tr>\n",
       "<tr>\n",
       "  <th>C(school)[24]</th> <td>    2.6238</td> <td>    0.929</td> <td>    2.825</td> <td> 0.005</td> <td>    0.803</td> <td>    4.445</td>\n",
       "</tr>\n",
       "<tr>\n",
       "  <th>C(school)[25]</th> <td>    1.4232</td> <td>    1.075</td> <td>    1.323</td> <td> 0.186</td> <td>   -0.685</td> <td>    3.532</td>\n",
       "</tr>\n",
       "<tr>\n",
       "  <th>C(school)[26]</th> <td>    0.4919</td> <td>    0.835</td> <td>    0.589</td> <td> 0.556</td> <td>   -1.145</td> <td>    2.129</td>\n",
       "</tr>\n",
       "<tr>\n",
       "  <th>C(school)[27]</th> <td>   -2.3058</td> <td>    0.863</td> <td>   -2.672</td> <td> 0.008</td> <td>   -3.998</td> <td>   -0.614</td>\n",
       "</tr>\n",
       "<tr>\n",
       "  <th>C(school)[28]</th> <td>   -5.8286</td> <td>    1.064</td> <td>   -5.478</td> <td> 0.000</td> <td>   -7.915</td> <td>   -3.742</td>\n",
       "</tr>\n",
       "<tr>\n",
       "  <th>C(school)[29]</th> <td>    0.2090</td> <td>    0.936</td> <td>    0.223</td> <td> 0.823</td> <td>   -1.627</td> <td>    2.045</td>\n",
       "</tr>\n",
       "<tr>\n",
       "  <th>C(school)[30]</th> <td>    0.2392</td> <td>    0.773</td> <td>    0.309</td> <td> 0.757</td> <td>   -1.276</td> <td>    1.754</td>\n",
       "</tr>\n",
       "<tr>\n",
       "  <th>C(school)[31]</th> <td>    3.8241</td> <td>    0.713</td> <td>    5.366</td> <td> 0.000</td> <td>    2.427</td> <td>    5.221</td>\n",
       "</tr>\n",
       "<tr>\n",
       "  <th>C(school)[32]</th> <td>   -0.0268</td> <td>    0.857</td> <td>   -0.031</td> <td> 0.975</td> <td>   -1.707</td> <td>    1.654</td>\n",
       "</tr>\n",
       "<tr>\n",
       "  <th>C(school)[33]</th> <td>    1.0633</td> <td>    0.644</td> <td>    1.651</td> <td> 0.099</td> <td>   -0.200</td> <td>    2.326</td>\n",
       "</tr>\n",
       "<tr>\n",
       "  <th>C(school)[34]</th> <td>    1.9359</td> <td>    0.769</td> <td>    2.519</td> <td> 0.012</td> <td>    0.429</td> <td>    3.443</td>\n",
       "</tr>\n",
       "<tr>\n",
       "  <th>C(school)[35]</th> <td>    1.9041</td> <td>    1.013</td> <td>    1.880</td> <td> 0.060</td> <td>   -0.081</td> <td>    3.890</td>\n",
       "</tr>\n",
       "<tr>\n",
       "  <th>C(school)[36]</th> <td>    2.3605</td> <td>    0.781</td> <td>    3.021</td> <td> 0.003</td> <td>    0.828</td> <td>    3.893</td>\n",
       "</tr>\n",
       "<tr>\n",
       "  <th>C(school)[37]</th> <td>    1.7618</td> <td>    0.960</td> <td>    1.836</td> <td> 0.067</td> <td>   -0.120</td> <td>    3.644</td>\n",
       "</tr>\n",
       "<tr>\n",
       "  <th>C(school)[38]</th> <td>   -1.6106</td> <td>    1.181</td> <td>   -1.364</td> <td> 0.173</td> <td>   -3.925</td> <td>    0.704</td>\n",
       "</tr>\n",
       "<tr>\n",
       "  <th>C(school)[39]</th> <td>   -1.4842</td> <td>    1.099</td> <td>   -1.350</td> <td> 0.177</td> <td>   -3.639</td> <td>    0.671</td>\n",
       "</tr>\n",
       "<tr>\n",
       "  <th>C(school)[40]</th> <td>   -4.9855</td> <td>    1.264</td> <td>   -3.943</td> <td> 0.000</td> <td>   -7.464</td> <td>   -2.506</td>\n",
       "</tr>\n",
       "<tr>\n",
       "  <th>C(school)[41]</th> <td>    0.8809</td> <td>    1.246</td> <td>    0.707</td> <td> 0.480</td> <td>   -1.562</td> <td>    3.324</td>\n",
       "</tr>\n",
       "<tr>\n",
       "  <th>C(school)[42]</th> <td>   -0.3261</td> <td>    0.644</td> <td>   -0.506</td> <td> 0.613</td> <td>   -1.589</td> <td>    0.937</td>\n",
       "</tr>\n",
       "<tr>\n",
       "  <th>C(school)[44]</th> <td>    0.5881</td> <td>    1.843</td> <td>    0.319</td> <td> 0.750</td> <td>   -3.026</td> <td>    4.202</td>\n",
       "</tr>\n",
       "<tr>\n",
       "  <th>C(school)[45]</th> <td>   -4.6392</td> <td>    1.111</td> <td>   -4.174</td> <td> 0.000</td> <td>   -6.818</td> <td>   -2.460</td>\n",
       "</tr>\n",
       "<tr>\n",
       "  <th>C(school)[46]</th> <td>    3.0636</td> <td>    1.032</td> <td>    2.968</td> <td> 0.003</td> <td>    1.039</td> <td>    5.088</td>\n",
       "</tr>\n",
       "<tr>\n",
       "  <th>C(school)[47]</th> <td>    2.3969</td> <td>    0.730</td> <td>    3.284</td> <td> 0.001</td> <td>    0.966</td> <td>    3.828</td>\n",
       "</tr>\n",
       "<tr>\n",
       "  <th>C(school)[48]</th> <td>    0.2119</td> <td>    0.514</td> <td>    0.412</td> <td> 0.680</td> <td>   -0.795</td> <td>    1.219</td>\n",
       "</tr>\n",
       "<tr>\n",
       "  <th>C(school)[49]</th> <td>    2.7964</td> <td>    0.869</td> <td>    3.219</td> <td> 0.001</td> <td>    1.093</td> <td>    4.500</td>\n",
       "</tr>\n",
       "<tr>\n",
       "  <th>C(school)[50]</th> <td>   -2.6520</td> <td>    0.734</td> <td>   -3.615</td> <td> 0.000</td> <td>   -4.090</td> <td>   -1.214</td>\n",
       "</tr>\n",
       "</table>\n",
       "<table class=\"simpletable\">\n",
       "<tr>\n",
       "  <th>Omnibus:</th>       <td>136.092</td> <th>  Durbin-Watson:     </th> <td>   1.213</td>\n",
       "</tr>\n",
       "<tr>\n",
       "  <th>Prob(Omnibus):</th> <td> 0.000</td>  <th>  Jarque-Bera (JB):  </th> <td> 151.071</td>\n",
       "</tr>\n",
       "<tr>\n",
       "  <th>Skew:</th>          <td>-0.521</td>  <th>  Prob(JB):          </th> <td>1.57e-33</td>\n",
       "</tr>\n",
       "<tr>\n",
       "  <th>Kurtosis:</th>      <td> 2.814</td>  <th>  Cond. No.          </th> <td>    3.59</td>\n",
       "</tr>\n",
       "</table><br/><br/>Warnings:<br/>[1] Standard Errors assume that the covariance matrix of the errors is correctly specified."
      ],
      "text/plain": [
       "<class 'statsmodels.iolib.summary.Summary'>\n",
       "\"\"\"\n",
       "                            OLS Regression Results                            \n",
       "==============================================================================\n",
       "Dep. Variable:               mathcent   R-squared:                       0.082\n",
       "Model:                            OLS   Adj. R-squared:                  0.068\n",
       "Method:                 Least Squares   F-statistic:                     5.935\n",
       "Date:                Wed, 26 Sep 2018   Prob (F-statistic):           1.46e-33\n",
       "Time:                        10:18:07   Log-Likelihood:                -11032.\n",
       "No. Observations:                3236   AIC:                         2.216e+04\n",
       "Df Residuals:                    3187   BIC:                         2.246e+04\n",
       "Df Model:                          48                                         \n",
       "Covariance Type:            nonrobust                                         \n",
       "=================================================================================\n",
       "                    coef    std err          t      P>|t|      [0.025      0.975]\n",
       "---------------------------------------------------------------------------------\n",
       "C(school)[1]     -3.3685      0.769     -4.383      0.000      -4.875      -1.861\n",
       "C(school)[2]      0.6714      1.229      0.546      0.585      -1.738       3.081\n",
       "C(school)[3]      2.2964      1.064      2.158      0.031       0.210       4.383\n",
       "C(school)[4]     -2.6619      0.869     -3.064      0.002      -4.365      -0.958\n",
       "C(school)[5]      1.8320      0.809      2.264      0.024       0.245       3.419\n",
       "C(school)[6]      0.2381      0.952      0.250      0.802      -1.628       2.104\n",
       "C(school)[7]      1.7227      1.181      1.459      0.145      -0.592       4.037\n",
       "C(school)[8]      0.5909      0.790      0.748      0.455      -0.959       2.141\n",
       "C(school)[9]      2.2458      0.914      2.456      0.014       0.453       4.039\n",
       "C(school)[10]    -1.2453      1.505     -0.827      0.408      -4.196       1.705\n",
       "C(school)[11]    -0.4619      1.246     -0.371      0.711      -2.905       1.981\n",
       "C(school)[12]     0.2082      0.840      0.248      0.804      -1.439       1.855\n",
       "C(school)[13]    -1.6474      0.888     -1.856      0.064      -3.388       0.093\n",
       "C(school)[14]    -3.2898      1.124     -2.926      0.003      -5.494      -1.086\n",
       "C(school)[15]    -0.4921      1.013     -0.486      0.627      -2.478       1.493\n",
       "C(school)[16]    -3.7374      1.013     -3.691      0.000      -5.723      -1.752\n",
       "C(school)[17]     1.0881      1.648      0.660      0.509      -2.144       4.320\n",
       "C(school)[18]    -0.8619      0.994     -0.867      0.386      -2.811       1.087\n",
       "C(school)[19]     1.6108      1.111      1.449      0.147      -0.568       3.790\n",
       "C(school)[20]    -0.2095      1.138     -0.184      0.854      -2.440       2.021\n",
       "C(school)[21]    -3.6185      0.769     -4.708      0.000      -5.125      -2.111\n",
       "C(school)[22]    -1.7271      1.087     -1.589      0.112      -3.858       0.404\n",
       "C(school)[23]    -0.8171      0.968     -0.844      0.399      -2.715       1.081\n",
       "C(school)[24]     2.6238      0.929      2.825      0.005       0.803       4.445\n",
       "C(school)[25]     1.4232      1.075      1.323      0.186      -0.685       3.532\n",
       "C(school)[26]     0.4919      0.835      0.589      0.556      -1.145       2.129\n",
       "C(school)[27]    -2.3058      0.863     -2.672      0.008      -3.998      -0.614\n",
       "C(school)[28]    -5.8286      1.064     -5.478      0.000      -7.915      -3.742\n",
       "C(school)[29]     0.2090      0.936      0.223      0.823      -1.627       2.045\n",
       "C(school)[30]     0.2392      0.773      0.309      0.757      -1.276       1.754\n",
       "C(school)[31]     3.8241      0.713      5.366      0.000       2.427       5.221\n",
       "C(school)[32]    -0.0268      0.857     -0.031      0.975      -1.707       1.654\n",
       "C(school)[33]     1.0633      0.644      1.651      0.099      -0.200       2.326\n",
       "C(school)[34]     1.9359      0.769      2.519      0.012       0.429       3.443\n",
       "C(school)[35]     1.9041      1.013      1.880      0.060      -0.081       3.890\n",
       "C(school)[36]     2.3605      0.781      3.021      0.003       0.828       3.893\n",
       "C(school)[37]     1.7618      0.960      1.836      0.067      -0.120       3.644\n",
       "C(school)[38]    -1.6106      1.181     -1.364      0.173      -3.925       0.704\n",
       "C(school)[39]    -1.4842      1.099     -1.350      0.177      -3.639       0.671\n",
       "C(school)[40]    -4.9855      1.264     -3.943      0.000      -7.464      -2.506\n",
       "C(school)[41]     0.8809      1.246      0.707      0.480      -1.562       3.324\n",
       "C(school)[42]    -0.3261      0.644     -0.506      0.613      -1.589       0.937\n",
       "C(school)[44]     0.5881      1.843      0.319      0.750      -3.026       4.202\n",
       "C(school)[45]    -4.6392      1.111     -4.174      0.000      -6.818      -2.460\n",
       "C(school)[46]     3.0636      1.032      2.968      0.003       1.039       5.088\n",
       "C(school)[47]     2.3969      0.730      3.284      0.001       0.966       3.828\n",
       "C(school)[48]     0.2119      0.514      0.412      0.680      -0.795       1.219\n",
       "C(school)[49]     2.7964      0.869      3.219      0.001       1.093       4.500\n",
       "C(school)[50]    -2.6520      0.734     -3.615      0.000      -4.090      -1.214\n",
       "==============================================================================\n",
       "Omnibus:                      136.092   Durbin-Watson:                   1.213\n",
       "Prob(Omnibus):                  0.000   Jarque-Bera (JB):              151.071\n",
       "Skew:                          -0.521   Prob(JB):                     1.57e-33\n",
       "Kurtosis:                       2.814   Cond. No.                         3.59\n",
       "==============================================================================\n",
       "\n",
       "Warnings:\n",
       "[1] Standard Errors assume that the covariance matrix of the errors is correctly specified.\n",
       "\"\"\""
      ]
     },
     "execution_count": 29,
     "metadata": {},
     "output_type": "execute_result"
    }
   ],
   "source": [
    "lmod = smf.ols(\"mathcent ~ C(school) - 1\", jsp).fit()\n",
    "lmod.summary()"
   ]
  },
  {
   "cell_type": "code",
   "execution_count": 30,
   "metadata": {},
   "outputs": [
    {
     "data": {
      "text/html": [
       "<div>\n",
       "<style scoped>\n",
       "    .dataframe tbody tr th:only-of-type {\n",
       "        vertical-align: middle;\n",
       "    }\n",
       "\n",
       "    .dataframe tbody tr th {\n",
       "        vertical-align: top;\n",
       "    }\n",
       "\n",
       "    .dataframe thead th {\n",
       "        text-align: right;\n",
       "    }\n",
       "</style>\n",
       "<table border=\"1\" class=\"dataframe\">\n",
       "  <thead>\n",
       "    <tr style=\"text-align: right;\">\n",
       "      <th></th>\n",
       "      <th>df</th>\n",
       "      <th>sum_sq</th>\n",
       "      <th>mean_sq</th>\n",
       "      <th>F</th>\n",
       "      <th>PR(&gt;F)</th>\n",
       "    </tr>\n",
       "  </thead>\n",
       "  <tbody>\n",
       "    <tr>\n",
       "      <th>C(school)</th>\n",
       "      <td>48.0</td>\n",
       "      <td>15483.816175</td>\n",
       "      <td>322.579504</td>\n",
       "      <td>5.935264</td>\n",
       "      <td>1.458040e-33</td>\n",
       "    </tr>\n",
       "    <tr>\n",
       "      <th>Residual</th>\n",
       "      <td>3187.0</td>\n",
       "      <td>173212.333393</td>\n",
       "      <td>54.349650</td>\n",
       "      <td>NaN</td>\n",
       "      <td>NaN</td>\n",
       "    </tr>\n",
       "  </tbody>\n",
       "</table>\n",
       "</div>"
      ],
      "text/plain": [
       "               df         sum_sq     mean_sq         F        PR(>F)\n",
       "C(school)    48.0   15483.816175  322.579504  5.935264  1.458040e-33\n",
       "Residual   3187.0  173212.333393   54.349650       NaN           NaN"
      ]
     },
     "execution_count": 30,
     "metadata": {},
     "output_type": "execute_result"
    }
   ],
   "source": [
    "sm.stats.anova_lm(smf.ols(\"mathcent ~ C(school)\", jsp).fit())"
   ]
  },
  {
   "cell_type": "code",
   "execution_count": 31,
   "metadata": {},
   "outputs": [
    {
     "data": {
      "text/plain": [
       "C(school)[1]     1.210916e-05\n",
       "C(school)[2]     5.848061e-01\n",
       "C(school)[3]     3.099485e-02\n",
       "C(school)[4]     2.203529e-03\n",
       "C(school)[5]     2.364073e-02\n",
       "C(school)[6]     8.024944e-01\n",
       "C(school)[7]     1.445850e-01\n",
       "C(school)[8]     4.547159e-01\n",
       "C(school)[9]     1.410363e-02\n",
       "C(school)[10]    4.080158e-01\n",
       "C(school)[11]    7.108935e-01\n",
       "C(school)[12]    8.042920e-01\n",
       "C(school)[13]    6.351130e-02\n",
       "C(school)[14]    3.455110e-03\n",
       "C(school)[15]    6.270231e-01\n",
       "C(school)[16]    2.273774e-04\n",
       "C(school)[17]    5.092721e-01\n",
       "C(school)[18]    3.859690e-01\n",
       "C(school)[19]    1.473420e-01\n",
       "C(school)[20]    8.538620e-01\n",
       "C(school)[21]    2.610820e-06\n",
       "C(school)[22]    1.121715e-01\n",
       "C(school)[23]    3.986798e-01\n",
       "C(school)[24]    4.759221e-03\n",
       "C(school)[25]    1.857784e-01\n",
       "C(school)[26]    5.556972e-01\n",
       "C(school)[27]    7.572699e-03\n",
       "C(school)[28]    4.647573e-08\n",
       "C(school)[29]    8.233416e-01\n",
       "C(school)[30]    7.569780e-01\n",
       "C(school)[31]    8.645474e-08\n",
       "C(school)[32]    9.750611e-01\n",
       "C(school)[33]    9.889090e-02\n",
       "C(school)[34]    1.182717e-02\n",
       "C(school)[35]    6.015578e-02\n",
       "C(school)[36]    2.541872e-03\n",
       "C(school)[37]    6.650601e-02\n",
       "C(school)[38]    1.725456e-01\n",
       "C(school)[39]    1.769603e-01\n",
       "C(school)[40]    8.213962e-05\n",
       "C(school)[41]    4.796616e-01\n",
       "C(school)[42]    6.127513e-01\n",
       "C(school)[44]    7.496910e-01\n",
       "C(school)[45]    3.070621e-05\n",
       "C(school)[46]    3.023142e-03\n",
       "C(school)[47]    1.035959e-03\n",
       "C(school)[48]    6.800311e-01\n",
       "C(school)[49]    1.301069e-03\n",
       "C(school)[50]    3.046839e-04\n",
       "dtype: float64"
      ]
     },
     "execution_count": 31,
     "metadata": {},
     "output_type": "execute_result"
    }
   ],
   "source": [
    "lmod.pvalues"
   ]
  },
  {
   "cell_type": "code",
   "execution_count": 32,
   "metadata": {},
   "outputs": [],
   "source": [
    "from statsmodels.sandbox.stats.multicomp import multipletests\n",
    "reject, padj, _, _ = multipletests(lmod.pvalues, method=\"bonferroni\")"
   ]
  },
  {
   "cell_type": "markdown",
   "metadata": {},
   "source": [
    "These schools are rejected by Bonferroni."
   ]
  },
  {
   "cell_type": "code",
   "execution_count": 33,
   "metadata": {},
   "outputs": [
    {
     "data": {
      "text/plain": [
       "C(school)[1]    -3.368450\n",
       "C(school)[16]   -3.737400\n",
       "C(school)[21]   -3.618450\n",
       "C(school)[28]   -5.828595\n",
       "C(school)[31]    3.824053\n",
       "C(school)[40]   -4.985458\n",
       "C(school)[45]   -4.639201\n",
       "C(school)[50]   -2.652027\n",
       "dtype: float64"
      ]
     },
     "execution_count": 33,
     "metadata": {},
     "output_type": "execute_result"
    }
   ],
   "source": [
    "lmod.params[reject]"
   ]
  },
  {
   "cell_type": "code",
   "execution_count": 34,
   "metadata": {},
   "outputs": [
    {
     "data": {
      "text/plain": [
       "Index(['C(school)[28]', 'C(school)[31]', 'C(school)[21]', 'C(school)[1]',\n",
       "       'C(school)[45]', 'C(school)[40]', 'C(school)[16]', 'C(school)[50]',\n",
       "       'C(school)[47]', 'C(school)[49]', 'C(school)[4]', 'C(school)[36]',\n",
       "       'C(school)[46]', 'C(school)[14]', 'C(school)[24]', 'C(school)[27]',\n",
       "       'C(school)[34]', 'C(school)[9]'],\n",
       "      dtype='object')"
      ]
     },
     "execution_count": 34,
     "metadata": {},
     "output_type": "execute_result"
    }
   ],
   "source": [
    "selsch = np.argsort(lmod.pvalues)[np.sort(lmod.pvalues) < np.arange(1,50)*0.05/49]\n",
    "lmod.params.index[selsch]"
   ]
  },
  {
   "cell_type": "markdown",
   "metadata": {},
   "source": [
    "Schools identified using false discovery rate."
   ]
  },
  {
   "cell_type": "code",
   "execution_count": 35,
   "metadata": {},
   "outputs": [
    {
     "data": {
      "text/plain": [
       "C(school)[1]    -3.368450\n",
       "C(school)[4]    -2.661928\n",
       "C(school)[9]     2.245764\n",
       "C(school)[14]   -3.289835\n",
       "C(school)[16]   -3.737400\n",
       "C(school)[21]   -3.618450\n",
       "C(school)[24]    2.623786\n",
       "C(school)[27]   -2.305764\n",
       "C(school)[28]   -5.828595\n",
       "C(school)[31]    3.824053\n",
       "C(school)[34]    1.935898\n",
       "C(school)[36]    2.360544\n",
       "C(school)[40]   -4.985458\n",
       "C(school)[45]   -4.639201\n",
       "C(school)[46]    3.063562\n",
       "C(school)[47]    2.396895\n",
       "C(school)[49]    2.796405\n",
       "C(school)[50]   -2.652027\n",
       "dtype: float64"
      ]
     },
     "execution_count": 35,
     "metadata": {},
     "output_type": "execute_result"
    }
   ],
   "source": [
    "reject, padj, _, _ = multipletests(lmod.pvalues, method=\"fdr_bh\")\n",
    "lmod.params[reject]"
   ]
  },
  {
   "cell_type": "code",
   "execution_count": 36,
   "metadata": {},
   "outputs": [
    {
     "data": {
      "application/json": {
       "Software versions": [
        {
         "module": "Python",
         "version": "3.7.0 64bit [Clang 4.0.1 (tags/RELEASE_401/final)]"
        },
        {
         "module": "IPython",
         "version": "6.5.0"
        },
        {
         "module": "OS",
         "version": "Darwin 17.7.0 x86_64 i386 64bit"
        },
        {
         "module": "pandas",
         "version": "0.23.4"
        },
        {
         "module": "numpy",
         "version": "1.15.1"
        },
        {
         "module": "matplotlib",
         "version": "2.2.3"
        },
        {
         "module": "seaborn",
         "version": "0.9.0"
        },
        {
         "module": "scipy",
         "version": "1.1.0"
        },
        {
         "module": "patsy",
         "version": "0.5.0"
        },
        {
         "module": "statsmodels",
         "version": "0.9.0"
        }
       ]
      },
      "text/html": [
       "<table><tr><th>Software</th><th>Version</th></tr><tr><td>Python</td><td>3.7.0 64bit [Clang 4.0.1 (tags/RELEASE_401/final)]</td></tr><tr><td>IPython</td><td>6.5.0</td></tr><tr><td>OS</td><td>Darwin 17.7.0 x86_64 i386 64bit</td></tr><tr><td>pandas</td><td>0.23.4</td></tr><tr><td>numpy</td><td>1.15.1</td></tr><tr><td>matplotlib</td><td>2.2.3</td></tr><tr><td>seaborn</td><td>0.9.0</td></tr><tr><td>scipy</td><td>1.1.0</td></tr><tr><td>patsy</td><td>0.5.0</td></tr><tr><td>statsmodels</td><td>0.9.0</td></tr><tr><td colspan='2'>Wed Sep 26 10:18:07 2018 BST</td></tr></table>"
      ],
      "text/latex": [
       "\\begin{tabular}{|l|l|}\\hline\n",
       "{\\bf Software} & {\\bf Version} \\\\ \\hline\\hline\n",
       "Python & 3.7.0 64bit [Clang 4.0.1 (tags/RELEASE\\_401/final)] \\\\ \\hline\n",
       "IPython & 6.5.0 \\\\ \\hline\n",
       "OS & Darwin 17.7.0 x86\\_64 i386 64bit \\\\ \\hline\n",
       "pandas & 0.23.4 \\\\ \\hline\n",
       "numpy & 1.15.1 \\\\ \\hline\n",
       "matplotlib & 2.2.3 \\\\ \\hline\n",
       "seaborn & 0.9.0 \\\\ \\hline\n",
       "scipy & 1.1.0 \\\\ \\hline\n",
       "patsy & 0.5.0 \\\\ \\hline\n",
       "statsmodels & 0.9.0 \\\\ \\hline\n",
       "\\hline \\multicolumn{2}{|l|}{Wed Sep 26 10:18:07 2018 BST} \\\\ \\hline\n",
       "\\end{tabular}\n"
      ],
      "text/plain": [
       "Software versions\n",
       "Python 3.7.0 64bit [Clang 4.0.1 (tags/RELEASE_401/final)]\n",
       "IPython 6.5.0\n",
       "OS Darwin 17.7.0 x86_64 i386 64bit\n",
       "pandas 0.23.4\n",
       "numpy 1.15.1\n",
       "matplotlib 2.2.3\n",
       "seaborn 0.9.0\n",
       "scipy 1.1.0\n",
       "patsy 0.5.0\n",
       "statsmodels 0.9.0\n",
       "Wed Sep 26 10:18:07 2018 BST"
      ]
     },
     "execution_count": 36,
     "metadata": {},
     "output_type": "execute_result"
    }
   ],
   "source": [
    "%load_ext version_information\n",
    "%version_information pandas, numpy, matplotlib, seaborn, scipy, patsy, statsmodels"
   ]
  }
 ],
 "metadata": {
  "kernelspec": {
   "display_name": "Python 3",
   "language": "python",
   "name": "python3"
  },
  "language_info": {
   "codemirror_mode": {
    "name": "ipython",
    "version": 3
   },
   "file_extension": ".py",
   "mimetype": "text/x-python",
   "name": "python",
   "nbconvert_exporter": "python",
   "pygments_lexer": "ipython3",
   "version": "3.7.0"
  }
 },
 "nbformat": 4,
 "nbformat_minor": 2
}
