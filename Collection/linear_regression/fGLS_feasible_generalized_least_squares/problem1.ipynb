{
 "cells": [
  {
   "cell_type": "markdown",
   "metadata": {
    "toc": true
   },
   "source": [
    "<h1>Table of Contents<span class=\"tocSkip\"></span></h1>\n",
    "<div class=\"toc\"><ul class=\"toc-item\"><li><span><a href=\"#Crime-and-Unemployment---practical\" data-toc-modified-id=\"Crime-and-Unemployment---practical-1\"><span class=\"toc-item-num\">1&nbsp;&nbsp;</span>Crime and Unemployment - practical</a></span><ul class=\"toc-item\"><li><span><a href=\"#Firstly-let’s-look-at-our-data.-This-is-the-most-important-part-of-econometrics,-and\" data-toc-modified-id=\"Firstly-let’s-look-at-our-data.-This-is-the-most-important-part-of-econometrics,-and-1.1\"><span class=\"toc-item-num\">1.1&nbsp;&nbsp;</span>Firstly let’s look at our data. This is the most important part of econometrics, and</a></span></li><li><span><a href=\"#hist\" data-toc-modified-id=\"hist-1.2\"><span class=\"toc-item-num\">1.2&nbsp;&nbsp;</span>hist</a></span></li><li><span><a href=\"#state-with-highest-violence\" data-toc-modified-id=\"state-with-highest-violence-1.3\"><span class=\"toc-item-num\">1.3&nbsp;&nbsp;</span>state with highest violence</a></span></li><li><span><a href=\"#summary\" data-toc-modified-id=\"summary-1.4\"><span class=\"toc-item-num\">1.4&nbsp;&nbsp;</span>summary</a></span></li><li><span><a href=\"#unemployment-and-violent-crime-rates\" data-toc-modified-id=\"unemployment-and-violent-crime-rates-1.5\"><span class=\"toc-item-num\">1.5&nbsp;&nbsp;</span>unemployment and violent crime rates</a></span></li><li><span><a href=\"#correlation\" data-toc-modified-id=\"correlation-1.6\"><span class=\"toc-item-num\">1.6&nbsp;&nbsp;</span>correlation</a></span></li><li><span><a href=\"#OLS-violence-~-uneployment\" data-toc-modified-id=\"OLS-violence-~-uneployment-1.7\"><span class=\"toc-item-num\">1.7&nbsp;&nbsp;</span>OLS violence ~ uneployment</a></span></li><li><span><a href=\"#coef_-of-unempl\" data-toc-modified-id=\"coef_-of-unempl-1.8\"><span class=\"toc-item-num\">1.8&nbsp;&nbsp;</span>coef_ of unempl</a></span></li><li><span><a href=\"#1std-increase-in-unemp\" data-toc-modified-id=\"1std-increase-in-unemp-1.9\"><span class=\"toc-item-num\">1.9&nbsp;&nbsp;</span>1std increase in unemp</a></span></li><li><span><a href=\"#1std-increase-in-violence\" data-toc-modified-id=\"1std-increase-in-violence-1.10\"><span class=\"toc-item-num\">1.10&nbsp;&nbsp;</span>1std increase in violence</a></span></li><li><span><a href=\"#qn\" data-toc-modified-id=\"qn-1.11\"><span class=\"toc-item-num\">1.11&nbsp;&nbsp;</span>qn</a></span></li><li><span><a href=\"#qn\" data-toc-modified-id=\"qn-1.12\"><span class=\"toc-item-num\">1.12&nbsp;&nbsp;</span>qn</a></span></li><li><span><a href=\"#qn\" data-toc-modified-id=\"qn-1.13\"><span class=\"toc-item-num\">1.13&nbsp;&nbsp;</span>qn</a></span></li></ul></li></ul></div>"
   ]
  },
  {
   "cell_type": "code",
   "execution_count": 1,
   "metadata": {
    "ExecuteTime": {
     "end_time": "2019-06-25T02:47:20.511107Z",
     "start_time": "2019-06-25T02:47:18.644597Z"
    }
   },
   "outputs": [],
   "source": [
    "import numpy as np\n",
    "import pandas as pd\n",
    "import seaborn as sns\n",
    "sns.set()\n",
    "\n",
    "import matplotlib.pyplot as plt\n",
    "plt.rcParams[\"figure.figsize\"] = [10, 8]\n",
    "plt.style.use('fivethirtyeight')\n",
    "%matplotlib inline"
   ]
  },
  {
   "cell_type": "markdown",
   "metadata": {},
   "source": [
    "# Crime and Unemployment - practical\n",
    "In this question we are going to examine the relationship between rates of violent\n",
    "crime in the US, and the rate of unemployment. In order to download the data for this\n",
    "problem set go to:\n",
    "http://www.oxbridge-tutor.co.uk/#!datasets/culy\n",
    "and download the sample dataset for problem set 1 - it should be in a Excel 1997-2003\n",
    "format. Don’t worry if you don’t have Excel on your computer, Gretl is still able to\n",
    "read the file. Start up Gretl. In order to import the data into Gretl navigate to File\n",
    "→ Open data → Import → Excel. Then select the file from its location where it was\n",
    "downloaded to, and click ’open’. Just click ’ok’ of a box opens asking about the row\n",
    "and column number to start from. Then click ’no’ when asked about whether you\n",
    "want to give the data a time series or panel interpretation. If the import has worked\n",
    "you should see three variable names: const, Violence & Unemployment listed in the\n",
    "Gretl variable window.\n",
    "The violent crime data comes from the FBI, who have data going back to 1960 by State,\n",
    "and is defined as, ’the number of victims of violent crime per 100,000 persons per year.’\n",
    "This particular data comes from 2010. The unemployment rate comes from the United\n",
    "States Department of Labor, and represents the preliminary estimates of the % of labor\n",
    "force who were unemployed in 2013."
   ]
  },
  {
   "cell_type": "markdown",
   "metadata": {
    "ExecuteTime": {
     "end_time": "2019-06-25T02:48:08.922362Z",
     "start_time": "2019-06-25T02:48:08.916877Z"
    }
   },
   "source": [
    "## Firstly let’s look at our data. This is the most important part of econometrics, and\n",
    "it is often forgotten. Let’s draw a histogram of the Violence data. Left click on\n",
    "the ’Violence’ data to select it, then Variable → Frequency distribution, at the top\n",
    "of the Gretl GUI. Select the number of bins equal to 19, and select the then click\n",
    "’ok’. A nice histogram should pop up as a figure."
   ]
  },
  {
   "cell_type": "code",
   "execution_count": 4,
   "metadata": {
    "ExecuteTime": {
     "end_time": "2019-06-25T02:49:26.458095Z",
     "start_time": "2019-06-25T02:49:26.332443Z"
    }
   },
   "outputs": [
    {
     "name": "stdout",
     "output_type": "stream",
     "text": [
      "nbasal.xls      problemset1.xls\r\n"
     ]
    }
   ],
   "source": [
    "!ls *.xls"
   ]
  },
  {
   "cell_type": "code",
   "execution_count": 6,
   "metadata": {
    "ExecuteTime": {
     "end_time": "2019-06-25T02:50:06.914526Z",
     "start_time": "2019-06-25T02:50:06.893671Z"
    }
   },
   "outputs": [
    {
     "name": "stdout",
     "output_type": "stream",
     "text": [
      "(51, 3)\n"
     ]
    },
    {
     "data": {
      "text/html": [
       "<div>\n",
       "<style scoped>\n",
       "    .dataframe tbody tr th:only-of-type {\n",
       "        vertical-align: middle;\n",
       "    }\n",
       "\n",
       "    .dataframe tbody tr th {\n",
       "        vertical-align: top;\n",
       "    }\n",
       "\n",
       "    .dataframe thead th {\n",
       "        text-align: right;\n",
       "    }\n",
       "</style>\n",
       "<table border=\"1\" class=\"dataframe\">\n",
       "  <thead>\n",
       "    <tr style=\"text-align: right;\">\n",
       "      <th></th>\n",
       "      <th>State</th>\n",
       "      <th>Unemployment</th>\n",
       "      <th>Violence</th>\n",
       "    </tr>\n",
       "  </thead>\n",
       "  <tbody>\n",
       "    <tr>\n",
       "      <th>0</th>\n",
       "      <td>Alabama</td>\n",
       "      <td>7.2</td>\n",
       "      <td>383.7</td>\n",
       "    </tr>\n",
       "    <tr>\n",
       "      <th>1</th>\n",
       "      <td>Alaska</td>\n",
       "      <td>7.0</td>\n",
       "      <td>635.3</td>\n",
       "    </tr>\n",
       "    <tr>\n",
       "      <th>2</th>\n",
       "      <td>Arizona</td>\n",
       "      <td>7.7</td>\n",
       "      <td>413.6</td>\n",
       "    </tr>\n",
       "    <tr>\n",
       "      <th>3</th>\n",
       "      <td>Arkansas</td>\n",
       "      <td>7.2</td>\n",
       "      <td>503.5</td>\n",
       "    </tr>\n",
       "    <tr>\n",
       "      <th>4</th>\n",
       "      <td>California</td>\n",
       "      <td>8.9</td>\n",
       "      <td>439.6</td>\n",
       "    </tr>\n",
       "  </tbody>\n",
       "</table>\n",
       "</div>"
      ],
      "text/plain": [
       "        State  Unemployment  Violence\n",
       "0     Alabama           7.2     383.7\n",
       "1      Alaska           7.0     635.3\n",
       "2     Arizona           7.7     413.6\n",
       "3    Arkansas           7.2     503.5\n",
       "4  California           8.9     439.6"
      ]
     },
     "execution_count": 6,
     "metadata": {},
     "output_type": "execute_result"
    }
   ],
   "source": [
    "df = pd.read_excel('problemset1.xls')\n",
    "print(df.shape)\n",
    "df.head()"
   ]
  },
  {
   "cell_type": "code",
   "execution_count": 7,
   "metadata": {
    "ExecuteTime": {
     "end_time": "2019-06-25T02:50:58.285568Z",
     "start_time": "2019-06-25T02:50:58.062555Z"
    }
   },
   "outputs": [
    {
     "data": {
      "text/plain": [
       "<matplotlib.axes._subplots.AxesSubplot at 0x1a1c1b9c88>"
      ]
     },
     "execution_count": 7,
     "metadata": {},
     "output_type": "execute_result"
    },
    {
     "data": {
      "image/png": "[encoded data removed]",
      "text/plain": [
       "<Figure size 432x288 with 1 Axes>"
      ]
     },
     "metadata": {
      "needs_background": "light"
     },
     "output_type": "display_data"
    }
   ],
   "source": [
    "df.Violence.plot.hist(bins=19)"
   ]
  },
  {
   "cell_type": "markdown",
   "metadata": {},
   "source": [
    "## hist\n",
    "Draw a similar histogram (with 19 bins) of the Unemployment data, and report\n",
    "the unemployment rate bin which has the highest frequency."
   ]
  },
  {
   "cell_type": "code",
   "execution_count": 8,
   "metadata": {
    "ExecuteTime": {
     "end_time": "2019-06-25T02:53:13.807090Z",
     "start_time": "2019-06-25T02:53:13.608296Z"
    }
   },
   "outputs": [
    {
     "data": {
      "text/plain": [
       "<matplotlib.axes._subplots.AxesSubplot at 0x1a1c4a6cc0>"
      ]
     },
     "execution_count": 8,
     "metadata": {},
     "output_type": "execute_result"
    },
    {
     "data": {
      "image/png": "[encoded data removed]",
      "text/plain": [
       "<Figure size 432x288 with 1 Axes>"
      ]
     },
     "metadata": {
      "needs_background": "light"
     },
     "output_type": "display_data"
    }
   ],
   "source": [
    "df.Unemployment.plot.hist(bins=19)"
   ]
  },
  {
   "cell_type": "markdown",
   "metadata": {},
   "source": [
    "## state with highest violence\n",
    "Can you find out which State has the highest rate of violent crime reported? To\n",
    "do this you just need to click on the ’Violence’ variable, then look for the state\n",
    "with the highest violence rate."
   ]
  },
  {
   "cell_type": "code",
   "execution_count": 9,
   "metadata": {
    "ExecuteTime": {
     "end_time": "2019-06-25T02:54:29.962027Z",
     "start_time": "2019-06-25T02:54:29.953819Z"
    }
   },
   "outputs": [
    {
     "data": {
      "text/plain": [
       "Index(['State', 'Unemployment', 'Violence'], dtype='object')"
      ]
     },
     "execution_count": 9,
     "metadata": {},
     "output_type": "execute_result"
    }
   ],
   "source": [
    "df.columns"
   ]
  },
  {
   "cell_type": "code",
   "execution_count": 19,
   "metadata": {
    "ExecuteTime": {
     "end_time": "2019-06-25T02:58:34.253057Z",
     "start_time": "2019-06-25T02:58:34.242220Z"
    }
   },
   "outputs": [
    {
     "data": {
      "text/html": [
       "<div>\n",
       "<style scoped>\n",
       "    .dataframe tbody tr th:only-of-type {\n",
       "        vertical-align: middle;\n",
       "    }\n",
       "\n",
       "    .dataframe tbody tr th {\n",
       "        vertical-align: top;\n",
       "    }\n",
       "\n",
       "    .dataframe thead th {\n",
       "        text-align: right;\n",
       "    }\n",
       "</style>\n",
       "<table border=\"1\" class=\"dataframe\">\n",
       "  <thead>\n",
       "    <tr style=\"text-align: right;\">\n",
       "      <th></th>\n",
       "      <th>State</th>\n",
       "      <th>Unemployment</th>\n",
       "      <th>Violence</th>\n",
       "    </tr>\n",
       "  </thead>\n",
       "  <tbody>\n",
       "    <tr>\n",
       "      <th>8</th>\n",
       "      <td>District of Columbia</td>\n",
       "      <td>8.5</td>\n",
       "      <td>1326.8</td>\n",
       "    </tr>\n",
       "  </tbody>\n",
       "</table>\n",
       "</div>"
      ],
      "text/plain": [
       "                  State  Unemployment  Violence\n",
       "8  District of Columbia           8.5    1326.8"
      ]
     },
     "execution_count": 19,
     "metadata": {},
     "output_type": "execute_result"
    }
   ],
   "source": [
    "df.query('Violence == @df.Violence.max()')"
   ]
  },
  {
   "cell_type": "markdown",
   "metadata": {},
   "source": [
    "## summary\n",
    "Another way of understanding a dataset it to look at its summary statistics.\n",
    "Gretl provides a nice, and simple way of doing this. In order to view this\n",
    "information for a given variable, just click ’Variable’ → ’Summary Statistics’.\n",
    "This will provide a statistical summary of a given variable. Why not have a look\n",
    "at the Unemployment dataset’s summary statistics?"
   ]
  },
  {
   "cell_type": "code",
   "execution_count": 20,
   "metadata": {
    "ExecuteTime": {
     "end_time": "2019-06-25T02:59:38.186230Z",
     "start_time": "2019-06-25T02:59:38.175032Z"
    }
   },
   "outputs": [
    {
     "data": {
      "text/plain": [
       "count    51.000000\n",
       "mean      6.764706\n",
       "std       1.539328\n",
       "min       2.900000\n",
       "25%       5.550000\n",
       "50%       6.900000\n",
       "75%       7.800000\n",
       "max       9.600000\n",
       "Name: Unemployment, dtype: float64"
      ]
     },
     "execution_count": 20,
     "metadata": {},
     "output_type": "execute_result"
    }
   ],
   "source": [
    "df['Unemployment'].describe()"
   ]
  },
  {
   "cell_type": "code",
   "execution_count": 29,
   "metadata": {
    "ExecuteTime": {
     "end_time": "2019-06-25T03:20:12.531398Z",
     "start_time": "2019-06-25T03:20:11.805267Z"
    }
   },
   "outputs": [
    {
     "data": {
      "text/html": [
       "<meta charset=\"UTF-8\">\n",
       "\n",
       "<style>\n",
       "\n",
       "        .variablerow {\n",
       "            border: 1px solid #e1e1e8;\n",
       "            border-top: hidden;\n",
       "            padding-top: 2em;\n",
       "            padding-bottom: 2em;\n",
       "            padding-left: 1em;\n",
       "            padding-right: 1em;\n",
       "        }\n",
       "\n",
       "        .headerrow {\n",
       "            border: 1px solid #e1e1e8;\n",
       "            background-color: #f5f5f5;\n",
       "            padding: 2em;\n",
       "        }\n",
       "        .namecol {\n",
       "            margin-top: -1em;\n",
       "            overflow-x: auto;\n",
       "        }\n",
       "\n",
       "        .dl-horizontal dt {\n",
       "            text-align: left;\n",
       "            padding-right: 1em;\n",
       "            white-space: normal;\n",
       "        }\n",
       "\n",
       "        .dl-horizontal dd {\n",
       "            margin-left: 0;\n",
       "        }\n",
       "\n",
       "        .ignore {\n",
       "            opacity: 0.4;\n",
       "        }\n",
       "\n",
       "        .container.pandas-profiling {\n",
       "            max-width:975px;\n",
       "        }\n",
       "\n",
       "        .col-md-12 {\n",
       "            padding-left: 2em;\n",
       "        }\n",
       "\n",
       "        .indent {\n",
       "            margin-left: 1em;\n",
       "        }\n",
       "\n",
       "        .center-img {\n",
       "            margin-left: auto !important;\n",
       "            margin-right: auto !important;\n",
       "            display: block;\n",
       "        }\n",
       "\n",
       "        /* Table example_values */\n",
       "            table.example_values {\n",
       "                border: 0;\n",
       "            }\n",
       "\n",
       "            .example_values th {\n",
       "                border: 0;\n",
       "                padding: 0 ;\n",
       "                color: #555;\n",
       "                font-weight: 600;\n",
       "            }\n",
       "\n",
       "            .example_values tr, .example_values td{\n",
       "                border: 0;\n",
       "                padding: 0;\n",
       "                color: #555;\n",
       "            }\n",
       "\n",
       "        /* STATS */\n",
       "            table.stats {\n",
       "                border: 0;\n",
       "            }\n",
       "\n",
       "            .stats th {\n",
       "                border: 0;\n",
       "                padding: 0 2em 0 0;\n",
       "                color: #555;\n",
       "                font-weight: 600;\n",
       "            }\n",
       "\n",
       "            .stats tr {\n",
       "                border: 0;\n",
       "            }\n",
       "\n",
       "            .stats td{\n",
       "                color: #555;\n",
       "                padding: 1px;\n",
       "                border: 0;\n",
       "            }\n",
       "\n",
       "\n",
       "        /* Sample table */\n",
       "            table.sample {\n",
       "                border: 0;\n",
       "                margin-bottom: 2em;\n",
       "                margin-left:1em;\n",
       "            }\n",
       "            .sample tr {\n",
       "                border:0;\n",
       "            }\n",
       "            .sample td, .sample th{\n",
       "                padding: 0.5em;\n",
       "                white-space: nowrap;\n",
       "                border: none;\n",
       "\n",
       "            }\n",
       "\n",
       "            .sample thead {\n",
       "                border-top: 0;\n",
       "                border-bottom: 2px solid #ddd;\n",
       "            }\n",
       "\n",
       "            .sample td {\n",
       "                width:100%;\n",
       "            }\n",
       "\n",
       "\n",
       "        /* There is no good solution available to make the divs equal height and then center ... */\n",
       "            .histogram {\n",
       "                margin-top: 3em;\n",
       "            }\n",
       "        /* Freq table */\n",
       "\n",
       "            table.freq {\n",
       "                margin-bottom: 2em;\n",
       "                border: 0;\n",
       "            }\n",
       "            table.freq th, table.freq tr, table.freq td {\n",
       "                border: 0;\n",
       "                padding: 0;\n",
       "            }\n",
       "\n",
       "            .freq thead {\n",
       "                font-weight: 600;\n",
       "                white-space: nowrap;\n",
       "                overflow: hidden;\n",
       "                text-overflow: ellipsis;\n",
       "\n",
       "            }\n",
       "\n",
       "            td.fillremaining{\n",
       "                width:auto;\n",
       "                max-width: none;\n",
       "            }\n",
       "\n",
       "            td.number, th.number {\n",
       "                text-align:right ;\n",
       "            }\n",
       "\n",
       "        /* Freq mini */\n",
       "            .freq.mini td{\n",
       "                width: 50%;\n",
       "                padding: 1px;\n",
       "                font-size: 12px;\n",
       "\n",
       "            }\n",
       "            table.freq.mini {\n",
       "                 width:100%;\n",
       "            }\n",
       "            .freq.mini th {\n",
       "                overflow: hidden;\n",
       "                text-overflow: ellipsis;\n",
       "                white-space: nowrap;\n",
       "                max-width: 5em;\n",
       "                font-weight: 400;\n",
       "                text-align:right;\n",
       "                padding-right: 0.5em;\n",
       "            }\n",
       "\n",
       "            .missing {\n",
       "                color: #a94442;\n",
       "            }\n",
       "            .alert, .alert > th, .alert > td {\n",
       "                color: #a94442;\n",
       "            }\n",
       "\n",
       "\n",
       "        /* Bars in tables */\n",
       "            .freq .bar{\n",
       "                float: left;\n",
       "                width: 0;\n",
       "                height: 100%;\n",
       "                line-height: 20px;\n",
       "                color: #fff;\n",
       "                text-align: center;\n",
       "                background-color: #337ab7;\n",
       "                border-radius: 3px;\n",
       "                margin-right: 4px;\n",
       "            }\n",
       "            .other .bar {\n",
       "                background-color: #999;\n",
       "            }\n",
       "            .missing .bar{\n",
       "                background-color: #a94442;\n",
       "            }\n",
       "            .tooltip-inner {\n",
       "                width: 100%;\n",
       "                white-space: nowrap;\n",
       "                text-align:left;\n",
       "            }\n",
       "\n",
       "            .extrapadding{\n",
       "                padding: 2em;\n",
       "            }\n",
       "\n",
       "            .pp-anchor{\n",
       "\n",
       "            }\n",
       "\n",
       "</style>\n",
       "\n",
       "<div class=\"container pandas-profiling\">\n",
       "    <div class=\"row headerrow highlight\">\n",
       "        <h1>Overview</h1>\n",
       "    </div>\n",
       "    <div class=\"row variablerow\">\n",
       "    <div class=\"col-md-6 namecol\">\n",
       "        <p class=\"h4\">Dataset info</p>\n",
       "        <table class=\"stats\" style=\"margin-left: 1em;\">\n",
       "            <tbody>\n",
       "            <tr>\n",
       "                <th>Number of variables</th>\n",
       "                <td>1 </td>\n",
       "            </tr>\n",
       "            <tr>\n",
       "                <th>Number of observations</th>\n",
       "                <td>51 </td>\n",
       "            </tr>\n",
       "            <tr>\n",
       "                <th>Total Missing (%)</th>\n",
       "                <td>0.0% </td>\n",
       "            </tr>\n",
       "            <tr>\n",
       "                <th>Total size in memory</th>\n",
       "                <td>488.0 B </td>\n",
       "            </tr>\n",
       "            <tr>\n",
       "                <th>Average record size in memory</th>\n",
       "                <td>9.6 B </td>\n",
       "            </tr>\n",
       "            </tbody>\n",
       "        </table>\n",
       "    </div>\n",
       "    <div class=\"col-md-6 namecol\">\n",
       "        <p class=\"h4\">Variables types</p>\n",
       "        <table class=\"stats\" style=\"margin-left: 1em;\">\n",
       "            <tbody>\n",
       "            <tr>\n",
       "                <th>Numeric</th>\n",
       "                <td>1 </td>\n",
       "            </tr>\n",
       "            <tr>\n",
       "                <th>Categorical</th>\n",
       "                <td>0 </td>\n",
       "            </tr>\n",
       "            <tr>\n",
       "                <th>Boolean</th>\n",
       "                <td>0 </td>\n",
       "            </tr>\n",
       "            <tr>\n",
       "                <th>Date</th>\n",
       "                <td>0 </td>\n",
       "            </tr>\n",
       "            <tr>\n",
       "                <th>Text (Unique)</th>\n",
       "                <td>0 </td>\n",
       "            </tr>\n",
       "            <tr>\n",
       "                <th>Rejected</th>\n",
       "                <td>0 </td>\n",
       "            </tr>\n",
       "            <tr>\n",
       "                <th>Unsupported</th>\n",
       "                <td>0 </td>\n",
       "            </tr>\n",
       "            </tbody>\n",
       "        </table>\n",
       "    </div>\n",
       "    <div class=\"col-md-12\" style=\"padding-left: 1em;\">\n",
       "        \n",
       "        <p class=\"h4\">Warnings</p>\n",
       "        <ul class=\"list-unstyled\"><li>Dataset has 18 duplicate rows <span class=\"label label-warning\">Warning</span></li> </ul>\n",
       "    </div>\n",
       "</div>\n",
       "    <div class=\"row headerrow highlight\">\n",
       "        <h1>Variables</h1>\n",
       "    </div>\n",
       "    <div class=\"row variablerow\">\n",
       "    <div class=\"col-md-3 namecol\">\n",
       "        <p class=\"h4 pp-anchor\" id=\"pp_var_Unemployment\">Unemployment<br/>\n",
       "            <small>Numeric</small>\n",
       "        </p>\n",
       "    </div><div class=\"col-md-6\">\n",
       "    <div class=\"row\">\n",
       "        <div class=\"col-sm-6\">\n",
       "            <table class=\"stats \">\n",
       "                <tr>\n",
       "                    <th>Distinct count</th>\n",
       "                    <td>33</td>\n",
       "                </tr>\n",
       "                <tr>\n",
       "                    <th>Unique (%)</th>\n",
       "                    <td>64.7%</td>\n",
       "                </tr>\n",
       "                <tr class=\"ignore\">\n",
       "                    <th>Missing (%)</th>\n",
       "                    <td>0.0%</td>\n",
       "                </tr>\n",
       "                <tr class=\"ignore\">\n",
       "                    <th>Missing (n)</th>\n",
       "                    <td>0</td>\n",
       "                </tr>\n",
       "                <tr class=\"ignore\">\n",
       "                    <th>Infinite (%)</th>\n",
       "                    <td>0.0%</td>\n",
       "                </tr>\n",
       "                <tr class=\"ignore\">\n",
       "                    <th>Infinite (n)</th>\n",
       "                    <td>0</td>\n",
       "                </tr>\n",
       "            </table>\n",
       "\n",
       "        </div>\n",
       "        <div class=\"col-sm-6\">\n",
       "            <table class=\"stats \">\n",
       "\n",
       "                <tr>\n",
       "                    <th>Mean</th>\n",
       "                    <td>6.7647</td>\n",
       "                </tr>\n",
       "                <tr>\n",
       "                    <th>Minimum</th>\n",
       "                    <td>2.9</td>\n",
       "                </tr>\n",
       "                <tr>\n",
       "                    <th>Maximum</th>\n",
       "                    <td>9.6</td>\n",
       "                </tr>\n",
       "                <tr class=\"ignore\">\n",
       "                    <th>Zeros (%)</th>\n",
       "                    <td>0.0%</td>\n",
       "                </tr>\n",
       "            </table>\n",
       "        </div>\n",
       "    </div>\n",
       "</div>\n",
       "<div class=\"col-md-3 collapse in\" id=\"minihistogram6322074214719411656\">\n",
       "    <img src=\"data:image/png;base64,iVBORw0KGgoAAAANSUhEUgAAAMgAAABLCAYAAAA1fMjoAAAABHNCSVQICAgIfAhkiAAAAAlwSFlzAAAPYQAAD2EBqD%2BnaQAAADl0RVh0U29mdHdhcmUAbWF0cGxvdGxpYiB2ZXJzaW9uIDMuMC4xLCBodHRwOi8vbWF0cGxvdGxpYi5vcmcvDW2N/gAAAS1JREFUeJzt3MFpw0AQQFHbuKQU4Z5ydk8uIj1tzobwkQKJltV7d6G9fIZBaK9jjHEBfnQ7%2BgAws/vRB%2BDdx%2Bdr9zNfz8d071iFCQJBIBAEAkEgEAQCQSAQBAJBIBAEAkEgEAQCQSAQBAJBIBAEAkEgEPwwtYDf/ADFNiYIBIFAEAgEgUAQCASBQBAIBIFAOO2Hwv/4uHbW2whXYoJAEAgEgUA47Q7CPme9Ed4EgSAQCAKBYAfhz6ywt5ggEAQCQSAQlthBZr20YNZzsZ0JAkEgEAQCQSAQplvSLbbMxASBIBAIAoFwHWOMow8BszJBIAgEgkAgCASCQCAIBIJAIAgEgkAgCASCQCAIBIJAIAgEgkAgCASCQCAIBIJAIAgEgkAgCASCQCAIBIJAIHwD3IUdN2kDmuEAAAAASUVORK5CYII%3D\">\n",
       "\n",
       "</div>\n",
       "<div class=\"col-md-12 text-right\">\n",
       "    <a role=\"button\" data-toggle=\"collapse\" data-target=\"#descriptives6322074214719411656,#minihistogram6322074214719411656\"\n",
       "       aria-expanded=\"false\" aria-controls=\"collapseExample\">\n",
       "        Toggle details\n",
       "    </a>\n",
       "</div>\n",
       "<div class=\"row collapse col-md-12\" id=\"descriptives6322074214719411656\">\n",
       "    <ul class=\"nav nav-tabs\" role=\"tablist\">\n",
       "        <li role=\"presentation\" class=\"active\"><a href=\"#quantiles6322074214719411656\"\n",
       "                                                  aria-controls=\"quantiles6322074214719411656\" role=\"tab\"\n",
       "                                                  data-toggle=\"tab\">Statistics</a></li>\n",
       "        <li role=\"presentation\"><a href=\"#histogram6322074214719411656\" aria-controls=\"histogram6322074214719411656\"\n",
       "                                   role=\"tab\" data-toggle=\"tab\">Histogram</a></li>\n",
       "        <li role=\"presentation\"><a href=\"#common6322074214719411656\" aria-controls=\"common6322074214719411656\"\n",
       "                                   role=\"tab\" data-toggle=\"tab\">Common Values</a></li>\n",
       "        <li role=\"presentation\"><a href=\"#extreme6322074214719411656\" aria-controls=\"extreme6322074214719411656\"\n",
       "                                   role=\"tab\" data-toggle=\"tab\">Extreme Values</a></li>\n",
       "\n",
       "    </ul>\n",
       "\n",
       "    <div class=\"tab-content\">\n",
       "        <div role=\"tabpanel\" class=\"tab-pane active row\" id=\"quantiles6322074214719411656\">\n",
       "            <div class=\"col-md-4 col-md-offset-1\">\n",
       "                <p class=\"h4\">Quantile statistics</p>\n",
       "                <table class=\"stats indent\">\n",
       "                    <tr>\n",
       "                        <th>Minimum</th>\n",
       "                        <td>2.9</td>\n",
       "                    </tr>\n",
       "                    <tr>\n",
       "                        <th>5-th percentile</th>\n",
       "                        <td>4.1</td>\n",
       "                    </tr>\n",
       "                    <tr>\n",
       "                        <th>Q1</th>\n",
       "                        <td>5.55</td>\n",
       "                    </tr>\n",
       "                    <tr>\n",
       "                        <th>Median</th>\n",
       "                        <td>6.9</td>\n",
       "                    </tr>\n",
       "                    <tr>\n",
       "                        <th>Q3</th>\n",
       "                        <td>7.8</td>\n",
       "                    </tr>\n",
       "                    <tr>\n",
       "                        <th>95-th percentile</th>\n",
       "                        <td>8.95</td>\n",
       "                    </tr>\n",
       "                    <tr>\n",
       "                        <th>Maximum</th>\n",
       "                        <td>9.6</td>\n",
       "                    </tr>\n",
       "                    <tr>\n",
       "                        <th>Range</th>\n",
       "                        <td>6.7</td>\n",
       "                    </tr>\n",
       "                    <tr>\n",
       "                        <th>Interquartile range</th>\n",
       "                        <td>2.25</td>\n",
       "                    </tr>\n",
       "                </table>\n",
       "            </div>\n",
       "            <div class=\"col-md-4 col-md-offset-2\">\n",
       "                <p class=\"h4\">Descriptive statistics</p>\n",
       "                <table class=\"stats indent\">\n",
       "                    <tr>\n",
       "                        <th>Standard deviation</th>\n",
       "                        <td>1.5393</td>\n",
       "                    </tr>\n",
       "                    <tr>\n",
       "                        <th>Coef of variation</th>\n",
       "                        <td>0.22755</td>\n",
       "                    </tr>\n",
       "                    <tr>\n",
       "                        <th>Kurtosis</th>\n",
       "                        <td>-0.30384</td>\n",
       "                    </tr>\n",
       "                    <tr>\n",
       "                        <th>Mean</th>\n",
       "                        <td>6.7647</td>\n",
       "                    </tr>\n",
       "                    <tr>\n",
       "                        <th>MAD</th>\n",
       "                        <td>1.2113</td>\n",
       "                    </tr>\n",
       "                    <tr class=\"\">\n",
       "                        <th>Skewness</th>\n",
       "                        <td>-0.46586</td>\n",
       "                    </tr>\n",
       "                    <tr>\n",
       "                        <th>Sum</th>\n",
       "                        <td>345</td>\n",
       "                    </tr>\n",
       "                    <tr>\n",
       "                        <th>Variance</th>\n",
       "                        <td>2.3695</td>\n",
       "                    </tr>\n",
       "                    <tr>\n",
       "                        <th>Memory size</th>\n",
       "                        <td>488.0 B</td>\n",
       "                    </tr>\n",
       "                </table>\n",
       "            </div>\n",
       "        </div>\n",
       "        <div role=\"tabpanel\" class=\"tab-pane col-md-8 col-md-offset-2\" id=\"histogram6322074214719411656\">\n",
       "            <img src=\"data:image/png;base64,iVBORw0KGgoAAAANSUhEUgAAAlgAAAGQCAYAAAByNR6YAAAABHNCSVQICAgIfAhkiAAAAAlwSFlzAAAPYQAAD2EBqD%2BnaQAAADl0RVh0U29mdHdhcmUAbWF0cGxvdGxpYiB2ZXJzaW9uIDMuMC4xLCBodHRwOi8vbWF0cGxvdGxpYi5vcmcvDW2N/gAAH/VJREFUeJzt3XtwleWdwPEfSbgEkBWVaO06Qyuo6%2BrMYkEEqdUUpHahFwtm1EFBWt0VZWEUqCjIqoiI982ArG7Ximyhy9RiXYriZcELWwQVhSqrjPVSWhPljiCQk/2DIdsAWqgP5%2BXkfD4zmQwP4ZwfD%2B9JvrznzUmz%2Bvr6%2BgAAIJmSrAcAAGhqBBYAQGICCwAgMYEFAJCYwAIASExgAQAkJrAAABITWAAAiQksAIDEBBYAQGICCwAgMYEFAJCYwAIASExgAQAkJrAAABITWAAAiQksAIDEBBYAQGICCwAgMYEFAJCYwAIASExgAQAkJrAAABITWAAAiQksAIDEBBYAQGICCwAgMYEFAJCYwAIASExgAQAkJrAAABITWAAAiQksAIDEBBYAQGICCwAgMYEFAJCYwAIASExgAQAkJrAAABIry3qAYlFbuylv91VS0iyOOKJNrF27JXK5%2Brzd76HEHuxiH%2BxBhD2IsAcRxbsHHToclsn9OoPVBJWUNItmzZpFSUmzrEfJjD3YxT7Ygwh7EGEPIuxBvgksAIDEBBYAQGICCwAgMYEFAJCYwAIASExgAQAkJrAAABITWAAAiQksAIDEBBYAQGICCwAgMYEFAJCYwAIASKws6wEADnXn3fNC1iMckF%2BPODPrEfabvaWpcgYLACAxgQUAkJjAAgBITGABACQmsAAAEhNYAACJCSwAgMQEFgBAYgILACAxgQUAkJjAAgBITGABACQmsAAAEhNYAACJCSwAgMQEFgBAYgILACAxgQUAkJjAAgBITGABACQmsAAAEhNYAACJFXVgrV27Nvr06RO/%2Bc1vGtaWL18eAwcOjC5dukRlZWX853/%2BZ4YTAgCFqGgDa9myZVFVVRXvvfdew9qGDRvi8ssvj%2B9973vx0ksvxcSJE2PSpEnx2muvZTgpAFBoijKwHn300bj22mtj5MiRjdaffPLJOPzww%2BPiiy%2BOsrKy6NGjR/Tv3z9mzpyZ0aQAQCEqysDq1atXLFiwIL797W83Wn/rrbfihBNOaLTWqVOnePPNN/M5HgBQ4MqyHiALHTp02Of6li1bory8vNFaq1at4pNPPjmg26%2BpqYna2tpGa2VlraOiouLABv0LlZaWNHpfjOzBLvahOPegrKzx37UY9%2BBg2XNvC4njIL%2BKMrA%2BS3l5eWzatKnR2rZt26JNmzYHdDuzZ8%2BO6urqRmvDhg2L4cOHf%2BEZD0S7duV//oOaOHuwi30orj1o337fn7OKaQ8Ols/a20LiOMgPgfUnTjjhhHjhhRcarb399tvRuXPnA7qdqqqqqKysbLRWVtY61q3b8oVn3B%2BlpSXRrl15bNy4Nerqcnm5z0ONPdjFPhTnHuz5uaYY9%2BBgydfn8YOhWI%2BDrKJYYP2JPn36xJQpU%2BKhhx6Kiy%2B%2BOJYtWxa/%2BtWvYurUqQd0OxUVFXs9HVhbuyl27szvAV1Xl8v7fR5q7MEu9qG49uCz/p7FtAcHS1PYP8dBfngi9k%2B0b98%2BfvKTn8T8%2BfOje/fuccMNN8QNN9wQZ5xxRtajAQAFpOjPYK1atarRr0899dSYNWtWRtMAAE2BM1gAAIkJLACAxAQWAEBiAgsAIDGBBQCQmMACAEhMYAEAJCawAAASE1gAAIkJLACAxAQWAEBiAgsAIDGBBQCQmMACAEhMYAEAJCawAAASE1gAAIkJLACAxAQWAEBiAgsAIDGBBQCQmMACAEhMYAEAJCawAAASE1gAAIkJLACAxAQWAEBiAgsAIDGBBQCQmMACAEhMYAEAJCawAAASE1gAAIkJLACAxAQWAEBiAgsAIDGBBQCQmMACAEhMYAEAJCawAAASE1gAAIkJLACAxAQWAEBiAgsAIDGBBQCQmMACAEhMYO3DypUr4%2BKLL46uXbtGr1694pZbbont27dnPRYAUCAE1h5yuVxcccUV0bdv31iyZEnMmTMnnn/%2B%2BXjggQeyHg0AKBACaw8bNmyI2trayOVyUV9fHxERJSUlUV5envFkAEChKMt6gENN%2B/btY/DgwTF58uS4/fbbo66uLr75zW/G4MGD9/s2ampqora2ttFaWVnrqKioSDztvpWWljR6X4zswS72oTj3oKys8d%2B1GPfgYNlzbwuJ4yC/BNYecrlctGrVKsaNGxcDBgyId999N6666qq47777YsSIEft1G7Nnz47q6upGa8OGDYvhw4cfjJE/U7t2zrrZg13sQ3HtQfv2bfa5Xkx7cLB81t4WEsdBfgisPSxYsCCeeOKJmD9/fkREdO7cOYYNGxYTJ07c78CqqqqKysrKRmtlZa1j3botyefdl9LSkmjXrjw2btwadXW5vNznocYe7GIfinMP9vxcU4x7cLDk6/P4wVCsx0FWUSyw9vCHP/xhr%2B8YLCsri%2BbNm%2B/3bVRUVOz1dGBt7abYuTO/B3RdXS7v93mosQe72Ifi2oPP%2BnsW0x4cLE1h/xwH%2BeGJ2D306tUramtr4/7774%2B6urp4//33Y9q0adG/f/%2BsRwMACoTA2kOnTp1i%2BvTp8cwzz0T37t3jkksuicrKyhg5cmTWowEABcJThPvQs2fP6NmzZ9ZjAAAFyhksAIDEBBYAQGICCwAgMYEFAJCYwAIASExgAQAkJrAAABITWAAAiQksAIDEBBYAQGICCwAgMYEFAJCYwAIASExgAQAkJrAAABITWAAAiQksAIDEBBYAQGICCwAgMYEFAJCYwAIASExgAQAkVpb1AAeqrq4uSktLsx4D4JB13j0vZD0CFL2CO4N11llnxe233x5vv/121qMAAOxTwQXWVVddFS%2B//HL069cvBg4cGLNmzYpNmzZlPRYAQIOCC6wLL7wwZs2aFfPnz4%2BePXvGAw88EL169YprrrkmXnzxxazHAwAovMDarWPHjjFy5MiYP39%2BDBs2LJ5%2B%2BukYOnRoVFZWxr//%2B79HXV1d1iMCAEWq4C5y32358uXxy1/%2BMubNmxfbt2%2BPPn36xPnnnx8ffvhh3HvvvfH666/HXXfdlfWYAEARKrjAmjp1asydOzfefffdOPXUU2PkyJHRr1%2B/aNu2bcPHlJaWxvjx4zOcEgAoZgUXWI888kh85zvfiQEDBkSnTp32%2BTHHH398XHvttXmeDABgl4ILrEWLFsXmzZtj/fr1DWvz5s2LHj16RPv27SMi4uSTT46TTz45qxEBgCJXcBe5//a3v42%2BffvG7NmzG9amTJkS/fv3j//93//NcDIAgF0KLrBuv/32OPfcc2PkyJENa0899VScddZZcdttt2U4GQDALgUXWCtXrozLL788WrRo0bBWWloal19%2Bebz66qsZTgYAsEvBBVbbtm3jvffe22v9j3/8Y7Rq1SqDiQAAGiu4wOrbt29MmDAhXnzxxdi8eXNs2bIl/ud//iduuumm6NOnT9bjAQAU3ncRXnPNNfH%2B%2B%2B/HZZddFs2aNWtY79OnT4wePTrDyQAAdim4wCovL4/p06fHO%2B%2B8E6tWrYrmzZvH8ccfHx07dsx6NACAiCjAwNrtK1/5SnzlK1/JegwAgL0UXGC98847cdNNN8WyZctix44de/3%2BG2%2B8kcFUAAD/r%2BACa8KECbFmzZq49tpr47DDDst6HACAvRRcYL3yyivx05/%2BNLp06ZL1KAAA%2B1RwL9PQvn37aNOmTdZjAAB8poILrEGDBsVdd90VmzZtynoUAIB9KrinCBcuXBivvvpqdO/ePY488shGPzInIuLpp5/OaDIAgF0KLrC6d%2B8e3bt3P6j3sX79%2Brj11ltj4cKFkcvlolu3bjFhwoSoqKg4qPcLADQNBRdYV1111UG/j6uvvjr%2B6q/%2BKhYsWBAlJSVx3XXXxbhx42L69OkH/b4BgMJXcIEVEfHmm2/GT3/603jnnXfi3nvvjaeeeio6deqU5MzWihUrYvny5fHiiy9G27ZtIyLi5ptvjtra2i982wBAcSi4i9xXrFgRAwcOjA8%2B%2BCBWrFgR27dvjzfeeCMuu%2ByyePbZZ7/w7b/22mvRqVOn%2BPnPfx59%2BvSJXr16xeTJk6NDhw4JpgcAikHBncG644474rLLLouRI0c2vBbWLbfcEocddlhUV1fHOeec84Vuf8OGDbFq1ao45ZRT4tFHH41t27bF6NGjY8yYMfv9FGFNTc1eZ7zKylrn7Rqu0tKSRu%2BLkT3YxT7YA9IqKyvc48hjIb8KLrBWrFgRN954417rF154YcyaNesL3/7u70q8/vrro2XLltG2bdsYMWJEXHDBBbFly5b9eg2u2bNnR3V1daO1YcOGxfDhw7/wfAeiXbvyvN7focge7GIf7AFptG9f%2BK/D6LGQHwUXWM2bN4/Nmzfvtb5mzZooL//iB02nTp0il8vFjh07omXLlhERkcvlIiKivr5%2Bv26jqqoqKisrG62VlbWOdeu2fOH59kdpaUm0a1ceGzdujbq6XF7u81BjD3axD/aAtPL1efxgKNbHQlZRXHCB1bt377jzzjvj7rvvblhbvXp1TJw4Mc4%2B%2B%2BwvfPs9e/aM4447LsaOHRuTJk2KTz/9NO6%2B%2B%2B7o3bt3w0Xvf05FRcVeTwfW1m6KnTvze0DX1eXyfp%2BHGnuwi32wB6TRFI4hj4X8KLgnYseMGRPbtm2Lnj17xtatW%2BP888%2BPfv36RVlZWYwePfoL337z5s1jxowZUVpaGn379o2%2BffvGMcccE7feemuC6QGAYlBwZ7Datm0bs2bNisWLF8dvf/vbyOVyccIJJ8TXv/71KClJ04tHH310ozNkAAAHouACa7cePXpEjx49sh4DAGAvBRdYlZWV0axZs8/8fT%2BLEADIWsEF1ve///1GgbVjx4549913Y9GiRTFixIgMJwMA2KXgAuvqq6/e5/ojjzwSy5Yti0suuSTPEwEANFZw30X4Wc4555xYuHBh1mMAADSdwFqyZEnDC4MCAGSp4J4i3PMpwPr6%2Bti8eXOsWrXK04MAwCGh4ALr2GOP3eu7CJs3bx6XXnpp9O/fP6OpAAD%2BX8EF1m233Zb1CAAAn6vgAuull17a74/t1q3bQZwEAGDfCi6wBg8eHPX19Q1vu%2B1%2B2nD3WrNmzeKNN97IZEYAoLgVXGD9y7/8S0yaNCnGjBkTZ5xxRjRv3jyWL18eEyZMiIsuuijOOeecrEcEAIpcwb1Mw%2BTJk%2BPGG2%2BM3r17R9u2baNly5Zx%2Bumnx0033RQ/%2BclP4stf/nLDGwBAFgousGpqauJLX/rSXutt27aNdevWZTARAEBjBRdYf/d3fxd33XVXbN68uWFt/fr1MWXKlOjRo0eGkwEA7FJw12DdcMMNcemll8ZZZ50VHTt2jIiId955Jzp06BAPP/xwtsMBAEQBBtbxxx8f8%2BbNi1/96lexevXqiIi46KKL4u///u%2BjvLw84%2BkAAAowsCIi2rVrFwMHDowPPvggjjvuuIjY9WruAACHgoK7Bqu%2Bvj7uuOOO6NatW/Tr1y/%2B%2BMc/xpgxY%2BK6666LHTt2ZD0eAEDhBdaMGTNi7ty5ceONN0aLFi0iIqJ3797xzDPPxL333pvxdAAABRhYs2fPjvHjx8f555/f8Ort3/72t2PixInxX//1XxlPBwBQgIH1wQcfxN/8zd/stX7iiSfGRx99lMFEAACNFdxF7l/%2B8pfjtddei7/%2B679utL5w4cKGC94hhfPueSHrEZqsX484M%2BsRAA6qggusoUOHxj//8z/Hhx9%2BGPX19bF48eKYNWtWzJgxI6677rqsxwMAKLzA%2BsEPfhA7d%2B6MadOmxbZt22L8%2BPFx5JFHxsiRI%2BPCCy/MejwAgMILrMceeyy%2B9a1vRVVVVaxduzbq6%2BvjyCOPzHosAIAGBXeR%2By233NJwMfsRRxwhrgCAQ07BBVbHjh1j1apVWY8BAPCZCu4pws6dO8e1114bDz74YHTs2DFatmzZ6PcnTZqU0WQAALsUXGC999578bWvfS0iImprazOeBgBgbwURWJMmTYp/%2Bqd/itatW8eMGTOyHgcA4HMVxDVYDz/8cGzdurXR2tChQ6OmpiajiQAAPltBBFZ9ff1eay%2B//HJ8%2BumnGUwDAPD5CiKwAAAKicACAEisYAKrWbNmWY8AALBfCuK7CCN2vYL7n77m1Y4dO2LKlCnRpk2bRh/ndbAAgKwVRGB169Ztr9e86tKlS6xbty7WrVuX0VQAAPtWEIHlta8AgEJSMNdgAQAUCoEFAJCYwAIASExgAQAkJrAAABITWAAAiQksAIDEBNbnqKuri0GDBsWPf/zjrEcBAAqIwPoc1dXVsXTp0qzHAAAKjMD6DIsXL44nn3wyzj333KxHAQAKTEH8qJx8%2B/jjj%2BP666%2BPqVOnxkMPPXTAf76mpmavn51YVtY6KioqEk34%2BUpLSxq9L0b24NBWVpa/fxfHAinl89hNzWMhvwTWHnK5XIwaNSqGDBkSJ5100l90G7Nnz47q6upGa8OGDYvhw4enGHG/tWtXntf7OxTZg0NT%2B/Zt8n6fjgVS6HPHc1mPcECWTvzWXmseC/khsPYwffr0aNGiRQwaNOgvvo2qqqqorKxstFZW1jrWrdvyRcfbL6WlJdGuXXls3Lg16upyebnPQ409OLTl67EQ4ViguP3pY61YHwtZ/IcuQmDtZe7cuVFTUxNdu3aNiIht27ZFRMRTTz213xe8V1RU7PV0YG3tpti5M78HdF1dLu/3eaixB4emLP5NHAsUo30d8x4L%2BSGw9jB//vxGv979Eg233XZbFuMAAAXIlW4AAIk5g/VnOHMFABwoZ7AAABITWAAAiQksAIDEBBYAQGICCwAgMYEFAJCYwAIASExgAQAkJrAAABITWAAAiQksAIDEBBYAQGICCwAgMYEFAJCYwAIASExgAQAkJrAAABITWAAAiQksAIDEBBYAQGICCwAgMYEFAJBYWdYDAAAHx3n3vJD1CPvt1yPOzHqEpJzBAgBITGABACQmsAAAEhNYAACJCSwAgMQEFgBAYgILACAxgQUAkJjAAgBITGABACQmsAAAEhNYAACJCSwAgMQEFgBAYgILACAxgQUAkJjAAgBITGABACQmsAAAEhNYAACJCSwAgMQEFgBAYgJrH958880YMmRInH766XHmmWfG6NGjY%2B3atVmPBQAUCIG1h23btsUPf/jD6NKlSzz//PPx%2BOOPx/r162Ps2LFZjwYAFAiBtYc1a9bESSedFMOGDYsWLVpE%2B/bto6qqKl566aWsRwMACkRZ1gMcar761a/Ggw8%2B2GjtiSeeiL/927/NaCIAoNAIrM9RX18f99xzTzz77LPxyCOP7Pefq6mpidra2kZrZWWto6KiIvWI%2B1RaWtLofTGyB4e2srL8/bs4FqAw5PPzQj4IrM%2BwefPmuO6662LlypXxyCOPxIknnrjff3b27NlRXV3daG3YsGExfPjw1GN%2BrnbtyvN6f39O1%2BvnZz0Ch4g%2BdzyX9QjAIaZ9%2BzZZj5CUwNqH9957L370ox/FscceG3PmzIkjjjjigP58VVVVVFZWNlorK2sd69ZtSTnmZyotLYl27cpj48atUVeXy8t9AsAXcbC%2BRmYVbgJrDxs2bIhLL700zjjjjJg4cWKUlBz4KcuKioq9ng6srd0UO3fmN3bq6nJ5v08A%2BEs0ta9XAmsPv/jFL2LNmjXx61//OubPb/yU1iuvvJLRVABAIRFYexgyZEgMGTIk6zEAgALWtC7ZBwA4BAgsAIDEBBYAQGICCwAgMYEFAJCYwAIASExgAQAkJrAAABITWAAAiQksAIDEBBYAQGICCwAgMYEFAJCYwAIASExgAQAkJrAAABITWAAAiQksAIDEBBYAQGICCwAgMYEFAJCYwAIASKws6wH4Ys6754WsRwAA9uAMFgBAYgILACAxgQUAkJjAAgBITGABACQmsAAAEhNYAACJCSwAgMQEFgBAYgILACAxgQUAkJjAAgBITGABACQmsAAAEhNYAACJCSwAgMQEFgBAYgILACAxgQUAkJjAAgBITGABACQmsAAAEhNY%2B/Dxxx/HlVdeGV27do3u3bvHxIkTY%2BfOnVmPBQAUCIG1DyNGjIjWrVvHc889F3PmzInFixfHQw89lPVYAECBEFh7ePfdd2PJkiUxatSoKC8vj%2BOOOy6uvPLKmDlzZtajAQAFQmDt4a233orDDz88jj766Ia1448/PtasWRMbN27McDIAoFCUZT3AoWbLli1RXl7eaG33rz/55JNo167dn72NmpqaqK2tbbRWVtY6Kioq0g0KAE1IWVnTOucjsPbQunXr2Lp1a6O13b9u06bNft3G7Nmzo7q6utHaVVddFVdffXWaIf/E0onf2mutpqYmZs%2BeHVVVVUUbdfZgF/tgDyLsQYQ9iLAH%2Bda0cjGBzp07x/r16%2BOjjz5qWFu9enUcc8wxcdhhh%2B3XbVRVVcUvfvGLRm9VVVUHa%2BS91NbWRnV19V5n0YqJPdjFPtiDCHsQYQ8i7EG%2BOYO1h44dO8bXvva1uPXWW%2BOmm26KdevWxdSpU2PAgAH7fRsVFRX%2BdwAARcwZrH247777YufOnfHNb34zLrjggvj6178eV155ZdZjAQAFwhmsfTjqqKPivvvuy3oMAKBAlU6YMGFC1kOQXps2beL000/f7wvzmyJ7sIt9sAcR9iDCHkTYg3xqVl9fX5/1EAAATYlrsAAAEhNYAACJCSwAgMQEFgBAYgILACAxgQUAkJjAAgBITGABACQmsJqYxYsXx8CBA%2BO0006LM888M26%2B%2BebYtm1b1mNloq6uLgYNGhQ//vGPsx4l7%2BbNmxcnn3xydOnSpeFt1KhRWY%2BVV%2BvXr4/Ro0dH9%2B7do1u3bnHllVdGTU1N1mPl1WOPPdboGOjSpUuccsopccopp2Q9Wl6tXLkyLr744ujatWv06tUrbrnllti%2BfXvWY%2BXV6tWrY%2BjQodG1a9c4%2B%2ByzY9q0aZHL5bIeq0kTWE3I2rVr44orrogLL7wwli5dGo8%2B%2BmgsWbIk/vVf/zXr0TJRXV0dS5cuzXqMTLz%2B%2Buvx3e9%2BN1555ZWGtylTpmQ9Vl5dffXV8cknn8SCBQvi2WefjdLS0hg3blzWY%2BXVd77znUbHwPz58%2BPwww%2BPiRMnZj1a3uRyubjiiiuib9%2B%2BsWTJkpgzZ048//zz8cADD2Q9Wt5s2bIlfvjDH8aXvvSlWLRoUcycOTPmzZsXU6dOzXq0Js0Pe25CjjjiiHjxxRejbdu2UV9fH%2BvXr49PP/00jjjiiKxHy7vFixfHk08%2BGeeee27Wo2Ti9ddfj/POOy/rMTKzYsWKWL58ecPjISLi5ptvjtra2owny059fX2MGjUqzj777Pjud7%2Bb9Th5s2HDhqitrY1cLhe7fzJcSUlJlJeXZzxZ/ixbtiw%2B/vjjGD9%2BfLRo0SJat24d//iP/xgTJ06MYcOGRbNmzbIesUlyBquJ2f3F5Bvf%2BEb0798/OnToEOeff37GU%2BXXxx9/HNdff33ceeedRfVJdLdcLhcrV66M//7v/45zzjknzjrrrBg3blxs2LAh69Hy5rXXXotOnTrFz3/%2B8%2BjTp0/06tUrJk%2BeHB06dMh6tMzMnTs33n777aJ7yrx9%2B/YxePDgmDx5cpx66qnxjW98Izp27BiDBw/OerS8yeVy0bx582jevHnDWrNmzeKjjz6KjRs3ZjhZ0yawmqgnn3wyFi1aFCUlJTF8%2BPCsx8mbXC4Xo0aNiiFDhsRJJ52U9TiZWLt2bZx88snRt2/fmDdvXsyaNSt%2B97vfFdU1WBs2bIhVq1bF7373u3j00Ufjl7/8ZXz44YcxZsyYrEfLRC6Xi2nTpsU//MM/NPwnrFjkcrlo1apVjBs3Ll599dV4/PHHY/Xq1XHfffdlPVrenHbaadGqVau48847Y%2BvWrfH73/8%2B/u3f/i0iomiv0c0HgdVEtWrVKo4%2B%2BugYNWpUPPfcc0Vz9mL69OnRokWLGDRoUNajZOaoo46KmTNnxoABA6K8vDyOPfbYGDVqVCxatCg2b96c9Xh50aJFi4iIuP7666Nt27Zx1FFHxYgRI2LhwoWxZcuWjKfLv9/85jdRU1MTAwYMyHqUvFuwYEE88cQTcdFFF0WLFi2ic%2BfOMWzYsPjZz36W9Wh5065du3jggQdi%2BfLlcfbZZ8eIESPie9/7XsPvcXC4BqsJefnll2Ps2LHx2GOPNXyB2b59ezRv3rxoniqbO3du1NTURNeuXSPi//939tRTTxXNBe9vvvlmPP7443HNNdc0XFuxffv2KCkpaTgumrpOnTpFLpeLHTt2RMuWLSMiGr5javd1OMXkiSeeiD59%2BkTr1q2zHiXv/vCHP%2Bz1HYNlZWWNni5r6rZv3x47d%2B6Mhx9%2BuOFzwn/8x39Ep06diuZrQxacwWpCTjzxxNi2bVvceeedsX379vj9738fkydPjgEDBhTNF9b58%2BfHyy%2B/HEuXLo2lS5dGv379ol%2B/fkUTVxERhx9%2BeMycOTMefPDB2LlzZ6xZsyamTJkS3//%2B94vmOOjZs2ccd9xxMXbs2NiyZUusXbs27r777ujdu3fRPUUWsesi527dumU9RiZ69eoVtbW1cf/990ddXV28//77MW3atOjfv3/Wo%2BXV0KFDY86cOVFfXx8rVqyI%2B%2B%2B/Py699NKsx2rSBFYT0qZNm3jwwQfjrbfeijPPPDMGDRoUPXv2jLFjx2Y9Gnl0zDHHxPTp0%2BPpp5%2BO008/PX7wgx/EqaeeGuPHj896tLxp3rx5zJgxI0pLS6Nv377Rt2/fOOaYY%2BLWW2/NerRMfPDBB1FRUZH1GJno1KlTTJ8%2BPZ555pno3r17XHLJJVFZWRkjR47MerS8adGiRUydOjV%2B9rOfxWmnnRYjRoyIH/3oR3HBBRdkPVqT1qy%2BGM%2BXAwAcRM5gAQAkJrAAABITWAAAiQksAIDEBBYAQGICCwAgMYEFAJCYwAIASExgAQAkJrAAABITWAAAiQksAIDEBBYAQGICCwAgMYEFAJDY/wGp4LB1kSp3PQAAAABJRU5ErkJggg%3D%3D\"/>\n",
       "        </div>\n",
       "        <div role=\"tabpanel\" class=\"tab-pane col-md-12\" id=\"common6322074214719411656\">\n",
       "            \n",
       "<table class=\"freq table table-hover\">\n",
       "    <thead>\n",
       "    <tr>\n",
       "        <td class=\"fillremaining\">Value</td>\n",
       "        <td class=\"number\">Count</td>\n",
       "        <td class=\"number\">Frequency (%)</td>\n",
       "        <td style=\"min-width:200px\">&nbsp;</td>\n",
       "    </tr>\n",
       "    </thead>\n",
       "    <tr class=\"\">\n",
       "        <td class=\"fillremaining\">6.7</td>\n",
       "        <td class=\"number\">5</td>\n",
       "        <td class=\"number\">9.8%</td>\n",
       "        <td>\n",
       "            <div class=\"bar\" style=\"width:20%\">&nbsp;</div>\n",
       "        </td>\n",
       "</tr><tr class=\"\">\n",
       "        <td class=\"fillremaining\">7.2</td>\n",
       "        <td class=\"number\">3</td>\n",
       "        <td class=\"number\">5.9%</td>\n",
       "        <td>\n",
       "            <div class=\"bar\" style=\"width:12%\">&nbsp;</div>\n",
       "        </td>\n",
       "</tr><tr class=\"\">\n",
       "        <td class=\"fillremaining\">7.7</td>\n",
       "        <td class=\"number\">3</td>\n",
       "        <td class=\"number\">5.9%</td>\n",
       "        <td>\n",
       "            <div class=\"bar\" style=\"width:12%\">&nbsp;</div>\n",
       "        </td>\n",
       "</tr><tr class=\"\">\n",
       "        <td class=\"fillremaining\">7.0</td>\n",
       "        <td class=\"number\">2</td>\n",
       "        <td class=\"number\">3.9%</td>\n",
       "        <td>\n",
       "            <div class=\"bar\" style=\"width:8%\">&nbsp;</div>\n",
       "        </td>\n",
       "</tr><tr class=\"\">\n",
       "        <td class=\"fillremaining\">6.9</td>\n",
       "        <td class=\"number\">2</td>\n",
       "        <td class=\"number\">3.9%</td>\n",
       "        <td>\n",
       "            <div class=\"bar\" style=\"width:8%\">&nbsp;</div>\n",
       "        </td>\n",
       "</tr><tr class=\"\">\n",
       "        <td class=\"fillremaining\">6.6</td>\n",
       "        <td class=\"number\">2</td>\n",
       "        <td class=\"number\">3.9%</td>\n",
       "        <td>\n",
       "            <div class=\"bar\" style=\"width:8%\">&nbsp;</div>\n",
       "        </td>\n",
       "</tr><tr class=\"\">\n",
       "        <td class=\"fillremaining\">3.8</td>\n",
       "        <td class=\"number\">2</td>\n",
       "        <td class=\"number\">3.9%</td>\n",
       "        <td>\n",
       "            <div class=\"bar\" style=\"width:8%\">&nbsp;</div>\n",
       "        </td>\n",
       "</tr><tr class=\"\">\n",
       "        <td class=\"fillremaining\">4.7</td>\n",
       "        <td class=\"number\">2</td>\n",
       "        <td class=\"number\">3.9%</td>\n",
       "        <td>\n",
       "            <div class=\"bar\" style=\"width:8%\">&nbsp;</div>\n",
       "        </td>\n",
       "</tr><tr class=\"\">\n",
       "        <td class=\"fillremaining\">7.8</td>\n",
       "        <td class=\"number\">2</td>\n",
       "        <td class=\"number\">3.9%</td>\n",
       "        <td>\n",
       "            <div class=\"bar\" style=\"width:8%\">&nbsp;</div>\n",
       "        </td>\n",
       "</tr><tr class=\"\">\n",
       "        <td class=\"fillremaining\">8.0</td>\n",
       "        <td class=\"number\">2</td>\n",
       "        <td class=\"number\">3.9%</td>\n",
       "        <td>\n",
       "            <div class=\"bar\" style=\"width:8%\">&nbsp;</div>\n",
       "        </td>\n",
       "</tr><tr class=\"other\">\n",
       "        <td class=\"fillremaining\">Other values (23)</td>\n",
       "        <td class=\"number\">26</td>\n",
       "        <td class=\"number\">51.0%</td>\n",
       "        <td>\n",
       "            <div class=\"bar\" style=\"width:100%\">&nbsp;</div>\n",
       "        </td>\n",
       "</tr>\n",
       "</table>\n",
       "        </div>\n",
       "        <div role=\"tabpanel\" class=\"tab-pane col-md-12\"  id=\"extreme6322074214719411656\">\n",
       "            <p class=\"h4\">Minimum 5 values</p>\n",
       "            \n",
       "<table class=\"freq table table-hover\">\n",
       "    <thead>\n",
       "    <tr>\n",
       "        <td class=\"fillremaining\">Value</td>\n",
       "        <td class=\"number\">Count</td>\n",
       "        <td class=\"number\">Frequency (%)</td>\n",
       "        <td style=\"min-width:200px\">&nbsp;</td>\n",
       "    </tr>\n",
       "    </thead>\n",
       "    <tr class=\"\">\n",
       "        <td class=\"fillremaining\">2.9</td>\n",
       "        <td class=\"number\">1</td>\n",
       "        <td class=\"number\">2.0%</td>\n",
       "        <td>\n",
       "            <div class=\"bar\" style=\"width:50%\">&nbsp;</div>\n",
       "        </td>\n",
       "</tr><tr class=\"\">\n",
       "        <td class=\"fillremaining\">3.8</td>\n",
       "        <td class=\"number\">2</td>\n",
       "        <td class=\"number\">3.9%</td>\n",
       "        <td>\n",
       "            <div class=\"bar\" style=\"width:100%\">&nbsp;</div>\n",
       "        </td>\n",
       "</tr><tr class=\"\">\n",
       "        <td class=\"fillremaining\">4.4</td>\n",
       "        <td class=\"number\">1</td>\n",
       "        <td class=\"number\">2.0%</td>\n",
       "        <td>\n",
       "            <div class=\"bar\" style=\"width:50%\">&nbsp;</div>\n",
       "        </td>\n",
       "</tr><tr class=\"\">\n",
       "        <td class=\"fillremaining\">4.6</td>\n",
       "        <td class=\"number\">1</td>\n",
       "        <td class=\"number\">2.0%</td>\n",
       "        <td>\n",
       "            <div class=\"bar\" style=\"width:50%\">&nbsp;</div>\n",
       "        </td>\n",
       "</tr><tr class=\"\">\n",
       "        <td class=\"fillremaining\">4.7</td>\n",
       "        <td class=\"number\">2</td>\n",
       "        <td class=\"number\">3.9%</td>\n",
       "        <td>\n",
       "            <div class=\"bar\" style=\"width:100%\">&nbsp;</div>\n",
       "        </td>\n",
       "</tr>\n",
       "</table>\n",
       "            <p class=\"h4\">Maximum 5 values</p>\n",
       "            \n",
       "<table class=\"freq table table-hover\">\n",
       "    <thead>\n",
       "    <tr>\n",
       "        <td class=\"fillremaining\">Value</td>\n",
       "        <td class=\"number\">Count</td>\n",
       "        <td class=\"number\">Frequency (%)</td>\n",
       "        <td style=\"min-width:200px\">&nbsp;</td>\n",
       "    </tr>\n",
       "    </thead>\n",
       "    <tr class=\"\">\n",
       "        <td class=\"fillremaining\">8.8</td>\n",
       "        <td class=\"number\">1</td>\n",
       "        <td class=\"number\">2.0%</td>\n",
       "        <td>\n",
       "            <div class=\"bar\" style=\"width:100%\">&nbsp;</div>\n",
       "        </td>\n",
       "</tr><tr class=\"\">\n",
       "        <td class=\"fillremaining\">8.9</td>\n",
       "        <td class=\"number\">1</td>\n",
       "        <td class=\"number\">2.0%</td>\n",
       "        <td>\n",
       "            <div class=\"bar\" style=\"width:100%\">&nbsp;</div>\n",
       "        </td>\n",
       "</tr><tr class=\"\">\n",
       "        <td class=\"fillremaining\">9.0</td>\n",
       "        <td class=\"number\">1</td>\n",
       "        <td class=\"number\">2.0%</td>\n",
       "        <td>\n",
       "            <div class=\"bar\" style=\"width:100%\">&nbsp;</div>\n",
       "        </td>\n",
       "</tr><tr class=\"\">\n",
       "        <td class=\"fillremaining\">9.3</td>\n",
       "        <td class=\"number\">1</td>\n",
       "        <td class=\"number\">2.0%</td>\n",
       "        <td>\n",
       "            <div class=\"bar\" style=\"width:100%\">&nbsp;</div>\n",
       "        </td>\n",
       "</tr><tr class=\"\">\n",
       "        <td class=\"fillremaining\">9.6</td>\n",
       "        <td class=\"number\">1</td>\n",
       "        <td class=\"number\">2.0%</td>\n",
       "        <td>\n",
       "            <div class=\"bar\" style=\"width:100%\">&nbsp;</div>\n",
       "        </td>\n",
       "</tr>\n",
       "</table>\n",
       "        </div>\n",
       "    </div>\n",
       "</div>\n",
       "</div>\n",
       "    <div class=\"row headerrow highlight\">\n",
       "        <h1>Correlations</h1>\n",
       "    </div>\n",
       "    \n",
       "    <div class=\"row headerrow highlight\">\n",
       "        <h1>Sample</h1>\n",
       "    </div>\n",
       "    <div class=\"row variablerow\">\n",
       "    <div class=\"col-md-12\" style=\"overflow:scroll; width: 100%%; overflow-y: hidden;\">\n",
       "        <table border=\"1\" class=\"dataframe sample\">\n",
       "  <thead>\n",
       "    <tr style=\"text-align: right;\">\n",
       "      <th></th>\n",
       "      <th>Unemployment</th>\n",
       "    </tr>\n",
       "  </thead>\n",
       "  <tbody>\n",
       "    <tr>\n",
       "      <th>0</th>\n",
       "      <td>7.2</td>\n",
       "    </tr>\n",
       "    <tr>\n",
       "      <th>1</th>\n",
       "      <td>7.0</td>\n",
       "    </tr>\n",
       "    <tr>\n",
       "      <th>2</th>\n",
       "      <td>7.7</td>\n",
       "    </tr>\n",
       "    <tr>\n",
       "      <th>3</th>\n",
       "      <td>7.2</td>\n",
       "    </tr>\n",
       "    <tr>\n",
       "      <th>4</th>\n",
       "      <td>8.9</td>\n",
       "    </tr>\n",
       "  </tbody>\n",
       "</table>\n",
       "    </div>\n",
       "</div>\n",
       "</div>"
      ],
      "text/plain": [
       "<pandas_profiling.ProfileReport at 0x1a1f5845c0>"
      ]
     },
     "execution_count": 29,
     "metadata": {},
     "output_type": "execute_result"
    }
   ],
   "source": [
    "import pandas_profiling\n",
    "\n",
    "profile = pandas_profiling.ProfileReport(pd.DataFrame(df.Unemployment), check_correlation=False)\n",
    "\n",
    "profile"
   ]
  },
  {
   "cell_type": "code",
   "execution_count": 42,
   "metadata": {
    "ExecuteTime": {
     "end_time": "2019-06-25T03:33:31.988460Z",
     "start_time": "2019-06-25T03:33:31.974923Z"
    }
   },
   "outputs": [
    {
     "data": {
      "text/html": [
       "<div>\n",
       "<style scoped>\n",
       "    .dataframe tbody tr th:only-of-type {\n",
       "        vertical-align: middle;\n",
       "    }\n",
       "\n",
       "    .dataframe tbody tr th {\n",
       "        vertical-align: top;\n",
       "    }\n",
       "\n",
       "    .dataframe thead th {\n",
       "        text-align: right;\n",
       "    }\n",
       "</style>\n",
       "<table border=\"1\" class=\"dataframe\">\n",
       "  <thead>\n",
       "    <tr style=\"text-align: right;\">\n",
       "      <th></th>\n",
       "      <th>n</th>\n",
       "      <th>nvar</th>\n",
       "      <th>total_missing</th>\n",
       "      <th>n_duplicates</th>\n",
       "      <th>memsize</th>\n",
       "      <th>recordsize</th>\n",
       "      <th>NUM</th>\n",
       "      <th>DATE</th>\n",
       "      <th>CONST</th>\n",
       "      <th>CAT</th>\n",
       "      <th>UNIQUE</th>\n",
       "      <th>CORR</th>\n",
       "      <th>RECODED</th>\n",
       "      <th>BOOL</th>\n",
       "      <th>UNSUPPORTED</th>\n",
       "      <th>REJECTED</th>\n",
       "    </tr>\n",
       "  </thead>\n",
       "  <tbody>\n",
       "    <tr>\n",
       "      <th>0</th>\n",
       "      <td>51</td>\n",
       "      <td>1</td>\n",
       "      <td>0.0</td>\n",
       "      <td>18</td>\n",
       "      <td>488.0 B</td>\n",
       "      <td>9.6 B</td>\n",
       "      <td>1</td>\n",
       "      <td>0</td>\n",
       "      <td>0</td>\n",
       "      <td>0</td>\n",
       "      <td>0</td>\n",
       "      <td>0</td>\n",
       "      <td>0</td>\n",
       "      <td>0</td>\n",
       "      <td>0</td>\n",
       "      <td>0</td>\n",
       "    </tr>\n",
       "  </tbody>\n",
       "</table>\n",
       "</div>"
      ],
      "text/plain": [
       "    n  nvar  total_missing  n_duplicates  memsize recordsize  NUM  DATE  \\\n",
       "0  51     1            0.0            18  488.0 B      9.6 B    1     0   \n",
       "\n",
       "   CONST  CAT  UNIQUE  CORR  RECODED  BOOL  UNSUPPORTED  REJECTED  \n",
       "0      0    0       0     0        0     0            0         0  "
      ]
     },
     "execution_count": 42,
     "metadata": {},
     "output_type": "execute_result"
    }
   ],
   "source": [
    "pd.DataFrame(profile.get_description()['table'],index=[0])"
   ]
  },
  {
   "cell_type": "code",
   "execution_count": 41,
   "metadata": {
    "ExecuteTime": {
     "end_time": "2019-06-25T03:32:20.557343Z",
     "start_time": "2019-06-25T03:32:20.533110Z"
    }
   },
   "outputs": [
    {
     "data": {
      "text/html": [
       "<div>\n",
       "<style scoped>\n",
       "    .dataframe tbody tr th:only-of-type {\n",
       "        vertical-align: middle;\n",
       "    }\n",
       "\n",
       "    .dataframe tbody tr th {\n",
       "        vertical-align: top;\n",
       "    }\n",
       "\n",
       "    .dataframe thead th {\n",
       "        text-align: right;\n",
       "    }\n",
       "</style>\n",
       "<table border=\"1\" class=\"dataframe\">\n",
       "  <thead>\n",
       "    <tr style=\"text-align: right;\">\n",
       "      <th></th>\n",
       "      <th>count</th>\n",
       "      <th>distinct_count</th>\n",
       "      <th>p_missing</th>\n",
       "      <th>n_missing</th>\n",
       "      <th>p_infinite</th>\n",
       "      <th>n_infinite</th>\n",
       "      <th>is_unique</th>\n",
       "      <th>mode</th>\n",
       "      <th>p_unique</th>\n",
       "      <th>memorysize</th>\n",
       "      <th>type</th>\n",
       "      <th>mean</th>\n",
       "      <th>std</th>\n",
       "      <th>variance</th>\n",
       "      <th>min</th>\n",
       "      <th>max</th>\n",
       "      <th>range</th>\n",
       "      <th>5%</th>\n",
       "      <th>25%</th>\n",
       "      <th>50%</th>\n",
       "      <th>75%</th>\n",
       "      <th>95%</th>\n",
       "      <th>iqr</th>\n",
       "      <th>kurtosis</th>\n",
       "      <th>skewness</th>\n",
       "      <th>sum</th>\n",
       "      <th>mad</th>\n",
       "      <th>cv</th>\n",
       "      <th>n_zeros</th>\n",
       "      <th>p_zeros</th>\n",
       "      <th>histogram</th>\n",
       "      <th>mini_histogram</th>\n",
       "    </tr>\n",
       "  </thead>\n",
       "  <tbody>\n",
       "    <tr>\n",
       "      <th>Unemployment</th>\n",
       "      <td>51</td>\n",
       "      <td>33</td>\n",
       "      <td>0</td>\n",
       "      <td>0</td>\n",
       "      <td>0</td>\n",
       "      <td>0</td>\n",
       "      <td>False</td>\n",
       "      <td>6.7</td>\n",
       "      <td>0.647059</td>\n",
       "      <td>488</td>\n",
       "      <td>NUM</td>\n",
       "      <td>6.76471</td>\n",
       "      <td>1.53933</td>\n",
       "      <td>2.36953</td>\n",
       "      <td>2.9</td>\n",
       "      <td>9.6</td>\n",
       "      <td>6.7</td>\n",
       "      <td>4.1</td>\n",
       "      <td>5.55</td>\n",
       "      <td>6.9</td>\n",
       "      <td>7.8</td>\n",
       "      <td>8.95</td>\n",
       "      <td>2.25</td>\n",
       "      <td>-0.303839</td>\n",
       "      <td>-0.465861</td>\n",
       "      <td>345</td>\n",
       "      <td>1.2113</td>\n",
       "      <td>0.227553</td>\n",
       "      <td>0</td>\n",
       "      <td>0</td>\n",
       "      <td>data:image/png;base64,iVBORw0KGgoAAAANSUhEUgAA...</td>\n",
       "      <td>data:image/png;base64,iVBORw0KGgoAAAANSUhEUgAA...</td>\n",
       "    </tr>\n",
       "  </tbody>\n",
       "</table>\n",
       "</div>"
      ],
      "text/plain": [
       "             count distinct_count p_missing n_missing p_infinite n_infinite  \\\n",
       "Unemployment    51             33         0         0          0          0   \n",
       "\n",
       "             is_unique mode  p_unique memorysize type     mean      std  \\\n",
       "Unemployment     False  6.7  0.647059        488  NUM  6.76471  1.53933   \n",
       "\n",
       "             variance  min  max range   5%   25%  50%  75%   95%   iqr  \\\n",
       "Unemployment  2.36953  2.9  9.6   6.7  4.1  5.55  6.9  7.8  8.95  2.25   \n",
       "\n",
       "              kurtosis  skewness  sum     mad        cv n_zeros p_zeros  \\\n",
       "Unemployment -0.303839 -0.465861  345  1.2113  0.227553       0       0   \n",
       "\n",
       "                                                      histogram  \\\n",
       "Unemployment  data:image/png;base64,iVBORw0KGgoAAAANSUhEUgAA...   \n",
       "\n",
       "                                                 mini_histogram  \n",
       "Unemployment  data:image/png;base64,iVBORw0KGgoAAAANSUhEUgAA...  "
      ]
     },
     "execution_count": 41,
     "metadata": {},
     "output_type": "execute_result"
    }
   ],
   "source": [
    "pd.set_option('display.max_columns',500)\n",
    "profile.get_description()['variables']"
   ]
  },
  {
   "cell_type": "markdown",
   "metadata": {},
   "source": [
    "## unemployment and violent crime rates"
   ]
  },
  {
   "cell_type": "code",
   "execution_count": 43,
   "metadata": {
    "ExecuteTime": {
     "end_time": "2019-06-25T03:35:54.480866Z",
     "start_time": "2019-06-25T03:35:54.261272Z"
    }
   },
   "outputs": [
    {
     "data": {
      "text/plain": [
       "<matplotlib.axes._subplots.AxesSubplot at 0x1a1e706e80>"
      ]
     },
     "execution_count": 43,
     "metadata": {},
     "output_type": "execute_result"
    },
    {
     "data": {
      "image/png": "[encoded data removed]",
      "text/plain": [
       "<Figure size 800x550 with 1 Axes>"
      ]
     },
     "metadata": {},
     "output_type": "display_data"
    }
   ],
   "source": [
    "df.plot.scatter(x='Unemployment',y='Violence')"
   ]
  },
  {
   "cell_type": "markdown",
   "metadata": {
    "ExecuteTime": {
     "end_time": "2019-06-25T03:37:38.880888Z",
     "start_time": "2019-06-25T03:37:38.870571Z"
    }
   },
   "source": [
    "## correlation"
   ]
  },
  {
   "cell_type": "code",
   "execution_count": 45,
   "metadata": {
    "ExecuteTime": {
     "end_time": "2019-06-25T03:39:13.080614Z",
     "start_time": "2019-06-25T03:39:13.072294Z"
    }
   },
   "outputs": [
    {
     "data": {
      "text/html": [
       "<div>\n",
       "<style scoped>\n",
       "    .dataframe tbody tr th:only-of-type {\n",
       "        vertical-align: middle;\n",
       "    }\n",
       "\n",
       "    .dataframe tbody tr th {\n",
       "        vertical-align: top;\n",
       "    }\n",
       "\n",
       "    .dataframe thead th {\n",
       "        text-align: right;\n",
       "    }\n",
       "</style>\n",
       "<table border=\"1\" class=\"dataframe\">\n",
       "  <thead>\n",
       "    <tr style=\"text-align: right;\">\n",
       "      <th></th>\n",
       "      <th>Unemployment</th>\n",
       "      <th>Violence</th>\n",
       "    </tr>\n",
       "  </thead>\n",
       "  <tbody>\n",
       "    <tr>\n",
       "      <th>Unemployment</th>\n",
       "      <td>1.000000</td>\n",
       "      <td>0.420882</td>\n",
       "    </tr>\n",
       "    <tr>\n",
       "      <th>Violence</th>\n",
       "      <td>0.420882</td>\n",
       "      <td>1.000000</td>\n",
       "    </tr>\n",
       "  </tbody>\n",
       "</table>\n",
       "</div>"
      ],
      "text/plain": [
       "              Unemployment  Violence\n",
       "Unemployment      1.000000  0.420882\n",
       "Violence          0.420882  1.000000"
      ]
     },
     "execution_count": 45,
     "metadata": {},
     "output_type": "execute_result"
    }
   ],
   "source": [
    "df.corr()\n",
    "# 0.42 means small +ve coreelation"
   ]
  },
  {
   "cell_type": "code",
   "execution_count": 46,
   "metadata": {
    "ExecuteTime": {
     "end_time": "2019-06-25T03:39:22.707188Z",
     "start_time": "2019-06-25T03:39:22.527223Z"
    }
   },
   "outputs": [
    {
     "data": {
      "text/plain": [
       "<matplotlib.axes._subplots.AxesSubplot at 0x1a1e7f8128>"
      ]
     },
     "execution_count": 46,
     "metadata": {},
     "output_type": "execute_result"
    },
    {
     "data": {
      "image/png": "[encoded data removed]",
      "text/plain": [
       "<Figure size 800x550 with 2 Axes>"
      ]
     },
     "metadata": {},
     "output_type": "display_data"
    }
   ],
   "source": [
    "sns.heatmap(df.corr())"
   ]
  },
  {
   "cell_type": "markdown",
   "metadata": {},
   "source": [
    "## OLS violence ~ uneployment"
   ]
  },
  {
   "cell_type": "code",
   "execution_count": 58,
   "metadata": {
    "ExecuteTime": {
     "end_time": "2019-06-25T03:53:02.991687Z",
     "start_time": "2019-06-25T03:53:02.986353Z"
    }
   },
   "outputs": [],
   "source": [
    "import statsmodels.api as sm\n",
    "import statsmodels.formula.api as smf"
   ]
  },
  {
   "cell_type": "code",
   "execution_count": 61,
   "metadata": {
    "ExecuteTime": {
     "end_time": "2019-06-25T03:55:38.357092Z",
     "start_time": "2019-06-25T03:55:38.333369Z"
    }
   },
   "outputs": [
    {
     "data": {
      "text/html": [
       "<table class=\"simpletable\">\n",
       "<caption>OLS Regression Results</caption>\n",
       "<tr>\n",
       "  <th>Dep. Variable:</th>        <td>Violence</td>     <th>  R-squared:         </th> <td>   0.177</td>\n",
       "</tr>\n",
       "<tr>\n",
       "  <th>Model:</th>                   <td>OLS</td>       <th>  Adj. R-squared:    </th> <td>   0.160</td>\n",
       "</tr>\n",
       "<tr>\n",
       "  <th>Method:</th>             <td>Least Squares</td>  <th>  F-statistic:       </th> <td>   10.55</td>\n",
       "</tr>\n",
       "<tr>\n",
       "  <th>Date:</th>             <td>Mon, 24 Jun 2019</td> <th>  Prob (F-statistic):</th>  <td>0.00210</td>\n",
       "</tr>\n",
       "<tr>\n",
       "  <th>Time:</th>                 <td>23:55:38</td>     <th>  Log-Likelihood:    </th> <td> -335.84</td>\n",
       "</tr>\n",
       "<tr>\n",
       "  <th>No. Observations:</th>      <td>    51</td>      <th>  AIC:               </th> <td>   675.7</td>\n",
       "</tr>\n",
       "<tr>\n",
       "  <th>Df Residuals:</th>          <td>    49</td>      <th>  BIC:               </th> <td>   679.5</td>\n",
       "</tr>\n",
       "<tr>\n",
       "  <th>Df Model:</th>              <td>     1</td>      <th>                     </th>     <td> </td>   \n",
       "</tr>\n",
       "<tr>\n",
       "  <th>Covariance Type:</th>      <td>nonrobust</td>    <th>                     </th>     <td> </td>   \n",
       "</tr>\n",
       "</table>\n",
       "<table class=\"simpletable\">\n",
       "<tr>\n",
       "        <td></td>          <th>coef</th>     <th>std err</th>      <th>t</th>      <th>P>|t|</th>  <th>[0.025</th>    <th>0.975]</th>  \n",
       "</tr>\n",
       "<tr>\n",
       "  <th>Intercept</th>    <td>   24.3979</td> <td>  113.900</td> <td>    0.214</td> <td> 0.831</td> <td> -204.492</td> <td>  253.288</td>\n",
       "</tr>\n",
       "<tr>\n",
       "  <th>Unemployment</th> <td>   53.3478</td> <td>   16.426</td> <td>    3.248</td> <td> 0.002</td> <td>   20.339</td> <td>   86.356</td>\n",
       "</tr>\n",
       "</table>\n",
       "<table class=\"simpletable\">\n",
       "<tr>\n",
       "  <th>Omnibus:</th>       <td>43.512</td> <th>  Durbin-Watson:     </th> <td>   1.827</td>\n",
       "</tr>\n",
       "<tr>\n",
       "  <th>Prob(Omnibus):</th> <td> 0.000</td> <th>  Jarque-Bera (JB):  </th> <td> 191.095</td>\n",
       "</tr>\n",
       "<tr>\n",
       "  <th>Skew:</th>          <td> 2.169</td> <th>  Prob(JB):          </th> <td>3.19e-42</td>\n",
       "</tr>\n",
       "<tr>\n",
       "  <th>Kurtosis:</th>      <td>11.433</td> <th>  Cond. No.          </th> <td>    32.2</td>\n",
       "</tr>\n",
       "</table><br/><br/>Warnings:<br/>[1] Standard Errors assume that the covariance matrix of the errors is correctly specified."
      ],
      "text/plain": [
       "<class 'statsmodels.iolib.summary.Summary'>\n",
       "\"\"\"\n",
       "                            OLS Regression Results                            \n",
       "==============================================================================\n",
       "Dep. Variable:               Violence   R-squared:                       0.177\n",
       "Model:                            OLS   Adj. R-squared:                  0.160\n",
       "Method:                 Least Squares   F-statistic:                     10.55\n",
       "Date:                Mon, 24 Jun 2019   Prob (F-statistic):            0.00210\n",
       "Time:                        23:55:38   Log-Likelihood:                -335.84\n",
       "No. Observations:                  51   AIC:                             675.7\n",
       "Df Residuals:                      49   BIC:                             679.5\n",
       "Df Model:                           1                                         \n",
       "Covariance Type:            nonrobust                                         \n",
       "================================================================================\n",
       "                   coef    std err          t      P>|t|      [0.025      0.975]\n",
       "--------------------------------------------------------------------------------\n",
       "Intercept       24.3979    113.900      0.214      0.831    -204.492     253.288\n",
       "Unemployment    53.3478     16.426      3.248      0.002      20.339      86.356\n",
       "==============================================================================\n",
       "Omnibus:                       43.512   Durbin-Watson:                   1.827\n",
       "Prob(Omnibus):                  0.000   Jarque-Bera (JB):              191.095\n",
       "Skew:                           2.169   Prob(JB):                     3.19e-42\n",
       "Kurtosis:                      11.433   Cond. No.                         32.2\n",
       "==============================================================================\n",
       "\n",
       "Warnings:\n",
       "[1] Standard Errors assume that the covariance matrix of the errors is correctly specified.\n",
       "\"\"\""
      ]
     },
     "execution_count": 61,
     "metadata": {},
     "output_type": "execute_result"
    }
   ],
   "source": [
    "formula = 'Violence ~ Unemployment'\n",
    "mod = smf.ols(formula=formula, data=df)\n",
    "res = mod.fit()\n",
    "res.summary()"
   ]
  },
  {
   "cell_type": "code",
   "execution_count": 65,
   "metadata": {
    "ExecuteTime": {
     "end_time": "2019-06-25T03:57:12.119641Z",
     "start_time": "2019-06-25T03:57:12.092498Z"
    }
   },
   "outputs": [
    {
     "name": "stderr",
     "output_type": "stream",
     "text": [
      "/Users/poudel/miniconda3/envs/dataSc/lib/python3.7/site-packages/numpy/core/fromnumeric.py:2223: FutureWarning: Method .ptp is deprecated and will be removed in a future version. Use numpy.ptp instead.\n",
      "  return ptp(axis=axis, out=out, **kwargs)\n"
     ]
    },
    {
     "data": {
      "text/html": [
       "<table class=\"simpletable\">\n",
       "<caption>OLS Regression Results</caption>\n",
       "<tr>\n",
       "  <th>Dep. Variable:</th>        <td>Violence</td>     <th>  R-squared:         </th> <td>   0.177</td>\n",
       "</tr>\n",
       "<tr>\n",
       "  <th>Model:</th>                   <td>OLS</td>       <th>  Adj. R-squared:    </th> <td>   0.160</td>\n",
       "</tr>\n",
       "<tr>\n",
       "  <th>Method:</th>             <td>Least Squares</td>  <th>  F-statistic:       </th> <td>   10.55</td>\n",
       "</tr>\n",
       "<tr>\n",
       "  <th>Date:</th>             <td>Mon, 24 Jun 2019</td> <th>  Prob (F-statistic):</th>  <td>0.00210</td>\n",
       "</tr>\n",
       "<tr>\n",
       "  <th>Time:</th>                 <td>23:57:12</td>     <th>  Log-Likelihood:    </th> <td> -335.84</td>\n",
       "</tr>\n",
       "<tr>\n",
       "  <th>No. Observations:</th>      <td>    51</td>      <th>  AIC:               </th> <td>   675.7</td>\n",
       "</tr>\n",
       "<tr>\n",
       "  <th>Df Residuals:</th>          <td>    49</td>      <th>  BIC:               </th> <td>   679.5</td>\n",
       "</tr>\n",
       "<tr>\n",
       "  <th>Df Model:</th>              <td>     1</td>      <th>                     </th>     <td> </td>   \n",
       "</tr>\n",
       "<tr>\n",
       "  <th>Covariance Type:</th>      <td>nonrobust</td>    <th>                     </th>     <td> </td>   \n",
       "</tr>\n",
       "</table>\n",
       "<table class=\"simpletable\">\n",
       "<tr>\n",
       "        <td></td>          <th>coef</th>     <th>std err</th>      <th>t</th>      <th>P>|t|</th>  <th>[0.025</th>    <th>0.975]</th>  \n",
       "</tr>\n",
       "<tr>\n",
       "  <th>const</th>        <td>   24.3979</td> <td>  113.900</td> <td>    0.214</td> <td> 0.831</td> <td> -204.492</td> <td>  253.288</td>\n",
       "</tr>\n",
       "<tr>\n",
       "  <th>Unemployment</th> <td>   53.3478</td> <td>   16.426</td> <td>    3.248</td> <td> 0.002</td> <td>   20.339</td> <td>   86.356</td>\n",
       "</tr>\n",
       "</table>\n",
       "<table class=\"simpletable\">\n",
       "<tr>\n",
       "  <th>Omnibus:</th>       <td>43.512</td> <th>  Durbin-Watson:     </th> <td>   1.827</td>\n",
       "</tr>\n",
       "<tr>\n",
       "  <th>Prob(Omnibus):</th> <td> 0.000</td> <th>  Jarque-Bera (JB):  </th> <td> 191.095</td>\n",
       "</tr>\n",
       "<tr>\n",
       "  <th>Skew:</th>          <td> 2.169</td> <th>  Prob(JB):          </th> <td>3.19e-42</td>\n",
       "</tr>\n",
       "<tr>\n",
       "  <th>Kurtosis:</th>      <td>11.433</td> <th>  Cond. No.          </th> <td>    32.2</td>\n",
       "</tr>\n",
       "</table><br/><br/>Warnings:<br/>[1] Standard Errors assume that the covariance matrix of the errors is correctly specified."
      ],
      "text/plain": [
       "<class 'statsmodels.iolib.summary.Summary'>\n",
       "\"\"\"\n",
       "                            OLS Regression Results                            \n",
       "==============================================================================\n",
       "Dep. Variable:               Violence   R-squared:                       0.177\n",
       "Model:                            OLS   Adj. R-squared:                  0.160\n",
       "Method:                 Least Squares   F-statistic:                     10.55\n",
       "Date:                Mon, 24 Jun 2019   Prob (F-statistic):            0.00210\n",
       "Time:                        23:57:12   Log-Likelihood:                -335.84\n",
       "No. Observations:                  51   AIC:                             675.7\n",
       "Df Residuals:                      49   BIC:                             679.5\n",
       "Df Model:                           1                                         \n",
       "Covariance Type:            nonrobust                                         \n",
       "================================================================================\n",
       "                   coef    std err          t      P>|t|      [0.025      0.975]\n",
       "--------------------------------------------------------------------------------\n",
       "const           24.3979    113.900      0.214      0.831    -204.492     253.288\n",
       "Unemployment    53.3478     16.426      3.248      0.002      20.339      86.356\n",
       "==============================================================================\n",
       "Omnibus:                       43.512   Durbin-Watson:                   1.827\n",
       "Prob(Omnibus):                  0.000   Jarque-Bera (JB):              191.095\n",
       "Skew:                           2.169   Prob(JB):                     3.19e-42\n",
       "Kurtosis:                      11.433   Cond. No.                         32.2\n",
       "==============================================================================\n",
       "\n",
       "Warnings:\n",
       "[1] Standard Errors assume that the covariance matrix of the errors is correctly specified.\n",
       "\"\"\""
      ]
     },
     "execution_count": 65,
     "metadata": {},
     "output_type": "execute_result"
    }
   ],
   "source": [
    "sm.OLS(df.Violence, sm.add_constant(df.Unemployment)).fit().summary()"
   ]
  },
  {
   "cell_type": "code",
   "execution_count": 64,
   "metadata": {
    "ExecuteTime": {
     "end_time": "2019-06-25T03:56:47.777000Z",
     "start_time": "2019-06-25T03:56:47.773092Z"
    }
   },
   "outputs": [],
   "source": [
    "# help(sm.OLS)"
   ]
  },
  {
   "cell_type": "code",
   "execution_count": 67,
   "metadata": {
    "ExecuteTime": {
     "end_time": "2019-06-25T04:04:19.654300Z",
     "start_time": "2019-06-25T04:04:19.412385Z"
    }
   },
   "outputs": [],
   "source": [
    "### Using scikit-learn\n",
    "from sklearn.linear_model import LinearRegression"
   ]
  },
  {
   "cell_type": "code",
   "execution_count": 75,
   "metadata": {
    "ExecuteTime": {
     "end_time": "2019-06-25T04:08:44.460022Z",
     "start_time": "2019-06-25T04:08:44.451969Z"
    }
   },
   "outputs": [
    {
     "data": {
      "text/plain": [
       "(51, 1)"
      ]
     },
     "execution_count": 75,
     "metadata": {},
     "output_type": "execute_result"
    }
   ],
   "source": [
    "X = df['Unemployment'].values\n",
    "X = X.reshape(-1,1)\n",
    "X.shape"
   ]
  },
  {
   "cell_type": "code",
   "execution_count": 76,
   "metadata": {
    "ExecuteTime": {
     "end_time": "2019-06-25T04:08:46.671233Z",
     "start_time": "2019-06-25T04:08:46.668345Z"
    }
   },
   "outputs": [],
   "source": [
    "y = df.Violence.values"
   ]
  },
  {
   "cell_type": "code",
   "execution_count": 77,
   "metadata": {
    "ExecuteTime": {
     "end_time": "2019-06-25T04:08:47.727656Z",
     "start_time": "2019-06-25T04:08:47.717913Z"
    }
   },
   "outputs": [
    {
     "data": {
      "text/plain": [
       "0.17714144837764634"
      ]
     },
     "execution_count": 77,
     "metadata": {},
     "output_type": "execute_result"
    }
   ],
   "source": [
    "linreg = LinearRegression().fit(X,y)\n",
    "linreg.score(X,y)"
   ]
  },
  {
   "cell_type": "code",
   "execution_count": 78,
   "metadata": {
    "ExecuteTime": {
     "end_time": "2019-06-25T04:08:49.104899Z",
     "start_time": "2019-06-25T04:08:49.096196Z"
    }
   },
   "outputs": [
    {
     "data": {
      "text/plain": [
       "array([53.34784767])"
      ]
     },
     "execution_count": 78,
     "metadata": {},
     "output_type": "execute_result"
    }
   ],
   "source": [
    "linreg.coef_"
   ]
  },
  {
   "cell_type": "code",
   "execution_count": 79,
   "metadata": {
    "ExecuteTime": {
     "end_time": "2019-06-25T04:08:50.971252Z",
     "start_time": "2019-06-25T04:08:50.963560Z"
    }
   },
   "outputs": [
    {
     "data": {
      "text/plain": [
       "24.3978931863698"
      ]
     },
     "execution_count": 79,
     "metadata": {},
     "output_type": "execute_result"
    }
   ],
   "source": [
    "linreg.intercept_"
   ]
  },
  {
   "cell_type": "markdown",
   "metadata": {},
   "source": [
    "## coef_ of unempl\n",
    "What is the coefficient on ’Unemployment’? What is the interpretation of this\n",
    "value?"
   ]
  },
  {
   "cell_type": "code",
   "execution_count": 80,
   "metadata": {
    "ExecuteTime": {
     "end_time": "2019-06-25T04:13:17.395264Z",
     "start_time": "2019-06-25T04:13:17.387901Z"
    }
   },
   "outputs": [
    {
     "data": {
      "text/plain": [
       "array([53.34784767])"
      ]
     },
     "execution_count": 80,
     "metadata": {},
     "output_type": "execute_result"
    }
   ],
   "source": [
    "linreg.coef_"
   ]
  },
  {
   "cell_type": "markdown",
   "metadata": {},
   "source": [
    "The coefficient on unemployment is approximately 53. This suggests that for\n",
    "a 1% increase in unemployment, on average there tends to be 53 more cases of\n",
    "violence per 100,000 people."
   ]
  },
  {
   "cell_type": "markdown",
   "metadata": {},
   "source": [
    "## 1std increase in unemp\n",
    "What would this model predict would be the increase in the rate of violent crime\n",
    "for a 1 standard deviation increase in unemployment? What is this increase in\n",
    "terms of standard deviations of the rate of violence?"
   ]
  },
  {
   "cell_type": "code",
   "execution_count": 81,
   "metadata": {
    "ExecuteTime": {
     "end_time": "2019-06-25T04:15:32.740699Z",
     "start_time": "2019-06-25T04:15:32.734313Z"
    }
   },
   "outputs": [
    {
     "data": {
      "text/plain": [
       "1.5393275842927996"
      ]
     },
     "execution_count": 81,
     "metadata": {},
     "output_type": "execute_result"
    }
   ],
   "source": [
    "df.Unemployment.std()"
   ]
  },
  {
   "cell_type": "code",
   "execution_count": 82,
   "metadata": {
    "ExecuteTime": {
     "end_time": "2019-06-25T04:15:52.690136Z",
     "start_time": "2019-06-25T04:15:52.681760Z"
    }
   },
   "outputs": [
    {
     "data": {
      "text/plain": [
       "195.11374223217373"
      ]
     },
     "execution_count": 82,
     "metadata": {},
     "output_type": "execute_result"
    }
   ],
   "source": [
    "df.Violence.std()"
   ]
  },
  {
   "cell_type": "markdown",
   "metadata": {},
   "source": [
    "The standard deviation of unemployment can be seen from its summary statistics,\n",
    "and is 1.5. An increase in unemployment by 1.5 will result in an increase in the\n",
    "rate of violence by 1.5×53 ≈ 82 cases on average per 100,000 people. The standard\n",
    "deviation in ’Violence’ is 195. So in terms of standard deviations, the 82.0 cases\n",
    "equates to approximately 0.42 s.d."
   ]
  },
  {
   "cell_type": "markdown",
   "metadata": {},
   "source": [
    "## 1std increase in violence\n",
    "What does a regression of the rate of unemployment on violent crime rates (the\n",
    "other way round to that in the last part) suggest would be the increase in the\n",
    "unemployment rate for a 1 standard deviation increase in the rate of violent\n",
    "crime?"
   ]
  },
  {
   "cell_type": "code",
   "execution_count": 83,
   "metadata": {
    "ExecuteTime": {
     "end_time": "2019-06-25T04:24:29.064268Z",
     "start_time": "2019-06-25T04:24:29.056001Z"
    }
   },
   "outputs": [
    {
     "data": {
      "text/plain": [
       "(5.485382916684997, array([0.0033205]))"
      ]
     },
     "execution_count": 83,
     "metadata": {},
     "output_type": "execute_result"
    }
   ],
   "source": [
    "X = df['Violence'].values\n",
    "X = X.reshape(-1,1)\n",
    "y = df.Unemployment.values\n",
    "\n",
    "linreg = LinearRegression().fit(X,y)\n",
    "\n",
    "linreg.intercept_, linreg.coef_"
   ]
  },
  {
   "cell_type": "code",
   "execution_count": 84,
   "metadata": {
    "ExecuteTime": {
     "end_time": "2019-06-25T04:30:07.144154Z",
     "start_time": "2019-06-25T04:30:07.123284Z"
    }
   },
   "outputs": [
    {
     "name": "stderr",
     "output_type": "stream",
     "text": [
      "/Users/poudel/miniconda3/envs/dataSc/lib/python3.7/site-packages/numpy/core/fromnumeric.py:2223: FutureWarning: Method .ptp is deprecated and will be removed in a future version. Use numpy.ptp instead.\n",
      "  return ptp(axis=axis, out=out, **kwargs)\n"
     ]
    },
    {
     "data": {
      "text/html": [
       "<table class=\"simpletable\">\n",
       "<caption>OLS Regression Results</caption>\n",
       "<tr>\n",
       "  <th>Dep. Variable:</th>      <td>Unemployment</td>   <th>  R-squared:         </th> <td>   0.177</td>\n",
       "</tr>\n",
       "<tr>\n",
       "  <th>Model:</th>                   <td>OLS</td>       <th>  Adj. R-squared:    </th> <td>   0.160</td>\n",
       "</tr>\n",
       "<tr>\n",
       "  <th>Method:</th>             <td>Least Squares</td>  <th>  F-statistic:       </th> <td>   10.55</td>\n",
       "</tr>\n",
       "<tr>\n",
       "  <th>Date:</th>             <td>Tue, 25 Jun 2019</td> <th>  Prob (F-statistic):</th>  <td>0.00210</td>\n",
       "</tr>\n",
       "<tr>\n",
       "  <th>Time:</th>                 <td>00:30:07</td>     <th>  Log-Likelihood:    </th> <td> -88.888</td>\n",
       "</tr>\n",
       "<tr>\n",
       "  <th>No. Observations:</th>      <td>    51</td>      <th>  AIC:               </th> <td>   181.8</td>\n",
       "</tr>\n",
       "<tr>\n",
       "  <th>Df Residuals:</th>          <td>    49</td>      <th>  BIC:               </th> <td>   185.6</td>\n",
       "</tr>\n",
       "<tr>\n",
       "  <th>Df Model:</th>              <td>     1</td>      <th>                     </th>     <td> </td>   \n",
       "</tr>\n",
       "<tr>\n",
       "  <th>Covariance Type:</th>      <td>nonrobust</td>    <th>                     </th>     <td> </td>   \n",
       "</tr>\n",
       "</table>\n",
       "<table class=\"simpletable\">\n",
       "<tr>\n",
       "      <td></td>        <th>coef</th>     <th>std err</th>      <th>t</th>      <th>P>|t|</th>  <th>[0.025</th>    <th>0.975]</th>  \n",
       "</tr>\n",
       "<tr>\n",
       "  <th>const</th>    <td>    5.4854</td> <td>    0.441</td> <td>   12.449</td> <td> 0.000</td> <td>    4.600</td> <td>    6.371</td>\n",
       "</tr>\n",
       "<tr>\n",
       "  <th>Violence</th> <td>    0.0033</td> <td>    0.001</td> <td>    3.248</td> <td> 0.002</td> <td>    0.001</td> <td>    0.005</td>\n",
       "</tr>\n",
       "</table>\n",
       "<table class=\"simpletable\">\n",
       "<tr>\n",
       "  <th>Omnibus:</th>       <td> 0.760</td> <th>  Durbin-Watson:     </th> <td>   2.405</td>\n",
       "</tr>\n",
       "<tr>\n",
       "  <th>Prob(Omnibus):</th> <td> 0.684</td> <th>  Jarque-Bera (JB):  </th> <td>   0.816</td>\n",
       "</tr>\n",
       "<tr>\n",
       "  <th>Skew:</th>          <td>-0.140</td> <th>  Prob(JB):          </th> <td>   0.665</td>\n",
       "</tr>\n",
       "<tr>\n",
       "  <th>Kurtosis:</th>      <td> 2.447</td> <th>  Cond. No.          </th> <td>    962.</td>\n",
       "</tr>\n",
       "</table><br/><br/>Warnings:<br/>[1] Standard Errors assume that the covariance matrix of the errors is correctly specified."
      ],
      "text/plain": [
       "<class 'statsmodels.iolib.summary.Summary'>\n",
       "\"\"\"\n",
       "                            OLS Regression Results                            \n",
       "==============================================================================\n",
       "Dep. Variable:           Unemployment   R-squared:                       0.177\n",
       "Model:                            OLS   Adj. R-squared:                  0.160\n",
       "Method:                 Least Squares   F-statistic:                     10.55\n",
       "Date:                Tue, 25 Jun 2019   Prob (F-statistic):            0.00210\n",
       "Time:                        00:30:07   Log-Likelihood:                -88.888\n",
       "No. Observations:                  51   AIC:                             181.8\n",
       "Df Residuals:                      49   BIC:                             185.6\n",
       "Df Model:                           1                                         \n",
       "Covariance Type:            nonrobust                                         \n",
       "==============================================================================\n",
       "                 coef    std err          t      P>|t|      [0.025      0.975]\n",
       "------------------------------------------------------------------------------\n",
       "const          5.4854      0.441     12.449      0.000       4.600       6.371\n",
       "Violence       0.0033      0.001      3.248      0.002       0.001       0.005\n",
       "==============================================================================\n",
       "Omnibus:                        0.760   Durbin-Watson:                   2.405\n",
       "Prob(Omnibus):                  0.684   Jarque-Bera (JB):                0.816\n",
       "Skew:                          -0.140   Prob(JB):                        0.665\n",
       "Kurtosis:                       2.447   Cond. No.                         962.\n",
       "==============================================================================\n",
       "\n",
       "Warnings:\n",
       "[1] Standard Errors assume that the covariance matrix of the errors is correctly specified.\n",
       "\"\"\""
      ]
     },
     "execution_count": 84,
     "metadata": {},
     "output_type": "execute_result"
    }
   ],
   "source": [
    "sm.OLS(df.Unemployment, sm.add_constant(df.Violence)).fit().summary()"
   ]
  },
  {
   "cell_type": "markdown",
   "metadata": {},
   "source": [
    "The results of this regression are shown below. An increase in violence by 195.32\n",
    "is associated with an average increase in the unemployment rate by 0.66%."
   ]
  },
  {
   "cell_type": "markdown",
   "metadata": {},
   "source": [
    "## qn\n",
    "Can you use this regression to uncover what it suggests the increase in unemployment associated with a 1 standard deviation increase in violent crime? Is\n",
    "this the same as we found previously? Why is this the same/different?"
   ]
  },
  {
   "cell_type": "markdown",
   "metadata": {},
   "source": [
    "Making ’Violence’ the subject of the above regression model yields:\n",
    "\n",
    "Violence = (1/0.0034) × Unemployment − (1/0.0034) × 5.589\n",
    "Or more neatly.\n",
    "\n",
    "\n",
    "Violence = 294.11 × Unemployment − 1643.82\n",
    "\n",
    "Note that this is completely different to the results which we obtained from our\n",
    "OLS regression of ’Violence’ on ’Unemployment’. This is because of the fact that\n",
    "the regression of y on x is not the same as the regression of x on y. The former\n",
    "minimises square distances of ’y’ from the line, whereas the latter minimises\n",
    "square distances in ’x’. Rearranging the latter regression equation will hence not\n",
    "yield the former. For example this model suggests that a 1.58% increase in the\n",
    "unemployment rate will increase violence rates by 467.6! Very different to the\n",
    "previous estimate."
   ]
  },
  {
   "cell_type": "markdown",
   "metadata": {},
   "source": [
    "## qn\n",
    "What can you conclude about the causal mechanism between violent crime and\n",
    "unemployment based on the two regressions you have run? Does violent crime\n",
    "cause unemployment or vice versa?"
   ]
  },
  {
   "cell_type": "markdown",
   "metadata": {},
   "source": [
    "Based on these data alone it is impossible to understand fully the causal mechanism. In my view it is unlikely that violence causes unemployment from a\n",
    "theoretical standpoint, but it is impossible to say whether unemployment causes\n",
    "violence, or whether they are simply both correlated/caused by a third unknown\n",
    "factor."
   ]
  },
  {
   "cell_type": "markdown",
   "metadata": {},
   "source": [
    "## qn\n",
    "Why might it be incorrect to conclude that increases in unemployment lead to\n",
    "increases in rates of violent crime?"
   ]
  },
  {
   "cell_type": "markdown",
   "metadata": {},
   "source": [
    "There are a number of factors which are correlated with violence, which could\n",
    "also be correlated with unemployment. Examples of this might be ethnic fractionalisation, or some measure of geography. These would need to be explictly\n",
    "controlled for in a regression before any conclusions are made, since omitted\n",
    "variable bias in the estimation of the effect of unemployment on violence is likely\n",
    "rife."
   ]
  },
  {
   "cell_type": "code",
   "execution_count": null,
   "metadata": {},
   "outputs": [],
   "source": []
  }
 ],
 "metadata": {
  "kernelspec": {
   "display_name": "Python (dataSc)",
   "language": "python",
   "name": "datasc"
  },
  "language_info": {
   "codemirror_mode": {
    "name": "ipython",
    "version": 3
   },
   "file_extension": ".py",
   "mimetype": "text/x-python",
   "name": "python",
   "nbconvert_exporter": "python",
   "pygments_lexer": "ipython3",
   "version": "3.7.0"
  },
  "toc": {
   "base_numbering": 1,
   "nav_menu": {},
   "number_sections": true,
   "sideBar": true,
   "skip_h1_title": false,
   "title_cell": "Table of Contents",
   "title_sidebar": "Contents",
   "toc_cell": true,
   "toc_position": {},
   "toc_section_display": true,
   "toc_window_display": true
  }
 },
 "nbformat": 4,
 "nbformat_minor": 2
}
