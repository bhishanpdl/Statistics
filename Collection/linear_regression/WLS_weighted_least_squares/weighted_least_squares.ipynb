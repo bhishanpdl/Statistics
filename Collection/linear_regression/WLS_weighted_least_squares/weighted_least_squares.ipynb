{
 "cells": [
  {
   "cell_type": "markdown",
   "metadata": {
    "toc": true
   },
   "source": [
    "<h1>Table of Contents<span class=\"tocSkip\"></span></h1>\n",
    "<div class=\"toc\"><ul class=\"toc-item\"></ul></div>"
   ]
  },
  {
   "cell_type": "code",
   "execution_count": 1,
   "metadata": {
    "ExecuteTime": {
     "end_time": "2019-06-22T14:09:07.987958Z",
     "start_time": "2019-06-22T14:09:07.348473Z"
    }
   },
   "outputs": [],
   "source": [
    "import numpy as np\n",
    "import pandas as pd\n",
    "import seaborn as sns\n",
    "sns.set()\n",
    "import matplotlib.pyplot as plt\n",
    "plt.rcParams[\"figure.figsize\"] = [10, 8]\n",
    "plt.style.use('fivethirtyeight')\n",
    "%matplotlib inline"
   ]
  },
  {
   "cell_type": "markdown",
   "metadata": {},
   "source": [
    "http://www.alexsalo.xyz/weighted-linear-regression-python/"
   ]
  },
  {
   "cell_type": "code",
   "execution_count": 3,
   "metadata": {
    "ExecuteTime": {
     "end_time": "2019-06-22T14:45:32.213042Z",
     "start_time": "2019-06-22T14:45:32.208496Z"
    }
   },
   "outputs": [],
   "source": [
    "import numpy as np\n",
    "import pandas as pd\n",
    "import seaborn as sns\n",
    "sns.set()\n",
    "import matplotlib.pyplot as plt\n",
    "plt.rcParams[\"figure.figsize\"] = [10, 8]\n",
    "plt.style.use('fivethirtyeight')\n",
    "%matplotlib inline"
   ]
  },
  {
   "cell_type": "code",
   "execution_count": 10,
   "metadata": {
    "ExecuteTime": {
     "end_time": "2019-06-22T14:47:07.575283Z",
     "start_time": "2019-06-22T14:47:07.569795Z"
    }
   },
   "outputs": [],
   "source": [
    "#weighted linear regression\n",
    "def wls(x, y, tau=0.3):\n",
    "    \"\"\"\n",
    "    :param x: feature matrix\n",
    "    :param y: target vector\n",
    "    :param tau: smoothing factor - Gaussian bump's width\n",
    "    :return: plot of matplotlib\n",
    "    \"\"\"\n",
    "    x = np.mat(x).T\n",
    "    y = np.mat(y).T\n",
    "    m = x.shape[0] #number of examples\n",
    "\n",
    "    dummy = np.mat(np.ones((m,), dtype=np.int))\n",
    "    X = np.hstack((dummy.T, x)) #design matrix\n",
    "\n",
    "    #try predicting on new possible examples\n",
    "    xpred = np.linspace(x.min(), x.max(), 200)\n",
    "    ypred = np.zeros(200)\n",
    "\n",
    "    for i in range(len(xpred)):\n",
    "        xval = xpred[i]\n",
    "\n",
    "        W = np.eye(m) #weights for current ith example\n",
    "        theta = np.zeros(m) #thetas for that\n",
    "\n",
    "        #fill weights via Gaussian sigmoid\n",
    "        for j in range(m):\n",
    "            W[j][j] = np.exp(-np.linalg.norm(x[j] - xval)**2 / 2*tau**2)\n",
    "\n",
    "        #calc theta\n",
    "        theta = np.linalg.inv(X.T * W * X) * (X.T * (W*y))\n",
    "\n",
    "        #make prediction\n",
    "        ypred[i] = np.mat([1, xval]) * theta\n",
    "\n",
    "    plt.plot(x, y, 'ro', xpred, ypred, 'b-')\n",
    "    plt.show()\n",
    "    return plt"
   ]
  },
  {
   "cell_type": "code",
   "execution_count": 11,
   "metadata": {
    "ExecuteTime": {
     "end_time": "2019-06-22T14:47:09.039713Z",
     "start_time": "2019-06-22T14:47:08.887268Z"
    }
   },
   "outputs": [
    {
     "data": {
      "text/plain": [
       "[<matplotlib.lines.Line2D at 0x1a224ca940>]"
      ]
     },
     "execution_count": 11,
     "metadata": {},
     "output_type": "execute_result"
    },
    {
     "data": {
      "image/png": "[encoded data removed]",
      "text/plain": [
       "<Figure size 432x288 with 1 Axes>"
      ]
     },
     "metadata": {
      "needs_background": "light"
     },
     "output_type": "display_data"
    }
   ],
   "source": [
    "np.random.seed(0)\n",
    "x = np.arange(1,101)\n",
    "y = x * 5 + 100 + np.random.normal(x,2*x,100)\n",
    "plt.plot(x,y,'.')"
   ]
  },
  {
   "cell_type": "code",
   "execution_count": 12,
   "metadata": {
    "ExecuteTime": {
     "end_time": "2019-06-22T14:47:12.028690Z",
     "start_time": "2019-06-22T14:47:11.555634Z"
    }
   },
   "outputs": [
    {
     "data": {
      "image/png": "[encoded data removed]",
      "text/plain": [
       "<Figure size 432x288 with 1 Axes>"
      ]
     },
     "metadata": {
      "needs_background": "light"
     },
     "output_type": "display_data"
    },
    {
     "data": {
      "text/plain": [
       "<module 'matplotlib.pyplot' from '/Users/poudel/miniconda3/envs/dataSc/lib/python3.7/site-packages/matplotlib/pyplot.py'>"
      ]
     },
     "execution_count": 12,
     "metadata": {},
     "output_type": "execute_result"
    }
   ],
   "source": [
    "wls(x, y)"
   ]
  },
  {
   "cell_type": "code",
   "execution_count": null,
   "metadata": {},
   "outputs": [],
   "source": []
  }
 ],
 "metadata": {
  "kernelspec": {
   "display_name": "Python (dataSc)",
   "language": "python",
   "name": "datasc"
  },
  "language_info": {
   "codemirror_mode": {
    "name": "ipython",
    "version": 3
   },
   "file_extension": ".py",
   "mimetype": "text/x-python",
   "name": "python",
   "nbconvert_exporter": "python",
   "pygments_lexer": "ipython3",
   "version": "3.7.0"
  },
  "toc": {
   "base_numbering": 1,
   "nav_menu": {},
   "number_sections": true,
   "sideBar": true,
   "skip_h1_title": false,
   "title_cell": "Table of Contents",
   "title_sidebar": "Contents",
   "toc_cell": true,
   "toc_position": {},
   "toc_section_display": true,
   "toc_window_display": true
  }
 },
 "nbformat": 4,
 "nbformat_minor": 2
}
