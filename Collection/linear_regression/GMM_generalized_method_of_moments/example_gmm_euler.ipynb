{
 "cells": [
  {
   "cell_type": "markdown",
   "metadata": {
    "toc": "true"
   },
   "source": [
    "# Table of Contents\n",
    " <p><div class=\"lev1 toc-item\"><a href=\"#Estimating-Euler-Equation-with-Generalized-Method-of-Moments-with-statsmodels\" data-toc-modified-id=\"Estimating-Euler-Equation-with-Generalized-Method-of-Moments-with-statsmodels-1\"><span class=\"toc-item-num\">1&nbsp;&nbsp;</span>Estimating Euler Equation with Generalized Method of Moments with statsmodels</a></div><div class=\"lev2 toc-item\"><a href=\"#Setup-and-Data\" data-toc-modified-id=\"Setup-and-Data-11\"><span class=\"toc-item-num\">1.1&nbsp;&nbsp;</span>Setup and Data</a></div><div class=\"lev2 toc-item\"><a href=\"#The-moment-equations-and-GMM---version-1\" data-toc-modified-id=\"The-moment-equations-and-GMM---version-1-12\"><span class=\"toc-item-num\">1.2&nbsp;&nbsp;</span>The moment equations and GMM - version 1</a></div><div class=\"lev2 toc-item\"><a href=\"#The-moment-equations-and-GMM---version-2\" data-toc-modified-id=\"The-moment-equations-and-GMM---version-2-13\"><span class=\"toc-item-num\">1.3&nbsp;&nbsp;</span>The moment equations and GMM - version 2</a></div><div class=\"lev2 toc-item\"><a href=\"#Compare\" data-toc-modified-id=\"Compare-14\"><span class=\"toc-item-num\">1.4&nbsp;&nbsp;</span>Compare</a></div><div class=\"lev2 toc-item\"><a href=\"#Extra:-Iterated-GMM\" data-toc-modified-id=\"Extra:-Iterated-GMM-15\"><span class=\"toc-item-num\">1.5&nbsp;&nbsp;</span>Extra: Iterated GMM</a></div><div class=\"lev2 toc-item\"><a href=\"#Extra:-Problems-with-Optimization\" data-toc-modified-id=\"Extra:-Problems-with-Optimization-16\"><span class=\"toc-item-num\">1.6&nbsp;&nbsp;</span>Extra: Problems with Optimization</a></div>"
   ]
  },
  {
   "cell_type": "markdown",
   "metadata": {
    "deletable": true,
    "editable": true
   },
   "source": [
    "# Estimating Euler Equation with Generalized Method of Moments with statsmodels"
   ]
  },
  {
   "cell_type": "markdown",
   "metadata": {
    "deletable": true,
    "editable": true
   },
   "source": [
    "One of the earliest application of GMM is the estimation of Euler equations in rational expectation models \n",
    "(Hansen and Singleton 1982). We can read about it in many textbooks, but here I just want to present it as \n",
    "another test case for GMM in statsmodels.\n",
    "\n",
    "The short form is that optimization by economic agents with rational expectation implies the following orthogonality condition in expectation:\n",
    "\n",
    "$\\hspace{10pt} E [z_t \\hspace{3pt} (1 - \\beta  (1 + r_{t+1})  (c_{t+1} / c_t)^{-\\gamma}) ]$\n",
    "    \n",
    "\n",
    "where beta is the discount factor of the agent, and gamma is the coefficient reflecting constant relative risk aversion. R is a rate of return on assets or interest rate, c is consumption\n",
    "(I have not looked at this part of economics in a long time.)\n",
    "\n",
    "The main point is that we cannot treat current and future consumption and future interest rates as exogenous when we try to estimate the parameters, since economic agents have more information about those variables than the econometrician. Those variables will be correlated with any residuals in the estimation and give us inconsistent estimates of the parameters if we don't take the endogeneity into account.\n"
   ]
  },
  {
   "cell_type": "markdown",
   "metadata": {
    "deletable": true,
    "editable": true
   },
   "source": [
    "## Setup and Data"
   ]
  },
  {
   "cell_type": "code",
   "execution_count": 1,
   "metadata": {
    "collapsed": false,
    "deletable": true,
    "editable": true
   },
   "outputs": [
    {
     "name": "stderr",
     "output_type": "stream",
     "text": [
      "/Users/poudel/Library/Enthought/Canopy/edm/envs/User/lib/python3.5/site-packages/statsmodels/compat/pandas.py:56: FutureWarning: The pandas.core.datetools module is deprecated and will be removed in a future version. Please use the pandas.tseries module instead.\n",
      "  from pandas.core import datetools\n"
     ]
    },
    {
     "data": {
      "text/html": [
       "<div>\n",
       "<style>\n",
       "    .dataframe thead tr:only-child th {\n",
       "        text-align: right;\n",
       "    }\n",
       "\n",
       "    .dataframe thead th {\n",
       "        text-align: left;\n",
       "    }\n",
       "\n",
       "    .dataframe tbody tr th {\n",
       "        vertical-align: top;\n",
       "    }\n",
       "</style>\n",
       "<table border=\"1\" class=\"dataframe\">\n",
       "  <thead>\n",
       "    <tr style=\"text-align: right;\">\n",
       "      <th></th>\n",
       "      <th>qtr</th>\n",
       "      <th>r</th>\n",
       "      <th>c</th>\n",
       "    </tr>\n",
       "  </thead>\n",
       "  <tbody>\n",
       "    <tr>\n",
       "      <th>0</th>\n",
       "      <td>1947-01-01</td>\n",
       "      <td>0.0038</td>\n",
       "      <td>1017.2</td>\n",
       "    </tr>\n",
       "    <tr>\n",
       "      <th>1</th>\n",
       "      <td>1947-04-01</td>\n",
       "      <td>0.0038</td>\n",
       "      <td>1034.0</td>\n",
       "    </tr>\n",
       "    <tr>\n",
       "      <th>2</th>\n",
       "      <td>1947-07-01</td>\n",
       "      <td>0.0066</td>\n",
       "      <td>1037.5</td>\n",
       "    </tr>\n",
       "    <tr>\n",
       "      <th>3</th>\n",
       "      <td>1947-10-01</td>\n",
       "      <td>0.0085</td>\n",
       "      <td>1037.7</td>\n",
       "    </tr>\n",
       "    <tr>\n",
       "      <th>4</th>\n",
       "      <td>1948-01-01</td>\n",
       "      <td>0.0097</td>\n",
       "      <td>1042.6</td>\n",
       "    </tr>\n",
       "  </tbody>\n",
       "</table>\n",
       "</div>"
      ],
      "text/plain": [
       "         qtr       r       c\n",
       "0 1947-01-01  0.0038  1017.2\n",
       "1 1947-04-01  0.0038  1034.0\n",
       "2 1947-07-01  0.0066  1037.5\n",
       "3 1947-10-01  0.0085  1037.7\n",
       "4 1948-01-01  0.0097  1042.6"
      ]
     },
     "execution_count": 1,
     "metadata": {},
     "output_type": "execute_result"
    }
   ],
   "source": [
    "\n",
    "\"\"\"\n",
    "\n",
    "Created on Tue Oct 08 09:27:31 2013\n",
    "\n",
    "Author: Josef Perktold\n",
    "\"\"\"\n",
    "\n",
    "import numpy as np\n",
    "import pandas as pd\n",
    "\n",
    "from statsmodels.sandbox.regression import gmm\n",
    "\n",
    "infile = 'https://gist.githubusercontent.com/josef-pkt/8128539/raw/7b34d435fae7a49a469085a71d8aebb30f0ba64b/consumption.csv'\n",
    "\n",
    "# dta = pd.read_csv('consumption.csv', parse_dates=[0])\n",
    "dta = pd.read_csv(infile, parse_dates=[0])\n",
    "\n",
    "dta.iloc[:5]"
   ]
  },
  {
   "cell_type": "markdown",
   "metadata": {
    "deletable": true,
    "editable": true
   },
   "source": [
    "Next, I create the lagged and leading variables for the estimation. \n",
    "As instruments we use lagged interest rate and current and lagged consumption growth."
   ]
  },
  {
   "cell_type": "code",
   "execution_count": 2,
   "metadata": {
    "collapsed": false,
    "deletable": true,
    "editable": true
   },
   "outputs": [],
   "source": [
    "dta['c_growth'] = dta['c'] / dta['c'].shift(1)\n",
    "dta['c_growth_lag1'] = dta['c_growth'].shift(1)\n",
    "dta['r_lag1'] = dta['r'].shift(1)\n",
    "dta['r_lag2'] = dta['r'].shift(2)\n",
    "dta['r_forw1'] = dta['r'].shift(-1)\n",
    "dta['c_lag1'] = dta['c'].shift(1)\n",
    "dta['c_forw1'] = dta['c'].shift(-1)\n",
    "dta['const'] = 1\n",
    "\n",
    "dta_clean = dta.dropna()\n",
    "\n",
    "\n",
    "endog_df = dta_clean[['r_forw1', 'c_forw1', 'c']]\n",
    "exog_df = endog_df\n",
    "instrument_df = dta_clean[['r_lag1', 'r_lag2', 'c_growth', 'c_growth_lag1',\n",
    "                           'const']]\n",
    "\n",
    "endog, exog, instrument  = map(np.asarray, [endog_df, exog_df, instrument_df])"
   ]
  },
  {
   "cell_type": "markdown",
   "metadata": {
    "deletable": true,
    "editable": true
   },
   "source": [
    "## The moment equations and GMM - version 1"
   ]
  },
  {
   "cell_type": "markdown",
   "metadata": {
    "deletable": true,
    "editable": true
   },
   "source": [
    "Currently statsmodels has two ways of specifying moment conditions. \n",
    "The first uses general non-linear functions for the (unconditional) moment condition:\n",
    "    \n",
    "$\\hspace{10pt} E[m(params)] = 0$\n",
    "\n",
    "The second version uses an instrumental variables approach with additive error structure\n",
    "    \n",
    "\\begin{equation*} \\hspace{10pt} E[z \\hspace{3pt} (y - f(x, params)] = 0 \\end{equation*}\n",
    "\n",
    "where z are the instruments and $u = (y - f(x, params)$ defines an additive residual, and `x` \n",
    "are explanatory variables that can be endogenous or exogenous.\n",
    "                                  \n",
    "In the following I use the class `NonlinearIVGMM`, which implements the second form of the moment conditions.\n",
    "However, our Euler equation doesn't fit's this only if we use endog or y as a constant.\n",
    "I'm not showing an example how we can use the first generic form, class `GMM`, nor how\n",
    "we could define the moment conditions directly by subclassing."
   ]
  },
  {
   "cell_type": "markdown",
   "metadata": {
    "deletable": true,
    "editable": true
   },
   "source": [
    "**The first version**"
   ]
  },
  {
   "cell_type": "markdown",
   "metadata": {
    "deletable": true,
    "editable": true
   },
   "source": [
    "In the first version, we use `endog = 0` and define `u` to be the the Euler equation without the instrument part."
   ]
  },
  {
   "cell_type": "code",
   "execution_count": 3,
   "metadata": {
    "collapsed": false,
    "deletable": true,
    "editable": true
   },
   "outputs": [],
   "source": [
    "def moment_consumption1(params, exog):\n",
    "    beta, gamma = params\n",
    "    r_forw1, c_forw1, c = exog.T  # unwrap iterable (ndarray)\n",
    "    \n",
    "    # moment condition without instrument    \n",
    "    err = 1 - beta * (1 + r_forw1) * np.power(c_forw1 / c, -gamma)\n",
    "    return -err"
   ]
  },
  {
   "cell_type": "code",
   "execution_count": 4,
   "metadata": {
    "collapsed": false,
    "deletable": true,
    "editable": true
   },
   "outputs": [
    {
     "name": "stdout",
     "output_type": "stream",
     "text": [
      "Optimization terminated successfully.\n",
      "         Current function value: 0.000539\n",
      "         Iterations: 4\n",
      "         Function evaluations: 13\n",
      "         Gradient evaluations: 13\n",
      "Optimization terminated successfully.\n",
      "         Current function value: 0.152764\n",
      "         Iterations: 6\n",
      "         Function evaluations: 11\n",
      "         Gradient evaluations: 11\n"
     ]
    }
   ],
   "source": [
    "endog1 = np.zeros(exog.shape[0])    \n",
    "mod1 = gmm.NonlinearIVGMM(endog1, exog, instrument, moment_consumption1, k_moms=4)\n",
    "w0inv = np.dot(instrument.T, instrument) / len(endog1)\n",
    "res1 = mod1.fit([1,-1], maxiter=2, inv_weights=w0inv) "
   ]
  },
  {
   "cell_type": "code",
   "execution_count": 5,
   "metadata": {
    "collapsed": false,
    "deletable": true,
    "editable": true
   },
   "outputs": [
    {
     "name": "stdout",
     "output_type": "stream",
     "text": [
      "                            NonlinearIVGMM Results                            \n",
      "==============================================================================\n",
      "Dep. Variable:               Euler Eq   Hansen J:                        36.51\n",
      "Model:                 NonlinearIVGMM   Prob (Hansen J):              1.18e-08\n",
      "Method:                           GMM                                         \n",
      "Date:                Mon, 24 Jun 2019                                         \n",
      "Time:                        12:14:24                                         \n",
      "No. Observations:                 239                                         \n",
      "==============================================================================\n",
      "                 coef    std err          z      P>|z|      [0.025      0.975]\n",
      "------------------------------------------------------------------------------\n",
      "discount       0.8977      0.017     52.839      0.000       0.864       0.931\n",
      "CRRA          -6.7989      2.051     -3.316      0.001     -10.818      -2.780\n",
      "==============================================================================\n"
     ]
    }
   ],
   "source": [
    "print(res1.summary(yname='Euler Eq', xname=['discount', 'CRRA']))"
   ]
  },
  {
   "cell_type": "markdown",
   "metadata": {
    "deletable": true,
    "editable": true
   },
   "source": [
    "However, the default GMM standard errors of the estimate are only robust to heteroscedasticity, i.e. variance differs by observation.\n",
    "Since we using time series for our estimation, there is a strong chance that the errors, \n",
    "or better moment conditions, are correlated over time. In this case, we can use a HAC robust standard error, \n",
    "that is robust to heteroscedasticity as well as autocorrelation.\n",
    "\n",
    "In the GMM version in statsmodels, we define these options through `weights_method='hac', wargs={'maxlag':4}`,\n",
    "which uses the Newey, West standard errors based on 4 lags."
   ]
  },
  {
   "cell_type": "code",
   "execution_count": 6,
   "metadata": {
    "collapsed": false,
    "deletable": true,
    "editable": true
   },
   "outputs": [
    {
     "name": "stdout",
     "output_type": "stream",
     "text": [
      "Optimization terminated successfully.\n",
      "         Current function value: 0.000539\n",
      "         Iterations: 4\n",
      "         Function evaluations: 13\n",
      "         Gradient evaluations: 13\n",
      "Optimization terminated successfully.\n",
      "         Current function value: 0.055484\n",
      "         Iterations: 4\n",
      "         Function evaluations: 9\n",
      "         Gradient evaluations: 9\n",
      "\n",
      "\n",
      "\n",
      "                            NonlinearIVGMM Results                            \n",
      "==============================================================================\n",
      "Dep. Variable:               Euler Eq   Hansen J:                        13.26\n",
      "Model:                 NonlinearIVGMM   Prob (Hansen J):               0.00132\n",
      "Method:                           GMM                                         \n",
      "Date:                Mon, 24 Jun 2019                                         \n",
      "Time:                        12:14:24                                         \n",
      "No. Observations:                 239                                         \n",
      "==============================================================================\n",
      "                 coef    std err          z      P>|z|      [0.025      0.975]\n",
      "------------------------------------------------------------------------------\n",
      "discount       0.9213      0.014     67.264      0.000       0.894       0.948\n",
      "CRRA          -4.1154      1.508     -2.730      0.006      -7.070      -1.160\n",
      "==============================================================================\n"
     ]
    }
   ],
   "source": [
    "# We don't need Nelder-Mead in this case, we can use bfgs default directly\n",
    "#res1_ = mod1.fit([1,-1], maxiter=0, inv_weights=w0inv, opt_method='nm')\n",
    "\n",
    "res1_hac4_2s = mod1.fit([1, -1], maxiter=2, inv_weights=w0inv, weights_method='hac', wargs={'maxlag':4})\n",
    "print('\\n\\n')\n",
    "print(res1_hac4_2s.summary(yname='Euler Eq', xname=['discount', 'CRRA']))"
   ]
  },
  {
   "cell_type": "markdown",
   "metadata": {
    "deletable": true,
    "editable": true
   },
   "source": [
    "## The moment equations and GMM - version 2"
   ]
  },
  {
   "cell_type": "markdown",
   "metadata": {
    "deletable": true,
    "editable": true
   },
   "source": [
    "In version 2 of the moment equations, we use that the non-instrument part of the Euler Equation has the form `1 - f(x, params)`.\n",
    "Our `moment_consumption2` defines only the `f(x, params)' part and we use a vector of ones for endog."
   ]
  },
  {
   "cell_type": "code",
   "execution_count": 7,
   "metadata": {
    "collapsed": false,
    "deletable": true,
    "editable": true
   },
   "outputs": [],
   "source": [
    "def moment_consumption2(params, exog):\n",
    "    beta, gamma = params\n",
    "    #endog, exog = args\n",
    "    r_forw1, c_forw1, c = exog.T  # unwrap iterable (ndarray)\n",
    "    \n",
    "    # 2nd part of moment condition without instrument    \n",
    "    predicted = beta * (1. + r_forw1) * np.power(c_forw1 / c, -gamma)\n",
    "    return predicted"
   ]
  },
  {
   "cell_type": "code",
   "execution_count": 8,
   "metadata": {
    "collapsed": false,
    "deletable": true,
    "editable": true
   },
   "outputs": [
    {
     "name": "stdout",
     "output_type": "stream",
     "text": [
      "Optimization terminated successfully.\n",
      "         Current function value: 0.000539\n",
      "         Iterations: 4\n",
      "         Function evaluations: 13\n",
      "         Gradient evaluations: 13\n",
      "Optimization terminated successfully.\n",
      "         Current function value: 0.055484\n",
      "         Iterations: 4\n",
      "         Function evaluations: 9\n",
      "         Gradient evaluations: 9\n"
     ]
    }
   ],
   "source": [
    "endog2 = np.ones(exog.shape[0])    \n",
    "mod2 = gmm.NonlinearIVGMM(endog2, exog, instrument, moment_consumption2, k_moms=4)\n",
    "w0inv = np.dot(instrument.T, instrument) / len(endog2)  \n",
    "res2_hac4_2s = mod2.fit([1,-1], maxiter=2, inv_weights=w0inv, weights_method='hac', wargs={'maxlag':4})"
   ]
  },
  {
   "cell_type": "code",
   "execution_count": 9,
   "metadata": {
    "collapsed": false,
    "deletable": true,
    "editable": true
   },
   "outputs": [
    {
     "name": "stdout",
     "output_type": "stream",
     "text": [
      "                            NonlinearIVGMM Results                            \n",
      "==============================================================================\n",
      "Dep. Variable:               Euler Eq   Hansen J:                        13.26\n",
      "Model:                 NonlinearIVGMM   Prob (Hansen J):               0.00132\n",
      "Method:                           GMM                                         \n",
      "Date:                Mon, 24 Jun 2019                                         \n",
      "Time:                        12:14:24                                         \n",
      "No. Observations:                 239                                         \n",
      "==============================================================================\n",
      "                 coef    std err          z      P>|z|      [0.025      0.975]\n",
      "------------------------------------------------------------------------------\n",
      "discount       0.9213      0.014     67.264      0.000       0.894       0.948\n",
      "CRRA          -4.1154      1.508     -2.730      0.006      -7.070      -1.160\n",
      "==============================================================================\n"
     ]
    }
   ],
   "source": [
    "print(res2_hac4_2s.summary(yname='Euler Eq', xname=['discount', 'CRRA']))"
   ]
  },
  {
   "cell_type": "markdown",
   "metadata": {
    "deletable": true,
    "editable": true
   },
   "source": [
    "## Compare"
   ]
  },
  {
   "cell_type": "markdown",
   "metadata": {
    "deletable": true,
    "editable": true
   },
   "source": [
    "We should get the same estimates in both versions for speciying the moment conditions."
   ]
  },
  {
   "cell_type": "code",
   "execution_count": 10,
   "metadata": {
    "collapsed": false,
    "deletable": true,
    "editable": true
   },
   "outputs": [
    {
     "data": {
      "text/plain": [
       "array([ 0.92128497, -4.11536227])"
      ]
     },
     "execution_count": 10,
     "metadata": {},
     "output_type": "execute_result"
    }
   ],
   "source": [
    "res1_hac4_2s.params"
   ]
  },
  {
   "cell_type": "code",
   "execution_count": 11,
   "metadata": {
    "collapsed": false,
    "deletable": true,
    "editable": true
   },
   "outputs": [
    {
     "data": {
      "text/plain": [
       "array([ 0.92128497, -4.11536227])"
      ]
     },
     "execution_count": 11,
     "metadata": {},
     "output_type": "execute_result"
    }
   ],
   "source": [
    "res2_hac4_2s.params"
   ]
  },
  {
   "cell_type": "markdown",
   "metadata": {
    "deletable": true,
    "editable": true
   },
   "source": [
    "And the two are the same (up to differences numerical precision of the algorithms) :"
   ]
  },
  {
   "cell_type": "code",
   "execution_count": 12,
   "metadata": {
    "collapsed": false,
    "deletable": true,
    "editable": true
   },
   "outputs": [
    {
     "data": {
      "text/plain": [
       "(array([ 0.,  0.]), 0.0)"
      ]
     },
     "execution_count": 12,
     "metadata": {},
     "output_type": "execute_result"
    }
   ],
   "source": [
    "res1_hac4_2s.params - res2_hac4_2s.params, np.max(np.abs(res1_hac4_2s.params - res2_hac4_2s.params))"
   ]
  },
  {
   "cell_type": "markdown",
   "metadata": {
    "deletable": true,
    "editable": true
   },
   "source": [
    "Stata manual has params `[0.9205, -4.2224]` and standard errors equal to `[0.0135, 1.4739]`. Stata doesn't center the moments by default. We can get something closer to the results of Stata by using `centered = False` as a weights argument:"
   ]
  },
  {
   "cell_type": "code",
   "execution_count": 13,
   "metadata": {
    "collapsed": false,
    "deletable": true,
    "editable": true
   },
   "outputs": [
    {
     "name": "stdout",
     "output_type": "stream",
     "text": [
      "[ 0.9204602  -4.22268245]\n",
      "[ 0.01345568  1.47338949]\n"
     ]
    }
   ],
   "source": [
    "res_ = mod2.fit([1,-1], maxiter=2, inv_weights=w0inv, weights_method='hac', \n",
    "                wargs={'maxlag':4, 'centered':False}, optim_args={'disp':0})\n",
    "print (res_.params)\n",
    "print (res_.bse)"
   ]
  },
  {
   "cell_type": "markdown",
   "metadata": {
    "deletable": true,
    "editable": true
   },
   "source": [
    "## Extra: Iterated GMM"
   ]
  },
  {
   "cell_type": "markdown",
   "metadata": {
    "deletable": true,
    "editable": true
   },
   "source": [
    "As comparison we can also iterate the GMM estimation until convergence.\n",
    "\n",
    "The results look strange, especially with HAC robust weighting matrix. \n",
    "In both cases the estimate for the discount factor is large and close to one, however \n",
    "the preference parameter for relative risk aversion is 0.08 and -6.03 respectively.\n",
    "\n",
    "This needs verification or an explanation. \n",
    "I have a test case for iterated GMM with heteroscedasticity robust standard errors \n",
    "where statsmodels and Stata agree at several decimals, so there might be something\n",
    "problematic with this dataset."
   ]
  },
  {
   "cell_type": "markdown",
   "metadata": {
    "deletable": true,
    "editable": true
   },
   "source": [
    "**with HAC standard errors**"
   ]
  },
  {
   "cell_type": "code",
   "execution_count": 14,
   "metadata": {
    "collapsed": true,
    "deletable": true,
    "editable": true
   },
   "outputs": [],
   "source": [
    "res2_hac_i = mod2.fit([1,-1], maxiter=100, inv_weights=w0inv, \n",
    "                      weights_method='hac', wargs={'maxlag':4}, \n",
    "                      optim_args={'disp':0})"
   ]
  },
  {
   "cell_type": "code",
   "execution_count": 15,
   "metadata": {
    "collapsed": false,
    "deletable": true,
    "editable": true
   },
   "outputs": [
    {
     "data": {
      "text/plain": [
       "array([ 0.95862044,  0.07853092])"
      ]
     },
     "execution_count": 15,
     "metadata": {},
     "output_type": "execute_result"
    }
   ],
   "source": [
    "#print(res2_hac4_i.summary(yname='Euler Eq', xname=['discount', 'CRRA']))\n",
    "res2_hac_i.params"
   ]
  },
  {
   "cell_type": "markdown",
   "metadata": {
    "deletable": true,
    "editable": true
   },
   "source": [
    "**with HC standard errors**"
   ]
  },
  {
   "cell_type": "code",
   "execution_count": 16,
   "metadata": {
    "collapsed": false,
    "deletable": true,
    "editable": true
   },
   "outputs": [],
   "source": [
    "res2_i = mod2.fit([1,-1], maxiter=100, inv_weights=w0inv, optim_args={'disp':0})"
   ]
  },
  {
   "cell_type": "code",
   "execution_count": 17,
   "metadata": {
    "collapsed": false,
    "deletable": true,
    "editable": true
   },
   "outputs": [
    {
     "name": "stdout",
     "output_type": "stream",
     "text": [
      "[ 0.90336824 -6.02649691]\n"
     ]
    }
   ],
   "source": [
    "#print(res2_i.summary(yname='Euler Eq', xname=['discount', 'CRRA']))\n",
    "print (res2_i.params)"
   ]
  },
  {
   "cell_type": "markdown",
   "metadata": {
    "deletable": true,
    "editable": true
   },
   "source": [
    "## Extra: Problems with Optimization"
   ]
  },
  {
   "cell_type": "markdown",
   "metadata": {
    "deletable": true,
    "editable": true
   },
   "source": [
    "When I ran several different cases for this example, I sometimes got convergence to different results. \n",
    "Although the objective function is quadratic in the moments, the momend conditions themselves can have \n",
    "more complicated non-linearities, that could be the cause for local minima.\n",
    "\n",
    "In the above examples I used the function for the moment conditions as an argument to the class.\n",
    "As alternative it is also possible to directly subclass a GMM class. This has the advantage\n",
    "that we can override specific methods. For example, currently it is not possible to give a\n",
    "analytical derivative for the moment conditions, but it can be added by subclassing and \n",
    "replacing the generic forward difference method `gradient_momcond`.\n"
   ]
  }
 ],
 "metadata": {
  "kernelspec": {
   "display_name": "Python 3",
   "language": "python",
   "name": "python3"
  },
  "language_info": {
   "codemirror_mode": {
    "name": "ipython",
    "version": 3
   },
   "file_extension": ".py",
   "mimetype": "text/x-python",
   "name": "python",
   "nbconvert_exporter": "python",
   "pygments_lexer": "ipython3",
   "version": "3.5.2"
  },
  "toc": {
   "colors": {
    "hover_highlight": "#DAA520",
    "navigate_num": "#000000",
    "navigate_text": "#333333",
    "running_highlight": "#FF0000",
    "selected_highlight": "#FFD700",
    "sidebar_border": "#EEEEEE",
    "wrapper_background": "#FFFFFF"
   },
   "moveMenuLeft": true,
   "nav_menu": {
    "height": "153px",
    "width": "252px"
   },
   "navigate_menu": true,
   "number_sections": true,
   "sideBar": true,
   "threshold": 4,
   "toc_cell": true,
   "toc_section_display": "block",
   "toc_window_display": true,
   "widenNotebook": false
  }
 },
 "nbformat": 4,
 "nbformat_minor": 0
}
