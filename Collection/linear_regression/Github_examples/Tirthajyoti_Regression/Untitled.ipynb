{
 "cells": [
  {
   "cell_type": "markdown",
   "metadata": {
    "toc": true
   },
   "source": [
    "<h1>Table of Contents<span class=\"tocSkip\"></span></h1>\n",
    "<div class=\"toc\"><ul class=\"toc-item\"></ul></div>"
   ]
  },
  {
   "cell_type": "code",
   "execution_count": 1,
   "metadata": {
    "ExecuteTime": {
     "end_time": "2019-07-06T17:00:53.341345Z",
     "start_time": "2019-07-06T17:00:53.003864Z"
    }
   },
   "outputs": [],
   "source": [
    "import numpy as np\n",
    "import pandas as pd\n",
    "\n",
    "pd.options.display.max_columns = 500\n",
    "pd.options.display.max_rows = 500"
   ]
  },
  {
   "cell_type": "code",
   "execution_count": 3,
   "metadata": {
    "ExecuteTime": {
     "end_time": "2019-07-06T17:02:08.516190Z",
     "start_time": "2019-07-06T17:02:08.496937Z"
    }
   },
   "outputs": [
    {
     "data": {
      "text/html": [
       "<div>\n",
       "<style scoped>\n",
       "    .dataframe tbody tr th:only-of-type {\n",
       "        vertical-align: middle;\n",
       "    }\n",
       "\n",
       "    .dataframe tbody tr th {\n",
       "        vertical-align: top;\n",
       "    }\n",
       "\n",
       "    .dataframe thead th {\n",
       "        text-align: right;\n",
       "    }\n",
       "</style>\n",
       "<table border=\"1\" class=\"dataframe\">\n",
       "  <thead>\n",
       "    <tr style=\"text-align: right;\">\n",
       "      <th></th>\n",
       "      <th>a</th>\n",
       "      <th>b</th>\n",
       "      <th>c</th>\n",
       "      <th>d</th>\n",
       "    </tr>\n",
       "  </thead>\n",
       "  <tbody>\n",
       "    <tr>\n",
       "      <th>0</th>\n",
       "      <td>1</td>\n",
       "      <td>1</td>\n",
       "      <td>1</td>\n",
       "      <td>1</td>\n",
       "    </tr>\n",
       "    <tr>\n",
       "      <th>1</th>\n",
       "      <td>2</td>\n",
       "      <td>3</td>\n",
       "      <td>4</td>\n",
       "      <td>5</td>\n",
       "    </tr>\n",
       "    <tr>\n",
       "      <th>2</th>\n",
       "      <td>3</td>\n",
       "      <td>5</td>\n",
       "      <td>7</td>\n",
       "      <td>9</td>\n",
       "    </tr>\n",
       "    <tr>\n",
       "      <th>3</th>\n",
       "      <td>4</td>\n",
       "      <td>7</td>\n",
       "      <td>10</td>\n",
       "      <td>11</td>\n",
       "    </tr>\n",
       "  </tbody>\n",
       "</table>\n",
       "</div>"
      ],
      "text/plain": [
       "   a  b   c   d\n",
       "0  1  1   1   1\n",
       "1  2  3   4   5\n",
       "2  3  5   7   9\n",
       "3  4  7  10  11"
      ]
     },
     "execution_count": 3,
     "metadata": {},
     "output_type": "execute_result"
    }
   ],
   "source": [
    "df = pd.DataFrame({'a':[1,2,3,4],'b':[1,3,5,7],'c':[1,4,7,10],'d':[1,5,9,11]})\n",
    "df"
   ]
  },
  {
   "cell_type": "code",
   "execution_count": 4,
   "metadata": {
    "ExecuteTime": {
     "end_time": "2019-07-06T17:03:19.946221Z",
     "start_time": "2019-07-06T17:03:19.943209Z"
    }
   },
   "outputs": [],
   "source": [
    "def highlight_max(s):\n",
    "    '''\n",
    "    highlight the maximum in a Series yellow.\n",
    "    '''\n",
    "    is_max = s == s.max()\n",
    "    return ['background-color: yellow' if v else '' for v in is_max]"
   ]
  },
  {
   "cell_type": "code",
   "execution_count": 5,
   "metadata": {
    "ExecuteTime": {
     "end_time": "2019-07-06T17:03:28.412752Z",
     "start_time": "2019-07-06T17:03:28.033772Z"
    }
   },
   "outputs": [
    {
     "data": {
      "text/html": [
       "<style  type=\"text/css\" >\n",
       "    #T_f999f824_a00f_11e9_894c_acde48001122row3_col0 {\n",
       "            background-color:  yellow;\n",
       "        }    #T_f999f824_a00f_11e9_894c_acde48001122row3_col1 {\n",
       "            background-color:  yellow;\n",
       "        }    #T_f999f824_a00f_11e9_894c_acde48001122row3_col2 {\n",
       "            background-color:  yellow;\n",
       "        }    #T_f999f824_a00f_11e9_894c_acde48001122row3_col3 {\n",
       "            background-color:  yellow;\n",
       "        }</style><table id=\"T_f999f824_a00f_11e9_894c_acde48001122\" ><thead>    <tr>        <th class=\"blank level0\" ></th>        <th class=\"col_heading level0 col0\" >a</th>        <th class=\"col_heading level0 col1\" >b</th>        <th class=\"col_heading level0 col2\" >c</th>        <th class=\"col_heading level0 col3\" >d</th>    </tr></thead><tbody>\n",
       "                <tr>\n",
       "                        <th id=\"T_f999f824_a00f_11e9_894c_acde48001122level0_row0\" class=\"row_heading level0 row0\" >0</th>\n",
       "                        <td id=\"T_f999f824_a00f_11e9_894c_acde48001122row0_col0\" class=\"data row0 col0\" >1</td>\n",
       "                        <td id=\"T_f999f824_a00f_11e9_894c_acde48001122row0_col1\" class=\"data row0 col1\" >1</td>\n",
       "                        <td id=\"T_f999f824_a00f_11e9_894c_acde48001122row0_col2\" class=\"data row0 col2\" >1</td>\n",
       "                        <td id=\"T_f999f824_a00f_11e9_894c_acde48001122row0_col3\" class=\"data row0 col3\" >1</td>\n",
       "            </tr>\n",
       "            <tr>\n",
       "                        <th id=\"T_f999f824_a00f_11e9_894c_acde48001122level0_row1\" class=\"row_heading level0 row1\" >1</th>\n",
       "                        <td id=\"T_f999f824_a00f_11e9_894c_acde48001122row1_col0\" class=\"data row1 col0\" >2</td>\n",
       "                        <td id=\"T_f999f824_a00f_11e9_894c_acde48001122row1_col1\" class=\"data row1 col1\" >3</td>\n",
       "                        <td id=\"T_f999f824_a00f_11e9_894c_acde48001122row1_col2\" class=\"data row1 col2\" >4</td>\n",
       "                        <td id=\"T_f999f824_a00f_11e9_894c_acde48001122row1_col3\" class=\"data row1 col3\" >5</td>\n",
       "            </tr>\n",
       "            <tr>\n",
       "                        <th id=\"T_f999f824_a00f_11e9_894c_acde48001122level0_row2\" class=\"row_heading level0 row2\" >2</th>\n",
       "                        <td id=\"T_f999f824_a00f_11e9_894c_acde48001122row2_col0\" class=\"data row2 col0\" >3</td>\n",
       "                        <td id=\"T_f999f824_a00f_11e9_894c_acde48001122row2_col1\" class=\"data row2 col1\" >5</td>\n",
       "                        <td id=\"T_f999f824_a00f_11e9_894c_acde48001122row2_col2\" class=\"data row2 col2\" >7</td>\n",
       "                        <td id=\"T_f999f824_a00f_11e9_894c_acde48001122row2_col3\" class=\"data row2 col3\" >9</td>\n",
       "            </tr>\n",
       "            <tr>\n",
       "                        <th id=\"T_f999f824_a00f_11e9_894c_acde48001122level0_row3\" class=\"row_heading level0 row3\" >3</th>\n",
       "                        <td id=\"T_f999f824_a00f_11e9_894c_acde48001122row3_col0\" class=\"data row3 col0\" >4</td>\n",
       "                        <td id=\"T_f999f824_a00f_11e9_894c_acde48001122row3_col1\" class=\"data row3 col1\" >7</td>\n",
       "                        <td id=\"T_f999f824_a00f_11e9_894c_acde48001122row3_col2\" class=\"data row3 col2\" >10</td>\n",
       "                        <td id=\"T_f999f824_a00f_11e9_894c_acde48001122row3_col3\" class=\"data row3 col3\" >11</td>\n",
       "            </tr>\n",
       "    </tbody></table>"
      ],
      "text/plain": [
       "<pandas.io.formats.style.Styler at 0x10914aba8>"
      ]
     },
     "execution_count": 5,
     "metadata": {},
     "output_type": "execute_result"
    }
   ],
   "source": [
    "df.style.apply(highlight_max)"
   ]
  },
  {
   "cell_type": "code",
   "execution_count": null,
   "metadata": {},
   "outputs": [],
   "source": []
  }
 ],
 "metadata": {
  "kernelspec": {
   "display_name": "Python (dataSc)",
   "language": "python",
   "name": "datasc"
  },
  "language_info": {
   "codemirror_mode": {
    "name": "ipython",
    "version": 3
   },
   "file_extension": ".py",
   "mimetype": "text/x-python",
   "name": "python",
   "nbconvert_exporter": "python",
   "pygments_lexer": "ipython3",
   "version": "3.7.0"
  },
  "toc": {
   "base_numbering": 1,
   "nav_menu": {},
   "number_sections": true,
   "sideBar": true,
   "skip_h1_title": false,
   "title_cell": "Table of Contents",
   "title_sidebar": "Contents",
   "toc_cell": true,
   "toc_position": {},
   "toc_section_display": true,
   "toc_window_display": true
  }
 },
 "nbformat": 4,
 "nbformat_minor": 2
}
