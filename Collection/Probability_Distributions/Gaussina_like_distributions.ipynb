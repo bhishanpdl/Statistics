{
 "cells": [
  {
   "cell_type": "markdown",
   "metadata": {
    "deletable": true,
    "editable": true,
    "toc": "true"
   },
   "source": [
    "# Table of Contents\n",
    " <p><div class=\"lev1 toc-item\"><a href=\"#Gaussian-and-Gaussian-Like\" data-toc-modified-id=\"Gaussian-and-Gaussian-Like-1\"><span class=\"toc-item-num\">1&nbsp;&nbsp;</span>Gaussian and Gaussian-Like</a></div><div class=\"lev1 toc-item\"><a href=\"#Get-large-sample-to-get-gaussian-looking-histogram\" data-toc-modified-id=\"Get-large-sample-to-get-gaussian-looking-histogram-2\"><span class=\"toc-item-num\">2&nbsp;&nbsp;</span>Get large sample to get gaussian looking histogram</a></div><div class=\"lev1 toc-item\"><a href=\"#Data-Resolution\" data-toc-modified-id=\"Data-Resolution-3\"><span class=\"toc-item-num\">3&nbsp;&nbsp;</span>Data Resolution</a></div><div class=\"lev1 toc-item\"><a href=\"#Extreme-Values\" data-toc-modified-id=\"Extreme-Values-4\"><span class=\"toc-item-num\">4&nbsp;&nbsp;</span>Extreme Values</a></div><div class=\"lev1 toc-item\"><a href=\"#Long-Tails\" data-toc-modified-id=\"Long-Tails-5\"><span class=\"toc-item-num\">5&nbsp;&nbsp;</span>Long Tails</a></div><div class=\"lev1 toc-item\"><a href=\"#Power-Transforms\" data-toc-modified-id=\"Power-Transforms-6\"><span class=\"toc-item-num\">6&nbsp;&nbsp;</span>Power Transforms</a></div><div class=\"lev1 toc-item\"><a href=\"#Use-Anyway\" data-toc-modified-id=\"Use-Anyway-7\"><span class=\"toc-item-num\">7&nbsp;&nbsp;</span>Use Anyway</a></div><div class=\"lev1 toc-item\"><a href=\"#Extensions\" data-toc-modified-id=\"Extensions-8\"><span class=\"toc-item-num\">8&nbsp;&nbsp;</span>Extensions</a></div><div class=\"lev1 toc-item\"><a href=\"#Summary\" data-toc-modified-id=\"Summary-9\"><span class=\"toc-item-num\">9&nbsp;&nbsp;</span>Summary</a></div>"
   ]
  },
  {
   "cell_type": "code",
   "execution_count": 1,
   "metadata": {
    "collapsed": false,
    "deletable": true,
    "editable": true
   },
   "outputs": [
    {
     "data": {
      "application/json": {
       "Software versions": [
        {
         "module": "Python",
         "version": "3.5.2 64bit [GCC 4.2.1 Compatible Apple LLVM 6.0 (clang-600.0.57)]"
        },
        {
         "module": "IPython",
         "version": "7.4.0"
        },
        {
         "module": "OS",
         "version": "Darwin 14.5.0 x86_64 i386 64bit"
        },
        {
         "module": "numpy",
         "version": "1.11.0"
        },
        {
         "module": "scipy",
         "version": "0.19.0"
        },
        {
         "module": "pandas",
         "version": "0.20.0"
        },
        {
         "module": "sklearn",
         "version": "0.18.1"
        },
        {
         "module": "matplotlib",
         "version": "2.0.0"
        },
        {
         "module": "seaborn",
         "version": "0.7.1"
        }
       ]
      },
      "text/html": [
       "<table><tr><th>Software</th><th>Version</th></tr><tr><td>Python</td><td>3.5.2 64bit [GCC 4.2.1 Compatible Apple LLVM 6.0 (clang-600.0.57)]</td></tr><tr><td>IPython</td><td>7.4.0</td></tr><tr><td>OS</td><td>Darwin 14.5.0 x86_64 i386 64bit</td></tr><tr><td>numpy</td><td>1.11.0</td></tr><tr><td>scipy</td><td>0.19.0</td></tr><tr><td>pandas</td><td>0.20.0</td></tr><tr><td>sklearn</td><td>0.18.1</td></tr><tr><td>matplotlib</td><td>2.0.0</td></tr><tr><td>seaborn</td><td>0.7.1</td></tr><tr><td colspan='2'>Thu Jun 27 13:43:49 2019 EDT</td></tr></table>"
      ],
      "text/latex": [
       "\\begin{tabular}{|l|l|}\\hline\n",
       "{\\bf Software} & {\\bf Version} \\\\ \\hline\\hline\n",
       "Python & 3.5.2 64bit [GCC 4.2.1 Compatible Apple LLVM 6.0 (clang-600.0.57)] \\\\ \\hline\n",
       "IPython & 7.4.0 \\\\ \\hline\n",
       "OS & Darwin 14.5.0 x86\\_64 i386 64bit \\\\ \\hline\n",
       "numpy & 1.11.0 \\\\ \\hline\n",
       "scipy & 0.19.0 \\\\ \\hline\n",
       "pandas & 0.20.0 \\\\ \\hline\n",
       "sklearn & 0.18.1 \\\\ \\hline\n",
       "matplotlib & 2.0.0 \\\\ \\hline\n",
       "seaborn & 0.7.1 \\\\ \\hline\n",
       "\\hline \\multicolumn{2}{|l|}{Thu Jun 27 13:43:49 2019 EDT} \\\\ \\hline\n",
       "\\end{tabular}\n"
      ],
      "text/plain": [
       "Software versions\n",
       "Python 3.5.2 64bit [GCC 4.2.1 Compatible Apple LLVM 6.0 (clang-600.0.57)]\n",
       "IPython 7.4.0\n",
       "OS Darwin 14.5.0 x86_64 i386 64bit\n",
       "numpy 1.11.0\n",
       "scipy 0.19.0\n",
       "pandas 0.20.0\n",
       "sklearn 0.18.1\n",
       "matplotlib 2.0.0\n",
       "seaborn 0.7.1\n",
       "Thu Jun 27 13:43:49 2019 EDT"
      ]
     },
     "execution_count": 1,
     "metadata": {},
     "output_type": "execute_result"
    }
   ],
   "source": [
    "import numpy as np\n",
    "import pandas as pd\n",
    "import seaborn as sns\n",
    "sns.set()\n",
    "\n",
    "import matplotlib.pyplot as plt\n",
    "plt.rcParams[\"figure.figsize\"] = [10, 8]\n",
    "plt.style.use('fivethirtyeight')\n",
    "%matplotlib inline\n",
    "%config InlineBackend.figure_format = 'retina'\n",
    "\n",
    "import scipy\n",
    "import scipy.stats as stats\n",
    "\n",
    "%load_ext version_information\n",
    "%version_information numpy,  scipy, pandas, sklearn, matplotlib, seaborn"
   ]
  },
  {
   "cell_type": "markdown",
   "metadata": {
    "deletable": true,
    "editable": true
   },
   "source": [
    "https://machinelearningmastery.com/how-to-transform-data-to-fit-the-normal-distribution/"
   ]
  },
  {
   "cell_type": "markdown",
   "metadata": {
    "deletable": true,
    "editable": true
   },
   "source": [
    "# Gaussian and Gaussian-Like\n",
    "There may be occasions when you are working with a non-Gaussian distribution, but wish to use parametric statistical methods instead of nonparametric methods.\n",
    "\n",
    "For example, you may have a data sample that has the familiar bell-shape, meaning that it looks Gaussian, but it fails one or more statistical normality tests. This suggests that the data may be Gaussian-like. You would prefer to use parametric statistics in this situation given that better statistical power and because the data is clearly Gaussian, or could be, after the right data transform.\n",
    "\n",
    "There are many reasons why the dataset may not be technically Gaussian. In this post, we will look at some simple techniques that you may be able to use to transform a data sample with a Gaussian-like distribution into a Gaussian distribution.\n",
    "\n",
    "There is no silver bullet for this process; some experimentation and judgment may be required."
   ]
  },
  {
   "cell_type": "markdown",
   "metadata": {
    "deletable": true,
    "editable": true
   },
   "source": [
    "# Get large sample to get gaussian looking histogram\n",
    "One common reason that a data sample is non-Gaussian is because the size of the data sample is too small.\n",
    "\n",
    "Many statistical methods were developed where data was scarce. Hence, the minimum. number of samples for many methods may be as low as 20 or 30 observations.\n",
    "\n",
    "Nevertheless, given the noise in your data, you may not see the familiar bell-shape or fail normality tests with a modest number of samples, such as 50 or 100. If this is the case, perhaps you can collect more data. Thanks to the law of large numbers, the more data that you collect, the more likely your data will be able to used to describe the underlying population distribution.\n",
    "\n",
    "To make this concrete, below is an example of a plot of a small sample of 50 observations drawn from a Gaussian distribution with a mean of 100 and a standard deviation of 50."
   ]
  },
  {
   "cell_type": "code",
   "execution_count": 5,
   "metadata": {
    "collapsed": false,
    "deletable": true,
    "editable": true
   },
   "outputs": [
    {
     "name": "stdout",
     "output_type": "stream",
     "text": [
      "98.7242575996 48.4794641479\n"
     ]
    },
    {
     "data": {
      "text/plain": [
       "(array([  2.,   0.,   4.,  12.,   9.,   7.,   5.,   5.,   3.,   3.]),\n",
       " array([ -15.07693484,    6.93203432,   28.94100349,   50.94997266,\n",
       "          72.95894182,   94.96791099,  116.97688016,  138.98584932,\n",
       "         160.99481849,  183.00378766,  205.01275682]),\n",
       " <a list of 10 Patch objects>)"
      ]
     },
     "execution_count": 5,
     "metadata": {},
     "output_type": "execute_result"
    },
    {
     "data": {
      "image/png": "[encoded data removed]",
      "text/plain": [
       "<matplotlib.figure.Figure at 0x115d035c0>"
      ]
     },
     "metadata": {
      "image/png": {
       "height": 248,
       "width": 408
      }
     },
     "output_type": "display_data"
    }
   ],
   "source": [
    "# seed the random number generator\n",
    "np.random.seed(1)\n",
    "\n",
    "# generate a univariate data sample mu=100, sigma (std) = 50\n",
    "data = 50 * np.random.randn(50) + 100\n",
    "\n",
    "print(data.mean(), data.std())\n",
    "\n",
    "# histogram\n",
    "plt.hist(data)"
   ]
  },
  {
   "cell_type": "markdown",
   "metadata": {
    "deletable": true,
    "editable": true
   },
   "source": [
    "Running the example creates a histogram plot of the data showing no clear Gaussian distribution, not even Gaussian-like.\n",
    "\n",
    "Increasing the size of the sample from 50 to 100 can help to better expose the Gaussian shape of the data distribution."
   ]
  },
  {
   "cell_type": "code",
   "execution_count": 6,
   "metadata": {
    "collapsed": false,
    "deletable": true,
    "editable": true
   },
   "outputs": [
    {
     "name": "stdout",
     "output_type": "stream",
     "text": [
      "102.671844713 49.4204129641\n"
     ]
    },
    {
     "data": {
      "text/plain": [
       "(array([   7.,   18.,   39.,   83.,  118.,  106.,   81.,   29.,   16.,    3.]),\n",
       " array([ -39.65425001,  -10.53453944,   18.58517112,   47.70488168,\n",
       "          76.82459224,  105.94430281,  135.06401337,  164.18372393,\n",
       "         193.30343449,  222.42314506,  251.54285562]),\n",
       " <a list of 10 Patch objects>)"
      ]
     },
     "execution_count": 6,
     "metadata": {},
     "output_type": "execute_result"
    },
    {
     "data": {
      "image/png": "[encoded data removed]",
      "text/plain": [
       "<matplotlib.figure.Figure at 0x1160b51d0>"
      ]
     },
     "metadata": {
      "image/png": {
       "height": 248,
       "width": 413
      }
     },
     "output_type": "display_data"
    }
   ],
   "source": [
    "# seed the random number generator\n",
    "np.random.seed(1)\n",
    "\n",
    "# generate a univariate data sample mu=100, sigma (std) = 50\n",
    "data = 50 * np.random.randn(500) + 100\n",
    "\n",
    "print(data.mean(), data.std())\n",
    "\n",
    "# histogram\n",
    "plt.hist(data)"
   ]
  },
  {
   "cell_type": "markdown",
   "metadata": {
    "deletable": true,
    "editable": true
   },
   "source": [
    "# Data Resolution\n",
    "Perhaps you expect a Gaussian distribution from the data, but no matter the size of the sample that you collect, it does not materialize.\n",
    "\n",
    "A common reason for this is the resolution that you are using to collect the observations. The distribution of the data may be obscured by the chosen resolution of the data or the fidelity of the observations. There may be many reasons why the resolution of the data is being modified prior to modeling, such as:\n",
    "\n",
    "The configuration of the mechanism making the observation.\n",
    "The data is passing through a quality-control process.\n",
    "The resolution of the database used to store the data.\n",
    "To make this concrete, we can make a sample of 100 random Gaussian numbers with a mean of 0 and a standard deviation of 1 and remove all of the decimal places."
   ]
  },
  {
   "cell_type": "code",
   "execution_count": 7,
   "metadata": {
    "collapsed": false,
    "deletable": true,
    "editable": true
   },
   "outputs": [
    {
     "data": {
      "image/png": "[encoded data removed]",
      "text/plain": [
       "<matplotlib.figure.Figure at 0x1164c7080>"
      ]
     },
     "metadata": {
      "image/png": {
       "height": 248,
       "width": 408
      }
     },
     "output_type": "display_data"
    }
   ],
   "source": [
    "# seed the random number generator\n",
    "np.random.seed(1)\n",
    "\n",
    "# generate a univariate data sample\n",
    "data = np.random.randn(100)\n",
    "\n",
    "# remove decimal component\n",
    "data = data.round(0)\n",
    "\n",
    "# histogram\n",
    "plt.hist(data)\n",
    "plt.show()"
   ]
  },
  {
   "cell_type": "markdown",
   "metadata": {
    "deletable": true,
    "editable": true
   },
   "source": [
    "Running the example results in a distribution that appears discrete although Gaussian-like. Adding the resolution back to the observations would result in a fuller distribution of the data."
   ]
  },
  {
   "cell_type": "markdown",
   "metadata": {
    "deletable": true,
    "editable": true
   },
   "source": [
    "# Extreme Values\n",
    "A data sample may have a Gaussian distribution, but may be distorted for a number of reasons.\n",
    "\n",
    "A common reason is the presence of extreme values at the edge of the distribution. Extreme values could be present for a number of reasons, such as:\n",
    "\n",
    "Measurement error.\n",
    "Missing data.\n",
    "Data corruption.\n",
    "Rare events.\n",
    "In such cases, the extreme values could be identified and removed in order to make the distribution more Gaussian. These extreme values are often called outliers.\n",
    "\n",
    "This may require domain expertise or consultation with a domain expert in order to both design the criteria for identifying outliers and then removing them from the data sample and all data samples that you or your model expect to work with in the future.\n",
    "\n",
    "We can demonstrate how easy it is to have extreme values disrupt the distribution of data.\n",
    "\n",
    "The example below creates a data sample with 100 random Gaussian numbers scaled to have a mean of 10 and a standard deviation of 5. An additional 10 zero-valued observations are then added to the distribution. This can happen if missing or corrupt values are assigned the value of zero. This is a common behavior in publicly available machine learning datasets; for example."
   ]
  },
  {
   "cell_type": "code",
   "execution_count": 8,
   "metadata": {
    "collapsed": false,
    "deletable": true,
    "editable": true
   },
   "outputs": [
    {
     "data": {
      "image/png": "[encoded data removed]",
      "text/plain": [
       "<matplotlib.figure.Figure at 0x1164c7cf8>"
      ]
     },
     "metadata": {
      "image/png": {
       "height": 248,
       "width": 416
      }
     },
     "output_type": "display_data"
    }
   ],
   "source": [
    "# seed the random number generator\n",
    "np.random.seed(1)\n",
    "\n",
    "# generate a univariate data sample\n",
    "data = 5 * np.random.randn(100) + 10\n",
    "\n",
    "# add extreme values\n",
    "data = np.append(data, np.zeros(10))\n",
    "\n",
    "# histogram\n",
    "plt.hist(data)\n",
    "plt.show()"
   ]
  },
  {
   "cell_type": "markdown",
   "metadata": {
    "deletable": true,
    "editable": true
   },
   "source": [
    "Running the example creates and plots the data sample. You can clearly see how the unexpected high frequency of zero-valued observations disrupts the distribution."
   ]
  },
  {
   "cell_type": "markdown",
   "metadata": {
    "deletable": true,
    "editable": true
   },
   "source": [
    "# Long Tails\n",
    "Extreme values can manifest in many ways. In addition to an abundance of rare events at the edge of the distribution, you may see a long tail on the distribution in one or both directions.\n",
    "\n",
    "In plots, this can make the distribution look like it is exponential, when in fact it might be Gaussian with an abundance of rare events in one direction.\n",
    "\n",
    "You could use simple threshold values, perhaps based on the number of standard deviations from the mean, to identify and remove long tail values.\n",
    "\n",
    "We can demonstrate this with a contrived example. The data sample contains 100 Gaussian random numbers with a mean of 10 and a standard deviation of 5. An additional 50 uniformly random values in the range 10-to-110 are added. This creates a long tail on the distribution."
   ]
  },
  {
   "cell_type": "code",
   "execution_count": 10,
   "metadata": {
    "collapsed": false,
    "deletable": true,
    "editable": true
   },
   "outputs": [
    {
     "data": {
      "image/png": "[encoded data removed]",
      "text/plain": [
       "<matplotlib.figure.Figure at 0x116d54128>"
      ]
     },
     "metadata": {
      "image/png": {
       "height": 248,
       "width": 408
      }
     },
     "output_type": "display_data"
    }
   ],
   "source": [
    "# seed the random number generator\n",
    "np.random.seed(1)\n",
    "\n",
    "# generate a univariate data sample\n",
    "data = 5 * np.random.randn(100) + 10\n",
    "tail = 10 + (np.random.rand(50) * 100)\n",
    "\n",
    "# add long tail\n",
    "data = np.append(data, tail)\n",
    "\n",
    "# histogram\n",
    "plt.hist(data)\n",
    "plt.show()"
   ]
  },
  {
   "cell_type": "markdown",
   "metadata": {
    "deletable": true,
    "editable": true
   },
   "source": [
    "Running the example you can see how the long tail distorts the Gaussian distribution and makes it look almost exponential or perhaps even bimodal (two bumps).\n",
    "\n",
    "\n",
    "We can use a simple threshold, such as a value of 25, on this dataset as a cutoff and remove all observations higher than this threshold. We did choose this threshold with prior knowledge of how the data sample was contrived, but you can imagine testing different thresholds on your own dataset and evaluating their effect."
   ]
  },
  {
   "cell_type": "code",
   "execution_count": 11,
   "metadata": {
    "collapsed": false,
    "deletable": true,
    "editable": true
   },
   "outputs": [
    {
     "data": {
      "image/png": "[encoded data removed]",
      "text/plain": [
       "<matplotlib.figure.Figure at 0x116f69c50>"
      ]
     },
     "metadata": {
      "image/png": {
       "height": 248,
       "width": 408
      }
     },
     "output_type": "display_data"
    }
   ],
   "source": [
    "# seed the random number generator\n",
    "np.random.seed(1)\n",
    "\n",
    "# generate a univariate data sample\n",
    "data = 5 * np.random.randn(100) + 10\n",
    "tail = 10 + (np.random.rand(10) * 100)\n",
    "\n",
    "# add long tail\n",
    "data = np.append(data, tail)\n",
    "\n",
    "# trim values\n",
    "data = [x for x in data if x < 25]\n",
    "\n",
    "# histogram\n",
    "plt.hist(data)\n",
    "plt.show()"
   ]
  },
  {
   "cell_type": "markdown",
   "metadata": {
    "deletable": true,
    "editable": true
   },
   "source": [
    "# Power Transforms\n",
    "The distribution of the data may be normal, but the data may require a transform in order to help expose it.\n",
    "\n",
    "For example, the data may have a skew, meaning that the bell in the bell shape may be pushed one way or another. In some cases, this can be corrected by transforming the data via calculating the square root of the observations.\n",
    "\n",
    "Alternately, the distribution may be exponential, but may look normal if the observations are transformed by taking the natural logarithm of the values. Data with this distribution is called log-normal.\n",
    "\n",
    "To make this concrete, below is an example of a sample of Gaussian numbers transformed to have an exponential distribution.\n",
    "\n",
    "Running the example creates a histogram showing the exponential distribution. It is not obvious that the data is in fact log-normal."
   ]
  },
  {
   "cell_type": "code",
   "execution_count": 13,
   "metadata": {
    "collapsed": false,
    "deletable": true,
    "editable": true
   },
   "outputs": [
    {
     "data": {
      "image/png": "[encoded data removed]",
      "text/plain": [
       "<matplotlib.figure.Figure at 0x117174550>"
      ]
     },
     "metadata": {
      "image/png": {
       "height": 260,
       "width": 417
      }
     },
     "output_type": "display_data"
    }
   ],
   "source": [
    "# seed the random number generator\n",
    "np.random.seed(1)\n",
    "\n",
    "# generate two sets of univariate observations\n",
    "data = 5 * np.random.randn(100) + 50\n",
    "\n",
    "# transform to be exponential\n",
    "data = np.exp(data) # now log of data follows normal distribution, so data is lognormal.\n",
    "\n",
    "# histogram\n",
    "plt.hist(data)\n",
    "plt.show()"
   ]
  },
  {
   "cell_type": "markdown",
   "metadata": {
    "deletable": true,
    "editable": true
   },
   "source": [
    "Taking the square root and the logarithm of the observation in order to make the distribution normal belongs to a class of transforms called power transforms. The Box-Cox method is a data transform method that is able to perform a range of power transforms, including the log and the square root. The method is named for George Box and David Cox.\n",
    "\n",
    "More than that, it can be configured to evaluate a suite of transforms automatically and select a best fit. It can be thought of as a power tool to iron out power-based change in your data sample. The resulting data sample may be more linear and will better represent the underlying non-power distribution, including Gaussian.\n",
    "\n",
    "The boxcox() SciPy function implements the Box-Cox method. It takes an argument, called lambda, that controls the type of transform to perform.\n",
    "\n",
    "Below are some common values for lambda:\n",
    "\n",
    "- lambda = -1. is a reciprocal transform.\n",
    "- lambda = -0.5 is a reciprocal square root transform.\n",
    "- lambda = 0.0 is a log transform.\n",
    "- lambda = 0.5 is a square root transform.\n",
    "- lambda = 1.0 is no transform.\n",
    "\n",
    "For example, because we know that the data is lognormal, we can use the Box-Cox to perform the log transform by setting lambda explicitly to 0."
   ]
  },
  {
   "cell_type": "code",
   "execution_count": 14,
   "metadata": {
    "collapsed": false,
    "deletable": true,
    "editable": true
   },
   "outputs": [
    {
     "data": {
      "image/png": "[encoded data removed]",
      "text/plain": [
       "<matplotlib.figure.Figure at 0x116a309b0>"
      ]
     },
     "metadata": {
      "image/png": {
       "height": 248,
       "width": 416
      }
     },
     "output_type": "display_data"
    }
   ],
   "source": [
    "# seed the random number generator\n",
    "np.random.seed(1)\n",
    "\n",
    "# generate two sets of univariate observations\n",
    "data = 5 * np.random.randn(100) + 100\n",
    "\n",
    "# transform to be exponential\n",
    "data = np.exp(data)\n",
    "\n",
    "# power transform\n",
    "data = stats.boxcox(data, 0)\n",
    "\n",
    "# histogram\n",
    "plt.hist(data)\n",
    "plt.show()"
   ]
  },
  {
   "cell_type": "markdown",
   "metadata": {
    "deletable": true,
    "editable": true
   },
   "source": [
    "A limitation of the Box-Cox transform is that it assumes that all values in the data sample are positive.\n",
    "\n",
    "An alternative method that does not make this assumption is the Yeo-Johnson transformation."
   ]
  },
  {
   "cell_type": "markdown",
   "metadata": {
    "deletable": true,
    "editable": true
   },
   "source": [
    "# Use Anyway\n",
    "Finally, you may wish to treat the data as Gaussian anyway, especially if the data is already Gaussian-like.\n",
    "\n",
    "In some cases, such as the use of parametric statistical methods, this may lead to optimistic findings.\n",
    "\n",
    "In other cases, such as machine learning methods that make Gaussian expectations on input data, you may still see good results.\n",
    "\n",
    "This is a choice you can make, as long as you are aware of the possible downsides.\n",
    "\n",
    "# Extensions\n",
    "This section lists some ideas for extending the tutorial that you may wish to explore.\n",
    "\n",
    "List 3 possible additional ways that a Gaussian distribution may have been distorted\n",
    "Develop a data sample and experiment with the 5 common values for lambda in the Box-Cox transform.\n",
    "Load a machine learning dataset where at least one variable has a Gaussian-like distribution and experiment.\n",
    "If you explore any of these extensions, I’d love to know.\n",
    "\n",
    "# Summary\n",
    "In this tutorial, you discovered the reasons why a Gaussian-like distribution may be distorted and techniques that you can use to make a data sample more normal.\n",
    "\n",
    "Specifically, you learned:\n",
    "\n",
    "- How to consider the size of the sample and whether the law of large numbers may help improve the distribution of a sample.\n",
    "- How to identify and remove extreme values and long tails from a distribution.\n",
    "- Power transforms and the Box-Cox transform that can be used to control for quadratic or exponential distributions.\n"
   ]
  },
  {
   "cell_type": "code",
   "execution_count": null,
   "metadata": {
    "collapsed": true,
    "deletable": true,
    "editable": true
   },
   "outputs": [],
   "source": []
  }
 ],
 "metadata": {
  "kernelspec": {
   "display_name": "Python 3",
   "language": "python",
   "name": "python3"
  },
  "language_info": {
   "codemirror_mode": {
    "name": "ipython",
    "version": 3
   },
   "file_extension": ".py",
   "mimetype": "text/x-python",
   "name": "python",
   "nbconvert_exporter": "python",
   "pygments_lexer": "ipython3",
   "version": "3.5.2"
  },
  "toc": {
   "colors": {
    "hover_highlight": "#DAA520",
    "navigate_num": "#000000",
    "navigate_text": "#333333",
    "running_highlight": "#FF0000",
    "selected_highlight": "#FFD700",
    "sidebar_border": "#EEEEEE",
    "wrapper_background": "#FFFFFF"
   },
   "moveMenuLeft": true,
   "nav_menu": {
    "height": "189px",
    "width": "252px"
   },
   "navigate_menu": true,
   "number_sections": true,
   "sideBar": true,
   "threshold": 4,
   "toc_cell": true,
   "toc_section_display": "block",
   "toc_window_display": true,
   "widenNotebook": false
  }
 },
 "nbformat": 4,
 "nbformat_minor": 2
}
