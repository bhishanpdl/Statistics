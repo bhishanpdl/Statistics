{
 "cells": [
  {
   "cell_type": "markdown",
   "metadata": {
    "toc": true
   },
   "source": [
    "<h1>Table of Contents<span class=\"tocSkip\"></span></h1>\n",
    "<div class=\"toc\"><ul class=\"toc-item\"><li><span><a href=\"#Market-Share-Data\" data-toc-modified-id=\"Market-Share-Data-1\"><span class=\"toc-item-num\">1&nbsp;&nbsp;</span>Market Share Data</a></span></li><li><span><a href=\"#Using-sklearn-linear-regresson-ols\" data-toc-modified-id=\"Using-sklearn-linear-regresson-ols-2\"><span class=\"toc-item-num\">2&nbsp;&nbsp;</span>Using sklearn linear regresson ols</a></span></li></ul></div>"
   ]
  },
  {
   "cell_type": "code",
   "execution_count": 1,
   "metadata": {
    "ExecuteTime": {
     "end_time": "2019-06-22T16:03:58.119151Z",
     "start_time": "2019-06-22T16:03:57.455092Z"
    }
   },
   "outputs": [],
   "source": [
    "import numpy as np\n",
    "import pandas as pd\n",
    "import seaborn as sns\n",
    "sns.set()\n",
    "import matplotlib.pyplot as plt\n",
    "plt.rcParams[\"figure.figsize\"] = [10, 8]\n",
    "plt.style.use('fivethirtyeight')\n",
    "%matplotlib inline"
   ]
  },
  {
   "cell_type": "markdown",
   "metadata": {},
   "source": [
    "https://newonlinecourses.science.psu.edu/stat501/node/397/"
   ]
  },
  {
   "cell_type": "markdown",
   "metadata": {},
   "source": [
    "# Market Share Data\n",
    "Here we have market share data for n = 36 consecutive months (market_share.txt). Let Y = market share of the product; X1 = price; X3 = 1 if discount promotion in effect and 0 otherwise; X3X4 = 1 if both discount and package promotions in effect and 0 otherwise."
   ]
  },
  {
   "cell_type": "code",
   "execution_count": 2,
   "metadata": {
    "ExecuteTime": {
     "end_time": "2019-06-22T16:03:58.145340Z",
     "start_time": "2019-06-22T16:03:58.121015Z"
    }
   },
   "outputs": [
    {
     "data": {
      "text/html": [
       "<div>\n",
       "<style scoped>\n",
       "    .dataframe tbody tr th:only-of-type {\n",
       "        vertical-align: middle;\n",
       "    }\n",
       "\n",
       "    .dataframe tbody tr th {\n",
       "        vertical-align: top;\n",
       "    }\n",
       "\n",
       "    .dataframe thead th {\n",
       "        text-align: right;\n",
       "    }\n",
       "</style>\n",
       "<table border=\"1\" class=\"dataframe\">\n",
       "  <thead>\n",
       "    <tr style=\"text-align: right;\">\n",
       "      <th></th>\n",
       "      <th>ID</th>\n",
       "      <th>Marketshare</th>\n",
       "      <th>Price</th>\n",
       "      <th>Discount</th>\n",
       "      <th>Promotion</th>\n",
       "      <th>Month</th>\n",
       "      <th>Year</th>\n",
       "    </tr>\n",
       "  </thead>\n",
       "  <tbody>\n",
       "    <tr>\n",
       "      <th>0</th>\n",
       "      <td>1</td>\n",
       "      <td>3.15</td>\n",
       "      <td>2.198</td>\n",
       "      <td>1</td>\n",
       "      <td>1</td>\n",
       "      <td>Sep</td>\n",
       "      <td>1999</td>\n",
       "    </tr>\n",
       "    <tr>\n",
       "      <th>1</th>\n",
       "      <td>2</td>\n",
       "      <td>2.52</td>\n",
       "      <td>2.186</td>\n",
       "      <td>0</td>\n",
       "      <td>0</td>\n",
       "      <td>Oct</td>\n",
       "      <td>1999</td>\n",
       "    </tr>\n",
       "    <tr>\n",
       "      <th>2</th>\n",
       "      <td>3</td>\n",
       "      <td>2.64</td>\n",
       "      <td>2.293</td>\n",
       "      <td>1</td>\n",
       "      <td>1</td>\n",
       "      <td>Nov</td>\n",
       "      <td>1999</td>\n",
       "    </tr>\n",
       "    <tr>\n",
       "      <th>3</th>\n",
       "      <td>4</td>\n",
       "      <td>2.55</td>\n",
       "      <td>2.420</td>\n",
       "      <td>0</td>\n",
       "      <td>1</td>\n",
       "      <td>Dec</td>\n",
       "      <td>1999</td>\n",
       "    </tr>\n",
       "    <tr>\n",
       "      <th>4</th>\n",
       "      <td>5</td>\n",
       "      <td>2.69</td>\n",
       "      <td>2.179</td>\n",
       "      <td>1</td>\n",
       "      <td>0</td>\n",
       "      <td>Jan</td>\n",
       "      <td>2000</td>\n",
       "    </tr>\n",
       "  </tbody>\n",
       "</table>\n",
       "</div>"
      ],
      "text/plain": [
       "   ID  Marketshare  Price  Discount  Promotion Month  Year\n",
       "0   1         3.15  2.198         1          1   Sep  1999\n",
       "1   2         2.52  2.186         0          0   Oct  1999\n",
       "2   3         2.64  2.293         1          1   Nov  1999\n",
       "3   4         2.55  2.420         0          1   Dec  1999\n",
       "4   5         2.69  2.179         1          0   Jan  2000"
      ]
     },
     "execution_count": 2,
     "metadata": {},
     "output_type": "execute_result"
    }
   ],
   "source": [
    "infile = 'market_share.txt'\n",
    "df = pd.read_csv(infile,sep='\\t',encoding='utf-16')\n",
    "df.head()"
   ]
  },
  {
   "cell_type": "code",
   "execution_count": 3,
   "metadata": {
    "ExecuteTime": {
     "end_time": "2019-06-22T16:03:58.264849Z",
     "start_time": "2019-06-22T16:03:58.148979Z"
    }
   },
   "outputs": [],
   "source": [
    "import statsmodels.api as sm\n",
    "from statsmodels.compat import lzip\n",
    "import statsmodels.stats.api as sms\n",
    "import statsmodels.formula.api as smf"
   ]
  },
  {
   "cell_type": "code",
   "execution_count": 4,
   "metadata": {
    "ExecuteTime": {
     "end_time": "2019-06-22T16:03:58.274190Z",
     "start_time": "2019-06-22T16:03:58.266734Z"
    }
   },
   "outputs": [
    {
     "data": {
      "text/plain": [
       "((36, 3), (36,), array([3.15, 2.52, 2.64, 2.55, 2.69]))"
      ]
     },
     "execution_count": 4,
     "metadata": {},
     "output_type": "execute_result"
    }
   ],
   "source": [
    "x = df.values[:,2:5].astype(float)\n",
    "y = df.values[:,1].astype(float)\n",
    "x.shape, y.shape, y[:5]"
   ]
  },
  {
   "cell_type": "code",
   "execution_count": 5,
   "metadata": {
    "ExecuteTime": {
     "end_time": "2019-06-22T16:03:58.304660Z",
     "start_time": "2019-06-22T16:03:58.278019Z"
    }
   },
   "outputs": [
    {
     "name": "stdout",
     "output_type": "stream",
     "text": [
      "                            OLS Regression Results                            \n",
      "==============================================================================\n",
      "Dep. Variable:                      y   R-squared:                       0.707\n",
      "Model:                            OLS   Adj. R-squared:                  0.679\n",
      "Method:                 Least Squares   F-statistic:                     25.68\n",
      "Date:                Sat, 22 Jun 2019   Prob (F-statistic):           1.19e-08\n",
      "Time:                        12:03:58   Log-Likelihood:                 19.386\n",
      "No. Observations:                  36   AIC:                            -30.77\n",
      "Df Residuals:                      32   BIC:                            -24.44\n",
      "Df Model:                           3                                         \n",
      "Covariance Type:            nonrobust                                         \n",
      "==============================================================================\n",
      "                 coef    std err          t      P>|t|      [0.025      0.975]\n",
      "------------------------------------------------------------------------------\n",
      "const          3.1853      0.365      8.726      0.000       2.442       3.929\n",
      "x1            -0.3527      0.157     -2.241      0.032      -0.673      -0.032\n",
      "x2             0.3991      0.051      7.787      0.000       0.295       0.504\n",
      "x3             0.1180      0.051      2.292      0.029       0.013       0.223\n",
      "==============================================================================\n",
      "Omnibus:                        2.072   Durbin-Watson:                   1.851\n",
      "Prob(Omnibus):                  0.355   Jarque-Bera (JB):                1.287\n",
      "Skew:                          -0.152   Prob(JB):                        0.526\n",
      "Kurtosis:                       2.125   Cond. No.                         42.4\n",
      "==============================================================================\n",
      "\n",
      "Warnings:\n",
      "[1] Standard Errors assume that the covariance matrix of the errors is correctly specified.\n"
     ]
    }
   ],
   "source": [
    "x1 = sm.add_constant(x)\n",
    "results = smf.OLS(y,x1).fit()\n",
    "\n",
    "# Inspect the results\n",
    "print(results.summary())"
   ]
  },
  {
   "cell_type": "code",
   "execution_count": 6,
   "metadata": {
    "ExecuteTime": {
     "end_time": "2019-06-22T16:03:58.432244Z",
     "start_time": "2019-06-22T16:03:58.306822Z"
    }
   },
   "outputs": [
    {
     "data": {
      "text/plain": [
       "[<matplotlib.lines.Line2D at 0x1c22676710>]"
      ]
     },
     "execution_count": 6,
     "metadata": {},
     "output_type": "execute_result"
    },
    {
     "data": {
      "image/png": "[encoded data removed]",
      "text/plain": [
       "<Figure size 432x288 with 1 Axes>"
      ]
     },
     "metadata": {
      "needs_background": "light"
     },
     "output_type": "display_data"
    }
   ],
   "source": [
    "residuals = results.resid\n",
    "plt.plot(y,residuals,'.')"
   ]
  },
  {
   "cell_type": "markdown",
   "metadata": {},
   "source": [
    "# Using sklearn linear regresson ols"
   ]
  },
  {
   "cell_type": "code",
   "execution_count": 9,
   "metadata": {
    "ExecuteTime": {
     "end_time": "2019-06-22T16:04:35.708611Z",
     "start_time": "2019-06-22T16:04:35.702608Z"
    }
   },
   "outputs": [],
   "source": [
    "# plot of residuals\n",
    "from yellowbrick.regressor import ResidualsPlot\n",
    "from sklearn.linear_model import LinearRegression\n",
    "from sklearn.model_selection import train_test_split"
   ]
  },
  {
   "cell_type": "code",
   "execution_count": 13,
   "metadata": {
    "ExecuteTime": {
     "end_time": "2019-06-22T16:05:42.376151Z",
     "start_time": "2019-06-22T16:05:42.371723Z"
    }
   },
   "outputs": [
    {
     "data": {
      "text/plain": [
       "((36, 3), (36, 1), (36, 1))"
      ]
     },
     "execution_count": 13,
     "metadata": {},
     "output_type": "execute_result"
    }
   ],
   "source": [
    "x.shape, y.shape, np.atleast_2d(y).shape"
   ]
  },
  {
   "cell_type": "code",
   "execution_count": 12,
   "metadata": {
    "ExecuteTime": {
     "end_time": "2019-06-22T16:04:54.203659Z",
     "start_time": "2019-06-22T16:04:53.887102Z"
    },
    "scrolled": false
   },
   "outputs": [
    {
     "data": {
      "image/png": "[encoded data removed]",
      "text/plain": [
       "<Figure size 576x396 with 2 Axes>"
      ]
     },
     "metadata": {},
     "output_type": "display_data"
    }
   ],
   "source": [
    "y = y.reshape(-1,1)\n",
    "\n",
    "lr = LinearRegression()\n",
    "viz = ResidualsPlot(lr)\n",
    "viz.fit(x1,y)\n",
    "viz.poof()"
   ]
  }
 ],
 "metadata": {
  "kernelspec": {
   "display_name": "Python (dataSc)",
   "language": "python",
   "name": "datasc"
  },
  "language_info": {
   "codemirror_mode": {
    "name": "ipython",
    "version": 3
   },
   "file_extension": ".py",
   "mimetype": "text/x-python",
   "name": "python",
   "nbconvert_exporter": "python",
   "pygments_lexer": "ipython3",
   "version": "3.7.0"
  },
  "toc": {
   "base_numbering": 1,
   "nav_menu": {},
   "number_sections": true,
   "sideBar": true,
   "skip_h1_title": false,
   "title_cell": "Table of Contents",
   "title_sidebar": "Contents",
   "toc_cell": true,
   "toc_position": {},
   "toc_section_display": true,
   "toc_window_display": true
  }
 },
 "nbformat": 4,
 "nbformat_minor": 2
}
