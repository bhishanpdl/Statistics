{
 "cells": [
  {
   "cell_type": "markdown",
   "metadata": {
    "toc": "true"
   },
   "source": [
    "# Table of Contents\n",
    " <p><div class=\"lev1 toc-item\"><a href=\"#Log-transform\" data-toc-modified-id=\"Log-transform-1\"><span class=\"toc-item-num\">1&nbsp;&nbsp;</span>Log transform</a></div><div class=\"lev1 toc-item\"><a href=\"#yellowbrick-plots-of-regressor\" data-toc-modified-id=\"yellowbrick-plots-of-regressor-2\"><span class=\"toc-item-num\">2&nbsp;&nbsp;</span>yellowbrick plots of regressor</a></div>"
   ]
  },
  {
   "cell_type": "markdown",
   "metadata": {
    "deletable": true,
    "editable": true,
    "toc": true
   },
   "source": [
    "<h1>Table of Contents<span class=\"tocSkip\"></span></h1>\n",
    "<div class=\"toc\"><ul class=\"toc-item\"><li><span><a href=\"#Log-transform\" data-toc-modified-id=\"Log-transform-1\"><span class=\"toc-item-num\">1&nbsp;&nbsp;</span>Log transform</a></span></li><li><span><a href=\"#yellowbrick-plots-of-regressor\" data-toc-modified-id=\"yellowbrick-plots-of-regressor-2\"><span class=\"toc-item-num\">2&nbsp;&nbsp;</span>yellowbrick plots of regressor</a></span></li></ul></div>"
   ]
  },
  {
   "cell_type": "code",
   "execution_count": 1,
   "metadata": {
    "ExecuteTime": {
     "end_time": "2019-06-22T13:54:53.145508Z",
     "start_time": "2019-06-22T13:54:51.904425Z"
    },
    "collapsed": true,
    "deletable": true,
    "editable": true
   },
   "outputs": [],
   "source": [
    "import numpy as np\n",
    "import pandas as pd\n",
    "import seaborn as sns\n",
    "sns.set()\n",
    "import matplotlib.pyplot as plt\n",
    "plt.rcParams[\"figure.figsize\"] = [10, 8]\n",
    "plt.style.use('fivethirtyeight')\n",
    "%matplotlib inline"
   ]
  },
  {
   "cell_type": "code",
   "execution_count": 2,
   "metadata": {
    "ExecuteTime": {
     "end_time": "2019-06-22T13:54:53.160817Z",
     "start_time": "2019-06-22T13:54:53.152977Z"
    },
    "collapsed": false,
    "deletable": true,
    "editable": true
   },
   "outputs": [
    {
     "name": "stdout",
     "output_type": "stream",
     "text": [
      "[ 811.66204829  684.03700402 1038.03061681  719.12859436  780.39787269]\n"
     ]
    }
   ],
   "source": [
    "np.random.seed(0)\n",
    "x = np.arange(1,101)\n",
    "y = x * 5 + 100 + np.random.normal(x,2*x,100)\n",
    "\n",
    "print(y[-5:])"
   ]
  },
  {
   "cell_type": "code",
   "execution_count": 3,
   "metadata": {
    "ExecuteTime": {
     "end_time": "2019-06-22T13:54:53.301615Z",
     "start_time": "2019-06-22T13:54:53.163773Z"
    },
    "collapsed": false,
    "deletable": true,
    "editable": true
   },
   "outputs": [
    {
     "data": {
      "text/plain": [
       "[<matplotlib.lines.Line2D at 0x1a22863d68>]"
      ]
     },
     "execution_count": 3,
     "metadata": {},
     "output_type": "execute_result"
    },
    {
     "data": {
      "image/png": "[encoded data removed]",
      "text/plain": [
       "<Figure size 432x288 with 1 Axes>"
      ]
     },
     "metadata": {
      "needs_background": "light"
     },
     "output_type": "display_data"
    }
   ],
   "source": [
    "plt.plot(x,y,'.')"
   ]
  },
  {
   "cell_type": "code",
   "execution_count": 4,
   "metadata": {
    "ExecuteTime": {
     "end_time": "2019-06-22T13:54:53.309833Z",
     "start_time": "2019-06-22T13:54:53.303813Z"
    },
    "collapsed": true,
    "deletable": true,
    "editable": true
   },
   "outputs": [],
   "source": [
    "# get Breusch-Pagan test\n",
    "# http://www.statsmodels.org/devel/examples/notebooks/generated/regression_diagnostics.html\n"
   ]
  },
  {
   "cell_type": "code",
   "execution_count": 5,
   "metadata": {
    "ExecuteTime": {
     "end_time": "2019-06-22T13:54:53.697065Z",
     "start_time": "2019-06-22T13:54:53.317146Z"
    },
    "collapsed": true,
    "deletable": true,
    "editable": true
   },
   "outputs": [],
   "source": [
    "import statsmodels.api as sm\n",
    "from statsmodels.compat import lzip\n",
    "import statsmodels.stats.api as sms\n",
    "import statsmodels.formula.api as smf"
   ]
  },
  {
   "cell_type": "code",
   "execution_count": 6,
   "metadata": {
    "ExecuteTime": {
     "end_time": "2019-06-22T13:54:53.729424Z",
     "start_time": "2019-06-22T13:54:53.699204Z"
    },
    "collapsed": false,
    "deletable": true,
    "editable": true
   },
   "outputs": [
    {
     "name": "stdout",
     "output_type": "stream",
     "text": [
      "                            OLS Regression Results                            \n",
      "==============================================================================\n",
      "Dep. Variable:                      y   R-squared:                       0.939\n",
      "Model:                            OLS   Adj. R-squared:                  0.938\n",
      "Method:                 Least Squares   F-statistic:                     1517.\n",
      "Date:                Sat, 22 Jun 2019   Prob (F-statistic):           7.66e-62\n",
      "Time:                        09:54:53   Log-Likelihood:                -615.05\n",
      "No. Observations:                 100   AIC:                             1232.\n",
      "Df Residuals:                      99   BIC:                             1235.\n",
      "Df Model:                           1                                         \n",
      "Covariance Type:            nonrobust                                         \n",
      "==============================================================================\n",
      "                 coef    std err          t      P>|t|      [0.025      0.975]\n",
      "------------------------------------------------------------------------------\n",
      "x1             7.6362      0.196     38.947      0.000       7.247       8.025\n",
      "==============================================================================\n",
      "Omnibus:                        3.016   Durbin-Watson:                   1.759\n",
      "Prob(Omnibus):                  0.221   Jarque-Bera (JB):                2.553\n",
      "Skew:                          -0.386   Prob(JB):                        0.279\n",
      "Kurtosis:                       3.135   Cond. No.                         1.00\n",
      "==============================================================================\n",
      "\n",
      "Warnings:\n",
      "[1] Standard Errors assume that the covariance matrix of the errors is correctly specified.\n"
     ]
    }
   ],
   "source": [
    "#x1 = sm.add_constant(x)\n",
    "results = smf.OLS(y,x).fit()\n",
    "\n",
    "# Inspect the results\n",
    "print(results.summary())"
   ]
  },
  {
   "cell_type": "code",
   "execution_count": 7,
   "metadata": {
    "ExecuteTime": {
     "end_time": "2019-06-22T13:54:53.746619Z",
     "start_time": "2019-06-22T13:54:53.736278Z"
    },
    "collapsed": false,
    "deletable": true,
    "editable": true
   },
   "outputs": [
    {
     "data": {
      "text/plain": [
       "[('p-value', 40.15767380703137)]"
      ]
     },
     "execution_count": 7,
     "metadata": {},
     "output_type": "execute_result"
    }
   ],
   "source": [
    "name = ['p-value']\n",
    "test = sms.het_breuschpagan(results.resid, results.model.exog)\n",
    "lzip(name, test)"
   ]
  },
  {
   "cell_type": "markdown",
   "metadata": {
    "deletable": true,
    "editable": true
   },
   "source": [
    "# Log transform"
   ]
  },
  {
   "cell_type": "code",
   "execution_count": 8,
   "metadata": {
    "ExecuteTime": {
     "end_time": "2019-06-22T13:54:53.755243Z",
     "start_time": "2019-06-22T13:54:53.748833Z"
    },
    "collapsed": false,
    "deletable": true,
    "editable": true
   },
   "outputs": [
    {
     "data": {
      "text/plain": [
       "array([4.69618118, 4.73268904, 4.81925223, 4.95531387, 5.00176662,\n",
       "       4.82247807, 5.0453667 , 4.98071398, 5.02481469, 5.12522491,\n",
       "       5.13089797, 5.33224798, 5.2871906 , 5.23328219, 5.31476091,\n",
       "       5.33115999, 5.53259347, 5.30138417, 5.42007725, 5.22486548,\n",
       "       4.77722613, 5.56359745, 5.62677207, 5.33934452, 5.89574554,\n",
       "       5.19502685, 5.57773145, 5.55108847, 5.89413061, 5.90852177,\n",
       "       5.68902999, 5.75638252, 5.47816144, 5.13170678, 5.65475381,\n",
       "       5.79074618, 6.0235481 , 6.0387795 , 5.71633176, 5.75515907,\n",
       "       5.56075339, 5.44982954, 5.35309322, 6.283515  , 5.78114869,\n",
       "       5.81620946, 5.57684732, 6.13694721, 5.46314518, 5.93681291,\n",
       "       5.75150035, 6.11420828, 5.89675449, 5.69201931, 6.05654969,\n",
       "       6.18202947, 6.1083204 , 6.18019622, 5.93793189, 6.03181698,\n",
       "       5.95053793, 6.05775639, 5.92837449, 5.57229025, 6.24040332,\n",
       "       6.09349057, 5.64740054, 6.3472813 , 5.96304662, 6.26771722,\n",
       "       6.44497488, 6.31096053, 6.55727894, 5.88955855, 6.4140346 ,\n",
       "       6.11348054, 6.05888307, 6.16898177, 6.26296903, 6.37840319,\n",
       "       5.98455505, 6.60629275, 6.51515698, 5.84618169, 6.76041802,\n",
       "       6.84810393, 6.71793485, 6.39079962, 6.0944859 , 6.72118629,\n",
       "       6.35022546, 6.77642705, 6.54641109, 6.74241843, 6.60355027,\n",
       "       6.69908406, 6.52801202, 6.94508056, 6.57804019, 6.65980388])"
      ]
     },
     "execution_count": 8,
     "metadata": {},
     "output_type": "execute_result"
    }
   ],
   "source": [
    "xlog = np.log(x)\n",
    "ylog = np.log(y)\n",
    "ylog"
   ]
  },
  {
   "cell_type": "code",
   "execution_count": 9,
   "metadata": {
    "ExecuteTime": {
     "end_time": "2019-06-22T13:54:53.773750Z",
     "start_time": "2019-06-22T13:54:53.758697Z"
    },
    "collapsed": false,
    "deletable": true,
    "editable": true
   },
   "outputs": [
    {
     "name": "stdout",
     "output_type": "stream",
     "text": [
      "                            OLS Regression Results                            \n",
      "==============================================================================\n",
      "Dep. Variable:                      y   R-squared:                       0.970\n",
      "Model:                            OLS   Adj. R-squared:                  0.969\n",
      "Method:                 Least Squares   F-statistic:                     3175.\n",
      "Date:                Sat, 22 Jun 2019   Prob (F-statistic):           4.94e-77\n",
      "Time:                        09:54:53   Log-Likelihood:                -144.14\n",
      "No. Observations:                 100   AIC:                             290.3\n",
      "Df Residuals:                      99   BIC:                             292.9\n",
      "Df Model:                           1                                         \n",
      "Covariance Type:            nonrobust                                         \n",
      "==============================================================================\n",
      "                 coef    std err          t      P>|t|      [0.025      0.975]\n",
      "------------------------------------------------------------------------------\n",
      "x1             1.5434      0.027     56.351      0.000       1.489       1.598\n",
      "==============================================================================\n",
      "Omnibus:                       52.665   Durbin-Watson:                   0.127\n",
      "Prob(Omnibus):                  0.000   Jarque-Bera (JB):              147.365\n",
      "Skew:                           1.955   Prob(JB):                     1.00e-32\n",
      "Kurtosis:                       7.482   Cond. No.                         1.00\n",
      "==============================================================================\n",
      "\n",
      "Warnings:\n",
      "[1] Standard Errors assume that the covariance matrix of the errors is correctly specified.\n"
     ]
    }
   ],
   "source": [
    "results = smf.OLS(ylog,xlog).fit()\n",
    "\n",
    "# Inspect the results\n",
    "print(results.summary())"
   ]
  },
  {
   "cell_type": "markdown",
   "metadata": {
    "deletable": true,
    "editable": true
   },
   "source": [
    "# yellowbrick plots of regressor"
   ]
  },
  {
   "cell_type": "code",
   "execution_count": 14,
   "metadata": {
    "ExecuteTime": {
     "end_time": "2019-06-22T13:57:42.350640Z",
     "start_time": "2019-06-22T13:57:42.346573Z"
    },
    "collapsed": true,
    "deletable": true,
    "editable": true
   },
   "outputs": [],
   "source": [
    "from yellowbrick.regressor import ResidualsPlot\n",
    "from sklearn.linear_model import LinearRegression\n",
    "from sklearn.model_selection import train_test_split"
   ]
  },
  {
   "cell_type": "code",
   "execution_count": 28,
   "metadata": {
    "ExecuteTime": {
     "end_time": "2019-06-22T14:02:55.046542Z",
     "start_time": "2019-06-22T14:02:54.617819Z"
    },
    "collapsed": false,
    "deletable": true,
    "editable": true
   },
   "outputs": [
    {
     "data": {
      "image/png": "[encoded data removed]",
      "text/plain": [
       "<Figure size 576x396 with 2 Axes>"
      ]
     },
     "metadata": {},
     "output_type": "display_data"
    }
   ],
   "source": [
    "lr = LinearRegression()\n",
    "viz = ResidualsPlot(lr)\n",
    "\n",
    "x1d = x.reshape(-1,1)\n",
    "y1d = y.reshape(-1,1)\n",
    "x_train,x_test,y_train,y_test = train_test_split(x1d,y1d,test_size=0.2)\n",
    "viz.fit(x_train,y_train)\n",
    "viz.score(x_test,y_test)\n",
    "viz.poof() "
   ]
  },
  {
   "cell_type": "code",
   "execution_count": 29,
   "metadata": {
    "ExecuteTime": {
     "end_time": "2019-06-22T14:04:19.570970Z",
     "start_time": "2019-06-22T14:04:19.561662Z"
    },
    "collapsed": false,
    "deletable": true,
    "editable": true
   },
   "outputs": [
    {
     "data": {
      "text/plain": [
       "((80, 1), (80, 1))"
      ]
     },
     "execution_count": 29,
     "metadata": {},
     "output_type": "execute_result"
    }
   ],
   "source": [
    "x_train.shape, y_train.shape"
   ]
  },
  {
   "cell_type": "code",
   "execution_count": null,
   "metadata": {
    "collapsed": true,
    "deletable": true,
    "editable": true
   },
   "outputs": [],
   "source": []
  }
 ],
 "metadata": {
  "kernelspec": {
   "display_name": "Python 3",
   "language": "python",
   "name": "python3"
  },
  "language_info": {
   "codemirror_mode": {
    "name": "ipython",
    "version": 3
   },
   "file_extension": ".py",
   "mimetype": "text/x-python",
   "name": "python",
   "nbconvert_exporter": "python",
   "pygments_lexer": "ipython3",
   "version": "3.6.0"
  },
  "toc": {
   "base_numbering": 1,
   "colors": {
    "hover_highlight": "#DAA520",
    "navigate_num": "#000000",
    "navigate_text": "#333333",
    "running_highlight": "#FF0000",
    "selected_highlight": "#FFD700",
    "sidebar_border": "#EEEEEE",
    "wrapper_background": "#FFFFFF"
   },
   "moveMenuLeft": true,
   "nav_menu": {},
   "navigate_menu": true,
   "number_sections": true,
   "sideBar": true,
   "skip_h1_title": false,
   "threshold": 4,
   "title_cell": "Table of Contents",
   "title_sidebar": "Contents",
   "toc_cell": true,
   "toc_position": {},
   "toc_section_display": true,
   "toc_window_display": true,
   "widenNotebook": false
  }
 },
 "nbformat": 4,
 "nbformat_minor": 2
}
