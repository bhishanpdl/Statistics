{
 "cells": [
  {
   "cell_type": "markdown",
   "metadata": {
    "toc": true
   },
   "source": [
    "<h1>Table of Contents<span class=\"tocSkip\"></span></h1>\n",
    "<div class=\"toc\"><ul class=\"toc-item\"><li><span><a href=\"#Load-data\" data-toc-modified-id=\"Load-data-1\"><span class=\"toc-item-num\">1&nbsp;&nbsp;</span>Load data</a></span></li><li><span><a href=\"#OLS-ANALYSIS\" data-toc-modified-id=\"OLS-ANALYSIS-2\"><span class=\"toc-item-num\">2&nbsp;&nbsp;</span>OLS ANALYSIS</a></span></li><li><span><a href=\"#OLS-Regression-with-robust-standard-errors\" data-toc-modified-id=\"OLS-Regression-with-robust-standard-errors-3\"><span class=\"toc-item-num\">3&nbsp;&nbsp;</span>OLS Regression with robust standard errors</a></span></li><li><span><a href=\"#Bootstrapped-standard-errors\" data-toc-modified-id=\"Bootstrapped-standard-errors-4\"><span class=\"toc-item-num\">4&nbsp;&nbsp;</span>Bootstrapped standard errors</a></span></li></ul></div>"
   ]
  },
  {
   "cell_type": "markdown",
   "metadata": {},
   "source": [
    "https://rlhick.people.wm.edu/posts/comparing-stata-and-ipython-commands-for-ols-models.html"
   ]
  },
  {
   "cell_type": "code",
   "execution_count": 1,
   "metadata": {
    "ExecuteTime": {
     "end_time": "2019-06-23T16:43:38.913906Z",
     "start_time": "2019-06-23T16:43:38.248037Z"
    }
   },
   "outputs": [],
   "source": [
    "import numpy as np\n",
    "import pandas as pd\n",
    "import seaborn as sns\n",
    "sns.set()\n",
    "\n",
    "import matplotlib.pyplot as plt\n",
    "plt.rcParams[\"figure.figsize\"] = [10, 8]\n",
    "plt.style.use('fivethirtyeight')\n",
    "%matplotlib inline"
   ]
  },
  {
   "cell_type": "code",
   "execution_count": 4,
   "metadata": {
    "ExecuteTime": {
     "end_time": "2019-06-23T16:45:18.060361Z",
     "start_time": "2019-06-23T16:45:18.054373Z"
    }
   },
   "outputs": [],
   "source": [
    "from scipy import stats\n",
    "import statsmodels.api as sm\n",
    "import statsmodels.formula.api as smf # for the ols and robust ols model\n",
    "import statsmodels.graphics as smg\n",
    "from statsmodels.compat import lzip"
   ]
  },
  {
   "cell_type": "markdown",
   "metadata": {},
   "source": [
    "# Load data"
   ]
  },
  {
   "cell_type": "code",
   "execution_count": 6,
   "metadata": {
    "ExecuteTime": {
     "end_time": "2019-06-23T16:48:04.186948Z",
     "start_time": "2019-06-23T16:48:04.143314Z"
    }
   },
   "outputs": [
    {
     "data": {
      "text/html": [
       "<div>\n",
       "<style scoped>\n",
       "    .dataframe tbody tr th:only-of-type {\n",
       "        vertical-align: middle;\n",
       "    }\n",
       "\n",
       "    .dataframe tbody tr th {\n",
       "        vertical-align: top;\n",
       "    }\n",
       "\n",
       "    .dataframe thead th {\n",
       "        text-align: right;\n",
       "    }\n",
       "</style>\n",
       "<table border=\"1\" class=\"dataframe\">\n",
       "  <thead>\n",
       "    <tr style=\"text-align: right;\">\n",
       "      <th></th>\n",
       "      <th>id</th>\n",
       "      <th>educ</th>\n",
       "      <th>ln_wage</th>\n",
       "      <th>pexp</th>\n",
       "      <th>time</th>\n",
       "      <th>ability</th>\n",
       "      <th>meduc</th>\n",
       "      <th>feduc</th>\n",
       "      <th>broken_home</th>\n",
       "      <th>siblings</th>\n",
       "      <th>pexp2</th>\n",
       "    </tr>\n",
       "  </thead>\n",
       "  <tbody>\n",
       "    <tr>\n",
       "      <th>0</th>\n",
       "      <td>4</td>\n",
       "      <td>12</td>\n",
       "      <td>2.14</td>\n",
       "      <td>2</td>\n",
       "      <td>4</td>\n",
       "      <td>0.26</td>\n",
       "      <td>12</td>\n",
       "      <td>10</td>\n",
       "      <td>1</td>\n",
       "      <td>4</td>\n",
       "      <td>4</td>\n",
       "    </tr>\n",
       "    <tr>\n",
       "      <th>1</th>\n",
       "      <td>6</td>\n",
       "      <td>15</td>\n",
       "      <td>1.91</td>\n",
       "      <td>4</td>\n",
       "      <td>4</td>\n",
       "      <td>0.44</td>\n",
       "      <td>12</td>\n",
       "      <td>16</td>\n",
       "      <td>0</td>\n",
       "      <td>2</td>\n",
       "      <td>16</td>\n",
       "    </tr>\n",
       "    <tr>\n",
       "      <th>2</th>\n",
       "      <td>8</td>\n",
       "      <td>13</td>\n",
       "      <td>2.32</td>\n",
       "      <td>8</td>\n",
       "      <td>4</td>\n",
       "      <td>0.51</td>\n",
       "      <td>12</td>\n",
       "      <td>15</td>\n",
       "      <td>1</td>\n",
       "      <td>2</td>\n",
       "      <td>64</td>\n",
       "    </tr>\n",
       "    <tr>\n",
       "      <th>3</th>\n",
       "      <td>11</td>\n",
       "      <td>14</td>\n",
       "      <td>1.64</td>\n",
       "      <td>1</td>\n",
       "      <td>4</td>\n",
       "      <td>1.82</td>\n",
       "      <td>16</td>\n",
       "      <td>17</td>\n",
       "      <td>1</td>\n",
       "      <td>2</td>\n",
       "      <td>1</td>\n",
       "    </tr>\n",
       "    <tr>\n",
       "      <th>4</th>\n",
       "      <td>12</td>\n",
       "      <td>13</td>\n",
       "      <td>2.16</td>\n",
       "      <td>6</td>\n",
       "      <td>4</td>\n",
       "      <td>-1.30</td>\n",
       "      <td>13</td>\n",
       "      <td>12</td>\n",
       "      <td>0</td>\n",
       "      <td>5</td>\n",
       "      <td>36</td>\n",
       "    </tr>\n",
       "  </tbody>\n",
       "</table>\n",
       "</div>"
      ],
      "text/plain": [
       "   id  educ  ln_wage  pexp  time  ability  meduc  feduc  broken_home  \\\n",
       "0   4    12     2.14     2     4     0.26     12     10            1   \n",
       "1   6    15     1.91     4     4     0.44     12     16            0   \n",
       "2   8    13     2.32     8     4     0.51     12     15            1   \n",
       "3  11    14     1.64     1     4     1.82     16     17            1   \n",
       "4  12    13     2.16     6     4    -1.30     13     12            0   \n",
       "\n",
       "   siblings  pexp2  \n",
       "0         4      4  \n",
       "1         2     16  \n",
       "2         2     64  \n",
       "3         2      1  \n",
       "4         5     36  "
      ]
     },
     "execution_count": 6,
     "metadata": {},
     "output_type": "execute_result"
    }
   ],
   "source": [
    "df = pd.read_csv('tobias_koop_t_4.csv')\n",
    "df.head()"
   ]
  },
  {
   "cell_type": "code",
   "execution_count": 7,
   "metadata": {
    "ExecuteTime": {
     "end_time": "2019-06-23T16:48:06.347572Z",
     "start_time": "2019-06-23T16:48:06.282836Z"
    }
   },
   "outputs": [
    {
     "data": {
      "text/html": [
       "<div>\n",
       "<style scoped>\n",
       "    .dataframe tbody tr th:only-of-type {\n",
       "        vertical-align: middle;\n",
       "    }\n",
       "\n",
       "    .dataframe tbody tr th {\n",
       "        vertical-align: top;\n",
       "    }\n",
       "\n",
       "    .dataframe thead th {\n",
       "        text-align: right;\n",
       "    }\n",
       "</style>\n",
       "<table border=\"1\" class=\"dataframe\">\n",
       "  <thead>\n",
       "    <tr style=\"text-align: right;\">\n",
       "      <th></th>\n",
       "      <th>id</th>\n",
       "      <th>educ</th>\n",
       "      <th>ln_wage</th>\n",
       "      <th>pexp</th>\n",
       "      <th>time</th>\n",
       "      <th>ability</th>\n",
       "      <th>meduc</th>\n",
       "      <th>feduc</th>\n",
       "      <th>broken_home</th>\n",
       "      <th>siblings</th>\n",
       "      <th>pexp2</th>\n",
       "    </tr>\n",
       "  </thead>\n",
       "  <tbody>\n",
       "    <tr>\n",
       "      <th>count</th>\n",
       "      <td>1034.000000</td>\n",
       "      <td>1034.000000</td>\n",
       "      <td>1034.000000</td>\n",
       "      <td>1034.000000</td>\n",
       "      <td>1034.0</td>\n",
       "      <td>1034.000000</td>\n",
       "      <td>1034.000000</td>\n",
       "      <td>1034.000000</td>\n",
       "      <td>1034.000000</td>\n",
       "      <td>1034.000000</td>\n",
       "      <td>1034.000000</td>\n",
       "    </tr>\n",
       "    <tr>\n",
       "      <th>mean</th>\n",
       "      <td>1090.951644</td>\n",
       "      <td>12.274662</td>\n",
       "      <td>2.138259</td>\n",
       "      <td>4.815280</td>\n",
       "      <td>4.0</td>\n",
       "      <td>0.016596</td>\n",
       "      <td>11.403288</td>\n",
       "      <td>11.585106</td>\n",
       "      <td>0.169246</td>\n",
       "      <td>3.200193</td>\n",
       "      <td>27.979691</td>\n",
       "    </tr>\n",
       "    <tr>\n",
       "      <th>std</th>\n",
       "      <td>634.891728</td>\n",
       "      <td>1.566838</td>\n",
       "      <td>0.466280</td>\n",
       "      <td>2.190298</td>\n",
       "      <td>0.0</td>\n",
       "      <td>0.920963</td>\n",
       "      <td>3.027277</td>\n",
       "      <td>3.735833</td>\n",
       "      <td>0.375150</td>\n",
       "      <td>2.126575</td>\n",
       "      <td>22.598790</td>\n",
       "    </tr>\n",
       "    <tr>\n",
       "      <th>min</th>\n",
       "      <td>4.000000</td>\n",
       "      <td>9.000000</td>\n",
       "      <td>0.420000</td>\n",
       "      <td>0.000000</td>\n",
       "      <td>4.0</td>\n",
       "      <td>-3.140000</td>\n",
       "      <td>0.000000</td>\n",
       "      <td>0.000000</td>\n",
       "      <td>0.000000</td>\n",
       "      <td>0.000000</td>\n",
       "      <td>0.000000</td>\n",
       "    </tr>\n",
       "    <tr>\n",
       "      <th>25%</th>\n",
       "      <td>537.250000</td>\n",
       "      <td>12.000000</td>\n",
       "      <td>1.820000</td>\n",
       "      <td>3.000000</td>\n",
       "      <td>4.0</td>\n",
       "      <td>-0.550000</td>\n",
       "      <td>11.000000</td>\n",
       "      <td>10.000000</td>\n",
       "      <td>0.000000</td>\n",
       "      <td>2.000000</td>\n",
       "      <td>9.000000</td>\n",
       "    </tr>\n",
       "    <tr>\n",
       "      <th>50%</th>\n",
       "      <td>1081.500000</td>\n",
       "      <td>12.000000</td>\n",
       "      <td>2.120000</td>\n",
       "      <td>5.000000</td>\n",
       "      <td>4.0</td>\n",
       "      <td>0.170000</td>\n",
       "      <td>12.000000</td>\n",
       "      <td>12.000000</td>\n",
       "      <td>0.000000</td>\n",
       "      <td>3.000000</td>\n",
       "      <td>25.000000</td>\n",
       "    </tr>\n",
       "    <tr>\n",
       "      <th>75%</th>\n",
       "      <td>1666.500000</td>\n",
       "      <td>13.000000</td>\n",
       "      <td>2.450000</td>\n",
       "      <td>6.000000</td>\n",
       "      <td>4.0</td>\n",
       "      <td>0.720000</td>\n",
       "      <td>12.000000</td>\n",
       "      <td>14.000000</td>\n",
       "      <td>0.000000</td>\n",
       "      <td>4.000000</td>\n",
       "      <td>36.000000</td>\n",
       "    </tr>\n",
       "    <tr>\n",
       "      <th>max</th>\n",
       "      <td>2177.000000</td>\n",
       "      <td>19.000000</td>\n",
       "      <td>3.590000</td>\n",
       "      <td>12.000000</td>\n",
       "      <td>4.0</td>\n",
       "      <td>1.890000</td>\n",
       "      <td>20.000000</td>\n",
       "      <td>20.000000</td>\n",
       "      <td>1.000000</td>\n",
       "      <td>15.000000</td>\n",
       "      <td>144.000000</td>\n",
       "    </tr>\n",
       "  </tbody>\n",
       "</table>\n",
       "</div>"
      ],
      "text/plain": [
       "                id         educ      ln_wage         pexp    time  \\\n",
       "count  1034.000000  1034.000000  1034.000000  1034.000000  1034.0   \n",
       "mean   1090.951644    12.274662     2.138259     4.815280     4.0   \n",
       "std     634.891728     1.566838     0.466280     2.190298     0.0   \n",
       "min       4.000000     9.000000     0.420000     0.000000     4.0   \n",
       "25%     537.250000    12.000000     1.820000     3.000000     4.0   \n",
       "50%    1081.500000    12.000000     2.120000     5.000000     4.0   \n",
       "75%    1666.500000    13.000000     2.450000     6.000000     4.0   \n",
       "max    2177.000000    19.000000     3.590000    12.000000     4.0   \n",
       "\n",
       "           ability        meduc        feduc  broken_home     siblings  \\\n",
       "count  1034.000000  1034.000000  1034.000000  1034.000000  1034.000000   \n",
       "mean      0.016596    11.403288    11.585106     0.169246     3.200193   \n",
       "std       0.920963     3.027277     3.735833     0.375150     2.126575   \n",
       "min      -3.140000     0.000000     0.000000     0.000000     0.000000   \n",
       "25%      -0.550000    11.000000    10.000000     0.000000     2.000000   \n",
       "50%       0.170000    12.000000    12.000000     0.000000     3.000000   \n",
       "75%       0.720000    12.000000    14.000000     0.000000     4.000000   \n",
       "max       1.890000    20.000000    20.000000     1.000000    15.000000   \n",
       "\n",
       "             pexp2  \n",
       "count  1034.000000  \n",
       "mean     27.979691  \n",
       "std      22.598790  \n",
       "min       0.000000  \n",
       "25%       9.000000  \n",
       "50%      25.000000  \n",
       "75%      36.000000  \n",
       "max     144.000000  "
      ]
     },
     "execution_count": 7,
     "metadata": {},
     "output_type": "execute_result"
    }
   ],
   "source": [
    "df.describe()"
   ]
  },
  {
   "cell_type": "code",
   "execution_count": 8,
   "metadata": {
    "ExecuteTime": {
     "end_time": "2019-06-23T16:48:07.327481Z",
     "start_time": "2019-06-23T16:48:07.146805Z"
    }
   },
   "outputs": [
    {
     "data": {
      "text/plain": [
       "<matplotlib.axes._subplots.AxesSubplot at 0x1c22ed84a8>"
      ]
     },
     "execution_count": 8,
     "metadata": {},
     "output_type": "execute_result"
    },
    {
     "data": {
      "image/png": "[encoded data removed]",
      "text/plain": [
       "<Figure size 432x288 with 1 Axes>"
      ]
     },
     "metadata": {
      "needs_background": "light"
     },
     "output_type": "display_data"
    }
   ],
   "source": [
    "df.ln_wage.plot(kind='hist')"
   ]
  },
  {
   "cell_type": "markdown",
   "metadata": {},
   "source": [
    "# OLS ANALYSIS\n",
    "This is the model we'll be estimating the vector β from\n",
    "$$\n",
    "y_{i}=\\beta_{0}+\\beta_{1} e d u c_{i}+\\beta_{2} p e x p_{i}+\\beta_{3} p \\exp _{i}^{2}+\\beta_{4} \\text {broken} \\text {home}_{i}+\\epsilon_{i}\n",
    "$$"
   ]
  },
  {
   "cell_type": "code",
   "execution_count": 10,
   "metadata": {
    "ExecuteTime": {
     "end_time": "2019-06-23T16:49:31.969928Z",
     "start_time": "2019-06-23T16:49:31.893124Z"
    }
   },
   "outputs": [
    {
     "name": "stdout",
     "output_type": "stream",
     "text": [
      "                            OLS Regression Results                            \n",
      "==============================================================================\n",
      "Dep. Variable:                ln_wage   R-squared:                       0.166\n",
      "Model:                            OLS   Adj. R-squared:                  0.163\n",
      "Method:                 Least Squares   F-statistic:                     51.36\n",
      "Date:                Sun, 23 Jun 2019   Prob (F-statistic):           1.83e-39\n",
      "Time:                        12:49:31   Log-Likelihood:                -583.66\n",
      "No. Observations:                1034   AIC:                             1177.\n",
      "Df Residuals:                    1029   BIC:                             1202.\n",
      "Df Model:                           4                                         \n",
      "Covariance Type:            nonrobust                                         \n",
      "===============================================================================\n",
      "                  coef    std err          t      P>|t|      [0.025      0.975]\n",
      "-------------------------------------------------------------------------------\n",
      "Intercept       0.4603      0.137      3.353      0.001       0.191       0.730\n",
      "educ            0.0853      0.009      9.179      0.000       0.067       0.104\n",
      "pexp            0.2035      0.024      8.629      0.000       0.157       0.250\n",
      "pexp2          -0.0124      0.002     -5.438      0.000      -0.017      -0.008\n",
      "broken_home    -0.0087      0.036     -0.244      0.807      -0.079       0.061\n",
      "==============================================================================\n",
      "Omnibus:                       55.892   Durbin-Watson:                   1.761\n",
      "Prob(Omnibus):                  0.000   Jarque-Bera (JB):              112.050\n",
      "Skew:                          -0.355   Prob(JB):                     4.66e-25\n",
      "Kurtosis:                       4.448   Cond. No.                         391.\n",
      "==============================================================================\n",
      "\n",
      "Warnings:\n",
      "[1] Standard Errors assume that the covariance matrix of the errors is correctly specified.\n"
     ]
    }
   ],
   "source": [
    "formula = \"ln_wage ~ educ + pexp + pexp2 + broken_home\"\n",
    "results = smf.ols(formula,df).fit()\n",
    "print(results.summary())"
   ]
  },
  {
   "cell_type": "markdown",
   "metadata": {},
   "source": [
    "# OLS Regression with robust standard errors\n",
    "\n",
    "Recall that for robust standard errors, we first recover our OLS estimates (b) of β. Using b, construct e=y−xb. From there, calculate the robust variance/covariance matrix of estimated parameters as\n",
    "\n",
    "$$\n",
    "\\operatorname{Var}(\\mathbf{b})_{r b b u s t}=\\left(\\mathbf{x}^{\\prime} \\mathbf{x}\\right)^{-1} \\mathbf{x}^{\\prime} \\text { diag(ee }^{\\prime} ) \\mathbf{x}\\left(\\mathbf{x}^{\\prime} \\mathbf{x}\\right)^{-1} \\times \\frac{N}{N-K}\n",
    "$$\n",
    "\n",
    "for calculating standard errors."
   ]
  },
  {
   "cell_type": "code",
   "execution_count": 11,
   "metadata": {
    "ExecuteTime": {
     "end_time": "2019-06-23T17:00:29.617764Z",
     "start_time": "2019-06-23T17:00:29.600761Z"
    }
   },
   "outputs": [
    {
     "name": "stdout",
     "output_type": "stream",
     "text": [
      "                            OLS Regression Results                            \n",
      "==============================================================================\n",
      "Dep. Variable:                ln_wage   R-squared:                       0.166\n",
      "Model:                            OLS   Adj. R-squared:                  0.163\n",
      "Method:                 Least Squares   F-statistic:                     64.82\n",
      "Date:                Sun, 23 Jun 2019   Prob (F-statistic):           6.41e-49\n",
      "Time:                        13:00:29   Log-Likelihood:                -583.66\n",
      "No. Observations:                1034   AIC:                             1177.\n",
      "Df Residuals:                    1029   BIC:                             1202.\n",
      "Df Model:                           4                                         \n",
      "Covariance Type:                  HC1                                         \n",
      "===============================================================================\n",
      "                  coef    std err          t      P>|t|      [0.025      0.975]\n",
      "-------------------------------------------------------------------------------\n",
      "Intercept       0.4603      0.132      3.500      0.000       0.202       0.718\n",
      "educ            0.0853      0.010      8.588      0.000       0.066       0.105\n",
      "pexp            0.2035      0.023      8.972      0.000       0.159       0.248\n",
      "pexp2          -0.0124      0.002     -5.530      0.000      -0.017      -0.008\n",
      "broken_home    -0.0087      0.031     -0.279      0.780      -0.070       0.053\n",
      "==============================================================================\n",
      "Omnibus:                       55.892   Durbin-Watson:                   1.761\n",
      "Prob(Omnibus):                  0.000   Jarque-Bera (JB):              112.050\n",
      "Skew:                          -0.355   Prob(JB):                     4.66e-25\n",
      "Kurtosis:                       4.448   Cond. No.                         391.\n",
      "==============================================================================\n",
      "\n",
      "Warnings:\n",
      "[1] Standard Errors are heteroscedasticity robust (HC1)\n"
     ]
    }
   ],
   "source": [
    "results_robust = results.get_robustcov_results(cov_type='HC1')\n",
    "print(results_robust.summary())"
   ]
  },
  {
   "cell_type": "markdown",
   "metadata": {},
   "source": [
    "# Bootstrapped standard errors"
   ]
  },
  {
   "cell_type": "code",
   "execution_count": 12,
   "metadata": {
    "ExecuteTime": {
     "end_time": "2019-06-23T17:04:56.022031Z",
     "start_time": "2019-06-23T17:04:54.648705Z"
    }
   },
   "outputs": [],
   "source": [
    "R = 50\n",
    "\n",
    "results_boot = np.zeros((R,results.params.shape[0]))\n",
    "\n",
    "row_id = range(0,df.shape[0])\n",
    "\n",
    "for r in range(R):\n",
    "     this_sample = np.random.choice(row_id, size=df.shape[0], replace=True) # gives sampled row numbers\n",
    "     # Define data for this replicate:    \n",
    "     df_r = df.iloc[this_sample]   \n",
    "     # Estimate model\n",
    "     results_r = smf.ols(formula,df_r).fit(disp=0).params   \n",
    "     # Store in row r of results_boot:\n",
    "     results_boot[r,:] = np.asarray(results_r)   "
   ]
  },
  {
   "cell_type": "code",
   "execution_count": 13,
   "metadata": {
    "ExecuteTime": {
     "end_time": "2019-06-23T17:05:16.366126Z",
     "start_time": "2019-06-23T17:05:16.335700Z"
    }
   },
   "outputs": [
    {
     "data": {
      "text/html": [
       "<div>\n",
       "<style scoped>\n",
       "    .dataframe tbody tr th:only-of-type {\n",
       "        vertical-align: middle;\n",
       "    }\n",
       "\n",
       "    .dataframe tbody tr th {\n",
       "        vertical-align: top;\n",
       "    }\n",
       "\n",
       "    .dataframe thead th {\n",
       "        text-align: right;\n",
       "    }\n",
       "</style>\n",
       "<table border=\"1\" class=\"dataframe\">\n",
       "  <thead>\n",
       "    <tr style=\"text-align: right;\">\n",
       "      <th></th>\n",
       "      <th>b_Intercept</th>\n",
       "      <th>b_educ</th>\n",
       "      <th>b_pexp</th>\n",
       "      <th>pexp2</th>\n",
       "      <th>b_broken_home</th>\n",
       "    </tr>\n",
       "  </thead>\n",
       "  <tbody>\n",
       "    <tr>\n",
       "      <th>count</th>\n",
       "      <td>50.000000</td>\n",
       "      <td>50.000000</td>\n",
       "      <td>50.000000</td>\n",
       "      <td>50.000000</td>\n",
       "      <td>50.000000</td>\n",
       "    </tr>\n",
       "    <tr>\n",
       "      <th>mean</th>\n",
       "      <td>0.454550</td>\n",
       "      <td>0.086102</td>\n",
       "      <td>0.201521</td>\n",
       "      <td>-0.012301</td>\n",
       "      <td>-0.010689</td>\n",
       "    </tr>\n",
       "    <tr>\n",
       "      <th>std</th>\n",
       "      <td>0.120591</td>\n",
       "      <td>0.010054</td>\n",
       "      <td>0.017633</td>\n",
       "      <td>0.001829</td>\n",
       "      <td>0.032821</td>\n",
       "    </tr>\n",
       "    <tr>\n",
       "      <th>min</th>\n",
       "      <td>0.234279</td>\n",
       "      <td>0.064596</td>\n",
       "      <td>0.157532</td>\n",
       "      <td>-0.015804</td>\n",
       "      <td>-0.101887</td>\n",
       "    </tr>\n",
       "    <tr>\n",
       "      <th>2.5%</th>\n",
       "      <td>0.264151</td>\n",
       "      <td>0.066869</td>\n",
       "      <td>0.160728</td>\n",
       "      <td>-0.015154</td>\n",
       "      <td>-0.087147</td>\n",
       "    </tr>\n",
       "    <tr>\n",
       "      <th>50%</th>\n",
       "      <td>0.454982</td>\n",
       "      <td>0.086288</td>\n",
       "      <td>0.203186</td>\n",
       "      <td>-0.012173</td>\n",
       "      <td>-0.007130</td>\n",
       "    </tr>\n",
       "    <tr>\n",
       "      <th>97.5%</th>\n",
       "      <td>0.682879</td>\n",
       "      <td>0.102807</td>\n",
       "      <td>0.229936</td>\n",
       "      <td>-0.008744</td>\n",
       "      <td>0.042403</td>\n",
       "    </tr>\n",
       "    <tr>\n",
       "      <th>max</th>\n",
       "      <td>0.720516</td>\n",
       "      <td>0.104417</td>\n",
       "      <td>0.238549</td>\n",
       "      <td>-0.007010</td>\n",
       "      <td>0.049151</td>\n",
       "    </tr>\n",
       "  </tbody>\n",
       "</table>\n",
       "</div>"
      ],
      "text/plain": [
       "       b_Intercept     b_educ     b_pexp      pexp2  b_broken_home\n",
       "count    50.000000  50.000000  50.000000  50.000000      50.000000\n",
       "mean      0.454550   0.086102   0.201521  -0.012301      -0.010689\n",
       "std       0.120591   0.010054   0.017633   0.001829       0.032821\n",
       "min       0.234279   0.064596   0.157532  -0.015804      -0.101887\n",
       "2.5%      0.264151   0.066869   0.160728  -0.015154      -0.087147\n",
       "50%       0.454982   0.086288   0.203186  -0.012173      -0.007130\n",
       "97.5%     0.682879   0.102807   0.229936  -0.008744       0.042403\n",
       "max       0.720516   0.104417   0.238549  -0.007010       0.049151"
      ]
     },
     "execution_count": 13,
     "metadata": {},
     "output_type": "execute_result"
    }
   ],
   "source": [
    "# Convert results to pandas dataframe for easier analysis:\n",
    "results_boot = pd.DataFrame(results_boot,columns=['b_Intercept','b_educ','b_pexp','pexp2','b_broken_home'])\n",
    "results_boot.describe(percentiles=[.025,.975])"
   ]
  },
  {
   "cell_type": "code",
   "execution_count": null,
   "metadata": {},
   "outputs": [],
   "source": []
  }
 ],
 "metadata": {
  "kernelspec": {
   "display_name": "Python (dataSc)",
   "language": "python",
   "name": "datasc"
  },
  "language_info": {
   "codemirror_mode": {
    "name": "ipython",
    "version": 3
   },
   "file_extension": ".py",
   "mimetype": "text/x-python",
   "name": "python",
   "nbconvert_exporter": "python",
   "pygments_lexer": "ipython3",
   "version": "3.7.0"
  },
  "toc": {
   "base_numbering": 1,
   "nav_menu": {},
   "number_sections": true,
   "sideBar": true,
   "skip_h1_title": false,
   "title_cell": "Table of Contents",
   "title_sidebar": "Contents",
   "toc_cell": true,
   "toc_position": {},
   "toc_section_display": true,
   "toc_window_display": true
  }
 },
 "nbformat": 4,
 "nbformat_minor": 2
}
