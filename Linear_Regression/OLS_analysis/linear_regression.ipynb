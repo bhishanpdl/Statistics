{
 "cells": [
  {
   "cell_type": "markdown",
   "metadata": {
    "deletable": true,
    "editable": true,
    "toc": "true"
   },
   "source": [
    "# Table of Contents\n",
    " <p><div class=\"lev1 toc-item\"><a href=\"#Linearity-of-x-vs-y\" data-toc-modified-id=\"Linearity-of-x-vs-y-1\"><span class=\"toc-item-num\">1&nbsp;&nbsp;</span>Linearity of x vs y</a></div><div class=\"lev2 toc-item\"><a href=\"#Harvey-Collier-multiplier-test-for-linearity\" data-toc-modified-id=\"Harvey-Collier-multiplier-test-for-linearity-11\"><span class=\"toc-item-num\">1.1&nbsp;&nbsp;</span>Harvey-Collier multiplier test for linearity</a></div><div class=\"lev1 toc-item\"><a href=\"#No-Outliers-and-No-High-Leverage-Points\" data-toc-modified-id=\"No-Outliers-and-No-High-Leverage-Points-2\"><span class=\"toc-item-num\">2&nbsp;&nbsp;</span>No Outliers and No High-Leverage Points</a></div><div class=\"lev1 toc-item\"><a href=\"#Mean-of-Residuals\" data-toc-modified-id=\"Mean-of-Residuals-3\"><span class=\"toc-item-num\">3&nbsp;&nbsp;</span>Mean of Residuals</a></div><div class=\"lev1 toc-item\"><a href=\"#Equal-variances-of-Error-Terms-(Homoscedasticity-)\" data-toc-modified-id=\"Equal-variances-of-Error-Terms-(Homoscedasticity-)-4\"><span class=\"toc-item-num\">4&nbsp;&nbsp;</span>Equal variances of Error Terms (Homoscedasticity )</a></div><div class=\"lev2 toc-item\"><a href=\"#Goldfeld–Quandt-Test\" data-toc-modified-id=\"Goldfeld–Quandt-Test-41\"><span class=\"toc-item-num\">4.1&nbsp;&nbsp;</span>Goldfeld–Quandt Test</a></div><div class=\"lev2 toc-item\"><a href=\"#Breusch–Pagan-Test\" data-toc-modified-id=\"Breusch–Pagan-Test-42\"><span class=\"toc-item-num\">4.2&nbsp;&nbsp;</span>Breusch–Pagan Test</a></div><div class=\"lev2 toc-item\"><a href=\"#White-Test\" data-toc-modified-id=\"White-Test-43\"><span class=\"toc-item-num\">4.3&nbsp;&nbsp;</span>White Test</a></div><div class=\"lev2 toc-item\"><a href=\"#Bartlett-Test\" data-toc-modified-id=\"Bartlett-Test-44\"><span class=\"toc-item-num\">4.4&nbsp;&nbsp;</span>Bartlett Test</a></div><div class=\"lev2 toc-item\"><a href=\"#Levene-Test\" data-toc-modified-id=\"Levene-Test-45\"><span class=\"toc-item-num\">4.5&nbsp;&nbsp;</span>Levene Test</a></div><div class=\"lev1 toc-item\"><a href=\"#Check-for-Normality-of-error-terms/residuals\" data-toc-modified-id=\"Check-for-Normality-of-error-terms/residuals-5\"><span class=\"toc-item-num\">5&nbsp;&nbsp;</span>Check for Normality of error terms/residuals</a></div><div class=\"lev1 toc-item\"><a href=\"#No-autocorrelation-of-residuals\" data-toc-modified-id=\"No-autocorrelation-of-residuals-6\"><span class=\"toc-item-num\">6&nbsp;&nbsp;</span>No autocorrelation of residuals</a></div><div class=\"lev1 toc-item\"><a href=\"#No-perfect-multicollinearity\" data-toc-modified-id=\"No-perfect-multicollinearity-7\"><span class=\"toc-item-num\">7&nbsp;&nbsp;</span>No perfect multicollinearity</a></div>"
   ]
  },
  {
   "cell_type": "markdown",
   "metadata": {
    "deletable": true,
    "editable": true
   },
   "source": [
    "https://www.kaggle.com/shrutimechlearn/step-by-step-assumptions-linear-regression"
   ]
  },
  {
   "cell_type": "code",
   "execution_count": 1,
   "metadata": {
    "ExecuteTime": {
     "end_time": "2019-06-23T17:23:24.564778Z",
     "start_time": "2019-06-23T17:23:23.282433Z"
    },
    "collapsed": true,
    "deletable": true,
    "editable": true
   },
   "outputs": [],
   "source": [
    "import numpy as np\n",
    "import pandas as pd\n",
    "import seaborn as sns\n",
    "sns.set()\n",
    "import matplotlib.pyplot as plt\n",
    "plt.rcParams[\"figure.figsize\"] = [10, 8]\n",
    "plt.style.use('fivethirtyeight')\n",
    "%matplotlib inline"
   ]
  },
  {
   "cell_type": "code",
   "execution_count": 2,
   "metadata": {
    "ExecuteTime": {
     "end_time": "2019-06-23T17:23:24.653851Z",
     "start_time": "2019-06-23T17:23:24.612713Z"
    },
    "collapsed": false,
    "deletable": true,
    "editable": true
   },
   "outputs": [
    {
     "name": "stdout",
     "output_type": "stream",
     "text": [
      "(100, 2)\n"
     ]
    },
    {
     "data": {
      "text/html": [
       "<div>\n",
       "<style scoped>\n",
       "    .dataframe tbody tr th:only-of-type {\n",
       "        vertical-align: middle;\n",
       "    }\n",
       "\n",
       "    .dataframe tbody tr th {\n",
       "        vertical-align: top;\n",
       "    }\n",
       "\n",
       "    .dataframe thead th {\n",
       "        text-align: right;\n",
       "    }\n",
       "</style>\n",
       "<table border=\"1\" class=\"dataframe\">\n",
       "  <thead>\n",
       "    <tr style=\"text-align: right;\">\n",
       "      <th></th>\n",
       "      <th>x</th>\n",
       "      <th>y</th>\n",
       "    </tr>\n",
       "  </thead>\n",
       "  <tbody>\n",
       "    <tr>\n",
       "      <th>0</th>\n",
       "      <td>-2.344913</td>\n",
       "      <td>-0.553881</td>\n",
       "    </tr>\n",
       "    <tr>\n",
       "      <th>1</th>\n",
       "      <td>-1.278761</td>\n",
       "      <td>-2.904648</td>\n",
       "    </tr>\n",
       "    <tr>\n",
       "      <th>98</th>\n",
       "      <td>3.108702</td>\n",
       "      <td>-4.989791</td>\n",
       "    </tr>\n",
       "    <tr>\n",
       "      <th>99</th>\n",
       "      <td>1.049333</td>\n",
       "      <td>4.007686</td>\n",
       "    </tr>\n",
       "  </tbody>\n",
       "</table>\n",
       "</div>"
      ],
      "text/plain": [
       "           x         y\n",
       "0  -2.344913 -0.553881\n",
       "1  -1.278761 -2.904648\n",
       "98  3.108702 -4.989791\n",
       "99  1.049333  4.007686"
      ]
     },
     "execution_count": 2,
     "metadata": {},
     "output_type": "execute_result"
    }
   ],
   "source": [
    "infile = \"data_1_1.csv\"\n",
    "df = pd.read_csv(infile,nrows=None,skiprows=None,sep=',')\n",
    "print(df.shape)\n",
    "df.head(2).append(df.tail(2))"
   ]
  },
  {
   "cell_type": "markdown",
   "metadata": {
    "deletable": true,
    "editable": true
   },
   "source": [
    "# Linearity of x vs y"
   ]
  },
  {
   "cell_type": "code",
   "execution_count": 3,
   "metadata": {
    "ExecuteTime": {
     "end_time": "2019-06-23T17:23:25.073975Z",
     "start_time": "2019-06-23T17:23:24.659211Z"
    },
    "collapsed": false,
    "deletable": true,
    "editable": true
   },
   "outputs": [
    {
     "name": "stderr",
     "output_type": "stream",
     "text": [
      "'c' argument looks like a single numeric RGB or RGBA sequence, which should be avoided as value-mapping will have precedence in case its length matches with 'x' & 'y'.  Please use a 2-D array with a single row if you really want to specify the same RGB or RGBA value for all points.\n"
     ]
    },
    {
     "data": {
      "text/plain": [
       "<matplotlib.axes._subplots.AxesSubplot at 0x1a1f4e3c50>"
      ]
     },
     "execution_count": 3,
     "metadata": {},
     "output_type": "execute_result"
    },
    {
     "data": {
      "image/png": "[encoded data removed]",
      "text/plain": [
       "<Figure size 432x288 with 1 Axes>"
      ]
     },
     "metadata": {
      "needs_background": "light"
     },
     "output_type": "display_data"
    }
   ],
   "source": [
    "df.plot.scatter(x='x',y='y')"
   ]
  },
  {
   "cell_type": "code",
   "execution_count": 4,
   "metadata": {
    "ExecuteTime": {
     "end_time": "2019-06-23T17:23:25.094039Z",
     "start_time": "2019-06-23T17:23:25.088600Z"
    },
    "collapsed": true,
    "deletable": true,
    "editable": true
   },
   "outputs": [],
   "source": [
    "# the data forms cone like shape in +-x directions from zero"
   ]
  },
  {
   "cell_type": "code",
   "execution_count": 5,
   "metadata": {
    "ExecuteTime": {
     "end_time": "2019-06-23T17:23:25.122828Z",
     "start_time": "2019-06-23T17:23:25.103333Z"
    },
    "collapsed": true,
    "deletable": true,
    "editable": true
   },
   "outputs": [],
   "source": [
    "# it does not look linear "
   ]
  },
  {
   "cell_type": "code",
   "execution_count": 6,
   "metadata": {
    "ExecuteTime": {
     "end_time": "2019-06-23T17:23:25.139528Z",
     "start_time": "2019-06-23T17:23:25.130464Z"
    },
    "collapsed": false,
    "deletable": true,
    "editable": true
   },
   "outputs": [
    {
     "data": {
      "text/plain": [
       "(100, 1)"
      ]
     },
     "execution_count": 6,
     "metadata": {},
     "output_type": "execute_result"
    }
   ],
   "source": [
    "x = df['x'].values.reshape(-1,1)\n",
    "y = df['y'].values.reshape(-1,1)\n",
    "x.shape"
   ]
  },
  {
   "cell_type": "code",
   "execution_count": 7,
   "metadata": {
    "ExecuteTime": {
     "end_time": "2019-06-23T17:23:25.796308Z",
     "start_time": "2019-06-23T17:23:25.142975Z"
    },
    "collapsed": true,
    "deletable": true,
    "editable": true
   },
   "outputs": [],
   "source": [
    "from sklearn.preprocessing import StandardScaler\n",
    "sc = StandardScaler()\n",
    "X = sc.fit_transform(x)"
   ]
  },
  {
   "cell_type": "code",
   "execution_count": 8,
   "metadata": {
    "ExecuteTime": {
     "end_time": "2019-06-23T17:23:25.820838Z",
     "start_time": "2019-06-23T17:23:25.798801Z"
    },
    "collapsed": true,
    "deletable": true,
    "editable": true
   },
   "outputs": [],
   "source": [
    "from sklearn.model_selection import train_test_split\n",
    "X_train, X_test, y_train, y_test = train_test_split(X, y,random_state = 0,test_size=0.25)"
   ]
  },
  {
   "cell_type": "code",
   "execution_count": 9,
   "metadata": {
    "ExecuteTime": {
     "end_time": "2019-06-23T17:23:25.893295Z",
     "start_time": "2019-06-23T17:23:25.823581Z"
    },
    "collapsed": true,
    "deletable": true,
    "editable": true
   },
   "outputs": [],
   "source": [
    "from sklearn.metrics import mean_absolute_error\n",
    "from sklearn.metrics import mean_squared_error\n",
    "from sklearn.metrics import r2_score\n",
    "from sklearn import linear_model\n",
    "\n",
    "regr = linear_model.LinearRegression()\n",
    "regr.fit(X,y)\n",
    "y_pred = regr.predict(X)"
   ]
  },
  {
   "cell_type": "code",
   "execution_count": 10,
   "metadata": {
    "ExecuteTime": {
     "end_time": "2019-06-23T17:23:25.905546Z",
     "start_time": "2019-06-23T17:23:25.895583Z"
    },
    "collapsed": false,
    "deletable": true,
    "editable": true
   },
   "outputs": [
    {
     "name": "stdout",
     "output_type": "stream",
     "text": [
      "R squared: 0.16398631228084282\n"
     ]
    }
   ],
   "source": [
    "print(\"R squared: {}\".format(r2_score(y_true=y,y_pred=y_pred)))"
   ]
  },
  {
   "cell_type": "code",
   "execution_count": 11,
   "metadata": {
    "ExecuteTime": {
     "end_time": "2019-06-23T17:23:26.161362Z",
     "start_time": "2019-06-23T17:23:25.910376Z"
    },
    "collapsed": true,
    "deletable": true,
    "editable": true
   },
   "outputs": [],
   "source": [
    "# Using sm\n",
    "import statsmodels.api as sm"
   ]
  },
  {
   "cell_type": "code",
   "execution_count": 12,
   "metadata": {
    "ExecuteTime": {
     "end_time": "2019-06-23T17:23:26.171557Z",
     "start_time": "2019-06-23T17:23:26.163449Z"
    },
    "collapsed": false,
    "deletable": true,
    "editable": true
   },
   "outputs": [
    {
     "name": "stdout",
     "output_type": "stream",
     "text": [
      "(100, 2)\n"
     ]
    },
    {
     "data": {
      "text/plain": [
       "array([[ 1.        , -2.34491337],\n",
       "       [ 1.        , -1.278761  ],\n",
       "       [ 1.        ,  0.72853363],\n",
       "       [ 1.        ,  4.0820779 ],\n",
       "       [ 1.        , -2.98318069]])"
      ]
     },
     "execution_count": 12,
     "metadata": {},
     "output_type": "execute_result"
    }
   ],
   "source": [
    "x = sm.add_constant(x)\n",
    "print(x.shape)\n",
    "x[:5]"
   ]
  },
  {
   "cell_type": "code",
   "execution_count": 13,
   "metadata": {
    "ExecuteTime": {
     "end_time": "2019-06-23T17:23:26.201522Z",
     "start_time": "2019-06-23T17:23:26.173668Z"
    },
    "collapsed": false,
    "deletable": true,
    "editable": true
   },
   "outputs": [
    {
     "data": {
      "text/html": [
       "<table class=\"simpletable\">\n",
       "<caption>OLS Regression Results</caption>\n",
       "<tr>\n",
       "  <th>Dep. Variable:</th>            <td>y</td>        <th>  R-squared:         </th> <td>   0.164</td>\n",
       "</tr>\n",
       "<tr>\n",
       "  <th>Model:</th>                   <td>OLS</td>       <th>  Adj. R-squared:    </th> <td>   0.155</td>\n",
       "</tr>\n",
       "<tr>\n",
       "  <th>Method:</th>             <td>Least Squares</td>  <th>  F-statistic:       </th> <td>   19.22</td>\n",
       "</tr>\n",
       "<tr>\n",
       "  <th>Date:</th>             <td>Sun, 23 Jun 2019</td> <th>  Prob (F-statistic):</th> <td>2.93e-05</td>\n",
       "</tr>\n",
       "<tr>\n",
       "  <th>Time:</th>                 <td>13:23:26</td>     <th>  Log-Likelihood:    </th> <td> -308.57</td>\n",
       "</tr>\n",
       "<tr>\n",
       "  <th>No. Observations:</th>      <td>   100</td>      <th>  AIC:               </th> <td>   621.1</td>\n",
       "</tr>\n",
       "<tr>\n",
       "  <th>Df Residuals:</th>          <td>    98</td>      <th>  BIC:               </th> <td>   626.3</td>\n",
       "</tr>\n",
       "<tr>\n",
       "  <th>Df Model:</th>              <td>     1</td>      <th>                     </th>     <td> </td>   \n",
       "</tr>\n",
       "<tr>\n",
       "  <th>Covariance Type:</th>      <td>nonrobust</td>    <th>                     </th>     <td> </td>   \n",
       "</tr>\n",
       "</table>\n",
       "<table class=\"simpletable\">\n",
       "<tr>\n",
       "    <td></td>       <th>coef</th>     <th>std err</th>      <th>t</th>      <th>P>|t|</th>  <th>[0.025</th>    <th>0.975]</th>  \n",
       "</tr>\n",
       "<tr>\n",
       "  <th>const</th> <td>   -0.2695</td> <td>    0.536</td> <td>   -0.503</td> <td> 0.616</td> <td>   -1.333</td> <td>    0.794</td>\n",
       "</tr>\n",
       "<tr>\n",
       "  <th>x1</th>    <td>    0.8808</td> <td>    0.201</td> <td>    4.384</td> <td> 0.000</td> <td>    0.482</td> <td>    1.279</td>\n",
       "</tr>\n",
       "</table>\n",
       "<table class=\"simpletable\">\n",
       "<tr>\n",
       "  <th>Omnibus:</th>       <td>51.887</td> <th>  Durbin-Watson:     </th> <td>   2.329</td> \n",
       "</tr>\n",
       "<tr>\n",
       "  <th>Prob(Omnibus):</th> <td> 0.000</td> <th>  Jarque-Bera (JB):  </th> <td> 472.400</td> \n",
       "</tr>\n",
       "<tr>\n",
       "  <th>Skew:</th>          <td>-1.324</td> <th>  Prob(JB):          </th> <td>2.63e-103</td>\n",
       "</tr>\n",
       "<tr>\n",
       "  <th>Kurtosis:</th>      <td>13.313</td> <th>  Cond. No.          </th> <td>    2.68</td> \n",
       "</tr>\n",
       "</table><br/><br/>Warnings:<br/>[1] Standard Errors assume that the covariance matrix of the errors is correctly specified."
      ],
      "text/plain": [
       "<class 'statsmodels.iolib.summary.Summary'>\n",
       "\"\"\"\n",
       "                            OLS Regression Results                            \n",
       "==============================================================================\n",
       "Dep. Variable:                      y   R-squared:                       0.164\n",
       "Model:                            OLS   Adj. R-squared:                  0.155\n",
       "Method:                 Least Squares   F-statistic:                     19.22\n",
       "Date:                Sun, 23 Jun 2019   Prob (F-statistic):           2.93e-05\n",
       "Time:                        13:23:26   Log-Likelihood:                -308.57\n",
       "No. Observations:                 100   AIC:                             621.1\n",
       "Df Residuals:                      98   BIC:                             626.3\n",
       "Df Model:                           1                                         \n",
       "Covariance Type:            nonrobust                                         \n",
       "==============================================================================\n",
       "                 coef    std err          t      P>|t|      [0.025      0.975]\n",
       "------------------------------------------------------------------------------\n",
       "const         -0.2695      0.536     -0.503      0.616      -1.333       0.794\n",
       "x1             0.8808      0.201      4.384      0.000       0.482       1.279\n",
       "==============================================================================\n",
       "Omnibus:                       51.887   Durbin-Watson:                   2.329\n",
       "Prob(Omnibus):                  0.000   Jarque-Bera (JB):              472.400\n",
       "Skew:                          -1.324   Prob(JB):                    2.63e-103\n",
       "Kurtosis:                      13.313   Cond. No.                         2.68\n",
       "==============================================================================\n",
       "\n",
       "Warnings:\n",
       "[1] Standard Errors assume that the covariance matrix of the errors is correctly specified.\n",
       "\"\"\""
      ]
     },
     "execution_count": 13,
     "metadata": {},
     "output_type": "execute_result"
    }
   ],
   "source": [
    "res = sm.OLS(y,x).fit()\n",
    "\n",
    "res.summary()"
   ]
  },
  {
   "cell_type": "code",
   "execution_count": 14,
   "metadata": {
    "ExecuteTime": {
     "end_time": "2019-06-23T17:23:26.206915Z",
     "start_time": "2019-06-23T17:23:26.203870Z"
    },
    "collapsed": true,
    "deletable": true,
    "editable": true
   },
   "outputs": [],
   "source": [
    "y_pred = res.predict()"
   ]
  },
  {
   "cell_type": "code",
   "execution_count": 15,
   "metadata": {
    "ExecuteTime": {
     "end_time": "2019-06-23T17:23:26.216484Z",
     "start_time": "2019-06-23T17:23:26.209197Z"
    },
    "collapsed": true,
    "deletable": true,
    "editable": true
   },
   "outputs": [],
   "source": [
    "resids = res.resid"
   ]
  },
  {
   "cell_type": "code",
   "execution_count": 16,
   "metadata": {
    "ExecuteTime": {
     "end_time": "2019-06-23T17:23:26.486624Z",
     "start_time": "2019-06-23T17:23:26.218952Z"
    },
    "collapsed": false,
    "deletable": true,
    "editable": true
   },
   "outputs": [
    {
     "data": {
      "text/plain": [
       "[<matplotlib.lines.Line2D at 0x1c217427b8>]"
      ]
     },
     "execution_count": 16,
     "metadata": {},
     "output_type": "execute_result"
    },
    {
     "data": {
      "image/png": "[encoded data removed]",
      "text/plain": [
       "<Figure size 432x288 with 1 Axes>"
      ]
     },
     "metadata": {
      "needs_background": "light"
     },
     "output_type": "display_data"
    }
   ],
   "source": [
    "plt.plot(resids,'.')"
   ]
  },
  {
   "cell_type": "code",
   "execution_count": 17,
   "metadata": {
    "ExecuteTime": {
     "end_time": "2019-06-23T17:23:26.661173Z",
     "start_time": "2019-06-23T17:23:26.488759Z"
    },
    "collapsed": false,
    "deletable": true,
    "editable": true
   },
   "outputs": [
    {
     "data": {
      "text/plain": [
       "[<matplotlib.lines.Line2D at 0x1c217a36d8>]"
      ]
     },
     "execution_count": 17,
     "metadata": {},
     "output_type": "execute_result"
    },
    {
     "data": {
      "image/png": "[encoded data removed]",
      "text/plain": [
       "<Figure size 432x288 with 1 Axes>"
      ]
     },
     "metadata": {
      "needs_background": "light"
     },
     "output_type": "display_data"
    }
   ],
   "source": [
    "# check predict vs error\n",
    "plt.plot(y_pred,resids,'.')"
   ]
  },
  {
   "cell_type": "code",
   "execution_count": 18,
   "metadata": {
    "ExecuteTime": {
     "end_time": "2019-06-23T17:23:27.029495Z",
     "start_time": "2019-06-23T17:23:26.663026Z"
    },
    "collapsed": false,
    "deletable": true,
    "editable": true
   },
   "outputs": [
    {
     "data": {
      "image/png": "[encoded data removed]",
      "text/plain": [
       "<Figure size 432x288 with 1 Axes>"
      ]
     },
     "metadata": {
      "needs_background": "light"
     },
     "output_type": "display_data"
    }
   ],
   "source": [
    "from scipy import stats\n",
    "\n",
    "stats.probplot(x[:,1], dist=\"norm\", plot=plt)\n",
    "plt.show()"
   ]
  },
  {
   "cell_type": "markdown",
   "metadata": {
    "deletable": true,
    "editable": true
   },
   "source": [
    "## Harvey-Collier multiplier test for linearity"
   ]
  },
  {
   "cell_type": "code",
   "execution_count": 19,
   "metadata": {
    "ExecuteTime": {
     "end_time": "2019-06-23T17:23:27.035897Z",
     "start_time": "2019-06-23T17:23:27.032080Z"
    },
    "collapsed": true,
    "deletable": true,
    "editable": true
   },
   "outputs": [],
   "source": [
    "import statsmodels.stats.api as sms\n",
    "from statsmodels.compat import lzip\n",
    "from scipy import stats"
   ]
  },
  {
   "cell_type": "code",
   "execution_count": 20,
   "metadata": {
    "ExecuteTime": {
     "end_time": "2019-06-23T17:23:27.055345Z",
     "start_time": "2019-06-23T17:23:27.040310Z"
    },
    "collapsed": false,
    "deletable": true,
    "editable": true
   },
   "outputs": [
    {
     "data": {
      "text/plain": [
       "[('t value', 0.8383355666410092), ('p value', 0.40392477295969664)]"
      ]
     },
     "execution_count": 20,
     "metadata": {},
     "output_type": "execute_result"
    }
   ],
   "source": [
    "name = ['t value', 'p value']\n",
    "test = sms.linear_harvey_collier(res)\n",
    "lzip(name, test)"
   ]
  },
  {
   "cell_type": "markdown",
   "metadata": {
    "deletable": true,
    "editable": true
   },
   "source": [
    "# No Outliers and No High-Leverage Points"
   ]
  },
  {
   "cell_type": "code",
   "execution_count": 21,
   "metadata": {
    "ExecuteTime": {
     "end_time": "2019-06-23T17:23:27.310895Z",
     "start_time": "2019-06-23T17:23:27.058005Z"
    },
    "collapsed": false,
    "deletable": true,
    "editable": true
   },
   "outputs": [
    {
     "data": {
      "text/plain": [
       "[<matplotlib.lines.Line2D at 0x1c21930240>]"
      ]
     },
     "execution_count": 21,
     "metadata": {},
     "output_type": "execute_result"
    },
    {
     "data": {
      "image/png": "[encoded data removed]",
      "text/plain": [
       "<Figure size 432x288 with 1 Axes>"
      ]
     },
     "metadata": {
      "needs_background": "light"
     },
     "output_type": "display_data"
    }
   ],
   "source": [
    "plt.plot(x[:,1],y,'.')"
   ]
  },
  {
   "cell_type": "markdown",
   "metadata": {
    "deletable": true,
    "editable": true
   },
   "source": [
    "# Mean of Residuals"
   ]
  },
  {
   "cell_type": "code",
   "execution_count": 22,
   "metadata": {
    "ExecuteTime": {
     "end_time": "2019-06-23T17:23:27.335482Z",
     "start_time": "2019-06-23T17:23:27.323207Z"
    },
    "collapsed": false,
    "deletable": true,
    "editable": true
   },
   "outputs": [
    {
     "data": {
      "text/plain": [
       "-8.881784197001253e-17"
      ]
     },
     "execution_count": 22,
     "metadata": {},
     "output_type": "execute_result"
    }
   ],
   "source": [
    "resids.mean()"
   ]
  },
  {
   "cell_type": "markdown",
   "metadata": {
    "deletable": true,
    "editable": true
   },
   "source": [
    "# Equal variances of Error Terms (Homoscedasticity )\n",
    "Homescedasticity means the errors exhibit constant variance. This is a key assumption of linear regression. Heteroscedasticity, on the other hand, is what happens when errors show some sort of growth. The tell tale sign you have heteroscedasticity is a fan-like shape in your residual plot.\n",
    "\n",
    "\n",
    "\n",
    "**From statsmodels \n",
    "http://www.statsmodels.org/stable/diagnostic.html\n",
    "\n",
    "In many cases of statistical analysis, we are not sure whether our statistical model is correctly specified. For example when using ols, then linearity and homoscedasticity are assumed, some test statistics additionally assume that the errors are normally distributed or that we have a large sample. Since our results depend on these statistical assumptions, the results are only correct of our assumptions hold (at least approximately).\n",
    "\n",
    "One solution to the problem of uncertainty about the correct specification is to use robust methods, for example robust regression or robust covariance (sandwich) estimators. The second approach is to test whether our sample is consistent with these assumptions.\n",
    "\n",
    "The following briefly summarizes specification and diagnostics tests for linear regression.\n",
    "\n",
    "**Heteroscedasticity Tests**   \n",
    "For these test the null hypothesis is that all observations have the same error variance, i.e. errors are homoscedastic. The tests differ in which kind of heteroscedasticity is considered as alternative hypothesis. They also vary in the power of the test for different types of heteroscedasticity.\n",
    "\n",
    "- [het_breuschpagan](http://www.statsmodels.org/stable/generated/statsmodels.stats.diagnostic.het_breuschpagan.html#statsmodels.stats.diagnostic.het_breuschpagan)\n",
    "  Lagrange Multiplier Heteroscedasticity Test by Breusch-Pagan\n",
    "- [het_white](http://www.statsmodels.org/stable/generated/statsmodels.stats.diagnostic.het_white.html#statsmodels.stats.diagnostic.het_white)\n",
    "    Lagrange Multiplier Heteroscedasticity Test by White\n",
    "- [het_goldfeldquandt](http://www.statsmodels.org/stable/generated/statsmodels.stats.diagnostic.het_goldfeldquandt.html#statsmodels.stats.diagnostic.het_goldfeldquandt)\n",
    "    test whether variance is the same in 2 subsamples\n",
    "\n",
    "Tests in regression\n",
    "- Bartlett's test\n",
    "- Levene's test\n",
    "- Goldfeld–Quandt test\n",
    "- Park test\n",
    "- Glejser test\n",
    "- Brown–Forsythe test\n",
    "- Harrison–McCabe test\n",
    "- Breusch–Pagan test\n",
    "- White test\n",
    "- Cook–Weisberg test\n",
    "\n",
    "```\n",
    "Using python:\n",
    "statsmodels: Goldfeld–Quandt test, Breusch–Pagan test, White test\n",
    "scipy.stats: Bartlett's test, Levene's test\n",
    "```\n",
    "\n",
    "Checking heteroscedasticity : Using Goldfeld Quandt we test for heteroscedasticity.  \n",
    "\n",
    "Null Hypothesis: Error terms are homoscedastic  \n",
    "Alternative Hypothesis: Error terms are heteroscedastic.\n",
    "\n",
    "**Example** \n",
    "A classic example of heteroscedasticity is that of income versus expenditure on meals. As one's income increases, the variability of food consumption will increase. A poorer person will spend a rather constant amount by always eating inexpensive food; a wealthier person may occasionally buy inexpensive food and at other times eat expensive meals. Those with higher incomes display a greater variability of food consumption.\n",
    "\n",
    "\n",
    "**Fixes**  \n",
    "https://www.wikiwand.com/en/Heteroscedasticity  \n",
    "\n",
    "There are four common corrections for heteroscedasticity. They are:\n",
    "\n",
    "- View logarithmized data. Non-logarithmized series that are growing exponentially often appear to have increasing variability as the series rises over time. The variability in percentage terms may, however, be rather stable.\n",
    "- Use a different specification for the model (different X variables, or perhaps non-linear transformations of the X variables).\n",
    "- Apply a weighted least squares estimation method, in which OLS is applied to transformed or weighted values of X and Y. The weights vary over observations, usually depending on the changing error variances. In one variation the weights are directly related to the magnitude of the dependent variable, and this corresponds to least squares percentage regression.[17]\n",
    "- Heteroscedasticity-consistent standard errors (HCSE), while still biased, improve upon OLS estimates.[5] HCSE is a consistent estimator of standard errors in regression models with heteroscedasticity. This method corrects for heteroscedasticity without altering the values of the coefficients. This method may be superior to regular OLS because if heteroscedasticity is present it corrects for it, however, if the data is homoscedastic, the standard errors are equivalent to conventional standard errors estimated by OLS. Several modifications of the White method of computing heteroscedasticity-consistent standard errors have been proposed as corrections with superior finite sample properties.\n",
    "- Use MINQUE or even the customary estimators  \n",
    "$$\n",
    "s_{i}^{2}=\\left(n_{i}-1\\right)^{-1} \\sum_{j}\\left(y_{i j}-\\overline{y}_{i}\\right)^{2}\n",
    "$$\n",
    "(for  i = 1,2,...,k} independent samples with  j=1,2,...,n_i observations each),  whose efficiency losses are not substantial when the number of observations per sample is large ({ n_{i}>5}), especially for small number of independent samples.\n"
   ]
  },
  {
   "cell_type": "markdown",
   "metadata": {
    "deletable": true,
    "editable": true
   },
   "source": [
    "If the P-value is less than (or equal to) alpha , then the null hypothesis is rejected in favor of the alternative hypothesis. And, if the P-value is greater than , then the null hypothesis is not rejected."
   ]
  },
  {
   "cell_type": "markdown",
   "metadata": {
    "deletable": true,
    "editable": true
   },
   "source": [
    "## Goldfeld–Quandt Test"
   ]
  },
  {
   "cell_type": "code",
   "execution_count": 40,
   "metadata": {
    "ExecuteTime": {
     "end_time": "2019-06-23T17:26:57.787069Z",
     "start_time": "2019-06-23T17:26:57.771454Z"
    },
    "collapsed": false,
    "deletable": true,
    "editable": true
   },
   "outputs": [
    {
     "name": "stdout",
     "output_type": "stream",
     "text": [
      "[('Lagrange multiplier statistic', 0.7440349335668989), ('p-value', 0.8454386103076834), ('f-value', 'increasing')]\n",
      "p-value =  0.8454386103076834\n"
     ]
    },
    {
     "data": {
      "text/html": [
       "<div>\n",
       "<style scoped>\n",
       "    .dataframe tbody tr th:only-of-type {\n",
       "        vertical-align: middle;\n",
       "    }\n",
       "\n",
       "    .dataframe tbody tr th {\n",
       "        vertical-align: top;\n",
       "    }\n",
       "\n",
       "    .dataframe thead th {\n",
       "        text-align: right;\n",
       "    }\n",
       "</style>\n",
       "<table border=\"1\" class=\"dataframe\">\n",
       "  <thead>\n",
       "    <tr style=\"text-align: right;\">\n",
       "      <th></th>\n",
       "      <th>0</th>\n",
       "      <th>1</th>\n",
       "    </tr>\n",
       "  </thead>\n",
       "  <tbody>\n",
       "    <tr>\n",
       "      <th>0</th>\n",
       "      <td>Lagrange multiplier statistic</td>\n",
       "      <td>0.744035</td>\n",
       "    </tr>\n",
       "    <tr>\n",
       "      <th>1</th>\n",
       "      <td>p-value</td>\n",
       "      <td>0.845439</td>\n",
       "    </tr>\n",
       "    <tr>\n",
       "      <th>2</th>\n",
       "      <td>f-value</td>\n",
       "      <td>increasing</td>\n",
       "    </tr>\n",
       "  </tbody>\n",
       "</table>\n",
       "</div>"
      ],
      "text/plain": [
       "                               0           1\n",
       "0  Lagrange multiplier statistic    0.744035\n",
       "1                        p-value    0.845439\n",
       "2                        f-value  increasing"
      ]
     },
     "execution_count": 40,
     "metadata": {},
     "output_type": "execute_result"
    }
   ],
   "source": [
    "name = ['F statistic', 'p-value']\n",
    "\n",
    "test = sms.het_goldfeldquandt(resids, x)\n",
    "\n",
    "outputs = lzip(name1, test)\n",
    "print(outputs)\n",
    "\n",
    "p_gold = outputs[1][1]\n",
    "print('p-value = ', p_gold)\n",
    "\n",
    "pd.DataFrame(outputs)\n",
    "\n",
    "# we always want p-value < 0.05 to reject null hyp at 95% conf level\n",
    "# if p-value is less than 0.05 null hypothesis that data has equal variance is\n",
    "# violated and we have problem of heteroskedasticity."
   ]
  },
  {
   "cell_type": "markdown",
   "metadata": {
    "deletable": true,
    "editable": true
   },
   "source": [
    "## Breusch–Pagan Test\n",
    "Breusch-Pagan Lagrange Multiplier test for heteroscedasticity\n",
    "\n",
    "The tests the hypothesis that the residual variance does not depend on the variables in x in the form\n",
    "\n",
    "$$\n",
    "sigma_i = sigma * f(alpha_0 + alpha z_i)\n",
    "$$\n",
    "\n",
    "Homoscedasticity implies that $alpha=0$"
   ]
  },
  {
   "cell_type": "code",
   "execution_count": 41,
   "metadata": {
    "ExecuteTime": {
     "end_time": "2019-06-23T17:27:59.636928Z",
     "start_time": "2019-06-23T17:27:59.624848Z"
    },
    "collapsed": false,
    "deletable": true,
    "editable": true
   },
   "outputs": [
    {
     "name": "stdout",
     "output_type": "stream",
     "text": [
      "p-value =  0.08172435758204045\n"
     ]
    },
    {
     "data": {
      "text/plain": [
       "[('F statistic', 3.030271158838982), ('p-value', 0.08172435758204045)]"
      ]
     },
     "execution_count": 41,
     "metadata": {},
     "output_type": "execute_result"
    }
   ],
   "source": [
    "test = sms.het_breuschpagan(res.resid, res.model.exog) \n",
    "\n",
    "outputs = lzip(name, test)\n",
    "\n",
    "p_pagan = outputs[1][1]\n",
    "print('p-value = ', p_pagan)\n",
    "outputs"
   ]
  },
  {
   "cell_type": "markdown",
   "metadata": {
    "deletable": true,
    "editable": true
   },
   "source": [
    "## White Test\n",
    "White’s Lagrange Multiplier Test for Heteroscedasticity"
   ]
  },
  {
   "cell_type": "code",
   "execution_count": 42,
   "metadata": {
    "ExecuteTime": {
     "end_time": "2019-06-23T17:28:33.855670Z",
     "start_time": "2019-06-23T17:28:33.803303Z"
    },
    "collapsed": false,
    "deletable": true,
    "editable": true
   },
   "outputs": [
    {
     "name": "stdout",
     "output_type": "stream",
     "text": [
      "p-value =  0.00989192340464606\n"
     ]
    },
    {
     "data": {
      "text/plain": [
       "[('F statistic', 9.232073345028969), ('p-value', 0.00989192340464606)]"
      ]
     },
     "execution_count": 42,
     "metadata": {},
     "output_type": "execute_result"
    }
   ],
   "source": [
    "test = sms.het_white(res.resid, res.model.exog)\n",
    "outputs = lzip(name, test)\n",
    "\n",
    "p_white = outputs[1][1]\n",
    "print('p-value = ', p_white)\n",
    "outputs"
   ]
  },
  {
   "cell_type": "markdown",
   "metadata": {
    "deletable": true,
    "editable": true
   },
   "source": [
    "## Bartlett Test\n",
    "Perform Bartlett’s test for equal variances\n",
    "\n",
    "Bartlett’s test tests the null hypothesis that all input samples are from populations with equal variances. For samples from significantly non-normal populations, Levene’s test `levene`_ is more robust."
   ]
  },
  {
   "cell_type": "code",
   "execution_count": 48,
   "metadata": {
    "ExecuteTime": {
     "end_time": "2019-06-23T17:31:28.827266Z",
     "start_time": "2019-06-23T17:31:28.809521Z"
    },
    "collapsed": false,
    "deletable": true,
    "editable": true
   },
   "outputs": [
    {
     "name": "stdout",
     "output_type": "stream",
     "text": [
      "p-value =  4.70348160010305e-11\n",
      "BartlettResult(statistic=43.29681641699685, pvalue=4.70348160010305e-11)\n"
     ]
    }
   ],
   "source": [
    "outputs = stats.bartlett(x[:,1],resids)\n",
    "p_bartlett = outputs.pvalue\n",
    "\n",
    "print('p-value = ', p_bartlett)\n",
    "print(outputs)"
   ]
  },
  {
   "cell_type": "code",
   "execution_count": 43,
   "metadata": {
    "ExecuteTime": {
     "end_time": "2019-06-23T17:29:31.562824Z",
     "start_time": "2019-06-23T17:29:31.547382Z"
    },
    "collapsed": true,
    "deletable": true,
    "editable": true
   },
   "outputs": [],
   "source": [
    "#stats.bartlett(x,resids) # use only x[:,1]  first column value"
   ]
  },
  {
   "cell_type": "markdown",
   "metadata": {
    "deletable": true,
    "editable": true
   },
   "source": [
    "## Levene Test\n",
    "The Levene test tests the null hypothesis that all input samples are from populations with equal variances. Levene’s test is an alternative to Bartlett’s test bartlett in the case where there are significant deviations from normality."
   ]
  },
  {
   "cell_type": "code",
   "execution_count": 49,
   "metadata": {
    "ExecuteTime": {
     "end_time": "2019-06-23T17:32:14.245648Z",
     "start_time": "2019-06-23T17:32:14.237928Z"
    },
    "collapsed": false,
    "deletable": true,
    "editable": true
   },
   "outputs": [
    {
     "name": "stdout",
     "output_type": "stream",
     "text": [
      "p-value =  0.03635075814492131\n",
      "LeveneResult(statistic=4.440694374282156, pvalue=0.03635075814492131)\n"
     ]
    }
   ],
   "source": [
    "outputs = stats.levene(x[:,1],resids)\n",
    "p_levene = outputs.pvalue\n",
    "\n",
    "print('p-value = ', p_levene)\n",
    "print(outputs)"
   ]
  },
  {
   "cell_type": "code",
   "execution_count": 50,
   "metadata": {
    "ExecuteTime": {
     "end_time": "2019-06-23T17:32:22.637110Z",
     "start_time": "2019-06-23T17:32:22.631712Z"
    },
    "collapsed": true,
    "deletable": true,
    "editable": true
   },
   "outputs": [],
   "source": [
    "# stats.levene(x,resids) # ValueError: setting an array element with a sequence."
   ]
  },
  {
   "cell_type": "code",
   "execution_count": 58,
   "metadata": {
    "ExecuteTime": {
     "end_time": "2019-06-23T17:37:33.509868Z",
     "start_time": "2019-06-23T17:37:33.489707Z"
    },
    "collapsed": false,
    "deletable": true,
    "editable": true
   },
   "outputs": [
    {
     "data": {
      "text/html": [
       "<div>\n",
       "<style scoped>\n",
       "    .dataframe tbody tr th:only-of-type {\n",
       "        vertical-align: middle;\n",
       "    }\n",
       "\n",
       "    .dataframe tbody tr th {\n",
       "        vertical-align: top;\n",
       "    }\n",
       "\n",
       "    .dataframe thead th {\n",
       "        text-align: right;\n",
       "    }\n",
       "</style>\n",
       "<table border=\"1\" class=\"dataframe\">\n",
       "  <thead>\n",
       "    <tr style=\"text-align: right;\">\n",
       "      <th></th>\n",
       "      <th>p_value</th>\n",
       "      <th>alpha</th>\n",
       "      <th>p_value_less_alpha</th>\n",
       "    </tr>\n",
       "  </thead>\n",
       "  <tbody>\n",
       "    <tr>\n",
       "      <th>Goldfeld–Quandt</th>\n",
       "      <td>8.454386e-01</td>\n",
       "      <td>0.05</td>\n",
       "      <td>False</td>\n",
       "    </tr>\n",
       "    <tr>\n",
       "      <th>Breusch–Pagan</th>\n",
       "      <td>8.172436e-02</td>\n",
       "      <td>0.05</td>\n",
       "      <td>False</td>\n",
       "    </tr>\n",
       "    <tr>\n",
       "      <th>White</th>\n",
       "      <td>9.891923e-03</td>\n",
       "      <td>0.05</td>\n",
       "      <td>True</td>\n",
       "    </tr>\n",
       "    <tr>\n",
       "      <th>Bartlett</th>\n",
       "      <td>4.703482e-11</td>\n",
       "      <td>0.05</td>\n",
       "      <td>True</td>\n",
       "    </tr>\n",
       "    <tr>\n",
       "      <th>Levene</th>\n",
       "      <td>3.635076e-02</td>\n",
       "      <td>0.05</td>\n",
       "      <td>True</td>\n",
       "    </tr>\n",
       "  </tbody>\n",
       "</table>\n",
       "</div>"
      ],
      "text/plain": [
       "                      p_value  alpha  p_value_less_alpha\n",
       "Goldfeld–Quandt  8.454386e-01   0.05               False\n",
       "Breusch–Pagan    8.172436e-02   0.05               False\n",
       "White            9.891923e-03   0.05                True\n",
       "Bartlett         4.703482e-11   0.05                True\n",
       "Levene           3.635076e-02   0.05                True"
      ]
     },
     "execution_count": 58,
     "metadata": {},
     "output_type": "execute_result"
    }
   ],
   "source": [
    "p_values = pd.DataFrame({'Goldfeld–Quandt': [p_gold], 'Breusch–Pagan': [p_pagan],\n",
    "                         'White': [p_white],\n",
    "                         'Bartlett': [p_bartlett], 'Levene': [p_levene]}).T\n",
    "p_values.columns = ['p_value']\n",
    "p_values['alpha'] = 0.05\n",
    "p_values['p_value_less_alpha'] = p_values['p_value'] < 0.05\n",
    "\n",
    "p_values"
   ]
  },
  {
   "cell_type": "markdown",
   "metadata": {
    "deletable": true,
    "editable": true
   },
   "source": [
    "# Check for Normality of error terms/residuals"
   ]
  },
  {
   "cell_type": "code",
   "execution_count": 30,
   "metadata": {
    "ExecuteTime": {
     "end_time": "2019-06-23T17:23:27.806988Z",
     "start_time": "2019-06-23T17:23:27.446140Z"
    },
    "collapsed": false,
    "deletable": true,
    "editable": true
   },
   "outputs": [
    {
     "name": "stderr",
     "output_type": "stream",
     "text": [
      "/Users/poudel/miniconda3/envs/dataSc/lib/python3.7/site-packages/scipy/stats/stats.py:1713: FutureWarning: Using a non-tuple sequence for multidimensional indexing is deprecated; use `arr[tuple(seq)]` instead of `arr[seq]`. In the future this will be interpreted as an array index, `arr[np.array(seq)]`, which will result either in an error or a different result.\n",
      "  return np.add.reduce(sorted[indexer] * weights, axis=axis) / sumval\n"
     ]
    },
    {
     "data": {
      "image/png": "[encoded data removed]",
      "text/plain": [
       "<Figure size 432x288 with 1 Axes>"
      ]
     },
     "metadata": {
      "needs_background": "light"
     },
     "output_type": "display_data"
    }
   ],
   "source": [
    "p = sns.distplot(resids,kde=True)\n",
    "p = plt.title('Normality of error terms/residuals')"
   ]
  },
  {
   "cell_type": "markdown",
   "metadata": {
    "deletable": true,
    "editable": true
   },
   "source": [
    "# No autocorrelation of residuals"
   ]
  },
  {
   "cell_type": "code",
   "execution_count": 31,
   "metadata": {
    "ExecuteTime": {
     "end_time": "2019-06-23T17:23:28.074574Z",
     "start_time": "2019-06-23T17:23:27.809795Z"
    },
    "collapsed": false,
    "deletable": true,
    "editable": true
   },
   "outputs": [
    {
     "data": {
      "image/png": "[encoded data removed]",
      "text/plain": [
       "<Figure size 720x360 with 1 Axes>"
      ]
     },
     "metadata": {
      "needs_background": "light"
     },
     "output_type": "display_data"
    }
   ],
   "source": [
    "plt.figure(figsize=(10,5))\n",
    "plt.plot(y_pred,resids,'.')\n",
    "plt.xlabel('y_pred/predicted values')\n",
    "plt.ylabel('Residuals')\n",
    "\n",
    "plt.axhline(c='r')\n",
    "p = plt.title('Residuals vs fitted values plot for autocorrelation check')"
   ]
  },
  {
   "cell_type": "markdown",
   "metadata": {
    "deletable": true,
    "editable": true
   },
   "source": [
    "Checking for autocorrelation To ensure the absence of autocorrelation we use Ljungbox test.  \n",
    "Null Hypothesis: Autocorrelation is absent.  \n",
    "Alternative Hypothesis: Autocorrelation is present.  "
   ]
  },
  {
   "cell_type": "code",
   "execution_count": 32,
   "metadata": {
    "ExecuteTime": {
     "end_time": "2019-06-23T17:23:28.092229Z",
     "start_time": "2019-06-23T17:23:28.080361Z"
    },
    "collapsed": false,
    "deletable": true,
    "editable": true
   },
   "outputs": [
    {
     "data": {
      "text/plain": [
       "0.01203580332825726"
      ]
     },
     "execution_count": 32,
     "metadata": {},
     "output_type": "execute_result"
    }
   ],
   "source": [
    "from statsmodels.stats import diagnostic as diag\n",
    "min(diag.acorr_ljungbox(resids , lags = 40)[1])\n",
    "\n",
    "# Since p value is NOT more than 0.05 we  reject the null hypothesis that\n",
    "# error terms are not autocorrelated. Bad."
   ]
  },
  {
   "cell_type": "code",
   "execution_count": 33,
   "metadata": {
    "ExecuteTime": {
     "end_time": "2019-06-23T17:23:28.335573Z",
     "start_time": "2019-06-23T17:23:28.095102Z"
    },
    "collapsed": false,
    "deletable": true,
    "editable": true
   },
   "outputs": [
    {
     "data": {
      "image/png": "[encoded data removed]",
      "text/plain": [
       "<Figure size 432x288 with 1 Axes>"
      ]
     },
     "metadata": {
      "needs_background": "light"
     },
     "output_type": "display_data"
    }
   ],
   "source": [
    "# autocorrelation\n",
    "sm.graphics.tsa.plot_acf(resids, lags=40)\n",
    "plt.show()"
   ]
  },
  {
   "cell_type": "code",
   "execution_count": 34,
   "metadata": {
    "ExecuteTime": {
     "end_time": "2019-06-23T17:23:28.625342Z",
     "start_time": "2019-06-23T17:23:28.338789Z"
    },
    "collapsed": false,
    "deletable": true,
    "editable": true
   },
   "outputs": [
    {
     "data": {
      "image/png": "[encoded data removed]",
      "text/plain": [
       "<Figure size 432x288 with 1 Axes>"
      ]
     },
     "metadata": {
      "needs_background": "light"
     },
     "output_type": "display_data"
    }
   ],
   "source": [
    "# partial autocorrelation\n",
    "sm.graphics.tsa.plot_pacf(resids, lags=40)\n",
    "plt.show()"
   ]
  },
  {
   "cell_type": "markdown",
   "metadata": {
    "collapsed": true,
    "deletable": true,
    "editable": true
   },
   "source": [
    "# No perfect multicollinearity"
   ]
  },
  {
   "cell_type": "code",
   "execution_count": 35,
   "metadata": {
    "ExecuteTime": {
     "end_time": "2019-06-23T17:23:28.635232Z",
     "start_time": "2019-06-23T17:23:28.630392Z"
    },
    "collapsed": true,
    "deletable": true,
    "editable": true
   },
   "outputs": [],
   "source": [
    "# there is just one feature, no multi-collinearlity exists."
   ]
  },
  {
   "cell_type": "code",
   "execution_count": null,
   "metadata": {
    "collapsed": true
   },
   "outputs": [],
   "source": []
  }
 ],
 "metadata": {
  "kernelspec": {
   "display_name": "Python 3",
   "language": "python",
   "name": "python3"
  },
  "language_info": {
   "codemirror_mode": {
    "name": "ipython",
    "version": 3
   },
   "file_extension": ".py",
   "mimetype": "text/x-python",
   "name": "python",
   "nbconvert_exporter": "python",
   "pygments_lexer": "ipython3",
   "version": "3.6.0"
  },
  "toc": {
   "base_numbering": 1,
   "colors": {
    "hover_highlight": "#DAA520",
    "navigate_num": "#000000",
    "navigate_text": "#333333",
    "running_highlight": "#FF0000",
    "selected_highlight": "#FFD700",
    "sidebar_border": "#EEEEEE",
    "wrapper_background": "#FFFFFF"
   },
   "moveMenuLeft": true,
   "nav_menu": {
    "height": "153px",
    "width": "252px"
   },
   "navigate_menu": true,
   "number_sections": true,
   "sideBar": true,
   "skip_h1_title": false,
   "threshold": 4,
   "title_cell": "Table of Contents",
   "title_sidebar": "Contents",
   "toc_cell": true,
   "toc_position": {},
   "toc_section_display": "block",
   "toc_window_display": true,
   "widenNotebook": false
  }
 },
 "nbformat": 4,
 "nbformat_minor": 2
}
