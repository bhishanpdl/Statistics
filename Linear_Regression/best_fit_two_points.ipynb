{
 "cells": [
  {
   "cell_type": "markdown",
   "metadata": {
    "toc": true
   },
   "source": [
    "<h1>Table of Contents<span class=\"tocSkip\"></span></h1>\n",
    "<div class=\"toc\"><ul class=\"toc-item\"><li><span><a href=\"#Example-2\" data-toc-modified-id=\"Example-2-1\"><span class=\"toc-item-num\">1&nbsp;&nbsp;</span>Example 2</a></span></li></ul></div>"
   ]
  },
  {
   "cell_type": "code",
   "execution_count": 1,
   "metadata": {
    "ExecuteTime": {
     "end_time": "2019-06-23T00:54:10.964919Z",
     "start_time": "2019-06-23T00:54:09.600672Z"
    }
   },
   "outputs": [],
   "source": [
    "import numpy as np\n",
    "import pandas as pd\n",
    "import seaborn as sns\n",
    "sns.set()"
   ]
  },
  {
   "cell_type": "code",
   "execution_count": 17,
   "metadata": {
    "ExecuteTime": {
     "end_time": "2019-06-23T01:03:38.867335Z",
     "start_time": "2019-06-23T01:03:38.864488Z"
    }
   },
   "outputs": [],
   "source": [
    "x = [8,2,11,6,5,4,12,9,6,1]\n",
    "y = [3,10,3,6,8,12,1,4,9,14]"
   ]
  },
  {
   "cell_type": "code",
   "execution_count": 23,
   "metadata": {
    "ExecuteTime": {
     "end_time": "2019-06-23T01:06:13.391315Z",
     "start_time": "2019-06-23T01:06:13.372919Z"
    }
   },
   "outputs": [
    {
     "data": {
      "text/html": [
       "<div>\n",
       "<style scoped>\n",
       "    .dataframe tbody tr th:only-of-type {\n",
       "        vertical-align: middle;\n",
       "    }\n",
       "\n",
       "    .dataframe tbody tr th {\n",
       "        vertical-align: top;\n",
       "    }\n",
       "\n",
       "    .dataframe thead th {\n",
       "        text-align: right;\n",
       "    }\n",
       "</style>\n",
       "<table border=\"1\" class=\"dataframe\">\n",
       "  <thead>\n",
       "    <tr style=\"text-align: right;\">\n",
       "      <th></th>\n",
       "      <th>x</th>\n",
       "      <th>y</th>\n",
       "      <th>x_xbar</th>\n",
       "      <th>y_ybar</th>\n",
       "      <th>(x_xbar)(y_ybar)</th>\n",
       "      <th>(x_xbar)**2</th>\n",
       "    </tr>\n",
       "  </thead>\n",
       "  <tbody>\n",
       "    <tr>\n",
       "      <th>0</th>\n",
       "      <td>8</td>\n",
       "      <td>3</td>\n",
       "      <td>1.6</td>\n",
       "      <td>-4.0</td>\n",
       "      <td>-6.4</td>\n",
       "      <td>2.56</td>\n",
       "    </tr>\n",
       "    <tr>\n",
       "      <th>1</th>\n",
       "      <td>2</td>\n",
       "      <td>10</td>\n",
       "      <td>-4.4</td>\n",
       "      <td>3.0</td>\n",
       "      <td>-13.2</td>\n",
       "      <td>19.36</td>\n",
       "    </tr>\n",
       "    <tr>\n",
       "      <th>2</th>\n",
       "      <td>11</td>\n",
       "      <td>3</td>\n",
       "      <td>4.6</td>\n",
       "      <td>-4.0</td>\n",
       "      <td>-18.4</td>\n",
       "      <td>21.16</td>\n",
       "    </tr>\n",
       "    <tr>\n",
       "      <th>3</th>\n",
       "      <td>6</td>\n",
       "      <td>6</td>\n",
       "      <td>-0.4</td>\n",
       "      <td>-1.0</td>\n",
       "      <td>0.4</td>\n",
       "      <td>0.16</td>\n",
       "    </tr>\n",
       "    <tr>\n",
       "      <th>4</th>\n",
       "      <td>5</td>\n",
       "      <td>8</td>\n",
       "      <td>-1.4</td>\n",
       "      <td>1.0</td>\n",
       "      <td>-1.4</td>\n",
       "      <td>1.96</td>\n",
       "    </tr>\n",
       "    <tr>\n",
       "      <th>5</th>\n",
       "      <td>4</td>\n",
       "      <td>12</td>\n",
       "      <td>-2.4</td>\n",
       "      <td>5.0</td>\n",
       "      <td>-12.0</td>\n",
       "      <td>5.76</td>\n",
       "    </tr>\n",
       "    <tr>\n",
       "      <th>6</th>\n",
       "      <td>12</td>\n",
       "      <td>1</td>\n",
       "      <td>5.6</td>\n",
       "      <td>-6.0</td>\n",
       "      <td>-33.6</td>\n",
       "      <td>31.36</td>\n",
       "    </tr>\n",
       "    <tr>\n",
       "      <th>7</th>\n",
       "      <td>9</td>\n",
       "      <td>4</td>\n",
       "      <td>2.6</td>\n",
       "      <td>-3.0</td>\n",
       "      <td>-7.8</td>\n",
       "      <td>6.76</td>\n",
       "    </tr>\n",
       "    <tr>\n",
       "      <th>8</th>\n",
       "      <td>6</td>\n",
       "      <td>9</td>\n",
       "      <td>-0.4</td>\n",
       "      <td>2.0</td>\n",
       "      <td>-0.8</td>\n",
       "      <td>0.16</td>\n",
       "    </tr>\n",
       "    <tr>\n",
       "      <th>9</th>\n",
       "      <td>1</td>\n",
       "      <td>14</td>\n",
       "      <td>-5.4</td>\n",
       "      <td>7.0</td>\n",
       "      <td>-37.8</td>\n",
       "      <td>29.16</td>\n",
       "    </tr>\n",
       "  </tbody>\n",
       "</table>\n",
       "</div>"
      ],
      "text/plain": [
       "    x   y  x_xbar  y_ybar  (x_xbar)(y_ybar)  (x_xbar)**2\n",
       "0   8   3     1.6    -4.0              -6.4         2.56\n",
       "1   2  10    -4.4     3.0             -13.2        19.36\n",
       "2  11   3     4.6    -4.0             -18.4        21.16\n",
       "3   6   6    -0.4    -1.0               0.4         0.16\n",
       "4   5   8    -1.4     1.0              -1.4         1.96\n",
       "5   4  12    -2.4     5.0             -12.0         5.76\n",
       "6  12   1     5.6    -6.0             -33.6        31.36\n",
       "7   9   4     2.6    -3.0              -7.8         6.76\n",
       "8   6   9    -0.4     2.0              -0.8         0.16\n",
       "9   1  14    -5.4     7.0             -37.8        29.16"
      ]
     },
     "execution_count": 23,
     "metadata": {},
     "output_type": "execute_result"
    }
   ],
   "source": [
    "df = pd.DataFrame({'x': x, 'y': y})\n",
    "\n",
    "df['x_xbar'] = df.x - df.x.mean()\n",
    "df['y_ybar'] = df.y - df.y.mean()\n",
    "df['(x_xbar)(y_ybar)'] = df['x_xbar'] * df['y_ybar']\n",
    "df['(x_xbar)**2'] = df['x_xbar'] ** 2\n",
    "\n",
    "df"
   ]
  },
  {
   "cell_type": "code",
   "execution_count": 24,
   "metadata": {
    "ExecuteTime": {
     "end_time": "2019-06-23T01:06:15.008862Z",
     "start_time": "2019-06-23T01:06:14.993773Z"
    }
   },
   "outputs": [
    {
     "data": {
      "text/plain": [
       "x                   6.400000e+01\n",
       "y                   7.000000e+01\n",
       "x_xbar             -3.552714e-15\n",
       "y_ybar              0.000000e+00\n",
       "(x_xbar)(y_ybar)   -1.310000e+02\n",
       "(x_xbar)**2         1.184000e+02\n",
       "dtype: float64"
      ]
     },
     "execution_count": 24,
     "metadata": {},
     "output_type": "execute_result"
    }
   ],
   "source": [
    "df.sum(0)"
   ]
  },
  {
   "cell_type": "markdown",
   "metadata": {},
   "source": [
    "$$\n",
    "m=\\frac{\\sum_{i=1}^{n}\\left(x_{i}-\\overline{X}\\right)\\left(y_{i}-\\overline{Y}\\right)}{\\sum_{i=1}^{n}\\left(x_{i}-\\overline{X}\\right)^{2}}=\\frac{-131}{118.4} \\approx-1.1\n",
    "$$"
   ]
  },
  {
   "cell_type": "code",
   "execution_count": 28,
   "metadata": {
    "ExecuteTime": {
     "end_time": "2019-06-23T01:06:53.085512Z",
     "start_time": "2019-06-23T01:06:53.075678Z"
    }
   },
   "outputs": [
    {
     "data": {
      "text/plain": [
       "-1.106418918918919"
      ]
     },
     "execution_count": 28,
     "metadata": {},
     "output_type": "execute_result"
    }
   ],
   "source": [
    "m = df['(x_xbar)(y_ybar)'].sum() / df['(x_xbar)**2'].sum()\n",
    "m"
   ]
  },
  {
   "cell_type": "markdown",
   "metadata": {},
   "source": [
    "$$\n",
    "\\begin{aligned} b &=\\overline{Y}-m \\overline{X} \\\\ &=7-(-1.1 \\times 6.4) \\\\ &=7+7.04 \\\\ & \\approx 14.0 \\end{aligned}\n",
    "$$"
   ]
  },
  {
   "cell_type": "code",
   "execution_count": 29,
   "metadata": {
    "ExecuteTime": {
     "end_time": "2019-06-23T01:07:39.038789Z",
     "start_time": "2019-06-23T01:07:39.029145Z"
    }
   },
   "outputs": [
    {
     "data": {
      "text/plain": [
       "14.081081081081082"
      ]
     },
     "execution_count": 29,
     "metadata": {},
     "output_type": "execute_result"
    }
   ],
   "source": [
    "b = df['y'].mean() - m * df['x'].mean()\n",
    "b"
   ]
  },
  {
   "cell_type": "code",
   "execution_count": 30,
   "metadata": {
    "ExecuteTime": {
     "end_time": "2019-06-23T01:08:21.302424Z",
     "start_time": "2019-06-23T01:08:21.299732Z"
    }
   },
   "outputs": [],
   "source": [
    "# y = mx + b\n",
    "# y = -1.106 x + 14.081"
   ]
  },
  {
   "cell_type": "markdown",
   "metadata": {},
   "source": [
    "# Example 2"
   ]
  },
  {
   "cell_type": "code",
   "execution_count": 35,
   "metadata": {
    "ExecuteTime": {
     "end_time": "2019-06-23T01:30:52.729870Z",
     "start_time": "2019-06-23T01:30:52.718218Z"
    }
   },
   "outputs": [
    {
     "name": "stdout",
     "output_type": "stream",
     "text": [
      "   x  y  x_xbar  y_ybar  (x_xbar)(y_ybar)  (x_xbar)**2\n",
      "0  2  3     0.0     1.0               0.0          0.0\n",
      "1  2  1     0.0    -1.0              -0.0          0.0\n"
     ]
    }
   ],
   "source": [
    "x = [2,2]\n",
    "y = [3,1]\n",
    "\n",
    "df = pd.DataFrame({'x': x, 'y': y})\n",
    "\n",
    "df['x_xbar'] = df.x - df.x.mean()\n",
    "df['y_ybar'] = df.y - df.y.mean()\n",
    "df['(x_xbar)(y_ybar)'] = df['x_xbar'] * df['y_ybar']\n",
    "df['(x_xbar)**2'] = df['x_xbar'] ** 2\n",
    "\n",
    "print(df)\n",
    "m = df['(x_xbar)(y_ybar)'].sum() / df['(x_xbar)**2'].sum()\n",
    "b = df['y'].mean() - m * df['x'].mean()\n",
    "m,b"
   ]
  },
  {
   "cell_type": "code",
   "execution_count": null,
   "metadata": {},
   "outputs": [],
   "source": []
  }
 ],
 "metadata": {
  "kernelspec": {
   "display_name": "Python (dataSc)",
   "language": "python",
   "name": "datasc"
  },
  "language_info": {
   "codemirror_mode": {
    "name": "ipython",
    "version": 3
   },
   "file_extension": ".py",
   "mimetype": "text/x-python",
   "name": "python",
   "nbconvert_exporter": "python",
   "pygments_lexer": "ipython3",
   "version": "3.7.0"
  },
  "toc": {
   "base_numbering": 1,
   "nav_menu": {},
   "number_sections": true,
   "sideBar": true,
   "skip_h1_title": false,
   "title_cell": "Table of Contents",
   "title_sidebar": "Contents",
   "toc_cell": true,
   "toc_position": {},
   "toc_section_display": true,
   "toc_window_display": true
  }
 },
 "nbformat": 4,
 "nbformat_minor": 2
}
