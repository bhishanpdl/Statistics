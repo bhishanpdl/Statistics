{
 "cells": [
  {
   "cell_type": "markdown",
   "metadata": {
    "toc": true
   },
   "source": [
    "<h1>Table of Contents<span class=\"tocSkip\"></span></h1>\n",
    "<div class=\"toc\"><ul class=\"toc-item\"><li><span><a href=\"#qn1\" data-toc-modified-id=\"qn1-1\"><span class=\"toc-item-num\">1&nbsp;&nbsp;</span>qn1</a></span></li><li><span><a href=\"#qn-2\" data-toc-modified-id=\"qn-2-2\"><span class=\"toc-item-num\">2&nbsp;&nbsp;</span>qn 2</a></span></li><li><span><a href=\"#qn3\" data-toc-modified-id=\"qn3-3\"><span class=\"toc-item-num\">3&nbsp;&nbsp;</span>qn3</a></span></li><li><span><a href=\"#qn4\" data-toc-modified-id=\"qn4-4\"><span class=\"toc-item-num\">4&nbsp;&nbsp;</span>qn4</a></span></li><li><span><a href=\"#qn-5\" data-toc-modified-id=\"qn-5-5\"><span class=\"toc-item-num\">5&nbsp;&nbsp;</span>qn 5</a></span></li><li><span><a href=\"#qn-6\" data-toc-modified-id=\"qn-6-6\"><span class=\"toc-item-num\">6&nbsp;&nbsp;</span>qn 6</a></span></li><li><span><a href=\"#qn-7\" data-toc-modified-id=\"qn-7-7\"><span class=\"toc-item-num\">7&nbsp;&nbsp;</span>qn 7</a></span></li><li><span><a href=\"#qn8\" data-toc-modified-id=\"qn8-8\"><span class=\"toc-item-num\">8&nbsp;&nbsp;</span>qn8</a></span></li><li><span><a href=\"#qn9\" data-toc-modified-id=\"qn9-9\"><span class=\"toc-item-num\">9&nbsp;&nbsp;</span>qn9</a></span></li><li><span><a href=\"#qn-10\" data-toc-modified-id=\"qn-10-10\"><span class=\"toc-item-num\">10&nbsp;&nbsp;</span>qn 10</a></span></li><li><span><a href=\"#qn-11\" data-toc-modified-id=\"qn-11-11\"><span class=\"toc-item-num\">11&nbsp;&nbsp;</span>qn 11</a></span></li><li><span><a href=\"#qn-12\" data-toc-modified-id=\"qn-12-12\"><span class=\"toc-item-num\">12&nbsp;&nbsp;</span>qn 12</a></span></li><li><span><a href=\"#qn-13\" data-toc-modified-id=\"qn-13-13\"><span class=\"toc-item-num\">13&nbsp;&nbsp;</span>qn 13</a></span></li><li><span><a href=\"#qn-14\" data-toc-modified-id=\"qn-14-14\"><span class=\"toc-item-num\">14&nbsp;&nbsp;</span>qn 14</a></span></li><li><span><a href=\"#qn-15\" data-toc-modified-id=\"qn-15-15\"><span class=\"toc-item-num\">15&nbsp;&nbsp;</span>qn 15</a></span></li><li><span><a href=\"#qn-16\" data-toc-modified-id=\"qn-16-16\"><span class=\"toc-item-num\">16&nbsp;&nbsp;</span>qn 16</a></span></li><li><span><a href=\"#qn-18\" data-toc-modified-id=\"qn-18-17\"><span class=\"toc-item-num\">17&nbsp;&nbsp;</span>qn 18</a></span></li></ul></div>"
   ]
  },
  {
   "cell_type": "code",
   "execution_count": 35,
   "metadata": {
    "ExecuteTime": {
     "end_time": "2019-06-26T01:10:40.066582Z",
     "start_time": "2019-06-26T01:10:40.060748Z"
    }
   },
   "outputs": [],
   "source": [
    "import numpy as np\n",
    "import pandas as pd\n",
    "import seaborn as sns\n",
    "sns.set()\n",
    "\n",
    "import matplotlib.pyplot as plt\n",
    "plt.rcParams[\"figure.figsize\"] = [10, 8]\n",
    "plt.style.use('fivethirtyeight')\n",
    "%matplotlib inline\n",
    "\n",
    "import scipy\n",
    "import scipy.stats as stats\n",
    "\n",
    "import statsmodels.api as sm\n",
    "import statsmodels.formula.api as smf\n",
    "import statsmodels.graphics as smg\n",
    "\n",
    "pd.set_option('display.max_columns',99)"
   ]
  },
  {
   "cell_type": "markdown",
   "metadata": {},
   "source": [
    "**NBA Wages - practical** \n",
    "\n",
    "\n",
    "In this part we are going to investigate the factors which affect NBA players’ wages,\n",
    "as a means to helping us understand multiple regression analysis. The dataset we are\n",
    "going to use is prebuilt into Gretl, and comes from Jeffrey Wooldridge’s great textbook,\n",
    "’Introductory Econometrics’. In order to load the dataset, navigate to File → Open data\n",
    "→ Sample file... Then select the Wooldridge tab (if you can see it - if you cannot I will\n",
    "explain how to access this in a minute) and open the ’nbasal’ dataset. If you cannot see\n",
    "the Wooldridge tab you may need to go to:\n",
    "\n",
    "http://gretl.sourceforge.net/gretl_data.html#jw\n",
    "and download the wooldridge data.exe or wooldridge.tar.gz file (I recommend the\n",
    "former method because it handles the installation for you). Alternatively, you can\n",
    "load in the sample dataset from clicking on the ’Look on server’ button at the top of\n",
    "the sample datasets box. Alternatively, I have provided a link to download a .xls file\n",
    "containing the dataset on: (however note that this data is missing the descriptive labels\n",
    "of the native Wooldridge Gretl file)\n",
    "http://www.oxbridge-tutor.co.uk/#!datasets/culy\n",
    "The data contains demographic and position information for a sample of 269 players.\n",
    "The descriptive labels which are next to the variables contain descriptions of the series,\n",
    "and are a good idea for when you go on to do your own projects as they help you to\n",
    "keep track of variables.\n"
   ]
  },
  {
   "cell_type": "code",
   "execution_count": 2,
   "metadata": {
    "ExecuteTime": {
     "end_time": "2019-06-26T00:31:53.740000Z",
     "start_time": "2019-06-26T00:31:53.615387Z"
    }
   },
   "outputs": [
    {
     "name": "stdout",
     "output_type": "stream",
     "text": [
      "nbasal.xls      problemset1.xls\r\n"
     ]
    }
   ],
   "source": [
    "!ls *.xls"
   ]
  },
  {
   "cell_type": "code",
   "execution_count": 3,
   "metadata": {
    "ExecuteTime": {
     "end_time": "2019-06-26T00:31:53.806910Z",
     "start_time": "2019-06-26T00:31:53.742882Z"
    }
   },
   "outputs": [
    {
     "name": "stdout",
     "output_type": "stream",
     "text": [
      "(269, 23)\n"
     ]
    },
    {
     "data": {
      "text/html": [
       "<div>\n",
       "<style scoped>\n",
       "    .dataframe tbody tr th:only-of-type {\n",
       "        vertical-align: middle;\n",
       "    }\n",
       "\n",
       "    .dataframe tbody tr th {\n",
       "        vertical-align: top;\n",
       "    }\n",
       "\n",
       "    .dataframe thead th {\n",
       "        text-align: right;\n",
       "    }\n",
       "</style>\n",
       "<table border=\"1\" class=\"dataframe\">\n",
       "  <thead>\n",
       "    <tr style=\"text-align: right;\">\n",
       "      <th></th>\n",
       "      <th>ID</th>\n",
       "      <th>marr</th>\n",
       "      <th>wage</th>\n",
       "      <th>exper</th>\n",
       "      <th>age</th>\n",
       "      <th>coll</th>\n",
       "      <th>games</th>\n",
       "      <th>minutes</th>\n",
       "      <th>guard</th>\n",
       "      <th>forward</th>\n",
       "      <th>center</th>\n",
       "      <th>points</th>\n",
       "      <th>rebounds</th>\n",
       "      <th>assists</th>\n",
       "      <th>draft</th>\n",
       "      <th>allstar</th>\n",
       "      <th>avgmin</th>\n",
       "      <th>lwage</th>\n",
       "      <th>black</th>\n",
       "      <th>children</th>\n",
       "      <th>expersq</th>\n",
       "      <th>agesq</th>\n",
       "      <th>marrblck</th>\n",
       "    </tr>\n",
       "  </thead>\n",
       "  <tbody>\n",
       "    <tr>\n",
       "      <th>0</th>\n",
       "      <td>1</td>\n",
       "      <td>1</td>\n",
       "      <td>1002.5</td>\n",
       "      <td>4</td>\n",
       "      <td>27</td>\n",
       "      <td>4</td>\n",
       "      <td>77</td>\n",
       "      <td>2867</td>\n",
       "      <td>1</td>\n",
       "      <td>0</td>\n",
       "      <td>0</td>\n",
       "      <td>16</td>\n",
       "      <td>4</td>\n",
       "      <td>5</td>\n",
       "      <td>19.0</td>\n",
       "      <td>0</td>\n",
       "      <td>37.23</td>\n",
       "      <td>6.91</td>\n",
       "      <td>1</td>\n",
       "      <td>0</td>\n",
       "      <td>16</td>\n",
       "      <td>729</td>\n",
       "      <td>1</td>\n",
       "    </tr>\n",
       "    <tr>\n",
       "      <th>1</th>\n",
       "      <td>2</td>\n",
       "      <td>1</td>\n",
       "      <td>2030.0</td>\n",
       "      <td>5</td>\n",
       "      <td>28</td>\n",
       "      <td>4</td>\n",
       "      <td>78</td>\n",
       "      <td>2789</td>\n",
       "      <td>1</td>\n",
       "      <td>0</td>\n",
       "      <td>0</td>\n",
       "      <td>13</td>\n",
       "      <td>3</td>\n",
       "      <td>9</td>\n",
       "      <td>28.0</td>\n",
       "      <td>0</td>\n",
       "      <td>35.76</td>\n",
       "      <td>7.62</td>\n",
       "      <td>1</td>\n",
       "      <td>1</td>\n",
       "      <td>25</td>\n",
       "      <td>784</td>\n",
       "      <td>1</td>\n",
       "    </tr>\n",
       "    <tr>\n",
       "      <th>2</th>\n",
       "      <td>3</td>\n",
       "      <td>0</td>\n",
       "      <td>650.0</td>\n",
       "      <td>1</td>\n",
       "      <td>25</td>\n",
       "      <td>4</td>\n",
       "      <td>74</td>\n",
       "      <td>1149</td>\n",
       "      <td>0</td>\n",
       "      <td>0</td>\n",
       "      <td>1</td>\n",
       "      <td>6</td>\n",
       "      <td>3</td>\n",
       "      <td>0</td>\n",
       "      <td>19.0</td>\n",
       "      <td>0</td>\n",
       "      <td>15.53</td>\n",
       "      <td>6.48</td>\n",
       "      <td>1</td>\n",
       "      <td>0</td>\n",
       "      <td>1</td>\n",
       "      <td>625</td>\n",
       "      <td>0</td>\n",
       "    </tr>\n",
       "    <tr>\n",
       "      <th>3</th>\n",
       "      <td>4</td>\n",
       "      <td>0</td>\n",
       "      <td>2030.0</td>\n",
       "      <td>5</td>\n",
       "      <td>28</td>\n",
       "      <td>4</td>\n",
       "      <td>47</td>\n",
       "      <td>1178</td>\n",
       "      <td>0</td>\n",
       "      <td>1</td>\n",
       "      <td>0</td>\n",
       "      <td>7</td>\n",
       "      <td>5</td>\n",
       "      <td>2</td>\n",
       "      <td>1.0</td>\n",
       "      <td>0</td>\n",
       "      <td>25.06</td>\n",
       "      <td>7.62</td>\n",
       "      <td>1</td>\n",
       "      <td>0</td>\n",
       "      <td>25</td>\n",
       "      <td>784</td>\n",
       "      <td>0</td>\n",
       "    </tr>\n",
       "    <tr>\n",
       "      <th>4</th>\n",
       "      <td>5</td>\n",
       "      <td>0</td>\n",
       "      <td>755.0</td>\n",
       "      <td>3</td>\n",
       "      <td>24</td>\n",
       "      <td>4</td>\n",
       "      <td>82</td>\n",
       "      <td>2096</td>\n",
       "      <td>1</td>\n",
       "      <td>0</td>\n",
       "      <td>0</td>\n",
       "      <td>11</td>\n",
       "      <td>4</td>\n",
       "      <td>3</td>\n",
       "      <td>24.0</td>\n",
       "      <td>0</td>\n",
       "      <td>25.56</td>\n",
       "      <td>6.63</td>\n",
       "      <td>1</td>\n",
       "      <td>0</td>\n",
       "      <td>9</td>\n",
       "      <td>576</td>\n",
       "      <td>0</td>\n",
       "    </tr>\n",
       "  </tbody>\n",
       "</table>\n",
       "</div>"
      ],
      "text/plain": [
       "   ID  marr    wage  exper  age  coll  games  minutes  guard  forward  center  \\\n",
       "0   1     1  1002.5      4   27     4     77     2867      1        0       0   \n",
       "1   2     1  2030.0      5   28     4     78     2789      1        0       0   \n",
       "2   3     0   650.0      1   25     4     74     1149      0        0       1   \n",
       "3   4     0  2030.0      5   28     4     47     1178      0        1       0   \n",
       "4   5     0   755.0      3   24     4     82     2096      1        0       0   \n",
       "\n",
       "   points  rebounds  assists  draft  allstar  avgmin  lwage  black  children  \\\n",
       "0      16         4        5   19.0        0   37.23   6.91      1         0   \n",
       "1      13         3        9   28.0        0   35.76   7.62      1         1   \n",
       "2       6         3        0   19.0        0   15.53   6.48      1         0   \n",
       "3       7         5        2    1.0        0   25.06   7.62      1         0   \n",
       "4      11         4        3   24.0        0   25.56   6.63      1         0   \n",
       "\n",
       "   expersq  agesq  marrblck  \n",
       "0       16    729         1  \n",
       "1       25    784         1  \n",
       "2        1    625         0  \n",
       "3       25    784         0  \n",
       "4        9    576         0  "
      ]
     },
     "execution_count": 3,
     "metadata": {},
     "output_type": "execute_result"
    }
   ],
   "source": [
    "df = pd.read_excel('nbasal.xls')\n",
    "print(df.shape)\n",
    "df.head()"
   ]
  },
  {
   "cell_type": "markdown",
   "metadata": {},
   "source": [
    "# qn1\n",
    "\n",
    "Draw a boxplot for the players’ wages. (If you don’t know how to do a given plot\n",
    "etc. then consult the user manual by clicking the ’Help’ menu). Which way are the\n",
    "players’ wages skewed? Towards infinity or zero?"
   ]
  },
  {
   "cell_type": "code",
   "execution_count": 4,
   "metadata": {
    "ExecuteTime": {
     "end_time": "2019-06-26T00:31:53.922668Z",
     "start_time": "2019-06-26T00:31:53.809586Z"
    }
   },
   "outputs": [
    {
     "data": {
      "text/plain": [
       "<matplotlib.axes._subplots.AxesSubplot at 0x1a2350e8d0>"
      ]
     },
     "execution_count": 4,
     "metadata": {},
     "output_type": "execute_result"
    },
    {
     "data": {
      "image/png": "[encoded data removed]",
      "text/plain": [
       "<Figure size 432x288 with 1 Axes>"
      ]
     },
     "metadata": {
      "needs_background": "light"
     },
     "output_type": "display_data"
    }
   ],
   "source": [
    "df.wage.plot(kind='box')"
   ]
  },
  {
   "cell_type": "code",
   "execution_count": 5,
   "metadata": {
    "ExecuteTime": {
     "end_time": "2019-06-26T00:31:53.928027Z",
     "start_time": "2019-06-26T00:31:53.924535Z"
    }
   },
   "outputs": [],
   "source": [
    "# the wage data is +ve skewed"
   ]
  },
  {
   "cell_type": "code",
   "execution_count": 6,
   "metadata": {
    "ExecuteTime": {
     "end_time": "2019-06-26T00:31:54.078983Z",
     "start_time": "2019-06-26T00:31:53.930348Z"
    }
   },
   "outputs": [
    {
     "data": {
      "text/plain": [
       "<matplotlib.axes._subplots.AxesSubplot at 0x1a237ef198>"
      ]
     },
     "execution_count": 6,
     "metadata": {},
     "output_type": "execute_result"
    },
    {
     "data": {
      "image/png": "[encoded data removed]",
      "text/plain": [
       "<Figure size 432x288 with 1 Axes>"
      ]
     },
     "metadata": {
      "needs_background": "light"
     },
     "output_type": "display_data"
    }
   ],
   "source": [
    "df.wage.plot(style='.')"
   ]
  },
  {
   "cell_type": "code",
   "execution_count": 7,
   "metadata": {
    "ExecuteTime": {
     "end_time": "2019-06-26T00:31:54.227867Z",
     "start_time": "2019-06-26T00:31:54.081008Z"
    }
   },
   "outputs": [
    {
     "data": {
      "text/plain": [
       "<matplotlib.axes._subplots.AxesSubplot at 0x1a238e27b8>"
      ]
     },
     "execution_count": 7,
     "metadata": {},
     "output_type": "execute_result"
    },
    {
     "data": {
      "image/png": "[encoded data removed]",
      "text/plain": [
       "<Figure size 432x288 with 1 Axes>"
      ]
     },
     "metadata": {
      "needs_background": "light"
     },
     "output_type": "display_data"
    }
   ],
   "source": [
    "df.wage.plot(kind='kde')"
   ]
  },
  {
   "cell_type": "code",
   "execution_count": 8,
   "metadata": {
    "ExecuteTime": {
     "end_time": "2019-06-26T00:31:54.243806Z",
     "start_time": "2019-06-26T00:31:54.230934Z"
    }
   },
   "outputs": [
    {
     "data": {
      "text/plain": [
       "0.9568107387333451"
      ]
     },
     "execution_count": 8,
     "metadata": {},
     "output_type": "execute_result"
    }
   ],
   "source": [
    "scipy.stats.skew(df.wage)"
   ]
  },
  {
   "cell_type": "markdown",
   "metadata": {},
   "source": [
    "# qn 2\n",
    "Let’s investigate the relationships between variables in our dataset.  \n",
    "In practice if two variables are highly correlated with one another,\n",
    "then we may run into the problems caused by multicollinearity. \n",
    "\n",
    "This will make it hard for ordinary least\n",
    "squares to decipher the effect of one variable from another in a regression model.\n",
    "\n",
    "\n",
    "One way of investigating the relationships is via their correlation. \n",
    "\n",
    "Are there any variables that are particularly highly correlated with\n",
    "experience? What would be the issue of including both of these measures in a\n",
    "regression with wages as the dependent variable?"
   ]
  },
  {
   "cell_type": "code",
   "execution_count": 11,
   "metadata": {
    "ExecuteTime": {
     "end_time": "2019-06-26T00:32:58.685097Z",
     "start_time": "2019-06-26T00:32:58.675168Z"
    }
   },
   "outputs": [
    {
     "data": {
      "text/plain": [
       "draft      -0.362531\n",
       "guard      -0.124664\n",
       "coll       -0.105632\n",
       "ID          0.015450\n",
       "forward     0.051110\n",
       "black       0.076822\n",
       "center      0.096684\n",
       "marrblck    0.151423\n",
       "marr        0.158117\n",
       "children    0.165735\n",
       "games       0.303766\n",
       "assists     0.328193\n",
       "agesq       0.339300\n",
       "age         0.342444\n",
       "expersq     0.345839\n",
       "allstar     0.397333\n",
       "exper       0.409176\n",
       "rebounds    0.540872\n",
       "minutes     0.563374\n",
       "avgmin      0.621789\n",
       "points      0.657027\n",
       "lwage       0.893839\n",
       "wage        1.000000\n",
       "Name: wage, dtype: float64"
      ]
     },
     "execution_count": 11,
     "metadata": {},
     "output_type": "execute_result"
    }
   ],
   "source": [
    "df.corr()['wage'].sort_values()"
   ]
  },
  {
   "cell_type": "code",
   "execution_count": 16,
   "metadata": {
    "ExecuteTime": {
     "end_time": "2019-06-26T00:36:49.392479Z",
     "start_time": "2019-06-26T00:36:47.365142Z"
    }
   },
   "outputs": [
    {
     "data": {
      "text/plain": [
       "<matplotlib.axes._subplots.AxesSubplot at 0x1a2464b748>"
      ]
     },
     "execution_count": 16,
     "metadata": {},
     "output_type": "execute_result"
    },
    {
     "data": {
      "image/png": "[encoded data removed]",
      "text/plain": [
       "<Figure size 864x864 with 2 Axes>"
      ]
     },
     "metadata": {
      "needs_background": "light"
     },
     "output_type": "display_data"
    }
   ],
   "source": [
    "plt.figure(figsize=(12,12))\n",
    "sns.heatmap(df.corr(),annot=True)"
   ]
  },
  {
   "cell_type": "markdown",
   "metadata": {
    "ExecuteTime": {
     "end_time": "2019-06-26T00:35:06.101383Z",
     "start_time": "2019-06-26T00:35:06.077728Z"
    }
   },
   "source": [
    "From the various experience bivariate correlations, it is clear that age (as you might\n",
    "expect) is highly correlated with experience. The issue with including both of these\n",
    "variables in an OLS regression is due to the high level of multicollinearity amongst\n",
    "them. Intuitively, OLS is going to struggle to disentangle the effect of experience\n",
    "from age on players’ wages. This will be realised by a large estimated standard\n",
    "error for both coefficients, and perhaps a lack of individual significance."
   ]
  },
  {
   "cell_type": "markdown",
   "metadata": {},
   "source": [
    "# qn3\n",
    "Another useful aspect of a correlation matrix is that it can give you a feel for which\n",
    "variables are correlated with your dependent variable. Which variables (other than\n",
    "the log of wages), show the highest correlation with wages?"
   ]
  },
  {
   "cell_type": "markdown",
   "metadata": {},
   "source": [
    "A number of variables are quite highly correlated with wages, having a correlation\n",
    "over 0.3: experience, age, games, minutes, points, rebounds, assists, draft, allstar,\n",
    "avgmin, and trivially lwage, expersq, agesq."
   ]
  },
  {
   "cell_type": "code",
   "execution_count": 18,
   "metadata": {
    "ExecuteTime": {
     "end_time": "2019-06-26T00:46:17.598846Z",
     "start_time": "2019-06-26T00:46:17.589242Z"
    }
   },
   "outputs": [
    {
     "data": {
      "text/plain": [
       "draft      -0.362531\n",
       "games       0.303766\n",
       "assists     0.328193\n",
       "agesq       0.339300\n",
       "age         0.342444\n",
       "expersq     0.345839\n",
       "allstar     0.397333\n",
       "exper       0.409176\n",
       "rebounds    0.540872\n",
       "minutes     0.563374\n",
       "avgmin      0.621789\n",
       "points      0.657027\n",
       "lwage       0.893839\n",
       "wage        1.000000\n",
       "Name: wage, dtype: float64"
      ]
     },
     "execution_count": 18,
     "metadata": {},
     "output_type": "execute_result"
    }
   ],
   "source": [
    "wage_corr = df.corr()['wage'].sort_values()\n",
    "wage_corr[ abs(wage_corr) > 0.3]"
   ]
  },
  {
   "cell_type": "markdown",
   "metadata": {},
   "source": [
    "# qn4\n",
    "Graphically investigate whether players who are more experienced earn more.\n",
    "How strong is the correlation between these two variables?\n",
    "\n",
    "\n",
    "The result of an X-Y scatter is shown below. There appears to be quite a strong\n",
    "positive correlation between these two variables."
   ]
  },
  {
   "cell_type": "code",
   "execution_count": 31,
   "metadata": {
    "ExecuteTime": {
     "end_time": "2019-06-26T01:03:09.656831Z",
     "start_time": "2019-06-26T01:03:09.347113Z"
    }
   },
   "outputs": [
    {
     "name": "stderr",
     "output_type": "stream",
     "text": [
      "/Users/poudel/miniconda3/envs/dataSc/lib/python3.7/site-packages/scipy/stats/stats.py:1713: FutureWarning: Using a non-tuple sequence for multidimensional indexing is deprecated; use `arr[tuple(seq)]` instead of `arr[seq]`. In the future this will be interpreted as an array index, `arr[np.array(seq)]`, which will result either in an error or a different result.\n",
      "  return np.add.reduce(sorted[indexer] * weights, axis=axis) / sumval\n"
     ]
    },
    {
     "data": {
      "image/png": "[encoded data removed]",
      "text/plain": [
       "<Figure size 432x288 with 1 Axes>"
      ]
     },
     "metadata": {
      "needs_background": "light"
     },
     "output_type": "display_data"
    }
   ],
   "source": [
    "p = sns.regplot(x='exper',y='wage',data=df)\n",
    "slope, intercept, r_value, p_value, std_err = scipy.stats.linregress(x=p.get_lines()[0].get_xdata(),y=p.get_lines()[0].get_ydata())\n",
    "\n",
    "text = 'y = {:.2g}x + {:.2g}'.format(slope, intercept)\n",
    "\n",
    "plt.title(text);"
   ]
  },
  {
   "cell_type": "markdown",
   "metadata": {},
   "source": [
    "# qn 5\n",
    "Create an ordinary least squares model which investigates how experience affects\n",
    "a player’s wages."
   ]
  },
  {
   "cell_type": "code",
   "execution_count": 39,
   "metadata": {
    "ExecuteTime": {
     "end_time": "2019-06-26T01:12:22.202081Z",
     "start_time": "2019-06-26T01:12:22.171019Z"
    }
   },
   "outputs": [
    {
     "data": {
      "text/html": [
       "<table class=\"simpletable\">\n",
       "<caption>OLS Regression Results</caption>\n",
       "<tr>\n",
       "  <th>Dep. Variable:</th>          <td>wage</td>       <th>  R-squared:         </th> <td>   0.167</td>\n",
       "</tr>\n",
       "<tr>\n",
       "  <th>Model:</th>                   <td>OLS</td>       <th>  Adj. R-squared:    </th> <td>   0.164</td>\n",
       "</tr>\n",
       "<tr>\n",
       "  <th>Method:</th>             <td>Least Squares</td>  <th>  F-statistic:       </th> <td>   53.69</td>\n",
       "</tr>\n",
       "<tr>\n",
       "  <th>Date:</th>             <td>Tue, 25 Jun 2019</td> <th>  Prob (F-statistic):</th> <td>2.79e-12</td>\n",
       "</tr>\n",
       "<tr>\n",
       "  <th>Time:</th>                 <td>21:12:22</td>     <th>  Log-Likelihood:    </th> <td> -2214.7</td>\n",
       "</tr>\n",
       "<tr>\n",
       "  <th>No. Observations:</th>      <td>   269</td>      <th>  AIC:               </th> <td>   4433.</td>\n",
       "</tr>\n",
       "<tr>\n",
       "  <th>Df Residuals:</th>          <td>   267</td>      <th>  BIC:               </th> <td>   4441.</td>\n",
       "</tr>\n",
       "<tr>\n",
       "  <th>Df Model:</th>              <td>     1</td>      <th>                     </th>     <td> </td>   \n",
       "</tr>\n",
       "<tr>\n",
       "  <th>Covariance Type:</th>      <td>nonrobust</td>    <th>                     </th>     <td> </td>   \n",
       "</tr>\n",
       "</table>\n",
       "<table class=\"simpletable\">\n",
       "<tr>\n",
       "      <td></td>         <th>coef</th>     <th>std err</th>      <th>t</th>      <th>P>|t|</th>  <th>[0.025</th>    <th>0.975]</th>  \n",
       "</tr>\n",
       "<tr>\n",
       "  <th>Intercept</th> <td>  807.9317</td> <td>  100.847</td> <td>    8.011</td> <td> 0.000</td> <td>  609.375</td> <td> 1006.489</td>\n",
       "</tr>\n",
       "<tr>\n",
       "  <th>exper</th>     <td>  120.3166</td> <td>   16.420</td> <td>    7.327</td> <td> 0.000</td> <td>   87.988</td> <td>  152.646</td>\n",
       "</tr>\n",
       "</table>\n",
       "<table class=\"simpletable\">\n",
       "<tr>\n",
       "  <th>Omnibus:</th>       <td>49.179</td> <th>  Durbin-Watson:     </th> <td>   2.056</td>\n",
       "</tr>\n",
       "<tr>\n",
       "  <th>Prob(Omnibus):</th> <td> 0.000</td> <th>  Jarque-Bera (JB):  </th> <td>  86.742</td>\n",
       "</tr>\n",
       "<tr>\n",
       "  <th>Skew:</th>          <td> 0.990</td> <th>  Prob(JB):          </th> <td>1.46e-19</td>\n",
       "</tr>\n",
       "<tr>\n",
       "  <th>Kurtosis:</th>      <td> 4.954</td> <th>  Cond. No.          </th> <td>    11.3</td>\n",
       "</tr>\n",
       "</table><br/><br/>Warnings:<br/>[1] Standard Errors assume that the covariance matrix of the errors is correctly specified."
      ],
      "text/plain": [
       "<class 'statsmodels.iolib.summary.Summary'>\n",
       "\"\"\"\n",
       "                            OLS Regression Results                            \n",
       "==============================================================================\n",
       "Dep. Variable:                   wage   R-squared:                       0.167\n",
       "Model:                            OLS   Adj. R-squared:                  0.164\n",
       "Method:                 Least Squares   F-statistic:                     53.69\n",
       "Date:                Tue, 25 Jun 2019   Prob (F-statistic):           2.79e-12\n",
       "Time:                        21:12:22   Log-Likelihood:                -2214.7\n",
       "No. Observations:                 269   AIC:                             4433.\n",
       "Df Residuals:                     267   BIC:                             4441.\n",
       "Df Model:                           1                                         \n",
       "Covariance Type:            nonrobust                                         \n",
       "==============================================================================\n",
       "                 coef    std err          t      P>|t|      [0.025      0.975]\n",
       "------------------------------------------------------------------------------\n",
       "Intercept    807.9317    100.847      8.011      0.000     609.375    1006.489\n",
       "exper        120.3166     16.420      7.327      0.000      87.988     152.646\n",
       "==============================================================================\n",
       "Omnibus:                       49.179   Durbin-Watson:                   2.056\n",
       "Prob(Omnibus):                  0.000   Jarque-Bera (JB):               86.742\n",
       "Skew:                           0.990   Prob(JB):                     1.46e-19\n",
       "Kurtosis:                       4.954   Cond. No.                         11.3\n",
       "==============================================================================\n",
       "\n",
       "Warnings:\n",
       "[1] Standard Errors assume that the covariance matrix of the errors is correctly specified.\n",
       "\"\"\""
      ]
     },
     "execution_count": 39,
     "metadata": {},
     "output_type": "execute_result"
    }
   ],
   "source": [
    "res = smf.ols('wage ~ exper', data=df).fit()\n",
    "res.summary()"
   ]
  },
  {
   "cell_type": "markdown",
   "metadata": {},
   "source": [
    "# qn 6\n",
    "What is the average wage increase associated with an increase in experience by\n",
    "one year implied by your model?\n",
    "\n",
    "One more year of experience is associated with an average increase in salary of\n",
    "around $120K."
   ]
  },
  {
   "cell_type": "markdown",
   "metadata": {},
   "source": [
    "# qn 7\n",
    "Do you think that the estimates of the effect of experience on wages is likely too\n",
    "big or too small? Which Gauss-Markov assumption is being violated, and why?\n",
    "\n",
    "In my view this coefficient likely overstates the effect of experience on wages, since\n",
    "those who are better tend to be employed as professional basketball players for\n",
    "longer, and hence are paid more. In other words there is another third variable\n",
    "’quality’ which is causing both wages and experience to be higher. A measure of\n",
    "players’ quality is contained within the variables: ’points’, ’minutes’, ’rebounds’\n",
    "etc. variables. So their inclusion is likely to bring the estimate of the effect of\n",
    "experience down."
   ]
  },
  {
   "cell_type": "markdown",
   "metadata": {},
   "source": [
    "# qn8\n",
    "Create another regression with wages as a dependent variable, and age as the\n",
    "independent variable (along with a constant). Does this imply that the effect of age\n",
    "is positive or negative?\n",
    "\n",
    "The results of this regression are shown below. Unsurprisingly this model suggests\n",
    "that the effect of age on wages is positive, although, at first glance, the effect appears\n",
    "that it might be smaller than experience"
   ]
  },
  {
   "cell_type": "code",
   "execution_count": 40,
   "metadata": {
    "ExecuteTime": {
     "end_time": "2019-06-26T01:34:15.312324Z",
     "start_time": "2019-06-26T01:34:15.289436Z"
    }
   },
   "outputs": [
    {
     "name": "stderr",
     "output_type": "stream",
     "text": [
      "/Users/poudel/miniconda3/envs/dataSc/lib/python3.7/site-packages/numpy/core/fromnumeric.py:2223: FutureWarning: Method .ptp is deprecated and will be removed in a future version. Use numpy.ptp instead.\n",
      "  return ptp(axis=axis, out=out, **kwargs)\n"
     ]
    },
    {
     "data": {
      "text/html": [
       "<table class=\"simpletable\">\n",
       "<caption>OLS Regression Results</caption>\n",
       "<tr>\n",
       "  <th>Dep. Variable:</th>          <td>wage</td>       <th>  R-squared:         </th> <td>   0.117</td>\n",
       "</tr>\n",
       "<tr>\n",
       "  <th>Model:</th>                   <td>OLS</td>       <th>  Adj. R-squared:    </th> <td>   0.114</td>\n",
       "</tr>\n",
       "<tr>\n",
       "  <th>Method:</th>             <td>Least Squares</td>  <th>  F-statistic:       </th> <td>   35.47</td>\n",
       "</tr>\n",
       "<tr>\n",
       "  <th>Date:</th>             <td>Tue, 25 Jun 2019</td> <th>  Prob (F-statistic):</th> <td>8.14e-09</td>\n",
       "</tr>\n",
       "<tr>\n",
       "  <th>Time:</th>                 <td>21:34:15</td>     <th>  Log-Likelihood:    </th> <td> -2222.5</td>\n",
       "</tr>\n",
       "<tr>\n",
       "  <th>No. Observations:</th>      <td>   269</td>      <th>  AIC:               </th> <td>   4449.</td>\n",
       "</tr>\n",
       "<tr>\n",
       "  <th>Df Residuals:</th>          <td>   267</td>      <th>  BIC:               </th> <td>   4456.</td>\n",
       "</tr>\n",
       "<tr>\n",
       "  <th>Df Model:</th>              <td>     1</td>      <th>                     </th>     <td> </td>   \n",
       "</tr>\n",
       "<tr>\n",
       "  <th>Covariance Type:</th>      <td>nonrobust</td>    <th>                     </th>     <td> </td>   \n",
       "</tr>\n",
       "</table>\n",
       "<table class=\"simpletable\">\n",
       "<tr>\n",
       "    <td></td>       <th>coef</th>     <th>std err</th>      <th>t</th>      <th>P>|t|</th>  <th>[0.025</th>    <th>0.975]</th>  \n",
       "</tr>\n",
       "<tr>\n",
       "  <th>const</th> <td>-1341.7284</td> <td>  467.888</td> <td>   -2.868</td> <td> 0.004</td> <td>-2262.949</td> <td> -420.508</td>\n",
       "</tr>\n",
       "<tr>\n",
       "  <th>age</th>   <td>  100.9546</td> <td>   16.951</td> <td>    5.956</td> <td> 0.000</td> <td>   67.580</td> <td>  134.329</td>\n",
       "</tr>\n",
       "</table>\n",
       "<table class=\"simpletable\">\n",
       "<tr>\n",
       "  <th>Omnibus:</th>       <td>39.474</td> <th>  Durbin-Watson:     </th> <td>   2.059</td>\n",
       "</tr>\n",
       "<tr>\n",
       "  <th>Prob(Omnibus):</th> <td> 0.000</td> <th>  Jarque-Bera (JB):  </th> <td>  56.176</td>\n",
       "</tr>\n",
       "<tr>\n",
       "  <th>Skew:</th>          <td> 0.921</td> <th>  Prob(JB):          </th> <td>6.33e-13</td>\n",
       "</tr>\n",
       "<tr>\n",
       "  <th>Kurtosis:</th>      <td> 4.274</td> <th>  Cond. No.          </th> <td>    225.</td>\n",
       "</tr>\n",
       "</table><br/><br/>Warnings:<br/>[1] Standard Errors assume that the covariance matrix of the errors is correctly specified."
      ],
      "text/plain": [
       "<class 'statsmodels.iolib.summary.Summary'>\n",
       "\"\"\"\n",
       "                            OLS Regression Results                            \n",
       "==============================================================================\n",
       "Dep. Variable:                   wage   R-squared:                       0.117\n",
       "Model:                            OLS   Adj. R-squared:                  0.114\n",
       "Method:                 Least Squares   F-statistic:                     35.47\n",
       "Date:                Tue, 25 Jun 2019   Prob (F-statistic):           8.14e-09\n",
       "Time:                        21:34:15   Log-Likelihood:                -2222.5\n",
       "No. Observations:                 269   AIC:                             4449.\n",
       "Df Residuals:                     267   BIC:                             4456.\n",
       "Df Model:                           1                                         \n",
       "Covariance Type:            nonrobust                                         \n",
       "==============================================================================\n",
       "                 coef    std err          t      P>|t|      [0.025      0.975]\n",
       "------------------------------------------------------------------------------\n",
       "const      -1341.7284    467.888     -2.868      0.004   -2262.949    -420.508\n",
       "age          100.9546     16.951      5.956      0.000      67.580     134.329\n",
       "==============================================================================\n",
       "Omnibus:                       39.474   Durbin-Watson:                   2.059\n",
       "Prob(Omnibus):                  0.000   Jarque-Bera (JB):               56.176\n",
       "Skew:                           0.921   Prob(JB):                     6.33e-13\n",
       "Kurtosis:                       4.274   Cond. No.                         225.\n",
       "==============================================================================\n",
       "\n",
       "Warnings:\n",
       "[1] Standard Errors assume that the covariance matrix of the errors is correctly specified.\n",
       "\"\"\""
      ]
     },
     "execution_count": 40,
     "metadata": {},
     "output_type": "execute_result"
    }
   ],
   "source": [
    "y = df.wage\n",
    "x = df.age\n",
    "x1 = sm.add_constant(x)\n",
    "\n",
    "sm.OLS(y,x1).fit().summary()"
   ]
  },
  {
   "cell_type": "markdown",
   "metadata": {},
   "source": [
    "# qn9\n",
    "What would would be the average wage implied by your model for an individual\n",
    "of 30? What about for a 90 year old? What is the problem with the latter estimate?\n",
    "\n",
    "The average wage for a 30 year old would be 100.955 x age - 1341.73 which is\n",
    "around 1.7m - this seems reasonable. For a 90 year old, our model predicts that\n",
    "their wage will be close to 8m! This latter prediction is completely out of sample,\n",
    "and also very unrealistic. One has to be very careful when extending the results\n",
    "of a regression to make out of sample predictions. (Out of sample here means that\n",
    "we currently do not have any data for the wages of 90 year old basketball players.)"
   ]
  },
  {
   "cell_type": "code",
   "execution_count": 41,
   "metadata": {
    "ExecuteTime": {
     "end_time": "2019-06-26T01:37:56.738815Z",
     "start_time": "2019-06-26T01:37:56.732024Z"
    }
   },
   "outputs": [
    {
     "data": {
      "text/plain": [
       "1686.9096"
      ]
     },
     "execution_count": 41,
     "metadata": {},
     "output_type": "execute_result"
    }
   ],
   "source": [
    "const = -1341.7284\n",
    "slope = 100.9546\n",
    "\n",
    "x = 30\n",
    "y = slope * x + const\n",
    "y"
   ]
  },
  {
   "cell_type": "code",
   "execution_count": 42,
   "metadata": {
    "ExecuteTime": {
     "end_time": "2019-06-26T01:38:06.575911Z",
     "start_time": "2019-06-26T01:38:06.569917Z"
    }
   },
   "outputs": [
    {
     "data": {
      "text/plain": [
       "7744.185600000001"
      ]
     },
     "execution_count": 42,
     "metadata": {},
     "output_type": "execute_result"
    }
   ],
   "source": [
    "const = -1341.7284\n",
    "slope = 100.9546\n",
    "\n",
    "x = 90\n",
    "y = slope * x + const\n",
    "y"
   ]
  },
  {
   "cell_type": "markdown",
   "metadata": {},
   "source": [
    "# qn 10\n",
    "How might we rectify the issue of the unrealistic estimates from the previous\n",
    "model?\n",
    "\n",
    "One way might be to include the square of the age in the regression, as this would\n",
    "suggest that there might be diminishing marginal returns to age. I include the\n",
    "results of this regression below.\n",
    "\n",
    "Note that the results of this regression aren’t that suggestive of diminishing\n",
    "marginal returns to age. Perhaps a better way to deal with this issue would\n",
    "be not to make predictions on out of sample data!"
   ]
  },
  {
   "cell_type": "code",
   "execution_count": 43,
   "metadata": {
    "ExecuteTime": {
     "end_time": "2019-06-26T01:43:10.096683Z",
     "start_time": "2019-06-26T01:43:10.072806Z"
    }
   },
   "outputs": [
    {
     "name": "stderr",
     "output_type": "stream",
     "text": [
      "/Users/poudel/miniconda3/envs/dataSc/lib/python3.7/site-packages/numpy/core/fromnumeric.py:2223: FutureWarning: Method .ptp is deprecated and will be removed in a future version. Use numpy.ptp instead.\n",
      "  return ptp(axis=axis, out=out, **kwargs)\n"
     ]
    },
    {
     "data": {
      "text/html": [
       "<table class=\"simpletable\">\n",
       "<caption>OLS Regression Results</caption>\n",
       "<tr>\n",
       "  <th>Dep. Variable:</th>          <td>wage</td>       <th>  R-squared:         </th> <td>   0.118</td>\n",
       "</tr>\n",
       "<tr>\n",
       "  <th>Model:</th>                   <td>OLS</td>       <th>  Adj. R-squared:    </th> <td>   0.111</td>\n",
       "</tr>\n",
       "<tr>\n",
       "  <th>Method:</th>             <td>Least Squares</td>  <th>  F-statistic:       </th> <td>   17.78</td>\n",
       "</tr>\n",
       "<tr>\n",
       "  <th>Date:</th>             <td>Tue, 25 Jun 2019</td> <th>  Prob (F-statistic):</th> <td>5.64e-08</td>\n",
       "</tr>\n",
       "<tr>\n",
       "  <th>Time:</th>                 <td>21:43:10</td>     <th>  Log-Likelihood:    </th> <td> -2222.4</td>\n",
       "</tr>\n",
       "<tr>\n",
       "  <th>No. Observations:</th>      <td>   269</td>      <th>  AIC:               </th> <td>   4451.</td>\n",
       "</tr>\n",
       "<tr>\n",
       "  <th>Df Residuals:</th>          <td>   266</td>      <th>  BIC:               </th> <td>   4462.</td>\n",
       "</tr>\n",
       "<tr>\n",
       "  <th>Df Model:</th>              <td>     2</td>      <th>                     </th>     <td> </td>   \n",
       "</tr>\n",
       "<tr>\n",
       "  <th>Covariance Type:</th>      <td>nonrobust</td>    <th>                     </th>     <td> </td>   \n",
       "</tr>\n",
       "</table>\n",
       "<table class=\"simpletable\">\n",
       "<tr>\n",
       "    <td></td>       <th>coef</th>     <th>std err</th>      <th>t</th>      <th>P>|t|</th>  <th>[0.025</th>    <th>0.975]</th>  \n",
       "</tr>\n",
       "<tr>\n",
       "  <th>const</th> <td>-2701.0087</td> <td> 3045.888</td> <td>   -0.887</td> <td> 0.376</td> <td>-8698.126</td> <td> 3296.109</td>\n",
       "</tr>\n",
       "<tr>\n",
       "  <th>age</th>   <td>  197.2750</td> <td>  213.941</td> <td>    0.922</td> <td> 0.357</td> <td> -223.958</td> <td>  618.508</td>\n",
       "</tr>\n",
       "<tr>\n",
       "  <th>agesq</th> <td>   -1.6791</td> <td>    3.718</td> <td>   -0.452</td> <td> 0.652</td> <td>   -8.999</td> <td>    5.641</td>\n",
       "</tr>\n",
       "</table>\n",
       "<table class=\"simpletable\">\n",
       "<tr>\n",
       "  <th>Omnibus:</th>       <td>39.656</td> <th>  Durbin-Watson:     </th> <td>   2.057</td>\n",
       "</tr>\n",
       "<tr>\n",
       "  <th>Prob(Omnibus):</th> <td> 0.000</td> <th>  Jarque-Bera (JB):  </th> <td>  55.964</td>\n",
       "</tr>\n",
       "<tr>\n",
       "  <th>Skew:</th>          <td> 0.931</td> <th>  Prob(JB):          </th> <td>7.04e-13</td>\n",
       "</tr>\n",
       "<tr>\n",
       "  <th>Kurtosis:</th>      <td> 4.235</td> <th>  Cond. No.          </th> <td>4.18e+04</td>\n",
       "</tr>\n",
       "</table><br/><br/>Warnings:<br/>[1] Standard Errors assume that the covariance matrix of the errors is correctly specified.<br/>[2] The condition number is large, 4.18e+04. This might indicate that there are<br/>strong multicollinearity or other numerical problems."
      ],
      "text/plain": [
       "<class 'statsmodels.iolib.summary.Summary'>\n",
       "\"\"\"\n",
       "                            OLS Regression Results                            \n",
       "==============================================================================\n",
       "Dep. Variable:                   wage   R-squared:                       0.118\n",
       "Model:                            OLS   Adj. R-squared:                  0.111\n",
       "Method:                 Least Squares   F-statistic:                     17.78\n",
       "Date:                Tue, 25 Jun 2019   Prob (F-statistic):           5.64e-08\n",
       "Time:                        21:43:10   Log-Likelihood:                -2222.4\n",
       "No. Observations:                 269   AIC:                             4451.\n",
       "Df Residuals:                     266   BIC:                             4462.\n",
       "Df Model:                           2                                         \n",
       "Covariance Type:            nonrobust                                         \n",
       "==============================================================================\n",
       "                 coef    std err          t      P>|t|      [0.025      0.975]\n",
       "------------------------------------------------------------------------------\n",
       "const      -2701.0087   3045.888     -0.887      0.376   -8698.126    3296.109\n",
       "age          197.2750    213.941      0.922      0.357    -223.958     618.508\n",
       "agesq         -1.6791      3.718     -0.452      0.652      -8.999       5.641\n",
       "==============================================================================\n",
       "Omnibus:                       39.656   Durbin-Watson:                   2.057\n",
       "Prob(Omnibus):                  0.000   Jarque-Bera (JB):               55.964\n",
       "Skew:                           0.931   Prob(JB):                     7.04e-13\n",
       "Kurtosis:                       4.235   Cond. No.                     4.18e+04\n",
       "==============================================================================\n",
       "\n",
       "Warnings:\n",
       "[1] Standard Errors assume that the covariance matrix of the errors is correctly specified.\n",
       "[2] The condition number is large, 4.18e+04. This might indicate that there are\n",
       "strong multicollinearity or other numerical problems.\n",
       "\"\"\""
      ]
     },
     "execution_count": 43,
     "metadata": {},
     "output_type": "execute_result"
    }
   ],
   "source": [
    "x = df[['age','agesq']]\n",
    "x1 = sm.add_constant(x)\n",
    "y = df['wage']\n",
    "\n",
    "sm.OLS(y,x1).fit().summary()"
   ]
  },
  {
   "cell_type": "markdown",
   "metadata": {
    "ExecuteTime": {
     "end_time": "2019-06-26T01:44:36.890333Z",
     "start_time": "2019-06-26T01:44:36.885908Z"
    }
   },
   "source": [
    "# qn 11\n",
    "Now create a regression with both experience and age in the model. What has\n",
    "happened to the sign of the coefficient on age? Why has this happened?\n",
    "\n",
    "The results of this regression are shown below. Note that the coefficient on age is\n",
    "now negative, and the coefficient on experience has nearly doubled. This unstable\n",
    "change in the coefficient values is due to high multicollinearity between age and\n",
    "experience."
   ]
  },
  {
   "cell_type": "code",
   "execution_count": 45,
   "metadata": {
    "ExecuteTime": {
     "end_time": "2019-06-26T01:45:45.299017Z",
     "start_time": "2019-06-26T01:45:45.277683Z"
    }
   },
   "outputs": [
    {
     "name": "stderr",
     "output_type": "stream",
     "text": [
      "/Users/poudel/miniconda3/envs/dataSc/lib/python3.7/site-packages/numpy/core/fromnumeric.py:2223: FutureWarning: Method .ptp is deprecated and will be removed in a future version. Use numpy.ptp instead.\n",
      "  return ptp(axis=axis, out=out, **kwargs)\n"
     ]
    },
    {
     "data": {
      "text/html": [
       "<table class=\"simpletable\">\n",
       "<caption>OLS Regression Results</caption>\n",
       "<tr>\n",
       "  <th>Dep. Variable:</th>          <td>wage</td>       <th>  R-squared:         </th> <td>   0.183</td>\n",
       "</tr>\n",
       "<tr>\n",
       "  <th>Model:</th>                   <td>OLS</td>       <th>  Adj. R-squared:    </th> <td>   0.177</td>\n",
       "</tr>\n",
       "<tr>\n",
       "  <th>Method:</th>             <td>Least Squares</td>  <th>  F-statistic:       </th> <td>   29.86</td>\n",
       "</tr>\n",
       "<tr>\n",
       "  <th>Date:</th>             <td>Tue, 25 Jun 2019</td> <th>  Prob (F-statistic):</th> <td>2.00e-12</td>\n",
       "</tr>\n",
       "<tr>\n",
       "  <th>Time:</th>                 <td>21:45:45</td>     <th>  Log-Likelihood:    </th> <td> -2212.1</td>\n",
       "</tr>\n",
       "<tr>\n",
       "  <th>No. Observations:</th>      <td>   269</td>      <th>  AIC:               </th> <td>   4430.</td>\n",
       "</tr>\n",
       "<tr>\n",
       "  <th>Df Residuals:</th>          <td>   266</td>      <th>  BIC:               </th> <td>   4441.</td>\n",
       "</tr>\n",
       "<tr>\n",
       "  <th>Df Model:</th>              <td>     2</td>      <th>                     </th>     <td> </td>   \n",
       "</tr>\n",
       "<tr>\n",
       "  <th>Covariance Type:</th>      <td>nonrobust</td>    <th>                     </th>     <td> </td>   \n",
       "</tr>\n",
       "</table>\n",
       "<table class=\"simpletable\">\n",
       "<tr>\n",
       "    <td></td>       <th>coef</th>     <th>std err</th>      <th>t</th>      <th>P>|t|</th>  <th>[0.025</th>    <th>0.975]</th>  \n",
       "</tr>\n",
       "<tr>\n",
       "  <th>const</th> <td> 3295.2932</td> <td> 1096.404</td> <td>    3.006</td> <td> 0.003</td> <td> 1136.559</td> <td> 5454.028</td>\n",
       "</tr>\n",
       "<tr>\n",
       "  <th>exper</th> <td>  223.6860</td> <td>   48.210</td> <td>    4.640</td> <td> 0.000</td> <td>  128.763</td> <td>  318.609</td>\n",
       "</tr>\n",
       "<tr>\n",
       "  <th>age</th>   <td> -110.1153</td> <td>   48.335</td> <td>   -2.278</td> <td> 0.024</td> <td> -205.284</td> <td>  -14.947</td>\n",
       "</tr>\n",
       "</table>\n",
       "<table class=\"simpletable\">\n",
       "<tr>\n",
       "  <th>Omnibus:</th>       <td>57.784</td> <th>  Durbin-Watson:     </th> <td>   2.022</td>\n",
       "</tr>\n",
       "<tr>\n",
       "  <th>Prob(Omnibus):</th> <td> 0.000</td> <th>  Jarque-Bera (JB):  </th> <td> 118.329</td>\n",
       "</tr>\n",
       "<tr>\n",
       "  <th>Skew:</th>          <td> 1.077</td> <th>  Prob(JB):          </th> <td>2.02e-26</td>\n",
       "</tr>\n",
       "<tr>\n",
       "  <th>Kurtosis:</th>      <td> 5.433</td> <th>  Cond. No.          </th> <td>    559.</td>\n",
       "</tr>\n",
       "</table><br/><br/>Warnings:<br/>[1] Standard Errors assume that the covariance matrix of the errors is correctly specified."
      ],
      "text/plain": [
       "<class 'statsmodels.iolib.summary.Summary'>\n",
       "\"\"\"\n",
       "                            OLS Regression Results                            \n",
       "==============================================================================\n",
       "Dep. Variable:                   wage   R-squared:                       0.183\n",
       "Model:                            OLS   Adj. R-squared:                  0.177\n",
       "Method:                 Least Squares   F-statistic:                     29.86\n",
       "Date:                Tue, 25 Jun 2019   Prob (F-statistic):           2.00e-12\n",
       "Time:                        21:45:45   Log-Likelihood:                -2212.1\n",
       "No. Observations:                 269   AIC:                             4430.\n",
       "Df Residuals:                     266   BIC:                             4441.\n",
       "Df Model:                           2                                         \n",
       "Covariance Type:            nonrobust                                         \n",
       "==============================================================================\n",
       "                 coef    std err          t      P>|t|      [0.025      0.975]\n",
       "------------------------------------------------------------------------------\n",
       "const       3295.2932   1096.404      3.006      0.003    1136.559    5454.028\n",
       "exper        223.6860     48.210      4.640      0.000     128.763     318.609\n",
       "age         -110.1153     48.335     -2.278      0.024    -205.284     -14.947\n",
       "==============================================================================\n",
       "Omnibus:                       57.784   Durbin-Watson:                   2.022\n",
       "Prob(Omnibus):                  0.000   Jarque-Bera (JB):              118.329\n",
       "Skew:                           1.077   Prob(JB):                     2.02e-26\n",
       "Kurtosis:                       5.433   Cond. No.                         559.\n",
       "==============================================================================\n",
       "\n",
       "Warnings:\n",
       "[1] Standard Errors assume that the covariance matrix of the errors is correctly specified.\n",
       "\"\"\""
      ]
     },
     "execution_count": 45,
     "metadata": {},
     "output_type": "execute_result"
    }
   ],
   "source": [
    "x = df[['exper','age']]\n",
    "x1 = sm.add_constant(x)\n",
    "y = df['wage']\n",
    "\n",
    "sm.OLS(y,x1).fit().summary()"
   ]
  },
  {
   "cell_type": "markdown",
   "metadata": {},
   "source": [
    "# qn 12\n",
    "Let’s now try to examine whether individuals who score more points tend to earn\n",
    "more by creating a regression of wages on points per game (and a constant). \n",
    "\n",
    "What does your model suggest would be the increase in wages for an increase in 10 points\n",
    "per game?\n",
    "\n",
    "The results of this regression are shown below along with the graph of actual vs\n",
    "fitted wages. The results of this model are suggestive that an increase in 10 points\n",
    "per game is associated with an increase in wages on average by $1.1m."
   ]
  },
  {
   "cell_type": "code",
   "execution_count": 51,
   "metadata": {
    "ExecuteTime": {
     "end_time": "2019-06-26T01:56:26.014539Z",
     "start_time": "2019-06-26T01:56:25.996272Z"
    }
   },
   "outputs": [
    {
     "data": {
      "text/html": [
       "<div>\n",
       "<style scoped>\n",
       "    .dataframe tbody tr th:only-of-type {\n",
       "        vertical-align: middle;\n",
       "    }\n",
       "\n",
       "    .dataframe tbody tr th {\n",
       "        vertical-align: top;\n",
       "    }\n",
       "\n",
       "    .dataframe thead th {\n",
       "        text-align: right;\n",
       "    }\n",
       "</style>\n",
       "<table border=\"1\" class=\"dataframe\">\n",
       "  <thead>\n",
       "    <tr style=\"text-align: right;\">\n",
       "      <th></th>\n",
       "      <th>ID</th>\n",
       "      <th>marr</th>\n",
       "      <th>wage</th>\n",
       "      <th>exper</th>\n",
       "      <th>age</th>\n",
       "      <th>coll</th>\n",
       "      <th>games</th>\n",
       "      <th>minutes</th>\n",
       "      <th>guard</th>\n",
       "      <th>forward</th>\n",
       "      <th>center</th>\n",
       "      <th>points</th>\n",
       "      <th>rebounds</th>\n",
       "      <th>assists</th>\n",
       "      <th>draft</th>\n",
       "      <th>allstar</th>\n",
       "      <th>avgmin</th>\n",
       "      <th>lwage</th>\n",
       "      <th>black</th>\n",
       "      <th>children</th>\n",
       "      <th>expersq</th>\n",
       "      <th>agesq</th>\n",
       "      <th>marrblck</th>\n",
       "      <th>points_per_game</th>\n",
       "    </tr>\n",
       "  </thead>\n",
       "  <tbody>\n",
       "    <tr>\n",
       "      <th>0</th>\n",
       "      <td>1</td>\n",
       "      <td>1</td>\n",
       "      <td>1002.5</td>\n",
       "      <td>4</td>\n",
       "      <td>27</td>\n",
       "      <td>4</td>\n",
       "      <td>77</td>\n",
       "      <td>2867</td>\n",
       "      <td>1</td>\n",
       "      <td>0</td>\n",
       "      <td>0</td>\n",
       "      <td>16</td>\n",
       "      <td>4</td>\n",
       "      <td>5</td>\n",
       "      <td>19.0</td>\n",
       "      <td>0</td>\n",
       "      <td>37.23</td>\n",
       "      <td>6.91</td>\n",
       "      <td>1</td>\n",
       "      <td>0</td>\n",
       "      <td>16</td>\n",
       "      <td>729</td>\n",
       "      <td>1</td>\n",
       "      <td>0.207792</td>\n",
       "    </tr>\n",
       "    <tr>\n",
       "      <th>1</th>\n",
       "      <td>2</td>\n",
       "      <td>1</td>\n",
       "      <td>2030.0</td>\n",
       "      <td>5</td>\n",
       "      <td>28</td>\n",
       "      <td>4</td>\n",
       "      <td>78</td>\n",
       "      <td>2789</td>\n",
       "      <td>1</td>\n",
       "      <td>0</td>\n",
       "      <td>0</td>\n",
       "      <td>13</td>\n",
       "      <td>3</td>\n",
       "      <td>9</td>\n",
       "      <td>28.0</td>\n",
       "      <td>0</td>\n",
       "      <td>35.76</td>\n",
       "      <td>7.62</td>\n",
       "      <td>1</td>\n",
       "      <td>1</td>\n",
       "      <td>25</td>\n",
       "      <td>784</td>\n",
       "      <td>1</td>\n",
       "      <td>0.166667</td>\n",
       "    </tr>\n",
       "    <tr>\n",
       "      <th>2</th>\n",
       "      <td>3</td>\n",
       "      <td>0</td>\n",
       "      <td>650.0</td>\n",
       "      <td>1</td>\n",
       "      <td>25</td>\n",
       "      <td>4</td>\n",
       "      <td>74</td>\n",
       "      <td>1149</td>\n",
       "      <td>0</td>\n",
       "      <td>0</td>\n",
       "      <td>1</td>\n",
       "      <td>6</td>\n",
       "      <td>3</td>\n",
       "      <td>0</td>\n",
       "      <td>19.0</td>\n",
       "      <td>0</td>\n",
       "      <td>15.53</td>\n",
       "      <td>6.48</td>\n",
       "      <td>1</td>\n",
       "      <td>0</td>\n",
       "      <td>1</td>\n",
       "      <td>625</td>\n",
       "      <td>0</td>\n",
       "      <td>0.081081</td>\n",
       "    </tr>\n",
       "    <tr>\n",
       "      <th>3</th>\n",
       "      <td>4</td>\n",
       "      <td>0</td>\n",
       "      <td>2030.0</td>\n",
       "      <td>5</td>\n",
       "      <td>28</td>\n",
       "      <td>4</td>\n",
       "      <td>47</td>\n",
       "      <td>1178</td>\n",
       "      <td>0</td>\n",
       "      <td>1</td>\n",
       "      <td>0</td>\n",
       "      <td>7</td>\n",
       "      <td>5</td>\n",
       "      <td>2</td>\n",
       "      <td>1.0</td>\n",
       "      <td>0</td>\n",
       "      <td>25.06</td>\n",
       "      <td>7.62</td>\n",
       "      <td>1</td>\n",
       "      <td>0</td>\n",
       "      <td>25</td>\n",
       "      <td>784</td>\n",
       "      <td>0</td>\n",
       "      <td>0.148936</td>\n",
       "    </tr>\n",
       "    <tr>\n",
       "      <th>4</th>\n",
       "      <td>5</td>\n",
       "      <td>0</td>\n",
       "      <td>755.0</td>\n",
       "      <td>3</td>\n",
       "      <td>24</td>\n",
       "      <td>4</td>\n",
       "      <td>82</td>\n",
       "      <td>2096</td>\n",
       "      <td>1</td>\n",
       "      <td>0</td>\n",
       "      <td>0</td>\n",
       "      <td>11</td>\n",
       "      <td>4</td>\n",
       "      <td>3</td>\n",
       "      <td>24.0</td>\n",
       "      <td>0</td>\n",
       "      <td>25.56</td>\n",
       "      <td>6.63</td>\n",
       "      <td>1</td>\n",
       "      <td>0</td>\n",
       "      <td>9</td>\n",
       "      <td>576</td>\n",
       "      <td>0</td>\n",
       "      <td>0.134146</td>\n",
       "    </tr>\n",
       "  </tbody>\n",
       "</table>\n",
       "</div>"
      ],
      "text/plain": [
       "   ID  marr    wage  exper  age  coll  games  minutes  guard  forward  center  \\\n",
       "0   1     1  1002.5      4   27     4     77     2867      1        0       0   \n",
       "1   2     1  2030.0      5   28     4     78     2789      1        0       0   \n",
       "2   3     0   650.0      1   25     4     74     1149      0        0       1   \n",
       "3   4     0  2030.0      5   28     4     47     1178      0        1       0   \n",
       "4   5     0   755.0      3   24     4     82     2096      1        0       0   \n",
       "\n",
       "   points  rebounds  assists  draft  allstar  avgmin  lwage  black  children  \\\n",
       "0      16         4        5   19.0        0   37.23   6.91      1         0   \n",
       "1      13         3        9   28.0        0   35.76   7.62      1         1   \n",
       "2       6         3        0   19.0        0   15.53   6.48      1         0   \n",
       "3       7         5        2    1.0        0   25.06   7.62      1         0   \n",
       "4      11         4        3   24.0        0   25.56   6.63      1         0   \n",
       "\n",
       "   expersq  agesq  marrblck  points_per_game  \n",
       "0       16    729         1         0.207792  \n",
       "1       25    784         1         0.166667  \n",
       "2        1    625         0         0.081081  \n",
       "3       25    784         0         0.148936  \n",
       "4        9    576         0         0.134146  "
      ]
     },
     "execution_count": 51,
     "metadata": {},
     "output_type": "execute_result"
    }
   ],
   "source": [
    "df.head()"
   ]
  },
  {
   "cell_type": "code",
   "execution_count": 61,
   "metadata": {
    "ExecuteTime": {
     "end_time": "2019-06-26T02:13:12.830073Z",
     "start_time": "2019-06-26T02:13:12.811202Z"
    }
   },
   "outputs": [
    {
     "name": "stderr",
     "output_type": "stream",
     "text": [
      "/Users/poudel/miniconda3/envs/dataSc/lib/python3.7/site-packages/numpy/core/fromnumeric.py:2223: FutureWarning: Method .ptp is deprecated and will be removed in a future version. Use numpy.ptp instead.\n",
      "  return ptp(axis=axis, out=out, **kwargs)\n"
     ]
    },
    {
     "data": {
      "text/html": [
       "<table class=\"simpletable\">\n",
       "<caption>OLS Regression Results</caption>\n",
       "<tr>\n",
       "  <th>Dep. Variable:</th>          <td>wage</td>       <th>  R-squared:         </th> <td>   0.432</td>\n",
       "</tr>\n",
       "<tr>\n",
       "  <th>Model:</th>                   <td>OLS</td>       <th>  Adj. R-squared:    </th> <td>   0.430</td>\n",
       "</tr>\n",
       "<tr>\n",
       "  <th>Method:</th>             <td>Least Squares</td>  <th>  F-statistic:       </th> <td>   202.8</td>\n",
       "</tr>\n",
       "<tr>\n",
       "  <th>Date:</th>             <td>Tue, 25 Jun 2019</td> <th>  Prob (F-statistic):</th> <td>1.28e-34</td>\n",
       "</tr>\n",
       "<tr>\n",
       "  <th>Time:</th>                 <td>22:13:12</td>     <th>  Log-Likelihood:    </th> <td> -2163.3</td>\n",
       "</tr>\n",
       "<tr>\n",
       "  <th>No. Observations:</th>      <td>   269</td>      <th>  AIC:               </th> <td>   4331.</td>\n",
       "</tr>\n",
       "<tr>\n",
       "  <th>Df Residuals:</th>          <td>   267</td>      <th>  BIC:               </th> <td>   4338.</td>\n",
       "</tr>\n",
       "<tr>\n",
       "  <th>Df Model:</th>              <td>     1</td>      <th>                     </th>     <td> </td>   \n",
       "</tr>\n",
       "<tr>\n",
       "  <th>Covariance Type:</th>      <td>nonrobust</td>    <th>                     </th>     <td> </td>   \n",
       "</tr>\n",
       "</table>\n",
       "<table class=\"simpletable\">\n",
       "<tr>\n",
       "     <td></td>       <th>coef</th>     <th>std err</th>      <th>t</th>      <th>P>|t|</th>  <th>[0.025</th>    <th>0.975]</th>  \n",
       "</tr>\n",
       "<tr>\n",
       "  <th>const</th>  <td>  278.1023</td> <td>   92.694</td> <td>    3.000</td> <td> 0.003</td> <td>   95.598</td> <td>  460.606</td>\n",
       "</tr>\n",
       "<tr>\n",
       "  <th>points</th> <td>  111.6667</td> <td>    7.841</td> <td>   14.241</td> <td> 0.000</td> <td>   96.228</td> <td>  127.105</td>\n",
       "</tr>\n",
       "</table>\n",
       "<table class=\"simpletable\">\n",
       "<tr>\n",
       "  <th>Omnibus:</th>       <td>38.558</td> <th>  Durbin-Watson:     </th> <td>   1.820</td>\n",
       "</tr>\n",
       "<tr>\n",
       "  <th>Prob(Omnibus):</th> <td> 0.000</td> <th>  Jarque-Bera (JB):  </th> <td>  59.491</td>\n",
       "</tr>\n",
       "<tr>\n",
       "  <th>Skew:</th>          <td> 0.853</td> <th>  Prob(JB):          </th> <td>1.21e-13</td>\n",
       "</tr>\n",
       "<tr>\n",
       "  <th>Kurtosis:</th>      <td> 4.548</td> <th>  Cond. No.          </th> <td>    23.9</td>\n",
       "</tr>\n",
       "</table><br/><br/>Warnings:<br/>[1] Standard Errors assume that the covariance matrix of the errors is correctly specified."
      ],
      "text/plain": [
       "<class 'statsmodels.iolib.summary.Summary'>\n",
       "\"\"\"\n",
       "                            OLS Regression Results                            \n",
       "==============================================================================\n",
       "Dep. Variable:                   wage   R-squared:                       0.432\n",
       "Model:                            OLS   Adj. R-squared:                  0.430\n",
       "Method:                 Least Squares   F-statistic:                     202.8\n",
       "Date:                Tue, 25 Jun 2019   Prob (F-statistic):           1.28e-34\n",
       "Time:                        22:13:12   Log-Likelihood:                -2163.3\n",
       "No. Observations:                 269   AIC:                             4331.\n",
       "Df Residuals:                     267   BIC:                             4338.\n",
       "Df Model:                           1                                         \n",
       "Covariance Type:            nonrobust                                         \n",
       "==============================================================================\n",
       "                 coef    std err          t      P>|t|      [0.025      0.975]\n",
       "------------------------------------------------------------------------------\n",
       "const        278.1023     92.694      3.000      0.003      95.598     460.606\n",
       "points       111.6667      7.841     14.241      0.000      96.228     127.105\n",
       "==============================================================================\n",
       "Omnibus:                       38.558   Durbin-Watson:                   1.820\n",
       "Prob(Omnibus):                  0.000   Jarque-Bera (JB):               59.491\n",
       "Skew:                           0.853   Prob(JB):                     1.21e-13\n",
       "Kurtosis:                       4.548   Cond. No.                         23.9\n",
       "==============================================================================\n",
       "\n",
       "Warnings:\n",
       "[1] Standard Errors assume that the covariance matrix of the errors is correctly specified.\n",
       "\"\"\""
      ]
     },
     "execution_count": 61,
     "metadata": {},
     "output_type": "execute_result"
    }
   ],
   "source": [
    "x = df['points']\n",
    "x1 = sm.add_constant(x)\n",
    "y = df['wage']\n",
    "\n",
    "res = sm.OLS(y,x1).fit()\n",
    "res.summary()"
   ]
  },
  {
   "cell_type": "code",
   "execution_count": 62,
   "metadata": {
    "ExecuteTime": {
     "end_time": "2019-06-26T02:13:14.295420Z",
     "start_time": "2019-06-26T02:13:14.039457Z"
    }
   },
   "outputs": [
    {
     "name": "stderr",
     "output_type": "stream",
     "text": [
      "/Users/poudel/miniconda3/envs/dataSc/lib/python3.7/site-packages/scipy/stats/stats.py:1713: FutureWarning: Using a non-tuple sequence for multidimensional indexing is deprecated; use `arr[tuple(seq)]` instead of `arr[seq]`. In the future this will be interpreted as an array index, `arr[np.array(seq)]`, which will result either in an error or a different result.\n",
      "  return np.add.reduce(sorted[indexer] * weights, axis=axis) / sumval\n"
     ]
    },
    {
     "data": {
      "image/png": "[encoded data removed]",
      "text/plain": [
       "<Figure size 432x288 with 1 Axes>"
      ]
     },
     "metadata": {
      "needs_background": "light"
     },
     "output_type": "display_data"
    }
   ],
   "source": [
    "p = sns.regplot(x='points',y='wage',data=df)\n",
    "\n",
    "slope, intercept, r_value, p_value, std_err = scipy.stats.linregress(x=p.get_lines()[0].get_xdata(),y=p.get_lines()[0].get_ydata())\n",
    "\n",
    "text = 'y = {:.2f}x + {:.2f}'.format(slope, intercept)\n",
    "\n",
    "plt.title(text);"
   ]
  },
  {
   "cell_type": "markdown",
   "metadata": {},
   "source": [
    "# qn 13\n",
    "You can look at a graph of the residuals (the estimated errors) from the regression,\n",
    "\n",
    "\n",
    "Which of these plots should you use\n",
    "to graphically inspect for heteroscedasticity?\n",
    "\n",
    "Observation number here is arbitrary and does not reflect any mechanism of interest. Hence a residual plot against points is most appropriate. This plot is shown\n",
    "below."
   ]
  },
  {
   "cell_type": "code",
   "execution_count": 67,
   "metadata": {
    "ExecuteTime": {
     "end_time": "2019-06-26T02:14:16.266325Z",
     "start_time": "2019-06-26T02:14:16.262305Z"
    }
   },
   "outputs": [],
   "source": [
    "# dir(res)"
   ]
  },
  {
   "cell_type": "code",
   "execution_count": 74,
   "metadata": {
    "ExecuteTime": {
     "end_time": "2019-06-26T02:16:38.435063Z",
     "start_time": "2019-06-26T02:16:38.273108Z"
    }
   },
   "outputs": [
    {
     "data": {
      "text/plain": [
       "<matplotlib.lines.Line2D at 0x1c27254390>"
      ]
     },
     "execution_count": 74,
     "metadata": {},
     "output_type": "execute_result"
    },
    {
     "data": {
      "image/png": "[encoded data removed]",
      "text/plain": [
       "<Figure size 432x288 with 1 Axes>"
      ]
     },
     "metadata": {
      "needs_background": "light"
     },
     "output_type": "display_data"
    }
   ],
   "source": [
    "residuals = res.resid\n",
    "plt.plot(df.points, residuals,'.')\n",
    "plt.xlabel('points')\n",
    "plt.ylabel('residuals')\n",
    "plt.axhline()"
   ]
  },
  {
   "cell_type": "markdown",
   "metadata": {},
   "source": [
    "# qn 14\n",
    "Does there appear to be heteroscedasticity? What might be causing it? How might\n",
    "we rectify it?\n",
    "\n",
    "I would say that there is definitely evidence of systematic increases in the variance\n",
    "of our estimates as points increases from 0-15. There is then a decline in variance\n",
    "towards the latter end of the points spectrum. This makes intuitive sense. When\n",
    "players score few points, they are not paid much. When they score a reasonable\n",
    "number of points they tend to be paid more, but there is a higher variance. This\n",
    "could be because of the fact that players on a basketball team occupy different\n",
    "positions - some are more focussed on scoring, others on defending. This would\n",
    "mean that once a threshold number of points is reached the players are paid more or less dependent on their respective abilities in their positions. When a player\n",
    "scores a high number of points, they are in short supply, and can hence command\n",
    "a higher wage."
   ]
  },
  {
   "cell_type": "markdown",
   "metadata": {},
   "source": [
    "# qn 15\n",
    "Do you think that the effect of points on wages predicted by your model is too high\n",
    "or low? Why might this be the case?\n",
    "\n",
    "I suspect it is too high. There is probably some reverse causality happening,\n",
    "whereby players that are paid more tend to score more points. Also, points likely\n",
    "also captures some of the effects of other variables that are important in determining\n",
    "wages. For example, players from better teams have better team mates, and hence\n",
    "tend to have more chances to score. At the same time the players on the better\n",
    "teams tend to be paid more."
   ]
  },
  {
   "cell_type": "markdown",
   "metadata": {},
   "source": [
    "# qn 16\n",
    "We are now going to create two new variables ’pointsq’ and ’pointsc’\n",
    "equal to the square of points and its cube respectively. \n",
    "\n",
    "Now create two new regression models (keeping your current regression of wages\n",
    "on points):\n",
    "    \n",
    "wagei = α + β1pointsi + β2pointsqi  \n",
    "wagei = α + β1pointsi + β2pointsqi + β3pointsci\n",
    "\n",
    "  - (a) Which of these regressions has the highest value of R-squared? What does\n",
    "this mean?\n",
    "    + The latter model has a higher R-squared of 0.44. This means that these independent variables explain 44% of the variation in the dependent variable.\n",
    "  - (b) What is the interpretation of the coefficient on ’pointsc’ in the last regression\n",
    "model?\n",
    "    + This would suggest that there is diminishing diminishing (yep two diminishings!) marginal returns to points. In other words it is pretty nonsensical.\n",
    "  - (c) Which of these regressions has the highest value of adjusted R-squared?\n",
    "    + The last regression still has the highest adjusted R-squared.\n",
    "  - (d) Out of the three specifications, which would you prefer?\n",
    "    + The first regression (with only wages regressed on points), since it is parsimonious, and has a clear interpretation. The latter of the three especially is\n",
    "overfitting the data. I include the last regression fitted residuals below so you\n",
    "can see for yourself. Don’t let apophenia (seeing meaningless patterns in data)\n",
    "get the better of you - a linear line is still better than this curve."
   ]
  },
  {
   "cell_type": "code",
   "execution_count": 75,
   "metadata": {
    "ExecuteTime": {
     "end_time": "2019-06-26T03:03:55.861432Z",
     "start_time": "2019-06-26T03:03:55.833087Z"
    }
   },
   "outputs": [
    {
     "name": "stderr",
     "output_type": "stream",
     "text": [
      "/Users/poudel/miniconda3/envs/dataSc/lib/python3.7/site-packages/numpy/core/fromnumeric.py:2223: FutureWarning: Method .ptp is deprecated and will be removed in a future version. Use numpy.ptp instead.\n",
      "  return ptp(axis=axis, out=out, **kwargs)\n"
     ]
    },
    {
     "data": {
      "text/html": [
       "<table class=\"simpletable\">\n",
       "<caption>OLS Regression Results</caption>\n",
       "<tr>\n",
       "  <th>Dep. Variable:</th>          <td>wage</td>       <th>  R-squared:         </th> <td>   0.434</td>\n",
       "</tr>\n",
       "<tr>\n",
       "  <th>Model:</th>                   <td>OLS</td>       <th>  Adj. R-squared:    </th> <td>   0.430</td>\n",
       "</tr>\n",
       "<tr>\n",
       "  <th>Method:</th>             <td>Least Squares</td>  <th>  F-statistic:       </th> <td>   102.0</td>\n",
       "</tr>\n",
       "<tr>\n",
       "  <th>Date:</th>             <td>Tue, 25 Jun 2019</td> <th>  Prob (F-statistic):</th> <td>1.36e-33</td>\n",
       "</tr>\n",
       "<tr>\n",
       "  <th>Time:</th>                 <td>23:03:55</td>     <th>  Log-Likelihood:    </th> <td> -2162.8</td>\n",
       "</tr>\n",
       "<tr>\n",
       "  <th>No. Observations:</th>      <td>   269</td>      <th>  AIC:               </th> <td>   4332.</td>\n",
       "</tr>\n",
       "<tr>\n",
       "  <th>Df Residuals:</th>          <td>   266</td>      <th>  BIC:               </th> <td>   4342.</td>\n",
       "</tr>\n",
       "<tr>\n",
       "  <th>Df Model:</th>              <td>     2</td>      <th>                     </th>     <td> </td>   \n",
       "</tr>\n",
       "<tr>\n",
       "  <th>Covariance Type:</th>      <td>nonrobust</td>    <th>                     </th>     <td> </td>   \n",
       "</tr>\n",
       "</table>\n",
       "<table class=\"simpletable\">\n",
       "<tr>\n",
       "      <td></td>         <th>coef</th>     <th>std err</th>      <th>t</th>      <th>P>|t|</th>  <th>[0.025</th>    <th>0.975]</th>  \n",
       "</tr>\n",
       "<tr>\n",
       "  <th>const</th>     <td>  396.6413</td> <td>  148.060</td> <td>    2.679</td> <td> 0.008</td> <td>  105.123</td> <td>  688.160</td>\n",
       "</tr>\n",
       "<tr>\n",
       "  <th>points</th>    <td>   85.4355</td> <td>   26.726</td> <td>    3.197</td> <td> 0.002</td> <td>   32.814</td> <td>  138.057</td>\n",
       "</tr>\n",
       "<tr>\n",
       "  <th>points_sq</th> <td>    1.0777</td> <td>    1.050</td> <td>    1.027</td> <td> 0.306</td> <td>   -0.989</td> <td>    3.144</td>\n",
       "</tr>\n",
       "</table>\n",
       "<table class=\"simpletable\">\n",
       "<tr>\n",
       "  <th>Omnibus:</th>       <td>40.249</td> <th>  Durbin-Watson:     </th> <td>   1.828</td>\n",
       "</tr>\n",
       "<tr>\n",
       "  <th>Prob(Omnibus):</th> <td> 0.000</td> <th>  Jarque-Bera (JB):  </th> <td>  62.998</td>\n",
       "</tr>\n",
       "<tr>\n",
       "  <th>Skew:</th>          <td> 0.879</td> <th>  Prob(JB):          </th> <td>2.09e-14</td>\n",
       "</tr>\n",
       "<tr>\n",
       "  <th>Kurtosis:</th>      <td> 4.591</td> <th>  Cond. No.          </th> <td>    668.</td>\n",
       "</tr>\n",
       "</table><br/><br/>Warnings:<br/>[1] Standard Errors assume that the covariance matrix of the errors is correctly specified."
      ],
      "text/plain": [
       "<class 'statsmodels.iolib.summary.Summary'>\n",
       "\"\"\"\n",
       "                            OLS Regression Results                            \n",
       "==============================================================================\n",
       "Dep. Variable:                   wage   R-squared:                       0.434\n",
       "Model:                            OLS   Adj. R-squared:                  0.430\n",
       "Method:                 Least Squares   F-statistic:                     102.0\n",
       "Date:                Tue, 25 Jun 2019   Prob (F-statistic):           1.36e-33\n",
       "Time:                        23:03:55   Log-Likelihood:                -2162.8\n",
       "No. Observations:                 269   AIC:                             4332.\n",
       "Df Residuals:                     266   BIC:                             4342.\n",
       "Df Model:                           2                                         \n",
       "Covariance Type:            nonrobust                                         \n",
       "==============================================================================\n",
       "                 coef    std err          t      P>|t|      [0.025      0.975]\n",
       "------------------------------------------------------------------------------\n",
       "const        396.6413    148.060      2.679      0.008     105.123     688.160\n",
       "points        85.4355     26.726      3.197      0.002      32.814     138.057\n",
       "points_sq      1.0777      1.050      1.027      0.306      -0.989       3.144\n",
       "==============================================================================\n",
       "Omnibus:                       40.249   Durbin-Watson:                   1.828\n",
       "Prob(Omnibus):                  0.000   Jarque-Bera (JB):               62.998\n",
       "Skew:                           0.879   Prob(JB):                     2.09e-14\n",
       "Kurtosis:                       4.591   Cond. No.                         668.\n",
       "==============================================================================\n",
       "\n",
       "Warnings:\n",
       "[1] Standard Errors assume that the covariance matrix of the errors is correctly specified.\n",
       "\"\"\""
      ]
     },
     "execution_count": 75,
     "metadata": {},
     "output_type": "execute_result"
    }
   ],
   "source": [
    "df['points_sq'] = df.points ** 2\n",
    "df['points_cube'] = df.points ** 3\n",
    "\n",
    "x = df[['points','points_sq']]\n",
    "x1 = sm.add_constant(x)\n",
    "y = df['wage']\n",
    "\n",
    "res = sm.OLS(y,x1).fit()\n",
    "res.summary()"
   ]
  },
  {
   "cell_type": "code",
   "execution_count": 76,
   "metadata": {
    "ExecuteTime": {
     "end_time": "2019-06-26T03:04:19.838418Z",
     "start_time": "2019-06-26T03:04:19.808335Z"
    }
   },
   "outputs": [
    {
     "name": "stderr",
     "output_type": "stream",
     "text": [
      "/Users/poudel/miniconda3/envs/dataSc/lib/python3.7/site-packages/numpy/core/fromnumeric.py:2223: FutureWarning: Method .ptp is deprecated and will be removed in a future version. Use numpy.ptp instead.\n",
      "  return ptp(axis=axis, out=out, **kwargs)\n"
     ]
    },
    {
     "data": {
      "text/html": [
       "<table class=\"simpletable\">\n",
       "<caption>OLS Regression Results</caption>\n",
       "<tr>\n",
       "  <th>Dep. Variable:</th>          <td>wage</td>       <th>  R-squared:         </th> <td>   0.443</td>\n",
       "</tr>\n",
       "<tr>\n",
       "  <th>Model:</th>                   <td>OLS</td>       <th>  Adj. R-squared:    </th> <td>   0.436</td>\n",
       "</tr>\n",
       "<tr>\n",
       "  <th>Method:</th>             <td>Least Squares</td>  <th>  F-statistic:       </th> <td>   70.16</td>\n",
       "</tr>\n",
       "<tr>\n",
       "  <th>Date:</th>             <td>Tue, 25 Jun 2019</td> <th>  Prob (F-statistic):</th> <td>2.00e-33</td>\n",
       "</tr>\n",
       "<tr>\n",
       "  <th>Time:</th>                 <td>23:04:19</td>     <th>  Log-Likelihood:    </th> <td> -2160.7</td>\n",
       "</tr>\n",
       "<tr>\n",
       "  <th>No. Observations:</th>      <td>   269</td>      <th>  AIC:               </th> <td>   4329.</td>\n",
       "</tr>\n",
       "<tr>\n",
       "  <th>Df Residuals:</th>          <td>   265</td>      <th>  BIC:               </th> <td>   4344.</td>\n",
       "</tr>\n",
       "<tr>\n",
       "  <th>Df Model:</th>              <td>     3</td>      <th>                     </th>     <td> </td>   \n",
       "</tr>\n",
       "<tr>\n",
       "  <th>Covariance Type:</th>      <td>nonrobust</td>    <th>                     </th>     <td> </td>   \n",
       "</tr>\n",
       "</table>\n",
       "<table class=\"simpletable\">\n",
       "<tr>\n",
       "       <td></td>          <th>coef</th>     <th>std err</th>      <th>t</th>      <th>P>|t|</th>  <th>[0.025</th>    <th>0.975]</th>  \n",
       "</tr>\n",
       "<tr>\n",
       "  <th>const</th>       <td>   59.2577</td> <td>  221.555</td> <td>    0.267</td> <td> 0.789</td> <td> -376.974</td> <td>  495.489</td>\n",
       "</tr>\n",
       "<tr>\n",
       "  <th>points</th>      <td>  207.2324</td> <td>   65.419</td> <td>    3.168</td> <td> 0.002</td> <td>   78.426</td> <td>  336.039</td>\n",
       "</tr>\n",
       "<tr>\n",
       "  <th>points_sq</th>   <td>   -9.6892</td> <td>    5.387</td> <td>   -1.799</td> <td> 0.073</td> <td>  -20.295</td> <td>    0.917</td>\n",
       "</tr>\n",
       "<tr>\n",
       "  <th>points_cube</th> <td>    0.2606</td> <td>    0.128</td> <td>    2.037</td> <td> 0.043</td> <td>    0.009</td> <td>    0.512</td>\n",
       "</tr>\n",
       "</table>\n",
       "<table class=\"simpletable\">\n",
       "<tr>\n",
       "  <th>Omnibus:</th>       <td>38.460</td> <th>  Durbin-Watson:     </th> <td>   1.838</td>\n",
       "</tr>\n",
       "<tr>\n",
       "  <th>Prob(Omnibus):</th> <td> 0.000</td> <th>  Jarque-Bera (JB):  </th> <td>  57.175</td>\n",
       "</tr>\n",
       "<tr>\n",
       "  <th>Skew:</th>          <td> 0.871</td> <th>  Prob(JB):          </th> <td>3.84e-13</td>\n",
       "</tr>\n",
       "<tr>\n",
       "  <th>Kurtosis:</th>      <td> 4.437</td> <th>  Cond. No.          </th> <td>2.17e+04</td>\n",
       "</tr>\n",
       "</table><br/><br/>Warnings:<br/>[1] Standard Errors assume that the covariance matrix of the errors is correctly specified.<br/>[2] The condition number is large, 2.17e+04. This might indicate that there are<br/>strong multicollinearity or other numerical problems."
      ],
      "text/plain": [
       "<class 'statsmodels.iolib.summary.Summary'>\n",
       "\"\"\"\n",
       "                            OLS Regression Results                            \n",
       "==============================================================================\n",
       "Dep. Variable:                   wage   R-squared:                       0.443\n",
       "Model:                            OLS   Adj. R-squared:                  0.436\n",
       "Method:                 Least Squares   F-statistic:                     70.16\n",
       "Date:                Tue, 25 Jun 2019   Prob (F-statistic):           2.00e-33\n",
       "Time:                        23:04:19   Log-Likelihood:                -2160.7\n",
       "No. Observations:                 269   AIC:                             4329.\n",
       "Df Residuals:                     265   BIC:                             4344.\n",
       "Df Model:                           3                                         \n",
       "Covariance Type:            nonrobust                                         \n",
       "===============================================================================\n",
       "                  coef    std err          t      P>|t|      [0.025      0.975]\n",
       "-------------------------------------------------------------------------------\n",
       "const          59.2577    221.555      0.267      0.789    -376.974     495.489\n",
       "points        207.2324     65.419      3.168      0.002      78.426     336.039\n",
       "points_sq      -9.6892      5.387     -1.799      0.073     -20.295       0.917\n",
       "points_cube     0.2606      0.128      2.037      0.043       0.009       0.512\n",
       "==============================================================================\n",
       "Omnibus:                       38.460   Durbin-Watson:                   1.838\n",
       "Prob(Omnibus):                  0.000   Jarque-Bera (JB):               57.175\n",
       "Skew:                           0.871   Prob(JB):                     3.84e-13\n",
       "Kurtosis:                       4.437   Cond. No.                     2.17e+04\n",
       "==============================================================================\n",
       "\n",
       "Warnings:\n",
       "[1] Standard Errors assume that the covariance matrix of the errors is correctly specified.\n",
       "[2] The condition number is large, 2.17e+04. This might indicate that there are\n",
       "strong multicollinearity or other numerical problems.\n",
       "\"\"\""
      ]
     },
     "execution_count": 76,
     "metadata": {},
     "output_type": "execute_result"
    }
   ],
   "source": [
    "x = df[['points','points_sq','points_cube']]\n",
    "x1 = sm.add_constant(x)\n",
    "y = df['wage']\n",
    "\n",
    "res = sm.OLS(y,x1).fit()\n",
    "res.summary()"
   ]
  },
  {
   "cell_type": "code",
   "execution_count": 78,
   "metadata": {
    "ExecuteTime": {
     "end_time": "2019-06-26T03:12:58.711935Z",
     "start_time": "2019-06-26T03:12:58.558103Z"
    }
   },
   "outputs": [
    {
     "data": {
      "text/plain": [
       "[<matplotlib.lines.Line2D at 0x1c278665c0>]"
      ]
     },
     "execution_count": 78,
     "metadata": {},
     "output_type": "execute_result"
    },
    {
     "data": {
      "image/png": "[encoded data removed]",
      "text/plain": [
       "<Figure size 432x288 with 1 Axes>"
      ]
     },
     "metadata": {
      "needs_background": "light"
     },
     "output_type": "display_data"
    }
   ],
   "source": [
    "plt.plot(df.points, df.wage,'.')"
   ]
  },
  {
   "cell_type": "code",
   "execution_count": 80,
   "metadata": {
    "ExecuteTime": {
     "end_time": "2019-06-26T03:13:53.163276Z",
     "start_time": "2019-06-26T03:13:53.152995Z"
    }
   },
   "outputs": [
    {
     "data": {
      "text/plain": [
       "const           59.257708\n",
       "points         207.232450\n",
       "points_sq       -9.689227\n",
       "points_cube      0.260608\n",
       "dtype: float64"
      ]
     },
     "execution_count": 80,
     "metadata": {},
     "output_type": "execute_result"
    }
   ],
   "source": [
    "res.params"
   ]
  },
  {
   "cell_type": "code",
   "execution_count": 82,
   "metadata": {
    "ExecuteTime": {
     "end_time": "2019-06-26T03:15:22.553053Z",
     "start_time": "2019-06-26T03:15:22.549234Z"
    }
   },
   "outputs": [],
   "source": [
    "const, points, points_sq, points_cube = res.params"
   ]
  },
  {
   "cell_type": "code",
   "execution_count": 84,
   "metadata": {
    "ExecuteTime": {
     "end_time": "2019-06-26T03:15:34.839415Z",
     "start_time": "2019-06-26T03:15:34.825644Z"
    }
   },
   "outputs": [],
   "source": [
    "x = df.points\n",
    "y = const + points * df.points + points_sq * df.points_sq + points_cube * df.points_cube"
   ]
  },
  {
   "cell_type": "code",
   "execution_count": 90,
   "metadata": {
    "ExecuteTime": {
     "end_time": "2019-06-26T03:17:41.242880Z",
     "start_time": "2019-06-26T03:17:41.077791Z"
    }
   },
   "outputs": [
    {
     "data": {
      "text/plain": [
       "Text(0, 0.5, 'wage')"
      ]
     },
     "execution_count": 90,
     "metadata": {},
     "output_type": "execute_result"
    },
    {
     "data": {
      "image/png": "[encoded data removed]",
      "text/plain": [
       "<Figure size 432x288 with 1 Axes>"
      ]
     },
     "metadata": {
      "needs_background": "light"
     },
     "output_type": "display_data"
    }
   ],
   "source": [
    "plt.plot(df.points, df.wage,'.')\n",
    "plt.plot(x,y,'r.')\n",
    "plt.xlabel('points')\n",
    "plt.ylabel('wage')"
   ]
  },
  {
   "cell_type": "markdown",
   "metadata": {},
   "source": [
    "# qn 18\n",
    "Freestyle: try to create a model which you believe captures explains players wages\n",
    "best in terms of other attributes\n",
    "\n",
    "Freestyle: this is the best I /a few of my colleagues could do. I’m not suggesting\n",
    "by any means this is the gold standard, but in my view it represents a reasonably\n",
    "good first stab at a reasonable model for wages. The variable ’centerpoint’ is equal\n",
    "to center times points, and ldraft is the log of the draft variable. All the variables\n",
    "have the expected signs, and there is not a great deal of movement in coefficient\n",
    "values when the specification is changed slightly. There is a logic to the inclusion\n",
    "of the multiplication of center and points, since it is suggested that centers that\n",
    "score lots of points will be valued disproportionately more (perhaps this makes\n",
    "sense, my knowledge of basketball could be better!) Also, by logging the draft\n",
    "variable this allows it to have a nonlinear effect on wages, which is to be expected."
   ]
  },
  {
   "cell_type": "code",
   "execution_count": 91,
   "metadata": {
    "ExecuteTime": {
     "end_time": "2019-06-26T03:20:20.418027Z",
     "start_time": "2019-06-26T03:20:20.411774Z"
    }
   },
   "outputs": [
    {
     "data": {
      "text/plain": [
       "Index(['ID', 'marr', 'wage', 'exper', 'age', 'coll', 'games', 'minutes',\n",
       "       'guard', 'forward', 'center', 'points', 'rebounds', 'assists', 'draft',\n",
       "       'allstar', 'avgmin', 'lwage', 'black', 'children', 'expersq', 'agesq',\n",
       "       'marrblck', 'points_per_game', 'points:games', 'points_sq',\n",
       "       'points_cube'],\n",
       "      dtype='object')"
      ]
     },
     "execution_count": 91,
     "metadata": {},
     "output_type": "execute_result"
    }
   ],
   "source": [
    "df.columns"
   ]
  },
  {
   "cell_type": "code",
   "execution_count": 105,
   "metadata": {
    "ExecuteTime": {
     "end_time": "2019-06-26T03:27:43.497986Z",
     "start_time": "2019-06-26T03:27:43.470958Z"
    }
   },
   "outputs": [
    {
     "name": "stderr",
     "output_type": "stream",
     "text": [
      "/Users/poudel/miniconda3/envs/dataSc/lib/python3.7/site-packages/numpy/core/fromnumeric.py:2223: FutureWarning: Method .ptp is deprecated and will be removed in a future version. Use numpy.ptp instead.\n",
      "  return ptp(axis=axis, out=out, **kwargs)\n"
     ]
    },
    {
     "data": {
      "text/html": [
       "<table class=\"simpletable\">\n",
       "<caption>OLS Regression Results</caption>\n",
       "<tr>\n",
       "  <th>Dep. Variable:</th>          <td>wage</td>       <th>  R-squared:         </th> <td>   0.599</td>\n",
       "</tr>\n",
       "<tr>\n",
       "  <th>Model:</th>                   <td>OLS</td>       <th>  Adj. R-squared:    </th> <td>   0.593</td>\n",
       "</tr>\n",
       "<tr>\n",
       "  <th>Method:</th>             <td>Least Squares</td>  <th>  F-statistic:       </th> <td>   87.93</td>\n",
       "</tr>\n",
       "<tr>\n",
       "  <th>Date:</th>             <td>Tue, 25 Jun 2019</td> <th>  Prob (F-statistic):</th> <td>1.45e-45</td>\n",
       "</tr>\n",
       "<tr>\n",
       "  <th>Time:</th>                 <td>23:27:43</td>     <th>  Log-Likelihood:    </th> <td> -1887.3</td>\n",
       "</tr>\n",
       "<tr>\n",
       "  <th>No. Observations:</th>      <td>   240</td>      <th>  AIC:               </th> <td>   3785.</td>\n",
       "</tr>\n",
       "<tr>\n",
       "  <th>Df Residuals:</th>          <td>   235</td>      <th>  BIC:               </th> <td>   3802.</td>\n",
       "</tr>\n",
       "<tr>\n",
       "  <th>Df Model:</th>              <td>     4</td>      <th>                     </th>     <td> </td>   \n",
       "</tr>\n",
       "<tr>\n",
       "  <th>Covariance Type:</th>      <td>nonrobust</td>    <th>                     </th>     <td> </td>   \n",
       "</tr>\n",
       "</table>\n",
       "<table class=\"simpletable\">\n",
       "<tr>\n",
       "        <td></td>          <th>coef</th>     <th>std err</th>      <th>t</th>      <th>P>|t|</th>  <th>[0.025</th>    <th>0.975]</th>  \n",
       "</tr>\n",
       "<tr>\n",
       "  <th>const</th>        <td> 1003.7200</td> <td>  185.293</td> <td>    5.417</td> <td> 0.000</td> <td>  638.672</td> <td> 1368.768</td>\n",
       "</tr>\n",
       "<tr>\n",
       "  <th>points</th>       <td>   68.6397</td> <td>    8.147</td> <td>    8.425</td> <td> 0.000</td> <td>   52.589</td> <td>   84.690</td>\n",
       "</tr>\n",
       "<tr>\n",
       "  <th>centerpoints</th> <td>   36.1528</td> <td>    9.287</td> <td>    3.893</td> <td> 0.000</td> <td>   17.855</td> <td>   54.450</td>\n",
       "</tr>\n",
       "<tr>\n",
       "  <th>ldraft</th>       <td> -281.6108</td> <td>   45.220</td> <td>   -6.228</td> <td> 0.000</td> <td> -370.699</td> <td> -192.523</td>\n",
       "</tr>\n",
       "<tr>\n",
       "  <th>exper</th>        <td>   83.9601</td> <td>   12.078</td> <td>    6.952</td> <td> 0.000</td> <td>   60.165</td> <td>  107.755</td>\n",
       "</tr>\n",
       "</table>\n",
       "<table class=\"simpletable\">\n",
       "<tr>\n",
       "  <th>Omnibus:</th>       <td>36.034</td> <th>  Durbin-Watson:     </th> <td>   1.909</td>\n",
       "</tr>\n",
       "<tr>\n",
       "  <th>Prob(Omnibus):</th> <td> 0.000</td> <th>  Jarque-Bera (JB):  </th> <td>  92.884</td>\n",
       "</tr>\n",
       "<tr>\n",
       "  <th>Skew:</th>          <td> 0.664</td> <th>  Prob(JB):          </th> <td>6.77e-21</td>\n",
       "</tr>\n",
       "<tr>\n",
       "  <th>Kurtosis:</th>      <td> 5.743</td> <th>  Cond. No.          </th> <td>    63.2</td>\n",
       "</tr>\n",
       "</table><br/><br/>Warnings:<br/>[1] Standard Errors assume that the covariance matrix of the errors is correctly specified."
      ],
      "text/plain": [
       "<class 'statsmodels.iolib.summary.Summary'>\n",
       "\"\"\"\n",
       "                            OLS Regression Results                            \n",
       "==============================================================================\n",
       "Dep. Variable:                   wage   R-squared:                       0.599\n",
       "Model:                            OLS   Adj. R-squared:                  0.593\n",
       "Method:                 Least Squares   F-statistic:                     87.93\n",
       "Date:                Tue, 25 Jun 2019   Prob (F-statistic):           1.45e-45\n",
       "Time:                        23:27:43   Log-Likelihood:                -1887.3\n",
       "No. Observations:                 240   AIC:                             3785.\n",
       "Df Residuals:                     235   BIC:                             3802.\n",
       "Df Model:                           4                                         \n",
       "Covariance Type:            nonrobust                                         \n",
       "================================================================================\n",
       "                   coef    std err          t      P>|t|      [0.025      0.975]\n",
       "--------------------------------------------------------------------------------\n",
       "const         1003.7200    185.293      5.417      0.000     638.672    1368.768\n",
       "points          68.6397      8.147      8.425      0.000      52.589      84.690\n",
       "centerpoints    36.1528      9.287      3.893      0.000      17.855      54.450\n",
       "ldraft        -281.6108     45.220     -6.228      0.000    -370.699    -192.523\n",
       "exper           83.9601     12.078      6.952      0.000      60.165     107.755\n",
       "==============================================================================\n",
       "Omnibus:                       36.034   Durbin-Watson:                   1.909\n",
       "Prob(Omnibus):                  0.000   Jarque-Bera (JB):               92.884\n",
       "Skew:                           0.664   Prob(JB):                     6.77e-21\n",
       "Kurtosis:                       5.743   Cond. No.                         63.2\n",
       "==============================================================================\n",
       "\n",
       "Warnings:\n",
       "[1] Standard Errors assume that the covariance matrix of the errors is correctly specified.\n",
       "\"\"\""
      ]
     },
     "execution_count": 105,
     "metadata": {},
     "output_type": "execute_result"
    }
   ],
   "source": [
    "df['ldraft'] = np.log(df.draft.values)\n",
    "df['centerpoints'] = df.center * df.points\n",
    "\n",
    "# the column draft has 29 nans, we remove all 29 rows\n",
    "df= df.dropna(how='any')\n",
    "\n",
    "x = df[['points','centerpoints','ldraft','exper']]\n",
    "x1 = sm.add_constant(x)\n",
    "y = df['wage']\n",
    "\n",
    "\n",
    "\n",
    "res = sm.OLS(y,x1).fit()\n",
    "res.summary()"
   ]
  },
  {
   "cell_type": "code",
   "execution_count": null,
   "metadata": {},
   "outputs": [],
   "source": []
  }
 ],
 "metadata": {
  "kernelspec": {
   "display_name": "Python (dataSc)",
   "language": "python",
   "name": "datasc"
  },
  "language_info": {
   "codemirror_mode": {
    "name": "ipython",
    "version": 3
   },
   "file_extension": ".py",
   "mimetype": "text/x-python",
   "name": "python",
   "nbconvert_exporter": "python",
   "pygments_lexer": "ipython3",
   "version": "3.7.0"
  },
  "toc": {
   "base_numbering": 1,
   "nav_menu": {},
   "number_sections": true,
   "sideBar": true,
   "skip_h1_title": false,
   "title_cell": "Table of Contents",
   "title_sidebar": "Contents",
   "toc_cell": true,
   "toc_position": {},
   "toc_section_display": true,
   "toc_window_display": true
  }
 },
 "nbformat": 4,
 "nbformat_minor": 2
}
