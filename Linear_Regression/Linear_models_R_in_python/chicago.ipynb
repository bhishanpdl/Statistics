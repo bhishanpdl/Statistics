{
 "cells": [
  {
   "cell_type": "markdown",
   "metadata": {},
   "source": [
    "# Chapter 12: Insurance redlining example\n",
    "\n",
    "Load in the Python packages"
   ]
  },
  {
   "cell_type": "code",
   "execution_count": 1,
   "metadata": {},
   "outputs": [],
   "source": [
    "import numpy as np\n",
    "import matplotlib.pyplot as plt\n",
    "import statsmodels.api as sm\n",
    "import statsmodels.formula.api as smf\n",
    "import pandas as pd"
   ]
  },
  {
   "cell_type": "markdown",
   "metadata": {},
   "source": [
    "## Ecological Correlation\n",
    "\n",
    "Read in the data:"
   ]
  },
  {
   "cell_type": "code",
   "execution_count": 2,
   "metadata": {},
   "outputs": [
    {
     "data": {
      "text/html": [
       "<div>\n",
       "<style scoped>\n",
       "    .dataframe tbody tr th:only-of-type {\n",
       "        vertical-align: middle;\n",
       "    }\n",
       "\n",
       "    .dataframe tbody tr th {\n",
       "        vertical-align: top;\n",
       "    }\n",
       "\n",
       "    .dataframe thead th {\n",
       "        text-align: right;\n",
       "    }\n",
       "</style>\n",
       "<table border=\"1\" class=\"dataframe\">\n",
       "  <thead>\n",
       "    <tr style=\"text-align: right;\">\n",
       "      <th></th>\n",
       "      <th>usborn</th>\n",
       "      <th>income</th>\n",
       "      <th>home</th>\n",
       "      <th>pop</th>\n",
       "    </tr>\n",
       "  </thead>\n",
       "  <tbody>\n",
       "    <tr>\n",
       "      <th>Alabama</th>\n",
       "      <td>0.98656</td>\n",
       "      <td>21442</td>\n",
       "      <td>75.9</td>\n",
       "      <td>4040587</td>\n",
       "    </tr>\n",
       "    <tr>\n",
       "      <th>Alaska</th>\n",
       "      <td>0.93914</td>\n",
       "      <td>25675</td>\n",
       "      <td>34.0</td>\n",
       "      <td>550043</td>\n",
       "    </tr>\n",
       "    <tr>\n",
       "      <th>Arizona</th>\n",
       "      <td>0.90918</td>\n",
       "      <td>23060</td>\n",
       "      <td>34.2</td>\n",
       "      <td>3665228</td>\n",
       "    </tr>\n",
       "    <tr>\n",
       "      <th>Arkansas</th>\n",
       "      <td>0.98688</td>\n",
       "      <td>20346</td>\n",
       "      <td>67.1</td>\n",
       "      <td>2350725</td>\n",
       "    </tr>\n",
       "    <tr>\n",
       "      <th>California</th>\n",
       "      <td>0.74541</td>\n",
       "      <td>27503</td>\n",
       "      <td>46.4</td>\n",
       "      <td>29760021</td>\n",
       "    </tr>\n",
       "  </tbody>\n",
       "</table>\n",
       "</div>"
      ],
      "text/plain": [
       "             usborn  income  home       pop\n",
       "Alabama     0.98656   21442  75.9   4040587\n",
       "Alaska      0.93914   25675  34.0    550043\n",
       "Arizona     0.90918   23060  34.2   3665228\n",
       "Arkansas    0.98688   20346  67.1   2350725\n",
       "California  0.74541   27503  46.4  29760021"
      ]
     },
     "execution_count": 2,
     "metadata": {},
     "output_type": "execute_result"
    }
   ],
   "source": [
    "eco = pd.read_csv(\"data/eco.csv\", index_col=0)\n",
    "eco.head()"
   ]
  },
  {
   "cell_type": "markdown",
   "metadata": {},
   "source": [
    "Plot the data:"
   ]
  },
  {
   "cell_type": "code",
   "execution_count": 3,
   "metadata": {},
   "outputs": [
    {
     "data": {
      "image/png": "[encoded data removed]",
      "text/plain": [
       "<Figure size 432x288 with 1 Axes>"
      ]
     },
     "metadata": {
      "needs_background": "light"
     },
     "output_type": "display_data"
    }
   ],
   "source": [
    "plt.scatter(eco.usborn, eco.income)\n",
    "plt.ylabel(\"Income\")\n",
    "plt.xlabel(\"Fraction US born\")\n",
    "plt.show()"
   ]
  },
  {
   "cell_type": "code",
   "execution_count": 4,
   "metadata": {},
   "outputs": [
    {
     "data": {
      "text/html": [
       "<table class=\"simpletable\">\n",
       "<caption>OLS Regression Results</caption>\n",
       "<tr>\n",
       "  <th>Dep. Variable:</th>         <td>income</td>      <th>  R-squared:         </th> <td>   0.334</td>\n",
       "</tr>\n",
       "<tr>\n",
       "  <th>Model:</th>                   <td>OLS</td>       <th>  Adj. R-squared:    </th> <td>   0.321</td>\n",
       "</tr>\n",
       "<tr>\n",
       "  <th>Method:</th>             <td>Least Squares</td>  <th>  F-statistic:       </th> <td>   24.60</td>\n",
       "</tr>\n",
       "<tr>\n",
       "  <th>Date:</th>             <td>Tue, 25 Sep 2018</td> <th>  Prob (F-statistic):</th> <td>8.89e-06</td>\n",
       "</tr>\n",
       "<tr>\n",
       "  <th>Time:</th>                 <td>15:47:22</td>     <th>  Log-Likelihood:    </th> <td> -487.38</td>\n",
       "</tr>\n",
       "<tr>\n",
       "  <th>No. Observations:</th>      <td>    51</td>      <th>  AIC:               </th> <td>   978.8</td>\n",
       "</tr>\n",
       "<tr>\n",
       "  <th>Df Residuals:</th>          <td>    49</td>      <th>  BIC:               </th> <td>   982.6</td>\n",
       "</tr>\n",
       "<tr>\n",
       "  <th>Df Model:</th>              <td>     1</td>      <th>                     </th>     <td> </td>   \n",
       "</tr>\n",
       "<tr>\n",
       "  <th>Covariance Type:</th>      <td>nonrobust</td>    <th>                     </th>     <td> </td>   \n",
       "</tr>\n",
       "</table>\n",
       "<table class=\"simpletable\">\n",
       "<tr>\n",
       "     <td></td>       <th>coef</th>     <th>std err</th>      <th>t</th>      <th>P>|t|</th>  <th>[0.025</th>    <th>0.975]</th>  \n",
       "</tr>\n",
       "<tr>\n",
       "  <th>const</th>  <td> 6.864e+04</td> <td> 8739.004</td> <td>    7.855</td> <td> 0.000</td> <td> 5.11e+04</td> <td> 8.62e+04</td>\n",
       "</tr>\n",
       "<tr>\n",
       "  <th>usborn</th> <td>-4.602e+04</td> <td> 9279.116</td> <td>   -4.959</td> <td> 0.000</td> <td>-6.47e+04</td> <td>-2.74e+04</td>\n",
       "</tr>\n",
       "</table>\n",
       "<table class=\"simpletable\">\n",
       "<tr>\n",
       "  <th>Omnibus:</th>       <td> 7.381</td> <th>  Durbin-Watson:     </th> <td>   1.635</td>\n",
       "</tr>\n",
       "<tr>\n",
       "  <th>Prob(Omnibus):</th> <td> 0.025</td> <th>  Jarque-Bera (JB):  </th> <td>   6.433</td>\n",
       "</tr>\n",
       "<tr>\n",
       "  <th>Skew:</th>          <td> 0.727</td> <th>  Prob(JB):          </th> <td>  0.0401</td>\n",
       "</tr>\n",
       "<tr>\n",
       "  <th>Kurtosis:</th>      <td> 3.956</td> <th>  Cond. No.          </th> <td>    35.8</td>\n",
       "</tr>\n",
       "</table><br/><br/>Warnings:<br/>[1] Standard Errors assume that the covariance matrix of the errors is correctly specified."
      ],
      "text/plain": [
       "<class 'statsmodels.iolib.summary.Summary'>\n",
       "\"\"\"\n",
       "                            OLS Regression Results                            \n",
       "==============================================================================\n",
       "Dep. Variable:                 income   R-squared:                       0.334\n",
       "Model:                            OLS   Adj. R-squared:                  0.321\n",
       "Method:                 Least Squares   F-statistic:                     24.60\n",
       "Date:                Tue, 25 Sep 2018   Prob (F-statistic):           8.89e-06\n",
       "Time:                        15:47:22   Log-Likelihood:                -487.38\n",
       "No. Observations:                  51   AIC:                             978.8\n",
       "Df Residuals:                      49   BIC:                             982.6\n",
       "Df Model:                           1                                         \n",
       "Covariance Type:            nonrobust                                         \n",
       "==============================================================================\n",
       "                 coef    std err          t      P>|t|      [0.025      0.975]\n",
       "------------------------------------------------------------------------------\n",
       "const       6.864e+04   8739.004      7.855      0.000    5.11e+04    8.62e+04\n",
       "usborn     -4.602e+04   9279.116     -4.959      0.000   -6.47e+04   -2.74e+04\n",
       "==============================================================================\n",
       "Omnibus:                        7.381   Durbin-Watson:                   1.635\n",
       "Prob(Omnibus):                  0.025   Jarque-Bera (JB):                6.433\n",
       "Skew:                           0.727   Prob(JB):                       0.0401\n",
       "Kurtosis:                       3.956   Cond. No.                         35.8\n",
       "==============================================================================\n",
       "\n",
       "Warnings:\n",
       "[1] Standard Errors assume that the covariance matrix of the errors is correctly specified.\n",
       "\"\"\""
      ]
     },
     "execution_count": 4,
     "metadata": {},
     "output_type": "execute_result"
    }
   ],
   "source": [
    "lmod = sm.OLS(eco.income, sm.add_constant(eco.usborn)).fit()\n",
    "lmod.summary()"
   ]
  },
  {
   "cell_type": "code",
   "execution_count": 5,
   "metadata": {},
   "outputs": [
    {
     "data": {
      "image/png": "[encoded data removed]",
      "text/plain": [
       "<Figure size 432x288 with 1 Axes>"
      ]
     },
     "metadata": {
      "needs_background": "light"
     },
     "output_type": "display_data"
    }
   ],
   "source": [
    "plt.scatter(eco.usborn, eco.income)\n",
    "plt.ylabel(\"Income\")\n",
    "plt.xlabel(\"Fraction US born\")\n",
    "plt.plot([0, 1.0], [lmod.params[0] + lmod.params[1]*0.0, lmod.params[0] + lmod.params[1]*1])\n",
    "plt.show()"
   ]
  },
  {
   "cell_type": "markdown",
   "metadata": {},
   "source": [
    "## Initial Data Analysis\n",
    "\n",
    "Read in and plot the data:"
   ]
  },
  {
   "cell_type": "code",
   "execution_count": 6,
   "metadata": {},
   "outputs": [
    {
     "data": {
      "text/html": [
       "<div>\n",
       "<style scoped>\n",
       "    .dataframe tbody tr th:only-of-type {\n",
       "        vertical-align: middle;\n",
       "    }\n",
       "\n",
       "    .dataframe tbody tr th {\n",
       "        vertical-align: top;\n",
       "    }\n",
       "\n",
       "    .dataframe thead th {\n",
       "        text-align: right;\n",
       "    }\n",
       "</style>\n",
       "<table border=\"1\" class=\"dataframe\">\n",
       "  <thead>\n",
       "    <tr style=\"text-align: right;\">\n",
       "      <th></th>\n",
       "      <th>race</th>\n",
       "      <th>fire</th>\n",
       "      <th>theft</th>\n",
       "      <th>age</th>\n",
       "      <th>involact</th>\n",
       "      <th>income</th>\n",
       "      <th>side</th>\n",
       "    </tr>\n",
       "  </thead>\n",
       "  <tbody>\n",
       "    <tr>\n",
       "      <th>60626</th>\n",
       "      <td>10.0</td>\n",
       "      <td>6.2</td>\n",
       "      <td>29</td>\n",
       "      <td>60.4</td>\n",
       "      <td>0.0</td>\n",
       "      <td>11.744</td>\n",
       "      <td>n</td>\n",
       "    </tr>\n",
       "    <tr>\n",
       "      <th>60640</th>\n",
       "      <td>22.2</td>\n",
       "      <td>9.5</td>\n",
       "      <td>44</td>\n",
       "      <td>76.5</td>\n",
       "      <td>0.1</td>\n",
       "      <td>9.323</td>\n",
       "      <td>n</td>\n",
       "    </tr>\n",
       "    <tr>\n",
       "      <th>60613</th>\n",
       "      <td>19.6</td>\n",
       "      <td>10.5</td>\n",
       "      <td>36</td>\n",
       "      <td>73.5</td>\n",
       "      <td>1.2</td>\n",
       "      <td>9.948</td>\n",
       "      <td>n</td>\n",
       "    </tr>\n",
       "    <tr>\n",
       "      <th>60657</th>\n",
       "      <td>17.3</td>\n",
       "      <td>7.7</td>\n",
       "      <td>37</td>\n",
       "      <td>66.9</td>\n",
       "      <td>0.5</td>\n",
       "      <td>10.656</td>\n",
       "      <td>n</td>\n",
       "    </tr>\n",
       "    <tr>\n",
       "      <th>60614</th>\n",
       "      <td>24.5</td>\n",
       "      <td>8.6</td>\n",
       "      <td>53</td>\n",
       "      <td>81.4</td>\n",
       "      <td>0.7</td>\n",
       "      <td>9.730</td>\n",
       "      <td>n</td>\n",
       "    </tr>\n",
       "  </tbody>\n",
       "</table>\n",
       "</div>"
      ],
      "text/plain": [
       "       race  fire  theft   age  involact  income side\n",
       "60626  10.0   6.2     29  60.4       0.0  11.744    n\n",
       "60640  22.2   9.5     44  76.5       0.1   9.323    n\n",
       "60613  19.6  10.5     36  73.5       1.2   9.948    n\n",
       "60657  17.3   7.7     37  66.9       0.5  10.656    n\n",
       "60614  24.5   8.6     53  81.4       0.7   9.730    n"
      ]
     },
     "execution_count": 6,
     "metadata": {},
     "output_type": "execute_result"
    }
   ],
   "source": [
    "chredlin = pd.read_csv(\"data/chredlin.csv\", index_col=0)\n",
    "chredlin.head()"
   ]
  },
  {
   "cell_type": "code",
   "execution_count": 7,
   "metadata": {},
   "outputs": [
    {
     "data": {
      "image/png": "[encoded data removed]",
      "text/plain": [
       "<Figure size 432x288 with 6 Axes>"
      ]
     },
     "metadata": {
      "needs_background": "light"
     },
     "output_type": "display_data"
    }
   ],
   "source": [
    "fig, ((ax1, ax2, ax3), (ax4, ax5, ax6)) = plt.subplots(nrows=2, ncols=3)\n",
    "ax1.scatter(chredlin.race, chredlin.involact)\n",
    "ax1.set(title=\"Race\")\n",
    "ax1.set_ylabel(\"Involact\")\n",
    "\n",
    "ax2.scatter(chredlin.fire, chredlin.involact)\n",
    "ax2.set(title=\"Fire\")\n",
    "\n",
    "ax3.scatter(chredlin.theft, chredlin.involact)\n",
    "ax3.set(title=\"Theft\")\n",
    "\n",
    "ax4.scatter(chredlin.age, chredlin.involact)\n",
    "ax4.set(title=\"Age\")\n",
    "ax4.set_ylabel(\"Involact\")\n",
    "\n",
    "ax5.scatter(chredlin.income, chredlin.involact)\n",
    "ax5.set(title=\"Income\")\n",
    "\n",
    "ax6.scatter(chredlin.side, chredlin.involact)\n",
    "ax6.set(title=\"Side\")\n",
    "\n",
    "fig.tight_layout()\n",
    "plt.show()"
   ]
  },
  {
   "cell_type": "markdown",
   "metadata": {},
   "source": [
    "A more compact way of achieving a similar result:"
   ]
  },
  {
   "cell_type": "code",
   "execution_count": 8,
   "metadata": {},
   "outputs": [
    {
     "data": {
      "image/png": "[encoded data removed]",
      "text/plain": [
       "<Figure size 900x180 with 5 Axes>"
      ]
     },
     "metadata": {
      "needs_background": "light"
     },
     "output_type": "display_data"
    }
   ],
   "source": [
    "import seaborn as sns\n",
    "sns.pairplot(chredlin, x_vars=[\"race\",\"fire\",\"theft\",\"age\",\"income\"], y_vars=\"involact\")\n",
    "plt.show()"
   ]
  },
  {
   "cell_type": "code",
   "execution_count": 9,
   "metadata": {},
   "outputs": [
    {
     "data": {
      "text/html": [
       "<table class=\"simpletable\">\n",
       "<caption>OLS Regression Results</caption>\n",
       "<tr>\n",
       "  <th>Dep. Variable:</th>        <td>involact</td>     <th>  R-squared:         </th> <td>   0.509</td>\n",
       "</tr>\n",
       "<tr>\n",
       "  <th>Model:</th>                   <td>OLS</td>       <th>  Adj. R-squared:    </th> <td>   0.499</td>\n",
       "</tr>\n",
       "<tr>\n",
       "  <th>Method:</th>             <td>Least Squares</td>  <th>  F-statistic:       </th> <td>   46.73</td>\n",
       "</tr>\n",
       "<tr>\n",
       "  <th>Date:</th>             <td>Tue, 25 Sep 2018</td> <th>  Prob (F-statistic):</th> <td>1.78e-08</td>\n",
       "</tr>\n",
       "<tr>\n",
       "  <th>Time:</th>                 <td>15:47:22</td>     <th>  Log-Likelihood:    </th> <td> -28.016</td>\n",
       "</tr>\n",
       "<tr>\n",
       "  <th>No. Observations:</th>      <td>    47</td>      <th>  AIC:               </th> <td>   60.03</td>\n",
       "</tr>\n",
       "<tr>\n",
       "  <th>Df Residuals:</th>          <td>    45</td>      <th>  BIC:               </th> <td>   63.73</td>\n",
       "</tr>\n",
       "<tr>\n",
       "  <th>Df Model:</th>              <td>     1</td>      <th>                     </th>     <td> </td>   \n",
       "</tr>\n",
       "<tr>\n",
       "  <th>Covariance Type:</th>      <td>nonrobust</td>    <th>                     </th>     <td> </td>   \n",
       "</tr>\n",
       "</table>\n",
       "<table class=\"simpletable\">\n",
       "<tr>\n",
       "    <td></td>       <th>coef</th>     <th>std err</th>      <th>t</th>      <th>P>|t|</th>  <th>[0.025</th>    <th>0.975]</th>  \n",
       "</tr>\n",
       "<tr>\n",
       "  <th>const</th> <td>    0.1292</td> <td>    0.097</td> <td>    1.338</td> <td> 0.188</td> <td>   -0.065</td> <td>    0.324</td>\n",
       "</tr>\n",
       "<tr>\n",
       "  <th>race</th>  <td>    0.0139</td> <td>    0.002</td> <td>    6.836</td> <td> 0.000</td> <td>    0.010</td> <td>    0.018</td>\n",
       "</tr>\n",
       "</table>\n",
       "<table class=\"simpletable\">\n",
       "<tr>\n",
       "  <th>Omnibus:</th>       <td> 2.747</td> <th>  Durbin-Watson:     </th> <td>   1.590</td>\n",
       "</tr>\n",
       "<tr>\n",
       "  <th>Prob(Omnibus):</th> <td> 0.253</td> <th>  Jarque-Bera (JB):  </th> <td>   2.582</td>\n",
       "</tr>\n",
       "<tr>\n",
       "  <th>Skew:</th>          <td> 0.549</td> <th>  Prob(JB):          </th> <td>   0.275</td>\n",
       "</tr>\n",
       "<tr>\n",
       "  <th>Kurtosis:</th>      <td> 2.666</td> <th>  Cond. No.          </th> <td>    70.2</td>\n",
       "</tr>\n",
       "</table><br/><br/>Warnings:<br/>[1] Standard Errors assume that the covariance matrix of the errors is correctly specified."
      ],
      "text/plain": [
       "<class 'statsmodels.iolib.summary.Summary'>\n",
       "\"\"\"\n",
       "                            OLS Regression Results                            \n",
       "==============================================================================\n",
       "Dep. Variable:               involact   R-squared:                       0.509\n",
       "Model:                            OLS   Adj. R-squared:                  0.499\n",
       "Method:                 Least Squares   F-statistic:                     46.73\n",
       "Date:                Tue, 25 Sep 2018   Prob (F-statistic):           1.78e-08\n",
       "Time:                        15:47:22   Log-Likelihood:                -28.016\n",
       "No. Observations:                  47   AIC:                             60.03\n",
       "Df Residuals:                      45   BIC:                             63.73\n",
       "Df Model:                           1                                         \n",
       "Covariance Type:            nonrobust                                         \n",
       "==============================================================================\n",
       "                 coef    std err          t      P>|t|      [0.025      0.975]\n",
       "------------------------------------------------------------------------------\n",
       "const          0.1292      0.097      1.338      0.188      -0.065       0.324\n",
       "race           0.0139      0.002      6.836      0.000       0.010       0.018\n",
       "==============================================================================\n",
       "Omnibus:                        2.747   Durbin-Watson:                   1.590\n",
       "Prob(Omnibus):                  0.253   Jarque-Bera (JB):                2.582\n",
       "Skew:                           0.549   Prob(JB):                        0.275\n",
       "Kurtosis:                       2.666   Cond. No.                         70.2\n",
       "==============================================================================\n",
       "\n",
       "Warnings:\n",
       "[1] Standard Errors assume that the covariance matrix of the errors is correctly specified.\n",
       "\"\"\""
      ]
     },
     "execution_count": 9,
     "metadata": {},
     "output_type": "execute_result"
    }
   ],
   "source": [
    "lmod = sm.OLS(chredlin.involact, sm.add_constant(chredlin.race)).fit()\n",
    "lmod.summary()"
   ]
  },
  {
   "cell_type": "code",
   "execution_count": 10,
   "metadata": {},
   "outputs": [
    {
     "data": {
      "image/png": "[encoded data removed]",
      "text/plain": [
       "<Figure size 432x288 with 2 Axes>"
      ]
     },
     "metadata": {
      "needs_background": "light"
     },
     "output_type": "display_data"
    }
   ],
   "source": [
    "plt.subplot(1, 2, 1)\n",
    "plt.scatter(chredlin.race, chredlin.fire)\n",
    "plt.xlabel(\"Race\")\n",
    "plt.ylabel(\"Fire\")\n",
    "\n",
    "plt.subplot(1, 2, 2)\n",
    "plt.scatter(chredlin.race, chredlin.theft)\n",
    "plt.xlabel(\"Race\")\n",
    "plt.ylabel(\"Theft\")\n",
    "\n",
    "plt.tight_layout()\n",
    "\n",
    "plt.show()"
   ]
  },
  {
   "cell_type": "markdown",
   "metadata": {},
   "source": [
    "# Full model with diagnostics"
   ]
  },
  {
   "cell_type": "code",
   "execution_count": 11,
   "metadata": {},
   "outputs": [
    {
     "data": {
      "text/html": [
       "<table class=\"simpletable\">\n",
       "<caption>OLS Regression Results</caption>\n",
       "<tr>\n",
       "  <th>Dep. Variable:</th>        <td>involact</td>     <th>  R-squared:         </th> <td>   0.752</td>\n",
       "</tr>\n",
       "<tr>\n",
       "  <th>Model:</th>                   <td>OLS</td>       <th>  Adj. R-squared:    </th> <td>   0.721</td>\n",
       "</tr>\n",
       "<tr>\n",
       "  <th>Method:</th>             <td>Least Squares</td>  <th>  F-statistic:       </th> <td>   24.83</td>\n",
       "</tr>\n",
       "<tr>\n",
       "  <th>Date:</th>             <td>Tue, 25 Sep 2018</td> <th>  Prob (F-statistic):</th> <td>2.01e-11</td>\n",
       "</tr>\n",
       "<tr>\n",
       "  <th>Time:</th>                 <td>15:47:22</td>     <th>  Log-Likelihood:    </th> <td> -12.014</td>\n",
       "</tr>\n",
       "<tr>\n",
       "  <th>No. Observations:</th>      <td>    47</td>      <th>  AIC:               </th> <td>   36.03</td>\n",
       "</tr>\n",
       "<tr>\n",
       "  <th>Df Residuals:</th>          <td>    41</td>      <th>  BIC:               </th> <td>   47.13</td>\n",
       "</tr>\n",
       "<tr>\n",
       "  <th>Df Model:</th>              <td>     5</td>      <th>                     </th>     <td> </td>   \n",
       "</tr>\n",
       "<tr>\n",
       "  <th>Covariance Type:</th>      <td>nonrobust</td>    <th>                     </th>     <td> </td>   \n",
       "</tr>\n",
       "</table>\n",
       "<table class=\"simpletable\">\n",
       "<tr>\n",
       "         <td></td>           <th>coef</th>     <th>std err</th>      <th>t</th>      <th>P>|t|</th>  <th>[0.025</th>    <th>0.975]</th>  \n",
       "</tr>\n",
       "<tr>\n",
       "  <th>Intercept</th>      <td>   -1.1855</td> <td>    1.100</td> <td>   -1.078</td> <td> 0.288</td> <td>   -3.408</td> <td>    1.036</td>\n",
       "</tr>\n",
       "<tr>\n",
       "  <th>race</th>           <td>    0.0095</td> <td>    0.002</td> <td>    3.817</td> <td> 0.000</td> <td>    0.004</td> <td>    0.015</td>\n",
       "</tr>\n",
       "<tr>\n",
       "  <th>fire</th>           <td>    0.0399</td> <td>    0.009</td> <td>    4.547</td> <td> 0.000</td> <td>    0.022</td> <td>    0.058</td>\n",
       "</tr>\n",
       "<tr>\n",
       "  <th>theft</th>          <td>   -0.0103</td> <td>    0.003</td> <td>   -3.653</td> <td> 0.001</td> <td>   -0.016</td> <td>   -0.005</td>\n",
       "</tr>\n",
       "<tr>\n",
       "  <th>age</th>            <td>    0.0083</td> <td>    0.003</td> <td>    3.038</td> <td> 0.004</td> <td>    0.003</td> <td>    0.014</td>\n",
       "</tr>\n",
       "<tr>\n",
       "  <th>np.log(income)</th> <td>    0.3458</td> <td>    0.400</td> <td>    0.864</td> <td> 0.393</td> <td>   -0.462</td> <td>    1.154</td>\n",
       "</tr>\n",
       "</table>\n",
       "<table class=\"simpletable\">\n",
       "<tr>\n",
       "  <th>Omnibus:</th>       <td> 2.243</td> <th>  Durbin-Watson:     </th> <td>   2.161</td>\n",
       "</tr>\n",
       "<tr>\n",
       "  <th>Prob(Omnibus):</th> <td> 0.326</td> <th>  Jarque-Bera (JB):  </th> <td>   1.355</td>\n",
       "</tr>\n",
       "<tr>\n",
       "  <th>Skew:</th>          <td> 0.170</td> <th>  Prob(JB):          </th> <td>   0.508</td>\n",
       "</tr>\n",
       "<tr>\n",
       "  <th>Kurtosis:</th>      <td> 3.759</td> <th>  Cond. No.          </th> <td>2.01e+03</td>\n",
       "</tr>\n",
       "</table><br/><br/>Warnings:<br/>[1] Standard Errors assume that the covariance matrix of the errors is correctly specified.<br/>[2] The condition number is large, 2.01e+03. This might indicate that there are<br/>strong multicollinearity or other numerical problems."
      ],
      "text/plain": [
       "<class 'statsmodels.iolib.summary.Summary'>\n",
       "\"\"\"\n",
       "                            OLS Regression Results                            \n",
       "==============================================================================\n",
       "Dep. Variable:               involact   R-squared:                       0.752\n",
       "Model:                            OLS   Adj. R-squared:                  0.721\n",
       "Method:                 Least Squares   F-statistic:                     24.83\n",
       "Date:                Tue, 25 Sep 2018   Prob (F-statistic):           2.01e-11\n",
       "Time:                        15:47:22   Log-Likelihood:                -12.014\n",
       "No. Observations:                  47   AIC:                             36.03\n",
       "Df Residuals:                      41   BIC:                             47.13\n",
       "Df Model:                           5                                         \n",
       "Covariance Type:            nonrobust                                         \n",
       "==================================================================================\n",
       "                     coef    std err          t      P>|t|      [0.025      0.975]\n",
       "----------------------------------------------------------------------------------\n",
       "Intercept         -1.1855      1.100     -1.078      0.288      -3.408       1.036\n",
       "race               0.0095      0.002      3.817      0.000       0.004       0.015\n",
       "fire               0.0399      0.009      4.547      0.000       0.022       0.058\n",
       "theft             -0.0103      0.003     -3.653      0.001      -0.016      -0.005\n",
       "age                0.0083      0.003      3.038      0.004       0.003       0.014\n",
       "np.log(income)     0.3458      0.400      0.864      0.393      -0.462       1.154\n",
       "==============================================================================\n",
       "Omnibus:                        2.243   Durbin-Watson:                   2.161\n",
       "Prob(Omnibus):                  0.326   Jarque-Bera (JB):                1.355\n",
       "Skew:                           0.170   Prob(JB):                        0.508\n",
       "Kurtosis:                       3.759   Cond. No.                     2.01e+03\n",
       "==============================================================================\n",
       "\n",
       "Warnings:\n",
       "[1] Standard Errors assume that the covariance matrix of the errors is correctly specified.\n",
       "[2] The condition number is large, 2.01e+03. This might indicate that there are\n",
       "strong multicollinearity or other numerical problems.\n",
       "\"\"\""
      ]
     },
     "execution_count": 11,
     "metadata": {},
     "output_type": "execute_result"
    }
   ],
   "source": [
    "lmod = smf.ols(formula='involact ~ race + fire + theft + age + np.log(income)', data=chredlin).fit()\n",
    "lmod.summary()"
   ]
  },
  {
   "cell_type": "code",
   "execution_count": 12,
   "metadata": {},
   "outputs": [
    {
     "data": {
      "image/png": "[encoded data removed]",
      "text/plain": [
       "<Figure size 432x288 with 1 Axes>"
      ]
     },
     "metadata": {
      "needs_background": "light"
     },
     "output_type": "display_data"
    }
   ],
   "source": [
    "plt.scatter(lmod.fittedvalues, lmod.resid)\n",
    "plt.ylabel(\"Residuals\")\n",
    "plt.xlabel(\"Fitted values\")\n",
    "plt.axhline(0)\n",
    "plt.show()"
   ]
  },
  {
   "cell_type": "markdown",
   "metadata": {},
   "source": [
    "Trick needed to get statsmodels plots not to appear twice:"
   ]
  },
  {
   "cell_type": "code",
   "execution_count": 13,
   "metadata": {},
   "outputs": [
    {
     "name": "stderr",
     "output_type": "stream",
     "text": [
      "/anaconda/lib/python3.7/site-packages/scipy/stats/stats.py:1713: FutureWarning: Using a non-tuple sequence for multidimensional indexing is deprecated; use `arr[tuple(seq)]` instead of `arr[seq]`. In the future this will be interpreted as an array index, `arr[np.array(seq)]`, which will result either in an error or a different result.\n",
      "  return np.add.reduce(sorted[indexer] * weights, axis=axis) / sumval\n"
     ]
    },
    {
     "data": {
      "image/png": "[encoded data removed]",
      "text/plain": [
       "<Figure size 432x288 with 1 Axes>"
      ]
     },
     "metadata": {
      "needs_background": "light"
     },
     "output_type": "display_data"
    }
   ],
   "source": [
    "fig=sm.qqplot(lmod.resid, line=\"q\")"
   ]
  },
  {
   "cell_type": "markdown",
   "metadata": {},
   "source": [
    "Make the partial residual plots"
   ]
  },
  {
   "cell_type": "code",
   "execution_count": 14,
   "metadata": {},
   "outputs": [
    {
     "data": {
      "image/png": "[encoded data removed]",
      "text/plain": [
       "<Figure size 432x288 with 1 Axes>"
      ]
     },
     "metadata": {
      "needs_background": "light"
     },
     "output_type": "display_data"
    }
   ],
   "source": [
    "pr = lmod.resid + chredlin.race*lmod.params['race']\n",
    "plt.scatter(chredlin.race, pr)\n",
    "plt.xlabel(\"Race\")\n",
    "plt.ylabel(\"partial residuals\")\n",
    "xl,xu = [0, 100]\n",
    "plt.plot([xl,xu], [xl*lmod.params['race'], xu*lmod.params['race']])\n",
    "plt.show()"
   ]
  },
  {
   "cell_type": "code",
   "execution_count": 15,
   "metadata": {},
   "outputs": [
    {
     "data": {
      "image/png": "[encoded data removed]",
      "text/plain": [
       "<Figure size 432x288 with 1 Axes>"
      ]
     },
     "metadata": {
      "needs_background": "light"
     },
     "output_type": "display_data"
    }
   ],
   "source": [
    "pr = lmod.resid + chredlin.fire*lmod.params['fire']\n",
    "plt.scatter(chredlin.fire, pr)\n",
    "plt.xlabel(\"Fire\")\n",
    "plt.ylabel(\"partial residuals\")\n",
    "xl,xu = [0, 40]\n",
    "plt.plot([xl,xu], [xl*lmod.params['fire'], xu*lmod.params['fire']])\n",
    "plt.show()"
   ]
  },
  {
   "cell_type": "markdown",
   "metadata": {},
   "source": [
    "# Sensitivity Analysis\n",
    "\n",
    "Generate all combinations"
   ]
  },
  {
   "cell_type": "code",
   "execution_count": 16,
   "metadata": {},
   "outputs": [
    {
     "data": {
      "text/plain": [
       "[(),\n",
       " (1,),\n",
       " (2,),\n",
       " (3,),\n",
       " (4,),\n",
       " (1, 2),\n",
       " (1, 3),\n",
       " (1, 4),\n",
       " (2, 3),\n",
       " (2, 4),\n",
       " (3, 4),\n",
       " (1, 2, 3),\n",
       " (1, 2, 4),\n",
       " (1, 3, 4),\n",
       " (2, 3, 4),\n",
       " (1, 2, 3, 4)]"
      ]
     },
     "execution_count": 16,
     "metadata": {},
     "output_type": "execute_result"
    }
   ],
   "source": [
    "import itertools\n",
    "inds = [1, 2, 3, 4]\n",
    "clist = []\n",
    "for i in range(0, len(inds)+1):\n",
    "    clist.extend(itertools.combinations(inds, i))\n",
    "clist"
   ]
  },
  {
   "cell_type": "code",
   "execution_count": 17,
   "metadata": {},
   "outputs": [],
   "source": [
    "X = chredlin.iloc[:,[0,1,2,3,5]].copy()\n",
    "X.loc[:,'income'] = np.log(chredlin['income'])\n",
    "betarace = []\n",
    "pvals = []\n",
    "for k in range(0, len(clist)):\n",
    "    lmod = sm.OLS(chredlin.involact, sm.add_constant(X.iloc[:,np.append(0,clist[k])])).fit()\n",
    "    betarace.append(lmod.params[1])\n",
    "    pvals.append(lmod.pvalues[1])"
   ]
  },
  {
   "cell_type": "markdown",
   "metadata": {},
   "source": [
    "Construct list of model names"
   ]
  },
  {
   "cell_type": "code",
   "execution_count": 18,
   "metadata": {},
   "outputs": [
    {
     "data": {
      "text/plain": [
       "['race',\n",
       " 'race+fire',\n",
       " 'race+theft',\n",
       " 'race+age',\n",
       " 'race+logincome',\n",
       " 'race+fire+theft',\n",
       " 'race+fire+age',\n",
       " 'race+fire+logincome',\n",
       " 'race+theft+age',\n",
       " 'race+theft+logincome',\n",
       " 'race+age+logincome',\n",
       " 'race+fire+theft+age',\n",
       " 'race+fire+theft+logincome',\n",
       " 'race+fire+age+logincome',\n",
       " 'race+theft+age+logincome',\n",
       " 'race+fire+theft+age+logincome']"
      ]
     },
     "execution_count": 18,
     "metadata": {},
     "output_type": "execute_result"
    }
   ],
   "source": [
    "vlist = ['race']\n",
    "varnames = np.array(['race','fire','theft','age','logincome'])\n",
    "for k in range(1, len(clist)):\n",
    "    vlist.append('+'.join(varnames[np.append(0,clist[k])]))\n",
    "vlist"
   ]
  },
  {
   "cell_type": "code",
   "execution_count": 19,
   "metadata": {},
   "outputs": [
    {
     "data": {
      "text/html": [
       "<div>\n",
       "<style scoped>\n",
       "    .dataframe tbody tr th:only-of-type {\n",
       "        vertical-align: middle;\n",
       "    }\n",
       "\n",
       "    .dataframe tbody tr th {\n",
       "        vertical-align: top;\n",
       "    }\n",
       "\n",
       "    .dataframe thead th {\n",
       "        text-align: right;\n",
       "    }\n",
       "</style>\n",
       "<table border=\"1\" class=\"dataframe\">\n",
       "  <thead>\n",
       "    <tr style=\"text-align: right;\">\n",
       "      <th></th>\n",
       "      <th>beta</th>\n",
       "      <th>pvals</th>\n",
       "    </tr>\n",
       "  </thead>\n",
       "  <tbody>\n",
       "    <tr>\n",
       "      <th>race</th>\n",
       "      <td>0.0139</td>\n",
       "      <td>0.0000</td>\n",
       "    </tr>\n",
       "    <tr>\n",
       "      <th>race+fire</th>\n",
       "      <td>0.0089</td>\n",
       "      <td>0.0002</td>\n",
       "    </tr>\n",
       "    <tr>\n",
       "      <th>race+theft</th>\n",
       "      <td>0.0141</td>\n",
       "      <td>0.0000</td>\n",
       "    </tr>\n",
       "    <tr>\n",
       "      <th>race+age</th>\n",
       "      <td>0.0123</td>\n",
       "      <td>0.0000</td>\n",
       "    </tr>\n",
       "    <tr>\n",
       "      <th>race+logincome</th>\n",
       "      <td>0.0082</td>\n",
       "      <td>0.0087</td>\n",
       "    </tr>\n",
       "    <tr>\n",
       "      <th>race+fire+theft</th>\n",
       "      <td>0.0082</td>\n",
       "      <td>0.0002</td>\n",
       "    </tr>\n",
       "    <tr>\n",
       "      <th>race+fire+age</th>\n",
       "      <td>0.0089</td>\n",
       "      <td>0.0001</td>\n",
       "    </tr>\n",
       "    <tr>\n",
       "      <th>race+fire+logincome</th>\n",
       "      <td>0.0070</td>\n",
       "      <td>0.0160</td>\n",
       "    </tr>\n",
       "    <tr>\n",
       "      <th>race+theft+age</th>\n",
       "      <td>0.0128</td>\n",
       "      <td>0.0000</td>\n",
       "    </tr>\n",
       "    <tr>\n",
       "      <th>race+theft+logincome</th>\n",
       "      <td>0.0084</td>\n",
       "      <td>0.0083</td>\n",
       "    </tr>\n",
       "    <tr>\n",
       "      <th>race+age+logincome</th>\n",
       "      <td>0.0099</td>\n",
       "      <td>0.0017</td>\n",
       "    </tr>\n",
       "    <tr>\n",
       "      <th>race+fire+theft+age</th>\n",
       "      <td>0.0081</td>\n",
       "      <td>0.0001</td>\n",
       "    </tr>\n",
       "    <tr>\n",
       "      <th>race+fire+theft+logincome</th>\n",
       "      <td>0.0073</td>\n",
       "      <td>0.0078</td>\n",
       "    </tr>\n",
       "    <tr>\n",
       "      <th>race+fire+age+logincome</th>\n",
       "      <td>0.0085</td>\n",
       "      <td>0.0041</td>\n",
       "    </tr>\n",
       "    <tr>\n",
       "      <th>race+theft+age+logincome</th>\n",
       "      <td>0.0106</td>\n",
       "      <td>0.0010</td>\n",
       "    </tr>\n",
       "    <tr>\n",
       "      <th>race+fire+theft+age+logincome</th>\n",
       "      <td>0.0095</td>\n",
       "      <td>0.0004</td>\n",
       "    </tr>\n",
       "  </tbody>\n",
       "</table>\n",
       "</div>"
      ],
      "text/plain": [
       "                                 beta   pvals\n",
       "race                           0.0139  0.0000\n",
       "race+fire                      0.0089  0.0002\n",
       "race+theft                     0.0141  0.0000\n",
       "race+age                       0.0123  0.0000\n",
       "race+logincome                 0.0082  0.0087\n",
       "race+fire+theft                0.0082  0.0002\n",
       "race+fire+age                  0.0089  0.0001\n",
       "race+fire+logincome            0.0070  0.0160\n",
       "race+theft+age                 0.0128  0.0000\n",
       "race+theft+logincome           0.0084  0.0083\n",
       "race+age+logincome             0.0099  0.0017\n",
       "race+fire+theft+age            0.0081  0.0001\n",
       "race+fire+theft+logincome      0.0073  0.0078\n",
       "race+fire+age+logincome        0.0085  0.0041\n",
       "race+theft+age+logincome       0.0106  0.0010\n",
       "race+fire+theft+age+logincome  0.0095  0.0004"
      ]
     },
     "execution_count": 19,
     "metadata": {},
     "output_type": "execute_result"
    }
   ],
   "source": [
    "pd.DataFrame({'beta':np.round(betarace,4), 'pvals':np.round(pvals,4)}, index=vlist)"
   ]
  },
  {
   "cell_type": "markdown",
   "metadata": {},
   "source": [
    "Calculate the dfbetas - note these are not the same as leave out one coef changes as they have been scaled to standard error changes"
   ]
  },
  {
   "cell_type": "code",
   "execution_count": 20,
   "metadata": {},
   "outputs": [
    {
     "data": {
      "text/plain": [
       "-0.3995427771699168"
      ]
     },
     "execution_count": 20,
     "metadata": {},
     "output_type": "execute_result"
    }
   ],
   "source": [
    "lmod = smf.ols(formula='involact ~ race + fire + theft + age + np.log(income)', data=chredlin).fit()\n",
    "diagv = lmod.get_influence()\n",
    "min(diagv.dfbetas[:,1])"
   ]
  },
  {
   "cell_type": "markdown",
   "metadata": {},
   "source": [
    "Since the t-statistic is 3.82, a reduction of 0.4 is not going make a difference to the conclusion."
   ]
  },
  {
   "cell_type": "code",
   "execution_count": 21,
   "metadata": {},
   "outputs": [
    {
     "data": {
      "image/png": "[encoded data removed]",
      "text/plain": [
       "<Figure size 432x288 with 1 Axes>"
      ]
     },
     "metadata": {
      "needs_background": "light"
     },
     "output_type": "display_data"
    }
   ],
   "source": [
    "plt.scatter(diagv.dfbetas[:,2], diagv.dfbetas[:,3])\n",
    "plt.xlabel(\"Change in Fire\")\n",
    "plt.ylabel(\"Change in Theft\")\n",
    "plt.show()"
   ]
  },
  {
   "cell_type": "code",
   "execution_count": 22,
   "metadata": {},
   "outputs": [
    {
     "data": {
      "image/png": "[encoded data removed]",
      "text/plain": [
       "<Figure size 432x288 with 1 Axes>"
      ]
     },
     "execution_count": 22,
     "metadata": {},
     "output_type": "execute_result"
    },
    {
     "data": {
      "image/png": "[encoded data removed]",
      "text/plain": [
       "<Figure size 432x288 with 1 Axes>"
      ]
     },
     "metadata": {
      "needs_background": "light"
     },
     "output_type": "display_data"
    }
   ],
   "source": [
    "sm.graphics.influence_plot(lmod)"
   ]
  },
  {
   "cell_type": "code",
   "execution_count": 23,
   "metadata": {},
   "outputs": [
    {
     "data": {
      "text/html": [
       "<div>\n",
       "<style scoped>\n",
       "    .dataframe tbody tr th:only-of-type {\n",
       "        vertical-align: middle;\n",
       "    }\n",
       "\n",
       "    .dataframe tbody tr th {\n",
       "        vertical-align: top;\n",
       "    }\n",
       "\n",
       "    .dataframe thead th {\n",
       "        text-align: right;\n",
       "    }\n",
       "</style>\n",
       "<table border=\"1\" class=\"dataframe\">\n",
       "  <thead>\n",
       "    <tr style=\"text-align: right;\">\n",
       "      <th></th>\n",
       "      <th>race</th>\n",
       "      <th>fire</th>\n",
       "      <th>theft</th>\n",
       "      <th>age</th>\n",
       "      <th>involact</th>\n",
       "      <th>income</th>\n",
       "      <th>side</th>\n",
       "    </tr>\n",
       "  </thead>\n",
       "  <tbody>\n",
       "    <tr>\n",
       "      <th>60607</th>\n",
       "      <td>50.2</td>\n",
       "      <td>39.7</td>\n",
       "      <td>147</td>\n",
       "      <td>83.0</td>\n",
       "      <td>0.9</td>\n",
       "      <td>7.459</td>\n",
       "      <td>n</td>\n",
       "    </tr>\n",
       "    <tr>\n",
       "      <th>60610</th>\n",
       "      <td>54.0</td>\n",
       "      <td>34.1</td>\n",
       "      <td>68</td>\n",
       "      <td>52.6</td>\n",
       "      <td>0.3</td>\n",
       "      <td>8.231</td>\n",
       "      <td>n</td>\n",
       "    </tr>\n",
       "  </tbody>\n",
       "</table>\n",
       "</div>"
      ],
      "text/plain": [
       "       race  fire  theft   age  involact  income side\n",
       "60607  50.2  39.7    147  83.0       0.9   7.459    n\n",
       "60610  54.0  34.1     68  52.6       0.3   8.231    n"
      ]
     },
     "execution_count": 23,
     "metadata": {},
     "output_type": "execute_result"
    }
   ],
   "source": [
    "chredlin.loc[[60607, 60610],:]"
   ]
  },
  {
   "cell_type": "markdown",
   "metadata": {},
   "source": [
    "Leave out these two case. Could be a more elegant way?"
   ]
  },
  {
   "cell_type": "code",
   "execution_count": 24,
   "metadata": {},
   "outputs": [
    {
     "data": {
      "text/html": [
       "<table class=\"simpletable\">\n",
       "<caption>OLS Regression Results</caption>\n",
       "<tr>\n",
       "  <th>Dep. Variable:</th>        <td>involact</td>     <th>  R-squared:         </th> <td>   0.786</td>\n",
       "</tr>\n",
       "<tr>\n",
       "  <th>Model:</th>                   <td>OLS</td>       <th>  Adj. R-squared:    </th> <td>   0.770</td>\n",
       "</tr>\n",
       "<tr>\n",
       "  <th>Method:</th>             <td>Least Squares</td>  <th>  F-statistic:       </th> <td>   50.14</td>\n",
       "</tr>\n",
       "<tr>\n",
       "  <th>Date:</th>             <td>Tue, 25 Sep 2018</td> <th>  Prob (F-statistic):</th> <td>8.87e-14</td>\n",
       "</tr>\n",
       "<tr>\n",
       "  <th>Time:</th>                 <td>15:47:23</td>     <th>  Log-Likelihood:    </th> <td> -8.9369</td>\n",
       "</tr>\n",
       "<tr>\n",
       "  <th>No. Observations:</th>      <td>    45</td>      <th>  AIC:               </th> <td>   25.87</td>\n",
       "</tr>\n",
       "<tr>\n",
       "  <th>Df Residuals:</th>          <td>    41</td>      <th>  BIC:               </th> <td>   33.10</td>\n",
       "</tr>\n",
       "<tr>\n",
       "  <th>Df Model:</th>              <td>     3</td>      <th>                     </th>     <td> </td>   \n",
       "</tr>\n",
       "<tr>\n",
       "  <th>Covariance Type:</th>      <td>nonrobust</td>    <th>                     </th>     <td> </td>   \n",
       "</tr>\n",
       "</table>\n",
       "<table class=\"simpletable\">\n",
       "<tr>\n",
       "         <td></td>           <th>coef</th>     <th>std err</th>      <th>t</th>      <th>P>|t|</th>  <th>[0.025</th>    <th>0.975]</th>  \n",
       "</tr>\n",
       "<tr>\n",
       "  <th>Intercept</th>      <td>    0.7533</td> <td>    0.836</td> <td>    0.901</td> <td> 0.373</td> <td>   -0.935</td> <td>    2.441</td>\n",
       "</tr>\n",
       "<tr>\n",
       "  <th>race</th>           <td>    0.0042</td> <td>    0.002</td> <td>    1.848</td> <td> 0.072</td> <td>   -0.000</td> <td>    0.009</td>\n",
       "</tr>\n",
       "<tr>\n",
       "  <th>fire</th>           <td>    0.0510</td> <td>    0.008</td> <td>    6.038</td> <td> 0.000</td> <td>    0.034</td> <td>    0.068</td>\n",
       "</tr>\n",
       "<tr>\n",
       "  <th>np.log(income)</th> <td>   -0.3624</td> <td>    0.319</td> <td>   -1.135</td> <td> 0.263</td> <td>   -1.007</td> <td>    0.282</td>\n",
       "</tr>\n",
       "</table>\n",
       "<table class=\"simpletable\">\n",
       "<tr>\n",
       "  <th>Omnibus:</th>       <td> 5.938</td> <th>  Durbin-Watson:     </th> <td>   2.390</td>\n",
       "</tr>\n",
       "<tr>\n",
       "  <th>Prob(Omnibus):</th> <td> 0.051</td> <th>  Jarque-Bera (JB):  </th> <td>   5.224</td>\n",
       "</tr>\n",
       "<tr>\n",
       "  <th>Skew:</th>          <td> 0.531</td> <th>  Prob(JB):          </th> <td>  0.0734</td>\n",
       "</tr>\n",
       "<tr>\n",
       "  <th>Kurtosis:</th>      <td> 4.288</td> <th>  Cond. No.          </th> <td>    947.</td>\n",
       "</tr>\n",
       "</table><br/><br/>Warnings:<br/>[1] Standard Errors assume that the covariance matrix of the errors is correctly specified."
      ],
      "text/plain": [
       "<class 'statsmodels.iolib.summary.Summary'>\n",
       "\"\"\"\n",
       "                            OLS Regression Results                            \n",
       "==============================================================================\n",
       "Dep. Variable:               involact   R-squared:                       0.786\n",
       "Model:                            OLS   Adj. R-squared:                  0.770\n",
       "Method:                 Least Squares   F-statistic:                     50.14\n",
       "Date:                Tue, 25 Sep 2018   Prob (F-statistic):           8.87e-14\n",
       "Time:                        15:47:23   Log-Likelihood:                -8.9369\n",
       "No. Observations:                  45   AIC:                             25.87\n",
       "Df Residuals:                      41   BIC:                             33.10\n",
       "Df Model:                           3                                         \n",
       "Covariance Type:            nonrobust                                         \n",
       "==================================================================================\n",
       "                     coef    std err          t      P>|t|      [0.025      0.975]\n",
       "----------------------------------------------------------------------------------\n",
       "Intercept          0.7533      0.836      0.901      0.373      -0.935       2.441\n",
       "race               0.0042      0.002      1.848      0.072      -0.000       0.009\n",
       "fire               0.0510      0.008      6.038      0.000       0.034       0.068\n",
       "np.log(income)    -0.3624      0.319     -1.135      0.263      -1.007       0.282\n",
       "==============================================================================\n",
       "Omnibus:                        5.938   Durbin-Watson:                   2.390\n",
       "Prob(Omnibus):                  0.051   Jarque-Bera (JB):                5.224\n",
       "Skew:                           0.531   Prob(JB):                       0.0734\n",
       "Kurtosis:                       4.288   Cond. No.                         947.\n",
       "==============================================================================\n",
       "\n",
       "Warnings:\n",
       "[1] Standard Errors assume that the covariance matrix of the errors is correctly specified.\n",
       "\"\"\""
      ]
     },
     "execution_count": 24,
     "metadata": {},
     "output_type": "execute_result"
    }
   ],
   "source": [
    "ch45 = chredlin.loc[~chredlin.index.isin([60607, 60610]),:]\n",
    "lmod45 = smf.ols(formula='involact ~ race + fire + np.log(income)', data=ch45).fit()\n",
    "lmod45.summary()"
   ]
  },
  {
   "cell_type": "markdown",
   "metadata": {},
   "source": [
    "# Discussion"
   ]
  },
  {
   "cell_type": "code",
   "execution_count": 25,
   "metadata": {},
   "outputs": [
    {
     "data": {
      "text/html": [
       "<table class=\"simpletable\">\n",
       "<caption>OLS Regression Results</caption>\n",
       "<tr>\n",
       "  <th>Dep. Variable:</th>        <td>involact</td>     <th>  R-squared:         </th> <td>   0.743</td>\n",
       "</tr>\n",
       "<tr>\n",
       "  <th>Model:</th>                   <td>OLS</td>       <th>  Adj. R-squared:    </th> <td>   0.683</td>\n",
       "</tr>\n",
       "<tr>\n",
       "  <th>Method:</th>             <td>Least Squares</td>  <th>  F-statistic:       </th> <td>   12.31</td>\n",
       "</tr>\n",
       "<tr>\n",
       "  <th>Date:</th>             <td>Tue, 25 Sep 2018</td> <th>  Prob (F-statistic):</th> <td>6.97e-05</td>\n",
       "</tr>\n",
       "<tr>\n",
       "  <th>Time:</th>                 <td>15:47:23</td>     <th>  Log-Likelihood:    </th> <td> -5.3371</td>\n",
       "</tr>\n",
       "<tr>\n",
       "  <th>No. Observations:</th>      <td>    22</td>      <th>  AIC:               </th> <td>   20.67</td>\n",
       "</tr>\n",
       "<tr>\n",
       "  <th>Df Residuals:</th>          <td>    17</td>      <th>  BIC:               </th> <td>   26.13</td>\n",
       "</tr>\n",
       "<tr>\n",
       "  <th>Df Model:</th>              <td>     4</td>      <th>                     </th>     <td> </td>   \n",
       "</tr>\n",
       "<tr>\n",
       "  <th>Covariance Type:</th>      <td>nonrobust</td>    <th>                     </th>     <td> </td>   \n",
       "</tr>\n",
       "</table>\n",
       "<table class=\"simpletable\">\n",
       "<tr>\n",
       "      <td></td>         <th>coef</th>     <th>std err</th>      <th>t</th>      <th>P>|t|</th>  <th>[0.025</th>    <th>0.975]</th>  \n",
       "</tr>\n",
       "<tr>\n",
       "  <th>Intercept</th> <td>   -0.2344</td> <td>    0.238</td> <td>   -0.986</td> <td> 0.338</td> <td>   -0.736</td> <td>    0.267</td>\n",
       "</tr>\n",
       "<tr>\n",
       "  <th>race</th>      <td>    0.0059</td> <td>    0.003</td> <td>    1.814</td> <td> 0.087</td> <td>   -0.001</td> <td>    0.013</td>\n",
       "</tr>\n",
       "<tr>\n",
       "  <th>fire</th>      <td>    0.0484</td> <td>    0.017</td> <td>    2.866</td> <td> 0.011</td> <td>    0.013</td> <td>    0.084</td>\n",
       "</tr>\n",
       "<tr>\n",
       "  <th>theft</th>     <td>   -0.0066</td> <td>    0.008</td> <td>   -0.787</td> <td> 0.442</td> <td>   -0.024</td> <td>    0.011</td>\n",
       "</tr>\n",
       "<tr>\n",
       "  <th>age</th>       <td>    0.0050</td> <td>    0.005</td> <td>    0.993</td> <td> 0.335</td> <td>   -0.006</td> <td>    0.016</td>\n",
       "</tr>\n",
       "</table>\n",
       "<table class=\"simpletable\">\n",
       "<tr>\n",
       "  <th>Omnibus:</th>       <td> 6.437</td> <th>  Durbin-Watson:     </th> <td>   2.000</td>\n",
       "</tr>\n",
       "<tr>\n",
       "  <th>Prob(Omnibus):</th> <td> 0.040</td> <th>  Jarque-Bera (JB):  </th> <td>   4.177</td>\n",
       "</tr>\n",
       "<tr>\n",
       "  <th>Skew:</th>          <td> 0.806</td> <th>  Prob(JB):          </th> <td>   0.124</td>\n",
       "</tr>\n",
       "<tr>\n",
       "  <th>Kurtosis:</th>      <td> 4.399</td> <th>  Cond. No.          </th> <td>    277.</td>\n",
       "</tr>\n",
       "</table><br/><br/>Warnings:<br/>[1] Standard Errors assume that the covariance matrix of the errors is correctly specified."
      ],
      "text/plain": [
       "<class 'statsmodels.iolib.summary.Summary'>\n",
       "\"\"\"\n",
       "                            OLS Regression Results                            \n",
       "==============================================================================\n",
       "Dep. Variable:               involact   R-squared:                       0.743\n",
       "Model:                            OLS   Adj. R-squared:                  0.683\n",
       "Method:                 Least Squares   F-statistic:                     12.31\n",
       "Date:                Tue, 25 Sep 2018   Prob (F-statistic):           6.97e-05\n",
       "Time:                        15:47:23   Log-Likelihood:                -5.3371\n",
       "No. Observations:                  22   AIC:                             20.67\n",
       "Df Residuals:                      17   BIC:                             26.13\n",
       "Df Model:                           4                                         \n",
       "Covariance Type:            nonrobust                                         \n",
       "==============================================================================\n",
       "                 coef    std err          t      P>|t|      [0.025      0.975]\n",
       "------------------------------------------------------------------------------\n",
       "Intercept     -0.2344      0.238     -0.986      0.338      -0.736       0.267\n",
       "race           0.0059      0.003      1.814      0.087      -0.001       0.013\n",
       "fire           0.0484      0.017      2.866      0.011       0.013       0.084\n",
       "theft         -0.0066      0.008     -0.787      0.442      -0.024       0.011\n",
       "age            0.0050      0.005      0.993      0.335      -0.006       0.016\n",
       "==============================================================================\n",
       "Omnibus:                        6.437   Durbin-Watson:                   2.000\n",
       "Prob(Omnibus):                  0.040   Jarque-Bera (JB):                4.177\n",
       "Skew:                           0.806   Prob(JB):                        0.124\n",
       "Kurtosis:                       4.399   Cond. No.                         277.\n",
       "==============================================================================\n",
       "\n",
       "Warnings:\n",
       "[1] Standard Errors assume that the covariance matrix of the errors is correctly specified.\n",
       "\"\"\""
      ]
     },
     "execution_count": 25,
     "metadata": {},
     "output_type": "execute_result"
    }
   ],
   "source": [
    "lmods = smf.ols(formula='involact ~ race + fire + theft + age', data=chredlin.loc[chredlin.side == 's',:]).fit()\n",
    "lmods.summary()"
   ]
  },
  {
   "cell_type": "code",
   "execution_count": 26,
   "metadata": {},
   "outputs": [
    {
     "data": {
      "text/html": [
       "<table class=\"simpletable\">\n",
       "<caption>OLS Regression Results</caption>\n",
       "<tr>\n",
       "  <th>Dep. Variable:</th>        <td>involact</td>     <th>  R-squared:         </th> <td>   0.756</td>\n",
       "</tr>\n",
       "<tr>\n",
       "  <th>Model:</th>                   <td>OLS</td>       <th>  Adj. R-squared:    </th> <td>   0.707</td>\n",
       "</tr>\n",
       "<tr>\n",
       "  <th>Method:</th>             <td>Least Squares</td>  <th>  F-statistic:       </th> <td>   15.45</td>\n",
       "</tr>\n",
       "<tr>\n",
       "  <th>Date:</th>             <td>Tue, 25 Sep 2018</td> <th>  Prob (F-statistic):</th> <td>6.52e-06</td>\n",
       "</tr>\n",
       "<tr>\n",
       "  <th>Time:</th>                 <td>15:47:23</td>     <th>  Log-Likelihood:    </th> <td> -5.9264</td>\n",
       "</tr>\n",
       "<tr>\n",
       "  <th>No. Observations:</th>      <td>    25</td>      <th>  AIC:               </th> <td>   21.85</td>\n",
       "</tr>\n",
       "<tr>\n",
       "  <th>Df Residuals:</th>          <td>    20</td>      <th>  BIC:               </th> <td>   27.95</td>\n",
       "</tr>\n",
       "<tr>\n",
       "  <th>Df Model:</th>              <td>     4</td>      <th>                     </th>     <td> </td>   \n",
       "</tr>\n",
       "<tr>\n",
       "  <th>Covariance Type:</th>      <td>nonrobust</td>    <th>                     </th>     <td> </td>   \n",
       "</tr>\n",
       "</table>\n",
       "<table class=\"simpletable\">\n",
       "<tr>\n",
       "      <td></td>         <th>coef</th>     <th>std err</th>      <th>t</th>      <th>P>|t|</th>  <th>[0.025</th>    <th>0.975]</th>  \n",
       "</tr>\n",
       "<tr>\n",
       "  <th>Intercept</th> <td>   -0.3186</td> <td>    0.227</td> <td>   -1.403</td> <td> 0.176</td> <td>   -0.792</td> <td>    0.155</td>\n",
       "</tr>\n",
       "<tr>\n",
       "  <th>race</th>      <td>    0.0126</td> <td>    0.004</td> <td>    2.806</td> <td> 0.011</td> <td>    0.003</td> <td>    0.022</td>\n",
       "</tr>\n",
       "<tr>\n",
       "  <th>fire</th>      <td>    0.0231</td> <td>    0.014</td> <td>    1.655</td> <td> 0.114</td> <td>   -0.006</td> <td>    0.052</td>\n",
       "</tr>\n",
       "<tr>\n",
       "  <th>theft</th>     <td>   -0.0076</td> <td>    0.004</td> <td>   -2.069</td> <td> 0.052</td> <td>   -0.015</td> <td> 6.13e-05</td>\n",
       "</tr>\n",
       "<tr>\n",
       "  <th>age</th>       <td>    0.0082</td> <td>    0.003</td> <td>    2.369</td> <td> 0.028</td> <td>    0.001</td> <td>    0.015</td>\n",
       "</tr>\n",
       "</table>\n",
       "<table class=\"simpletable\">\n",
       "<tr>\n",
       "  <th>Omnibus:</th>       <td> 1.447</td> <th>  Durbin-Watson:     </th> <td>   2.306</td>\n",
       "</tr>\n",
       "<tr>\n",
       "  <th>Prob(Omnibus):</th> <td> 0.485</td> <th>  Jarque-Bera (JB):  </th> <td>   0.375</td>\n",
       "</tr>\n",
       "<tr>\n",
       "  <th>Skew:</th>          <td>-0.068</td> <th>  Prob(JB):          </th> <td>   0.829</td>\n",
       "</tr>\n",
       "<tr>\n",
       "  <th>Kurtosis:</th>      <td> 3.584</td> <th>  Cond. No.          </th> <td>    278.</td>\n",
       "</tr>\n",
       "</table><br/><br/>Warnings:<br/>[1] Standard Errors assume that the covariance matrix of the errors is correctly specified."
      ],
      "text/plain": [
       "<class 'statsmodels.iolib.summary.Summary'>\n",
       "\"\"\"\n",
       "                            OLS Regression Results                            \n",
       "==============================================================================\n",
       "Dep. Variable:               involact   R-squared:                       0.756\n",
       "Model:                            OLS   Adj. R-squared:                  0.707\n",
       "Method:                 Least Squares   F-statistic:                     15.45\n",
       "Date:                Tue, 25 Sep 2018   Prob (F-statistic):           6.52e-06\n",
       "Time:                        15:47:23   Log-Likelihood:                -5.9264\n",
       "No. Observations:                  25   AIC:                             21.85\n",
       "Df Residuals:                      20   BIC:                             27.95\n",
       "Df Model:                           4                                         \n",
       "Covariance Type:            nonrobust                                         \n",
       "==============================================================================\n",
       "                 coef    std err          t      P>|t|      [0.025      0.975]\n",
       "------------------------------------------------------------------------------\n",
       "Intercept     -0.3186      0.227     -1.403      0.176      -0.792       0.155\n",
       "race           0.0126      0.004      2.806      0.011       0.003       0.022\n",
       "fire           0.0231      0.014      1.655      0.114      -0.006       0.052\n",
       "theft         -0.0076      0.004     -2.069      0.052      -0.015    6.13e-05\n",
       "age            0.0082      0.003      2.369      0.028       0.001       0.015\n",
       "==============================================================================\n",
       "Omnibus:                        1.447   Durbin-Watson:                   2.306\n",
       "Prob(Omnibus):                  0.485   Jarque-Bera (JB):                0.375\n",
       "Skew:                          -0.068   Prob(JB):                        0.829\n",
       "Kurtosis:                       3.584   Cond. No.                         278.\n",
       "==============================================================================\n",
       "\n",
       "Warnings:\n",
       "[1] Standard Errors assume that the covariance matrix of the errors is correctly specified.\n",
       "\"\"\""
      ]
     },
     "execution_count": 26,
     "metadata": {},
     "output_type": "execute_result"
    }
   ],
   "source": [
    "lmodn = smf.ols(formula='involact ~ race + fire + theft + age', data=chredlin.loc[chredlin.side == 'n',:]).fit()\n",
    "lmodn.summary()"
   ]
  },
  {
   "cell_type": "code",
   "execution_count": 27,
   "metadata": {},
   "outputs": [
    {
     "data": {
      "application/json": {
       "Software versions": [
        {
         "module": "Python",
         "version": "3.7.0 64bit [Clang 4.0.1 (tags/RELEASE_401/final)]"
        },
        {
         "module": "IPython",
         "version": "6.5.0"
        },
        {
         "module": "OS",
         "version": "Darwin 17.7.0 x86_64 i386 64bit"
        },
        {
         "module": "pandas",
         "version": "0.23.4"
        },
        {
         "module": "numpy",
         "version": "1.15.1"
        },
        {
         "module": "matplotlib",
         "version": "2.2.3"
        },
        {
         "module": "seaborn",
         "version": "0.9.0"
        },
        {
         "module": "scipy",
         "version": "1.1.0"
        },
        {
         "module": "patsy",
         "version": "0.5.0"
        },
        {
         "module": "statsmodels",
         "version": "0.9.0"
        }
       ]
      },
      "text/html": [
       "<table><tr><th>Software</th><th>Version</th></tr><tr><td>Python</td><td>3.7.0 64bit [Clang 4.0.1 (tags/RELEASE_401/final)]</td></tr><tr><td>IPython</td><td>6.5.0</td></tr><tr><td>OS</td><td>Darwin 17.7.0 x86_64 i386 64bit</td></tr><tr><td>pandas</td><td>0.23.4</td></tr><tr><td>numpy</td><td>1.15.1</td></tr><tr><td>matplotlib</td><td>2.2.3</td></tr><tr><td>seaborn</td><td>0.9.0</td></tr><tr><td>scipy</td><td>1.1.0</td></tr><tr><td>patsy</td><td>0.5.0</td></tr><tr><td>statsmodels</td><td>0.9.0</td></tr><tr><td colspan='2'>Tue Sep 25 15:47:23 2018 BST</td></tr></table>"
      ],
      "text/latex": [
       "\\begin{tabular}{|l|l|}\\hline\n",
       "{\\bf Software} & {\\bf Version} \\\\ \\hline\\hline\n",
       "Python & 3.7.0 64bit [Clang 4.0.1 (tags/RELEASE\\_401/final)] \\\\ \\hline\n",
       "IPython & 6.5.0 \\\\ \\hline\n",
       "OS & Darwin 17.7.0 x86\\_64 i386 64bit \\\\ \\hline\n",
       "pandas & 0.23.4 \\\\ \\hline\n",
       "numpy & 1.15.1 \\\\ \\hline\n",
       "matplotlib & 2.2.3 \\\\ \\hline\n",
       "seaborn & 0.9.0 \\\\ \\hline\n",
       "scipy & 1.1.0 \\\\ \\hline\n",
       "patsy & 0.5.0 \\\\ \\hline\n",
       "statsmodels & 0.9.0 \\\\ \\hline\n",
       "\\hline \\multicolumn{2}{|l|}{Tue Sep 25 15:47:23 2018 BST} \\\\ \\hline\n",
       "\\end{tabular}\n"
      ],
      "text/plain": [
       "Software versions\n",
       "Python 3.7.0 64bit [Clang 4.0.1 (tags/RELEASE_401/final)]\n",
       "IPython 6.5.0\n",
       "OS Darwin 17.7.0 x86_64 i386 64bit\n",
       "pandas 0.23.4\n",
       "numpy 1.15.1\n",
       "matplotlib 2.2.3\n",
       "seaborn 0.9.0\n",
       "scipy 1.1.0\n",
       "patsy 0.5.0\n",
       "statsmodels 0.9.0\n",
       "Tue Sep 25 15:47:23 2018 BST"
      ]
     },
     "execution_count": 27,
     "metadata": {},
     "output_type": "execute_result"
    }
   ],
   "source": [
    "%load_ext version_information\n",
    "%version_information pandas, numpy, matplotlib, seaborn, scipy, patsy, statsmodels"
   ]
  }
 ],
 "metadata": {
  "kernelspec": {
   "display_name": "Python 3",
   "language": "python",
   "name": "python3"
  },
  "language_info": {
   "codemirror_mode": {
    "name": "ipython",
    "version": 3
   },
   "file_extension": ".py",
   "mimetype": "text/x-python",
   "name": "python",
   "nbconvert_exporter": "python",
   "pygments_lexer": "ipython3",
   "version": "3.7.0"
  }
 },
 "nbformat": 4,
 "nbformat_minor": 2
}
