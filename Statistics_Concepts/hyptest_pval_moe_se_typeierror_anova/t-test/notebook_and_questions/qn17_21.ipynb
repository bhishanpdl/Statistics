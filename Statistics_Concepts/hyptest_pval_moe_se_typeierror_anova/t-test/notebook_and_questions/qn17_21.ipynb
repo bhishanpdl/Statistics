{
 "cells": [
  {
   "cell_type": "markdown",
   "id": "graduate-texture",
   "metadata": {
    "toc": true
   },
   "source": [
    "<h1>Table of Contents<span class=\"tocSkip\"></span></h1>\n",
    "<div class=\"toc\"><ul class=\"toc-item\"><li><span><a href=\"#Qn17\" data-toc-modified-id=\"Qn17-1\"><span class=\"toc-item-num\">1&nbsp;&nbsp;</span>Qn17</a></span></li><li><span><a href=\"#Qn18\" data-toc-modified-id=\"Qn18-2\"><span class=\"toc-item-num\">2&nbsp;&nbsp;</span>Qn18</a></span></li><li><span><a href=\"#Qn19\" data-toc-modified-id=\"Qn19-3\"><span class=\"toc-item-num\">3&nbsp;&nbsp;</span>Qn19</a></span></li><li><span><a href=\"#Qn20\" data-toc-modified-id=\"Qn20-4\"><span class=\"toc-item-num\">4&nbsp;&nbsp;</span>Qn20</a></span></li><li><span><a href=\"#Qn-21\" data-toc-modified-id=\"Qn-21-5\"><span class=\"toc-item-num\">5&nbsp;&nbsp;</span>Qn 21</a></span></li></ul></div>"
   ]
  },
  {
   "cell_type": "code",
   "execution_count": 3,
   "id": "violent-thesis",
   "metadata": {
    "ExecuteTime": {
     "end_time": "2021-03-30T01:14:10.196004Z",
     "start_time": "2021-03-30T01:14:10.175504Z"
    }
   },
   "outputs": [
    {
     "name": "stdout",
     "output_type": "stream",
     "text": [
      "The watermark extension is already loaded. To reload it, use:\n",
      "  %reload_ext watermark\n",
      "Bhishan Poudel 2021-03-29 2021-03-29T21:14:10-04:00\n",
      "\n",
      "CPython 3.7.7\n",
      "IPython 7.21.0\n"
     ]
    }
   ],
   "source": [
    "import numpy as np\n",
    "import pandas as pd\n",
    "import os,sys,time\n",
    "\n",
    "# visualization\n",
    "import matplotlib.pyplot as plt\n",
    "import seaborn as sns\n",
    "sns.set()\n",
    "\n",
    "from scipy import stats\n",
    "import scipy.special as ssp\n",
    "\n",
    "# settings\n",
    "SEED = 100\n",
    "pd.set_option('max_columns',100)\n",
    "pd.set_option('plotting.backend','matplotlib') # matplotlib, bokeh, altair, plotly\n",
    "\n",
    "%matplotlib inline\n",
    "%load_ext watermark\n",
    "%watermark -ivd -a \"Bhishan Poudel\""
   ]
  },
  {
   "cell_type": "markdown",
   "id": "genetic-norwegian",
   "metadata": {},
   "source": [
    "# Qn17\n",
    "![](questions/qn_17.png)"
   ]
  },
  {
   "cell_type": "code",
   "execution_count": 4,
   "id": "sorted-inspiration",
   "metadata": {
    "ExecuteTime": {
     "end_time": "2021-03-30T01:17:13.798658Z",
     "start_time": "2021-03-30T01:17:13.790566Z"
    }
   },
   "outputs": [
    {
     "data": {
      "text/plain": [
       "(3.5, 1.8708286933869707)"
      ]
     },
     "execution_count": 4,
     "metadata": {},
     "output_type": "execute_result"
    }
   ],
   "source": [
    "a = np.array([1,2,3,4,5,6])\n",
    "a.mean(), a.std(ddof=1)"
   ]
  },
  {
   "cell_type": "markdown",
   "id": "fleet-annex",
   "metadata": {},
   "source": [
    "# Qn18\n",
    "![](questions/qn_18.png)"
   ]
  },
  {
   "cell_type": "code",
   "execution_count": 34,
   "id": "hundred-championship",
   "metadata": {
    "ExecuteTime": {
     "end_time": "2021-03-30T01:39:33.839422Z",
     "start_time": "2021-03-30T01:39:33.833359Z"
    }
   },
   "outputs": [
    {
     "name": "stdout",
     "output_type": "stream",
     "text": [
      "t-statistic = -1.3093073414159542 \n"
     ]
    }
   ],
   "source": [
    "a = np.arange(1,7)\n",
    "n = len(a)\n",
    "xbar = a.mean()\n",
    "s = a.std(ddof=1)\n",
    "mu = 4.5\n",
    "alpha = 0.05\n",
    "\n",
    "t = (xbar - mu) / (s/np.sqrt(n))\n",
    "print(f't-statistic = {t} ')"
   ]
  },
  {
   "cell_type": "code",
   "execution_count": 14,
   "id": "excited-median",
   "metadata": {
    "ExecuteTime": {
     "end_time": "2021-03-30T01:24:58.793466Z",
     "start_time": "2021-03-30T01:24:58.786050Z"
    }
   },
   "outputs": [
    {
     "data": {
      "text/plain": [
       "-2.0150483726691575"
      ]
     },
     "execution_count": 14,
     "metadata": {},
     "output_type": "execute_result"
    }
   ],
   "source": [
    "t_crit_one_tailed = stats.t.ppf(q=alpha,df=n-1)\n",
    "t_crit_one_tailed"
   ]
  },
  {
   "cell_type": "code",
   "execution_count": 15,
   "id": "thrown-planner",
   "metadata": {
    "ExecuteTime": {
     "end_time": "2021-03-30T01:25:51.003403Z",
     "start_time": "2021-03-30T01:25:50.995523Z"
    }
   },
   "outputs": [
    {
     "data": {
      "text/plain": [
       "2.5705818366147395"
      ]
     },
     "execution_count": 15,
     "metadata": {},
     "output_type": "execute_result"
    }
   ],
   "source": [
    "t_crit_two_tailed = stats.t.ppf(q=1-alpha/2,df=n-1)\n",
    "t_crit_two_tailed"
   ]
  },
  {
   "cell_type": "code",
   "execution_count": 23,
   "id": "detailed-astrology",
   "metadata": {
    "ExecuteTime": {
     "end_time": "2021-03-30T01:31:41.320703Z",
     "start_time": "2021-03-30T01:31:41.315629Z"
    }
   },
   "outputs": [
    {
     "name": "stdout",
     "output_type": "stream",
     "text": [
      "Fail to reject the null hypothesis.\n",
      "The value DOES NOT lie in the critical zone.\n"
     ]
    }
   ],
   "source": [
    "if abs(t) > abs(t_crit_one_tailed):\n",
    "    print(\"Reject the Null Hypothesis\")\n",
    "    print(\"The value lies in the critical zone.\")\n",
    "else:\n",
    "    print(\"Fail to reject the null hypothesis.\")\n",
    "    print(\"The value DOES NOT lie in the critical zone.\")"
   ]
  },
  {
   "cell_type": "code",
   "execution_count": 33,
   "id": "alpine-specification",
   "metadata": {
    "ExecuteTime": {
     "end_time": "2021-03-30T01:39:13.468076Z",
     "start_time": "2021-03-30T01:39:13.433277Z"
    }
   },
   "outputs": [
    {
     "data": {
      "text/plain": [
       "0.24736660702778485"
      ]
     },
     "execution_count": 33,
     "metadata": {},
     "output_type": "execute_result"
    }
   ],
   "source": [
    "n_tailed = 2\n",
    "pval = stats.t.sf(np.abs(t), n-1) * n_tailed\n",
    "pval"
   ]
  },
  {
   "cell_type": "code",
   "execution_count": 27,
   "id": "under-pendant",
   "metadata": {
    "ExecuteTime": {
     "end_time": "2021-03-30T01:36:12.754200Z",
     "start_time": "2021-03-30T01:36:12.749202Z"
    }
   },
   "outputs": [
    {
     "name": "stdout",
     "output_type": "stream",
     "text": [
      "Fail to reject the null hypothesis.\n",
      "The value DOES NOT lie in the critical zone.\n"
     ]
    }
   ],
   "source": [
    "if pval < alpha:\n",
    "    print(\"Reject the Null Hypothesis\")\n",
    "    print(\"The value lies in the critical zone.\")\n",
    "else:\n",
    "    print(\"Fail to reject the null hypothesis.\")\n",
    "    print(\"The value DOES NOT lie in the critical zone.\")"
   ]
  },
  {
   "cell_type": "code",
   "execution_count": 32,
   "id": "peripheral-brunswick",
   "metadata": {
    "ExecuteTime": {
     "end_time": "2021-03-30T01:38:53.513338Z",
     "start_time": "2021-03-30T01:38:53.507410Z"
    }
   },
   "outputs": [
    {
     "data": {
      "text/plain": [
       "Ttest_1sampResult(statistic=-1.3093073414159542, pvalue=0.24736660702778485)"
      ]
     },
     "execution_count": 32,
     "metadata": {},
     "output_type": "execute_result"
    }
   ],
   "source": [
    "stats.ttest_1samp(a,mu)"
   ]
  },
  {
   "cell_type": "markdown",
   "id": "ignored-antibody",
   "metadata": {},
   "source": [
    "# Qn19\n",
    "![](questions/qn_19.png)"
   ]
  },
  {
   "cell_type": "code",
   "execution_count": 35,
   "id": "sporting-surge",
   "metadata": {
    "ExecuteTime": {
     "end_time": "2021-03-30T01:42:05.332181Z",
     "start_time": "2021-03-30T01:42:05.326333Z"
    }
   },
   "outputs": [
    {
     "data": {
      "text/plain": [
       "-0.5345224838248488"
      ]
     },
     "execution_count": 35,
     "metadata": {},
     "output_type": "execute_result"
    }
   ],
   "source": [
    "sm = a.mean() # sample mean\n",
    "sv = a.std(ddof=1) # sample standard deviation\n",
    "mu = 4.5\n",
    "\n",
    "cohens_d = (sm-mu) / sv\n",
    "cohens_d"
   ]
  },
  {
   "cell_type": "markdown",
   "id": "thick-warning",
   "metadata": {},
   "source": [
    "# Qn20\n",
    "![](questions/qn_20.png)"
   ]
  },
  {
   "cell_type": "code",
   "execution_count": 49,
   "id": "marine-gabriel",
   "metadata": {
    "ExecuteTime": {
     "end_time": "2021-03-30T01:56:16.370170Z",
     "start_time": "2021-03-30T01:56:16.362829Z"
    }
   },
   "outputs": [
    {
     "data": {
      "text/plain": [
       "0.25531914893617025"
      ]
     },
     "execution_count": 49,
     "metadata": {},
     "output_type": "execute_result"
    }
   ],
   "source": [
    "a = np.arange(1,7)\n",
    "sm = a.mean()\n",
    "mu = 4.5\n",
    "\n",
    "RSS = np.sum((sm-a)**2)\n",
    "TSS = np.sum((mu-a)**2)\n",
    "\n",
    "Rsquared = 1 - (RSS/TSS)\n",
    "Rsquared"
   ]
  },
  {
   "cell_type": "markdown",
   "id": "prepared-first",
   "metadata": {},
   "source": [
    "# Qn 21\n",
    "![](questions/qn_21.png)"
   ]
  },
  {
   "cell_type": "code",
   "execution_count": 52,
   "id": "remarkable-delay",
   "metadata": {
    "ExecuteTime": {
     "end_time": "2021-03-30T01:59:00.821565Z",
     "start_time": "2021-03-30T01:59:00.816845Z"
    }
   },
   "outputs": [],
   "source": [
    "a = np.arange(1,7)\n",
    "alpha = 0.05\n",
    "mu = 4.5\n",
    "n = len(a)"
   ]
  },
  {
   "cell_type": "code",
   "execution_count": 53,
   "id": "fourth-enterprise",
   "metadata": {
    "ExecuteTime": {
     "end_time": "2021-03-30T01:59:01.551086Z",
     "start_time": "2021-03-30T01:59:01.543482Z"
    }
   },
   "outputs": [
    {
     "data": {
      "text/plain": [
       "2.5705818366147395"
      ]
     },
     "execution_count": 53,
     "metadata": {},
     "output_type": "execute_result"
    }
   ],
   "source": [
    "t_crit_two_tailed = stats.t.ppf(q=1-alpha/2,df=n-1)\n",
    "t_crit_two_tailed"
   ]
  },
  {
   "cell_type": "code",
   "execution_count": 55,
   "id": "frozen-setup",
   "metadata": {
    "ExecuteTime": {
     "end_time": "2021-03-30T02:01:42.016266Z",
     "start_time": "2021-03-30T02:01:42.010332Z"
    }
   },
   "outputs": [
    {
     "data": {
      "text/plain": [
       "1.959963984540054"
      ]
     },
     "execution_count": 55,
     "metadata": {},
     "output_type": "execute_result"
    }
   ],
   "source": [
    "z_crit_two_tailed = stats.norm.ppf(q=1-alpha/2)\n",
    "z_crit_two_tailed"
   ]
  },
  {
   "cell_type": "code",
   "execution_count": 54,
   "id": "pursuant-allergy",
   "metadata": {
    "ExecuteTime": {
     "end_time": "2021-03-30T02:01:04.706479Z",
     "start_time": "2021-03-30T02:01:04.697255Z"
    }
   },
   "outputs": [
    {
     "data": {
      "text/plain": [
       "1.9633143077276083"
      ]
     },
     "execution_count": 54,
     "metadata": {},
     "output_type": "execute_result"
    }
   ],
   "source": [
    "s = a.std(ddof=1)\n",
    "se = s/np.sqrt(n) # standard error\n",
    "\n",
    "moe = t_crit_two_tailed * se\n",
    "moe"
   ]
  },
  {
   "cell_type": "code",
   "execution_count": null,
   "id": "continental-encoding",
   "metadata": {},
   "outputs": [],
   "source": []
  }
 ],
 "metadata": {
  "kernelspec": {
   "display_name": "Python (dataSc)",
   "language": "python",
   "name": "datasc"
  },
  "language_info": {
   "codemirror_mode": {
    "name": "ipython",
    "version": 3
   },
   "file_extension": ".py",
   "mimetype": "text/x-python",
   "name": "python",
   "nbconvert_exporter": "python",
   "pygments_lexer": "ipython3",
   "version": "3.7.7"
  },
  "toc": {
   "base_numbering": 1,
   "nav_menu": {},
   "number_sections": true,
   "sideBar": true,
   "skip_h1_title": false,
   "title_cell": "Table of Contents",
   "title_sidebar": "Contents",
   "toc_cell": true,
   "toc_position": {},
   "toc_section_display": true,
   "toc_window_display": false
  }
 },
 "nbformat": 4,
 "nbformat_minor": 5
}
