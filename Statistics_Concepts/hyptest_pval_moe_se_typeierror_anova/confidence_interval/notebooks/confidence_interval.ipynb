{
 "cells": [
  {
   "cell_type": "markdown",
   "id": "0bef33a7",
   "metadata": {
    "toc": true
   },
   "source": [
    "<h1>Table of Contents<span class=\"tocSkip\"></span></h1>\n",
    "<div class=\"toc\"><ul class=\"toc-item\"><li><span><a href=\"#Confidence-Interval\" data-toc-modified-id=\"Confidence-Interval-1\"><span class=\"toc-item-num\">1&nbsp;&nbsp;</span>Confidence Interval</a></span></li><li><span><a href=\"#Confidence-Level-calculations\" data-toc-modified-id=\"Confidence-Level-calculations-2\"><span class=\"toc-item-num\">2&nbsp;&nbsp;</span>Confidence Level calculations</a></span></li><li><span><a href=\"#CI-from-bootstrapping\" data-toc-modified-id=\"CI-from-bootstrapping-3\"><span class=\"toc-item-num\">3&nbsp;&nbsp;</span>CI from bootstrapping</a></span><ul class=\"toc-item\"><li><span><a href=\"#calculate-CI-from-point-estimates\" data-toc-modified-id=\"calculate-CI-from-point-estimates-3.1\"><span class=\"toc-item-num\">3.1&nbsp;&nbsp;</span>calculate CI from point estimates</a></span></li><li><span><a href=\"#Look-at-CI-of-lower-and-upper-interval-estimates\" data-toc-modified-id=\"Look-at-CI-of-lower-and-upper-interval-estimates-3.2\"><span class=\"toc-item-num\">3.2&nbsp;&nbsp;</span>Look at CI of lower and upper interval estimates</a></span></li></ul></li></ul></div>"
   ]
  },
  {
   "cell_type": "markdown",
   "id": "36b815f7",
   "metadata": {},
   "source": [
    "# Confidence Interval\n",
    "- interval in scipy stats gives different result than R and GraphPad (R is better).\n",
    "- scipy stats t/norm/etc interval has parameter alpha but it is acutally confidenceLevel (1-alpha)."
   ]
  },
  {
   "cell_type": "code",
   "execution_count": 54,
   "id": "ad16acfb",
   "metadata": {
    "ExecuteTime": {
     "end_time": "2022-01-23T16:39:56.216708Z",
     "start_time": "2022-01-23T16:39:56.207268Z"
    }
   },
   "outputs": [],
   "source": [
    "import numpy as np\n",
    "import pandas as pd\n",
    "\n",
    "from scipy import stats\n",
    "import statsmodels.stats.api as sms\n",
    "import tqdm\n",
    "from tqdm import trange"
   ]
  },
  {
   "cell_type": "markdown",
   "id": "da9b283d",
   "metadata": {},
   "source": [
    "# Confidence Level calculations"
   ]
  },
  {
   "cell_type": "code",
   "execution_count": 47,
   "id": "57f86999",
   "metadata": {
    "ExecuteTime": {
     "end_time": "2022-01-23T16:19:14.767956Z",
     "start_time": "2022-01-23T16:19:14.763361Z"
    }
   },
   "outputs": [],
   "source": [
    "def good_confIntMean(a, alpha=0.05):\n",
    "    conf = 1-alpha # confidence level\n",
    "    mean, sem, m = np.mean(a), stats.sem(a), stats.t.ppf((1+conf)/2., len(a)-1)\n",
    "    return mean - m*sem, mean + m*sem"
   ]
  },
  {
   "cell_type": "code",
   "execution_count": 31,
   "id": "ff6ad64c",
   "metadata": {
    "ExecuteTime": {
     "end_time": "2022-01-23T16:03:22.464865Z",
     "start_time": "2022-01-23T16:03:22.460632Z"
    }
   },
   "outputs": [],
   "source": [
    "def mean_confidence_interval(data, alpha=0.05):\n",
    "    confidence = 1-alpha\n",
    "    a = 1.0 * np.array(data)\n",
    "    n = len(a)\n",
    "    m, se = np.mean(a), stats.sem(a)\n",
    "    h = se * stats.t.ppf((1 + confidence) / 2., n-1)\n",
    "    return m-h, m+h"
   ]
  },
  {
   "cell_type": "code",
   "execution_count": 48,
   "id": "62e21ba4",
   "metadata": {
    "ExecuteTime": {
     "end_time": "2022-01-23T16:19:21.707451Z",
     "start_time": "2022-01-23T16:19:21.699066Z"
    }
   },
   "outputs": [
    {
     "data": {
      "text/plain": [
       "(3.5255162351846367, 5.349483764815363)"
      ]
     },
     "execution_count": 48,
     "metadata": {},
     "output_type": "execute_result"
    }
   ],
   "source": [
    "a = np.array([1,2,3,4,4,4,5,5,5,5,4,4,4,6,7,8])\n",
    "\n",
    "# better method\n",
    "good_confIntMean(a) # (3.9974214366806184, 4.877578563319382)"
   ]
  },
  {
   "cell_type": "code",
   "execution_count": 33,
   "id": "50adfce4",
   "metadata": {
    "ExecuteTime": {
     "end_time": "2022-01-23T16:03:23.777604Z",
     "start_time": "2022-01-23T16:03:23.771074Z"
    }
   },
   "outputs": [
    {
     "data": {
      "text/plain": [
       "(3.5255162351846367, 5.349483764815363)"
      ]
     },
     "execution_count": 33,
     "metadata": {},
     "output_type": "execute_result"
    }
   ],
   "source": [
    "mean_confidence_interval(a)"
   ]
  },
  {
   "cell_type": "code",
   "execution_count": 34,
   "id": "443b6b77",
   "metadata": {
    "ExecuteTime": {
     "end_time": "2022-01-23T16:03:28.318830Z",
     "start_time": "2022-01-23T16:03:28.310509Z"
    }
   },
   "outputs": [
    {
     "data": {
      "text/plain": [
       "(3.5255162351846367, 5.349483764815363)"
      ]
     },
     "execution_count": 34,
     "metadata": {},
     "output_type": "execute_result"
    }
   ],
   "source": [
    "sms.DescrStatsW(a).tconfint_mean()"
   ]
  },
  {
   "cell_type": "code",
   "execution_count": 40,
   "id": "974bd767",
   "metadata": {
    "ExecuteTime": {
     "end_time": "2022-01-23T16:08:59.902362Z",
     "start_time": "2022-01-23T16:08:59.892490Z"
    }
   },
   "outputs": [
    {
     "data": {
      "text/plain": [
       "(3.5255162351846367, 5.349483764815363)"
      ]
     },
     "execution_count": 40,
     "metadata": {},
     "output_type": "execute_result"
    }
   ],
   "source": [
    "sms.DescrStatsW(a).tconfint_mean(alpha=0.05) # statsmodel ALPHA is actually ALPHA"
   ]
  },
  {
   "cell_type": "code",
   "execution_count": 35,
   "id": "3384ed24",
   "metadata": {
    "ExecuteTime": {
     "end_time": "2022-01-23T16:03:29.038770Z",
     "start_time": "2022-01-23T16:03:29.031153Z"
    }
   },
   "outputs": [
    {
     "data": {
      "text/plain": [
       "(3.5255162351846367, 5.349483764815363)"
      ]
     },
     "execution_count": 35,
     "metadata": {},
     "output_type": "execute_result"
    }
   ],
   "source": [
    "stats.t.interval(1-0.05, df = len(a)-1, loc=np.mean(a), scale=stats.sem(a))"
   ]
  },
  {
   "cell_type": "code",
   "execution_count": 29,
   "id": "007c82d4",
   "metadata": {
    "ExecuteTime": {
     "end_time": "2022-01-23T16:02:36.335200Z",
     "start_time": "2022-01-23T16:02:36.327614Z"
    }
   },
   "outputs": [
    {
     "data": {
      "text/plain": [
       "(4.012001096603741, 4.862998903396259)"
      ]
     },
     "execution_count": 29,
     "metadata": {},
     "output_type": "execute_result"
    }
   ],
   "source": [
    "# for normal distribution\n",
    "stats.norm.interval(0.68, loc=np.mean(a), scale=stats.sem(a)) # there is no df for norm distribution\n",
    "#(4.0120010966037407, 4.8629989033962593)"
   ]
  },
  {
   "cell_type": "markdown",
   "id": "bd2e8ade",
   "metadata": {},
   "source": [
    "# CI from bootstrapping\n",
    "- https://stackoverflow.com/questions/44392978/compute-a-confidence-interval-from-sample-data-assuming-unknown-distribution/66008548#66008548\n",
    "\n",
    "- If we have the population, we don't need to bootstrap, we can simply get confidencen interval.\n",
    "- If we only have sample, we can calculate CI for bootstrapped sample and then estimate it for population."
   ]
  },
  {
   "cell_type": "code",
   "execution_count": 88,
   "id": "2cd1a1f0",
   "metadata": {
    "ExecuteTime": {
     "end_time": "2022-01-23T17:26:26.396938Z",
     "start_time": "2022-01-23T17:26:25.882066Z"
    }
   },
   "outputs": [
    {
     "name": "stderr",
     "output_type": "stream",
     "text": [
      "100%|██████████| 1000/1000 [00:00<00:00, 1978.11it/s]\n"
     ]
    }
   ],
   "source": [
    "import numpy as np\n",
    "import tqdm\n",
    "from scipy import stats\n",
    "\n",
    "alpha = 0.05\n",
    "a = np.array([1,2,3,4,4,4,5,5,5,5,4,4,4,6,7,8])\n",
    "\n",
    "\n",
    "reps = 1_000\n",
    "\n",
    "sample = a # suppose that a is sample drawn from big population\n",
    "ci_los = []\n",
    "ci_his = []\n",
    "ci_points = [] # point estimate\n",
    "for _ in tqdm.trange(reps):\n",
    "    bootsample = np.random.choice(sample, size=len(sample),replace=True)\n",
    "    \n",
    "    # make sure to use bootsample, not sample!\n",
    "    ci_lo, ci_hi = stats.t.interval(1-alpha,\n",
    "                                    df = len(bootsample)-1,\n",
    "                                    loc=np.mean(bootsample),\n",
    "                                    scale=stats.sem(bootsample))\n",
    "    ci_los.append(ci_lo)\n",
    "    ci_his.append(ci_hi)\n",
    "    ci_point = (ci_lo+ci_hi)/2\n",
    "    ci_points.append(ci_point)"
   ]
  },
  {
   "cell_type": "markdown",
   "id": "edbe7d8d",
   "metadata": {},
   "source": [
    "## calculate CI from point estimates"
   ]
  },
  {
   "cell_type": "code",
   "execution_count": 84,
   "id": "09a146f5",
   "metadata": {
    "ExecuteTime": {
     "end_time": "2022-01-23T17:25:40.450389Z",
     "start_time": "2022-01-23T17:25:40.443512Z"
    }
   },
   "outputs": [
    {
     "data": {
      "text/plain": [
       "array([3.5625, 5.25  ])"
      ]
     },
     "execution_count": 84,
     "metadata": {},
     "output_type": "execute_result"
    }
   ],
   "source": [
    "np.percentile(ci_points, [alpha/2*100,100-alpha/2*100])"
   ]
  },
  {
   "cell_type": "markdown",
   "id": "81e11c98",
   "metadata": {},
   "source": [
    "## Look at CI of lower and upper interval estimates"
   ]
  },
  {
   "cell_type": "code",
   "execution_count": 85,
   "id": "21e23630",
   "metadata": {
    "ExecuteTime": {
     "end_time": "2022-01-23T17:25:45.070450Z",
     "start_time": "2022-01-23T17:25:45.064788Z"
    }
   },
   "outputs": [
    {
     "data": {
      "text/plain": [
       "(3.5725661374525783, 5.327183862547421)"
      ]
     },
     "execution_count": 85,
     "metadata": {},
     "output_type": "execute_result"
    }
   ],
   "source": [
    "np.mean(ci_los), np.mean(ci_his)"
   ]
  },
  {
   "cell_type": "code",
   "execution_count": 86,
   "id": "0667c713",
   "metadata": {
    "ExecuteTime": {
     "end_time": "2022-01-23T17:25:52.112879Z",
     "start_time": "2022-01-23T17:25:52.104730Z"
    }
   },
   "outputs": [
    {
     "data": {
      "text/plain": [
       "array([2.67006742, 4.41318561])"
      ]
     },
     "execution_count": 86,
     "metadata": {},
     "output_type": "execute_result"
    }
   ],
   "source": [
    "np.percentile(ci_los,[2.5,97.5])"
   ]
  },
  {
   "cell_type": "code",
   "execution_count": 87,
   "id": "69ce9a35",
   "metadata": {
    "ExecuteTime": {
     "end_time": "2022-01-23T17:25:56.430298Z",
     "start_time": "2022-01-23T17:25:56.423076Z"
    }
   },
   "outputs": [
    {
     "data": {
      "text/plain": [
       "array([4.43445622, 6.1977602 ])"
      ]
     },
     "execution_count": 87,
     "metadata": {},
     "output_type": "execute_result"
    }
   ],
   "source": [
    "np.percentile(ci_his,[2.5,97.5])"
   ]
  },
  {
   "cell_type": "code",
   "execution_count": null,
   "id": "793b8a4e",
   "metadata": {},
   "outputs": [],
   "source": []
  }
 ],
 "metadata": {
  "kernelspec": {
   "display_name": "Python (dataSc)",
   "language": "python",
   "name": "datasc"
  },
  "language_info": {
   "codemirror_mode": {
    "name": "ipython",
    "version": 3
   },
   "file_extension": ".py",
   "mimetype": "text/x-python",
   "name": "python",
   "nbconvert_exporter": "python",
   "pygments_lexer": "ipython3",
   "version": "3.7.7"
  },
  "toc": {
   "base_numbering": 1,
   "nav_menu": {},
   "number_sections": true,
   "sideBar": true,
   "skip_h1_title": false,
   "title_cell": "Table of Contents",
   "title_sidebar": "Contents",
   "toc_cell": true,
   "toc_position": {},
   "toc_section_display": true,
   "toc_window_display": false
  }
 },
 "nbformat": 4,
 "nbformat_minor": 5
}
