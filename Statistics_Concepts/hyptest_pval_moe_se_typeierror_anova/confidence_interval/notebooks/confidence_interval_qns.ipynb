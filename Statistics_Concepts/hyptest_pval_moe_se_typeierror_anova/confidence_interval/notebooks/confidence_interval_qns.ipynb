{
 "cells": [
  {
   "cell_type": "markdown",
   "metadata": {
    "toc": true
   },
   "source": [
    "<h1>Table of Contents<span class=\"tocSkip\"></span></h1>\n",
    "<div class=\"toc\"><ul class=\"toc-item\"><li><span><a href=\"#Qn1-proportion-test\" data-toc-modified-id=\"Qn1-proportion-test-1\"><span class=\"toc-item-num\">1&nbsp;&nbsp;</span>Qn1 proportion test</a></span><ul class=\"toc-item\"><li><span><a href=\"#using-direct-formula\" data-toc-modified-id=\"using-direct-formula-1.1\"><span class=\"toc-item-num\">1.1&nbsp;&nbsp;</span>using direct formula</a></span></li><li><span><a href=\"#using-statsmodels\" data-toc-modified-id=\"using-statsmodels-1.2\"><span class=\"toc-item-num\">1.2&nbsp;&nbsp;</span>using statsmodels</a></span></li><li><span><a href=\"#getting-p-value-instead-of-confidence-interval\" data-toc-modified-id=\"getting-p-value-instead-of-confidence-interval-1.3\"><span class=\"toc-item-num\">1.3&nbsp;&nbsp;</span>getting p-value instead of confidence interval</a></span></li><li><span><a href=\"#p-value-from-statsmodels-proportion-ztest\" data-toc-modified-id=\"p-value-from-statsmodels-proportion-ztest-1.4\"><span class=\"toc-item-num\">1.4&nbsp;&nbsp;</span>p-value from statsmodels proportion ztest</a></span></li></ul></li><li><span><a href=\"#Proportion-test-Qn2\" data-toc-modified-id=\"Proportion-test-Qn2-2\"><span class=\"toc-item-num\">2&nbsp;&nbsp;</span>Proportion test Qn2</a></span><ul class=\"toc-item\"><li><span><a href=\"#Proprotion-test-Qn3\" data-toc-modified-id=\"Proprotion-test-Qn3-2.1\"><span class=\"toc-item-num\">2.1&nbsp;&nbsp;</span>Proprotion test Qn3</a></span></li></ul></li><li><span><a href=\"#CI-for-two-samples\" data-toc-modified-id=\"CI-for-two-samples-3\"><span class=\"toc-item-num\">3&nbsp;&nbsp;</span>CI for two samples</a></span><ul class=\"toc-item\"><li><span><a href=\"#Qn-1-Two-sample-t-test\" data-toc-modified-id=\"Qn-1-Two-sample-t-test-3.1\"><span class=\"toc-item-num\">3.1&nbsp;&nbsp;</span>Qn 1 Two sample t-test</a></span></li><li><span><a href=\"#Two-sample-z-test-Qn-2\" data-toc-modified-id=\"Two-sample-z-test-Qn-2-3.2\"><span class=\"toc-item-num\">3.2&nbsp;&nbsp;</span>Two sample z-test Qn 2</a></span></li><li><span><a href=\"#Qn-3\" data-toc-modified-id=\"Qn-3-3.3\"><span class=\"toc-item-num\">3.3&nbsp;&nbsp;</span>Qn 3</a></span></li></ul></li></ul></div>"
   ]
  },
  {
   "cell_type": "code",
   "execution_count": 1,
   "metadata": {
    "ExecuteTime": {
     "end_time": "2021-05-12T14:50:23.690965Z",
     "start_time": "2021-05-12T14:50:22.545633Z"
    }
   },
   "outputs": [],
   "source": [
    "import numpy as np\n",
    "from scipy import stats\n",
    "\n",
    "import statsmodels\n",
    "import statsmodels.stats.api as sms"
   ]
  },
  {
   "cell_type": "markdown",
   "metadata": {},
   "source": [
    "# Qn1 proportion test\n",
    "\n",
    "- https://towardsdatascience.com/40-statistics-interview-problems-and-answers-for-data-scientists-6971a02b7eee\n",
    "\n",
    "- https://en.wikipedia.org/wiki/Binomial_proportion_confidence_interval\n",
    "\n",
    "- https://sigmazone.com/binomial-confidence-intervals/\n",
    "\n",
    "You are running for office and your pollster polled hundred people. Sixty of them claimed they will vote for you. Can you relax?\n",
    "\n",
    "![](images/ci.png)\n",
    "![](images/ci2.png)\n",
    "```\n",
    "p-hat = 60/100 = 0.6\n",
    "z* = 1.96\n",
    "n = 100\n",
    "```\n",
    "This gives us a confidence interval of [50.4,69.6]. Therefore, given a confidence interval of 95%, if you are okay with the worst scenario of tying then you can relax. Otherwise, you cannot relax until you got 61 out of 100 to claim yes.\n"
   ]
  },
  {
   "cell_type": "markdown",
   "metadata": {},
   "source": [
    "## using direct formula"
   ]
  },
  {
   "cell_type": "code",
   "execution_count": 17,
   "metadata": {
    "ExecuteTime": {
     "end_time": "2021-05-12T14:51:47.440493Z",
     "start_time": "2021-05-12T14:51:47.435444Z"
    }
   },
   "outputs": [
    {
     "data": {
      "text/plain": [
       "1.959963984540054"
      ]
     },
     "execution_count": 17,
     "metadata": {},
     "output_type": "execute_result"
    }
   ],
   "source": [
    "# find critical value for 95% confidence interval\n",
    "alpha = 0.05\n",
    "z_crit = stats.norm.ppf(1-alpha/2)\n",
    "z_crit"
   ]
  },
  {
   "cell_type": "code",
   "execution_count": 21,
   "metadata": {
    "ExecuteTime": {
     "end_time": "2021-05-12T15:00:50.431064Z",
     "start_time": "2021-05-12T15:00:50.425324Z"
    }
   },
   "outputs": [
    {
     "data": {
      "text/plain": [
       "0.050000000000000044"
      ]
     },
     "execution_count": 21,
     "metadata": {},
     "output_type": "execute_result"
    }
   ],
   "source": [
    "alpha_by_2 = 1 - stats.norm.cdf(z_crit)\n",
    "alpha = alpha_by_2 * 2\n",
    "\n",
    "alpha"
   ]
  },
  {
   "cell_type": "code",
   "execution_count": 23,
   "metadata": {
    "ExecuteTime": {
     "end_time": "2021-05-12T15:01:53.098348Z",
     "start_time": "2021-05-12T15:01:53.090495Z"
    }
   },
   "outputs": [
    {
     "data": {
      "text/plain": [
       "0.05"
      ]
     },
     "execution_count": 23,
     "metadata": {},
     "output_type": "execute_result"
    }
   ],
   "source": [
    "alpha = stats.norm.sf(z_crit) * 2\n",
    "alpha"
   ]
  },
  {
   "cell_type": "code",
   "execution_count": 2,
   "metadata": {
    "ExecuteTime": {
     "end_time": "2021-05-12T14:50:23.709129Z",
     "start_time": "2021-05-12T14:50:23.693086Z"
    }
   },
   "outputs": [
    {
     "data": {
      "text/plain": [
       "(0.5039800020828994, 0.6960199979171006)"
      ]
     },
     "execution_count": 2,
     "metadata": {},
     "output_type": "execute_result"
    }
   ],
   "source": [
    "phat = 60/100\n",
    "z_crit = 1.96 # 95% confidence interval\n",
    "n = 100\n",
    "\n",
    "second = z_crit * np.sqrt(phat * (1-phat)) / np.sqrt(n)\n",
    "\n",
    "ci = (phat-second, phat + second)\n",
    "ci"
   ]
  },
  {
   "cell_type": "markdown",
   "metadata": {},
   "source": [
    "## using statsmodels"
   ]
  },
  {
   "cell_type": "code",
   "execution_count": 3,
   "metadata": {
    "ExecuteTime": {
     "end_time": "2021-05-12T14:50:23.719996Z",
     "start_time": "2021-05-12T14:50:23.713402Z"
    }
   },
   "outputs": [
    {
     "data": {
      "text/plain": [
       "(0.5039817664728937, 0.6960182335271062)"
      ]
     },
     "execution_count": 3,
     "metadata": {},
     "output_type": "execute_result"
    }
   ],
   "source": [
    "from statsmodels.stats import proportion as smp\n",
    "\n",
    "smp.proportion_confint(\n",
    "    count=60,nobs=100,alpha=0.05,method='normal')"
   ]
  },
  {
   "cell_type": "markdown",
   "metadata": {},
   "source": [
    "## getting p-value instead of confidence interval"
   ]
  },
  {
   "cell_type": "code",
   "execution_count": 4,
   "metadata": {
    "ExecuteTime": {
     "end_time": "2021-05-12T14:50:23.730022Z",
     "start_time": "2021-05-12T14:50:23.724649Z"
    }
   },
   "outputs": [
    {
     "data": {
      "text/plain": [
       "0.02844396682049039"
      ]
     },
     "execution_count": 4,
     "metadata": {},
     "output_type": "execute_result"
    }
   ],
   "source": [
    "x = 60\n",
    "n = 100\n",
    "p = 0.5\n",
    "\n",
    "pval = stats.binom_test(x=x,n=n,p=p,alternative='greater')\n",
    "pval"
   ]
  },
  {
   "cell_type": "code",
   "execution_count": 5,
   "metadata": {
    "ExecuteTime": {
     "end_time": "2021-05-12T14:50:23.745163Z",
     "start_time": "2021-05-12T14:50:23.733311Z"
    }
   },
   "outputs": [
    {
     "data": {
      "text/plain": [
       "0.02844396682049039"
      ]
     },
     "execution_count": 5,
     "metadata": {},
     "output_type": "execute_result"
    }
   ],
   "source": [
    "# using survival function ( 1-cdf)\n",
    "pval = stats.binom.sf(x-1,n,p)\n",
    "pval"
   ]
  },
  {
   "cell_type": "code",
   "execution_count": 6,
   "metadata": {
    "ExecuteTime": {
     "end_time": "2021-05-12T14:50:23.762505Z",
     "start_time": "2021-05-12T14:50:23.748642Z"
    }
   },
   "outputs": [
    {
     "data": {
      "text/plain": [
       "(0.017600100108852407, 0.9823998998911476)"
      ]
     },
     "execution_count": 6,
     "metadata": {},
     "output_type": "execute_result"
    }
   ],
   "source": [
    "# we need to use x-1 for survival function not x\n",
    "stats.binom.sf(x,n,p), 1 - stats.binom.sf(x,n,p)"
   ]
  },
  {
   "cell_type": "code",
   "execution_count": 7,
   "metadata": {
    "ExecuteTime": {
     "end_time": "2021-05-12T14:50:23.785672Z",
     "start_time": "2021-05-12T14:50:23.773710Z"
    }
   },
   "outputs": [
    {
     "data": {
      "text/plain": [
       "(0.9823998998911476, 0.01760010010885238)"
      ]
     },
     "execution_count": 7,
     "metadata": {},
     "output_type": "execute_result"
    }
   ],
   "source": [
    "# these do not give pval, we need to use survial function with x-1.\n",
    "stats.binom.cdf(x,n,p), 1 - stats.binom.cdf(x,n,p)"
   ]
  },
  {
   "cell_type": "markdown",
   "metadata": {},
   "source": [
    "## p-value from statsmodels proportion ztest\n",
    "\n",
    "- https://docs.w3cub.com/statsmodels/generated/statsmodels.stats.proportion.proportions_ztest"
   ]
  },
  {
   "cell_type": "code",
   "execution_count": 8,
   "metadata": {
    "ExecuteTime": {
     "end_time": "2021-05-12T14:50:23.811820Z",
     "start_time": "2021-05-12T14:50:23.799135Z"
    }
   },
   "outputs": [
    {
     "data": {
      "text/plain": [
       "3.0109462239884175e-29"
      ]
     },
     "execution_count": 8,
     "metadata": {},
     "output_type": "execute_result"
    }
   ],
   "source": [
    "from statsmodels.stats.proportion import proportions_ztest\n",
    "\n",
    "stat, pval = proportions_ztest(count=60, nobs=100, value=0.05,alternative='two-sided')\n",
    "\n",
    "pval"
   ]
  },
  {
   "cell_type": "markdown",
   "metadata": {
    "ExecuteTime": {
     "end_time": "2021-03-09T23:32:38.793642Z",
     "start_time": "2021-03-09T23:32:38.789004Z"
    }
   },
   "source": [
    "# Proportion test Qn2\n",
    "\n",
    "- https://stackoverflow.com/questions/62562064/how-to-calculate-pvalue-for-one-tailed-test-in-python\n",
    "    \n",
    "In previous years 52% of 1018 parents believed that electronics and social media was the cause of their teenager’s lack of sleep.\n",
    "\n",
    "Do more parents today believe that their teenager’s lack of sleep is caused due to electronics and social media? \n",
    "\n",
    "\n",
    "Population: Parents with a teenager (age 13-18)\n",
    "\n",
    "\n",
    "Parameter of Interest: p \n",
    "\n",
    "Null Hypothesis: p = 0.52 \n",
    "\n",
    "Alternative Hypthesis: p > 0.52 (note that this is a one-sided test)\n",
    "\n",
    "\n",
    "1018 Parents\n",
    "\n",
    "56% believe that their teenager’s lack of sleep is caused due to electronics and social media\n",
    "\n",
    "\n",
    "![](images/z_for_prop.jpeg)"
   ]
  },
  {
   "cell_type": "code",
   "execution_count": 9,
   "metadata": {
    "ExecuteTime": {
     "end_time": "2021-05-12T14:50:23.824914Z",
     "start_time": "2021-05-12T14:50:23.814902Z"
    }
   },
   "outputs": [
    {
     "data": {
      "text/plain": [
       "2.5545334262132955"
      ]
     },
     "execution_count": 9,
     "metadata": {},
     "output_type": "execute_result"
    }
   ],
   "source": [
    "p0 = 0.52\n",
    "p = 0.56\n",
    "n = 1018\n",
    "Z = (p-p0)/np.sqrt(p0*(1-p0)/n)\n",
    "\n",
    "Z"
   ]
  },
  {
   "cell_type": "code",
   "execution_count": 10,
   "metadata": {
    "ExecuteTime": {
     "end_time": "2021-05-12T14:50:23.832970Z",
     "start_time": "2021-05-12T14:50:23.826969Z"
    }
   },
   "outputs": [
    {
     "data": {
      "text/plain": [
       "0.0053165109918223985"
      ]
     },
     "execution_count": 10,
     "metadata": {},
     "output_type": "execute_result"
    }
   ],
   "source": [
    "# stats.norm.cdf(Z) gives you the cumulative probability up till Z\n",
    "# and since we need the probability of observing \n",
    "# something more extreme than this we need 1 - cdf\n",
    "\n",
    "pval = 1-stats.norm.cdf(Z) # one-sided\n",
    "pval"
   ]
  },
  {
   "cell_type": "code",
   "execution_count": 11,
   "metadata": {
    "ExecuteTime": {
     "end_time": "2021-05-12T14:50:23.843555Z",
     "start_time": "2021-05-12T14:50:23.836867Z"
    }
   },
   "outputs": [
    {
     "data": {
      "text/plain": [
       "0.005316510991822442"
      ]
     },
     "execution_count": 11,
     "metadata": {},
     "output_type": "execute_result"
    }
   ],
   "source": [
    "# The probability density function of the\n",
    "# normal distribution is symmetric\n",
    "\n",
    "pval = stats.norm.cdf(-Z)\n",
    "pval"
   ]
  },
  {
   "cell_type": "code",
   "execution_count": 12,
   "metadata": {
    "ExecuteTime": {
     "end_time": "2021-05-12T14:50:23.856743Z",
     "start_time": "2021-05-12T14:50:23.849373Z"
    }
   },
   "outputs": [
    {
     "data": {
      "text/plain": [
       "0.005316510991822442"
      ]
     },
     "execution_count": 12,
     "metadata": {},
     "output_type": "execute_result"
    }
   ],
   "source": [
    "pval = stats.norm.sf(Z) # survival function gives 1 -cdf\n",
    "pval"
   ]
  },
  {
   "cell_type": "markdown",
   "metadata": {},
   "source": [
    "## Proprotion test Qn3\n",
    "\n",
    "- https://sigmazone.com/binomial-confidence-intervals/\n",
    "    \n",
    "Let’s assume that two candidates are running in an election for Governor of California. This fictitious election pits Mr. Gubinator vs. Mr. Ventura.\n",
    "\n",
    "\n",
    "We would like to know who is winning the race, and therefore we conduct a poll of likely voters in California. If the poll gives the voters a choice between the two candidates, then the results can be reasonably modeled with the Binomial Distribution.\n",
    "\n",
    "\n",
    "In our poll of 50 likely voters, 58% indicate they intend to vote for Mr. Gubinator.\n",
    "\n",
    "Does this mean that 58% of all voters intend to vote for Mr. Gubinator? Probably not.\n",
    "\n",
    "\n",
    "If we were to repeat this poll several times in the same day (using a different group of 50 each time) we would find that the percentage that intends to vote for Mr. Gubinator would change with each poll. \n",
    "\n",
    "\n",
    "Using our previous example, if a poll of 50 likely voters resulted in 29 expressing their desire to vote for Mr. Gubinator, the resulting 95% CI would be calculated as follows.\n",
    "\n",
    "![](images/sigmazone.png)\n",
    "\n",
    "Thus, we would be 95% confident that the proportion of the target population (all voters in California) who intend to vote for Mr. Gubernator falls between 44% and 72%.\n",
    "\n",
    "While this method is very easy to teach and understand, you may have noticed that z1- α/2 is derived from the Normal Distribution and not the Binomial Distribution. The use of the z value from the Normal Distribution is where the method earns its moniker “Normal Approximation”. While the use of the Normal Distribution seems odd at first, it is supported by the central limit theorem and with sufficiently large n, the Normal Distribution is a good estimate of the Binomial Distribution.\n",
    "\n",
    "However, there are times when the Normal Distribution is not a good estimator of the Binomial. When p is very small or very large, the Normal Approximation starts to suffer from increased inaccuracy. Specifically, when np > 5 or n(1-p)>5 the Normal Approximation method should not be used.\n",
    "\n",
    "Additionally, if you try to calculate any CI with p=0 or p=1, you will find that it is not possible.\n",
    "\n"
   ]
  },
  {
   "cell_type": "markdown",
   "metadata": {},
   "source": [
    "# CI for two samples\n",
    "\n",
    "- https://docs.scipy.org/doc/scipy/reference/generated/scipy.stats.ttest_ind.html\n",
    "\n",
    "- https://www.reneshbedre.com/blog/ttest.html\n",
    "\n",
    "- https://sphweb.bumc.bu.edu/otlt/MPH-Modules/BS/BS704_Confidence_Intervals/BS704_Confidence_Intervals5.html\n",
    "\n",
    "\n",
    "![](images/two_sample_t_test.png)\n",
    "![](images/two_sample_t_df.png)"
   ]
  },
  {
   "cell_type": "markdown",
   "metadata": {},
   "source": [
    "## Qn 1 Two sample t-test\n",
    "\n",
    "In a study of emergency room waiting times, investigators consider a new and the standard triage systems.\n",
    "\n",
    "To test the systems, administrators selected 20 nights and randomly assigned the new triage system to be used on 10 nights and the standard system on the remaining 10 nights. \n",
    "\n",
    "They calculated the nightly median waiting time (MWT) to see a physician. The average MWT for the new system was 3 hours with a variance of 0.60 while the average MWT for the old system was 5 hours with a variance of 0.68. \n",
    "\n",
    "Consider the 95% confidence interval estimate for the differences of the mean MWT associated with the new system. Assume a constant variance.\n",
    "\n",
    "What is the interval? Subtract in this order (New System — Old System).\n",
    "\n",
    "Note: s^2p is pooled sample variance.\n",
    "\n",
    "\n",
    "Answer:\n",
    "\n",
    "![](images/qn_39.png)"
   ]
  },
  {
   "cell_type": "code",
   "execution_count": 13,
   "metadata": {
    "ExecuteTime": {
     "end_time": "2021-05-12T14:50:23.874139Z",
     "start_time": "2021-05-12T14:50:23.864612Z"
    }
   },
   "outputs": [
    {
     "data": {
      "text/plain": [
       "Ttest_indResult(statistic=-5.5901699437494745, pvalue=2.6367163153806834e-05)"
      ]
     },
     "execution_count": 13,
     "metadata": {},
     "output_type": "execute_result"
    }
   ],
   "source": [
    "from scipy.stats import ttest_ind_from_stats\n",
    "\n",
    "mean1, mean2 = 3,5\n",
    "var1, var2 = 0.6, 0.68\n",
    "nobs1, nobs2 = 10,10\n",
    "\n",
    "\n",
    "ttest_ind_from_stats(mean1=mean1, std1=np.sqrt(var1), nobs1=nobs1,\n",
    "                     mean2=mean2, std2=np.sqrt(var2), nobs2=nobs2)"
   ]
  },
  {
   "cell_type": "markdown",
   "metadata": {},
   "source": [
    "## Two sample z-test Qn 2\n",
    "\n",
    "To further test the hospital triage system, administrators selected 200 nights and randomly assigned a new triage system to be used on 100 nights and a standard system on the remaining 100 nights.\n",
    "\n",
    "They calculated the nightly median waiting time (MWT) to see a physician. \n",
    "\n",
    "\n",
    "The average MWT for the new system was 4 hours with a standard deviation of 0.5 hours while the average MWT for the old system was 6 hours with a standard deviation of 2 hours.\n",
    "\n",
    "Consider the hypothesis of a decrease in the mean MWT associated with the new treatment.\n",
    "\n",
    "What does the 95% independent group confidence interval with unequal variances suggest vis a vis this hypothesis?\n",
    "\n",
    "\n",
    "(Because there’s so many observations per group, just use the Z quantile instead of the T.)\n",
    "\n",
    "\n",
    "Answer:\n",
    "![](images/qn_40.png)"
   ]
  },
  {
   "cell_type": "code",
   "execution_count": null,
   "metadata": {},
   "outputs": [],
   "source": []
  },
  {
   "cell_type": "markdown",
   "metadata": {},
   "source": [
    "## Qn 3\n",
    "\n",
    "- https://docs.scipy.org/doc/scipy/reference/generated/scipy.stats.ttest_ind_from_stats.html\n",
    "\n",
    "```\n",
    "                 Sample   Sample\n",
    "           Size   Mean   Variance\n",
    "Sample 1    13    15.0     87.5\n",
    "Sample 2    11    12.0     39.0\n",
    "\n",
    "\n",
    "Apply the t-test to this data (with the assumption that the population variances are equal)\n",
    "```"
   ]
  },
  {
   "cell_type": "code",
   "execution_count": 14,
   "metadata": {
    "ExecuteTime": {
     "end_time": "2021-05-12T14:50:23.892378Z",
     "start_time": "2021-05-12T14:50:23.883000Z"
    }
   },
   "outputs": [
    {
     "data": {
      "text/plain": [
       "Ttest_indResult(statistic=0.9051358093310269, pvalue=0.3751996797581487)"
      ]
     },
     "execution_count": 14,
     "metadata": {},
     "output_type": "execute_result"
    }
   ],
   "source": [
    "from scipy.stats import ttest_ind_from_stats\n",
    "ttest_ind_from_stats(mean1=15.0, std1=np.sqrt(87.5), nobs1=13,\n",
    "                     mean2=12.0, std2=np.sqrt(39.0), nobs2=11)"
   ]
  },
  {
   "cell_type": "code",
   "execution_count": 15,
   "metadata": {
    "ExecuteTime": {
     "end_time": "2021-05-12T14:50:23.905947Z",
     "start_time": "2021-05-12T14:50:23.896155Z"
    }
   },
   "outputs": [
    {
     "data": {
      "text/plain": [
       "Ttest_indResult(statistic=0.905135809331027, pvalue=0.3751996797581486)"
      ]
     },
     "execution_count": 15,
     "metadata": {},
     "output_type": "execute_result"
    }
   ],
   "source": [
    "from scipy.stats import ttest_ind\n",
    "\n",
    "a = np.array([1, 3, 4, 6, 11, 13, 15, 19, 22, 24, 25, 26, 26])\n",
    "b = np.array([2, 4, 6, 9, 11, 13, 14, 15, 18, 19, 21])\n",
    "\n",
    "ttest_ind(a, b)"
   ]
  },
  {
   "cell_type": "code",
   "execution_count": null,
   "metadata": {},
   "outputs": [],
   "source": []
  }
 ],
 "metadata": {
  "kernelspec": {
   "display_name": "Python (dataSc)",
   "language": "python",
   "name": "datasc"
  },
  "language_info": {
   "codemirror_mode": {
    "name": "ipython",
    "version": 3
   },
   "file_extension": ".py",
   "mimetype": "text/x-python",
   "name": "python",
   "nbconvert_exporter": "python",
   "pygments_lexer": "ipython3",
   "version": "3.7.7"
  },
  "toc": {
   "base_numbering": 1,
   "nav_menu": {},
   "number_sections": true,
   "sideBar": true,
   "skip_h1_title": false,
   "title_cell": "Table of Contents",
   "title_sidebar": "Contents",
   "toc_cell": true,
   "toc_position": {},
   "toc_section_display": true,
   "toc_window_display": false
  }
 },
 "nbformat": 4,
 "nbformat_minor": 4
}
