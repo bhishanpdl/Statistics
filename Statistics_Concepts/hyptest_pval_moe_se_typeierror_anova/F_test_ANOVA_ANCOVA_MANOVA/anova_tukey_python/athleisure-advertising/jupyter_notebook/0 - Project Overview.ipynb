{
 "cells": [
  {
   "cell_type": "markdown",
   "metadata": {},
   "source": [
    "# Project Overview"
   ]
  },
  {
   "cell_type": "markdown",
   "metadata": {},
   "source": [
    "### Scenario"
   ]
  },
  {
   "cell_type": "markdown",
   "metadata": {},
   "source": [
    "Our client is a <b>startup online clothing company</b> that specializes in <b>athleisure</b> clothing in the <b>US</b>. Their marketing team wants to launch an <b>ad campaign</b> to increase online traffic on their website, which hopefully leads to more revenue. To best allocate time and effort for the launch of the ad campaign and maximize the audience to see their ads, they want to understand <b>3 things. </b>\n",
    "\n",
    "- Which <b>keywords</b> related to athleisure are consumers searching for most?\n",
    "- Which <b>month</b> are consumers searching for athleisure clothing most?\n",
    "- Which <b>platform</b> are consumers using most for their searches?\n",
    "\n",
    "We assume that the main searching platforms are as follows: \n",
    "\n",
    "- <b>Google</b> for information.\n",
    "- <b>Youtube</b> for video content.\n",
    "- <b>Amazon</b> for purchases."
   ]
  },
  {
   "cell_type": "markdown",
   "metadata": {},
   "source": [
    "___"
   ]
  },
  {
   "cell_type": "markdown",
   "metadata": {},
   "source": [
    "### Data Source"
   ]
  },
  {
   "cell_type": "markdown",
   "metadata": {},
   "source": [
    "Our data source is https://www.wordtracker.com/ - a paid database service for <b>Search Engine Optimization (SEO)</b>. Search engine optimization (SEO) is just a fancy way of saying: <i>“I want to figure out how make my website the top result for a given search.”</i>\n",
    "\n",
    "Wordtracker helps clients to get more traffic to their website or better understand what consumers are searching for. Wordtracker is similar to <b>Google Keywords Planner</b> service, but allows access to search data on platforms beyond Google.\n",
    "\n",
    "Wordtracker offers a 1-year representative sample of search data from June 2018-May 2019 on Google, Youtube, Amazon, and Ebay. It provides over 2 billion unique keywords from 18 million global panelists, across 106 countries.\n",
    "\n",
    "For our study, we pulled data from Wordtracker with the following constraints: \n",
    "- 77 terms related to athleisure, using top Amazon keyword results when searching for \"athleisure\".\n",
    "- Search volumes only in the United States.\n",
    "- Search volume data pulled from Google, YouTube, and Amazon engines.\n"
   ]
  }
 ],
 "metadata": {
  "kernelspec": {
   "display_name": "Python 3",
   "language": "python",
   "name": "python3"
  },
  "language_info": {
   "codemirror_mode": {
    "name": "ipython",
    "version": 3
   },
   "file_extension": ".py",
   "mimetype": "text/x-python",
   "name": "python",
   "nbconvert_exporter": "python",
   "pygments_lexer": "ipython3",
   "version": "3.7.4"
  }
 },
 "nbformat": 4,
 "nbformat_minor": 2
}
