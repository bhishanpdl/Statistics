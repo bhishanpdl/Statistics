{
 "cells": [
  {
   "cell_type": "markdown",
   "metadata": {
    "toc": true
   },
   "source": [
    "<h1>Table of Contents<span class=\"tocSkip\"></span></h1>\n",
    "<div class=\"toc\"><ul class=\"toc-item\"><li><span><a href=\"#ANOVA-Assumptions\" data-toc-modified-id=\"ANOVA-Assumptions-1\"><span class=\"toc-item-num\">1&nbsp;&nbsp;</span>ANOVA Assumptions</a></span></li><li><span><a href=\"#Data-Exploration\" data-toc-modified-id=\"Data-Exploration-2\"><span class=\"toc-item-num\">2&nbsp;&nbsp;</span>Data Exploration</a></span></li><li><span><a href=\"#Creating-New-Columns\" data-toc-modified-id=\"Creating-New-Columns-3\"><span class=\"toc-item-num\">3&nbsp;&nbsp;</span>Creating New Columns</a></span></li><li><span><a href=\"#The-Null-and-Alternative-Hypothesis\" data-toc-modified-id=\"The-Null-and-Alternative-Hypothesis-4\"><span class=\"toc-item-num\">4&nbsp;&nbsp;</span>The Null and Alternative Hypothesis</a></span></li><li><span><a href=\"#1-way-ANOVA\" data-toc-modified-id=\"1-way-ANOVA-5\"><span class=\"toc-item-num\">5&nbsp;&nbsp;</span>1-way ANOVA</a></span></li><li><span><a href=\"#The-Effect-Size\" data-toc-modified-id=\"The-Effect-Size-6\"><span class=\"toc-item-num\">6&nbsp;&nbsp;</span>The Effect Size</a></span></li></ul></div>"
   ]
  },
  {
   "cell_type": "markdown",
   "metadata": {},
   "source": [
    "In the previous article, we talked about hypothesis testing using the Welch's t-test on two independent samples of data. So what happens if we want know the statiscal significance for $k$ groups of data?\n",
    "\n",
    "This is where the analysis of variance technique, or ANOVA is useful."
   ]
  },
  {
   "cell_type": "markdown",
   "metadata": {},
   "source": [
    "### ANOVA Assumptions\n",
    "\n",
    "We'll be looking at SAT scores for five different districts in New York City. Specifically, we'll be using \"scores.csv\" from [Kaggle](https://www.kaggle.com/nycopendata/high-schools). First let's get the assumptions out of the way:\n",
    "\n",
    "+ The dependent variable (SAT scores) should be continuous. \n",
    "+ The independent variables (districts) should be two or more categorical groups.\n",
    "+ There must be different participants in each group with no participant being in more than one group. In our case, each school cannot be in more than one district.\n",
    "+ The dependent variable should be approximately normally distributed for each category.\n",
    "+ Variances of each group are approximately equal.\n",
    "\n"
   ]
  },
  {
   "cell_type": "markdown",
   "metadata": {
    "collapsed": true
   },
   "source": [
    "### Data Exploration\n",
    "\n",
    "Let's begin by taking a look at what our data looks like."
   ]
  },
  {
   "cell_type": "code",
   "execution_count": 1,
   "metadata": {
    "ExecuteTime": {
     "end_time": "2021-06-23T21:46:01.212695Z",
     "start_time": "2021-06-23T21:45:45.796521Z"
    }
   },
   "outputs": [
    {
     "data": {
      "text/html": [
       "<div>\n",
       "<style scoped>\n",
       "    .dataframe tbody tr th:only-of-type {\n",
       "        vertical-align: middle;\n",
       "    }\n",
       "\n",
       "    .dataframe tbody tr th {\n",
       "        vertical-align: top;\n",
       "    }\n",
       "\n",
       "    .dataframe thead th {\n",
       "        text-align: right;\n",
       "    }\n",
       "</style>\n",
       "<table border=\"1\" class=\"dataframe\">\n",
       "  <thead>\n",
       "    <tr style=\"text-align: right;\">\n",
       "      <th></th>\n",
       "      <th>School ID</th>\n",
       "      <th>School Name</th>\n",
       "      <th>Borough</th>\n",
       "      <th>Building Code</th>\n",
       "      <th>Street Address</th>\n",
       "      <th>City</th>\n",
       "      <th>State</th>\n",
       "      <th>Zip Code</th>\n",
       "      <th>Latitude</th>\n",
       "      <th>Longitude</th>\n",
       "      <th>...</th>\n",
       "      <th>End Time</th>\n",
       "      <th>Student Enrollment</th>\n",
       "      <th>Percent White</th>\n",
       "      <th>Percent Black</th>\n",
       "      <th>Percent Hispanic</th>\n",
       "      <th>Percent Asian</th>\n",
       "      <th>Average Score (SAT Math)</th>\n",
       "      <th>Average Score (SAT Reading)</th>\n",
       "      <th>Average Score (SAT Writing)</th>\n",
       "      <th>Percent Tested</th>\n",
       "    </tr>\n",
       "  </thead>\n",
       "  <tbody>\n",
       "    <tr>\n",
       "      <th>0</th>\n",
       "      <td>02M260</td>\n",
       "      <td>Clinton School Writers and Artists</td>\n",
       "      <td>Manhattan</td>\n",
       "      <td>M933</td>\n",
       "      <td>425 West 33rd Street</td>\n",
       "      <td>Manhattan</td>\n",
       "      <td>NY</td>\n",
       "      <td>10001</td>\n",
       "      <td>40.75321</td>\n",
       "      <td>-73.99786</td>\n",
       "      <td>...</td>\n",
       "      <td>NaN</td>\n",
       "      <td>NaN</td>\n",
       "      <td>NaN</td>\n",
       "      <td>NaN</td>\n",
       "      <td>NaN</td>\n",
       "      <td>NaN</td>\n",
       "      <td>NaN</td>\n",
       "      <td>NaN</td>\n",
       "      <td>NaN</td>\n",
       "      <td>NaN</td>\n",
       "    </tr>\n",
       "    <tr>\n",
       "      <th>1</th>\n",
       "      <td>06M211</td>\n",
       "      <td>Inwood Early College for Health and Informatio...</td>\n",
       "      <td>Manhattan</td>\n",
       "      <td>M052</td>\n",
       "      <td>650 Academy Street</td>\n",
       "      <td>Manhattan</td>\n",
       "      <td>NY</td>\n",
       "      <td>10002</td>\n",
       "      <td>40.86605</td>\n",
       "      <td>-73.92486</td>\n",
       "      <td>...</td>\n",
       "      <td>3:00 PM</td>\n",
       "      <td>87.0</td>\n",
       "      <td>3.4%</td>\n",
       "      <td>21.8%</td>\n",
       "      <td>67.8%</td>\n",
       "      <td>4.6%</td>\n",
       "      <td>NaN</td>\n",
       "      <td>NaN</td>\n",
       "      <td>NaN</td>\n",
       "      <td>NaN</td>\n",
       "    </tr>\n",
       "    <tr>\n",
       "      <th>2</th>\n",
       "      <td>01M539</td>\n",
       "      <td>New Explorations into Science, Technology and ...</td>\n",
       "      <td>Manhattan</td>\n",
       "      <td>M022</td>\n",
       "      <td>111 Columbia Street</td>\n",
       "      <td>Manhattan</td>\n",
       "      <td>NY</td>\n",
       "      <td>10002</td>\n",
       "      <td>40.71873</td>\n",
       "      <td>-73.97943</td>\n",
       "      <td>...</td>\n",
       "      <td>4:00 PM</td>\n",
       "      <td>1735.0</td>\n",
       "      <td>28.6%</td>\n",
       "      <td>13.3%</td>\n",
       "      <td>18.0%</td>\n",
       "      <td>38.5%</td>\n",
       "      <td>657.0</td>\n",
       "      <td>601.0</td>\n",
       "      <td>601.0</td>\n",
       "      <td>91.0%</td>\n",
       "    </tr>\n",
       "    <tr>\n",
       "      <th>3</th>\n",
       "      <td>02M294</td>\n",
       "      <td>Essex Street Academy</td>\n",
       "      <td>Manhattan</td>\n",
       "      <td>M445</td>\n",
       "      <td>350 Grand Street</td>\n",
       "      <td>Manhattan</td>\n",
       "      <td>NY</td>\n",
       "      <td>10002</td>\n",
       "      <td>40.71687</td>\n",
       "      <td>-73.98953</td>\n",
       "      <td>...</td>\n",
       "      <td>2:45 PM</td>\n",
       "      <td>358.0</td>\n",
       "      <td>11.7%</td>\n",
       "      <td>38.5%</td>\n",
       "      <td>41.3%</td>\n",
       "      <td>5.9%</td>\n",
       "      <td>395.0</td>\n",
       "      <td>411.0</td>\n",
       "      <td>387.0</td>\n",
       "      <td>78.9%</td>\n",
       "    </tr>\n",
       "    <tr>\n",
       "      <th>4</th>\n",
       "      <td>02M308</td>\n",
       "      <td>Lower Manhattan Arts Academy</td>\n",
       "      <td>Manhattan</td>\n",
       "      <td>M445</td>\n",
       "      <td>350 Grand Street</td>\n",
       "      <td>Manhattan</td>\n",
       "      <td>NY</td>\n",
       "      <td>10002</td>\n",
       "      <td>40.71687</td>\n",
       "      <td>-73.98953</td>\n",
       "      <td>...</td>\n",
       "      <td>3:00 PM</td>\n",
       "      <td>383.0</td>\n",
       "      <td>3.1%</td>\n",
       "      <td>28.2%</td>\n",
       "      <td>56.9%</td>\n",
       "      <td>8.6%</td>\n",
       "      <td>418.0</td>\n",
       "      <td>428.0</td>\n",
       "      <td>415.0</td>\n",
       "      <td>65.1%</td>\n",
       "    </tr>\n",
       "  </tbody>\n",
       "</table>\n",
       "<p>5 rows × 22 columns</p>\n",
       "</div>"
      ],
      "text/plain": [
       "  School ID                                        School Name    Borough  \\\n",
       "0    02M260                 Clinton School Writers and Artists  Manhattan   \n",
       "1    06M211  Inwood Early College for Health and Informatio...  Manhattan   \n",
       "2    01M539  New Explorations into Science, Technology and ...  Manhattan   \n",
       "3    02M294                               Essex Street Academy  Manhattan   \n",
       "4    02M308                       Lower Manhattan Arts Academy  Manhattan   \n",
       "\n",
       "  Building Code        Street Address       City State  Zip Code  Latitude  \\\n",
       "0          M933  425 West 33rd Street  Manhattan    NY     10001  40.75321   \n",
       "1          M052    650 Academy Street  Manhattan    NY     10002  40.86605   \n",
       "2          M022   111 Columbia Street  Manhattan    NY     10002  40.71873   \n",
       "3          M445      350 Grand Street  Manhattan    NY     10002  40.71687   \n",
       "4          M445      350 Grand Street  Manhattan    NY     10002  40.71687   \n",
       "\n",
       "   Longitude  ... End Time Student Enrollment Percent White  Percent Black  \\\n",
       "0  -73.99786  ...      NaN                NaN           NaN            NaN   \n",
       "1  -73.92486  ...  3:00 PM               87.0          3.4%          21.8%   \n",
       "2  -73.97943  ...  4:00 PM             1735.0         28.6%          13.3%   \n",
       "3  -73.98953  ...  2:45 PM              358.0         11.7%          38.5%   \n",
       "4  -73.98953  ...  3:00 PM              383.0          3.1%          28.2%   \n",
       "\n",
       "  Percent Hispanic Percent Asian Average Score (SAT Math)  \\\n",
       "0              NaN           NaN                      NaN   \n",
       "1            67.8%          4.6%                      NaN   \n",
       "2            18.0%         38.5%                    657.0   \n",
       "3            41.3%          5.9%                    395.0   \n",
       "4            56.9%          8.6%                    418.0   \n",
       "\n",
       "  Average Score (SAT Reading)  Average Score (SAT Writing)  Percent Tested  \n",
       "0                         NaN                          NaN             NaN  \n",
       "1                         NaN                          NaN             NaN  \n",
       "2                       601.0                        601.0           91.0%  \n",
       "3                       411.0                        387.0           78.9%  \n",
       "4                       428.0                        415.0           65.1%  \n",
       "\n",
       "[5 rows x 22 columns]"
      ]
     },
     "execution_count": 1,
     "metadata": {},
     "output_type": "execute_result"
    }
   ],
   "source": [
    "import pandas as pd \n",
    "import numpy as np\n",
    "import matplotlib.pyplot as plt\n",
    "import seaborn as sns\n",
    "from scipy import stats\n",
    "%matplotlib inline\n",
    "\n",
    "data = pd.read_csv(\"scores.csv\")\n",
    "data.head()"
   ]
  },
  {
   "cell_type": "code",
   "execution_count": 2,
   "metadata": {
    "ExecuteTime": {
     "end_time": "2021-06-23T21:46:01.222625Z",
     "start_time": "2021-06-23T21:46:01.215571Z"
    }
   },
   "outputs": [
    {
     "data": {
      "text/plain": [
       "Brooklyn         121\n",
       "Bronx            118\n",
       "Manhattan        106\n",
       "Queens            80\n",
       "Staten Island     10\n",
       "Name: Borough, dtype: int64"
      ]
     },
     "execution_count": 2,
     "metadata": {},
     "output_type": "execute_result"
    }
   ],
   "source": [
    "data['Borough'].value_counts()"
   ]
  },
  {
   "cell_type": "markdown",
   "metadata": {},
   "source": [
    "### Creating New Columns\n",
    "\n",
    "There is no total score column, so we'll have to create it. In addition, we'll have to find the mean score of the each district across all schools."
   ]
  },
  {
   "cell_type": "code",
   "execution_count": 3,
   "metadata": {
    "ExecuteTime": {
     "end_time": "2021-06-23T21:46:01.524553Z",
     "start_time": "2021-06-23T21:46:01.226250Z"
    }
   },
   "outputs": [
    {
     "name": "stdout",
     "output_type": "stream",
     "text": [
      "Brooklyn_std : 154.8684270520867\n",
      "Bronx_std : 150.39390071890665\n",
      "Manhattan_std : 230.29413953637814\n",
      "Queens_std : 195.25289850192115\n",
      "Staten Island_std : 222.30359621222706\n"
     ]
    },
    {
     "data": {
      "image/png": "[encoded data removed]",
      "text/plain": [
       "<Figure size 720x360 with 1 Axes>"
      ]
     },
     "metadata": {},
     "output_type": "display_data"
    }
   ],
   "source": [
    "data['total_score'] = data['Average Score (SAT Reading)'] +  \\\n",
    "                      data['Average Score (SAT Math)']    +  \\\n",
    "                      data['Average Score (SAT Writing)']\n",
    "data = data[['Borough', 'total_score']].dropna()        \n",
    "x = ['Brooklyn', 'Bronx', 'Manhattan', 'Queens', 'Staten Island']\n",
    "district_dict = {}\n",
    "\n",
    "#Assigns each test score series to a dictionary key\n",
    "for district in x:\n",
    "    district_dict[district] = data[data['Borough'] == district]['total_score']\n",
    "\n",
    "\n",
    "y = []\n",
    "yerror = []\n",
    "#Assigns the mean score and 95% confidence limit to each district\n",
    "for district in x:\n",
    "    y.append(district_dict[district].mean())\n",
    "    yerror.append(1.96*district_dict[district].std()/np.sqrt(district_dict[district].shape[0]))    \n",
    "    print(district + '_std : {}'.format(district_dict[district].std()))\n",
    "    \n",
    "sns.set(font_scale=1.8)\n",
    "fig = plt.figure(figsize=(10,5))\n",
    "ax = sns.barplot(x, y, yerr=yerror)\n",
    "ax.set_ylabel('Average Total SAT Score')\n",
    "plt.show()"
   ]
  },
  {
   "cell_type": "markdown",
   "metadata": {},
   "source": [
    "From our data exploration, we can see that the average SAT scores are quite different for each district. We are interested in knowing if this is caused by random variation in data, or if there is an underlying cause. Since we have five different groups, we cannot use the t-test. Also note that the standard deviation of each group are also very different, so we've violated one of our assumpions. However, we are going to use the 1-way ANOVA test anyway just to understand the concepts.\n",
    "\n",
    "### The Null and Alternative Hypothesis\n",
    "\n",
    "There are no significant differences between the groups' mean SAT scores.\n",
    "\n",
    "$ H_0 : \\mu_1 = \\mu_2 = \\mu_3 = \\mu_4 = \\mu_5 $\n",
    "\n",
    "There is a significant difference between the groups' mean SAT scores.\n",
    "\n",
    "$ H_a : \\mu_i \\ne \\mu_j $\n",
    "\n",
    "Where  $\\mu_i$ and $\\mu_j$ can be the mean of any group. If there is at least one group with a significant difference with another group, the null hypothesis will be rejected.\n",
    "\n",
    "### 1-way ANOVA\n",
    "\n",
    "Similar to the t-test, we can calculate a score for the ANOVA. Then we can look up the score in the F-distribution and obtain a p-value.\n",
    "\n",
    "The F-statistic is defined as follows:\n",
    "\n",
    "$$ F = \\frac{MS_{b}} {MS_w} $$\n",
    "\n",
    "$$ MS_{b} = \\frac{SS_{b}} {K-1}$$\n",
    "\n",
    "$$ MS_{w} = \\frac{SS_{w}} {N-K}$$\n",
    "\n",
    "$$ SS_{b} = {n_k\\sum(\\bar{x_{k}}-\\bar{x_{G}})^2} $$\n",
    "\n",
    "$$ SS_{w} = \\sum(x_{i}-\\bar{x_{k}})^2 $$\n",
    "\n",
    "Where $MS_{b}$ is the estimated variance between groups and $MS_{w}$ is the estimated variance within groups, $\\bar{x_{k}}$ is the mean within each group, $n_k$ is the sample size for each group, ${x_i}$ is the individual data point, and $\\bar{x_{G}}$ is the total mean. \n",
    "\n",
    "This is quite a lot of math, fortunately scipy has a function that plugs in all the values for us. The documentation for calculating 1-way ANOVA using scipy is [here](https://docs.scipy.org/doc/scipy/reference/generated/scipy.stats.f_oneway.html). "
   ]
  },
  {
   "cell_type": "code",
   "execution_count": 4,
   "metadata": {
    "ExecuteTime": {
     "end_time": "2021-06-23T21:46:01.536718Z",
     "start_time": "2021-06-23T21:46:01.527814Z"
    }
   },
   "outputs": [
    {
     "data": {
      "text/plain": [
       "F_onewayResult(statistic=12.733085029201668, pvalue=1.0161974965566023e-09)"
      ]
     },
     "execution_count": 4,
     "metadata": {},
     "output_type": "execute_result"
    }
   ],
   "source": [
    "stats.f_oneway(\n",
    "             district_dict['Brooklyn'], district_dict['Bronx'], \\\n",
    "             district_dict['Manhattan'], district_dict['Queens'], \\\n",
    "             district_dict['Staten Island']\n",
    ")"
   ]
  },
  {
   "cell_type": "markdown",
   "metadata": {},
   "source": [
    "The resulting pvalue was less than 0.05. We can reject the null hypothesis and conclude that there is a significant difference between the SAT scores for each district. Even though we've obtained a very low p-value, we cannot make any assumptions about the magnitude of the effect. Also scipy does not calculate $SS_b$ and $SS_w$, so it is probably better to write our own code."
   ]
  },
  {
   "cell_type": "code",
   "execution_count": 5,
   "metadata": {
    "ExecuteTime": {
     "end_time": "2021-06-23T21:46:01.554292Z",
     "start_time": "2021-06-23T21:46:01.543272Z"
    }
   },
   "outputs": [
    {
     "name": "stdout",
     "output_type": "stream",
     "text": [
      "F_statistic: 12.733085029201687\n"
     ]
    }
   ],
   "source": [
    "districts = ['Brooklyn', 'Bronx', 'Manhattan', 'Queens', 'Staten Island']\n",
    "\n",
    "ss_b = 0\n",
    "for d in districts:\n",
    "    ss_b += district_dict[d].shape[0] * \\\n",
    "            np.sum((district_dict[d].mean() - data['total_score'].mean())**2)\n",
    "\n",
    "ss_w = 0\n",
    "for d in districts:\n",
    "    ss_w += np.sum((district_dict[d] - district_dict[d].mean())**2)\n",
    "\n",
    "msb = ss_b/4\n",
    "msw = ss_w/(len(data)-5)\n",
    "f=msb/msw\n",
    "print('F_statistic: {}'.format(f))"
   ]
  },
  {
   "cell_type": "markdown",
   "metadata": {},
   "source": [
    "### The Effect Size\n",
    "\n",
    "We can calculate the magnitude of the effect to determine how large the difference is. One of the measures we can use is Eta-squared.\n",
    "\n",
    "\n",
    "$$ \\eta^2 = \\frac{SS_{b}} {SS_{total}}$$\n",
    "\n",
    "$$ SS_{b} = {n_k\\sum(\\bar{x_{k}}-\\bar{x_{G}})^2} $$\n",
    "\n",
    "$$ SS_{total} = \\sum(x_{i}-\\bar{x_{G}})^2 $$"
   ]
  },
  {
   "cell_type": "code",
   "execution_count": 6,
   "metadata": {
    "ExecuteTime": {
     "end_time": "2021-06-23T21:46:01.570422Z",
     "start_time": "2021-06-23T21:46:01.556511Z"
    }
   },
   "outputs": [
    {
     "name": "stdout",
     "output_type": "stream",
     "text": [
      "eta_squared: 0.12099887621529214\n"
     ]
    }
   ],
   "source": [
    "ss_t = np.sum((data['total_score']-data['total_score'].mean())**2)        \n",
    "eta_squared = ss_b/ss_t\n",
    "print('eta_squared: {}'.format(eta_squared))"
   ]
  },
  {
   "cell_type": "markdown",
   "metadata": {},
   "source": [
    "The general rules of thumb given by Cohen and Miles & Shevlin (2001) for analyzing eta-squared, $\\eta^2$:\n",
    "\n",
    "+ Small effect: $ 0.01 $\n",
    "+ Medium ffect: $ 0.06 $\n",
    "+ Large effect: $ 0.14 $\n",
    "\n",
    "From our calculations, the effect size for this ANOVA test would be \"Medium\". For a full write up on effect sizes click [here](http://imaging.mrc-cbu.cam.ac.uk/statswiki/FAQ/effectSize)."
   ]
  }
 ],
 "metadata": {
  "kernelspec": {
   "display_name": "Python 3",
   "language": "python",
   "name": "python3"
  },
  "language_info": {
   "codemirror_mode": {
    "name": "ipython",
    "version": 3
   },
   "file_extension": ".py",
   "mimetype": "text/x-python",
   "name": "python",
   "nbconvert_exporter": "python",
   "pygments_lexer": "ipython3",
   "version": "3.7.9"
  },
  "toc": {
   "base_numbering": 1,
   "nav_menu": {},
   "number_sections": true,
   "sideBar": true,
   "skip_h1_title": false,
   "title_cell": "Table of Contents",
   "title_sidebar": "Contents",
   "toc_cell": true,
   "toc_position": {},
   "toc_section_display": true,
   "toc_window_display": true
  }
 },
 "nbformat": 4,
 "nbformat_minor": 2
}
