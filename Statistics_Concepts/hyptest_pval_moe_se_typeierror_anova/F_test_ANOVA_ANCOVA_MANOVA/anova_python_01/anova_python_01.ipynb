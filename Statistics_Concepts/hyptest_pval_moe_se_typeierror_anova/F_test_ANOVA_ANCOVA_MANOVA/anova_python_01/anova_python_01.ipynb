{
 "cells": [
  {
   "cell_type": "markdown",
   "metadata": {
    "toc": true
   },
   "source": [
    "<h1>Table of Contents<span class=\"tocSkip\"></span></h1>\n",
    "<div class=\"toc\"><ul class=\"toc-item\"><li><span><a href=\"#Import-modules\" data-toc-modified-id=\"Import-modules-1\"><span class=\"toc-item-num\">1&nbsp;&nbsp;</span>Import modules</a></span></li><li><span><a href=\"#One-way-ANOVA-using-scipy\" data-toc-modified-id=\"One-way-ANOVA-using-scipy-2\"><span class=\"toc-item-num\">2&nbsp;&nbsp;</span>One-way ANOVA using scipy</a></span></li><li><span><a href=\"#Describe-using-module-researchpy\" data-toc-modified-id=\"Describe-using-module-researchpy-3\"><span class=\"toc-item-num\">3&nbsp;&nbsp;</span>Describe using module researchpy</a></span><ul class=\"toc-item\"><li><span><a href=\"#Interpretation\" data-toc-modified-id=\"Interpretation-3.1\"><span class=\"toc-item-num\">3.1&nbsp;&nbsp;</span>Interpretation</a></span></li></ul></li><li><span><a href=\"#One-way-ANOVA-using-statsmodels\" data-toc-modified-id=\"One-way-ANOVA-using-statsmodels-4\"><span class=\"toc-item-num\">4&nbsp;&nbsp;</span>One-way ANOVA using statsmodels</a></span></li><li><span><a href=\"#Find-effect-size\" data-toc-modified-id=\"Find-effect-size-5\"><span class=\"toc-item-num\">5&nbsp;&nbsp;</span>Find effect size</a></span></li><li><span><a href=\"#Interpretation\" data-toc-modified-id=\"Interpretation-6\"><span class=\"toc-item-num\">6&nbsp;&nbsp;</span>Interpretation</a></span></li><li><span><a href=\"#Assumptions-Check\" data-toc-modified-id=\"Assumptions-Check-7\"><span class=\"toc-item-num\">7&nbsp;&nbsp;</span>Assumptions Check</a></span><ul class=\"toc-item\"><li><span><a href=\"#INDEPENDENCE\" data-toc-modified-id=\"INDEPENDENCE-7.1\"><span class=\"toc-item-num\">7.1&nbsp;&nbsp;</span>INDEPENDENCE</a></span></li><li><span><a href=\"#NORMALITY\" data-toc-modified-id=\"NORMALITY-7.2\"><span class=\"toc-item-num\">7.2&nbsp;&nbsp;</span>NORMALITY</a></span></li></ul></li><li><span><a href=\"#HOMOGENEITY-OF-VARIANCE\" data-toc-modified-id=\"HOMOGENEITY-OF-VARIANCE-8\"><span class=\"toc-item-num\">8&nbsp;&nbsp;</span>HOMOGENEITY OF VARIANCE</a></span></li><li><span><a href=\"#POST-HOC-TESTING\" data-toc-modified-id=\"POST-HOC-TESTING-9\"><span class=\"toc-item-num\">9&nbsp;&nbsp;</span>POST-HOC TESTING</a></span><ul class=\"toc-item\"><li><span><a href=\"#Tukey-Honestly-Significant-Difference-(HSD)\" data-toc-modified-id=\"Tukey-Honestly-Significant-Difference-(HSD)-9.1\"><span class=\"toc-item-num\">9.1&nbsp;&nbsp;</span>Tukey Honestly Significant Difference (HSD)</a></span></li><li><span><a href=\"#Bonferroni\" data-toc-modified-id=\"Bonferroni-9.2\"><span class=\"toc-item-num\">9.2&nbsp;&nbsp;</span>Bonferroni</a></span></li></ul></li><li><span><a href=\"#Šidák-(a.k.a.-Dunn-Šidák)\" data-toc-modified-id=\"Šidák-(a.k.a.-Dunn-Šidák)-10\"><span class=\"toc-item-num\">10&nbsp;&nbsp;</span>Šidák (a.k.a. Dunn-Šidák)</a></span></li><li><span><a href=\"#TUKEY-HONESTLY-SIGNIFICANT-DIFFERENCE-(HSD)\" data-toc-modified-id=\"TUKEY-HONESTLY-SIGNIFICANT-DIFFERENCE-(HSD)-11\"><span class=\"toc-item-num\">11&nbsp;&nbsp;</span>TUKEY HONESTLY SIGNIFICANT DIFFERENCE (HSD)</a></span></li><li><span><a href=\"#BONFERRONI-CORRECTION\" data-toc-modified-id=\"BONFERRONI-CORRECTION-12\"><span class=\"toc-item-num\">12&nbsp;&nbsp;</span>BONFERRONI CORRECTION</a></span></li><li><span><a href=\"#ŠIDÁK-CORRECTION-(A.K.A.-DUNN-ŠIDÁK-CORRECTION)\" data-toc-modified-id=\"ŠIDÁK-CORRECTION-(A.K.A.-DUNN-ŠIDÁK-CORRECTION)-13\"><span class=\"toc-item-num\">13&nbsp;&nbsp;</span>ŠIDÁK CORRECTION (A.K.A. DUNN-ŠIDÁK CORRECTION)</a></span></li><li><span><a href=\"#REFERENCES\" data-toc-modified-id=\"REFERENCES-14\"><span class=\"toc-item-num\">14&nbsp;&nbsp;</span>REFERENCES</a></span></li></ul></div>"
   ]
  },
  {
   "cell_type": "markdown",
   "metadata": {},
   "source": [
    "# Import modules\n",
    "\n",
    "- https://www.pythonfordatascience.org/anova-python/"
   ]
  },
  {
   "cell_type": "code",
   "execution_count": 1,
   "metadata": {
    "ExecuteTime": {
     "end_time": "2021-05-15T01:12:17.840595Z",
     "start_time": "2021-05-15T01:12:15.235232Z"
    }
   },
   "outputs": [],
   "source": [
    "import numpy as np\n",
    "import pandas as pd\n",
    "import os,sys,time\n",
    "\n",
    "# visualization\n",
    "import matplotlib.pyplot as plt\n",
    "import seaborn as sns\n",
    "sns.set()\n",
    "\n",
    "from scipy import stats\n",
    "\n",
    "import statsmodels.api as sm\n",
    "import statsmodels.formula.api as smf\n",
    "import statsmodels.graphics.api as smg\n",
    "import statsmodels.robust as smrb # smrb.mad() etc\n",
    "import patsy # y,X1 = patsy.dmatrices(formula, df, return_type='dataframe')"
   ]
  },
  {
   "cell_type": "code",
   "execution_count": 5,
   "metadata": {
    "ExecuteTime": {
     "end_time": "2021-05-15T01:14:40.233373Z",
     "start_time": "2021-05-15T01:14:40.214681Z"
    }
   },
   "outputs": [
    {
     "name": "stdout",
     "output_type": "stream",
     "text": [
      "(15, 2)\n"
     ]
    },
    {
     "data": {
      "text/html": [
       "<div>\n",
       "<style scoped>\n",
       "    .dataframe tbody tr th:only-of-type {\n",
       "        vertical-align: middle;\n",
       "    }\n",
       "\n",
       "    .dataframe tbody tr th {\n",
       "        vertical-align: top;\n",
       "    }\n",
       "\n",
       "    .dataframe thead th {\n",
       "        text-align: right;\n",
       "    }\n",
       "</style>\n",
       "<table border=\"1\" class=\"dataframe\">\n",
       "  <thead>\n",
       "    <tr style=\"text-align: right;\">\n",
       "      <th></th>\n",
       "      <th>dose</th>\n",
       "      <th>libido</th>\n",
       "    </tr>\n",
       "  </thead>\n",
       "  <tbody>\n",
       "    <tr>\n",
       "      <th>0</th>\n",
       "      <td>placebo</td>\n",
       "      <td>3</td>\n",
       "    </tr>\n",
       "    <tr>\n",
       "      <th>1</th>\n",
       "      <td>placebo</td>\n",
       "      <td>2</td>\n",
       "    </tr>\n",
       "    <tr>\n",
       "      <th>13</th>\n",
       "      <td>high</td>\n",
       "      <td>3</td>\n",
       "    </tr>\n",
       "    <tr>\n",
       "      <th>14</th>\n",
       "      <td>high</td>\n",
       "      <td>6</td>\n",
       "    </tr>\n",
       "  </tbody>\n",
       "</table>\n",
       "</div>"
      ],
      "text/plain": [
       "       dose  libido\n",
       "0   placebo       3\n",
       "1   placebo       2\n",
       "13     high       3\n",
       "14     high       6"
      ]
     },
     "execution_count": 5,
     "metadata": {},
     "output_type": "execute_result"
    }
   ],
   "source": [
    "ifile = \"https://raw.githubusercontent.com/researchpy/Data-sets/master/difficile.csv\"\n",
    "ifile = \"data/difficile.csv\"\n",
    "df = pd.read_csv(ifile)\n",
    "df.drop('person', axis= 1, inplace= True)\n",
    "\n",
    "# Recoding value from numeric to string\n",
    "df['dose'].replace({1: 'placebo', 2: 'low', 3: 'high'}, inplace= True)\n",
    "print(df.shape)\n",
    "\n",
    "df.head(2).append(df.tail(2))"
   ]
  },
  {
   "cell_type": "markdown",
   "metadata": {},
   "source": [
    "# One-way ANOVA using scipy"
   ]
  },
  {
   "cell_type": "code",
   "execution_count": 6,
   "metadata": {
    "ExecuteTime": {
     "end_time": "2021-05-15T01:15:33.217793Z",
     "start_time": "2021-05-15T01:15:33.206149Z"
    }
   },
   "outputs": [
    {
     "data": {
      "text/plain": [
       "F_onewayResult(statistic=5.11864406779661, pvalue=0.024694289538222603)"
      ]
     },
     "execution_count": 6,
     "metadata": {},
     "output_type": "execute_result"
    }
   ],
   "source": [
    "import scipy.stats as stats\n",
    "\n",
    "stats.f_oneway(df['libido'][df['dose'] == 'high'],\n",
    "               df['libido'][df['dose'] == 'low'],\n",
    "               df['libido'][df['dose'] == 'placebo'])"
   ]
  },
  {
   "cell_type": "code",
   "execution_count": 7,
   "metadata": {
    "ExecuteTime": {
     "end_time": "2021-05-15T01:18:48.473780Z",
     "start_time": "2021-05-15T01:18:48.357744Z"
    }
   },
   "outputs": [
    {
     "data": {
      "text/html": [
       "<div>\n",
       "<style scoped>\n",
       "    .dataframe tbody tr th:only-of-type {\n",
       "        vertical-align: middle;\n",
       "    }\n",
       "\n",
       "    .dataframe tbody tr th {\n",
       "        vertical-align: top;\n",
       "    }\n",
       "\n",
       "    .dataframe thead tr th {\n",
       "        text-align: left;\n",
       "    }\n",
       "\n",
       "    .dataframe thead tr:last-of-type th {\n",
       "        text-align: right;\n",
       "    }\n",
       "</style>\n",
       "<table border=\"1\" class=\"dataframe\">\n",
       "  <thead>\n",
       "    <tr>\n",
       "      <th></th>\n",
       "      <th colspan=\"8\" halign=\"left\">libido</th>\n",
       "    </tr>\n",
       "    <tr>\n",
       "      <th></th>\n",
       "      <th>count</th>\n",
       "      <th>mean</th>\n",
       "      <th>std</th>\n",
       "      <th>min</th>\n",
       "      <th>25%</th>\n",
       "      <th>50%</th>\n",
       "      <th>75%</th>\n",
       "      <th>max</th>\n",
       "    </tr>\n",
       "    <tr>\n",
       "      <th>dose</th>\n",
       "      <th></th>\n",
       "      <th></th>\n",
       "      <th></th>\n",
       "      <th></th>\n",
       "      <th></th>\n",
       "      <th></th>\n",
       "      <th></th>\n",
       "      <th></th>\n",
       "    </tr>\n",
       "  </thead>\n",
       "  <tbody>\n",
       "    <tr>\n",
       "      <th>high</th>\n",
       "      <td>5.0</td>\n",
       "      <td>5.0</td>\n",
       "      <td>1.581139</td>\n",
       "      <td>3.0</td>\n",
       "      <td>4.0</td>\n",
       "      <td>5.0</td>\n",
       "      <td>6.0</td>\n",
       "      <td>7.0</td>\n",
       "    </tr>\n",
       "    <tr>\n",
       "      <th>low</th>\n",
       "      <td>5.0</td>\n",
       "      <td>3.2</td>\n",
       "      <td>1.303840</td>\n",
       "      <td>2.0</td>\n",
       "      <td>2.0</td>\n",
       "      <td>3.0</td>\n",
       "      <td>4.0</td>\n",
       "      <td>5.0</td>\n",
       "    </tr>\n",
       "    <tr>\n",
       "      <th>placebo</th>\n",
       "      <td>5.0</td>\n",
       "      <td>2.2</td>\n",
       "      <td>1.303840</td>\n",
       "      <td>1.0</td>\n",
       "      <td>1.0</td>\n",
       "      <td>2.0</td>\n",
       "      <td>3.0</td>\n",
       "      <td>4.0</td>\n",
       "    </tr>\n",
       "  </tbody>\n",
       "</table>\n",
       "</div>"
      ],
      "text/plain": [
       "        libido                                        \n",
       "         count mean       std  min  25%  50%  75%  max\n",
       "dose                                                  \n",
       "high       5.0  5.0  1.581139  3.0  4.0  5.0  6.0  7.0\n",
       "low        5.0  3.2  1.303840  2.0  2.0  3.0  4.0  5.0\n",
       "placebo    5.0  2.2  1.303840  1.0  1.0  2.0  3.0  4.0"
      ]
     },
     "execution_count": 7,
     "metadata": {},
     "output_type": "execute_result"
    }
   ],
   "source": [
    "df.groupby('dose').describe()"
   ]
  },
  {
   "cell_type": "markdown",
   "metadata": {},
   "source": [
    "# Describe using module researchpy"
   ]
  },
  {
   "cell_type": "code",
   "execution_count": 14,
   "metadata": {
    "ExecuteTime": {
     "end_time": "2021-05-15T01:29:41.007055Z",
     "start_time": "2021-05-15T01:29:40.989545Z"
    }
   },
   "outputs": [
    {
     "name": "stdout",
     "output_type": "stream",
     "text": [
      "\n",
      "\n"
     ]
    },
    {
     "data": {
      "text/html": [
       "<div>\n",
       "<style scoped>\n",
       "    .dataframe tbody tr th:only-of-type {\n",
       "        vertical-align: middle;\n",
       "    }\n",
       "\n",
       "    .dataframe tbody tr th {\n",
       "        vertical-align: top;\n",
       "    }\n",
       "\n",
       "    .dataframe thead th {\n",
       "        text-align: right;\n",
       "    }\n",
       "</style>\n",
       "<table border=\"1\" class=\"dataframe\">\n",
       "  <thead>\n",
       "    <tr style=\"text-align: right;\">\n",
       "      <th></th>\n",
       "      <th>Variable</th>\n",
       "      <th>N</th>\n",
       "      <th>Mean</th>\n",
       "      <th>SD</th>\n",
       "      <th>SE</th>\n",
       "      <th>95% Conf.</th>\n",
       "      <th>Interval</th>\n",
       "    </tr>\n",
       "  </thead>\n",
       "  <tbody>\n",
       "    <tr>\n",
       "      <th>0</th>\n",
       "      <td>libido</td>\n",
       "      <td>15.0</td>\n",
       "      <td>3.4667</td>\n",
       "      <td>1.7674</td>\n",
       "      <td>0.4563</td>\n",
       "      <td>2.4879</td>\n",
       "      <td>4.4454</td>\n",
       "    </tr>\n",
       "  </tbody>\n",
       "</table>\n",
       "</div>"
      ],
      "text/plain": [
       "  Variable     N    Mean      SD      SE  95% Conf.  Interval\n",
       "0   libido  15.0  3.4667  1.7674  0.4563     2.4879    4.4454"
      ]
     },
     "execution_count": 14,
     "metadata": {},
     "output_type": "execute_result"
    }
   ],
   "source": [
    "import researchpy as rp\n",
    "\n",
    "rp.summary_cont(df['libido'])"
   ]
  },
  {
   "cell_type": "code",
   "execution_count": 15,
   "metadata": {
    "ExecuteTime": {
     "end_time": "2021-05-15T01:29:53.659436Z",
     "start_time": "2021-05-15T01:29:53.609136Z"
    }
   },
   "outputs": [
    {
     "name": "stdout",
     "output_type": "stream",
     "text": [
      "\n",
      "\n"
     ]
    },
    {
     "data": {
      "text/html": [
       "<div>\n",
       "<style scoped>\n",
       "    .dataframe tbody tr th:only-of-type {\n",
       "        vertical-align: middle;\n",
       "    }\n",
       "\n",
       "    .dataframe tbody tr th {\n",
       "        vertical-align: top;\n",
       "    }\n",
       "\n",
       "    .dataframe thead th {\n",
       "        text-align: right;\n",
       "    }\n",
       "</style>\n",
       "<table border=\"1\" class=\"dataframe\">\n",
       "  <thead>\n",
       "    <tr style=\"text-align: right;\">\n",
       "      <th></th>\n",
       "      <th>N</th>\n",
       "      <th>Mean</th>\n",
       "      <th>SD</th>\n",
       "      <th>SE</th>\n",
       "      <th>95% Conf.</th>\n",
       "      <th>Interval</th>\n",
       "    </tr>\n",
       "    <tr>\n",
       "      <th>dose</th>\n",
       "      <th></th>\n",
       "      <th></th>\n",
       "      <th></th>\n",
       "      <th></th>\n",
       "      <th></th>\n",
       "      <th></th>\n",
       "    </tr>\n",
       "  </thead>\n",
       "  <tbody>\n",
       "    <tr>\n",
       "      <th>high</th>\n",
       "      <td>5</td>\n",
       "      <td>5.0</td>\n",
       "      <td>1.5811</td>\n",
       "      <td>0.7071</td>\n",
       "      <td>3.0368</td>\n",
       "      <td>6.9632</td>\n",
       "    </tr>\n",
       "    <tr>\n",
       "      <th>low</th>\n",
       "      <td>5</td>\n",
       "      <td>3.2</td>\n",
       "      <td>1.3038</td>\n",
       "      <td>0.5831</td>\n",
       "      <td>1.5811</td>\n",
       "      <td>4.8189</td>\n",
       "    </tr>\n",
       "    <tr>\n",
       "      <th>placebo</th>\n",
       "      <td>5</td>\n",
       "      <td>2.2</td>\n",
       "      <td>1.3038</td>\n",
       "      <td>0.5831</td>\n",
       "      <td>0.5811</td>\n",
       "      <td>3.8189</td>\n",
       "    </tr>\n",
       "  </tbody>\n",
       "</table>\n",
       "</div>"
      ],
      "text/plain": [
       "         N  Mean      SD      SE  95% Conf.  Interval\n",
       "dose                                                 \n",
       "high     5   5.0  1.5811  0.7071     3.0368    6.9632\n",
       "low      5   3.2  1.3038  0.5831     1.5811    4.8189\n",
       "placebo  5   2.2  1.3038  0.5831     0.5811    3.8189"
      ]
     },
     "execution_count": 15,
     "metadata": {},
     "output_type": "execute_result"
    }
   ],
   "source": [
    "rp.summary_cont(df['libido'].groupby(df['dose']))"
   ]
  },
  {
   "cell_type": "markdown",
   "metadata": {},
   "source": [
    "## Interpretation\n",
    "\n",
    "A new medication was developed to increase the libido of those who take the medication. The purpose of this study was to test for a difference between the dosage levels.\n",
    "\n",
    "There is a statistically significant difference between the groups and their effects the libido, F= 5.12, p-value= 0.0247."
   ]
  },
  {
   "cell_type": "markdown",
   "metadata": {},
   "source": [
    "# One-way ANOVA using statsmodels"
   ]
  },
  {
   "cell_type": "code",
   "execution_count": 9,
   "metadata": {
    "ExecuteTime": {
     "end_time": "2021-05-15T01:21:24.573201Z",
     "start_time": "2021-05-15T01:21:24.536163Z"
    }
   },
   "outputs": [
    {
     "data": {
      "text/html": [
       "<div>\n",
       "<style scoped>\n",
       "    .dataframe tbody tr th:only-of-type {\n",
       "        vertical-align: middle;\n",
       "    }\n",
       "\n",
       "    .dataframe tbody tr th {\n",
       "        vertical-align: top;\n",
       "    }\n",
       "\n",
       "    .dataframe thead th {\n",
       "        text-align: right;\n",
       "    }\n",
       "</style>\n",
       "<table border=\"1\" class=\"dataframe\">\n",
       "  <thead>\n",
       "    <tr style=\"text-align: right;\">\n",
       "      <th></th>\n",
       "      <th>sum_sq</th>\n",
       "      <th>df</th>\n",
       "      <th>F</th>\n",
       "      <th>PR(&gt;F)</th>\n",
       "    </tr>\n",
       "  </thead>\n",
       "  <tbody>\n",
       "    <tr>\n",
       "      <th>C(dose)</th>\n",
       "      <td>20.133333</td>\n",
       "      <td>2.0</td>\n",
       "      <td>5.118644</td>\n",
       "      <td>0.024694</td>\n",
       "    </tr>\n",
       "    <tr>\n",
       "      <th>Residual</th>\n",
       "      <td>23.600000</td>\n",
       "      <td>12.0</td>\n",
       "      <td>NaN</td>\n",
       "      <td>NaN</td>\n",
       "    </tr>\n",
       "  </tbody>\n",
       "</table>\n",
       "</div>"
      ],
      "text/plain": [
       "             sum_sq    df         F    PR(>F)\n",
       "C(dose)   20.133333   2.0  5.118644  0.024694\n",
       "Residual  23.600000  12.0       NaN       NaN"
      ]
     },
     "execution_count": 9,
     "metadata": {},
     "output_type": "execute_result"
    }
   ],
   "source": [
    "import statsmodels.api as sm\n",
    "import statsmodels.formula.api as smf\n",
    "\n",
    "model = smf.ols('libido ~ C(dose)', data=df).fit()\n",
    "aov_table = sm.stats.anova_lm(model, typ=2)\n",
    "aov_table"
   ]
  },
  {
   "cell_type": "markdown",
   "metadata": {},
   "source": [
    "# Find effect size\n",
    "This table provides all the information one needs in order to interprete if the results are significant; however, it does not provide any effect size measures to tell if the statistical significance is meaningful.\n",
    "\n",
    "The function below calculates eta-squared (η^2) and omega-squared (ω^2).\n",
    "\n",
    "A quick note, η^2 is the exact same thing as R^2 except when coming from the ANOVA framework people call it η^2.\n",
    "\n",
    "\n",
    "ω^2 is considered a better measure of effect size since it is unbiased in it's calculation by accounting for the degrees of freedom in the model."
   ]
  },
  {
   "cell_type": "code",
   "execution_count": 10,
   "metadata": {
    "ExecuteTime": {
     "end_time": "2021-05-15T01:24:51.341259Z",
     "start_time": "2021-05-15T01:24:51.319974Z"
    }
   },
   "outputs": [
    {
     "data": {
      "text/html": [
       "<div>\n",
       "<style scoped>\n",
       "    .dataframe tbody tr th:only-of-type {\n",
       "        vertical-align: middle;\n",
       "    }\n",
       "\n",
       "    .dataframe tbody tr th {\n",
       "        vertical-align: top;\n",
       "    }\n",
       "\n",
       "    .dataframe thead th {\n",
       "        text-align: right;\n",
       "    }\n",
       "</style>\n",
       "<table border=\"1\" class=\"dataframe\">\n",
       "  <thead>\n",
       "    <tr style=\"text-align: right;\">\n",
       "      <th></th>\n",
       "      <th>sum_sq</th>\n",
       "      <th>df</th>\n",
       "      <th>mean_sq</th>\n",
       "      <th>F</th>\n",
       "      <th>PR(&gt;F)</th>\n",
       "      <th>eta_sq</th>\n",
       "      <th>omega_sq</th>\n",
       "    </tr>\n",
       "  </thead>\n",
       "  <tbody>\n",
       "    <tr>\n",
       "      <th>C(dose)</th>\n",
       "      <td>20.133333</td>\n",
       "      <td>2.0</td>\n",
       "      <td>10.066667</td>\n",
       "      <td>5.118644</td>\n",
       "      <td>0.024694</td>\n",
       "      <td>0.460366</td>\n",
       "      <td>0.354486</td>\n",
       "    </tr>\n",
       "    <tr>\n",
       "      <th>Residual</th>\n",
       "      <td>23.600000</td>\n",
       "      <td>12.0</td>\n",
       "      <td>1.966667</td>\n",
       "      <td>NaN</td>\n",
       "      <td>NaN</td>\n",
       "      <td>NaN</td>\n",
       "      <td>NaN</td>\n",
       "    </tr>\n",
       "  </tbody>\n",
       "</table>\n",
       "</div>"
      ],
      "text/plain": [
       "             sum_sq    df    mean_sq         F    PR(>F)    eta_sq  omega_sq\n",
       "C(dose)   20.133333   2.0  10.066667  5.118644  0.024694  0.460366  0.354486\n",
       "Residual  23.600000  12.0   1.966667       NaN       NaN       NaN       NaN"
      ]
     },
     "execution_count": 10,
     "metadata": {},
     "output_type": "execute_result"
    }
   ],
   "source": [
    "\"\"\"\n",
    "The function below was created specifically for the one-way ANOVA table results returned for Type II sum of squares\n",
    "\"\"\"\n",
    "\n",
    "def anova_table(aov):\n",
    "    aov['mean_sq'] = aov[:]['sum_sq']/aov[:]['df']\n",
    "\n",
    "    aov['eta_sq'] = aov[:-1]['sum_sq']/sum(aov['sum_sq'])\n",
    "\n",
    "    aov['omega_sq'] = (aov[:-1]['sum_sq']-(aov[:-1]['df']*aov['mean_sq'][-1]))/(sum(aov['sum_sq'])+aov['mean_sq'][-1])\n",
    "\n",
    "    cols = ['sum_sq', 'df', 'mean_sq', 'F', 'PR(>F)', 'eta_sq', 'omega_sq']\n",
    "    aov = aov[cols]\n",
    "    return aov\n",
    "\n",
    "anova_table(aov_table)"
   ]
  },
  {
   "cell_type": "markdown",
   "metadata": {},
   "source": [
    "# Interpretation\n",
    "\n",
    "A new medication was developed to increase libido. The purpose of this study was to test for a difference between the dosage levels. \n",
    "\n",
    "\n",
    "There is a statistically significant difference between the groups and their effects the libido, F= 5.12, p-value= 0.0247, with an overall large effect, \n",
    "ω\n",
    "2\n",
    "= 0.35. \n",
    "\n",
    "In order to tell which groups differed significantly, post-hoc tests need to be conducted. Before one goes through that work, the assumptions should be checked first in case any modifications need to be made to the model."
   ]
  },
  {
   "cell_type": "markdown",
   "metadata": {
    "ExecuteTime": {
     "end_time": "2021-05-15T01:32:13.981249Z",
     "start_time": "2021-05-15T01:32:13.973180Z"
    }
   },
   "source": [
    "# Assumptions Check\n",
    "\n",
    "The assumptions in this section need to be met in order for the test results\n",
    "to be considered valid. \n",
    "A more in-depth look at parametric assumptions is provided [here](https://www.pythonfordatascience.org/parametric-assumptions-python),\n",
    "which includes some potential remedies.\n",
    "\n",
    "## INDEPENDENCE\n",
    "\n",
    "This assumption is tested when the study is designed. What this means is that all groups are mutually exclusive, i.e. an individual can only belong in one group. Also, this means that the data is not repeated measures (not collected through time). In this example, this condition is met.\n",
    "\n",
    "## NORMALITY\n",
    "\n",
    "The assumption of normality is tested on the residuals of the model\n",
    "when coming from an ANOVA or regression framework.\n",
    "One method for testing the assumption of normality is the Shapiro-Wilk test.\n",
    "This can be completed using the [shapiro()](https://docs.scipy.org/doc/scipy/reference/generated/scipy.stats.shapiro.html) method from scipy.stats. \n",
    "Ensure that scipy.stats is imported for the following method to work.\n",
    "Unfortunately the output is not labelled, but it's (W-test statistic, p-value)."
   ]
  },
  {
   "cell_type": "code",
   "execution_count": 17,
   "metadata": {
    "ExecuteTime": {
     "end_time": "2021-05-15T01:32:35.614224Z",
     "start_time": "2021-05-15T01:32:35.604991Z"
    }
   },
   "outputs": [
    {
     "data": {
      "text/plain": [
       "ShapiroResult(statistic=0.916691780090332, pvalue=0.1714704930782318)"
      ]
     },
     "execution_count": 17,
     "metadata": {},
     "output_type": "execute_result"
    }
   ],
   "source": [
    "stats.shapiro(model.resid)"
   ]
  },
  {
   "cell_type": "markdown",
   "metadata": {},
   "source": [
    "The test is non-significant, W= 0.9167, p= 0.1715, which indicates that the residuals are normally distributed.\n",
    "\n",
    "Another way to test the assumption is through a visual check- this is helpful when the sample is large. The reason this is true is that as the sample size increases, the statistical test's ability to reject the null hypothesis increases, i.e. it gains power to detect smaller differences as the sample size n increases. \n",
    "\n",
    "One method of visually checking the distribution is to use a probability plot with or without the correlation value, \n",
    "R^2, to assess the observed values correlation with the theoretical distribution in question - in the current case it would be the Gaussian (a.k.a the normal) distribution. This can be completed by using the [probplot()](https://docs.scipy.org/doc/scipy/reference/generated/scipy.stats.probplot.html) method from `scipy.stats`.\n",
    "If using the R^2 measure, one can refer to the [NIST/SEMATECH e-handbook of statistical methods](https://www.itl.nist.gov/div898/handbook/eda/section3/eda3676.htm) to see if the value is significant."
   ]
  },
  {
   "cell_type": "code",
   "execution_count": 18,
   "metadata": {
    "ExecuteTime": {
     "end_time": "2021-05-15T01:34:54.730892Z",
     "start_time": "2021-05-15T01:34:54.255795Z"
    }
   },
   "outputs": [
    {
     "data": {
      "image/png": "[encoded data removed]",
      "text/plain": [
       "<Figure size 720x720 with 1 Axes>"
      ]
     },
     "metadata": {},
     "output_type": "display_data"
    }
   ],
   "source": [
    "import matplotlib.pyplot as plt\n",
    "\n",
    "fig = plt.figure(figsize= (10, 10))\n",
    "ax = fig.add_subplot(111)\n",
    "\n",
    "normality_plot, stat = stats.probplot(model.resid, plot= plt, rvalue= True)\n",
    "ax.set_title(\"Probability plot of model residual's\", fontsize= 20)\n",
    "ax.set\n",
    "\n",
    "plt.show()"
   ]
  },
  {
   "cell_type": "markdown",
   "metadata": {},
   "source": [
    "This is a case where the statistical testing method indicated the residuals were normally distributed, but the probability plot correlation coefficient (PPCC) indicated non-normality. Given the current example's sample size is small, N= 15, the Shapiro-Wilk test indicated normality, and that the calculated PPCC, `R^2 = 0.9349`, is ever so slightly smaller than the table PPC, `R^2 = 0.9376`, it is reasonable to state this assumption is met. However, looking at the plotted probability plot and the residual structure it would also be reasonable to transform the data for the analysis, or to use a non-parametric statistical test such as `Welch's ANOVA` or the K`ruskal-Wallis ANOVA`."
   ]
  },
  {
   "cell_type": "markdown",
   "metadata": {},
   "source": [
    "# HOMOGENEITY OF VARIANCE\n",
    "\n",
    "The final assumption is that all groups have equal variances. One method for testing this assumption is the Levene's test of homogeneity of variances. This can be completed using the `levene()` method from `scipy.stats`."
   ]
  },
  {
   "cell_type": "code",
   "execution_count": 19,
   "metadata": {
    "ExecuteTime": {
     "end_time": "2021-05-15T01:37:19.984951Z",
     "start_time": "2021-05-15T01:37:19.977117Z"
    }
   },
   "outputs": [
    {
     "data": {
      "text/plain": [
       "LeveneResult(statistic=0.11764705882352934, pvalue=0.8900225182757423)"
      ]
     },
     "execution_count": 19,
     "metadata": {},
     "output_type": "execute_result"
    }
   ],
   "source": [
    "stats.levene(df['libido'][df['dose'] == 'high'],\n",
    "             df['libido'][df['dose'] == 'low'],\n",
    "             df['libido'][df['dose'] == 'placebo'])"
   ]
  },
  {
   "cell_type": "markdown",
   "metadata": {},
   "source": [
    "The Levene's test of homogeneity of variances is not significant which indicates that the groups have non-statistically significant difference in their varability. Again, it may be worthwhile to check this assumption visually as well."
   ]
  },
  {
   "cell_type": "code",
   "execution_count": 20,
   "metadata": {
    "ExecuteTime": {
     "end_time": "2021-05-15T01:38:13.691601Z",
     "start_time": "2021-05-15T01:38:13.537676Z"
    }
   },
   "outputs": [
    {
     "data": {
      "image/png": "[encoded data removed]",
      "text/plain": [
       "<Figure size 720x720 with 1 Axes>"
      ]
     },
     "metadata": {},
     "output_type": "display_data"
    }
   ],
   "source": [
    "fig = plt.figure(figsize= (10, 10))\n",
    "ax = fig.add_subplot(111)\n",
    "\n",
    "ax.set_title(\"Box Plot of Libido by Dosage\", fontsize= 20)\n",
    "ax.set\n",
    "\n",
    "data = [df['libido'][df['dose'] == 'placebo'],\n",
    "        df['libido'][df['dose'] == 'low'],\n",
    "        df['libido'][df['dose'] == 'high']]\n",
    "\n",
    "ax.boxplot(data,\n",
    "           labels= ['Placebo', 'Low', 'High'],\n",
    "           showmeans= True)\n",
    "\n",
    "plt.xlabel(\"Drug Dosage\")\n",
    "plt.ylabel(\"Libido Score\")\n",
    "\n",
    "plt.show()"
   ]
  },
  {
   "cell_type": "markdown",
   "metadata": {},
   "source": [
    "The graphical testing of homogeneity of variances supports the statistical testing findings which is the groups have equal variance. \n",
    "\n",
    "By default box plots show the median (orange line in graph above). The green triangle is the mean for each group which was an additional argument that was passed into the method. \n",
    "\n",
    "There are different ways to handle heteroskedasticity (unequal variance) and a decision needs to be made. Some options include, but is not limited to, transformming the dependent variable (outcome), could use trimmed means, robust standard errors, or use a parametric test suchs as the Welch's t-test. For a more in-depth look at the assumptions and some potential remedies, please check out this [page](https://www.pythonfordatascience.org/parametric-assumptions-python)."
   ]
  },
  {
   "cell_type": "markdown",
   "metadata": {},
   "source": [
    "# POST-HOC TESTING\n",
    "\n",
    "By conducting post-hoc tests or planned comparisons it allows one to see which group(s) significantly differ from each other; remember that the ANOVA is an omnibus test! There are a few different approaches that can be taken while conducting these tests, ones that are implemented in StatsModels currently are:\n",
    "\n",
    "## Tukey Honestly Significant Difference (HSD)\n",
    "Tests all pairwise group comparisons while controlling for the multiple comparisons which protects the familywise error rate and from making a Type I error\n",
    "Not technically a \"post-hoc\" test since this test can be used as a test independently of the ANOVA and can be planned before hand\n",
    "More in-depth information about this statistical method can be found [here](https://methods.sagepub.com/reference/encyc-of-research-design/n478.xml)\n",
    "\n",
    "## Bonferroni\n",
    "- Tests groups for a diffence while controlling for the multiple comparisons which protects the familywise error rate and from making a Type I error. It should be noted that some statistical software reports the Bonferroni adjusted confidence interval, however this is not the case in Python at this time (unless one were to program a function to do so)\n",
    "- This method is common because it is fast to calculate - take the number of groups to be compared and divide that by the initial alpha value\n",
    "```\n",
    "α_Bonf = Number of groups\n",
    "         ------------------\n",
    "                  α\n",
    "```\n",
    "In the current example there are 3 groups being compared (placebo vs. low, placebo vs. high, and low vs. high) which had `α = 0.05` making the equation become \n",
    "`α_Bonf = 3 / 0.05 = 0.0167`.\n",
    "\n",
    "Thus, in order for a comparison to be considered significant a p-value would need to be < 0.0167 in order to be considered statistically significant.\n",
    "- More in-depth information about this statistical method can be found [here](https://methods.sagepub.com/reference/encyc-of-research-design/n33.xml)\n",
    "\n",
    "# Šidák (a.k.a. Dunn-Šidák)\n",
    "- Tests groups for a diffence while controlling for the multiple comparisons which protects the familywise error rate and from making a Type I error. It should be noted that some statistical software reports the Šidák adjusted confidence interval, however this is not the case in StatsModels at this time (unless one were to program a function to do so)\n",
    "\n",
    "- This method is common because it is pretty fast to calculate, the formula is \n",
    "```\n",
    "α_Sid = 1 − (1−α)^(1/Number of groups)\n",
    "```\n",
    "In the current example there are 3 groups being compared (placebo vs. low, placebo vs. high, and low vs. high) which had `α = 0.05` making the equation become \n",
    "```\n",
    "α_Sid = 1 − (1−0.05)^(1/3)\n",
    "      = 0.0170\n",
    "```\n",
    "Thus, in order for a comparison to be considered significant a p-value would need to be < 0.0170 to be considered statistically significant.\n",
    "- More in-depth information about this statistical method can be found [here](https://methods.sagepub.com/reference/the-sage-dictionary-of-statistics/n166.xml?fromsearch=true).\n",
    "\n",
    "\n",
    "# TUKEY HONESTLY SIGNIFICANT DIFFERENCE (HSD)\n",
    "\n",
    "Have to use a library that has not been imported yet; please see the [official documentation](http://www.statsmodels.org/devel/generated/statsmodels.sandbox.stats.multicomp.MultiComparison.html) about this method for more information if interested."
   ]
  },
  {
   "cell_type": "code",
   "execution_count": 21,
   "metadata": {
    "ExecuteTime": {
     "end_time": "2021-05-15T01:48:04.339110Z",
     "start_time": "2021-05-15T01:48:04.293235Z"
    }
   },
   "outputs": [
    {
     "data": {
      "text/html": [
       "<table class=\"simpletable\">\n",
       "<caption>Multiple Comparison of Means - Tukey HSD, FWER=0.05</caption>\n",
       "<tr>\n",
       "  <th>group1</th> <th>group2</th>  <th>meandiff</th>  <th>p-adj</th>  <th>lower</th>   <th>upper</th>  <th>reject</th>\n",
       "</tr>\n",
       "<tr>\n",
       "   <td>high</td>    <td>low</td>     <td>-1.8</td>   <td>0.1472</td> <td>-4.1651</td> <td>0.5651</td>   <td>False</td>\n",
       "</tr>\n",
       "<tr>\n",
       "   <td>high</td>  <td>placebo</td>   <td>-2.8</td>   <td>0.0209</td> <td>-5.1651</td> <td>-0.4349</td>  <td>True</td> \n",
       "</tr>\n",
       "<tr>\n",
       "    <td>low</td>  <td>placebo</td>   <td>-1.0</td>   <td>0.5171</td> <td>-3.3651</td> <td>1.3651</td>   <td>False</td>\n",
       "</tr>\n",
       "</table>"
      ],
      "text/plain": [
       "<class 'statsmodels.iolib.table.SimpleTable'>"
      ]
     },
     "execution_count": 21,
     "metadata": {},
     "output_type": "execute_result"
    }
   ],
   "source": [
    "import statsmodels.stats.multicomp as mc\n",
    "\n",
    "comp = mc.MultiComparison(df['libido'], df['dose'])\n",
    "post_hoc_res = comp.tukeyhsd()\n",
    "post_hoc_res.summary()"
   ]
  },
  {
   "cell_type": "markdown",
   "metadata": {},
   "source": [
    "Now to make sense of the table.\n",
    "\n",
    "- At the top the table testing information is provided\n",
    "`FWER` is the familywise error rate, i.e. what \n",
    "α is being set to and controlled at\n",
    "- `group1` and `group2` columns are the groups being compared\n",
    "- `meandiff` is the difference between the group means\n",
    "- `p-adj` is the corrected p-value which takes into account the multiple comparisons being conducted\n",
    "- `lower` is the lower band of the confidence interval. In the current example the confidence interval at the 95% level since `α = 0.05`.\n",
    "- `upper` is the upper band of the confidence interval. In the current example the confidence interval at the 95% level since `α = 0.05`.\n",
    "- `reject` is the decision rule based on the corrected p-value\n",
    "\n",
    "\n",
    "It is possible to plot the difference using this method as well!"
   ]
  },
  {
   "cell_type": "code",
   "execution_count": 22,
   "metadata": {
    "ExecuteTime": {
     "end_time": "2021-05-15T01:50:13.969788Z",
     "start_time": "2021-05-15T01:50:13.611568Z"
    }
   },
   "outputs": [
    {
     "data": {
      "image/png": "[encoded data removed]",
      "text/plain": [
       "<Figure size 720x432 with 1 Axes>"
      ]
     },
     "execution_count": 22,
     "metadata": {},
     "output_type": "execute_result"
    },
    {
     "data": {
      "image/png": "[encoded data removed]",
      "text/plain": [
       "<Figure size 720x432 with 1 Axes>"
      ]
     },
     "metadata": {},
     "output_type": "display_data"
    }
   ],
   "source": [
    "post_hoc_res.plot_simultaneous(ylabel= \"Drug Dose\", xlabel= \"Score Difference\")"
   ]
  },
  {
   "cell_type": "markdown",
   "metadata": {},
   "source": [
    "Using Tukey HSD to test for differences between groups indicates that there is a statistically significant difference in libido score between those who took the placebo and those who took the high dosage of the medication, no other groups differed significantly. What this indicates is that the high dosage of the medication is effective at increasing libido, but the low dosage is not.\n",
    "\n",
    "# BONFERRONI CORRECTION\n",
    "\n",
    "Have to use a library that has not been imported yet (if you didn't do the Tukey HSD example above); please see the [official documentation](http://www.statsmodels.org/devel/generated/statsmodels.sandbox.stats.multicomp.MultiComparison.html) about this method for more information if interested. \n",
    "\n",
    "The documentation for [allpairtest](http://www.statsmodels.org/devel/generated/generated/statsmodels.sandbox.stats.multicomp.MultiComparison.allpairtest.html#statsmodels.sandbox.stats.multicomp.MultiComparison.allpairtest) is not in the best shape at the time of writing this. The method returns 3 objects, one is a completed table object, the second is the data of the table, and the third is the data of the table with the table headings - it is not understood why the developers of StatsModels did this. All that is needed is the first object. \n",
    "\n",
    "Before jumping into the code, let's take a look at pseudo code to make sense of this method."
   ]
  },
  {
   "cell_type": "code",
   "execution_count": 24,
   "metadata": {
    "ExecuteTime": {
     "end_time": "2021-05-15T01:51:42.926120Z",
     "start_time": "2021-05-15T01:51:42.923252Z"
    }
   },
   "outputs": [],
   "source": [
    "# allpairtest(statistical_test_method, method= \"correction_method\")"
   ]
  },
  {
   "cell_type": "markdown",
   "metadata": {},
   "source": [
    "The documentation shows one needs to supply this method with a statistical test method, which can either be a user defined function or a function from another Python library - in this case independent sample t-tests will be conducted. One also has to state the correction method to be applied to the p-value to adjust for the multiple comparisons taking place. Now to see the method in action."
   ]
  },
  {
   "cell_type": "code",
   "execution_count": 25,
   "metadata": {
    "ExecuteTime": {
     "end_time": "2021-05-15T01:52:23.282921Z",
     "start_time": "2021-05-15T01:52:23.274755Z"
    }
   },
   "outputs": [
    {
     "data": {
      "text/html": [
       "<table class=\"simpletable\">\n",
       "<caption>Test Multiple Comparison ttest_ind \n",
       "FWER=0.05 method=bonf\n",
       "alphacSidak=0.02, alphacBonf=0.017</caption>\n",
       "<tr>\n",
       "  <th>group1</th> <th>group2</th>   <th>stat</th>   <th>pval</th>  <th>pval_corr</th> <th>reject</th>\n",
       "</tr>\n",
       "<tr>\n",
       "   <td>high</td>    <td>low</td>    <td>1.964</td> <td>0.0851</td>  <td>0.2554</td>    <td>False</td>\n",
       "</tr>\n",
       "<tr>\n",
       "   <td>high</td>  <td>placebo</td> <td>3.0551</td> <td>0.0157</td>  <td>0.0471</td>    <td>True</td> \n",
       "</tr>\n",
       "<tr>\n",
       "    <td>low</td>  <td>placebo</td> <td>1.2127</td> <td>0.2598</td>  <td>0.7795</td>    <td>False</td>\n",
       "</tr>\n",
       "</table>"
      ],
      "text/plain": [
       "<class 'statsmodels.iolib.table.SimpleTable'>"
      ]
     },
     "execution_count": 25,
     "metadata": {},
     "output_type": "execute_result"
    }
   ],
   "source": [
    "import statsmodels.stats.multicomp as mc\n",
    "\n",
    "comp = mc.MultiComparison(df['libido'], df['dose'])\n",
    "tbl, a1, a2 = comp.allpairtest(stats.ttest_ind, method= \"bonf\")\n",
    "\n",
    "tbl"
   ]
  },
  {
   "cell_type": "markdown",
   "metadata": {},
   "source": [
    "Now to make sense of the table.\n",
    "\n",
    "- At the top the table testing information is provided\n",
    "  + `FWER` is the familywise error rate, i.e. what α is being set to and controlled at\n",
    "  + `method` is the correction method that is being applied to the p-values\n",
    "  + Then there is the adjusted p-value (adjusted α ) for both the Sidak and Bonferroni correction methods\n",
    "- `group1` and `group2` columns are the groups being compared\n",
    "- `stat` is the test statistic value; in this case it would be the t statistic\n",
    "- `pval` is the uncorrected p-value returned from the supplied \"statistical_test_method\"\n",
    "- `pval_corr` is the corrected p-value which has been corrected using whichever \"correction_method\" was supplied\n",
    "- `reject` is the decision rule based on the corrected p-value\n",
    "\n",
    "\n",
    "\n",
    "Conducting comparisons using the Bonferroni correction indicates that the only groups that differed significantly are those who took the high dose and the placebo dose.\n",
    "\n",
    "# ŠIDÁK CORRECTION (A.K.A. DUNN-ŠIDÁK CORRECTION)\n",
    "\n",
    "Have to use a library that has not been imported yet (if you didn't do the Tukey HSD or Bonferroni examples above); please see the official documentation about this method for more information if interested. \n",
    "\n",
    "The documentation for allpairtest is not in the best shape at the time of writing this. The method returns 3 objects, one is a completed table object, the second is the data of the table, and the third is the data of the table with the table headings - it is not understood why the developers of StatsModels did this. All that is needed is the first object. \n",
    "\n",
    "Before jumping into the code, let's take a look at pseudo code to make sense of this method.\n",
    "\n",
    "`allpairtest(statistical_test_method, method= \"correction_method\")`\n",
    "The documentation shows one needs to supply this method with a statistical test method, which can either be a user defined function or a function from another Python library - in this case independent sample t-tests will be conducted. One also has to state the correction method to be applied to the p-value to adjust for the multiple comparisons taking place. Now to see the method in action."
   ]
  },
  {
   "cell_type": "code",
   "execution_count": 26,
   "metadata": {
    "ExecuteTime": {
     "end_time": "2021-05-15T01:55:44.963516Z",
     "start_time": "2021-05-15T01:55:44.954067Z"
    }
   },
   "outputs": [
    {
     "data": {
      "text/html": [
       "<table class=\"simpletable\">\n",
       "<caption>Test Multiple Comparison ttest_ind \n",
       "FWER=0.05 method=sidak\n",
       "alphacSidak=0.02, alphacBonf=0.017</caption>\n",
       "<tr>\n",
       "  <th>group1</th> <th>group2</th>   <th>stat</th>   <th>pval</th>  <th>pval_corr</th> <th>reject</th>\n",
       "</tr>\n",
       "<tr>\n",
       "   <td>high</td>    <td>low</td>    <td>1.964</td> <td>0.0851</td>  <td>0.2343</td>    <td>False</td>\n",
       "</tr>\n",
       "<tr>\n",
       "   <td>high</td>  <td>placebo</td> <td>3.0551</td> <td>0.0157</td>  <td>0.0464</td>    <td>True</td> \n",
       "</tr>\n",
       "<tr>\n",
       "    <td>low</td>  <td>placebo</td> <td>1.2127</td> <td>0.2598</td>  <td>0.5945</td>    <td>False</td>\n",
       "</tr>\n",
       "</table>"
      ],
      "text/plain": [
       "<class 'statsmodels.iolib.table.SimpleTable'>"
      ]
     },
     "execution_count": 26,
     "metadata": {},
     "output_type": "execute_result"
    }
   ],
   "source": [
    "import statsmodels.stats.multicomp as mc\n",
    "\n",
    "comp = mc.MultiComparison(df['libido'], df['dose'])\n",
    "tbl, a1, a2 = comp.allpairtest(stats.ttest_ind, method= \"sidak\")\n",
    "\n",
    "tbl"
   ]
  },
  {
   "cell_type": "markdown",
   "metadata": {},
   "source": [
    "Now to make sense of the table.\n",
    "\n",
    "- At the top the table testing information is provided\n",
    "  + `FWER` is the familywise error rate, i.e. what α is being set to and controlled at\n",
    "  + `method` is the correction method that is being applied to the p-values\n",
    "  + Then there is the adjusted p-value (adjusted α) for both the Sidak and Bonferroni correction methods\n",
    "- `group1` and `group2` columns are the groups being compared\n",
    "- `stat` is the test statistic value; in this case it would be the t statistic\n",
    "- `pval` is the uncorrected p-value returned from the supplied \"statistical_test_method\"\n",
    "- `pval_corr` is the corrected p-value which has been corrected using whichever \"correction_method\" was supplied\n",
    "- `reject` is the decision rule based on the corrected p-value\n",
    "\n",
    "\n",
    "Conducting comparisons using the Šidák correction indicates that the only groups that differed significantly are those who took the high dose and the placebo dose."
   ]
  },
  {
   "cell_type": "markdown",
   "metadata": {},
   "source": [
    "# REFERENCES\n",
    "\n",
    "Kutner, M. H., Nachtsheim, C. J., Neter, J., and Li, W. (2004). Applied linear statistical models (5th). New York, NY: McGraw-Hill Irwin. \n",
    "Rosner, B. (2015). Fundamentals of Biostatistics (8th). Boston, MA: Cengage Learning. \n",
    "Ott, R. L., and Longnecker, M. (2010). An introduction to statistical methods and data analysis. Belmon, CA: Brooks/Cole."
   ]
  },
  {
   "cell_type": "code",
   "execution_count": null,
   "metadata": {},
   "outputs": [],
   "source": []
  }
 ],
 "metadata": {
  "kernelspec": {
   "display_name": "Python (dataSc)",
   "language": "python",
   "name": "datasc"
  },
  "language_info": {
   "codemirror_mode": {
    "name": "ipython",
    "version": 3
   },
   "file_extension": ".py",
   "mimetype": "text/x-python",
   "name": "python",
   "nbconvert_exporter": "python",
   "pygments_lexer": "ipython3",
   "version": "3.7.7"
  },
  "toc": {
   "base_numbering": 1,
   "nav_menu": {},
   "number_sections": true,
   "sideBar": true,
   "skip_h1_title": false,
   "title_cell": "Table of Contents",
   "title_sidebar": "Contents",
   "toc_cell": true,
   "toc_position": {},
   "toc_section_display": true,
   "toc_window_display": false
  }
 },
 "nbformat": 4,
 "nbformat_minor": 4
}
