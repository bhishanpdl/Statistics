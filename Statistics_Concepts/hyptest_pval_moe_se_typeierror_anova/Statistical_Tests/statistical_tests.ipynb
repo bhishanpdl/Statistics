{
 "cells": [
  {
   "cell_type": "markdown",
   "metadata": {
    "toc": true
   },
   "source": [
    "<h1>Table of Contents<span class=\"tocSkip\"></span></h1>\n",
    "<div class=\"toc\"><ul class=\"toc-item\"><li><span><a href=\"#Statistical-Tests\" data-toc-modified-id=\"Statistical-Tests-1\"><span class=\"toc-item-num\">1&nbsp;&nbsp;</span>Statistical Tests</a></span><ul class=\"toc-item\"><li><span><a href=\"#Task-description\" data-toc-modified-id=\"Task-description-1.1\"><span class=\"toc-item-num\">1.1&nbsp;&nbsp;</span>Task description</a></span><ul class=\"toc-item\"><li><span><a href=\"#Medical-data-analysis\" data-toc-modified-id=\"Medical-data-analysis-1.1.1\"><span class=\"toc-item-num\">1.1.1&nbsp;&nbsp;</span>Medical data analysis</a></span></li><li><span><a href=\"#Requirements\" data-toc-modified-id=\"Requirements-1.1.2\"><span class=\"toc-item-num\">1.1.2&nbsp;&nbsp;</span>Requirements</a></span></li><li><span><a href=\"#Example\" data-toc-modified-id=\"Example-1.1.3\"><span class=\"toc-item-num\">1.1.3&nbsp;&nbsp;</span>Example</a></span></li></ul></li></ul></li><li><span><a href=\"#Load-the-data\" data-toc-modified-id=\"Load-the-data-2\"><span class=\"toc-item-num\">2&nbsp;&nbsp;</span>Load the data</a></span></li><li><span><a href=\"#Data-Analysis\" data-toc-modified-id=\"Data-Analysis-3\"><span class=\"toc-item-num\">3&nbsp;&nbsp;</span>Data Analysis</a></span><ul class=\"toc-item\"><li><span><a href=\"#Check-missing-values\" data-toc-modified-id=\"Check-missing-values-3.1\"><span class=\"toc-item-num\">3.1&nbsp;&nbsp;</span>Check missing values</a></span></li></ul></li><li><span><a href=\"#Statistical-Tests\" data-toc-modified-id=\"Statistical-Tests-4\"><span class=\"toc-item-num\">4&nbsp;&nbsp;</span>Statistical Tests</a></span><ul class=\"toc-item\"><li><span><a href=\"#Chi-squared-test-for-categorical-features\" data-toc-modified-id=\"Chi-squared-test-for-categorical-features-4.1\"><span class=\"toc-item-num\">4.1&nbsp;&nbsp;</span>Chi-squared test for categorical features</a></span></li><li><span><a href=\"#T-test-(for-normal)-and-Man-Whittney-test-(non-normal)-for-Numerical-Features\" data-toc-modified-id=\"T-test-(for-normal)-and-Man-Whittney-test-(non-normal)-for-Numerical-Features-4.2\"><span class=\"toc-item-num\">4.2&nbsp;&nbsp;</span>T-test (for normal) and Man-Whittney test (non-normal) for Numerical Features</a></span></li><li><span><a href=\"#Answer\" data-toc-modified-id=\"Answer-4.3\"><span class=\"toc-item-num\">4.3&nbsp;&nbsp;</span>Answer</a></span></li></ul></li><li><span><a href=\"#Task-03\" data-toc-modified-id=\"Task-03-5\"><span class=\"toc-item-num\">5&nbsp;&nbsp;</span>Task 03</a></span><ul class=\"toc-item\"><li><span><a href=\"#Task-description\" data-toc-modified-id=\"Task-description-5.1\"><span class=\"toc-item-num\">5.1&nbsp;&nbsp;</span>Task description</a></span><ul class=\"toc-item\"><li><span><a href=\"#Regression-with-regularization\" data-toc-modified-id=\"Regression-with-regularization-5.1.1\"><span class=\"toc-item-num\">5.1.1&nbsp;&nbsp;</span>Regression with regularization</a></span></li><li><span><a href=\"#Requirements\" data-toc-modified-id=\"Requirements-5.1.2\"><span class=\"toc-item-num\">5.1.2&nbsp;&nbsp;</span>Requirements</a></span></li><li><span><a href=\"#Hints\" data-toc-modified-id=\"Hints-5.1.3\"><span class=\"toc-item-num\">5.1.3&nbsp;&nbsp;</span>Hints</a></span></li></ul></li></ul></li></ul></div>"
   ]
  },
  {
   "cell_type": "code",
   "execution_count": 1,
   "metadata": {
    "ExecuteTime": {
     "end_time": "2022-01-23T13:36:12.601458Z",
     "start_time": "2022-01-23T13:36:11.324251Z"
    }
   },
   "outputs": [],
   "source": [
    "import numpy as np\n",
    "import pandas as pd\n",
    "import os,sys,time\n",
    "import itertools as it\n",
    "\n",
    "from scipy import stats"
   ]
  },
  {
   "cell_type": "markdown",
   "metadata": {},
   "source": [
    "# Statistical Tests\n",
    "\n",
    "<div class=\"Tabs__Body-sc-1wbc56k-3 dSNRdH\"><div class=\"UntypedBox__Wrapper-sc-4e7tnk-0 dtcSGl Floater-sc-vcx7dh-0 iYRxBD TaskDescription__ThemedBox-sc-7m9k5q-0 kTUeu\"><div class=\"TaskDescription__ContentContainer-sc-7m9k5q-6 bnQxfG\"><div id=\"standard_task_description\" class=\"TaskDescription__StandardTaskDescription-sc-7m9k5q-3 kYBmZu protected standard-task-description\"><h2 class=\"mod-hidden\">Task description</h2><div class=\"TaskDescription__TaskContentWrapper-sc-7m9k5q-2 bOOgkH task-description-content\"><p>Perform medical data analysis by creating statistical tests on a given data set.</p>\n",
    "<h3>Medical data analysis</h3>\n",
    "<p>In this assignment, you will perform medical data analysis by creating statistical tests on a given data set. You will check which variables are potentially a cause of a patient's death.</p>\n",
    "<ul>\n",
    "<li>1.  For categorical variables, you should perform the chi-squared test of independence between each categorical variable and <code>death</code> variable. Treat variables as categorical if <code>dtype</code> is <code>int64</code>.</li>\n",
    "<li>2.  For numerical variables, perform two Shapiro–Wilk tests: one for each sample that was created by splitting the data by <code>death</code> variable.\n",
    "<ul>\n",
    "<li>2.1. If p-values from Shapiro–Wilk tests indicate that both samples have a normal distribution (p-values greater than 0.05), perform the unpaired t-test with the parameter <code>equal_var = False</code>.</li>\n",
    "<li>2.2. Otherwise perform the Mann-Whitney U test.</li>\n",
    "</ul>\n",
    "</li>\n",
    "</ul>\n",
    "<h3>Requirements</h3>\n",
    "<p>Implement a function <code>perform_tests</code> which accepts one argument:</p>\n",
    "<ul>\n",
    "<li><code>data</code>: a pandas DataFrame consisting of the following columns: <code>death</code> (an indicator of whether a patient died less than a year after the operation) and 17 other variables (either categorical or numerical) describing health condition after operation and taken medicaments.</li>\n",
    "</ul>\n",
    "<p>The function returns a dictionary with the following four keys:</p>\n",
    "<ul>\n",
    "<li><code>mann_whitney</code>, <code>ttest</code>, <code>chi_square</code>: each of these consists of a list of tuples with (variable name, p-value from the corresponding test). For <code>chi_square</code>, these should be categorical variables; for <code>mann_whitney</code>, numerical variables that don't have a normal distribution; and for <code>ttest</code>, numerical variables with a normal distribution.</li>\n",
    "<li><code>shapiro_wilk</code>: a list of tuples with (variable name, (p-value for sample with deaths=0, p-value for sample with deaths=1)). These should be all numerical variables.</li>\n",
    "</ul>\n",
    "<p>Round all p-values in the output to four decimal places.</p>\n",
    "<h3>Example</h3>\n",
    "<p>With data limited to the following columns:</p>\n",
    "<pre><code class=\"language-python\">example_data = data[[\"death\", \"Na+\", \"DBP\", \"PLT\", \"ivabradine\", \"MRA\"]]\n",
    "</code></pre>\n",
    "<p>so that <code>example_data.head()</code> looks as follows:</p>\n",
    "<pre><code class=\"language-python\">   death    Na+    DBP    PLT  ivabradine  MRA\n",
    "0      0  136.0  126.0  196.0           1    0\n",
    "1      0  147.0  108.0  245.0           0    1\n",
    "2      0  133.0  109.0  219.0           0    1\n",
    "3      0  150.0  114.0  294.0           1    0\n",
    "4      0  151.0   95.0  293.0           0    1\n",
    "</code></pre>\n",
    "<p>the function <code>perform_tests(example_data)</code> will return:</p>\n",
    "<pre><code class=\"language-python\">{'mann_whitney': [('Na+', 0.2143)],\n",
    " 'ttest': [('DBP', 0.0), ('PLT', 0.4739)],\n",
    " 'chi_square': [('ivabradine', 0.0144), ('MRA', 0.2884)],\n",
    " 'shapiro_wilk': [('Na+', (0.0, 0.0071)), ('PLT', (0.2361, 0.6935)), ('DBP', (0.5272, 0.3715))]}\n",
    "</code></pre>"
   ]
  },
  {
   "cell_type": "markdown",
   "metadata": {},
   "source": [
    "# Load the data"
   ]
  },
  {
   "cell_type": "code",
   "execution_count": 2,
   "metadata": {
    "ExecuteTime": {
     "end_time": "2022-01-23T13:36:30.510477Z",
     "start_time": "2022-01-23T13:36:30.330968Z"
    }
   },
   "outputs": [
    {
     "name": "stdout",
     "output_type": "stream",
     "text": [
      "\u001b[32mmedical_data.csv\u001b[m\u001b[m\r\n"
     ]
    }
   ],
   "source": [
    "!ls data"
   ]
  },
  {
   "cell_type": "code",
   "execution_count": 3,
   "metadata": {
    "ExecuteTime": {
     "end_time": "2022-01-23T13:36:35.672718Z",
     "start_time": "2022-01-23T13:36:35.549193Z"
    }
   },
   "outputs": [
    {
     "name": "stdout",
     "output_type": "stream",
     "text": [
      "death,amiodarone,loop_diuretics,ivabradine,ARB,digoxin,MRA,heart_failure,AOS,SBP,DBP,PLT,LDL,HDL,LVEF,Na+,K+,MPV\r\n",
      "0,0,0,1,1,1,0,2,0,62.0,126.0,196.0,50.0,42.0,28.0,136.0,4.3,9.9\r\n"
     ]
    }
   ],
   "source": [
    "!head -n 2 data/medical_data.csv"
   ]
  },
  {
   "cell_type": "code",
   "execution_count": 6,
   "metadata": {
    "ExecuteTime": {
     "end_time": "2022-01-23T13:36:57.929800Z",
     "start_time": "2022-01-23T13:36:57.870158Z"
    }
   },
   "outputs": [
    {
     "name": "stdout",
     "output_type": "stream",
     "text": [
      "(580, 18)\n"
     ]
    },
    {
     "data": {
      "text/html": [
       "<div>\n",
       "<style scoped>\n",
       "    .dataframe tbody tr th:only-of-type {\n",
       "        vertical-align: middle;\n",
       "    }\n",
       "\n",
       "    .dataframe tbody tr th {\n",
       "        vertical-align: top;\n",
       "    }\n",
       "\n",
       "    .dataframe thead th {\n",
       "        text-align: right;\n",
       "    }\n",
       "</style>\n",
       "<table border=\"1\" class=\"dataframe\">\n",
       "  <thead>\n",
       "    <tr style=\"text-align: right;\">\n",
       "      <th></th>\n",
       "      <th>death</th>\n",
       "      <th>amiodarone</th>\n",
       "      <th>loop_diuretics</th>\n",
       "      <th>ivabradine</th>\n",
       "      <th>ARB</th>\n",
       "      <th>digoxin</th>\n",
       "      <th>MRA</th>\n",
       "      <th>heart_failure</th>\n",
       "      <th>AOS</th>\n",
       "      <th>SBP</th>\n",
       "      <th>DBP</th>\n",
       "      <th>PLT</th>\n",
       "      <th>LDL</th>\n",
       "      <th>HDL</th>\n",
       "      <th>LVEF</th>\n",
       "      <th>Na+</th>\n",
       "      <th>K+</th>\n",
       "      <th>MPV</th>\n",
       "    </tr>\n",
       "  </thead>\n",
       "  <tbody>\n",
       "    <tr>\n",
       "      <th>0</th>\n",
       "      <td>0</td>\n",
       "      <td>0</td>\n",
       "      <td>0</td>\n",
       "      <td>1</td>\n",
       "      <td>1</td>\n",
       "      <td>1</td>\n",
       "      <td>0</td>\n",
       "      <td>2</td>\n",
       "      <td>0</td>\n",
       "      <td>62.0</td>\n",
       "      <td>126.0</td>\n",
       "      <td>196.0</td>\n",
       "      <td>50.0</td>\n",
       "      <td>42.0</td>\n",
       "      <td>28.0</td>\n",
       "      <td>136.0</td>\n",
       "      <td>4.30</td>\n",
       "      <td>9.9</td>\n",
       "    </tr>\n",
       "    <tr>\n",
       "      <th>1</th>\n",
       "      <td>0</td>\n",
       "      <td>1</td>\n",
       "      <td>1</td>\n",
       "      <td>0</td>\n",
       "      <td>1</td>\n",
       "      <td>0</td>\n",
       "      <td>1</td>\n",
       "      <td>0</td>\n",
       "      <td>1</td>\n",
       "      <td>72.0</td>\n",
       "      <td>108.0</td>\n",
       "      <td>245.0</td>\n",
       "      <td>59.0</td>\n",
       "      <td>85.0</td>\n",
       "      <td>25.0</td>\n",
       "      <td>147.0</td>\n",
       "      <td>4.58</td>\n",
       "      <td>13.3</td>\n",
       "    </tr>\n",
       "    <tr>\n",
       "      <th>578</th>\n",
       "      <td>1</td>\n",
       "      <td>1</td>\n",
       "      <td>1</td>\n",
       "      <td>1</td>\n",
       "      <td>0</td>\n",
       "      <td>1</td>\n",
       "      <td>0</td>\n",
       "      <td>1</td>\n",
       "      <td>1</td>\n",
       "      <td>73.0</td>\n",
       "      <td>114.0</td>\n",
       "      <td>231.0</td>\n",
       "      <td>44.0</td>\n",
       "      <td>102.0</td>\n",
       "      <td>77.0</td>\n",
       "      <td>154.0</td>\n",
       "      <td>4.16</td>\n",
       "      <td>8.1</td>\n",
       "    </tr>\n",
       "    <tr>\n",
       "      <th>579</th>\n",
       "      <td>1</td>\n",
       "      <td>1</td>\n",
       "      <td>1</td>\n",
       "      <td>0</td>\n",
       "      <td>0</td>\n",
       "      <td>0</td>\n",
       "      <td>1</td>\n",
       "      <td>2</td>\n",
       "      <td>0</td>\n",
       "      <td>91.0</td>\n",
       "      <td>125.0</td>\n",
       "      <td>254.0</td>\n",
       "      <td>91.0</td>\n",
       "      <td>67.0</td>\n",
       "      <td>69.0</td>\n",
       "      <td>148.0</td>\n",
       "      <td>3.81</td>\n",
       "      <td>12.2</td>\n",
       "    </tr>\n",
       "  </tbody>\n",
       "</table>\n",
       "</div>"
      ],
      "text/plain": [
       "     death  amiodarone  loop_diuretics  ivabradine  ARB  digoxin  MRA  \\\n",
       "0        0           0               0           1    1        1    0   \n",
       "1        0           1               1           0    1        0    1   \n",
       "578      1           1               1           1    0        1    0   \n",
       "579      1           1               1           0    0        0    1   \n",
       "\n",
       "     heart_failure  AOS   SBP    DBP    PLT   LDL    HDL  LVEF    Na+    K+  \\\n",
       "0                2    0  62.0  126.0  196.0  50.0   42.0  28.0  136.0  4.30   \n",
       "1                0    1  72.0  108.0  245.0  59.0   85.0  25.0  147.0  4.58   \n",
       "578              1    1  73.0  114.0  231.0  44.0  102.0  77.0  154.0  4.16   \n",
       "579              2    0  91.0  125.0  254.0  91.0   67.0  69.0  148.0  3.81   \n",
       "\n",
       "      MPV  \n",
       "0     9.9  \n",
       "1    13.3  \n",
       "578   8.1  \n",
       "579  12.2  "
      ]
     },
     "execution_count": 6,
     "metadata": {},
     "output_type": "execute_result"
    }
   ],
   "source": [
    "df = pd.read_csv('data/medical_data.csv')\n",
    "print(df.shape)\n",
    "df.head(2).append(df.tail(2))"
   ]
  },
  {
   "cell_type": "markdown",
   "metadata": {},
   "source": [
    "# Data Analysis"
   ]
  },
  {
   "cell_type": "markdown",
   "metadata": {},
   "source": [
    "## Check missing values"
   ]
  },
  {
   "cell_type": "code",
   "execution_count": 7,
   "metadata": {
    "ExecuteTime": {
     "end_time": "2022-01-23T13:37:38.154633Z",
     "start_time": "2022-01-23T13:37:38.144171Z"
    }
   },
   "outputs": [
    {
     "data": {
      "text/plain": [
       "0"
      ]
     },
     "execution_count": 7,
     "metadata": {},
     "output_type": "execute_result"
    }
   ],
   "source": [
    "df.isna().sum().sum()"
   ]
  },
  {
   "cell_type": "markdown",
   "metadata": {},
   "source": [
    "# Statistical Tests"
   ]
  },
  {
   "cell_type": "markdown",
   "metadata": {},
   "source": [
    "## Chi-squared test for categorical features"
   ]
  },
  {
   "cell_type": "code",
   "execution_count": 9,
   "metadata": {
    "ExecuteTime": {
     "end_time": "2022-01-23T13:38:39.846781Z",
     "start_time": "2022-01-23T13:38:39.833178Z"
    }
   },
   "outputs": [
    {
     "name": "stdout",
     "output_type": "stream",
     "text": [
      "['amiodarone', 'loop_diuretics', 'ivabradine', 'ARB', 'digoxin', 'MRA', 'heart_failure', 'AOS']\n"
     ]
    }
   ],
   "source": [
    "target = 'death'\n",
    "cols_cat = df.drop(target,axis=1).select_dtypes('int64').columns.tolist()\n",
    "print(cols_cat)"
   ]
  },
  {
   "cell_type": "code",
   "execution_count": 10,
   "metadata": {
    "ExecuteTime": {
     "end_time": "2022-01-23T13:38:41.655152Z",
     "start_time": "2022-01-23T13:38:41.557317Z"
    }
   },
   "outputs": [
    {
     "data": {
      "text/plain": [
       "[('amiodarone', 0.0),\n",
       " ('loop_diuretics', 0.0),\n",
       " ('ivabradine', 0.0144),\n",
       " ('ARB', 0.2338),\n",
       " ('digoxin', 0.5185),\n",
       " ('MRA', 0.2884),\n",
       " ('heart_failure', 0.0),\n",
       " ('AOS', 0.974)]"
      ]
     },
     "execution_count": 10,
     "metadata": {},
     "output_type": "execute_result"
    }
   ],
   "source": [
    "chi_square = [ (cat, \n",
    "                round(stats.chi2_contingency(\n",
    "                   pd.crosstab(df[cat], df[target]).values)[1],4))\n",
    "              for cat in cols_cat \n",
    "             ]\n",
    "\n",
    "chi_square"
   ]
  },
  {
   "cell_type": "markdown",
   "metadata": {},
   "source": [
    "## T-test (for normal) and Man-Whittney test (non-normal) for Numerical Features"
   ]
  },
  {
   "cell_type": "code",
   "execution_count": 11,
   "metadata": {
    "ExecuteTime": {
     "end_time": "2022-01-23T13:39:40.469729Z",
     "start_time": "2022-01-23T13:39:40.463006Z"
    }
   },
   "outputs": [
    {
     "name": "stdout",
     "output_type": "stream",
     "text": [
      "['SBP', 'DBP', 'PLT', 'LDL', 'HDL', 'LVEF', 'Na+', 'K+', 'MPV']\n"
     ]
    }
   ],
   "source": [
    "cols_num = df.drop(target,axis=1).select_dtypes('float').columns.tolist()\n",
    "print(cols_num)"
   ]
  },
  {
   "cell_type": "code",
   "execution_count": 12,
   "metadata": {
    "ExecuteTime": {
     "end_time": "2022-01-23T13:39:48.757557Z",
     "start_time": "2022-01-23T13:39:48.736383Z"
    }
   },
   "outputs": [],
   "source": [
    "ttest = []\n",
    "mann = []\n",
    "for col in cols_num:\n",
    "    both_normal = False\n",
    "    x1 = df.loc[df.death==0,col].values\n",
    "    x2 = df.loc[df.death==1,col].values\n",
    "\n",
    "    p1 = stats.shapiro(x1).pvalue\n",
    "    p2 = stats.shapiro(x2).pvalue\n",
    "    \n",
    "    # both are normal\n",
    "    if (p1>0.05) and (p2>0.05):\n",
    "        #print(col, 'both are normal')\n",
    "        pval = round(stats.ttest_ind(x1,x2,equal_var=False).pvalue,4)\n",
    "        #print(pval)\n",
    "        ttest.append((col,pval))\n",
    "\n",
    "    # at least one not-normal\n",
    "    else:\n",
    "        pval = round(stats.mannwhitneyu(x1,x2).pvalue,4)\n",
    "        mann.append((col,pval))"
   ]
  },
  {
   "cell_type": "code",
   "execution_count": 13,
   "metadata": {
    "ExecuteTime": {
     "end_time": "2022-01-23T13:39:50.688396Z",
     "start_time": "2022-01-23T13:39:50.682642Z"
    }
   },
   "outputs": [
    {
     "data": {
      "text/plain": [
       "[('HDL', 0.0), ('LVEF', 0.0), ('Na+', 0.2143), ('K+', 0.4284), ('MPV', 0.4331)]"
      ]
     },
     "execution_count": 13,
     "metadata": {},
     "output_type": "execute_result"
    }
   ],
   "source": [
    "mann"
   ]
  },
  {
   "cell_type": "code",
   "execution_count": 14,
   "metadata": {
    "ExecuteTime": {
     "end_time": "2022-01-23T13:39:51.787333Z",
     "start_time": "2022-01-23T13:39:51.779538Z"
    }
   },
   "outputs": [
    {
     "data": {
      "text/plain": [
       "[(('HDL', 0.0), ('SBP', 0.0)),\n",
       " (('LVEF', 0.0), ('DBP', 0.0)),\n",
       " (('Na+', 0.2143), ('PLT', 0.4739)),\n",
       " (('K+', 0.4284), ('LDL', 0.8392))]"
      ]
     },
     "execution_count": 14,
     "metadata": {},
     "output_type": "execute_result"
    }
   ],
   "source": [
    "list(zip(mann,ttest))"
   ]
  },
  {
   "cell_type": "code",
   "execution_count": 18,
   "metadata": {
    "ExecuteTime": {
     "end_time": "2022-01-23T13:42:50.025256Z",
     "start_time": "2022-01-23T13:42:49.897666Z"
    }
   },
   "outputs": [
    {
     "data": {
      "text/plain": [
       "{'mann_whitney': [('HDL', 0.0),\n",
       "  ('LVEF', 0.0),\n",
       "  ('Na+', 0.2143),\n",
       "  ('K+', 0.4284),\n",
       "  ('MPV', 0.4331)],\n",
       " 'ttest': [('SBP', 0.0), ('DBP', 0.0), ('PLT', 0.4739), ('LDL', 0.8392)],\n",
       " 'chi_square': [('amiodarone', 0.0),\n",
       "  ('loop_diuretics', 0.0),\n",
       "  ('ivabradine', 0.0144),\n",
       "  ('ARB', 0.2338),\n",
       "  ('digoxin', 0.5185),\n",
       "  ('MRA', 0.2884),\n",
       "  ('heart_failure', 0.0),\n",
       "  ('AOS', 0.974)],\n",
       " 'shapiro_wilk': [(('HDL', 0.0), ('SBP', 0.0)),\n",
       "  (('LVEF', 0.0), ('DBP', 0.0)),\n",
       "  (('Na+', 0.2143), ('PLT', 0.4739)),\n",
       "  (('K+', 0.4284), ('LDL', 0.8392))]}"
      ]
     },
     "execution_count": 18,
     "metadata": {},
     "output_type": "execute_result"
    }
   ],
   "source": [
    "import pandas as pd\n",
    "from scipy import stats\n",
    "\n",
    "\n",
    "def perform_tests(data):\n",
    "    df = data\n",
    "    target = 'death'\n",
    "    ALPHA = 0.05\n",
    "    cols_cat = df.drop(target,axis=1).select_dtypes('int64').columns.tolist()\n",
    "\n",
    "    chisq = [ (cat, \n",
    "                    round(stats.chi2_contingency(\n",
    "                    pd.crosstab(df[cat], df[target]).values)[1],4))\n",
    "                for cat in cols_cat \n",
    "                ]\n",
    "\n",
    "    cols_num = df.drop(target,axis=1).select_dtypes('float').columns.tolist()\n",
    "\n",
    "    ttest = []\n",
    "    mann = []\n",
    "    for col in cols_num:\n",
    "        both_normal = False\n",
    "        x1 = df.loc[df.death==0,col].values\n",
    "        x2 = df.loc[df.death==1,col].values\n",
    "\n",
    "        p1 = stats.shapiro(x1).pvalue\n",
    "        p2 = stats.shapiro(x2).pvalue\n",
    "        \n",
    "        # both are normal\n",
    "        if (p1>ALPHA) and (p2>ALPHA):\n",
    "            #print(col, 'both are normal')\n",
    "            pval = round(stats.ttest_ind(x1,x2,equal_var=False).pvalue,4)\n",
    "            #print(pval)\n",
    "            ttest.append((col,pval))\n",
    "\n",
    "        # at least one not-normal\n",
    "        else:\n",
    "            pval = round(stats.mannwhitneyu(x1,x2).pvalue,4)\n",
    "            mann.append((col,pval))\n",
    "\n",
    "    return {\n",
    "        'mann_whitney': mann,\n",
    "        'ttest': ttest,\n",
    "        'chi_square': chisq,\n",
    "        'shapiro_wilk': list(zip(mann,ttest))\n",
    "    }\n",
    "\n",
    "data = pd.read_csv('data/medical_data.csv')\n",
    "out = perform_tests(data)\n",
    "out"
   ]
  },
  {
   "cell_type": "code",
   "execution_count": 19,
   "metadata": {
    "ExecuteTime": {
     "end_time": "2022-01-23T13:42:58.429888Z",
     "start_time": "2022-01-23T13:42:58.422952Z"
    }
   },
   "outputs": [
    {
     "data": {
      "text/plain": [
       "dict_keys(['mann_whitney', 'ttest', 'chi_square', 'shapiro_wilk'])"
      ]
     },
     "execution_count": 19,
     "metadata": {},
     "output_type": "execute_result"
    }
   ],
   "source": [
    "out.keys()"
   ]
  },
  {
   "cell_type": "code",
   "execution_count": 23,
   "metadata": {
    "ExecuteTime": {
     "end_time": "2022-01-23T13:43:38.431081Z",
     "start_time": "2022-01-23T13:43:38.415869Z"
    }
   },
   "outputs": [
    {
     "data": {
      "text/html": [
       "<div>\n",
       "<style scoped>\n",
       "    .dataframe tbody tr th:only-of-type {\n",
       "        vertical-align: middle;\n",
       "    }\n",
       "\n",
       "    .dataframe tbody tr th {\n",
       "        vertical-align: top;\n",
       "    }\n",
       "\n",
       "    .dataframe thead th {\n",
       "        text-align: right;\n",
       "    }\n",
       "</style>\n",
       "<table border=\"1\" class=\"dataframe\">\n",
       "  <thead>\n",
       "    <tr style=\"text-align: right;\">\n",
       "      <th></th>\n",
       "      <th>0</th>\n",
       "    </tr>\n",
       "  </thead>\n",
       "  <tbody>\n",
       "    <tr>\n",
       "      <th>mann_whitney</th>\n",
       "      <td>[(HDL, 0.0), (LVEF, 0.0), (Na+, 0.2143), (K+, ...</td>\n",
       "    </tr>\n",
       "    <tr>\n",
       "      <th>ttest</th>\n",
       "      <td>[(SBP, 0.0), (DBP, 0.0), (PLT, 0.4739), (LDL, ...</td>\n",
       "    </tr>\n",
       "    <tr>\n",
       "      <th>chi_square</th>\n",
       "      <td>[(amiodarone, 0.0), (loop_diuretics, 0.0), (iv...</td>\n",
       "    </tr>\n",
       "    <tr>\n",
       "      <th>shapiro_wilk</th>\n",
       "      <td>[((HDL, 0.0), (SBP, 0.0)), ((LVEF, 0.0), (DBP,...</td>\n",
       "    </tr>\n",
       "  </tbody>\n",
       "</table>\n",
       "</div>"
      ],
      "text/plain": [
       "                                                              0\n",
       "mann_whitney  [(HDL, 0.0), (LVEF, 0.0), (Na+, 0.2143), (K+, ...\n",
       "ttest         [(SBP, 0.0), (DBP, 0.0), (PLT, 0.4739), (LDL, ...\n",
       "chi_square    [(amiodarone, 0.0), (loop_diuretics, 0.0), (iv...\n",
       "shapiro_wilk  [((HDL, 0.0), (SBP, 0.0)), ((LVEF, 0.0), (DBP,..."
      ]
     },
     "execution_count": 23,
     "metadata": {},
     "output_type": "execute_result"
    }
   ],
   "source": [
    "pd.Series(out).to_frame()"
   ]
  },
  {
   "cell_type": "code",
   "execution_count": null,
   "metadata": {},
   "outputs": [],
   "source": []
  }
 ],
 "metadata": {
  "kernelspec": {
   "display_name": "Python [conda env:spk]",
   "language": "python",
   "name": "conda-env-spk-py"
  },
  "language_info": {
   "codemirror_mode": {
    "name": "ipython",
    "version": 3
   },
   "file_extension": ".py",
   "mimetype": "text/x-python",
   "name": "python",
   "nbconvert_exporter": "python",
   "pygments_lexer": "ipython3",
   "version": "3.7.7"
  },
  "toc": {
   "base_numbering": 1,
   "nav_menu": {},
   "number_sections": true,
   "sideBar": true,
   "skip_h1_title": false,
   "title_cell": "Table of Contents",
   "title_sidebar": "Contents",
   "toc_cell": true,
   "toc_position": {},
   "toc_section_display": true,
   "toc_window_display": false
  },
  "varInspector": {
   "cols": {
    "lenName": 16,
    "lenType": 16,
    "lenVar": 40
   },
   "kernels_config": {
    "python": {
     "delete_cmd_postfix": "",
     "delete_cmd_prefix": "del ",
     "library": "var_list.py",
     "varRefreshCmd": "print(var_dic_list())"
    },
    "r": {
     "delete_cmd_postfix": ") ",
     "delete_cmd_prefix": "rm(",
     "library": "var_list.r",
     "varRefreshCmd": "cat(var_dic_list()) "
    }
   },
   "types_to_exclude": [
    "module",
    "function",
    "builtin_function_or_method",
    "instance",
    "_Feature"
   ],
   "window_display": false
  }
 },
 "nbformat": 4,
 "nbformat_minor": 4
}
