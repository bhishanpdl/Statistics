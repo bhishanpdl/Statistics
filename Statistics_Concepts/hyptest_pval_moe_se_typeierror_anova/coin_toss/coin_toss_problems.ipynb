{
 "cells": [
  {
   "cell_type": "markdown",
   "metadata": {
    "toc": true
   },
   "source": [
    "<h1>Table of Contents<span class=\"tocSkip\"></span></h1>\n",
    "<div class=\"toc\"><ul class=\"toc-item\"><li><span><a href=\"#A-coin-is-tossed-6-times.-What-is-the-probability-of-getting-at-least-one-heads?\" data-toc-modified-id=\"A-coin-is-tossed-6-times.-What-is-the-probability-of-getting-at-least-one-heads?-1\"><span class=\"toc-item-num\">1&nbsp;&nbsp;</span>A coin is tossed 6 times. What is the probability of getting at least one heads?</a></span></li><li><span><a href=\"#Questions\" data-toc-modified-id=\"Questions-2\"><span class=\"toc-item-num\">2&nbsp;&nbsp;</span>Questions</a></span></li></ul></div>"
   ]
  },
  {
   "cell_type": "markdown",
   "metadata": {},
   "source": [
    "# A coin is tossed 6 times. What is the probability of getting at least one heads?\n",
    "\n",
    "![](questions/qn_01.png)\n",
    "![](questions/qn_01b.png)\n",
    "![](questions/qn_01c.png)"
   ]
  },
  {
   "cell_type": "code",
   "execution_count": 1,
   "metadata": {
    "ExecuteTime": {
     "end_time": "2021-05-15T03:20:15.739458Z",
     "start_time": "2021-05-15T03:20:15.727647Z"
    }
   },
   "outputs": [
    {
     "data": {
      "text/plain": [
       "0.015625"
      ]
     },
     "execution_count": 1,
     "metadata": {},
     "output_type": "execute_result"
    }
   ],
   "source": [
    "1-63/64"
   ]
  },
  {
   "cell_type": "code",
   "execution_count": 6,
   "metadata": {
    "ExecuteTime": {
     "end_time": "2021-05-15T03:32:37.323270Z",
     "start_time": "2021-05-15T03:32:37.319897Z"
    }
   },
   "outputs": [],
   "source": [
    "import numpy as np\n",
    "from scipy import stats"
   ]
  },
  {
   "cell_type": "code",
   "execution_count": 14,
   "metadata": {
    "ExecuteTime": {
     "end_time": "2021-05-15T03:44:58.574176Z",
     "start_time": "2021-05-15T03:44:58.566702Z"
    }
   },
   "outputs": [
    {
     "data": {
      "text/plain": [
       "0.984375"
      ]
     },
     "execution_count": 14,
     "metadata": {},
     "output_type": "execute_result"
    }
   ],
   "source": [
    "1-stats.binom.pmf(k=6,n=6,p=0.5) # 1 - all heads (all heads is equal to all tails)"
   ]
  },
  {
   "cell_type": "code",
   "execution_count": 12,
   "metadata": {
    "ExecuteTime": {
     "end_time": "2021-05-15T03:44:22.543377Z",
     "start_time": "2021-05-15T03:44:22.522613Z"
    }
   },
   "outputs": [
    {
     "data": {
      "text/plain": [
       "0.984375"
      ]
     },
     "execution_count": 12,
     "metadata": {},
     "output_type": "execute_result"
    }
   ],
   "source": [
    "stats.binom.cdf(k=5,n=6,p=0.5)"
   ]
  },
  {
   "cell_type": "markdown",
   "metadata": {},
   "source": [
    "# Questions\n",
    "![](questions/qn_03.png)\n",
    "![](questions/qn_04.png)"
   ]
  },
  {
   "cell_type": "code",
   "execution_count": null,
   "metadata": {},
   "outputs": [],
   "source": []
  }
 ],
 "metadata": {
  "kernelspec": {
   "display_name": "Python (dataSc)",
   "language": "python",
   "name": "datasc"
  },
  "language_info": {
   "codemirror_mode": {
    "name": "ipython",
    "version": 3
   },
   "file_extension": ".py",
   "mimetype": "text/x-python",
   "name": "python",
   "nbconvert_exporter": "python",
   "pygments_lexer": "ipython3",
   "version": "3.7.7"
  },
  "toc": {
   "base_numbering": 1,
   "nav_menu": {},
   "number_sections": true,
   "sideBar": true,
   "skip_h1_title": false,
   "title_cell": "Table of Contents",
   "title_sidebar": "Contents",
   "toc_cell": true,
   "toc_position": {},
   "toc_section_display": true,
   "toc_window_display": false
  }
 },
 "nbformat": 4,
 "nbformat_minor": 4
}
