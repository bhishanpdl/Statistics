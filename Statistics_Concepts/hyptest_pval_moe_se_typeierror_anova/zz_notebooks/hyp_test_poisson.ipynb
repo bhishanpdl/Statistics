{
 "cells": [
  {
   "cell_type": "markdown",
   "metadata": {
    "toc": true
   },
   "source": [
    "<h1>Table of Contents<span class=\"tocSkip\"></span></h1>\n",
    "<div class=\"toc\"><ul class=\"toc-item\"><li><span><a href=\"#Hypothesis-Testing\" data-toc-modified-id=\"Hypothesis-Testing-1\"><span class=\"toc-item-num\">1&nbsp;&nbsp;</span>Hypothesis Testing</a></span></li><li><span><a href=\"#Poisson-distribution\" data-toc-modified-id=\"Poisson-distribution-2\"><span class=\"toc-item-num\">2&nbsp;&nbsp;</span>Poisson distribution</a></span></li><li><span><a href=\"#Quesition-1:\" data-toc-modified-id=\"Quesition-1:-3\"><span class=\"toc-item-num\">3&nbsp;&nbsp;</span>Quesition 1:</a></span></li></ul></div>"
   ]
  },
  {
   "cell_type": "markdown",
   "metadata": {},
   "source": [
    "# Hypothesis Testing"
   ]
  },
  {
   "cell_type": "code",
   "execution_count": 1,
   "metadata": {
    "ExecuteTime": {
     "end_time": "2021-03-09T18:37:08.426217Z",
     "start_time": "2021-03-09T18:37:07.566790Z"
    }
   },
   "outputs": [
    {
     "name": "stderr",
     "output_type": "stream",
     "text": [
      "/Users/poudel/opt/miniconda3/envs/dataSc/lib/python3.7/importlib/_bootstrap.py:219: RuntimeWarning: numpy.ufunc size changed, may indicate binary incompatibility. Expected 192 from C header, got 216 from PyObject\n",
      "  return f(*args, **kwds)\n",
      "/Users/poudel/opt/miniconda3/envs/dataSc/lib/python3.7/importlib/_bootstrap.py:219: RuntimeWarning: numpy.ufunc size changed, may indicate binary incompatibility. Expected 192 from C header, got 216 from PyObject\n",
      "  return f(*args, **kwds)\n",
      "/Users/poudel/opt/miniconda3/envs/dataSc/lib/python3.7/importlib/_bootstrap.py:219: RuntimeWarning: numpy.ufunc size changed, may indicate binary incompatibility. Expected 192 from C header, got 216 from PyObject\n",
      "  return f(*args, **kwds)\n"
     ]
    }
   ],
   "source": [
    "import numpy as np\n",
    "import pandas as pd\n",
    "\n",
    "\n",
    "from scipy import stats"
   ]
  },
  {
   "cell_type": "markdown",
   "metadata": {
    "ExecuteTime": {
     "end_time": "2021-03-09T18:42:05.931886Z",
     "start_time": "2021-03-09T18:42:05.924923Z"
    }
   },
   "source": [
    "# Poisson distribution\n",
    "\n",
    " \n",
    "Probability mass function\n",
    "\n",
    "\n",
    "The Poisson distribution is popular for modeling the number of times\n",
    "an event occurs in an interval of time or space.\n",
    "\n",
    "A discrete random variable X is said to have a Poisson distribution with\n",
    "\n",
    "parameter λ > 0 if for k = 0, 1, 2, ..., the probability mass function of X is given by\n",
    "\n",
    "\n",
    "$$\n",
    "\n",
    "f(k;\\lambda) = Pr(X=k) = \\frac{\\lambda^k e^{-\\lambda}}{k!}\n",
    "\n",
    "$$\n",
    "\n",
    "```\n",
    "\n",
    "f(k;lambda) =  lambda^k  e^-k\n",
    "               ----------------\n",
    "                   k!\n",
    "                   \n",
    "where\n",
    "\n",
    "e is Euler's number (e = 2.71828...)\n",
    "k is the number of occurrences\n",
    "k! is the factorial of k.\n",
    "\n",
    "The positive real number λ is equal to the expected value of X and also to its variance[3]\n",
    "\n",
    "λ = E(X) = Var(X)\n",
    "\n",
    "```"
   ]
  },
  {
   "cell_type": "markdown",
   "metadata": {},
   "source": [
    "# Quesition 1:\n",
    "\n",
    " Infection rates at a hospital above a 1 infection per 100 person-days at risk are considered high.\n",
    " \n",
    " \n",
    " A hospital had 10 infections over the last 1787 person-days at risk.\n",
    " \n",
    " Give the p-value of the correct one-sided test of whether the hospital is below the standard.\n",
    " \n",
    "```\n",
    "Null (H0): 1 infection per person-days\n",
    "Alternative (H1): >1 infection per person-days\n",
    "```"
   ]
  },
  {
   "cell_type": "code",
   "execution_count": 47,
   "metadata": {
    "ExecuteTime": {
     "end_time": "2021-03-09T20:19:39.853976Z",
     "start_time": "2021-03-09T20:19:39.848308Z"
    }
   },
   "outputs": [
    {
     "name": "stdout",
     "output_type": "stream",
     "text": [
      "p-value = 0.032371526287371055 for one-sided test\n"
     ]
    }
   ],
   "source": [
    "k  = 10 # infections\n",
    "mu = (1/100)*1787 # theoritical\n",
    "\n",
    "pval = stats.poisson.cdf(k=k,mu=mu)\n",
    "print(f'p-value = {pval} for one-sided test')"
   ]
  },
  {
   "cell_type": "code",
   "execution_count": null,
   "metadata": {},
   "outputs": [],
   "source": []
  }
 ],
 "metadata": {
  "kernelspec": {
   "display_name": "Python (dataSc)",
   "language": "python",
   "name": "datasc"
  },
  "language_info": {
   "codemirror_mode": {
    "name": "ipython",
    "version": 3
   },
   "file_extension": ".py",
   "mimetype": "text/x-python",
   "name": "python",
   "nbconvert_exporter": "python",
   "pygments_lexer": "ipython3",
   "version": "3.7.7"
  },
  "toc": {
   "base_numbering": 1,
   "nav_menu": {},
   "number_sections": true,
   "sideBar": true,
   "skip_h1_title": false,
   "title_cell": "Table of Contents",
   "title_sidebar": "Contents",
   "toc_cell": true,
   "toc_position": {},
   "toc_section_display": true,
   "toc_window_display": false
  }
 },
 "nbformat": 4,
 "nbformat_minor": 4
}
