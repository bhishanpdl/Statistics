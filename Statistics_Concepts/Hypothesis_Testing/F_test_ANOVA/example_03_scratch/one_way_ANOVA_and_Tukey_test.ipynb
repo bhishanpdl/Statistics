{
 "cells": [
  {
   "cell_type": "markdown",
   "metadata": {
    "toc": "true"
   },
   "source": [
    "# Table of Contents\n",
    " <p><div class=\"lev1 toc-item\"><a href=\"#Using-One-way-ANOVA-and-Tukey's-test-to-compare-data-sets\" data-toc-modified-id=\"Using-One-way-ANOVA-and-Tukey's-test-to-compare-data-sets-1\"><span class=\"toc-item-num\">1&nbsp;&nbsp;</span>Using One-way ANOVA and Tukey's test to compare data sets</a></div><div class=\"lev1 toc-item\"><a href=\"#Tukey's-range-test\" data-toc-modified-id=\"Tukey's-range-test-2\"><span class=\"toc-item-num\">2&nbsp;&nbsp;</span>Tukey's range test</a></div>"
   ]
  },
  {
   "cell_type": "code",
   "execution_count": 7,
   "metadata": {
    "collapsed": false
   },
   "outputs": [],
   "source": [
    "import numpy as np\n",
    "import pandas as pd\n",
    "\n",
    "import scipy.stats as stats\n",
    "import statsmodels.api as sm\n",
    "import statsmodels.formula.api as smf"
   ]
  },
  {
   "cell_type": "markdown",
   "metadata": {},
   "source": [
    "# Using One-way ANOVA and Tukey's test to compare data sets\n",
    "\n",
    "http://cleverowl.uk/2015/07/01/using-one-way-anova-and-tukeys-test-to-compare-data-sets/"
   ]
  },
  {
   "cell_type": "code",
   "execution_count": 2,
   "metadata": {
    "collapsed": false
   },
   "outputs": [
    {
     "data": {
      "text/html": [
       "<div>\n",
       "<style>\n",
       "    .dataframe thead tr:only-child th {\n",
       "        text-align: right;\n",
       "    }\n",
       "\n",
       "    .dataframe thead th {\n",
       "        text-align: left;\n",
       "    }\n",
       "\n",
       "    .dataframe tbody tr th {\n",
       "        vertical-align: top;\n",
       "    }\n",
       "</style>\n",
       "<table border=\"1\" class=\"dataframe\">\n",
       "  <thead>\n",
       "    <tr style=\"text-align: right;\">\n",
       "      <th></th>\n",
       "      <th>Archer</th>\n",
       "      <th>Score</th>\n",
       "    </tr>\n",
       "  </thead>\n",
       "  <tbody>\n",
       "    <tr>\n",
       "      <th>0</th>\n",
       "      <td>Pat</td>\n",
       "      <td>5</td>\n",
       "    </tr>\n",
       "    <tr>\n",
       "      <th>1</th>\n",
       "      <td>Pat</td>\n",
       "      <td>4</td>\n",
       "    </tr>\n",
       "    <tr>\n",
       "      <th>2</th>\n",
       "      <td>Pat</td>\n",
       "      <td>4</td>\n",
       "    </tr>\n",
       "    <tr>\n",
       "      <th>3</th>\n",
       "      <td>Pat</td>\n",
       "      <td>3</td>\n",
       "    </tr>\n",
       "    <tr>\n",
       "      <th>4</th>\n",
       "      <td>Pat</td>\n",
       "      <td>9</td>\n",
       "    </tr>\n",
       "    <tr>\n",
       "      <th>5</th>\n",
       "      <td>Pat</td>\n",
       "      <td>4</td>\n",
       "    </tr>\n",
       "    <tr>\n",
       "      <th>6</th>\n",
       "      <td>Jack</td>\n",
       "      <td>4</td>\n",
       "    </tr>\n",
       "    <tr>\n",
       "      <th>7</th>\n",
       "      <td>Jack</td>\n",
       "      <td>8</td>\n",
       "    </tr>\n",
       "    <tr>\n",
       "      <th>8</th>\n",
       "      <td>Jack</td>\n",
       "      <td>7</td>\n",
       "    </tr>\n",
       "    <tr>\n",
       "      <th>9</th>\n",
       "      <td>Jack</td>\n",
       "      <td>5</td>\n",
       "    </tr>\n",
       "    <tr>\n",
       "      <th>10</th>\n",
       "      <td>Jack</td>\n",
       "      <td>1</td>\n",
       "    </tr>\n",
       "    <tr>\n",
       "      <th>11</th>\n",
       "      <td>Jack</td>\n",
       "      <td>5</td>\n",
       "    </tr>\n",
       "    <tr>\n",
       "      <th>12</th>\n",
       "      <td>Alex</td>\n",
       "      <td>9</td>\n",
       "    </tr>\n",
       "    <tr>\n",
       "      <th>13</th>\n",
       "      <td>Alex</td>\n",
       "      <td>8</td>\n",
       "    </tr>\n",
       "    <tr>\n",
       "      <th>14</th>\n",
       "      <td>Alex</td>\n",
       "      <td>8</td>\n",
       "    </tr>\n",
       "    <tr>\n",
       "      <th>15</th>\n",
       "      <td>Alex</td>\n",
       "      <td>10</td>\n",
       "    </tr>\n",
       "    <tr>\n",
       "      <th>16</th>\n",
       "      <td>Alex</td>\n",
       "      <td>5</td>\n",
       "    </tr>\n",
       "    <tr>\n",
       "      <th>17</th>\n",
       "      <td>Alex</td>\n",
       "      <td>10</td>\n",
       "    </tr>\n",
       "  </tbody>\n",
       "</table>\n",
       "</div>"
      ],
      "text/plain": [
       "   Archer  Score\n",
       "0     Pat      5\n",
       "1     Pat      4\n",
       "2     Pat      4\n",
       "3     Pat      3\n",
       "4     Pat      9\n",
       "5     Pat      4\n",
       "6    Jack      4\n",
       "7    Jack      8\n",
       "8    Jack      7\n",
       "9    Jack      5\n",
       "10   Jack      1\n",
       "11   Jack      5\n",
       "12   Alex      9\n",
       "13   Alex      8\n",
       "14   Alex      8\n",
       "15   Alex     10\n",
       "16   Alex      5\n",
       "17   Alex     10"
      ]
     },
     "execution_count": 2,
     "metadata": {},
     "output_type": "execute_result"
    }
   ],
   "source": [
    "df = pd.DataFrame({'Archer': ['Pat']*6 + ['Jack']*6 + ['Alex']*6,\n",
    "                  'Score': [5,4,4,3,9,4,4,8,7,5,1,5,9,8,8,10,5,10]})\n",
    "df"
   ]
  },
  {
   "cell_type": "code",
   "execution_count": 4,
   "metadata": {
    "collapsed": false
   },
   "outputs": [
    {
     "name": "stdout",
     "output_type": "stream",
     "text": [
      "One-way ANOVA\n",
      "=============\n",
      "F value: 5.0\n",
      "P value: 0.0216837493201 \n",
      "\n"
     ]
    }
   ],
   "source": [
    "f, p = stats.f_oneway(df[df['Archer'] == 'Pat'].Score,\n",
    "                      df[df['Archer'] == 'Jack'].Score,\n",
    "                      df[df['Archer'] == 'Alex'].Score)\n",
    " \n",
    "print ('One-way ANOVA')\n",
    "print ('=============')\n",
    " \n",
    "print ('F value:', f)\n",
    "print ('P value:', p, '\\n')"
   ]
  },
  {
   "cell_type": "markdown",
   "metadata": {},
   "source": [
    "As 0.02≤0.05 we reject the null hypothesis and we conclude that at least one of the means is different from at least one other population mean (i.e. not all archers perform equally).\n",
    "\n",
    "The thing with one-way ANOVA is that although we now know that there is difference in the performance of the archers, we do not know know exactly who performs best or worst.\n",
    "\n",
    "This is why the analysis of variance is often followed by a post hoc analysis."
   ]
  },
  {
   "cell_type": "markdown",
   "metadata": {},
   "source": [
    "# Tukey's range test\n",
    "Tukey's range test, named after the American mathematician John Tukey, is a common method used as post hoc analysis after one-way ANOVA. This test compares all possible pairs and we can use it to precisely identify difference between two means that's greater than the expected standard error.\n",
    "\n",
    "The statsmodels library provides an easy to use implementation of Tukey's range test. First, we have to modify our code to import the required classes:"
   ]
  },
  {
   "cell_type": "code",
   "execution_count": 5,
   "metadata": {
    "collapsed": true
   },
   "outputs": [],
   "source": [
    "from statsmodels.stats.multicomp import pairwise_tukeyhsd\n",
    "from statsmodels.stats.multicomp import MultiComparison"
   ]
  },
  {
   "cell_type": "code",
   "execution_count": 6,
   "metadata": {
    "collapsed": false
   },
   "outputs": [
    {
     "name": "stdout",
     "output_type": "stream",
     "text": [
      "Multiple Comparison of Means - Tukey HSD,FWER=0.05\n",
      "=============================================\n",
      "group1 group2 meandiff  lower   upper  reject\n",
      "---------------------------------------------\n",
      " Alex   Jack  -3.3333  -6.5755 -0.0911  True \n",
      " Alex   Pat     -3.5   -6.7422 -0.2578  True \n",
      " Jack   Pat   -0.1667  -3.4089  3.0755 False \n",
      "---------------------------------------------\n",
      "['Alex' 'Jack' 'Pat']\n"
     ]
    }
   ],
   "source": [
    "mc = MultiComparison(df['Score'], df['Archer'])\n",
    "result = mc.tukeyhsd()\n",
    " \n",
    "print(result)\n",
    "print(mc.groupsunique)"
   ]
  },
  {
   "cell_type": "markdown",
   "metadata": {},
   "source": [
    "Note the last line in the snippet. We need this to see the group IDs assigned to the archers, as the algorithm won't necessarily follow the group order from the array. \n",
    "\n",
    "Also note that the tukeyhsd() function has a parameter named alpha, \n",
    "which we are not setting explicitly as we are happy with its default value (α=0.05).\n",
    "\n",
    "The results above reveal that Alex (group 0) significantly differs from the other two archers. \n",
    "\n",
    "The third column tells us that there is significant evidence to reject the null hypothesis\n",
    "for the groups Alex-Jack (0-1) and Alex-Pat(0-2).\n",
    "\n",
    "The test also shows the difference between the group means (the meandiff column).\n",
    "\n",
    "μJack − μAlex = −3.3333  \n",
    "μPat − μAlex = −3.5  \n",
    "\n",
    "This leads to the conclusion that Alex is the best archer in the group.\n",
    "\n",
    "a = alex j = jack p = pat\n",
    "\n",
    "NOTE: muAlex - muJack = -3.33 is WRONG\n",
    "      muJack - muAlex = -3.33 Read it wrong way.\n",
    "      \n",
    "      \n",
    "a > j   IF meandiff is negative first group is better.\n",
    "a > p   \n",
    "j > p  \n",
    "\n",
    "a > j > p ==> a is the best."
   ]
  },
  {
   "cell_type": "code",
   "execution_count": null,
   "metadata": {
    "collapsed": true
   },
   "outputs": [],
   "source": []
  }
 ],
 "metadata": {
  "kernelspec": {
   "display_name": "Python 3",
   "language": "python",
   "name": "python3"
  },
  "language_info": {
   "codemirror_mode": {
    "name": "ipython",
    "version": 3
   },
   "file_extension": ".py",
   "mimetype": "text/x-python",
   "name": "python",
   "nbconvert_exporter": "python",
   "pygments_lexer": "ipython3",
   "version": "3.5.2"
  },
  "toc": {
   "colors": {
    "hover_highlight": "#DAA520",
    "navigate_num": "#000000",
    "navigate_text": "#333333",
    "running_highlight": "#FF0000",
    "selected_highlight": "#FFD700",
    "sidebar_border": "#EEEEEE",
    "wrapper_background": "#FFFFFF"
   },
   "moveMenuLeft": true,
   "nav_menu": {
    "height": "63px",
    "width": "252px"
   },
   "navigate_menu": true,
   "number_sections": true,
   "sideBar": true,
   "threshold": 4,
   "toc_cell": true,
   "toc_section_display": "block",
   "toc_window_display": true,
   "widenNotebook": false
  }
 },
 "nbformat": 4,
 "nbformat_minor": 2
}
