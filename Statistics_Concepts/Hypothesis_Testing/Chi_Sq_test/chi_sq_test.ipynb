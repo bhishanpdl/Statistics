{
 "cells": [
  {
   "cell_type": "markdown",
   "metadata": {
    "toc": true
   },
   "source": [
    "<h1>Table of Contents<span class=\"tocSkip\"></span></h1>\n",
    "<div class=\"toc\"><ul class=\"toc-item\"><li><span><a href=\"#Chi-Square-Test\" data-toc-modified-id=\"Chi-Square-Test-1\"><span class=\"toc-item-num\">1&nbsp;&nbsp;</span>Chi-Square Test</a></span></li><li><span><a href=\"#Chi-Squared-from-Scratch\" data-toc-modified-id=\"Chi-Squared-from-Scratch-2\"><span class=\"toc-item-num\">2&nbsp;&nbsp;</span>Chi-Squared from Scratch</a></span></li></ul></div>"
   ]
  },
  {
   "cell_type": "markdown",
   "metadata": {},
   "source": [
    "# Chi-Square Test\n",
    "Ref: https://machinelearningmastery.com/chi-squared-test-for-machine-learning/\n",
    "\n",
    "\n",
    "$\\chi_{c}^{2}=\\sum \\frac{\\left(O_{i}-E_{i}\\right)^{2}}{E_{i}}$"
   ]
  },
  {
   "cell_type": "code",
   "execution_count": 1,
   "metadata": {
    "ExecuteTime": {
     "end_time": "2020-09-24T15:42:04.725544Z",
     "start_time": "2020-09-24T15:42:02.987946Z"
    }
   },
   "outputs": [
    {
     "name": "stdout",
     "output_type": "stream",
     "text": [
      "statsmodels 0.12.0\n",
      "seaborn     0.11.0\n",
      "numpy       1.18.4\n",
      "autopep8    1.5.2\n",
      "pandas      1.1.0\n",
      "scipy       1.4.1\n",
      "json        2.0.9\n",
      "\n"
     ]
    }
   ],
   "source": [
    "import numpy as np\n",
    "import pandas as pd\n",
    "import seaborn as sns\n",
    "import os,sys,time\n",
    "import scipy\n",
    "import statsmodels\n",
    "\n",
    "from scipy import stats\n",
    "from scipy.stats import ttest_1samp\n",
    "from scipy.stats import ttest_ind # independent means two samples.\n",
    "from statsmodels.stats import weightstats as stests # stests.ztest\n",
    "\n",
    "SEED = 100\n",
    "pd.set_option('max_columns',100)\n",
    "pd.set_option('plotting.backend','plotly') # matplotlib, bokeh, altair, plotly\n",
    "%load_ext watermark\n",
    "%watermark -iv"
   ]
  },
  {
   "cell_type": "code",
   "execution_count": 10,
   "metadata": {
    "ExecuteTime": {
     "end_time": "2020-09-24T15:45:24.425130Z",
     "start_time": "2020-09-24T15:45:24.411138Z"
    }
   },
   "outputs": [
    {
     "name": "stdout",
     "output_type": "stream",
     "text": [
      "contingency table=\n",
      " [[10, 20, 30], [6, 9, 17]]\n",
      "dof=2\n",
      "expected values=\n",
      " [[10.43478261 18.91304348 30.65217391]\n",
      " [ 5.56521739 10.08695652 16.34782609]]\n",
      "\n",
      "probability=0.950, critical=5.991, stat=0.272\n",
      "\n",
      "Independent (fail to reject H0)\n",
      "\n",
      "significance=0.050, p=0.873\n",
      "Independent (fail to reject H0)\n"
     ]
    }
   ],
   "source": [
    "# contingency table\n",
    "table = [\t[10, 20, 30],\n",
    "          [6,  9,  17]]\n",
    "print('contingency table=\\n', table)\n",
    "\n",
    "\n",
    "stat, p, dof, expected = stats.chi2_contingency(table)\n",
    "print('dof=%d' % dof)\n",
    "print('expected values=\\n',expected)\n",
    "print()\n",
    "\n",
    "# interpret test-statistic\n",
    "alpha = 0.05\n",
    "prob = 0.95\n",
    "critical = stats.chi2.ppf(prob, dof)\n",
    "print('probability=%.3f, critical=%.3f, stat=%.3f' % (prob, critical, stat))\n",
    "print()\n",
    "\n",
    "if abs(stat) >= critical:\n",
    "    print('Dependent (reject H0)')\n",
    "else:\n",
    "    print('Independent (fail to reject H0)')\n",
    "print()  \n",
    "  \n",
    "# interpret p-value\n",
    "alpha = 1.0 - prob\n",
    "print('significance=%.3f, p=%.3f' % (alpha, p))\n",
    "if p <= alpha:\n",
    "    print('Dependent (reject H0)')\n",
    "else:\n",
    "    print('Independent (fail to reject H0)')"
   ]
  },
  {
   "cell_type": "code",
   "execution_count": null,
   "metadata": {},
   "outputs": [],
   "source": []
  }
 ],
 "metadata": {
  "kernelspec": {
   "display_name": "Python (dataSc)",
   "language": "python",
   "name": "datasc"
  },
  "language_info": {
   "codemirror_mode": {
    "name": "ipython",
    "version": 3
   },
   "file_extension": ".py",
   "mimetype": "text/x-python",
   "name": "python",
   "nbconvert_exporter": "python",
   "pygments_lexer": "ipython3",
   "version": "3.7.7"
  },
  "toc": {
   "base_numbering": 1,
   "nav_menu": {},
   "number_sections": true,
   "sideBar": true,
   "skip_h1_title": false,
   "title_cell": "Table of Contents",
   "title_sidebar": "Contents",
   "toc_cell": true,
   "toc_position": {},
   "toc_section_display": true,
   "toc_window_display": true
  },
  "varInspector": {
   "cols": {
    "lenName": 16,
    "lenType": 16,
    "lenVar": 40
   },
   "kernels_config": {
    "python": {
     "delete_cmd_postfix": "",
     "delete_cmd_prefix": "del ",
     "library": "var_list.py",
     "varRefreshCmd": "print(var_dic_list())"
    },
    "r": {
     "delete_cmd_postfix": ") ",
     "delete_cmd_prefix": "rm(",
     "library": "var_list.r",
     "varRefreshCmd": "cat(var_dic_list()) "
    }
   },
   "types_to_exclude": [
    "module",
    "function",
    "builtin_function_or_method",
    "instance",
    "_Feature"
   ],
   "window_display": false
  }
 },
 "nbformat": 4,
 "nbformat_minor": 4
}
