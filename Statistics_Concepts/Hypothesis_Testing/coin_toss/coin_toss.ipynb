{
 "cells": [
  {
   "cell_type": "markdown",
   "metadata": {
    "toc": true
   },
   "source": [
    "<h1>Table of Contents<span class=\"tocSkip\"></span></h1>\n",
    "<div class=\"toc\"><ul class=\"toc-item\"><li><span><a href=\"#Coin-toss-hypothesis-tesing\" data-toc-modified-id=\"Coin-toss-hypothesis-tesing-1\"><span class=\"toc-item-num\">1&nbsp;&nbsp;</span>Coin toss hypothesis tesing</a></span></li></ul></div>"
   ]
  },
  {
   "cell_type": "markdown",
   "metadata": {
    "ExecuteTime": {
     "end_time": "2021-03-13T00:40:03.244259Z",
     "start_time": "2021-03-13T00:40:03.219673Z"
    }
   },
   "source": [
    "# Coin toss hypothesis tesing\n",
    "\n",
    "- https://www.stt.msu.edu/users/makagonk/200/Week5/Chapter%2020.pdf\n",
    "\n",
    "Suppose we tossed a coin 100 times and we have obtained 38 Heads and 62 Tails.\n",
    "Is the coin biased toward tails?\n",
    "\n",
    "- H1 is the research hypothesis we want to test. e.g. we say coin is biased.\n",
    "\n",
    "![](images/coin_toss_01.png)\n",
    "![](images/coin_toss_02.png)\n",
    "![](images/coin_toss_03.png)\n",
    "![](images/p_values.png)"
   ]
  },
  {
   "cell_type": "code",
   "execution_count": 2,
   "metadata": {
    "ExecuteTime": {
     "end_time": "2021-03-13T00:40:21.560910Z",
     "start_time": "2021-03-13T00:40:20.704247Z"
    }
   },
   "outputs": [
    {
     "name": "stderr",
     "output_type": "stream",
     "text": [
      "/Users/poudel/opt/miniconda3/envs/dataSc/lib/python3.7/importlib/_bootstrap.py:219: RuntimeWarning: numpy.ufunc size changed, may indicate binary incompatibility. Expected 192 from C header, got 216 from PyObject\n",
      "  return f(*args, **kwds)\n",
      "/Users/poudel/opt/miniconda3/envs/dataSc/lib/python3.7/importlib/_bootstrap.py:219: RuntimeWarning: numpy.ufunc size changed, may indicate binary incompatibility. Expected 192 from C header, got 216 from PyObject\n",
      "  return f(*args, **kwds)\n",
      "/Users/poudel/opt/miniconda3/envs/dataSc/lib/python3.7/importlib/_bootstrap.py:219: RuntimeWarning: numpy.ufunc size changed, may indicate binary incompatibility. Expected 192 from C header, got 216 from PyObject\n",
      "  return f(*args, **kwds)\n"
     ]
    }
   ],
   "source": [
    "import numpy as np\n",
    "import pandas as pd\n",
    "import os,sys,time\n",
    "\n",
    "from scipy import stats"
   ]
  },
  {
   "cell_type": "code",
   "execution_count": 3,
   "metadata": {
    "ExecuteTime": {
     "end_time": "2021-03-13T00:44:01.916241Z",
     "start_time": "2021-03-13T00:44:01.910521Z"
    }
   },
   "outputs": [],
   "source": [
    "p = 0.5\n",
    "q = 1-p \n",
    "h = 62\n",
    "n = 100\n",
    "p_hat = float(h)/n"
   ]
  },
  {
   "cell_type": "code",
   "execution_count": 14,
   "metadata": {
    "ExecuteTime": {
     "end_time": "2021-03-13T00:56:58.205543Z",
     "start_time": "2021-03-13T00:56:58.200534Z"
    }
   },
   "outputs": [
    {
     "name": "stdout",
     "output_type": "stream",
     "text": [
      "z_score = -2.4\n"
     ]
    }
   ],
   "source": [
    "std = np.sqrt(p*q/n)\n",
    "z_score = (p-p_hat)/std\n",
    "\n",
    "print(f'z_score = {z_score}') # negative means left side of curve."
   ]
  },
  {
   "cell_type": "code",
   "execution_count": 11,
   "metadata": {
    "ExecuteTime": {
     "end_time": "2021-03-13T00:53:04.046302Z",
     "start_time": "2021-03-13T00:53:04.040785Z"
    }
   },
   "outputs": [
    {
     "name": "stdout",
     "output_type": "stream",
     "text": [
      "p_value = 0.0082\n"
     ]
    }
   ],
   "source": [
    "p_value = stats.norm.cdf(z_score) # one-sided\n",
    "print(f\"p_value = {p_value:.4f}\")"
   ]
  },
  {
   "cell_type": "code",
   "execution_count": 13,
   "metadata": {
    "ExecuteTime": {
     "end_time": "2021-03-13T00:56:01.856705Z",
     "start_time": "2021-03-13T00:56:01.850902Z"
    }
   },
   "outputs": [
    {
     "name": "stdout",
     "output_type": "stream",
     "text": [
      "We reject Null hypothesis that the coin is unbiased.\n",
      "The coin is biased towards the tail.\n"
     ]
    }
   ],
   "source": [
    "alpha = 0.01 # 1% significance level alpha  (or, 99% confidence level gamma)\n",
    "\n",
    "if p_value < alpha:\n",
    "    print('We reject Null hypothesis that the coin is unbiased.')\n",
    "    print('The coin is biased towards the tail.')\n",
    "else:\n",
    "    print('We fail to reject Null Hypothesis')\n",
    "    print('We do not have sufficient evidence to say that coin is biased towards tail.')"
   ]
  },
  {
   "cell_type": "code",
   "execution_count": null,
   "metadata": {},
   "outputs": [],
   "source": []
  }
 ],
 "metadata": {
  "kernelspec": {
   "display_name": "Python (dataSc)",
   "language": "python",
   "name": "datasc"
  },
  "language_info": {
   "codemirror_mode": {
    "name": "ipython",
    "version": 3
   },
   "file_extension": ".py",
   "mimetype": "text/x-python",
   "name": "python",
   "nbconvert_exporter": "python",
   "pygments_lexer": "ipython3",
   "version": "3.7.7"
  },
  "toc": {
   "base_numbering": 1,
   "nav_menu": {},
   "number_sections": true,
   "sideBar": true,
   "skip_h1_title": false,
   "title_cell": "Table of Contents",
   "title_sidebar": "Contents",
   "toc_cell": true,
   "toc_position": {},
   "toc_section_display": true,
   "toc_window_display": false
  }
 },
 "nbformat": 4,
 "nbformat_minor": 4
}
