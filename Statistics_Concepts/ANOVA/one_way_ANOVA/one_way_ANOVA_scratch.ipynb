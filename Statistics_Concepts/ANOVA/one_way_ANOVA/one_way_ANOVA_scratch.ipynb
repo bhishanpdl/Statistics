{
 "cells": [
  {
   "cell_type": "markdown",
   "metadata": {
    "toc": "true"
   },
   "source": [
    "# Table of Contents\n",
    " <p><div class=\"lev1 toc-item\"><a href=\"#ANOVA\" data-toc-modified-id=\"ANOVA-1\"><span class=\"toc-item-num\">1&nbsp;&nbsp;</span>ANOVA</a></div><div class=\"lev1 toc-item\"><a href=\"#Null-and-Alternative-Hypothesis\" data-toc-modified-id=\"Null-and-Alternative-Hypothesis-2\"><span class=\"toc-item-num\">2&nbsp;&nbsp;</span>Null and Alternative Hypothesis</a></div><div class=\"lev1 toc-item\"><a href=\"#ANOVA-From-scratch\" data-toc-modified-id=\"ANOVA-From-scratch-3\"><span class=\"toc-item-num\">3&nbsp;&nbsp;</span>ANOVA From scratch</a></div><div class=\"lev1 toc-item\"><a href=\"#ANOVA-using-scipy.stats\" data-toc-modified-id=\"ANOVA-using-scipy.stats-4\"><span class=\"toc-item-num\">4&nbsp;&nbsp;</span>ANOVA using scipy.stats</a></div><div class=\"lev2 toc-item\"><a href=\"#The-Effect-Size\" data-toc-modified-id=\"The-Effect-Size-41\"><span class=\"toc-item-num\">4.1&nbsp;&nbsp;</span>The Effect Size</a></div><div class=\"lev1 toc-item\"><a href=\"#ANOVA-Using-statsmodels\" data-toc-modified-id=\"ANOVA-Using-statsmodels-5\"><span class=\"toc-item-num\">5&nbsp;&nbsp;</span>ANOVA Using statsmodels</a></div><div class=\"lev2 toc-item\"><a href=\"#boxplot\" data-toc-modified-id=\"boxplot-51\"><span class=\"toc-item-num\">5.1&nbsp;&nbsp;</span>boxplot</a></div><div class=\"lev2 toc-item\"><a href=\"#QQ-plot-of-Residuals\" data-toc-modified-id=\"QQ-plot-of-Residuals-52\"><span class=\"toc-item-num\">5.2&nbsp;&nbsp;</span>QQ plot of Residuals</a></div><div class=\"lev1 toc-item\"><a href=\"#Assumption-Checks/Model-Diagnostics\" data-toc-modified-id=\"Assumption-Checks/Model-Diagnostics-6\"><span class=\"toc-item-num\">6&nbsp;&nbsp;</span>Assumption Checks/Model Diagnostics</a></div><div class=\"lev2 toc-item\"><a href=\"#Assumption:-Homogeneity-of-Variance\" data-toc-modified-id=\"Assumption:-Homogeneity-of-Variance-61\"><span class=\"toc-item-num\">6.1&nbsp;&nbsp;</span>Assumption: Homogeneity of Variance</a></div><div class=\"lev2 toc-item\"><a href=\"#Assumption:-Normality\" data-toc-modified-id=\"Assumption:-Normality-62\"><span class=\"toc-item-num\">6.2&nbsp;&nbsp;</span>Assumption: Normality</a></div><div class=\"lev1 toc-item\"><a href=\"#Post-hoc-Testing\" data-toc-modified-id=\"Post-hoc-Testing-7\"><span class=\"toc-item-num\">7&nbsp;&nbsp;</span>Post-hoc Testing</a></div><div class=\"lev2 toc-item\"><a href=\"#TUKEY’S-HSD-POST-HOC-COMPARISON\" data-toc-modified-id=\"TUKEY’S-HSD-POST-HOC-COMPARISON-71\"><span class=\"toc-item-num\">7.1&nbsp;&nbsp;</span>TUKEY’S HSD POST-HOC COMPARISON</a></div><div class=\"lev2 toc-item\"><a href=\"#BONFERRONI-CORRECTION-POST-HOC-COMPARISON\" data-toc-modified-id=\"BONFERRONI-CORRECTION-POST-HOC-COMPARISON-72\"><span class=\"toc-item-num\">7.2&nbsp;&nbsp;</span>BONFERRONI CORRECTION POST-HOC COMPARISON</a></div><div class=\"lev2 toc-item\"><a href=\"#ANOVA-Results-Interpretation\" data-toc-modified-id=\"ANOVA-Results-Interpretation-73\"><span class=\"toc-item-num\">7.3&nbsp;&nbsp;</span>ANOVA Results Interpretation</a></div>"
   ]
  },
  {
   "cell_type": "markdown",
   "metadata": {},
   "source": [
    "# ANOVA\n",
    "\n",
    "To test independence of two samples we use Welch's t-test.  \n",
    "But for more than two samples we use ANOVA.\n",
    "\n",
    "\n",
    "ANOVA Assumptions\n",
    "We'll be looking at SAT scores for five different districts in New York City. Specifically, we'll be using \"scores.csv\" from Kaggle. First let's get the assumptions out of the way:\n",
    "\n",
    "- The dependent variable (SAT scores) should be continuous.\n",
    "- The independent variables (districts) should be two or more categorical groups.\n",
    "- There must be different participants in each group with no participant being in more than one group. In our case, each school cannot be in more than one district.\n",
    "- The dependent variable should be approximately normally distributed for each category.\n",
    "- Variances of each group are approximately equal."
   ]
  },
  {
   "cell_type": "code",
   "execution_count": 65,
   "metadata": {
    "collapsed": false
   },
   "outputs": [],
   "source": [
    "import numpy as np\n",
    "import pandas as pd\n",
    "\n",
    "import scipy.stats as stats\n",
    "import statsmodels.api as sm\n",
    "import statsmodels.formula.api as smf\n",
    "\n",
    "import matplotlib\n",
    "import matplotlib.pyplot as plt\n",
    "plt.rcParams[\"figure.figsize\"] = [10, 8]\n",
    "plt.style.use('fivethirtyeight')\n",
    "%matplotlib inline\n",
    "\n",
    "import seaborn as sns\n",
    "sns.set(color_codes=True)"
   ]
  },
  {
   "cell_type": "code",
   "execution_count": 55,
   "metadata": {
    "collapsed": false
   },
   "outputs": [
    {
     "data": {
      "text/html": [
       "<div>\n",
       "<style>\n",
       "    .dataframe thead tr:only-child th {\n",
       "        text-align: right;\n",
       "    }\n",
       "\n",
       "    .dataframe thead th {\n",
       "        text-align: left;\n",
       "    }\n",
       "\n",
       "    .dataframe tbody tr th {\n",
       "        vertical-align: top;\n",
       "    }\n",
       "</style>\n",
       "<table border=\"1\" class=\"dataframe\">\n",
       "  <thead>\n",
       "    <tr style=\"text-align: right;\">\n",
       "      <th></th>\n",
       "      <th>a</th>\n",
       "      <th>b</th>\n",
       "      <th>c</th>\n",
       "    </tr>\n",
       "  </thead>\n",
       "  <tbody>\n",
       "    <tr>\n",
       "      <th>0</th>\n",
       "      <td>1</td>\n",
       "      <td>2</td>\n",
       "      <td>2</td>\n",
       "    </tr>\n",
       "    <tr>\n",
       "      <th>1</th>\n",
       "      <td>2</td>\n",
       "      <td>4</td>\n",
       "      <td>3</td>\n",
       "    </tr>\n",
       "    <tr>\n",
       "      <th>2</th>\n",
       "      <td>5</td>\n",
       "      <td>2</td>\n",
       "      <td>4</td>\n",
       "    </tr>\n",
       "  </tbody>\n",
       "</table>\n",
       "</div>"
      ],
      "text/plain": [
       "   a  b  c\n",
       "0  1  2  2\n",
       "1  2  4  3\n",
       "2  5  2  4"
      ]
     },
     "execution_count": 55,
     "metadata": {},
     "output_type": "execute_result"
    }
   ],
   "source": [
    "df = pd.DataFrame({'a':[1,2,5],\n",
    "                   'b': [2,4,2],\n",
    "                   'c': [2,3,4]})\n",
    "df"
   ]
  },
  {
   "cell_type": "markdown",
   "metadata": {},
   "source": [
    "# Null and Alternative Hypothesis"
   ]
  },
  {
   "cell_type": "markdown",
   "metadata": {},
   "source": [
    "Null Hypothesis:  \n",
    "There are no significant differences between the groups' mean\n",
    "$$\n",
    "H _ { 0 } : \\mu _ { 1 } = \\mu _ { 2 } = \\mu _ { 3 }\n",
    "$$\n",
    "\n",
    "\n",
    "Alternative Hypothesis:  \n",
    "There is a significant difference between at least two groups' means  \n",
    "$$\n",
    "H _ { a } : \\mu _ { i } \\neq \\mu _ { j } \\text{ for at least one i or j}\n",
    "$$"
   ]
  },
  {
   "cell_type": "markdown",
   "metadata": {},
   "source": [
    "# ANOVA From scratch\n",
    "https://youtu.be/q48uKU_KWas\n",
    "\n",
    "- https://www.danielsoper.com/statcalc/calculator.aspx?id=4\n",
    "- https://mathcracker.com/f-critical-values.php#results\n",
    "\n",
    "df_numerator = 2, df_denom = 6, alpha = 0.05 gives F_crit = 5.14\n",
    "\n",
    "http://socr.ucla.edu/Applets.dir/F_Table.html  (look at alpha = 0.05 not 0.01)"
   ]
  },
  {
   "cell_type": "code",
   "execution_count": 38,
   "metadata": {
    "collapsed": false
   },
   "outputs": [
    {
     "data": {
      "text/plain": [
       "5.1432528497847176"
      ]
     },
     "execution_count": 38,
     "metadata": {},
     "output_type": "execute_result"
    }
   ],
   "source": [
    "import scipy\n",
    "\n",
    "F_crit = scipy.stats.f.ppf(q=1-0.05, dfn=2, dfd=6) # dfNumerator=2 and dfDenominator=6\n",
    "F_crit"
   ]
  },
  {
   "cell_type": "markdown",
   "metadata": {},
   "source": [
    "![](f_table_youtube.png)"
   ]
  },
  {
   "cell_type": "code",
   "execution_count": 33,
   "metadata": {
    "collapsed": false
   },
   "outputs": [
    {
     "data": {
      "text/plain": [
       "(2, 6, 8)"
      ]
     },
     "execution_count": 33,
     "metadata": {},
     "output_type": "execute_result"
    }
   ],
   "source": [
    "k = df.shape[1]\n",
    "N = df.size\n",
    "\n",
    "DFb = k - 1\n",
    "DFw = N - k\n",
    "DFt = N - 1\n",
    "\n",
    "DFb,DFw, DFt"
   ]
  },
  {
   "cell_type": "code",
   "execution_count": 20,
   "metadata": {
    "collapsed": false
   },
   "outputs": [
    {
     "data": {
      "text/plain": [
       "0    2.666667\n",
       "1    2.666667\n",
       "2    3.000000\n",
       "dtype: float64"
      ]
     },
     "execution_count": 20,
     "metadata": {},
     "output_type": "execute_result"
    }
   ],
   "source": [
    "# feature means\n",
    "means = df.mean(axis=0)\n",
    "means"
   ]
  },
  {
   "cell_type": "code",
   "execution_count": 28,
   "metadata": {
    "collapsed": false
   },
   "outputs": [
    {
     "data": {
      "text/plain": [
       "2.7777777777777777"
      ]
     },
     "execution_count": 28,
     "metadata": {},
     "output_type": "execute_result"
    }
   ],
   "source": [
    "# grand mean\n",
    "Xbar = df.values.ravel().mean()\n",
    "Xbar"
   ]
  },
  {
   "cell_type": "code",
   "execution_count": 26,
   "metadata": {
    "collapsed": false
   },
   "outputs": [
    {
     "data": {
      "text/plain": [
       "13.555555555555557"
      ]
     },
     "execution_count": 26,
     "metadata": {},
     "output_type": "execute_result"
    }
   ],
   "source": [
    "# total sum of squares\n",
    "SSt = (df - df.values.ravel().mean()).pow(2).sum().sum()\n",
    "SSt"
   ]
  },
  {
   "cell_type": "code",
   "execution_count": 30,
   "metadata": {
    "collapsed": false
   },
   "outputs": [
    {
     "data": {
      "text/plain": [
       "13.333333333333334"
      ]
     },
     "execution_count": 30,
     "metadata": {},
     "output_type": "execute_result"
    }
   ],
   "source": [
    "# ss within\n",
    "SSw = (df-df.mean()).pow(2).sum().sum()\n",
    "SSw"
   ]
  },
  {
   "cell_type": "code",
   "execution_count": 31,
   "metadata": {
    "collapsed": false
   },
   "outputs": [
    {
     "data": {
      "text/plain": [
       "0.22222222222222321"
      ]
     },
     "execution_count": 31,
     "metadata": {},
     "output_type": "execute_result"
    }
   ],
   "source": [
    "# SS between\n",
    "SSb = SSt - SSw\n",
    "SSb"
   ]
  },
  {
   "cell_type": "code",
   "execution_count": 34,
   "metadata": {
    "collapsed": false
   },
   "outputs": [
    {
     "data": {
      "text/plain": [
       "0.1111111111111116"
      ]
     },
     "execution_count": 34,
     "metadata": {},
     "output_type": "execute_result"
    }
   ],
   "source": [
    "# Mean Squared between and within\n",
    "MSb = SSb / DFb\n",
    "MSb"
   ]
  },
  {
   "cell_type": "code",
   "execution_count": 35,
   "metadata": {
    "collapsed": false
   },
   "outputs": [
    {
     "data": {
      "text/plain": [
       "2.2222222222222223"
      ]
     },
     "execution_count": 35,
     "metadata": {},
     "output_type": "execute_result"
    }
   ],
   "source": [
    "MSw = SSw/ DFw\n",
    "MSw"
   ]
  },
  {
   "cell_type": "code",
   "execution_count": 36,
   "metadata": {
    "collapsed": false
   },
   "outputs": [
    {
     "data": {
      "text/plain": [
       "0.050000000000000218"
      ]
     },
     "execution_count": 36,
     "metadata": {},
     "output_type": "execute_result"
    }
   ],
   "source": [
    "F = MSb / MSw\n",
    "F"
   ]
  },
  {
   "cell_type": "code",
   "execution_count": 50,
   "metadata": {
    "collapsed": false
   },
   "outputs": [
    {
     "name": "stdout",
     "output_type": "stream",
     "text": [
      "We can NOT to reject the Null Hypothesis H0.\n",
      "Means are significantly similar.\n"
     ]
    }
   ],
   "source": [
    "F_statistic = F\n",
    "F_crit = F_crit\n",
    "alpha = 0.05\n",
    "\n",
    "if F_statistic < F_crit:\n",
    "    print('We can NOT to reject the Null Hypothesis H0.\\nMeans are significantly similar.')\n",
    "else:\n",
    "    print('We can reject the Null Hypothesis H0.\\nMeans are significantly different.')"
   ]
  },
  {
   "cell_type": "markdown",
   "metadata": {},
   "source": [
    "# ANOVA using scipy.stats"
   ]
  },
  {
   "cell_type": "code",
   "execution_count": 56,
   "metadata": {
    "collapsed": false
   },
   "outputs": [
    {
     "name": "stdout",
     "output_type": "stream",
     "text": [
      "One-way ANOVA\n",
      "=============\n",
      "F value: 0.05\n",
      "P value: 0.951621501359 \n",
      "\n"
     ]
    }
   ],
   "source": [
    "F, p = stats.f_oneway(df.a.values,\n",
    "                      df.b.values,\n",
    "                      df.c.values)\n",
    " \n",
    "print ('One-way ANOVA')\n",
    "print ('=============')\n",
    " \n",
    "print ('F value:', F)\n",
    "print ('P value:', p, '\\n')"
   ]
  },
  {
   "cell_type": "code",
   "execution_count": 52,
   "metadata": {
    "collapsed": false
   },
   "outputs": [
    {
     "name": "stdout",
     "output_type": "stream",
     "text": [
      "We can NOT to reject the Null Hypothesis H0.\n",
      "Means are significantly similar.\n"
     ]
    }
   ],
   "source": [
    "alpha = 0.05\n",
    "p_value = p\n",
    "\n",
    "if p_value >= alpha:\n",
    "    print('We can NOT to reject the Null Hypothesis H0.\\nMeans are significantly similar.')\n",
    "else:\n",
    "    print('We can reject the Null Hypothesis H0.\\nMeans are significantly different.')"
   ]
  },
  {
   "cell_type": "code",
   "execution_count": 53,
   "metadata": {
    "collapsed": false
   },
   "outputs": [
    {
     "data": {
      "text/plain": [
       "0.95162150135914492"
      ]
     },
     "execution_count": 53,
     "metadata": {},
     "output_type": "execute_result"
    }
   ],
   "source": [
    "p = stats.f.sf(F, DFb, DFw)\n",
    "p"
   ]
  },
  {
   "cell_type": "markdown",
   "metadata": {},
   "source": [
    "## The Effect Size\n",
    "We can calculate the magnitude of the effect to determine how large the difference is. \n",
    "One of the measures we can use is Eta-squared.\n",
    "\n",
    "$$\n",
    "S S _ { \\text {total} } = \\sum \\left( x _ { i } - \\overline { x _ { G } } \\right) ^ { 2 }\n",
    "$$\n",
    "\n",
    "G is grand.\n",
    "\n",
    "The general rules of thumb given by Cohen and Miles & Shevlin (2001) for analyzing eta-squared, $\\eta^2$:\n",
    "http://core.ecu.edu/psyc/wuenschk/docs30/EffectSizeConventions.pdf\n",
    "\n",
    "- Small effect: $ 0.01 $\n",
    "- Medium ffect: $ 0.06 $\n",
    "- Large effect: $ 0.14 $"
   ]
  },
  {
   "cell_type": "code",
   "execution_count": 54,
   "metadata": {
    "collapsed": false
   },
   "outputs": [
    {
     "data": {
      "text/plain": [
       "0.01639344262295089"
      ]
     },
     "execution_count": 54,
     "metadata": {},
     "output_type": "execute_result"
    }
   ],
   "source": [
    "eta_sqrd = SSb/SSt\n",
    "eta_sqrd"
   ]
  },
  {
   "cell_type": "markdown",
   "metadata": {},
   "source": [
    "# ANOVA Using statsmodels\n",
    "\n",
    "https://www.marsja.se/four-ways-to-conduct-one-way-anovas-using-python/"
   ]
  },
  {
   "cell_type": "code",
   "execution_count": 60,
   "metadata": {
    "collapsed": true
   },
   "outputs": [],
   "source": [
    "# we need response y to fit ols"
   ]
  },
  {
   "cell_type": "code",
   "execution_count": 69,
   "metadata": {
    "collapsed": false
   },
   "outputs": [
    {
     "name": "stdout",
     "output_type": "stream",
     "text": [
      "(30, 2)\n"
     ]
    },
    {
     "data": {
      "text/html": [
       "<div>\n",
       "<style>\n",
       "    .dataframe thead tr:only-child th {\n",
       "        text-align: right;\n",
       "    }\n",
       "\n",
       "    .dataframe thead th {\n",
       "        text-align: left;\n",
       "    }\n",
       "\n",
       "    .dataframe tbody tr th {\n",
       "        vertical-align: top;\n",
       "    }\n",
       "</style>\n",
       "<table border=\"1\" class=\"dataframe\">\n",
       "  <thead>\n",
       "    <tr style=\"text-align: right;\">\n",
       "      <th></th>\n",
       "      <th>weight</th>\n",
       "      <th>group</th>\n",
       "    </tr>\n",
       "  </thead>\n",
       "  <tbody>\n",
       "    <tr>\n",
       "      <th>1</th>\n",
       "      <td>4.17</td>\n",
       "      <td>ctrl</td>\n",
       "    </tr>\n",
       "    <tr>\n",
       "      <th>2</th>\n",
       "      <td>5.58</td>\n",
       "      <td>ctrl</td>\n",
       "    </tr>\n",
       "    <tr>\n",
       "      <th>3</th>\n",
       "      <td>5.18</td>\n",
       "      <td>ctrl</td>\n",
       "    </tr>\n",
       "    <tr>\n",
       "      <th>4</th>\n",
       "      <td>6.11</td>\n",
       "      <td>ctrl</td>\n",
       "    </tr>\n",
       "    <tr>\n",
       "      <th>5</th>\n",
       "      <td>4.50</td>\n",
       "      <td>ctrl</td>\n",
       "    </tr>\n",
       "  </tbody>\n",
       "</table>\n",
       "</div>"
      ],
      "text/plain": [
       "   weight group\n",
       "1    4.17  ctrl\n",
       "2    5.58  ctrl\n",
       "3    5.18  ctrl\n",
       "4    6.11  ctrl\n",
       "5    4.50  ctrl"
      ]
     },
     "execution_count": 69,
     "metadata": {},
     "output_type": "execute_result"
    }
   ],
   "source": [
    "df = pd.read_csv('https://vincentarelbundock.github.io/Rdatasets/csv/datasets/PlantGrowth.csv',index_col=0)\n",
    "print(df.shape)\n",
    "df.head()"
   ]
  },
  {
   "cell_type": "code",
   "execution_count": 109,
   "metadata": {
    "collapsed": false
   },
   "outputs": [
    {
     "data": {
      "text/html": [
       "<div>\n",
       "<style>\n",
       "    .dataframe thead tr:only-child th {\n",
       "        text-align: right;\n",
       "    }\n",
       "\n",
       "    .dataframe thead th {\n",
       "        text-align: left;\n",
       "    }\n",
       "\n",
       "    .dataframe tbody tr th {\n",
       "        vertical-align: top;\n",
       "    }\n",
       "</style>\n",
       "<table border=\"1\" class=\"dataframe\">\n",
       "  <thead>\n",
       "    <tr style=\"text-align: right;\">\n",
       "      <th></th>\n",
       "      <th>sum_sq</th>\n",
       "      <th>df</th>\n",
       "      <th>F</th>\n",
       "      <th>PR(&gt;F)</th>\n",
       "    </tr>\n",
       "  </thead>\n",
       "  <tbody>\n",
       "    <tr>\n",
       "      <th>C(group)</th>\n",
       "      <td>3.76634</td>\n",
       "      <td>2.0</td>\n",
       "      <td>4.846088</td>\n",
       "      <td>0.01591</td>\n",
       "    </tr>\n",
       "    <tr>\n",
       "      <th>Residual</th>\n",
       "      <td>10.49209</td>\n",
       "      <td>27.0</td>\n",
       "      <td>NaN</td>\n",
       "      <td>NaN</td>\n",
       "    </tr>\n",
       "  </tbody>\n",
       "</table>\n",
       "</div>"
      ],
      "text/plain": [
       "            sum_sq    df         F   PR(>F)\n",
       "C(group)   3.76634   2.0  4.846088  0.01591\n",
       "Residual  10.49209  27.0       NaN      NaN"
      ]
     },
     "execution_count": 109,
     "metadata": {},
     "output_type": "execute_result"
    }
   ],
   "source": [
    "model = smf.ols('weight ~ C(group)',data=df) # C means categorical\n",
    "result = model.fit()\n",
    "                \n",
    "aov_table = sm.stats.anova_lm(result, typ=2)\n",
    "aov_table"
   ]
  },
  {
   "cell_type": "code",
   "execution_count": 104,
   "metadata": {
    "collapsed": false
   },
   "outputs": [
    {
     "data": {
      "text/plain": [
       "(3.7663399999999991, 10.492090000000001, 0.2641482968321196)"
      ]
     },
     "execution_count": 104,
     "metadata": {},
     "output_type": "execute_result"
    }
   ],
   "source": [
    "eta_sq = aov_table['sum_sq'][0]/(aov_table['sum_sq'][0] + aov_table['sum_sq'][1])\n",
    "aov_table['sum_sq'][0],aov_table['sum_sq'][1],  eta_sq"
   ]
  },
  {
   "cell_type": "code",
   "execution_count": 105,
   "metadata": {
    "collapsed": false
   },
   "outputs": [
    {
     "data": {
      "text/html": [
       "<div>\n",
       "<style>\n",
       "    .dataframe thead tr:only-child th {\n",
       "        text-align: right;\n",
       "    }\n",
       "\n",
       "    .dataframe thead th {\n",
       "        text-align: left;\n",
       "    }\n",
       "\n",
       "    .dataframe tbody tr th {\n",
       "        vertical-align: top;\n",
       "    }\n",
       "</style>\n",
       "<table border=\"1\" class=\"dataframe\">\n",
       "  <thead>\n",
       "    <tr style=\"text-align: right;\">\n",
       "      <th></th>\n",
       "      <th>sum_sq</th>\n",
       "      <th>df</th>\n",
       "      <th>F</th>\n",
       "      <th>PR(&gt;F)</th>\n",
       "      <th>eta_sq</th>\n",
       "      <th>omega_sq</th>\n",
       "    </tr>\n",
       "  </thead>\n",
       "  <tbody>\n",
       "    <tr>\n",
       "      <th>C(group)</th>\n",
       "      <td>3.76634</td>\n",
       "      <td>2.0</td>\n",
       "      <td>4.846088</td>\n",
       "      <td>0.01591</td>\n",
       "      <td>0.264148</td>\n",
       "      <td>0.204079</td>\n",
       "    </tr>\n",
       "    <tr>\n",
       "      <th>Residual</th>\n",
       "      <td>10.49209</td>\n",
       "      <td>27.0</td>\n",
       "      <td>NaN</td>\n",
       "      <td>NaN</td>\n",
       "      <td>NaN</td>\n",
       "      <td>NaN</td>\n",
       "    </tr>\n",
       "  </tbody>\n",
       "</table>\n",
       "</div>"
      ],
      "text/plain": [
       "            sum_sq    df         F   PR(>F)    eta_sq  omega_sq\n",
       "C(group)   3.76634   2.0  4.846088  0.01591  0.264148  0.204079\n",
       "Residual  10.49209  27.0       NaN      NaN       NaN       NaN"
      ]
     },
     "execution_count": 105,
     "metadata": {},
     "output_type": "execute_result"
    }
   ],
   "source": [
    "def eta_squared(aov):\n",
    "    aov['eta_sq'] = 'NaN'\n",
    "    aov['eta_sq'] = aov[0:-1]['sum_sq']/sum(aov['sum_sq'])\n",
    "    return aov\n",
    "\n",
    "def omega_squared(aov):\n",
    "    mse = aov['sum_sq'][-1]/aov['df'][-1]\n",
    "    aov['omega_sq'] = 'NaN'\n",
    "    aov['omega_sq'] = (aov[:-1]['sum_sq']-(aov[:-1]['df']*mse))/(sum(aov['sum_sq'])+mse)\n",
    "    return aov\n",
    "\n",
    "\n",
    "eta_squared(aov_table)\n",
    "omega_squared(aov_table)"
   ]
  },
  {
   "cell_type": "markdown",
   "metadata": {},
   "source": [
    "## boxplot"
   ]
  },
  {
   "cell_type": "code",
   "execution_count": 106,
   "metadata": {
    "collapsed": false
   },
   "outputs": [
    {
     "data": {
      "text/plain": [
       "<matplotlib.axes._subplots.AxesSubplot at 0x1175ed4e0>"
      ]
     },
     "execution_count": 106,
     "metadata": {},
     "output_type": "execute_result"
    },
    {
     "data": {
      "image/png": "[encoded data removed]",
      "text/plain": [
       "<matplotlib.figure.Figure at 0x116eaaac8>"
      ]
     },
     "metadata": {},
     "output_type": "display_data"
    }
   ],
   "source": [
    "df.boxplot('weight', by='group', figsize=(12, 8))"
   ]
  },
  {
   "cell_type": "markdown",
   "metadata": {},
   "source": [
    "## QQ plot of Residuals"
   ]
  },
  {
   "cell_type": "code",
   "execution_count": 110,
   "metadata": {
    "collapsed": false
   },
   "outputs": [
    {
     "data": {
      "image/png": "[encoded data removed]",
      "text/plain": [
       "<matplotlib.figure.Figure at 0x11793a7b8>"
      ]
     },
     "metadata": {},
     "output_type": "display_data"
    }
   ],
   "source": [
    "resids = result.resid\n",
    "fig = sm.qqplot(resids, line='s')\n",
    "plt.show()"
   ]
  },
  {
   "cell_type": "markdown",
   "metadata": {},
   "source": [
    "# Assumption Checks/Model Diagnostics\n",
    "\n",
    "https://pythonfordatascience.org/anova-python/"
   ]
  },
  {
   "cell_type": "markdown",
   "metadata": {},
   "source": [
    "## Assumption: Homogeneity of Variance"
   ]
  },
  {
   "cell_type": "code",
   "execution_count": 115,
   "metadata": {
    "collapsed": false
   },
   "outputs": [
    {
     "name": "stdout",
     "output_type": "stream",
     "text": [
      "['ctrl' 'trt1' 'trt2']\n"
     ]
    },
    {
     "data": {
      "text/html": [
       "<div>\n",
       "<style>\n",
       "    .dataframe thead tr:only-child th {\n",
       "        text-align: right;\n",
       "    }\n",
       "\n",
       "    .dataframe thead th {\n",
       "        text-align: left;\n",
       "    }\n",
       "\n",
       "    .dataframe tbody tr th {\n",
       "        vertical-align: top;\n",
       "    }\n",
       "</style>\n",
       "<table border=\"1\" class=\"dataframe\">\n",
       "  <thead>\n",
       "    <tr style=\"text-align: right;\">\n",
       "      <th></th>\n",
       "      <th>weight</th>\n",
       "      <th>group</th>\n",
       "    </tr>\n",
       "  </thead>\n",
       "  <tbody>\n",
       "    <tr>\n",
       "      <th>1</th>\n",
       "      <td>4.17</td>\n",
       "      <td>ctrl</td>\n",
       "    </tr>\n",
       "    <tr>\n",
       "      <th>2</th>\n",
       "      <td>5.58</td>\n",
       "      <td>ctrl</td>\n",
       "    </tr>\n",
       "    <tr>\n",
       "      <th>3</th>\n",
       "      <td>5.18</td>\n",
       "      <td>ctrl</td>\n",
       "    </tr>\n",
       "    <tr>\n",
       "      <th>4</th>\n",
       "      <td>6.11</td>\n",
       "      <td>ctrl</td>\n",
       "    </tr>\n",
       "    <tr>\n",
       "      <th>5</th>\n",
       "      <td>4.50</td>\n",
       "      <td>ctrl</td>\n",
       "    </tr>\n",
       "  </tbody>\n",
       "</table>\n",
       "</div>"
      ],
      "text/plain": [
       "   weight group\n",
       "1    4.17  ctrl\n",
       "2    5.58  ctrl\n",
       "3    5.18  ctrl\n",
       "4    6.11  ctrl\n",
       "5    4.50  ctrl"
      ]
     },
     "execution_count": 115,
     "metadata": {},
     "output_type": "execute_result"
    }
   ],
   "source": [
    "print(df.group.unique())\n",
    "df.head()"
   ]
  },
  {
   "cell_type": "code",
   "execution_count": 116,
   "metadata": {
    "collapsed": false
   },
   "outputs": [
    {
     "data": {
      "text/plain": [
       "LeveneResult(statistic=1.1191856948703909, pvalue=0.34122662412547372)"
      ]
     },
     "execution_count": 116,
     "metadata": {},
     "output_type": "execute_result"
    }
   ],
   "source": [
    "stats.levene(df.weight[df.group == 'ctrl'],\n",
    "            df.weight[df.group == 'trt1'],\n",
    "            df.weight[df.group == 'trt2'])"
   ]
  },
  {
   "cell_type": "markdown",
   "metadata": {},
   "source": [
    "pvalue > alpha (=0.05).\n",
    "\n",
    "Levene’s test for homogeneity of variance is not significant which indicates\n",
    "that the groups have equal variances."
   ]
  },
  {
   "cell_type": "markdown",
   "metadata": {},
   "source": [
    "## Assumption: Normality\n",
    "The assumption of normality is tested on the residuals as a whole which is\n",
    "how the diagnostic information provided by statsmodels tests the residuals.\n",
    "\n",
    "One could use the Jarque-Bera test provided, or one could use Shapiro or others.\n",
    "\n",
    "I will demonstrate how to test for normality using the Shapiro method. \n",
    "\n",
    "The output is not labelled, but the numbers are the test statistic value followed by the p-value.\n",
    "The official documentation can be found [here](https://docs.scipy.org/doc/scipy-0.19.0/reference/generated/scipy.stats.shapiro.html)."
   ]
  },
  {
   "cell_type": "code",
   "execution_count": 118,
   "metadata": {
    "collapsed": false
   },
   "outputs": [
    {
     "data": {
      "text/plain": [
       "(0.9660681486129761, 0.43789875507354736)"
      ]
     },
     "execution_count": 118,
     "metadata": {},
     "output_type": "execute_result"
    }
   ],
   "source": [
    "stats.shapiro(result.resid)"
   ]
  },
  {
   "cell_type": "code",
   "execution_count": 119,
   "metadata": {
    "collapsed": true
   },
   "outputs": [],
   "source": [
    "# The results from the Shapiro-Wilk test is not statistically significant\n",
    "# which indicates that the residuals are normally distributed."
   ]
  },
  {
   "cell_type": "markdown",
   "metadata": {},
   "source": [
    "# Post-hoc Testing\n",
    "\n",
    "https://pythonfordatascience.org/anova-python/\n",
    "\n",
    "\n",
    "The overall model was significant, now to test which groups differ. Deciding which groups to compare should be theory driven. There are a few different techniques that can be used. Each of these techniques have different ways of controlling for familywise error rate. 3 common methods are:\n",
    "\n",
    "- Fisher’s Least Significant Difference (LSD): Take the groups you want to compare and conduct multiple t-tests. This method requires that the ANOVA model be significant. This method is easy, but receives push back since it doesn’t account for familywise error rate. The argument is that since the overall model was significant, one is protected from increasing the familywise error rate.\n",
    "- Bonferroni correction: Take the alpha the ANOVA was tested at, 0.05, then divide it by the number of planned comparisons. In this case, 0.05/3 = 0.0167. A post-hoc test would have to have an alpha level < 0.0167 to be considered significant. To test the groups, conduct multiple t-tests, but set the alpha value to the corrected value. This method is quick, but often considered too conservative.\n",
    "- Tukey’s HSD: Method also controls for familywise error rate with a different method than Bonferroni, and is also considered conservative.\n",
    "\n",
    "\n",
    "There are many other techniques out there that can be used for post-hoc testing each with different guidelines for when they should be used, you are encouraged to learn about them!"
   ]
  },
  {
   "cell_type": "markdown",
   "metadata": {},
   "source": [
    "## TUKEY’S HSD POST-HOC COMPARISON\n",
    "\n",
    "The Tukey HSD post-hoc comparison test controls for type I error and maintains the familywise error rate at 0.05 (FWER= 0.05 top of the table). The group1 and group2 columns are the groups being compared, the meandiff column is the difference in means of the two groups being calculated as group2 – group1, the lower/upper columns are the lower/upper boundaries of the 95% confidence interval, and the reject column states whether or not the null hypothesis should be rejected. Unfortunately, this method currently does not provide the t-statistic so treatment effect size cannot be calculated."
   ]
  },
  {
   "cell_type": "code",
   "execution_count": 120,
   "metadata": {
    "collapsed": false
   },
   "outputs": [
    {
     "name": "stdout",
     "output_type": "stream",
     "text": [
      "Multiple Comparison of Means - Tukey HSD,FWER=0.05\n",
      "============================================\n",
      "group1 group2 meandiff  lower  upper  reject\n",
      "--------------------------------------------\n",
      " ctrl   trt1   -0.371  -1.0621 0.3201 False \n",
      " ctrl   trt2   0.494   -0.1971 1.1851 False \n",
      " trt1   trt2   0.865    0.1739 1.5561  True \n",
      "--------------------------------------------\n"
     ]
    }
   ],
   "source": [
    "from statsmodels.stats.multicomp import pairwise_tukeyhsd\n",
    "from statsmodels.stats.multicomp import MultiComparison\n",
    "\n",
    "mc = MultiComparison(df['weight'], df['group'])\n",
    "mc_results = mc.tukeyhsd()\n",
    "print(mc_results)"
   ]
  },
  {
   "cell_type": "markdown",
   "metadata": {},
   "source": [
    "## BONFERRONI CORRECTION POST-HOC COMPARISON\n",
    "First the corrected p-value needs to be calculated. This can be done using the formula:\n",
    "\n",
    "```\n",
    "p-value/# of comparisons = 0.05/3 = 0.01667\n",
    "```\n",
    "\n",
    "Now the t-tests that are conducted have to have a p-value less \n",
    "than 0.01667 in order to be considered significant.\n",
    "\n",
    "Look for p-value < 0.01667 (this is p_value_bonferroni_corrected)"
   ]
  },
  {
   "cell_type": "code",
   "execution_count": 121,
   "metadata": {
    "collapsed": false
   },
   "outputs": [
    {
     "data": {
      "text/plain": [
       "Ttest_indResult(statistic=1.1912603818487009, pvalue=0.24902316597300669)"
      ]
     },
     "execution_count": 121,
     "metadata": {},
     "output_type": "execute_result"
    }
   ],
   "source": [
    "stats.ttest_ind(df['weight'][df['group'] == 'ctrl'], df['weight'][df['group'] == 'trt1'])"
   ]
  },
  {
   "cell_type": "code",
   "execution_count": 122,
   "metadata": {
    "collapsed": false
   },
   "outputs": [
    {
     "data": {
      "text/plain": [
       "Ttest_indResult(statistic=-2.1340204531240654, pvalue=0.046851384911573583)"
      ]
     },
     "execution_count": 122,
     "metadata": {},
     "output_type": "execute_result"
    }
   ],
   "source": [
    "stats.ttest_ind(df['weight'][df['group'] == 'ctrl'], df['weight'][df['group'] == 'trt2'])"
   ]
  },
  {
   "cell_type": "code",
   "execution_count": 124,
   "metadata": {
    "collapsed": false
   },
   "outputs": [
    {
     "data": {
      "text/plain": [
       "Ttest_indResult(statistic=nan, pvalue=nan)"
      ]
     },
     "execution_count": 124,
     "metadata": {},
     "output_type": "execute_result"
    }
   ],
   "source": [
    "stats.ttest_ind(df['weight'][df['group'] == 'trtl'], df['weight'][df['group'] == 'trt2'])"
   ]
  },
  {
   "cell_type": "code",
   "execution_count": 126,
   "metadata": {
    "collapsed": false
   },
   "outputs": [],
   "source": [
    "# df"
   ]
  },
  {
   "cell_type": "markdown",
   "metadata": {},
   "source": [
    "comparion: \n",
    "```\n",
    "libido = weight\n",
    "dose = group\n",
    "\n",
    "high dose and placebo had p-value < 0.05\n",
    "ctrl and trt2 has p-value < 0.05\n",
    "statistic = 3.06 and p-value=0.25 (there is typo t-statistic=1.21 was used)\n",
    "\n",
    "high dose = group trt2\n",
    "placebo = ctrl\n",
    "statistic=-2.134 and p-value=0.04\n",
    "```\n",
    "Using the Bonferroni correction, we found these are significantly different with p-value < 0.01667:\n",
    "NOTHING.\n",
    "\n",
    "\n",
    "\n",
    "From this article: https://doi.org/10.3389/fpsyg.2013.00863\n",
    "\n",
    "Eta-squared and omega-squared share the same suggested ranges for \n",
    "\n",
    "``` \n",
    "low (0.01 – 0.059)  \n",
    "medium (0.06 – 0.139)\n",
    "large (0.14+)\n",
    "```effect size classification."
   ]
  },
  {
   "cell_type": "markdown",
   "metadata": {},
   "source": [
    "## ANOVA Results Interpretation\n",
    "\n",
    "For this link https://pythonfordatascience.org/anova-python/\n",
    "\n",
    "While interpreting the ANOVA results, the Bonferroni post-hoc analysis results will be used.\n",
    "\n",
    "There was a significant effect of Difficile on the level of libido, F(2,12)= 5.12, p < 0.05, omega_sq = 0.35.\n",
    "\n",
    "Planned post-hoc testing, using the Bonferroni correction p_value_corrected= 0.0167, revealed that high dose of Difficile significantly increased libido compared to the placebo, t(8)=3.06, p < 0.0167, r= 0.39. There were no other statistically significant differences between groups."
   ]
  },
  {
   "cell_type": "code",
   "execution_count": null,
   "metadata": {
    "collapsed": true
   },
   "outputs": [],
   "source": []
  }
 ],
 "metadata": {
  "kernelspec": {
   "display_name": "Python 3",
   "language": "python",
   "name": "python3"
  },
  "language_info": {
   "codemirror_mode": {
    "name": "ipython",
    "version": 3
   },
   "file_extension": ".py",
   "mimetype": "text/x-python",
   "name": "python",
   "nbconvert_exporter": "python",
   "pygments_lexer": "ipython3",
   "version": "3.5.2"
  },
  "toc": {
   "colors": {
    "hover_highlight": "#DAA520",
    "navigate_num": "#000000",
    "navigate_text": "#333333",
    "running_highlight": "#FF0000",
    "selected_highlight": "#FFD700",
    "sidebar_border": "#EEEEEE",
    "wrapper_background": "#FFFFFF"
   },
   "moveMenuLeft": true,
   "nav_menu": {
    "height": "297px",
    "width": "252px"
   },
   "navigate_menu": true,
   "number_sections": true,
   "sideBar": true,
   "threshold": 4,
   "toc_cell": true,
   "toc_section_display": "block",
   "toc_window_display": true,
   "widenNotebook": false
  }
 },
 "nbformat": 4,
 "nbformat_minor": 2
}
