{
 "cells": [
  {
   "cell_type": "markdown",
   "metadata": {
    "toc": true
   },
   "source": [
    "<h1>Table of Contents<span class=\"tocSkip\"></span></h1>\n",
    "<div class=\"toc\"><ul class=\"toc-item\"></ul></div>"
   ]
  },
  {
   "cell_type": "code",
   "execution_count": 2,
   "metadata": {
    "ExecuteTime": {
     "end_time": "2021-05-12T22:35:07.608033Z",
     "start_time": "2021-05-12T22:34:39.249526Z"
    }
   },
   "outputs": [
    {
     "name": "stderr",
     "output_type": "stream",
     "text": [
      "100%|██████████| 1000000/1000000 [00:28<00:00, 35367.92it/s]"
     ]
    },
    {
     "name": "stdout",
     "output_type": "stream",
     "text": [
      "255.72120913333336\n"
     ]
    },
    {
     "name": "stderr",
     "output_type": "stream",
     "text": [
      "\n"
     ]
    }
   ],
   "source": [
    "import numpy as np\n",
    "from tqdm import trange\n",
    "np.random.seed(0)\n",
    "\n",
    "population = np.random.randint(0,500,size=1000) # 1000 persons\n",
    "pop_mean = population.mean() # average ht of 1000 students.\n",
    "print('population mean = ', pop_mean)\n",
    "\n",
    "# use bootstrapping\n",
    "#*** We have only one sample, still we get 1 million bootsample from this**\n",
    "sample = np.random.choice(population,size=30)\n",
    "boot_means = []\n",
    "reps = 1000_000\n",
    "\n",
    "for _ in trange(reps):\n",
    "    bootsample = np.random.choice(sample, size=30,replace=True)\n",
    "    boot_means.append(bootsample.mean())\n",
    "\n",
    "boot_mean = np.mean(boot_means)\n",
    "print('bootstrapped mean = ', boot_mean)"
   ]
  },
  {
   "cell_type": "code",
   "execution_count": 5,
   "metadata": {
    "ExecuteTime": {
     "end_time": "2021-05-12T22:38:30.577680Z",
     "start_time": "2021-05-12T22:38:30.126797Z"
    }
   },
   "outputs": [
    {
     "name": "stdout",
     "output_type": "stream",
     "text": [
      "xb shape =  (30, 1000000)\n",
      "mb shape =  (1000000,)\n",
      "boot mean =  255.7214197999999\n"
     ]
    }
   ],
   "source": [
    "# using more memory\n",
    "#==============================================\n",
    "np.random.seed(0)\n",
    "reps = 1000_000\n",
    "\n",
    "x = np.random.choice(population,size=30)\n",
    "xb = np.random.choice(sample, (len(x),reps),replace=True)\n",
    "print('xb shape = ', xb.shape) # (30, 1000000)\n",
    "\n",
    "mb = xb.mean(axis=0)\n",
    "print('mb shape = ', mb.shape) # (1000000,)\n",
    "\n",
    "mbb = mb.mean()\n",
    "print('boot mean = ', mbb) # 255.7214197999999\n",
    "\n",
    "xb.mean() # 255.7214198"
   ]
  },
  {
   "cell_type": "code",
   "execution_count": 6,
   "metadata": {
    "ExecuteTime": {
     "end_time": "2021-05-12T22:38:50.953363Z",
     "start_time": "2021-05-12T22:38:50.920218Z"
    }
   },
   "outputs": [
    {
     "data": {
      "text/plain": [
       "255.7214198"
      ]
     },
     "execution_count": 6,
     "metadata": {},
     "output_type": "execute_result"
    }
   ],
   "source": [
    "xb.mean()"
   ]
  },
  {
   "cell_type": "code",
   "execution_count": null,
   "metadata": {},
   "outputs": [],
   "source": []
  }
 ],
 "metadata": {
  "kernelspec": {
   "display_name": "Python (dataSc)",
   "language": "python",
   "name": "datasc"
  },
  "language_info": {
   "codemirror_mode": {
    "name": "ipython",
    "version": 3
   },
   "file_extension": ".py",
   "mimetype": "text/x-python",
   "name": "python",
   "nbconvert_exporter": "python",
   "pygments_lexer": "ipython3",
   "version": "3.7.7"
  },
  "toc": {
   "base_numbering": 1,
   "nav_menu": {},
   "number_sections": true,
   "sideBar": true,
   "skip_h1_title": false,
   "title_cell": "Table of Contents",
   "title_sidebar": "Contents",
   "toc_cell": true,
   "toc_position": {},
   "toc_section_display": true,
   "toc_window_display": true
  }
 },
 "nbformat": 4,
 "nbformat_minor": 4
}
