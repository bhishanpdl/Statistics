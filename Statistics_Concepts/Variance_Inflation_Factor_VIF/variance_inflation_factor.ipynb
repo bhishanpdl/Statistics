{
 "cells": [
  {
   "cell_type": "markdown",
   "metadata": {
    "toc": true
   },
   "source": [
    "<h1>Table of Contents<span class=\"tocSkip\"></span></h1>\n",
    "<div class=\"toc\"><ul class=\"toc-item\"><li><span><a href=\"#Outlier-detection-using-VIF\" data-toc-modified-id=\"Outlier-detection-using-VIF-1\"><span class=\"toc-item-num\">1&nbsp;&nbsp;</span>Outlier detection using VIF</a></span></li><li><span><a href=\"#Using-numpy\" data-toc-modified-id=\"Using-numpy-2\"><span class=\"toc-item-num\">2&nbsp;&nbsp;</span>Using numpy</a></span></li><li><span><a href=\"#Using-statsmodels\" data-toc-modified-id=\"Using-statsmodels-3\"><span class=\"toc-item-num\">3&nbsp;&nbsp;</span>Using statsmodels</a></span></li><li><span><a href=\"#Using-scikit-learn\" data-toc-modified-id=\"Using-scikit-learn-4\"><span class=\"toc-item-num\">4&nbsp;&nbsp;</span>Using scikit-learn</a></span></li></ul></div>"
   ]
  },
  {
   "cell_type": "markdown",
   "metadata": {},
   "source": [
    "# Outlier detection using VIF\n",
    "In case of collinearity, we can check whether two features are correlated or\n",
    "not using correlation matrix. But, to check the multi-collinearity we can use\n",
    "VIF to check for the multi-collinearity. Generally features with VIF > 10\n",
    "are considered suspicious.\n",
    "\n",
    "In linear regression collinearity harms the model performance and gives\n",
    "unusual confidence intervals for the fitted parameters. Its good to remove\n",
    "the highly correlated features."
   ]
  },
  {
   "cell_type": "markdown",
   "metadata": {
    "ExecuteTime": {
     "end_time": "2019-10-17T13:06:01.097784Z",
     "start_time": "2019-10-17T13:06:01.093698Z"
    }
   },
   "source": [
    "# Using numpy\n",
    "\n",
    "This approach uses matrix inversion using numpy linear algegra.\n",
    "This is useful for small dataset, for large datasets, matrix inversion is \n",
    "much computationally expensive task. So, we need to use statsmodels variance\n",
    "inflation factor (after adding constant term) which uses OLS method to fit\n",
    "the data and uses R-squared values to get VIF."
   ]
  },
  {
   "cell_type": "code",
   "execution_count": 1,
   "metadata": {
    "ExecuteTime": {
     "end_time": "2019-10-17T13:25:24.813399Z",
     "start_time": "2019-10-17T13:25:24.488782Z"
    }
   },
   "outputs": [
    {
     "name": "stdout",
     "output_type": "stream",
     "text": [
      "a    22.95\n",
      "b     3.00\n",
      "c    12.95\n",
      "d     3.00\n",
      "dtype: float64\n"
     ]
    },
    {
     "data": {
      "text/html": [
       "<div>\n",
       "<style scoped>\n",
       "    .dataframe tbody tr th:only-of-type {\n",
       "        vertical-align: middle;\n",
       "    }\n",
       "\n",
       "    .dataframe tbody tr th {\n",
       "        vertical-align: top;\n",
       "    }\n",
       "\n",
       "    .dataframe thead th {\n",
       "        text-align: right;\n",
       "    }\n",
       "</style>\n",
       "<table border=\"1\" class=\"dataframe\">\n",
       "  <thead>\n",
       "    <tr style=\"text-align: right;\">\n",
       "      <th></th>\n",
       "      <th>a</th>\n",
       "      <th>b</th>\n",
       "      <th>c</th>\n",
       "      <th>d</th>\n",
       "    </tr>\n",
       "  </thead>\n",
       "  <tbody>\n",
       "    <tr>\n",
       "      <th>a</th>\n",
       "      <td>22.950000</td>\n",
       "      <td>6.453681</td>\n",
       "      <td>-16.301917</td>\n",
       "      <td>-6.453681</td>\n",
       "    </tr>\n",
       "    <tr>\n",
       "      <th>b</th>\n",
       "      <td>6.453681</td>\n",
       "      <td>3.000000</td>\n",
       "      <td>-4.080441</td>\n",
       "      <td>-2.000000</td>\n",
       "    </tr>\n",
       "    <tr>\n",
       "      <th>c</th>\n",
       "      <td>-16.301917</td>\n",
       "      <td>-4.080441</td>\n",
       "      <td>12.950000</td>\n",
       "      <td>4.080441</td>\n",
       "    </tr>\n",
       "    <tr>\n",
       "      <th>d</th>\n",
       "      <td>-6.453681</td>\n",
       "      <td>-2.000000</td>\n",
       "      <td>4.080441</td>\n",
       "      <td>3.000000</td>\n",
       "    </tr>\n",
       "  </tbody>\n",
       "</table>\n",
       "</div>"
      ],
      "text/plain": [
       "           a         b          c         d\n",
       "a  22.950000  6.453681 -16.301917 -6.453681\n",
       "b   6.453681  3.000000  -4.080441 -2.000000\n",
       "c -16.301917 -4.080441  12.950000  4.080441\n",
       "d  -6.453681 -2.000000   4.080441  3.000000"
      ]
     },
     "execution_count": 1,
     "metadata": {},
     "output_type": "execute_result"
    }
   ],
   "source": [
    "import numpy as np\n",
    "import pandas as pd\n",
    "\n",
    "\n",
    "a = [1, 1, 2, 3, 4]\n",
    "b = [2, 2, 3, 2, 1]\n",
    "c = [4, 6, 7, 8, 9]\n",
    "d = [4, 3, 4, 5, 4]\n",
    "\n",
    "X = np.c_[a, b, c, d]\n",
    "\n",
    "cc = np.corrcoef(X, rowvar=False)\n",
    "matrix_vif = np.linalg.inv(cc)\n",
    "arr_vif = matrix_vif.diagonal()\n",
    "\n",
    "\n",
    "# pandas series\n",
    "ser_vif = pd.Series(arr_vif, index='a b c d'.split())\n",
    "print(ser_vif)\n",
    "\n",
    "# pandas dataframe\n",
    "df = pd.DataFrame({'a':a,'b':b,'c':c,'d':d})\n",
    "df_cor = df.corr()\n",
    "\n",
    "df_vif = pd.DataFrame(np.linalg.inv(df.corr().values),\n",
    "                      index = df_cor.index,\n",
    "                      columns=df_cor.columns)\n",
    "\n",
    "df_vif"
   ]
  },
  {
   "cell_type": "markdown",
   "metadata": {},
   "source": [
    "# Using statsmodels"
   ]
  },
  {
   "cell_type": "code",
   "execution_count": 2,
   "metadata": {
    "ExecuteTime": {
     "end_time": "2019-10-17T13:25:25.209656Z",
     "start_time": "2019-10-17T13:25:24.816120Z"
    }
   },
   "outputs": [],
   "source": [
    "from statsmodels.stats.outliers_influence import variance_inflation_factor\n",
    "from statsmodels.tools.tools import add_constant\n",
    "import statsmodels.api as sm\n",
    "import statsmodels.formula.api as smf\n",
    "import statsmodels.robust as smrb # smrb.mad() etc"
   ]
  },
  {
   "cell_type": "code",
   "execution_count": 3,
   "metadata": {
    "ExecuteTime": {
     "end_time": "2019-10-17T13:25:25.223170Z",
     "start_time": "2019-10-17T13:25:25.211614Z"
    }
   },
   "outputs": [],
   "source": [
    "df = pd.DataFrame(\n",
    "    {'a': [1, 1, 2, 3, 4],\n",
    "     'b': [2, 2, 3, 2, 1],\n",
    "     'c': [4, 6, 7, 8, 9],\n",
    "     'd': [4, 3, 4, 5, 4]}\n",
    ")"
   ]
  },
  {
   "cell_type": "code",
   "execution_count": 4,
   "metadata": {
    "ExecuteTime": {
     "end_time": "2019-10-17T13:25:25.233723Z",
     "start_time": "2019-10-17T13:25:25.225975Z"
    }
   },
   "outputs": [
    {
     "data": {
      "text/plain": [
       "array([[1., 1., 2., 4., 4.],\n",
       "       [1., 1., 2., 6., 3.],\n",
       "       [1., 2., 3., 7., 4.],\n",
       "       [1., 3., 2., 8., 5.],\n",
       "       [1., 4., 1., 9., 4.]])"
      ]
     },
     "execution_count": 4,
     "metadata": {},
     "output_type": "execute_result"
    }
   ],
   "source": [
    "X = df.values\n",
    "X1 = sm.add_constant(X) # we need to add constant to get VIF\n",
    "X1"
   ]
  },
  {
   "cell_type": "code",
   "execution_count": 5,
   "metadata": {
    "ExecuteTime": {
     "end_time": "2019-10-17T13:25:25.248674Z",
     "start_time": "2019-10-17T13:25:25.237195Z"
    }
   },
   "outputs": [
    {
     "data": {
      "text/plain": [
       "[136.87499999999918,\n",
       " 22.950000000000042,\n",
       " 2.9999999999999987,\n",
       " 12.950000000000006,\n",
       " 3.000000000000005]"
      ]
     },
     "execution_count": 5,
     "metadata": {},
     "output_type": "execute_result"
    }
   ],
   "source": [
    "vif = [variance_inflation_factor(X1, i) for i in range(len(X1))]\n",
    "vif"
   ]
  },
  {
   "cell_type": "code",
   "execution_count": 6,
   "metadata": {
    "ExecuteTime": {
     "end_time": "2019-10-17T13:25:25.263304Z",
     "start_time": "2019-10-17T13:25:25.250884Z"
    }
   },
   "outputs": [
    {
     "data": {
      "text/plain": [
       "constant    136.875\n",
       "a            22.950\n",
       "b             3.000\n",
       "c            12.950\n",
       "d             3.000\n",
       "dtype: float64"
      ]
     },
     "execution_count": 6,
     "metadata": {},
     "output_type": "execute_result"
    }
   ],
   "source": [
    "ser_vif = pd.Series(vif, index='constant a b c d'.split())\n",
    "ser_vif"
   ]
  },
  {
   "cell_type": "code",
   "execution_count": 7,
   "metadata": {
    "ExecuteTime": {
     "end_time": "2019-10-17T13:25:25.282200Z",
     "start_time": "2019-10-17T13:25:25.266511Z"
    }
   },
   "outputs": [
    {
     "data": {
      "text/plain": [
       "a            22.950\n",
       "b             3.000\n",
       "c            12.950\n",
       "d             3.000\n",
       "constant    136.875\n",
       "dtype: float64"
      ]
     },
     "execution_count": 7,
     "metadata": {},
     "output_type": "execute_result"
    }
   ],
   "source": [
    "# using pandas to add constant\n",
    "df_X1 = df.assign(const=1.0)\n",
    "vif = [variance_inflation_factor(df_X1.values, i) for i in range(df_X1.shape[1])]\n",
    "ser_vif = pd.Series(vif, index='a b c d constant'.split())\n",
    "ser_vif"
   ]
  },
  {
   "cell_type": "markdown",
   "metadata": {},
   "source": [
    "# Using scikit-learn\n",
    "https://stackoverflow.com/questions/42658379/variance-inflation-factor-in-python"
   ]
  },
  {
   "cell_type": "code",
   "execution_count": 11,
   "metadata": {
    "ExecuteTime": {
     "end_time": "2019-10-17T13:36:35.466816Z",
     "start_time": "2019-10-17T13:36:35.461632Z"
    }
   },
   "outputs": [],
   "source": [
    "def my_sklearn_vif(exogs, data):\n",
    "    import pandas as pd\n",
    "    from sklearn.linear_model import LinearRegression\n",
    "\n",
    "    # initialize dictionaries\n",
    "    vif_dict, tolerance_dict = {}, {}\n",
    "\n",
    "    # form input data for each exogenous variable\n",
    "    for exog in exogs:\n",
    "        not_exog = [i for i in exogs if i != exog]\n",
    "        X, y = data[not_exog], data[exog]\n",
    "\n",
    "        # extract r-squared from the fit\n",
    "        r_squared = LinearRegression().fit(X, y).score(X, y)\n",
    "\n",
    "        # calculate VIF\n",
    "        vif = 1/(1 - r_squared)\n",
    "        vif_dict[exog] = vif\n",
    "\n",
    "        # calculate tolerance\n",
    "        tolerance = 1 - r_squared\n",
    "        tolerance_dict[exog] = tolerance\n",
    "\n",
    "    # return VIF DataFrame\n",
    "    df_vif = pd.DataFrame({'VIF': vif_dict, 'Tolerance': tolerance_dict})\n",
    "\n",
    "    return df_vif"
   ]
  },
  {
   "cell_type": "code",
   "execution_count": 12,
   "metadata": {
    "ExecuteTime": {
     "end_time": "2019-10-17T13:36:36.301890Z",
     "start_time": "2019-10-17T13:36:36.252195Z"
    }
   },
   "outputs": [
    {
     "data": {
      "text/html": [
       "<div>\n",
       "<style scoped>\n",
       "    .dataframe tbody tr th:only-of-type {\n",
       "        vertical-align: middle;\n",
       "    }\n",
       "\n",
       "    .dataframe tbody tr th {\n",
       "        vertical-align: top;\n",
       "    }\n",
       "\n",
       "    .dataframe thead th {\n",
       "        text-align: right;\n",
       "    }\n",
       "</style>\n",
       "<table border=\"1\" class=\"dataframe\">\n",
       "  <thead>\n",
       "    <tr style=\"text-align: right;\">\n",
       "      <th></th>\n",
       "      <th>VIF</th>\n",
       "      <th>Tolerance</th>\n",
       "    </tr>\n",
       "  </thead>\n",
       "  <tbody>\n",
       "    <tr>\n",
       "      <th>alcohol</th>\n",
       "      <td>3.436072</td>\n",
       "      <td>0.291030</td>\n",
       "    </tr>\n",
       "    <tr>\n",
       "      <th>speeding</th>\n",
       "      <td>1.884340</td>\n",
       "      <td>0.530690</td>\n",
       "    </tr>\n",
       "    <tr>\n",
       "      <th>no_previous</th>\n",
       "      <td>3.113984</td>\n",
       "      <td>0.321132</td>\n",
       "    </tr>\n",
       "    <tr>\n",
       "      <th>not_distracted</th>\n",
       "      <td>2.668456</td>\n",
       "      <td>0.374749</td>\n",
       "    </tr>\n",
       "  </tbody>\n",
       "</table>\n",
       "</div>"
      ],
      "text/plain": [
       "                     VIF  Tolerance\n",
       "alcohol         3.436072   0.291030\n",
       "speeding        1.884340   0.530690\n",
       "no_previous     3.113984   0.321132\n",
       "not_distracted  2.668456   0.374749"
      ]
     },
     "execution_count": 12,
     "metadata": {},
     "output_type": "execute_result"
    }
   ],
   "source": [
    "import seaborn as sns\n",
    "\n",
    "df = sns.load_dataset('car_crashes')\n",
    "exogs = ['alcohol', 'speeding', 'no_previous', 'not_distracted']\n",
    "my_sklearn_vif(exogs=exogs, data=df)"
   ]
  },
  {
   "cell_type": "code",
   "execution_count": 14,
   "metadata": {
    "ExecuteTime": {
     "end_time": "2019-10-17T13:38:25.470975Z",
     "start_time": "2019-10-17T13:38:25.431911Z"
    }
   },
   "outputs": [
    {
     "data": {
      "text/html": [
       "<div>\n",
       "<style scoped>\n",
       "    .dataframe tbody tr th:only-of-type {\n",
       "        vertical-align: middle;\n",
       "    }\n",
       "\n",
       "    .dataframe tbody tr th {\n",
       "        vertical-align: top;\n",
       "    }\n",
       "\n",
       "    .dataframe thead th {\n",
       "        text-align: right;\n",
       "    }\n",
       "</style>\n",
       "<table border=\"1\" class=\"dataframe\">\n",
       "  <thead>\n",
       "    <tr style=\"text-align: right;\">\n",
       "      <th></th>\n",
       "      <th>VIF</th>\n",
       "      <th>Tolerance</th>\n",
       "    </tr>\n",
       "  </thead>\n",
       "  <tbody>\n",
       "    <tr>\n",
       "      <th>a</th>\n",
       "      <td>22.95</td>\n",
       "      <td>0.043573</td>\n",
       "    </tr>\n",
       "    <tr>\n",
       "      <th>b</th>\n",
       "      <td>3.00</td>\n",
       "      <td>0.333333</td>\n",
       "    </tr>\n",
       "    <tr>\n",
       "      <th>c</th>\n",
       "      <td>12.95</td>\n",
       "      <td>0.077220</td>\n",
       "    </tr>\n",
       "    <tr>\n",
       "      <th>d</th>\n",
       "      <td>3.00</td>\n",
       "      <td>0.333333</td>\n",
       "    </tr>\n",
       "  </tbody>\n",
       "</table>\n",
       "</div>"
      ],
      "text/plain": [
       "     VIF  Tolerance\n",
       "a  22.95   0.043573\n",
       "b   3.00   0.333333\n",
       "c  12.95   0.077220\n",
       "d   3.00   0.333333"
      ]
     },
     "execution_count": 14,
     "metadata": {},
     "output_type": "execute_result"
    }
   ],
   "source": [
    "df = pd.DataFrame(\n",
    "    {'a': [1, 1, 2, 3, 4],\n",
    "     'b': [2, 2, 3, 2, 1],\n",
    "     'c': [4, 6, 7, 8, 9],\n",
    "     'd': [4, 3, 4, 5, 4]}\n",
    ")\n",
    "\n",
    "exogs = ['a', 'b', 'c', 'd']\n",
    "my_sklearn_vif(exogs=exogs, data=df)"
   ]
  },
  {
   "cell_type": "code",
   "execution_count": null,
   "metadata": {},
   "outputs": [],
   "source": []
  }
 ],
 "metadata": {
  "kernelspec": {
   "display_name": "Python (dataSc)",
   "language": "python",
   "name": "datasc"
  },
  "language_info": {
   "codemirror_mode": {
    "name": "ipython",
    "version": 3
   },
   "file_extension": ".py",
   "mimetype": "text/x-python",
   "name": "python",
   "nbconvert_exporter": "python",
   "pygments_lexer": "ipython3",
   "version": "3.7.3"
  },
  "toc": {
   "base_numbering": 1,
   "nav_menu": {},
   "number_sections": true,
   "sideBar": true,
   "skip_h1_title": false,
   "title_cell": "Table of Contents",
   "title_sidebar": "Contents",
   "toc_cell": true,
   "toc_position": {},
   "toc_section_display": true,
   "toc_window_display": true
  }
 },
 "nbformat": 4,
 "nbformat_minor": 2
}
