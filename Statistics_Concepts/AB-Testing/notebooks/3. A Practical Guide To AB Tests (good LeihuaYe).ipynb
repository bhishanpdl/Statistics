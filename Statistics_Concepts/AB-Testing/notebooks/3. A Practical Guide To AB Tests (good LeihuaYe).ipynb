{
 "cells": [
  {
   "cell_type": "markdown",
   "metadata": {},
   "source": [
    "# Part 1: Power Analysis"
   ]
  },
  {
   "cell_type": "code",
   "execution_count": 2,
   "metadata": {},
   "outputs": [
    {
     "name": "stdout",
     "output_type": "stream",
     "text": [
      "Sample Size: 1571.000\n"
     ]
    }
   ],
   "source": [
    "from statsmodels.stats.power import TTestIndPower\n",
    "\n",
    "# parameters for power analysis \n",
    "# effect: standardized effect size, difference between the two means divided by the standard deviation.\n",
    "# effect_size has to be positive.\n",
    "\n",
    "effect = 0.1\n",
    "alpha = 0.05\n",
    "power = 0.8\n",
    "\n",
    "# perform power analysis \n",
    "analysis = TTestIndPower()\n",
    "result = analysis.solve_power(effect, power = power,nobs1= None, ratio = 1.0, alpha = alpha)\n",
    "print('Sample Size: %.3f' % round(result))"
   ]
  },
  {
   "cell_type": "markdown",
   "metadata": {},
   "source": [
    "# Part 2: Data Generation Process Through Statistical Simulation\n",
    "Variables to be simulated: \n",
    "1. userid\n",
    "2. version\n",
    "3. minutes of plays \n",
    "4. user engagement after 1 day (metric_1)\n",
    "5. user engagement after 7 days (metric_2)"
   ]
  },
  {
   "cell_type": "code",
   "execution_count": 3,
   "metadata": {},
   "outputs": [],
   "source": [
    "# variable 1: userid\n",
    "user_id_control = list(range(1,1601))# 1600 control\n",
    "user_id_treatment = list(range(1601,3350))# 1749 treated"
   ]
  },
  {
   "cell_type": "markdown",
   "metadata": {},
   "source": [
    "----"
   ]
  },
  {
   "cell_type": "code",
   "execution_count": 4,
   "metadata": {},
   "outputs": [],
   "source": [
    "#variable 2: version \n",
    "import numpy as np\n",
    "control_status = ['control']*1600\n",
    "treatment_status = ['treatment']*1749   "
   ]
  },
  {
   "cell_type": "markdown",
   "metadata": {},
   "source": [
    "----"
   ]
  },
  {
   "cell_type": "code",
   "execution_count": 5,
   "metadata": {},
   "outputs": [],
   "source": [
    "# variable 3: minutes of plays, which follows a normal distribution with a μ of 30 minutes and σ² of 10 (central limit theorem)\n",
    "\n",
    "# for control group\n",
    "\n",
    "μ_1 = 30\n",
    "\n",
    "σ_squared_1 = 10\n",
    "\n",
    "np.random.seed(123)\n",
    "\n",
    "minutes_control = np.random.normal(loc = μ_1, scale = σ_squared_1, size = 1600)"
   ]
  },
  {
   "cell_type": "code",
   "execution_count": 6,
   "metadata": {},
   "outputs": [],
   "source": [
    "# for treatment group, which increases the user engagement by \n",
    "# according to the formula (μ_1 - μ_2)/σ_squared = 0.1, we obtain μ_2 = 31\n",
    "\n",
    "μ_2 = 31\n",
    "\n",
    "σ_squared_2 = 10\n",
    "\n",
    "np.random.seed(123)\n",
    "\n",
    "minutes_treat = np.random.normal(loc = μ_2, scale = σ_squared_2, size = 1749)"
   ]
  },
  {
   "cell_type": "markdown",
   "metadata": {},
   "source": [
    "----"
   ]
  },
  {
   "cell_type": "code",
   "execution_count": 7,
   "metadata": {},
   "outputs": [],
   "source": [
    "# variable 4 user engagement after 1 day (metric_1)\n",
    "# after day 1, treatment performs better than control --> to simulate novelty effect\n",
    "\n",
    "Active_status = [True,False]\n",
    "\n",
    "# control  \n",
    "day_1_control = np.random.choice(Active_status, 1600, p=[0.3,0.7])\n",
    "\n",
    "# treatment\n",
    "day_1_treatment = np.random.choice(Active_status, 1749, p=[0.35,0.65])"
   ]
  },
  {
   "cell_type": "markdown",
   "metadata": {},
   "source": [
    "----"
   ]
  },
  {
   "cell_type": "code",
   "execution_count": 8,
   "metadata": {},
   "outputs": [],
   "source": [
    "# variable 5 user engagement after 7 day (metric_2)\n",
    "# after day 7, control > treatment --> the novelty effect diminishes & performance reversed\n",
    "\n",
    "Active_status = [True,False]\n",
    "\n",
    "# control  \n",
    "day_7_control = np.random.choice(Active_status, 1600, p=[0.35,0.65])\n",
    "\n",
    "# treatment\n",
    "day_7_treatment = np.random.choice(Active_status, 1749, p=[0.25,0.75])"
   ]
  },
  {
   "cell_type": "markdown",
   "metadata": {},
   "source": [
    "----"
   ]
  },
  {
   "cell_type": "markdown",
   "metadata": {},
   "source": [
    "# construct the control group "
   ]
  },
  {
   "cell_type": "markdown",
   "metadata": {},
   "source": [
    "1. user_id_control; \n",
    "2. control_status\n",
    "3. minutes_control\n",
    "4. day_1_control\n",
    "5. day_7_control"
   ]
  },
  {
   "cell_type": "code",
   "execution_count": 10,
   "metadata": {},
   "outputs": [
    {
     "data": {
      "text/html": [
       "<div>\n",
       "<style scoped>\n",
       "    .dataframe tbody tr th:only-of-type {\n",
       "        vertical-align: middle;\n",
       "    }\n",
       "\n",
       "    .dataframe tbody tr th {\n",
       "        vertical-align: top;\n",
       "    }\n",
       "\n",
       "    .dataframe thead th {\n",
       "        text-align: right;\n",
       "    }\n",
       "</style>\n",
       "<table border=\"1\" class=\"dataframe\">\n",
       "  <thead>\n",
       "    <tr style=\"text-align: right;\">\n",
       "      <th></th>\n",
       "      <th>user_id</th>\n",
       "      <th>version</th>\n",
       "      <th>minutes_play</th>\n",
       "      <th>day_1_active</th>\n",
       "      <th>day_7_active</th>\n",
       "    </tr>\n",
       "  </thead>\n",
       "  <tbody>\n",
       "    <tr>\n",
       "      <td>0</td>\n",
       "      <td>1</td>\n",
       "      <td>control</td>\n",
       "      <td>19.143694</td>\n",
       "      <td>False</td>\n",
       "      <td>False</td>\n",
       "    </tr>\n",
       "    <tr>\n",
       "      <td>1</td>\n",
       "      <td>2</td>\n",
       "      <td>control</td>\n",
       "      <td>39.973454</td>\n",
       "      <td>False</td>\n",
       "      <td>False</td>\n",
       "    </tr>\n",
       "    <tr>\n",
       "      <td>2</td>\n",
       "      <td>3</td>\n",
       "      <td>control</td>\n",
       "      <td>32.829785</td>\n",
       "      <td>False</td>\n",
       "      <td>False</td>\n",
       "    </tr>\n",
       "    <tr>\n",
       "      <td>3</td>\n",
       "      <td>4</td>\n",
       "      <td>control</td>\n",
       "      <td>14.937053</td>\n",
       "      <td>False</td>\n",
       "      <td>False</td>\n",
       "    </tr>\n",
       "    <tr>\n",
       "      <td>4</td>\n",
       "      <td>5</td>\n",
       "      <td>control</td>\n",
       "      <td>24.213997</td>\n",
       "      <td>True</td>\n",
       "      <td>True</td>\n",
       "    </tr>\n",
       "    <tr>\n",
       "      <td>...</td>\n",
       "      <td>...</td>\n",
       "      <td>...</td>\n",
       "      <td>...</td>\n",
       "      <td>...</td>\n",
       "      <td>...</td>\n",
       "    </tr>\n",
       "    <tr>\n",
       "      <td>1595</td>\n",
       "      <td>1596</td>\n",
       "      <td>control</td>\n",
       "      <td>27.154466</td>\n",
       "      <td>True</td>\n",
       "      <td>True</td>\n",
       "    </tr>\n",
       "    <tr>\n",
       "      <td>1596</td>\n",
       "      <td>1597</td>\n",
       "      <td>control</td>\n",
       "      <td>46.414042</td>\n",
       "      <td>True</td>\n",
       "      <td>True</td>\n",
       "    </tr>\n",
       "    <tr>\n",
       "      <td>1597</td>\n",
       "      <td>1598</td>\n",
       "      <td>control</td>\n",
       "      <td>41.523560</td>\n",
       "      <td>False</td>\n",
       "      <td>False</td>\n",
       "    </tr>\n",
       "    <tr>\n",
       "      <td>1598</td>\n",
       "      <td>1599</td>\n",
       "      <td>control</td>\n",
       "      <td>23.981909</td>\n",
       "      <td>False</td>\n",
       "      <td>False</td>\n",
       "    </tr>\n",
       "    <tr>\n",
       "      <td>1599</td>\n",
       "      <td>1600</td>\n",
       "      <td>control</td>\n",
       "      <td>17.843379</td>\n",
       "      <td>False</td>\n",
       "      <td>False</td>\n",
       "    </tr>\n",
       "  </tbody>\n",
       "</table>\n",
       "<p>1600 rows × 5 columns</p>\n",
       "</div>"
      ],
      "text/plain": [
       "      user_id  version  minutes_play  day_1_active  day_7_active\n",
       "0           1  control     19.143694         False         False\n",
       "1           2  control     39.973454         False         False\n",
       "2           3  control     32.829785         False         False\n",
       "3           4  control     14.937053         False         False\n",
       "4           5  control     24.213997          True          True\n",
       "...       ...      ...           ...           ...           ...\n",
       "1595     1596  control     27.154466          True          True\n",
       "1596     1597  control     46.414042          True          True\n",
       "1597     1598  control     41.523560         False         False\n",
       "1598     1599  control     23.981909         False         False\n",
       "1599     1600  control     17.843379         False         False\n",
       "\n",
       "[1600 rows x 5 columns]"
      ]
     },
     "execution_count": 10,
     "metadata": {},
     "output_type": "execute_result"
    }
   ],
   "source": [
    "# control data\n",
    "import pandas as pd\n",
    "raw_control = {'user_id':user_id_control,\n",
    "                 'version':control_status,\n",
    "               'minutes_play':minutes_control,\n",
    "               'day_1_active':day_1_control,\n",
    "               'day_7_active':day_1_control\n",
    "                }\n",
    "\n",
    "control_group = pd.DataFrame(data = raw_control)\n",
    "control_group"
   ]
  },
  {
   "cell_type": "markdown",
   "metadata": {},
   "source": [
    "1. user_id_treatment\n",
    "2. treatment_status \n",
    "3. minutes_treat\n",
    "4. day_1_treatment\n",
    "5. day_7_treatment"
   ]
  },
  {
   "cell_type": "code",
   "execution_count": 11,
   "metadata": {},
   "outputs": [
    {
     "data": {
      "text/html": [
       "<div>\n",
       "<style scoped>\n",
       "    .dataframe tbody tr th:only-of-type {\n",
       "        vertical-align: middle;\n",
       "    }\n",
       "\n",
       "    .dataframe tbody tr th {\n",
       "        vertical-align: top;\n",
       "    }\n",
       "\n",
       "    .dataframe thead th {\n",
       "        text-align: right;\n",
       "    }\n",
       "</style>\n",
       "<table border=\"1\" class=\"dataframe\">\n",
       "  <thead>\n",
       "    <tr style=\"text-align: right;\">\n",
       "      <th></th>\n",
       "      <th>user_id</th>\n",
       "      <th>version</th>\n",
       "      <th>minutes_play</th>\n",
       "      <th>day_1_active</th>\n",
       "      <th>day_7_active</th>\n",
       "    </tr>\n",
       "  </thead>\n",
       "  <tbody>\n",
       "    <tr>\n",
       "      <td>0</td>\n",
       "      <td>1601</td>\n",
       "      <td>treatment</td>\n",
       "      <td>25.515817</td>\n",
       "      <td>False</td>\n",
       "      <td>False</td>\n",
       "    </tr>\n",
       "    <tr>\n",
       "      <td>1</td>\n",
       "      <td>1602</td>\n",
       "      <td>treatment</td>\n",
       "      <td>41.653829</td>\n",
       "      <td>False</td>\n",
       "      <td>False</td>\n",
       "    </tr>\n",
       "    <tr>\n",
       "      <td>2</td>\n",
       "      <td>1603</td>\n",
       "      <td>treatment</td>\n",
       "      <td>25.760776</td>\n",
       "      <td>False</td>\n",
       "      <td>False</td>\n",
       "    </tr>\n",
       "    <tr>\n",
       "      <td>3</td>\n",
       "      <td>1604</td>\n",
       "      <td>treatment</td>\n",
       "      <td>36.459880</td>\n",
       "      <td>True</td>\n",
       "      <td>False</td>\n",
       "    </tr>\n",
       "    <tr>\n",
       "      <td>4</td>\n",
       "      <td>1605</td>\n",
       "      <td>treatment</td>\n",
       "      <td>25.341199</td>\n",
       "      <td>True</td>\n",
       "      <td>False</td>\n",
       "    </tr>\n",
       "    <tr>\n",
       "      <td>...</td>\n",
       "      <td>...</td>\n",
       "      <td>...</td>\n",
       "      <td>...</td>\n",
       "      <td>...</td>\n",
       "      <td>...</td>\n",
       "    </tr>\n",
       "    <tr>\n",
       "      <td>1744</td>\n",
       "      <td>3345</td>\n",
       "      <td>treatment</td>\n",
       "      <td>24.098838</td>\n",
       "      <td>True</td>\n",
       "      <td>False</td>\n",
       "    </tr>\n",
       "    <tr>\n",
       "      <td>1745</td>\n",
       "      <td>3346</td>\n",
       "      <td>treatment</td>\n",
       "      <td>29.683718</td>\n",
       "      <td>True</td>\n",
       "      <td>False</td>\n",
       "    </tr>\n",
       "    <tr>\n",
       "      <td>1746</td>\n",
       "      <td>3347</td>\n",
       "      <td>treatment</td>\n",
       "      <td>34.013900</td>\n",
       "      <td>True</td>\n",
       "      <td>False</td>\n",
       "    </tr>\n",
       "    <tr>\n",
       "      <td>1747</td>\n",
       "      <td>3348</td>\n",
       "      <td>treatment</td>\n",
       "      <td>44.909702</td>\n",
       "      <td>False</td>\n",
       "      <td>False</td>\n",
       "    </tr>\n",
       "    <tr>\n",
       "      <td>1748</td>\n",
       "      <td>3349</td>\n",
       "      <td>treatment</td>\n",
       "      <td>51.464873</td>\n",
       "      <td>False</td>\n",
       "      <td>False</td>\n",
       "    </tr>\n",
       "  </tbody>\n",
       "</table>\n",
       "<p>1749 rows × 5 columns</p>\n",
       "</div>"
      ],
      "text/plain": [
       "      user_id    version  minutes_play  day_1_active  day_7_active\n",
       "0        1601  treatment     25.515817         False         False\n",
       "1        1602  treatment     41.653829         False         False\n",
       "2        1603  treatment     25.760776         False         False\n",
       "3        1604  treatment     36.459880          True         False\n",
       "4        1605  treatment     25.341199          True         False\n",
       "...       ...        ...           ...           ...           ...\n",
       "1744     3345  treatment     24.098838          True         False\n",
       "1745     3346  treatment     29.683718          True         False\n",
       "1746     3347  treatment     34.013900          True         False\n",
       "1747     3348  treatment     44.909702         False         False\n",
       "1748     3349  treatment     51.464873         False         False\n",
       "\n",
       "[1749 rows x 5 columns]"
      ]
     },
     "execution_count": 11,
     "metadata": {},
     "output_type": "execute_result"
    }
   ],
   "source": [
    "# treatment data \n",
    "raw_treatment = {'user_id':user_id_treatment,\n",
    "                 'version':treatment_status,\n",
    "               'minutes_play':minutes_treat,\n",
    "               'day_1_active':day_1_treatment,\n",
    "               'day_7_active':day_7_treatment\n",
    "                }\n",
    "\n",
    "treatment_group = pd.DataFrame(data = raw_treatment)\n",
    "treatment_group"
   ]
  },
  {
   "cell_type": "code",
   "execution_count": 12,
   "metadata": {},
   "outputs": [],
   "source": [
    "# combine these two datasets\n",
    "two_datasets = control_group.append(treatment_group)\n",
    "\n",
    "# randomize the orders using df.sample(frac=1)\n",
    "# The frac keyword argument: specifies the fraction of rows to return in the random sample\n",
    "# so frac=1 means return all rows (in random order).\n",
    "final_data = two_datasets.sample(frac=1)"
   ]
  },
  {
   "cell_type": "code",
   "execution_count": 13,
   "metadata": {},
   "outputs": [
    {
     "name": "stdout",
     "output_type": "stream",
     "text": [
      "<class 'pandas.core.frame.DataFrame'>\n",
      "Int64Index: 3349 entries, 1558 to 345\n",
      "Data columns (total 5 columns):\n",
      "user_id         3349 non-null int64\n",
      "version         3349 non-null object\n",
      "minutes_play    3349 non-null float64\n",
      "day_1_active    3349 non-null bool\n",
      "day_7_active    3349 non-null bool\n",
      "dtypes: bool(2), float64(1), int64(1), object(1)\n",
      "memory usage: 111.2+ KB\n"
     ]
    }
   ],
   "source": [
    "final_data.info()"
   ]
  },
  {
   "cell_type": "code",
   "execution_count": 29,
   "metadata": {},
   "outputs": [
    {
     "data": {
      "text/html": [
       "<div>\n",
       "<style scoped>\n",
       "    .dataframe tbody tr th:only-of-type {\n",
       "        vertical-align: middle;\n",
       "    }\n",
       "\n",
       "    .dataframe tbody tr th {\n",
       "        vertical-align: top;\n",
       "    }\n",
       "\n",
       "    .dataframe thead th {\n",
       "        text-align: right;\n",
       "    }\n",
       "</style>\n",
       "<table border=\"1\" class=\"dataframe\">\n",
       "  <thead>\n",
       "    <tr style=\"text-align: right;\">\n",
       "      <th></th>\n",
       "      <th>user_id</th>\n",
       "      <th>version</th>\n",
       "      <th>minutes_play</th>\n",
       "      <th>day_1_active</th>\n",
       "      <th>day_7_active</th>\n",
       "      <th>minutes_play_integers</th>\n",
       "    </tr>\n",
       "  </thead>\n",
       "  <tbody>\n",
       "    <tr>\n",
       "      <td>1558</td>\n",
       "      <td>3159</td>\n",
       "      <td>treatment</td>\n",
       "      <td>26.156152</td>\n",
       "      <td>False</td>\n",
       "      <td>True</td>\n",
       "      <td>26.0</td>\n",
       "    </tr>\n",
       "    <tr>\n",
       "      <td>1223</td>\n",
       "      <td>1224</td>\n",
       "      <td>control</td>\n",
       "      <td>24.313143</td>\n",
       "      <td>False</td>\n",
       "      <td>False</td>\n",
       "      <td>24.0</td>\n",
       "    </tr>\n",
       "    <tr>\n",
       "      <td>392</td>\n",
       "      <td>393</td>\n",
       "      <td>control</td>\n",
       "      <td>29.013153</td>\n",
       "      <td>True</td>\n",
       "      <td>True</td>\n",
       "      <td>29.0</td>\n",
       "    </tr>\n",
       "    <tr>\n",
       "      <td>808</td>\n",
       "      <td>809</td>\n",
       "      <td>control</td>\n",
       "      <td>27.797075</td>\n",
       "      <td>True</td>\n",
       "      <td>True</td>\n",
       "      <td>28.0</td>\n",
       "    </tr>\n",
       "    <tr>\n",
       "      <td>485</td>\n",
       "      <td>2086</td>\n",
       "      <td>treatment</td>\n",
       "      <td>32.152395</td>\n",
       "      <td>False</td>\n",
       "      <td>False</td>\n",
       "      <td>32.0</td>\n",
       "    </tr>\n",
       "  </tbody>\n",
       "</table>\n",
       "</div>"
      ],
      "text/plain": [
       "      user_id    version  minutes_play  day_1_active  day_7_active  \\\n",
       "1558     3159  treatment     26.156152         False          True   \n",
       "1223     1224    control     24.313143         False         False   \n",
       "392       393    control     29.013153          True          True   \n",
       "808       809    control     27.797075          True          True   \n",
       "485      2086  treatment     32.152395         False         False   \n",
       "\n",
       "      minutes_play_integers  \n",
       "1558                   26.0  \n",
       "1223                   24.0  \n",
       "392                    29.0  \n",
       "808                    28.0  \n",
       "485                    32.0  "
      ]
     },
     "execution_count": 29,
     "metadata": {},
     "output_type": "execute_result"
    }
   ],
   "source": [
    "final_data.head()"
   ]
  },
  {
   "cell_type": "markdown",
   "metadata": {},
   "source": [
    "# Part 3: After-Test Data Analysis"
   ]
  },
  {
   "cell_type": "markdown",
   "metadata": {},
   "source": [
    "### 3.1 Count the Number of Users in Each Version "
   ]
  },
  {
   "cell_type": "code",
   "execution_count": 14,
   "metadata": {},
   "outputs": [
    {
     "data": {
      "text/plain": [
       "version\n",
       "control      1600\n",
       "treatment    1749\n",
       "Name: user_id, dtype: int64"
      ]
     },
     "execution_count": 14,
     "metadata": {},
     "output_type": "execute_result"
    }
   ],
   "source": [
    "# calculate the number of users in each version\n",
    "final_data.groupby('version')['user_id'].count()"
   ]
  },
  {
   "cell_type": "markdown",
   "metadata": {},
   "source": [
    "# the assignment process looks suspicious as more people assigned to the treatment than the control. "
   ]
  },
  {
   "cell_type": "markdown",
   "metadata": {},
   "source": [
    "### 3.2 Formally Test for Sample Ratio Mismatch\n",
    "- Chi-Square test"
   ]
  },
  {
   "cell_type": "code",
   "execution_count": 30,
   "metadata": {},
   "outputs": [
    {
     "data": {
      "text/plain": [
       "Power_divergenceResult(statistic=6.627462686567164, pvalue=0.010041820594939122)"
      ]
     },
     "execution_count": 30,
     "metadata": {},
     "output_type": "execute_result"
    }
   ],
   "source": [
    "from scipy.stats import chisquare \n",
    "chisquare([1600,1749],f_exp = [1675,1675])"
   ]
  },
  {
   "cell_type": "markdown",
   "metadata": {},
   "source": [
    "Typically, we set the alpha level at 0.001 to test Sample Ratio Mismatch. Since the p value is 0.01, we have to reject the null hypothesis and conclude no evidence of SRM.\n",
    "In other words, the treatment assignment works as expected."
   ]
  },
  {
   "cell_type": "code",
   "execution_count": 31,
   "metadata": {},
   "outputs": [
    {
     "data": {
      "text/html": [
       "<div>\n",
       "<style scoped>\n",
       "    .dataframe tbody tr th:only-of-type {\n",
       "        vertical-align: middle;\n",
       "    }\n",
       "\n",
       "    .dataframe tbody tr th {\n",
       "        vertical-align: top;\n",
       "    }\n",
       "\n",
       "    .dataframe thead th {\n",
       "        text-align: right;\n",
       "    }\n",
       "</style>\n",
       "<table border=\"1\" class=\"dataframe\">\n",
       "  <thead>\n",
       "    <tr style=\"text-align: right;\">\n",
       "      <th></th>\n",
       "      <th>user_id</th>\n",
       "      <th>version</th>\n",
       "      <th>minutes_play</th>\n",
       "      <th>day_1_active</th>\n",
       "      <th>day_7_active</th>\n",
       "      <th>minutes_play_integers</th>\n",
       "    </tr>\n",
       "  </thead>\n",
       "  <tbody>\n",
       "    <tr>\n",
       "      <td>1558</td>\n",
       "      <td>3159</td>\n",
       "      <td>treatment</td>\n",
       "      <td>26.156152</td>\n",
       "      <td>False</td>\n",
       "      <td>True</td>\n",
       "      <td>26.0</td>\n",
       "    </tr>\n",
       "    <tr>\n",
       "      <td>1223</td>\n",
       "      <td>1224</td>\n",
       "      <td>control</td>\n",
       "      <td>24.313143</td>\n",
       "      <td>False</td>\n",
       "      <td>False</td>\n",
       "      <td>24.0</td>\n",
       "    </tr>\n",
       "    <tr>\n",
       "      <td>392</td>\n",
       "      <td>393</td>\n",
       "      <td>control</td>\n",
       "      <td>29.013153</td>\n",
       "      <td>True</td>\n",
       "      <td>True</td>\n",
       "      <td>29.0</td>\n",
       "    </tr>\n",
       "    <tr>\n",
       "      <td>808</td>\n",
       "      <td>809</td>\n",
       "      <td>control</td>\n",
       "      <td>27.797075</td>\n",
       "      <td>True</td>\n",
       "      <td>True</td>\n",
       "      <td>28.0</td>\n",
       "    </tr>\n",
       "    <tr>\n",
       "      <td>485</td>\n",
       "      <td>2086</td>\n",
       "      <td>treatment</td>\n",
       "      <td>32.152395</td>\n",
       "      <td>False</td>\n",
       "      <td>False</td>\n",
       "      <td>32.0</td>\n",
       "    </tr>\n",
       "  </tbody>\n",
       "</table>\n",
       "</div>"
      ],
      "text/plain": [
       "      user_id    version  minutes_play  day_1_active  day_7_active  \\\n",
       "1558     3159  treatment     26.156152         False          True   \n",
       "1223     1224    control     24.313143         False         False   \n",
       "392       393    control     29.013153          True          True   \n",
       "808       809    control     27.797075          True          True   \n",
       "485      2086  treatment     32.152395         False         False   \n",
       "\n",
       "      minutes_play_integers  \n",
       "1558                   26.0  \n",
       "1223                   24.0  \n",
       "392                    29.0  \n",
       "808                    28.0  \n",
       "485                    32.0  "
      ]
     },
     "execution_count": 31,
     "metadata": {},
     "output_type": "execute_result"
    }
   ],
   "source": [
    "final_data.head()"
   ]
  },
  {
   "cell_type": "markdown",
   "metadata": {},
   "source": [
    "### 3.3 Plot the Distribution of Video Played for Each Group "
   ]
  },
  {
   "cell_type": "code",
   "execution_count": 39,
   "metadata": {},
   "outputs": [
    {
     "data": {
      "text/plain": [
       "Text(0, 0.5, 'User Count')"
      ]
     },
     "execution_count": 39,
     "metadata": {},
     "output_type": "execute_result"
    },
    {
     "data": {
      "image/png": "[encoded data removed]",
      "text/plain": [
       "<Figure size 432x288 with 1 Axes>"
      ]
     },
     "metadata": {
      "needs_background": "light"
     },
     "output_type": "display_data"
    }
   ],
   "source": [
    "%matplotlib inline\n",
    "\n",
    "final_data['minutes_play_integers'] = round(final_data['minutes_play'])\n",
    "plot_df = final_data.groupby('minutes_play_integers')['user_id'].count()\n",
    "\n",
    "# Plot the distribution of players that played 0 to 50 minutes\n",
    "ax = plot_df.head(n=50).plot(x=\"minutes_play_integers\", y=\"user_id\", kind=\"hist\")\n",
    "ax.set_xlabel(\"Duration of Video Played in Minutes\")\n",
    "ax.set_ylabel(\"User Count\")"
   ]
  },
  {
   "cell_type": "markdown",
   "metadata": {},
   "source": [
    "# Metric 1: 1-day retention by AB-Group"
   ]
  },
  {
   "cell_type": "code",
   "execution_count": 35,
   "metadata": {},
   "outputs": [
    {
     "data": {
      "text/plain": [
       "0.3248730964467005"
      ]
     },
     "execution_count": 35,
     "metadata": {},
     "output_type": "execute_result"
    }
   ],
   "source": [
    "# 1-day retention\n",
    "final_data['day_1_active'].mean()"
   ]
  },
  {
   "cell_type": "code",
   "execution_count": 36,
   "metadata": {},
   "outputs": [
    {
     "data": {
      "text/plain": [
       "version\n",
       "control      0.296875\n",
       "treatment    0.350486\n",
       "Name: day_1_active, dtype: float64"
      ]
     },
     "execution_count": 36,
     "metadata": {},
     "output_type": "execute_result"
    }
   ],
   "source": [
    "# 1-day retention by group\n",
    "final_data.groupby('version')['day_1_active'].mean()"
   ]
  },
  {
   "cell_type": "markdown",
   "metadata": {},
   "source": [
    "# Some interesting questions:\n",
    "1. Treatment has a higher retention rate (0.35) than the control (0.29). Is the difference significant?\n",
    "2. To what extent can we trust the result?\n",
    "3. What is the variability of the difference? \n",
    "4. In other words, how many times do we obtain more extreme values, if we repeat the process for 100 times?\n",
    "--> Solution: Bootstrap (resampling, replication) and check for the variability "
   ]
  },
  {
   "cell_type": "code",
   "execution_count": 20,
   "metadata": {},
   "outputs": [
    {
     "data": {
      "text/plain": [
       "<matplotlib.axes._subplots.AxesSubplot at 0x7fb93d3e9710>"
      ]
     },
     "execution_count": 20,
     "metadata": {},
     "output_type": "execute_result"
    },
    {
     "data": {
      "image/png": "[encoded data removed]",
      "text/plain": [
       "<Figure size 432x288 with 1 Axes>"
      ]
     },
     "metadata": {
      "needs_background": "light"
     },
     "output_type": "display_data"
    }
   ],
   "source": [
    "# solution: bootstrap\n",
    "boot_means = []\n",
    "\n",
    "# run the simulation for 10k times \n",
    "for i in range(10000):\n",
    "    #frac=1 means randomize the order of all rows \n",
    "    boot_sample = final_data.sample(frac=1,replace=True).groupby('version')['day_1_active'].mean()\n",
    "    boot_means.append(boot_sample)\n",
    "\n",
    "# a Pandas DataFrame\n",
    "boot_means = pd.DataFrame(boot_means)\n",
    "\n",
    "# kernel density estimate\n",
    "boot_means.plot(kind = 'kde')"
   ]
  },
  {
   "cell_type": "code",
   "execution_count": 22,
   "metadata": {},
   "outputs": [],
   "source": [
    "# create a new column, diff, which is the difference between the two variants, scaled by the control group\n",
    "boot_means['diff'] = (boot_means['treatment'] - boot_means['control'])/boot_means['control']*100"
   ]
  },
  {
   "cell_type": "code",
   "execution_count": 23,
   "metadata": {},
   "outputs": [
    {
     "data": {
      "text/plain": [
       "day_1_active    12.603674\n",
       "day_1_active    20.623621\n",
       "day_1_active    17.682652\n",
       "day_1_active    20.093840\n",
       "day_1_active    15.809040\n",
       "                  ...    \n",
       "day_1_active    13.919948\n",
       "day_1_active    17.328947\n",
       "day_1_active    13.024745\n",
       "day_1_active    22.401725\n",
       "day_1_active    19.605505\n",
       "Name: diff, Length: 10000, dtype: float64"
      ]
     },
     "execution_count": 23,
     "metadata": {},
     "output_type": "execute_result"
    }
   ],
   "source": [
    "boot_means['diff']"
   ]
  },
  {
   "cell_type": "code",
   "execution_count": 24,
   "metadata": {},
   "outputs": [
    {
     "data": {
      "text/plain": [
       "Text(0.5, 0, '% diff in means')"
      ]
     },
     "execution_count": 24,
     "metadata": {},
     "output_type": "execute_result"
    },
    {
     "data": {
      "image/png": "[encoded data removed]",
      "text/plain": [
       "<Figure size 432x288 with 1 Axes>"
      ]
     },
     "metadata": {
      "needs_background": "light"
     },
     "output_type": "display_data"
    }
   ],
   "source": [
    "# plot the bootstrap sample difference \n",
    "ax = boot_means['diff'].plot(kind = 'kde')\n",
    "ax.set_xlabel(\"% diff in means\")"
   ]
  },
  {
   "cell_type": "code",
   "execution_count": 25,
   "metadata": {},
   "outputs": [
    {
     "data": {
      "text/html": [
       "<div>\n",
       "<style scoped>\n",
       "    .dataframe tbody tr th:only-of-type {\n",
       "        vertical-align: middle;\n",
       "    }\n",
       "\n",
       "    .dataframe tbody tr th {\n",
       "        vertical-align: top;\n",
       "    }\n",
       "\n",
       "    .dataframe thead th {\n",
       "        text-align: right;\n",
       "    }\n",
       "</style>\n",
       "<table border=\"1\" class=\"dataframe\">\n",
       "  <thead>\n",
       "    <tr style=\"text-align: right;\">\n",
       "      <th>version</th>\n",
       "      <th>control</th>\n",
       "      <th>treatment</th>\n",
       "      <th>diff</th>\n",
       "    </tr>\n",
       "  </thead>\n",
       "  <tbody>\n",
       "    <tr>\n",
       "      <td>day_1_active</td>\n",
       "      <td>0.317058</td>\n",
       "      <td>0.357019</td>\n",
       "      <td>12.603674</td>\n",
       "    </tr>\n",
       "    <tr>\n",
       "      <td>day_1_active</td>\n",
       "      <td>0.291641</td>\n",
       "      <td>0.351788</td>\n",
       "      <td>20.623621</td>\n",
       "    </tr>\n",
       "    <tr>\n",
       "      <td>day_1_active</td>\n",
       "      <td>0.287832</td>\n",
       "      <td>0.338728</td>\n",
       "      <td>17.682652</td>\n",
       "    </tr>\n",
       "    <tr>\n",
       "      <td>day_1_active</td>\n",
       "      <td>0.268777</td>\n",
       "      <td>0.322785</td>\n",
       "      <td>20.093840</td>\n",
       "    </tr>\n",
       "    <tr>\n",
       "      <td>day_1_active</td>\n",
       "      <td>0.307161</td>\n",
       "      <td>0.355720</td>\n",
       "      <td>15.809040</td>\n",
       "    </tr>\n",
       "    <tr>\n",
       "      <td>...</td>\n",
       "      <td>...</td>\n",
       "      <td>...</td>\n",
       "      <td>...</td>\n",
       "    </tr>\n",
       "    <tr>\n",
       "      <td>day_1_active</td>\n",
       "      <td>0.299690</td>\n",
       "      <td>0.341407</td>\n",
       "      <td>13.919948</td>\n",
       "    </tr>\n",
       "    <tr>\n",
       "      <td>day_1_active</td>\n",
       "      <td>0.294154</td>\n",
       "      <td>0.345128</td>\n",
       "      <td>17.328947</td>\n",
       "    </tr>\n",
       "    <tr>\n",
       "      <td>day_1_active</td>\n",
       "      <td>0.314162</td>\n",
       "      <td>0.355081</td>\n",
       "      <td>13.024745</td>\n",
       "    </tr>\n",
       "    <tr>\n",
       "      <td>day_1_active</td>\n",
       "      <td>0.292459</td>\n",
       "      <td>0.357974</td>\n",
       "      <td>22.401725</td>\n",
       "    </tr>\n",
       "    <tr>\n",
       "      <td>day_1_active</td>\n",
       "      <td>0.293719</td>\n",
       "      <td>0.351304</td>\n",
       "      <td>19.605505</td>\n",
       "    </tr>\n",
       "  </tbody>\n",
       "</table>\n",
       "<p>9996 rows × 3 columns</p>\n",
       "</div>"
      ],
      "text/plain": [
       "version        control  treatment       diff\n",
       "day_1_active  0.317058   0.357019  12.603674\n",
       "day_1_active  0.291641   0.351788  20.623621\n",
       "day_1_active  0.287832   0.338728  17.682652\n",
       "day_1_active  0.268777   0.322785  20.093840\n",
       "day_1_active  0.307161   0.355720  15.809040\n",
       "...                ...        ...        ...\n",
       "day_1_active  0.299690   0.341407  13.919948\n",
       "day_1_active  0.294154   0.345128  17.328947\n",
       "day_1_active  0.314162   0.355081  13.024745\n",
       "day_1_active  0.292459   0.357974  22.401725\n",
       "day_1_active  0.293719   0.351304  19.605505\n",
       "\n",
       "[9996 rows x 3 columns]"
      ]
     },
     "execution_count": 25,
     "metadata": {},
     "output_type": "execute_result"
    }
   ],
   "source": [
    "boot_means[boot_means['diff'] > 0]"
   ]
  },
  {
   "cell_type": "code",
   "execution_count": 26,
   "metadata": {},
   "outputs": [
    {
     "data": {
      "text/plain": [
       "0.9996"
      ]
     },
     "execution_count": 26,
     "metadata": {},
     "output_type": "execute_result"
    }
   ],
   "source": [
    "# p value \n",
    "p = (boot_means['diff'] >0).sum()/len(boot_means)\n",
    "p"
   ]
  },
  {
   "cell_type": "markdown",
   "metadata": {},
   "source": [
    "# Conclusion 1: treatment has a better performance than the control on 1-day user retention 99.96% of the time."
   ]
  },
  {
   "cell_type": "markdown",
   "metadata": {},
   "source": [
    "# Metric 7: 7-day retention by AB-Group"
   ]
  },
  {
   "cell_type": "code",
   "execution_count": 37,
   "metadata": {},
   "outputs": [],
   "source": [
    "boot_7d = []\n",
    "\n",
    "for i in range(10000):\n",
    "    #set frac=1 --> sample all rows\n",
    "    boot_mean = final_data.sample(frac=1,replace=True).groupby('version')['day_7_active'].mean() \n",
    "    boot_7d.append(boot_mean)\n",
    "    \n",
    "boot_7d = pd.DataFrame(boot_7d)\n",
    "\n",
    "boot_7d['diff'] = (boot_7d['treatment'] - boot_7d['control'])/boot_7d['control'] *100"
   ]
  },
  {
   "cell_type": "code",
   "execution_count": 40,
   "metadata": {},
   "outputs": [
    {
     "data": {
      "text/plain": [
       "Text(0.5, 0, '% diff in means')"
      ]
     },
     "execution_count": 40,
     "metadata": {},
     "output_type": "execute_result"
    },
    {
     "data": {
      "image/png": "[encoded data removed]",
      "text/plain": [
       "<Figure size 432x288 with 1 Axes>"
      ]
     },
     "metadata": {
      "needs_background": "light"
     },
     "output_type": "display_data"
    }
   ],
   "source": [
    "# Ploting the bootstrap % difference\n",
    "ax = boot_7d['diff'].plot(kind = 'kde')\n",
    "ax.set_xlabel(\"% diff in means\")"
   ]
  },
  {
   "cell_type": "code",
   "execution_count": 41,
   "metadata": {},
   "outputs": [
    {
     "data": {
      "text/plain": [
       "0.9983"
      ]
     },
     "execution_count": 41,
     "metadata": {},
     "output_type": "execute_result"
    }
   ],
   "source": [
    "# Calculating the probability that 7-day retention is greater when the gate is at level 30\n",
    "p = (boot_7d['diff']>0).sum()/len(boot_7d)\n",
    "\n",
    "1-p"
   ]
  },
  {
   "cell_type": "markdown",
   "metadata": {},
   "source": [
    "# Conclusion 2: control has a better performance than the treatment on 7-day user retention 99.89% of the time."
   ]
  },
  {
   "cell_type": "markdown",
   "metadata": {},
   "source": [
    "## After double-checking with the true parameters, these two estimates are unbiased estimates."
   ]
  }
 ],
 "metadata": {
  "kernelspec": {
   "display_name": "Python 3",
   "language": "python",
   "name": "python3"
  },
  "language_info": {
   "codemirror_mode": {
    "name": "ipython",
    "version": 3
   },
   "file_extension": ".py",
   "mimetype": "text/x-python",
   "name": "python",
   "nbconvert_exporter": "python",
   "pygments_lexer": "ipython3",
   "version": "3.7.4"
  }
 },
 "nbformat": 4,
 "nbformat_minor": 2
}
